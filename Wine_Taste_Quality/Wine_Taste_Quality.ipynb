{
 "cells": [
  {
   "cell_type": "code",
   "execution_count": 1,
   "metadata": {
    "collapsed": true
   },
   "outputs": [],
   "source": [
    "from __future__ import division\n",
    "import pandas as pd\n",
    "import numpy as np\n",
    "import matplotlib.pyplot as plt\n",
    "from pylab import *\n",
    "from sklearn.cross_validation import cross_val_predict\n",
    "from sklearn.preprocessing import StandardScaler\n",
    "from sklearn.linear_model import LinearRegression\n",
    "from sklearn.linear_model import SGDRegressor\n",
    "from sklearn.linear_model import Ridge\n",
    "from sklearn.linear_model import Lasso\n",
    "from sklearn.linear_model import ElasticNet\n",
    "from sklearn.grid_search import GridSearchCV\n",
    "import statsmodels.api as sm\n",
    "from functools import partial\n",
    "%matplotlib inline"
   ]
  },
  {
   "cell_type": "code",
   "execution_count": 2,
   "metadata": {
    "collapsed": true
   },
   "outputs": [],
   "source": [
    "def predict(x_i, beta):\n",
    "    return np.dot(x_i, beta)\n",
    "\n",
    "def regr_error(x_i, y_i, beta):\n",
    "    return y_i - predict(x_i, beta)\n",
    "\n",
    "def calc_pred_vals(list_of_rows, list_of_betas, intercept=0):\n",
    "    pred_vals = []\n",
    "    for i in range(len(list_of_rows)):\n",
    "        pred_val = intercept + predict(list_of_rows[i], list_of_betas)\n",
    "        pred_vals.append(pred_val)\n",
    "    return pred_vals\n",
    "\n",
    "# rmse calculation\n",
    "def calc_rmse(preds, target):\n",
    "    errors, squared_error = [], []\n",
    "    for i in range(len(target)):\n",
    "        errors.append(target[i] - preds[i])\n",
    "    for error in errors:\n",
    "        squared_error.append(error**2)\n",
    "    mse = sum(squared_error)/len(squared_error)\n",
    "    rmse = np.sqrt(mse)\n",
    "    return rmse\n",
    "\n",
    "# convert continous values to discrete\n",
    "def round_prediction(predicted_values):\n",
    "    preds = []\n",
    "    for i in range(len(predicted_values)):\n",
    "        pred_val = predicted_values[i]\n",
    "        if pred_val < 0.5: preds.append(0)\n",
    "        elif pred_val >= 0.5 and pred_val < 1.5: preds.append(1)\n",
    "        elif pred_val >= 1.5 and pred_val < 2.5: preds.append(2)\n",
    "        elif pred_val >= 2.5 and pred_val < 3.5: preds.append(3)\n",
    "        elif pred_val >= 3.5 and pred_val < 4.5: preds.append(4)\n",
    "        elif pred_val >= 4.5 and pred_val < 5.5: preds.append(5)\n",
    "        elif pred_val >= 5.5 and pred_val < 6.5: preds.append(6)\n",
    "        elif pred_val >= 6.5 and pred_val < 7.5: preds.append(7)\n",
    "        elif pred_val >= 7.5 and pred_val < 8.5: preds.append(8)\n",
    "        elif pred_val >= 8.5 and pred_val < 9.5: preds.append(9)\n",
    "        elif pred_val >= 9.5: preds.append(10)\n",
    "        else: print 'check predicted value'\n",
    "    return preds\n",
    "\n",
    "#return a list of list of confusion matrix entries\n",
    "def confusion_entries(num_rows, preds, targets):\n",
    "    A = [[0 for j in range(num_rows)] for i in range(num_rows)]\n",
    "    #outer loop iterates through each target and prediction \n",
    "    for i in range(len(targets)): \n",
    "        pred, target = preds[i], targets[i]\n",
    "        #inner loop iterates through each cell in the confusion matrix\n",
    "        for j in range(num_rows): \n",
    "            for k in range(num_rows):\n",
    "                #there will be one match in each inner iteration\n",
    "                if target==j and pred==k: \n",
    "                    #increment value in cell when match is found\n",
    "                    A[j][k] += 1  \n",
    "    return A\n",
    "\n",
    "# create dataframe for model coefficients\n",
    "def make_df(betas, attributes, ix, intercept=0):\n",
    "    new_beta_list, new_columns = [], []\n",
    "    new_columns.append('intercept')\n",
    "    new_beta_list.append(round(intercept, 5))\n",
    "    for i in range(len(betas)):\n",
    "        new_columns.append(attributes[i])\n",
    "        beta = betas[i]\n",
    "        new_beta_list.append(round(beta, 5))\n",
    "    new_df = pd.DataFrame(new_beta_list, index=new_columns, columns=ix).T\n",
    "    return new_df\n",
    "\n",
    "# return requested columns of dataset - used in stepwise algorithm\n",
    "def x_features_cols(dataset, features):\n",
    "    x_out = []\n",
    "    for row in dataset:\n",
    "        x_out.append([row[i] for i in features])\n",
    "    return(x_out)\n",
    "\n",
    "# scale a row of features' values given as input for a predicted value\n",
    "# receive 3 lists (row of inputs, original means & stds for each feature)\n",
    "def scale_vals(row, orig_mean, orig_std):\n",
    "    scaled_row = []\n",
    "    for i in range(len(row)):\n",
    "        scaled_value = (row[i] - orig_mean[i]) / orig_std[i]\n",
    "        scaled_row.append(scaled_value)\n",
    "    return scaled_row\n",
    "\n",
    "#used in minimization function\n",
    "def in_random_order(data):    \n",
    "    indexes = [i for i, _ in enumerate(data)]\n",
    "    random.shuffle(indexes)\n",
    "    for i in indexes: \n",
    "        yield data[i]"
   ]
  },
  {
   "cell_type": "code",
   "execution_count": 3,
   "metadata": {
    "collapsed": true
   },
   "outputs": [],
   "source": [
    "def model_details(name, preds, betas, intercept, feat_seq, targets, calc_acc=True):\n",
    "    \n",
    "    model_name = []         # local variable\n",
    "    model_name.append(name) # column in coeff dataframe (must be in list format) \n",
    "    modl_name.append(name)  # global variable for model scoring dataframe\n",
    "    \n",
    "    # store rms error\n",
    "    rms_error = calc_rmse(preds, targets)\n",
    "    rmse.append(rms_error)\n",
    "    \n",
    "    # store dataframe of model's beta coefficients \n",
    "    df_coeff = make_df(betas, feat_seq, model_name, intercept)\n",
    "    df_beta_coefs.append(df_coeff) \n",
    "    \n",
    "    # calculate accuracy & store confusion matrix, unless labels are scaled\n",
    "    if calc_acc:\n",
    "        actual_ix = ['A0', 'A1', 'A2', 'A3', 'A4', 'A5', 'A6', 'A7', 'A8', 'A9', 'A10']\n",
    "        pred_ix = ['P0', 'P1', 'P2', 'P3', 'P4', 'P5', 'P6', 'P7', 'P8', 'P9', 'P10']\n",
    "        rounded_preds = round_prediction(preds)\n",
    "        con_mat = confusion_entries(len(pred_ix), rounded_preds, targets)\n",
    "        cmat = pd.DataFrame(con_mat, index=actual_ix, columns=pred_ix)\n",
    "        #delete columns with no results\n",
    "        del cmat['P0']; del cmat['P1']; del cmat['P2']; del cmat['P9']; del cmat['P10']\n",
    "        cmat = cmat.ix[3:] # delete rows 0, 1 & 2 since there are no results\n",
    "        cmat = cmat.ix[:6] # delete last 2 rows since there are no results for 9 & 10\n",
    "        #add column\n",
    "        cmat['Total']=cmat['P3']+cmat['P4']+cmat['P5']+cmat['P6']+cmat['P7']+cmat['P8']\n",
    "        #calculate accuracy (denominator should equal total number of rows in dataset)\n",
    "        sum_total = cmat['Total'].sum()\n",
    "        # add along diagonal for true positives (numerator) \n",
    "        tp = cmat.iloc[0]['P3']+cmat.iloc[1]['P4']+cmat.iloc[2]['P5']+cmat.iloc[3]['P6'] +\\\n",
    "        cmat.iloc[4]['P7'] + cmat.iloc[5]['P8']\n",
    "        acc = tp / sum_total\n",
    "        cmats.append(cmat)\n",
    "        cmat_sum.append(sum_total)\n",
    "        accuracy.append(acc)        \n",
    "    else:\n",
    "        cmats.append('n/a, labels are scaled')\n",
    "        cmat_sum.append('n/a, labels are scaled')\n",
    "        accuracy.append('n/a, labels are scaled')"
   ]
  },
  {
   "cell_type": "code",
   "execution_count": 4,
   "metadata": {
    "collapsed": false
   },
   "outputs": [
    {
     "name": "stdout",
     "output_type": "stream",
     "text": [
      "df.shape (1599, 12)\n"
     ]
    },
    {
     "data": {
      "text/html": [
       "<div>\n",
       "<table border=\"1\" class=\"dataframe\">\n",
       "  <thead>\n",
       "    <tr style=\"text-align: right;\">\n",
       "      <th></th>\n",
       "      <th>fixed acidity</th>\n",
       "      <th>volatile acidity</th>\n",
       "      <th>citric acid</th>\n",
       "      <th>residual sugar</th>\n",
       "      <th>chlorides</th>\n",
       "      <th>free sulfur dioxide</th>\n",
       "      <th>total sulfur dioxide</th>\n",
       "      <th>density</th>\n",
       "      <th>pH</th>\n",
       "      <th>sulphates</th>\n",
       "      <th>alcohol</th>\n",
       "      <th>quality</th>\n",
       "    </tr>\n",
       "  </thead>\n",
       "  <tbody>\n",
       "    <tr>\n",
       "      <th>0</th>\n",
       "      <td>7.4</td>\n",
       "      <td>0.70</td>\n",
       "      <td>0.00</td>\n",
       "      <td>1.9</td>\n",
       "      <td>0.076</td>\n",
       "      <td>11.0</td>\n",
       "      <td>34.0</td>\n",
       "      <td>0.9978</td>\n",
       "      <td>3.51</td>\n",
       "      <td>0.56</td>\n",
       "      <td>9.4</td>\n",
       "      <td>5</td>\n",
       "    </tr>\n",
       "    <tr>\n",
       "      <th>1</th>\n",
       "      <td>7.8</td>\n",
       "      <td>0.88</td>\n",
       "      <td>0.00</td>\n",
       "      <td>2.6</td>\n",
       "      <td>0.098</td>\n",
       "      <td>25.0</td>\n",
       "      <td>67.0</td>\n",
       "      <td>0.9968</td>\n",
       "      <td>3.20</td>\n",
       "      <td>0.68</td>\n",
       "      <td>9.8</td>\n",
       "      <td>5</td>\n",
       "    </tr>\n",
       "    <tr>\n",
       "      <th>2</th>\n",
       "      <td>7.8</td>\n",
       "      <td>0.76</td>\n",
       "      <td>0.04</td>\n",
       "      <td>2.3</td>\n",
       "      <td>0.092</td>\n",
       "      <td>15.0</td>\n",
       "      <td>54.0</td>\n",
       "      <td>0.9970</td>\n",
       "      <td>3.26</td>\n",
       "      <td>0.65</td>\n",
       "      <td>9.8</td>\n",
       "      <td>5</td>\n",
       "    </tr>\n",
       "    <tr>\n",
       "      <th>3</th>\n",
       "      <td>11.2</td>\n",
       "      <td>0.28</td>\n",
       "      <td>0.56</td>\n",
       "      <td>1.9</td>\n",
       "      <td>0.075</td>\n",
       "      <td>17.0</td>\n",
       "      <td>60.0</td>\n",
       "      <td>0.9980</td>\n",
       "      <td>3.16</td>\n",
       "      <td>0.58</td>\n",
       "      <td>9.8</td>\n",
       "      <td>6</td>\n",
       "    </tr>\n",
       "    <tr>\n",
       "      <th>4</th>\n",
       "      <td>7.4</td>\n",
       "      <td>0.70</td>\n",
       "      <td>0.00</td>\n",
       "      <td>1.9</td>\n",
       "      <td>0.076</td>\n",
       "      <td>11.0</td>\n",
       "      <td>34.0</td>\n",
       "      <td>0.9978</td>\n",
       "      <td>3.51</td>\n",
       "      <td>0.56</td>\n",
       "      <td>9.4</td>\n",
       "      <td>5</td>\n",
       "    </tr>\n",
       "  </tbody>\n",
       "</table>\n",
       "</div>"
      ],
      "text/plain": [
       "   fixed acidity  volatile acidity  citric acid  residual sugar  chlorides  \\\n",
       "0            7.4              0.70         0.00             1.9      0.076   \n",
       "1            7.8              0.88         0.00             2.6      0.098   \n",
       "2            7.8              0.76         0.04             2.3      0.092   \n",
       "3           11.2              0.28         0.56             1.9      0.075   \n",
       "4            7.4              0.70         0.00             1.9      0.076   \n",
       "\n",
       "   free sulfur dioxide  total sulfur dioxide  density    pH  sulphates  \\\n",
       "0                 11.0                  34.0   0.9978  3.51       0.56   \n",
       "1                 25.0                  67.0   0.9968  3.20       0.68   \n",
       "2                 15.0                  54.0   0.9970  3.26       0.65   \n",
       "3                 17.0                  60.0   0.9980  3.16       0.58   \n",
       "4                 11.0                  34.0   0.9978  3.51       0.56   \n",
       "\n",
       "   alcohol  quality  \n",
       "0      9.4        5  \n",
       "1      9.8        5  \n",
       "2      9.8        5  \n",
       "3      9.8        6  \n",
       "4      9.4        5  "
      ]
     },
     "execution_count": 4,
     "metadata": {},
     "output_type": "execute_result"
    }
   ],
   "source": [
    "#load features into dataframe\n",
    "target_url = (\"http://archive.ics.uci.edu/ml/machine-learning-databases/wine-quality/winequality-red.csv\")\n",
    "df = pd.read_csv(target_url,header=0, sep=\";\")\n",
    "print 'df.shape', df.shape\n",
    "df.head()"
   ]
  },
  {
   "cell_type": "code",
   "execution_count": 5,
   "metadata": {
    "collapsed": false
   },
   "outputs": [
    {
     "data": {
      "text/html": [
       "<div>\n",
       "<table border=\"1\" class=\"dataframe\">\n",
       "  <thead>\n",
       "    <tr style=\"text-align: right;\">\n",
       "      <th></th>\n",
       "      <th>fixed acidity (0)</th>\n",
       "      <th>volatile acidity (1)</th>\n",
       "      <th>citric acid (2)</th>\n",
       "      <th>residual sugar (3)</th>\n",
       "      <th>chlorides (4)</th>\n",
       "      <th>free sulfur dioxide (5)</th>\n",
       "      <th>total sulfur dioxide (6)</th>\n",
       "      <th>density (7)</th>\n",
       "      <th>pH (8)</th>\n",
       "      <th>sulphates (9)</th>\n",
       "      <th>alcohol (10)</th>\n",
       "      <th>target</th>\n",
       "    </tr>\n",
       "  </thead>\n",
       "  <tbody>\n",
       "    <tr>\n",
       "      <th>0</th>\n",
       "      <td>7.4</td>\n",
       "      <td>0.70</td>\n",
       "      <td>0.00</td>\n",
       "      <td>1.9</td>\n",
       "      <td>0.076</td>\n",
       "      <td>11.0</td>\n",
       "      <td>34.0</td>\n",
       "      <td>0.9978</td>\n",
       "      <td>3.51</td>\n",
       "      <td>0.56</td>\n",
       "      <td>9.4</td>\n",
       "      <td>5</td>\n",
       "    </tr>\n",
       "    <tr>\n",
       "      <th>1</th>\n",
       "      <td>7.8</td>\n",
       "      <td>0.88</td>\n",
       "      <td>0.00</td>\n",
       "      <td>2.6</td>\n",
       "      <td>0.098</td>\n",
       "      <td>25.0</td>\n",
       "      <td>67.0</td>\n",
       "      <td>0.9968</td>\n",
       "      <td>3.20</td>\n",
       "      <td>0.68</td>\n",
       "      <td>9.8</td>\n",
       "      <td>5</td>\n",
       "    </tr>\n",
       "    <tr>\n",
       "      <th>2</th>\n",
       "      <td>7.8</td>\n",
       "      <td>0.76</td>\n",
       "      <td>0.04</td>\n",
       "      <td>2.3</td>\n",
       "      <td>0.092</td>\n",
       "      <td>15.0</td>\n",
       "      <td>54.0</td>\n",
       "      <td>0.9970</td>\n",
       "      <td>3.26</td>\n",
       "      <td>0.65</td>\n",
       "      <td>9.8</td>\n",
       "      <td>5</td>\n",
       "    </tr>\n",
       "    <tr>\n",
       "      <th>3</th>\n",
       "      <td>11.2</td>\n",
       "      <td>0.28</td>\n",
       "      <td>0.56</td>\n",
       "      <td>1.9</td>\n",
       "      <td>0.075</td>\n",
       "      <td>17.0</td>\n",
       "      <td>60.0</td>\n",
       "      <td>0.9980</td>\n",
       "      <td>3.16</td>\n",
       "      <td>0.58</td>\n",
       "      <td>9.8</td>\n",
       "      <td>6</td>\n",
       "    </tr>\n",
       "    <tr>\n",
       "      <th>4</th>\n",
       "      <td>7.4</td>\n",
       "      <td>0.70</td>\n",
       "      <td>0.00</td>\n",
       "      <td>1.9</td>\n",
       "      <td>0.076</td>\n",
       "      <td>11.0</td>\n",
       "      <td>34.0</td>\n",
       "      <td>0.9978</td>\n",
       "      <td>3.51</td>\n",
       "      <td>0.56</td>\n",
       "      <td>9.4</td>\n",
       "      <td>5</td>\n",
       "    </tr>\n",
       "  </tbody>\n",
       "</table>\n",
       "</div>"
      ],
      "text/plain": [
       "   fixed acidity (0)  volatile acidity (1)  citric acid (2)  \\\n",
       "0                7.4                  0.70             0.00   \n",
       "1                7.8                  0.88             0.00   \n",
       "2                7.8                  0.76             0.04   \n",
       "3               11.2                  0.28             0.56   \n",
       "4                7.4                  0.70             0.00   \n",
       "\n",
       "   residual sugar (3)  chlorides (4)  free sulfur dioxide (5)  \\\n",
       "0                 1.9          0.076                     11.0   \n",
       "1                 2.6          0.098                     25.0   \n",
       "2                 2.3          0.092                     15.0   \n",
       "3                 1.9          0.075                     17.0   \n",
       "4                 1.9          0.076                     11.0   \n",
       "\n",
       "   total sulfur dioxide (6)  density (7)  pH (8)  sulphates (9)  alcohol (10)  \\\n",
       "0                      34.0       0.9978    3.51           0.56           9.4   \n",
       "1                      67.0       0.9968    3.20           0.68           9.8   \n",
       "2                      54.0       0.9970    3.26           0.65           9.8   \n",
       "3                      60.0       0.9980    3.16           0.58           9.8   \n",
       "4                      34.0       0.9978    3.51           0.56           9.4   \n",
       "\n",
       "   target  \n",
       "0       5  \n",
       "1       5  \n",
       "2       5  \n",
       "3       6  \n",
       "4       5  "
      ]
     },
     "execution_count": 5,
     "metadata": {},
     "output_type": "execute_result"
    }
   ],
   "source": [
    "df.columns = ['fixed acidity (0)', 'volatile acidity (1)', 'citric acid (2)', \n",
    "              'residual sugar (3)', 'chlorides (4)', 'free sulfur dioxide (5)', \n",
    "              'total sulfur dioxide (6)', 'density (7)', 'pH (8)', 'sulphates (9)', \n",
    "              'alcohol (10)', 'target']\n",
    "df.head()"
   ]
  },
  {
   "cell_type": "markdown",
   "metadata": {},
   "source": [
    "Additional data formats used in algorithms"
   ]
  },
  {
   "cell_type": "code",
   "execution_count": 6,
   "metadata": {
    "collapsed": false
   },
   "outputs": [],
   "source": [
    "# list of lists of 11 features, excluding labels\n",
    "x_list = np.array(df[list(df.columns)[:-1]]).tolist()\n",
    "\n",
    "# list of labels\n",
    "labels = df['target'].tolist()"
   ]
  },
  {
   "cell_type": "markdown",
   "metadata": {},
   "source": [
    "Scaled data used in algorithms & plots"
   ]
  },
  {
   "cell_type": "code",
   "execution_count": 7,
   "metadata": {
    "collapsed": true
   },
   "outputs": [],
   "source": [
    "# array of 12 features, scaled\n",
    "dfvals = df.values\n",
    "data_scaled = StandardScaler().fit_transform(dfvals)\n",
    "\n",
    "# dataframe of 11 features, scaled\n",
    "# list of lables, scaled\n",
    "df_scaled = pd.DataFrame(data_scaled, columns=df.columns)\n",
    "labels_scaled = df_scaled['target'].tolist()\n",
    "del df_scaled['target']\n",
    "\n",
    "# list of lists of 11 features, scaled\n",
    "x_scaled = np.array(df_scaled).tolist()"
   ]
  },
  {
   "cell_type": "code",
   "execution_count": 8,
   "metadata": {
    "collapsed": false
   },
   "outputs": [
    {
     "data": {
      "text/html": [
       "<div>\n",
       "<table border=\"1\" class=\"dataframe\">\n",
       "  <thead>\n",
       "    <tr style=\"text-align: right;\">\n",
       "      <th></th>\n",
       "      <th>fixed acidity (0)</th>\n",
       "      <th>volatile acidity (1)</th>\n",
       "      <th>citric acid (2)</th>\n",
       "      <th>residual sugar (3)</th>\n",
       "      <th>chlorides (4)</th>\n",
       "      <th>free sulfur dioxide (5)</th>\n",
       "      <th>total sulfur dioxide (6)</th>\n",
       "      <th>density (7)</th>\n",
       "      <th>pH (8)</th>\n",
       "      <th>sulphates (9)</th>\n",
       "      <th>alcohol (10)</th>\n",
       "      <th>target</th>\n",
       "    </tr>\n",
       "  </thead>\n",
       "  <tbody>\n",
       "    <tr>\n",
       "      <th>count</th>\n",
       "      <td>1599.000000</td>\n",
       "      <td>1599.000000</td>\n",
       "      <td>1599.000000</td>\n",
       "      <td>1599.000000</td>\n",
       "      <td>1599.000000</td>\n",
       "      <td>1599.000000</td>\n",
       "      <td>1599.000000</td>\n",
       "      <td>1599.000000</td>\n",
       "      <td>1599.000000</td>\n",
       "      <td>1599.000000</td>\n",
       "      <td>1599.000000</td>\n",
       "      <td>1599.000000</td>\n",
       "    </tr>\n",
       "    <tr>\n",
       "      <th>mean</th>\n",
       "      <td>8.319637</td>\n",
       "      <td>0.527821</td>\n",
       "      <td>0.270976</td>\n",
       "      <td>2.538806</td>\n",
       "      <td>0.087467</td>\n",
       "      <td>15.874922</td>\n",
       "      <td>46.467792</td>\n",
       "      <td>0.996747</td>\n",
       "      <td>3.311113</td>\n",
       "      <td>0.658149</td>\n",
       "      <td>10.422983</td>\n",
       "      <td>5.636023</td>\n",
       "    </tr>\n",
       "    <tr>\n",
       "      <th>std</th>\n",
       "      <td>1.741096</td>\n",
       "      <td>0.179060</td>\n",
       "      <td>0.194801</td>\n",
       "      <td>1.409928</td>\n",
       "      <td>0.047065</td>\n",
       "      <td>10.460157</td>\n",
       "      <td>32.895324</td>\n",
       "      <td>0.001887</td>\n",
       "      <td>0.154386</td>\n",
       "      <td>0.169507</td>\n",
       "      <td>1.065668</td>\n",
       "      <td>0.807569</td>\n",
       "    </tr>\n",
       "    <tr>\n",
       "      <th>min</th>\n",
       "      <td>4.600000</td>\n",
       "      <td>0.120000</td>\n",
       "      <td>0.000000</td>\n",
       "      <td>0.900000</td>\n",
       "      <td>0.012000</td>\n",
       "      <td>1.000000</td>\n",
       "      <td>6.000000</td>\n",
       "      <td>0.990070</td>\n",
       "      <td>2.740000</td>\n",
       "      <td>0.330000</td>\n",
       "      <td>8.400000</td>\n",
       "      <td>3.000000</td>\n",
       "    </tr>\n",
       "    <tr>\n",
       "      <th>25%</th>\n",
       "      <td>7.100000</td>\n",
       "      <td>0.390000</td>\n",
       "      <td>0.090000</td>\n",
       "      <td>1.900000</td>\n",
       "      <td>0.070000</td>\n",
       "      <td>7.000000</td>\n",
       "      <td>22.000000</td>\n",
       "      <td>0.995600</td>\n",
       "      <td>3.210000</td>\n",
       "      <td>0.550000</td>\n",
       "      <td>9.500000</td>\n",
       "      <td>5.000000</td>\n",
       "    </tr>\n",
       "    <tr>\n",
       "      <th>50%</th>\n",
       "      <td>7.900000</td>\n",
       "      <td>0.520000</td>\n",
       "      <td>0.260000</td>\n",
       "      <td>2.200000</td>\n",
       "      <td>0.079000</td>\n",
       "      <td>14.000000</td>\n",
       "      <td>38.000000</td>\n",
       "      <td>0.996750</td>\n",
       "      <td>3.310000</td>\n",
       "      <td>0.620000</td>\n",
       "      <td>10.200000</td>\n",
       "      <td>6.000000</td>\n",
       "    </tr>\n",
       "    <tr>\n",
       "      <th>75%</th>\n",
       "      <td>9.200000</td>\n",
       "      <td>0.640000</td>\n",
       "      <td>0.420000</td>\n",
       "      <td>2.600000</td>\n",
       "      <td>0.090000</td>\n",
       "      <td>21.000000</td>\n",
       "      <td>62.000000</td>\n",
       "      <td>0.997835</td>\n",
       "      <td>3.400000</td>\n",
       "      <td>0.730000</td>\n",
       "      <td>11.100000</td>\n",
       "      <td>6.000000</td>\n",
       "    </tr>\n",
       "    <tr>\n",
       "      <th>max</th>\n",
       "      <td>15.900000</td>\n",
       "      <td>1.580000</td>\n",
       "      <td>1.000000</td>\n",
       "      <td>15.500000</td>\n",
       "      <td>0.611000</td>\n",
       "      <td>72.000000</td>\n",
       "      <td>289.000000</td>\n",
       "      <td>1.003690</td>\n",
       "      <td>4.010000</td>\n",
       "      <td>2.000000</td>\n",
       "      <td>14.900000</td>\n",
       "      <td>8.000000</td>\n",
       "    </tr>\n",
       "  </tbody>\n",
       "</table>\n",
       "</div>"
      ],
      "text/plain": [
       "       fixed acidity (0)  volatile acidity (1)  citric acid (2)  \\\n",
       "count        1599.000000           1599.000000      1599.000000   \n",
       "mean            8.319637              0.527821         0.270976   \n",
       "std             1.741096              0.179060         0.194801   \n",
       "min             4.600000              0.120000         0.000000   \n",
       "25%             7.100000              0.390000         0.090000   \n",
       "50%             7.900000              0.520000         0.260000   \n",
       "75%             9.200000              0.640000         0.420000   \n",
       "max            15.900000              1.580000         1.000000   \n",
       "\n",
       "       residual sugar (3)  chlorides (4)  free sulfur dioxide (5)  \\\n",
       "count         1599.000000    1599.000000              1599.000000   \n",
       "mean             2.538806       0.087467                15.874922   \n",
       "std              1.409928       0.047065                10.460157   \n",
       "min              0.900000       0.012000                 1.000000   \n",
       "25%              1.900000       0.070000                 7.000000   \n",
       "50%              2.200000       0.079000                14.000000   \n",
       "75%              2.600000       0.090000                21.000000   \n",
       "max             15.500000       0.611000                72.000000   \n",
       "\n",
       "       total sulfur dioxide (6)  density (7)       pH (8)  sulphates (9)  \\\n",
       "count               1599.000000  1599.000000  1599.000000    1599.000000   \n",
       "mean                  46.467792     0.996747     3.311113       0.658149   \n",
       "std                   32.895324     0.001887     0.154386       0.169507   \n",
       "min                    6.000000     0.990070     2.740000       0.330000   \n",
       "25%                   22.000000     0.995600     3.210000       0.550000   \n",
       "50%                   38.000000     0.996750     3.310000       0.620000   \n",
       "75%                   62.000000     0.997835     3.400000       0.730000   \n",
       "max                  289.000000     1.003690     4.010000       2.000000   \n",
       "\n",
       "       alcohol (10)       target  \n",
       "count   1599.000000  1599.000000  \n",
       "mean      10.422983     5.636023  \n",
       "std        1.065668     0.807569  \n",
       "min        8.400000     3.000000  \n",
       "25%        9.500000     5.000000  \n",
       "50%       10.200000     6.000000  \n",
       "75%       11.100000     6.000000  \n",
       "max       14.900000     8.000000  "
      ]
     },
     "execution_count": 8,
     "metadata": {},
     "output_type": "execute_result"
    }
   ],
   "source": [
    "stats = df.describe()\n",
    "stats"
   ]
  },
  {
   "cell_type": "code",
   "execution_count": 9,
   "metadata": {
    "collapsed": false
   },
   "outputs": [
    {
     "data": {
      "image/png": "[encoded data removed]",
      "text/plain": [
       "<matplotlib.figure.Figure at 0x1177d1d90>"
      ]
     },
     "metadata": {},
     "output_type": "display_data"
    }
   ],
   "source": [
    "boxplot(data_scaled)\n",
    "plt.xlabel(\"Attribute Index\")\n",
    "plt.ylabel((\"Quartile Ranges - Normalized \"))\n",
    "show() # run this cell prior to importing seaborn"
   ]
  },
  {
   "cell_type": "code",
   "execution_count": 10,
   "metadata": {
    "collapsed": false
   },
   "outputs": [
    {
     "data": {
      "text/plain": [
       "<matplotlib.axes._subplots.AxesSubplot at 0x11b054310>"
      ]
     },
     "execution_count": 10,
     "metadata": {},
     "output_type": "execute_result"
    },
    {
     "data": {
      "image/png": "[encoded data removed]",
      "text/plain": [
       "<matplotlib.figure.Figure at 0x11b042a90>"
      ]
     },
     "metadata": {},
     "output_type": "display_data"
    }
   ],
   "source": [
    "import seaborn as sns\n",
    "corr_matrx = df.corr()\n",
    "sns.heatmap(corr_matrx)"
   ]
  },
  {
   "cell_type": "code",
   "execution_count": 11,
   "metadata": {
    "collapsed": false
   },
   "outputs": [
    {
     "data": {
      "text/html": [
       "<div>\n",
       "<table border=\"1\" class=\"dataframe\">\n",
       "  <thead>\n",
       "    <tr style=\"text-align: right;\">\n",
       "      <th></th>\n",
       "      <th>fixAcid</th>\n",
       "      <th>volAcid</th>\n",
       "      <th>citAcid</th>\n",
       "      <th>resSugr</th>\n",
       "      <th>chlor</th>\n",
       "      <th>frSO2</th>\n",
       "      <th>totSO2</th>\n",
       "      <th>dens</th>\n",
       "      <th>pH</th>\n",
       "      <th>sulpha</th>\n",
       "      <th>alcohol</th>\n",
       "      <th>quality</th>\n",
       "    </tr>\n",
       "  </thead>\n",
       "  <tbody>\n",
       "    <tr>\n",
       "      <th>fixAcid</th>\n",
       "      <td>1.00</td>\n",
       "      <td>-0.26</td>\n",
       "      <td>0.67</td>\n",
       "      <td>0.11</td>\n",
       "      <td>0.09</td>\n",
       "      <td>-0.15</td>\n",
       "      <td>-0.11</td>\n",
       "      <td>0.67</td>\n",
       "      <td>-0.68</td>\n",
       "      <td>0.18</td>\n",
       "      <td>-0.06</td>\n",
       "      <td>0.12</td>\n",
       "    </tr>\n",
       "    <tr>\n",
       "      <th>volAcid</th>\n",
       "      <td>-0.26</td>\n",
       "      <td>1.00</td>\n",
       "      <td>-0.55</td>\n",
       "      <td>0.00</td>\n",
       "      <td>0.06</td>\n",
       "      <td>-0.01</td>\n",
       "      <td>0.08</td>\n",
       "      <td>0.02</td>\n",
       "      <td>0.23</td>\n",
       "      <td>-0.26</td>\n",
       "      <td>-0.20</td>\n",
       "      <td>-0.39</td>\n",
       "    </tr>\n",
       "    <tr>\n",
       "      <th>citAcid</th>\n",
       "      <td>0.67</td>\n",
       "      <td>-0.55</td>\n",
       "      <td>1.00</td>\n",
       "      <td>0.14</td>\n",
       "      <td>0.20</td>\n",
       "      <td>-0.06</td>\n",
       "      <td>0.04</td>\n",
       "      <td>0.36</td>\n",
       "      <td>-0.54</td>\n",
       "      <td>0.31</td>\n",
       "      <td>0.11</td>\n",
       "      <td>0.23</td>\n",
       "    </tr>\n",
       "    <tr>\n",
       "      <th>resSugr</th>\n",
       "      <td>0.11</td>\n",
       "      <td>0.00</td>\n",
       "      <td>0.14</td>\n",
       "      <td>1.00</td>\n",
       "      <td>0.06</td>\n",
       "      <td>0.19</td>\n",
       "      <td>0.20</td>\n",
       "      <td>0.36</td>\n",
       "      <td>-0.09</td>\n",
       "      <td>0.01</td>\n",
       "      <td>0.04</td>\n",
       "      <td>0.01</td>\n",
       "    </tr>\n",
       "    <tr>\n",
       "      <th>chlor</th>\n",
       "      <td>0.09</td>\n",
       "      <td>0.06</td>\n",
       "      <td>0.20</td>\n",
       "      <td>0.06</td>\n",
       "      <td>1.00</td>\n",
       "      <td>0.01</td>\n",
       "      <td>0.05</td>\n",
       "      <td>0.20</td>\n",
       "      <td>-0.27</td>\n",
       "      <td>0.37</td>\n",
       "      <td>-0.22</td>\n",
       "      <td>-0.13</td>\n",
       "    </tr>\n",
       "    <tr>\n",
       "      <th>frSO2</th>\n",
       "      <td>-0.15</td>\n",
       "      <td>-0.01</td>\n",
       "      <td>-0.06</td>\n",
       "      <td>0.19</td>\n",
       "      <td>0.01</td>\n",
       "      <td>1.00</td>\n",
       "      <td>0.67</td>\n",
       "      <td>-0.02</td>\n",
       "      <td>0.07</td>\n",
       "      <td>0.05</td>\n",
       "      <td>-0.07</td>\n",
       "      <td>-0.05</td>\n",
       "    </tr>\n",
       "    <tr>\n",
       "      <th>totSO2</th>\n",
       "      <td>-0.11</td>\n",
       "      <td>0.08</td>\n",
       "      <td>0.04</td>\n",
       "      <td>0.20</td>\n",
       "      <td>0.05</td>\n",
       "      <td>0.67</td>\n",
       "      <td>1.00</td>\n",
       "      <td>0.07</td>\n",
       "      <td>-0.07</td>\n",
       "      <td>0.04</td>\n",
       "      <td>-0.21</td>\n",
       "      <td>-0.19</td>\n",
       "    </tr>\n",
       "    <tr>\n",
       "      <th>dens</th>\n",
       "      <td>0.67</td>\n",
       "      <td>0.02</td>\n",
       "      <td>0.36</td>\n",
       "      <td>0.36</td>\n",
       "      <td>0.20</td>\n",
       "      <td>-0.02</td>\n",
       "      <td>0.07</td>\n",
       "      <td>1.00</td>\n",
       "      <td>-0.34</td>\n",
       "      <td>0.15</td>\n",
       "      <td>-0.50</td>\n",
       "      <td>-0.17</td>\n",
       "    </tr>\n",
       "    <tr>\n",
       "      <th>pH</th>\n",
       "      <td>-0.68</td>\n",
       "      <td>0.23</td>\n",
       "      <td>-0.54</td>\n",
       "      <td>-0.09</td>\n",
       "      <td>-0.27</td>\n",
       "      <td>0.07</td>\n",
       "      <td>-0.07</td>\n",
       "      <td>-0.34</td>\n",
       "      <td>1.00</td>\n",
       "      <td>-0.20</td>\n",
       "      <td>0.21</td>\n",
       "      <td>-0.06</td>\n",
       "    </tr>\n",
       "    <tr>\n",
       "      <th>sulpha</th>\n",
       "      <td>0.18</td>\n",
       "      <td>-0.26</td>\n",
       "      <td>0.31</td>\n",
       "      <td>0.01</td>\n",
       "      <td>0.37</td>\n",
       "      <td>0.05</td>\n",
       "      <td>0.04</td>\n",
       "      <td>0.15</td>\n",
       "      <td>-0.20</td>\n",
       "      <td>1.00</td>\n",
       "      <td>0.09</td>\n",
       "      <td>0.25</td>\n",
       "    </tr>\n",
       "    <tr>\n",
       "      <th>alcohol</th>\n",
       "      <td>-0.06</td>\n",
       "      <td>-0.20</td>\n",
       "      <td>0.11</td>\n",
       "      <td>0.04</td>\n",
       "      <td>-0.22</td>\n",
       "      <td>-0.07</td>\n",
       "      <td>-0.21</td>\n",
       "      <td>-0.50</td>\n",
       "      <td>0.21</td>\n",
       "      <td>0.09</td>\n",
       "      <td>1.00</td>\n",
       "      <td>0.48</td>\n",
       "    </tr>\n",
       "    <tr>\n",
       "      <th>quality</th>\n",
       "      <td>0.12</td>\n",
       "      <td>-0.39</td>\n",
       "      <td>0.23</td>\n",
       "      <td>0.01</td>\n",
       "      <td>-0.13</td>\n",
       "      <td>-0.05</td>\n",
       "      <td>-0.19</td>\n",
       "      <td>-0.17</td>\n",
       "      <td>-0.06</td>\n",
       "      <td>0.25</td>\n",
       "      <td>0.48</td>\n",
       "      <td>1.00</td>\n",
       "    </tr>\n",
       "  </tbody>\n",
       "</table>\n",
       "</div>"
      ],
      "text/plain": [
       "         fixAcid  volAcid  citAcid  resSugr  chlor  frSO2  totSO2  dens    pH  \\\n",
       "fixAcid     1.00    -0.26     0.67     0.11   0.09  -0.15   -0.11  0.67 -0.68   \n",
       "volAcid    -0.26     1.00    -0.55     0.00   0.06  -0.01    0.08  0.02  0.23   \n",
       "citAcid     0.67    -0.55     1.00     0.14   0.20  -0.06    0.04  0.36 -0.54   \n",
       "resSugr     0.11     0.00     0.14     1.00   0.06   0.19    0.20  0.36 -0.09   \n",
       "chlor       0.09     0.06     0.20     0.06   1.00   0.01    0.05  0.20 -0.27   \n",
       "frSO2      -0.15    -0.01    -0.06     0.19   0.01   1.00    0.67 -0.02  0.07   \n",
       "totSO2     -0.11     0.08     0.04     0.20   0.05   0.67    1.00  0.07 -0.07   \n",
       "dens        0.67     0.02     0.36     0.36   0.20  -0.02    0.07  1.00 -0.34   \n",
       "pH         -0.68     0.23    -0.54    -0.09  -0.27   0.07   -0.07 -0.34  1.00   \n",
       "sulpha      0.18    -0.26     0.31     0.01   0.37   0.05    0.04  0.15 -0.20   \n",
       "alcohol    -0.06    -0.20     0.11     0.04  -0.22  -0.07   -0.21 -0.50  0.21   \n",
       "quality     0.12    -0.39     0.23     0.01  -0.13  -0.05   -0.19 -0.17 -0.06   \n",
       "\n",
       "         sulpha  alcohol  quality  \n",
       "fixAcid    0.18    -0.06     0.12  \n",
       "volAcid   -0.26    -0.20    -0.39  \n",
       "citAcid    0.31     0.11     0.23  \n",
       "resSugr    0.01     0.04     0.01  \n",
       "chlor      0.37    -0.22    -0.13  \n",
       "frSO2      0.05    -0.07    -0.05  \n",
       "totSO2     0.04    -0.21    -0.19  \n",
       "dens       0.15    -0.50    -0.17  \n",
       "pH        -0.20     0.21    -0.06  \n",
       "sulpha     1.00     0.09     0.25  \n",
       "alcohol    0.09     1.00     0.48  \n",
       "quality    0.25     0.48     1.00  "
      ]
     },
     "execution_count": 11,
     "metadata": {},
     "output_type": "execute_result"
    }
   ],
   "source": [
    "short_col = ['fixAcid', 'volAcid', 'citAcid', 'resSugr', 'chlor', 'frSO2', 'totSO2', 'dens', \n",
    "             'pH', 'sulpha', 'alcohol', 'quality']\n",
    "cormat = np.array(corr_matrx).tolist()\n",
    "for i in range(len(cormat)):\n",
    "    for j in range(len(cormat)):\n",
    "        cormat[i][j] = round(cormat[i][j], 2)\n",
    "corr_matrx = pd.DataFrame(cormat, columns=short_col, index=short_col)\n",
    "corr_matrx"
   ]
  },
  {
   "cell_type": "code",
   "execution_count": 12,
   "metadata": {
    "collapsed": false
   },
   "outputs": [
    {
     "data": {
      "image/png": "[encoded data removed]",
      "text/plain": [
       "<matplotlib.figure.Figure at 0x11b2fdf10>"
      ]
     },
     "metadata": {},
     "output_type": "display_data"
    }
   ],
   "source": [
    "n_rows = len(df.index)\n",
    "n_data_cols = len(df.columns) - 1\n",
    "df_norm = pd.DataFrame(data_scaled, columns = short_col)\n",
    "for i in range(n_rows):\n",
    "    data_row = df_norm.iloc[i,1:n_data_cols]   # plot rows of data \n",
    "    norm_target = df_norm.iloc[i,n_data_cols]\n",
    "    labelColor = 1.0/(1.0 + np.exp(-norm_target))\n",
    "    data_row.plot(color=plt.cm.RdYlBu(labelColor), alpha=0.5)\n",
    "plt.xlabel(\"Attribute Index\")\n",
    "plt.ylabel((\"Attribute Values\"))\n",
    "plt.show()"
   ]
  },
  {
   "cell_type": "code",
   "execution_count": 13,
   "metadata": {
    "collapsed": false,
    "scrolled": false
   },
   "outputs": [
    {
     "data": {
      "text/plain": [
       "<matplotlib.text.Text at 0x119ff5f50>"
      ]
     },
     "execution_count": 13,
     "metadata": {},
     "output_type": "execute_result"
    },
    {
     "data": {
      "image/png": "[encoded data removed]",
      "text/plain": [
       "<matplotlib.figure.Figure at 0x11e453bd0>"
      ]
     },
     "metadata": {},
     "output_type": "display_data"
    },
    {
     "data": {
      "image/png": "[encoded data removed]",
      "text/plain": [
       "<matplotlib.figure.Figure at 0x100735310>"
      ]
     },
     "metadata": {},
     "output_type": "display_data"
    },
    {
     "data": {
      "image/png": "[encoded data removed]",
      "text/plain": [
       "<matplotlib.figure.Figure at 0x11b06a590>"
      ]
     },
     "metadata": {},
     "output_type": "display_data"
    },
    {
     "data": {
      "image/png": "[encoded data removed]",
      "text/plain": [
       "<matplotlib.figure.Figure at 0x11e8102d0>"
      ]
     },
     "metadata": {},
     "output_type": "display_data"
    },
    {
     "data": {
      "image/png": "[encoded data removed]",
      "text/plain": [
       "<matplotlib.figure.Figure at 0x11e868e90>"
      ]
     },
     "metadata": {},
     "output_type": "display_data"
    },
    {
     "data": {
      "image/png": "[encoded data removed]",
      "text/plain": [
       "<matplotlib.figure.Figure at 0x11a081990>"
      ]
     },
     "metadata": {},
     "output_type": "display_data"
    },
    {
     "data": {
      "image/png": "[encoded data removed]",
      "text/plain": [
       "<matplotlib.figure.Figure at 0x11dc3ae90>"
      ]
     },
     "metadata": {},
     "output_type": "display_data"
    },
    {
     "data": {
      "image/png": "[encoded data removed]",
      "text/plain": [
       "<matplotlib.figure.Figure at 0x119f7c8d0>"
      ]
     },
     "metadata": {},
     "output_type": "display_data"
    },
    {
     "data": {
      "image/png": "[encoded data removed]",
      "text/plain": [
       "<matplotlib.figure.Figure at 0x11d225310>"
      ]
     },
     "metadata": {},
     "output_type": "display_data"
    },
    {
     "data": {
      "image/png": "[encoded data removed]",
      "text/plain": [
       "<matplotlib.figure.Figure at 0x11d8e58d0>"
      ]
     },
     "metadata": {},
     "output_type": "display_data"
    },
    {
     "data": {
      "image/png": "[encoded data removed]",
      "text/plain": [
       "<matplotlib.figure.Figure at 0x11dceb350>"
      ]
     },
     "metadata": {},
     "output_type": "display_data"
    },
    {
     "data": {
      "image/png": "[encoded data removed]",
      "text/plain": [
       "<matplotlib.figure.Figure at 0x11d2d6550>"
      ]
     },
     "metadata": {},
     "output_type": "display_data"
    }
   ],
   "source": [
    "fa = df['fixed acidity (0)']\n",
    "va = df['volatile acidity (1)']\n",
    "ca = df['citric acid (2)']\n",
    "rs = df['residual sugar (3)']\n",
    "ch = df['chlorides (4)']\n",
    "fs = df['free sulfur dioxide (5)']\n",
    "ts = df['total sulfur dioxide (6)'] \n",
    "de = df['density (7)']\n",
    "ph = df['pH (8)'] \n",
    "su = df['sulphates (9)'] \n",
    "al = df['alcohol (10)']\n",
    "qu = df['target']\n",
    "\n",
    "fig1 = plt.figure()\n",
    "ax1 = fig1.add_subplot(2, 1, 1)\n",
    "n, bins, patches = ax1.hist(fa)\n",
    "ax1.set_xlabel('Fixed Acidity')\n",
    "ax1.set_ylabel('Frequency')\n",
    "\n",
    "fig2 = plt.figure()\n",
    "ax2 = fig2.add_subplot(2, 1, 1)\n",
    "n, bins, patches = ax2.hist(va)\n",
    "ax2.set_xlabel('Volatile Acidity')\n",
    "ax2.set_ylabel('Frequency')\n",
    "\n",
    "fig3 = plt.figure()\n",
    "ax3 = fig3.add_subplot(2, 1, 1)\n",
    "n, bins, patches = ax3.hist(ca)\n",
    "ax3.set_xlabel('Citric Acid')\n",
    "ax3.set_ylabel('Frequency')\n",
    "\n",
    "fig4 = plt.figure()\n",
    "ax4 = fig4.add_subplot(2, 1, 1)\n",
    "n, bins, patches = ax4.hist(rs)\n",
    "ax4.set_xlabel('Residual Sugar')\n",
    "ax4.set_ylabel('Frequency')\n",
    "\n",
    "fig5 = plt.figure()\n",
    "ax5 = fig5.add_subplot(2, 1, 1)\n",
    "n, bins, patches = ax5.hist(ch)\n",
    "ax5.set_xlabel('Chlorides')\n",
    "ax5.set_ylabel('Frequency')\n",
    "\n",
    "fig6 = plt.figure()\n",
    "ax6 = fig6.add_subplot(2, 1, 1)\n",
    "n, bins, patches = ax6.hist(fs)\n",
    "ax6.set_xlabel('Free Sulfur Dioxide')\n",
    "ax6.set_ylabel('Frequency')\n",
    "\n",
    "fig7 = plt.figure()\n",
    "ax7 = fig7.add_subplot(2, 1, 1)\n",
    "n, bins, patches = ax7.hist(ts)\n",
    "ax7.set_xlabel('Total Sulfur Dioxide')\n",
    "ax7.set_ylabel('Frequency')\n",
    "\n",
    "fig8 = plt.figure()\n",
    "ax8 = fig8.add_subplot(2, 1, 1)\n",
    "n, bins, patches = ax8.hist(de)\n",
    "ax8.set_xlabel('Density')\n",
    "ax8.set_ylabel('Frequency')\n",
    "\n",
    "fig9 = plt.figure()\n",
    "ax9 = fig9.add_subplot(2, 1, 1)\n",
    "n, bins, patches = ax9.hist(ph)\n",
    "ax9.set_xlabel('pH')\n",
    "ax9.set_ylabel('Frequency')\n",
    "\n",
    "fig10 = plt.figure()\n",
    "ax10 = fig10.add_subplot(2, 1, 1)\n",
    "n, bins, patches = ax10.hist(su)\n",
    "ax10.set_xlabel('Sulphates')\n",
    "ax10.set_ylabel('Frequency')\n",
    "\n",
    "fig11 = plt.figure()\n",
    "ax11 = fig11.add_subplot(2, 1, 1)\n",
    "n, bins, patches = ax11.hist(al)\n",
    "ax11.set_xlabel('Alcohol')\n",
    "ax11.set_ylabel('Frequency')\n",
    "\n",
    "fig12 = plt.figure()\n",
    "ax12 = fig12.add_subplot(2, 1, 1)\n",
    "n, bins, patches = ax12.hist(qu)\n",
    "ax12.set_xlabel('Taste')\n",
    "ax12.set_ylabel('Frequency')"
   ]
  },
  {
   "cell_type": "code",
   "execution_count": 14,
   "metadata": {
    "collapsed": false
   },
   "outputs": [
    {
     "data": {
      "text/html": [
       "<table class=\"simpletable\">\n",
       "<caption>OLS Regression Results</caption>\n",
       "<tr>\n",
       "  <th>Dep. Variable:</th>         <td>target</td>      <th>  R-squared:         </th> <td>   0.361</td> \n",
       "</tr>\n",
       "<tr>\n",
       "  <th>Model:</th>                   <td>OLS</td>       <th>  Adj. R-squared:    </th> <td>   0.356</td> \n",
       "</tr>\n",
       "<tr>\n",
       "  <th>Method:</th>             <td>Least Squares</td>  <th>  F-statistic:       </th> <td>   81.35</td> \n",
       "</tr>\n",
       "<tr>\n",
       "  <th>Date:</th>             <td>Mon, 14 Nov 2016</td> <th>  Prob (F-statistic):</th> <td>1.79e-145</td>\n",
       "</tr>\n",
       "<tr>\n",
       "  <th>Time:</th>                 <td>00:06:20</td>     <th>  Log-Likelihood:    </th> <td> -1569.1</td> \n",
       "</tr>\n",
       "<tr>\n",
       "  <th>No. Observations:</th>      <td>  1599</td>      <th>  AIC:               </th> <td>   3162.</td> \n",
       "</tr>\n",
       "<tr>\n",
       "  <th>Df Residuals:</th>          <td>  1587</td>      <th>  BIC:               </th> <td>   3227.</td> \n",
       "</tr>\n",
       "<tr>\n",
       "  <th>Df Model:</th>              <td>    11</td>      <th>                     </th>     <td> </td>    \n",
       "</tr>\n",
       "<tr>\n",
       "  <th>Covariance Type:</th>      <td>nonrobust</td>    <th>                     </th>     <td> </td>    \n",
       "</tr>\n",
       "</table>\n",
       "<table class=\"simpletable\">\n",
       "<tr>\n",
       "              <td></td>                <th>coef</th>     <th>std err</th>      <th>t</th>      <th>P>|t|</th> <th>[95.0% Conf. Int.]</th> \n",
       "</tr>\n",
       "<tr>\n",
       "  <th>const</th>                    <td>   21.9652</td> <td>   21.195</td> <td>    1.036</td> <td> 0.300</td> <td>  -19.607    63.538</td>\n",
       "</tr>\n",
       "<tr>\n",
       "  <th>fixed acidity (0)</th>        <td>    0.0250</td> <td>    0.026</td> <td>    0.963</td> <td> 0.336</td> <td>   -0.026     0.076</td>\n",
       "</tr>\n",
       "<tr>\n",
       "  <th>volatile acidity (1)</th>     <td>   -1.0836</td> <td>    0.121</td> <td>   -8.948</td> <td> 0.000</td> <td>   -1.321    -0.846</td>\n",
       "</tr>\n",
       "<tr>\n",
       "  <th>citric acid (2)</th>          <td>   -0.1826</td> <td>    0.147</td> <td>   -1.240</td> <td> 0.215</td> <td>   -0.471     0.106</td>\n",
       "</tr>\n",
       "<tr>\n",
       "  <th>residual sugar (3)</th>       <td>    0.0163</td> <td>    0.015</td> <td>    1.089</td> <td> 0.276</td> <td>   -0.013     0.046</td>\n",
       "</tr>\n",
       "<tr>\n",
       "  <th>chlorides (4)</th>            <td>   -1.8742</td> <td>    0.419</td> <td>   -4.470</td> <td> 0.000</td> <td>   -2.697    -1.052</td>\n",
       "</tr>\n",
       "<tr>\n",
       "  <th>free sulfur dioxide (5)</th>  <td>    0.0044</td> <td>    0.002</td> <td>    2.009</td> <td> 0.045</td> <td>    0.000     0.009</td>\n",
       "</tr>\n",
       "<tr>\n",
       "  <th>total sulfur dioxide (6)</th> <td>   -0.0033</td> <td>    0.001</td> <td>   -4.480</td> <td> 0.000</td> <td>   -0.005    -0.002</td>\n",
       "</tr>\n",
       "<tr>\n",
       "  <th>density (7)</th>              <td>  -17.8812</td> <td>   21.633</td> <td>   -0.827</td> <td> 0.409</td> <td>  -60.314    24.551</td>\n",
       "</tr>\n",
       "<tr>\n",
       "  <th>pH (8)</th>                   <td>   -0.4137</td> <td>    0.192</td> <td>   -2.159</td> <td> 0.031</td> <td>   -0.789    -0.038</td>\n",
       "</tr>\n",
       "<tr>\n",
       "  <th>sulphates (9)</th>            <td>    0.9163</td> <td>    0.114</td> <td>    8.014</td> <td> 0.000</td> <td>    0.692     1.141</td>\n",
       "</tr>\n",
       "<tr>\n",
       "  <th>alcohol (10)</th>             <td>    0.2762</td> <td>    0.026</td> <td>   10.429</td> <td> 0.000</td> <td>    0.224     0.328</td>\n",
       "</tr>\n",
       "</table>\n",
       "<table class=\"simpletable\">\n",
       "<tr>\n",
       "  <th>Omnibus:</th>       <td>27.376</td> <th>  Durbin-Watson:     </th> <td>   1.757</td>\n",
       "</tr>\n",
       "<tr>\n",
       "  <th>Prob(Omnibus):</th> <td> 0.000</td> <th>  Jarque-Bera (JB):  </th> <td>  40.965</td>\n",
       "</tr>\n",
       "<tr>\n",
       "  <th>Skew:</th>          <td>-0.168</td> <th>  Prob(JB):          </th> <td>1.27e-09</td>\n",
       "</tr>\n",
       "<tr>\n",
       "  <th>Kurtosis:</th>      <td> 3.708</td> <th>  Cond. No.          </th> <td>1.13e+05</td>\n",
       "</tr>\n",
       "</table>"
      ],
      "text/plain": [
       "<class 'statsmodels.iolib.summary.Summary'>\n",
       "\"\"\"\n",
       "                            OLS Regression Results                            \n",
       "==============================================================================\n",
       "Dep. Variable:                 target   R-squared:                       0.361\n",
       "Model:                            OLS   Adj. R-squared:                  0.356\n",
       "Method:                 Least Squares   F-statistic:                     81.35\n",
       "Date:                Mon, 14 Nov 2016   Prob (F-statistic):          1.79e-145\n",
       "Time:                        00:06:20   Log-Likelihood:                -1569.1\n",
       "No. Observations:                1599   AIC:                             3162.\n",
       "Df Residuals:                    1587   BIC:                             3227.\n",
       "Df Model:                          11                                         \n",
       "Covariance Type:            nonrobust                                         \n",
       "============================================================================================\n",
       "                               coef    std err          t      P>|t|      [95.0% Conf. Int.]\n",
       "--------------------------------------------------------------------------------------------\n",
       "const                       21.9652     21.195      1.036      0.300       -19.607    63.538\n",
       "fixed acidity (0)            0.0250      0.026      0.963      0.336        -0.026     0.076\n",
       "volatile acidity (1)        -1.0836      0.121     -8.948      0.000        -1.321    -0.846\n",
       "citric acid (2)             -0.1826      0.147     -1.240      0.215        -0.471     0.106\n",
       "residual sugar (3)           0.0163      0.015      1.089      0.276        -0.013     0.046\n",
       "chlorides (4)               -1.8742      0.419     -4.470      0.000        -2.697    -1.052\n",
       "free sulfur dioxide (5)      0.0044      0.002      2.009      0.045         0.000     0.009\n",
       "total sulfur dioxide (6)    -0.0033      0.001     -4.480      0.000        -0.005    -0.002\n",
       "density (7)                -17.8812     21.633     -0.827      0.409       -60.314    24.551\n",
       "pH (8)                      -0.4137      0.192     -2.159      0.031        -0.789    -0.038\n",
       "sulphates (9)                0.9163      0.114      8.014      0.000         0.692     1.141\n",
       "alcohol (10)                 0.2762      0.026     10.429      0.000         0.224     0.328\n",
       "==============================================================================\n",
       "Omnibus:                       27.376   Durbin-Watson:                   1.757\n",
       "Prob(Omnibus):                  0.000   Jarque-Bera (JB):               40.965\n",
       "Skew:                          -0.168   Prob(JB):                     1.27e-09\n",
       "Kurtosis:                       3.708   Cond. No.                     1.13e+05\n",
       "==============================================================================\n",
       "\n",
       "Warnings:\n",
       "[1] Standard Errors assume that the covariance matrix of the errors is correctly specified.\n",
       "[2] The condition number is large, 1.13e+05. This might indicate that there are\n",
       "strong multicollinearity or other numerical problems.\n",
       "\"\"\""
      ]
     },
     "execution_count": 14,
     "metadata": {},
     "output_type": "execute_result"
    }
   ],
   "source": [
    "x = df[list(df.columns)[:-1]]\n",
    "y = df['target']\n",
    "x = sm.add_constant(x)  #include intercept, since x is not scaled\n",
    "modl = sm.OLS(y, x).fit()  #y goes before x in statsmodels\n",
    "modl.summary()"
   ]
  },
  {
   "cell_type": "code",
   "execution_count": 16,
   "metadata": {
    "collapsed": false
   },
   "outputs": [
    {
     "data": {
      "text/plain": [
       "5    681\n",
       "6    638\n",
       "7    199\n",
       "4     53\n",
       "8     18\n",
       "3     10\n",
       "Name: target, dtype: int64"
      ]
     },
     "execution_count": 16,
     "metadata": {},
     "output_type": "execute_result"
    }
   ],
   "source": [
    "df.target.value_counts() "
   ]
  },
  {
   "cell_type": "markdown",
   "metadata": {},
   "source": [
    "## Models & Algorithms"
   ]
  },
  {
   "cell_type": "markdown",
   "metadata": {},
   "source": [
    "1.  Stepwise Algorithm <br>\n",
    "2.  Linear Regression <br>\n",
    "3.  Linear (Stepwise) Regr <br>\n",
    "4.  Gradient Descent, from scratch, x scaled <br>\n",
    "5.  Gradient Descent, sklearn, x scaled <br>\n",
    "6.  Gradient Descent 7 features, from scratch, x scaled <br>\n",
    "7.  Gradient Descent 7 features, sklearn, x scaled  <br>\n",
    "8.  Ridge, from scratch, x scaled, alphas <br>\n",
    "9.  Ridge, sklearn, alphas <br>\n",
    "10. Ridge alpha .0001, from scratch, x scaled <br> \n",
    "11. Ridge alpha 1, sklearn <br>\n",
    "12. Ridge 7 features, alpha .0001, from scratch, x scaled <br>\n",
    "13. Ridge 7 features, alpha 1, sklearn  <br>\n",
    "14. Lars Algorithm, from scratch <br>\n",
    "15. Lars, from scratch, xy scaled <br>\n",
    "16. Lasso, alphas, sklearn <br>\n",
    "17. Lasso alpha 0.01, sklearn, xy scaled <br> \n",
    "18. Lasso alpha 0.01, sklearn, x scaled <br> \n",
    "19. ElasticNet grid search for L1 ratio"
   ]
  },
  {
   "cell_type": "markdown",
   "metadata": {},
   "source": [
    "#### 1. Stepwise Algorithm "
   ]
  },
  {
   "cell_type": "code",
   "execution_count": 17,
   "metadata": {
    "collapsed": false
   },
   "outputs": [
    {
     "data": {
      "image/png": "[encoded data removed]",
      "text/plain": [
       "<matplotlib.figure.Figure at 0x11b450d10>"
      ]
     },
     "metadata": {},
     "output_type": "display_data"
    },
    {
     "name": "stdout",
     "output_type": "stream",
     "text": [
      "Out of sample error versus attribute set size\n",
      "[0.71422610507564765, 0.67015915718770025, 0.6658948255733077, 0.66210322905841368, 0.65894318547313158, 0.65710566704274365, 0.65655619653940922, 0.65708294716302151, 0.65787039535648484, 0.65887165001454129, 0.65966046088820485]\n",
      "\n",
      "Best attribute indices\n",
      "[10, 1, 9, 4, 6, 8, 5, 2, 3, 7, 0]\n",
      "\n",
      "Best attribute names\n",
      "['alcohol (10)', 'volatile acidity (1)', 'sulphates (9)', 'chlorides (4)', 'total sulfur dioxide (6)', 'pH (8)', 'free sulfur dioxide (5)', 'citric acid (2)', 'residual sugar (3)', 'density (7)', 'fixed acidity (0)']\n",
      "\n",
      "Rmse Results of Forward Stepwise Regression\n"
     ]
    },
    {
     "data": {
      "text/html": [
       "<div>\n",
       "<table border=\"1\" class=\"dataframe\">\n",
       "  <thead>\n",
       "    <tr style=\"text-align: right;\">\n",
       "      <th></th>\n",
       "      <th>alcohol (10)</th>\n",
       "      <th>volatile acidity (1)</th>\n",
       "      <th>sulphates (9)</th>\n",
       "      <th>chlorides (4)</th>\n",
       "      <th>total sulfur dioxide (6)</th>\n",
       "      <th>pH (8)</th>\n",
       "      <th>free sulfur dioxide (5)</th>\n",
       "      <th>citric acid (2)</th>\n",
       "      <th>residual sugar (3)</th>\n",
       "      <th>density (7)</th>\n",
       "      <th>fixed acidity (0)</th>\n",
       "    </tr>\n",
       "  </thead>\n",
       "  <tbody>\n",
       "    <tr>\n",
       "      <th>RMSE</th>\n",
       "      <td>0.714226</td>\n",
       "      <td>0.670159</td>\n",
       "      <td>0.665895</td>\n",
       "      <td>0.662103</td>\n",
       "      <td>0.658943</td>\n",
       "      <td>0.657106</td>\n",
       "      <td>0.656556</td>\n",
       "      <td>0.657083</td>\n",
       "      <td>0.65787</td>\n",
       "      <td>0.658872</td>\n",
       "      <td>0.65966</td>\n",
       "    </tr>\n",
       "  </tbody>\n",
       "</table>\n",
       "</div>"
      ],
      "text/plain": [
       "      alcohol (10)  volatile acidity (1)  sulphates (9)  chlorides (4)  \\\n",
       "RMSE      0.714226              0.670159       0.665895       0.662103   \n",
       "\n",
       "      total sulfur dioxide (6)    pH (8)  free sulfur dioxide (5)  \\\n",
       "RMSE                  0.658943  0.657106                 0.656556   \n",
       "\n",
       "      citric acid (2)  residual sugar (3)  density (7)  fixed acidity (0)  \n",
       "RMSE         0.657083             0.65787     0.658872            0.65966  "
      ]
     },
     "execution_count": 17,
     "metadata": {},
     "output_type": "execute_result"
    }
   ],
   "source": [
    "#index list positions \n",
    "index_positions = range(len(x_list))\n",
    "x_list_ = [x_list[i] for i in index_positions]\n",
    "y_ = [labels[i] for i in index_positions]\n",
    "\n",
    "#try each feature to see which one gives least oos error\n",
    "stepwise_indices = []\n",
    "indx = range(len(x_list_[1]))\n",
    "index_set = set(indx)\n",
    "oos_error = []\n",
    "for i in indx:\n",
    "    feature_set = set(stepwise_indices)\n",
    "    try_set = index_set - feature_set\n",
    "    try_list = [i for i in try_set]  \n",
    "    error_list, temp_list = [], []\n",
    "    for feat in try_list:  \n",
    "        temp_list = [] + stepwise_indices\n",
    "        temp_list.append(feat)\n",
    "        xTemp = x_features_cols(x_list_, temp_list) #add next feature to dataset\n",
    "        x_ = np.array(xTemp); y_ = np.array(y_)  #convert to numpy arrays\n",
    "        modl = LinearRegression()  \n",
    "        modl.fit(x_, y_)\n",
    "        step_preds = cross_val_predict(modl, x_, y_, cv=10) #make predictions\n",
    "        rms_error = calc_rmse(step_preds, y_)  #calculate errors\n",
    "        error_list.append(rms_error)\n",
    "        temp_list = []\n",
    "    iBest = np.argmin(error_list)\n",
    "    stepwise_indices.append(try_list[iBest])\n",
    "    oos_error.append(error_list[iBest])\n",
    "    \n",
    "#plot error versus number of attributes\n",
    "xaxis = range(len(oos_error))\n",
    "plt.plot(xaxis, oos_error, 'k')\n",
    "plt.xlabel('Number of Attributes')\n",
    "plt.ylabel('Error (RMS)')\n",
    "plt.show()\n",
    "\n",
    "print('Out of sample error versus attribute set size')\n",
    "print(oos_error)\n",
    "print('\\nBest attribute indices')\n",
    "print(stepwise_indices)\n",
    "stepwise_sequence = [df.columns[i] for i in stepwise_indices]\n",
    "print('\\nBest attribute names')\n",
    "print(stepwise_sequence)\n",
    "oos_rounded = []\n",
    "for i in oos_error:\n",
    "    oos_rounded.append(round(i,7))\n",
    "df_features = pd.DataFrame(zip(oos_rounded), index = stepwise_sequence, columns = ['RMSE'])\n",
    "print '\\nRmse Results of Forward Stepwise Regression'\n",
    "df_features.T"
   ]
  },
  {
   "cell_type": "markdown",
   "metadata": {
    "collapsed": true
   },
   "source": [
    "#### 2. Linear Regression "
   ]
  },
  {
   "cell_type": "code",
   "execution_count": 18,
   "metadata": {
    "collapsed": false
   },
   "outputs": [],
   "source": [
    "def run_linear_regr_2(x, y):\n",
    "    modl = LinearRegression()\n",
    "    modl.fit(x, y)\n",
    "    preds = cross_val_predict(modl, x, y, cv=10) #make predictions\n",
    "    model_details('Linear Regr', preds, modl.coef_, modl.intercept_, stepwise_sequence, y)"
   ]
  },
  {
   "cell_type": "markdown",
   "metadata": {},
   "source": [
    "#### 3. Linear (Stepwise) Regression "
   ]
  },
  {
   "cell_type": "code",
   "execution_count": 19,
   "metadata": {
    "collapsed": true
   },
   "outputs": [],
   "source": [
    "def run_stepwise_3(x, y):\n",
    "    modl = LinearRegression()\n",
    "    modl.fit(x, y)\n",
    "    preds = cross_val_predict(modl, x, y, cv=10) #make predictions\n",
    "    model_details('Linear (Stepwise) Regr', preds, modl.coef_, modl.intercept_, \n",
    "                  stepwise_sequence[0:7], y)"
   ]
  },
  {
   "cell_type": "markdown",
   "metadata": {},
   "source": [
    "#### 4. Gradient Descent, from scratch, x scaled "
   ]
  },
  {
   "cell_type": "code",
   "execution_count": 20,
   "metadata": {
    "collapsed": true
   },
   "outputs": [],
   "source": [
    "def minimize_stochastic(target_fn, gradient_fn, x, y, theta_0, alpha_0=0.01):\n",
    "    data = zip(x, y)\n",
    "    theta = theta_0   # theta-initial guess\n",
    "    alpha = alpha_0   # alpha-initial step size\n",
    "    min_theta = None  # the minimum so far\n",
    "    min_value = float(\"inf\") \n",
    "    iterations_with_no_improvement = 0\n",
    "    while iterations_with_no_improvement < 100: \n",
    "        value = sum(target_fn(x_i, y_i, theta) for x_i, y_i in data)\n",
    "        # if we've found a new minimum, remember it & go back to the original step size\n",
    "        if value < min_value: \n",
    "            min_theta = theta\n",
    "            min_value = value\n",
    "            iterations_with_no_improvement = 0\n",
    "            alpha = alpha_0\n",
    "        else:  # otherwise we're not improving, so try shrinking the step size\n",
    "            iterations_with_no_improvement += 1\n",
    "            alpha *= 0.9\n",
    "        for x_i, y_i in in_random_order(data):\n",
    "            # and take a gradient step for each of the data points\n",
    "            gradient_i = gradient_fn(x_i, y_i, theta)\n",
    "            theta = np.subtract(theta, np.multiply(alpha, gradient_i)) \n",
    "    return min_theta"
   ]
  },
  {
   "cell_type": "code",
   "execution_count": 26,
   "metadata": {
    "collapsed": false
   },
   "outputs": [],
   "source": [
    "def sqd_err_gradient(x_i, y_i, beta):  \n",
    "    return [-2 * x_ij * regr_error(x_i, y_i, beta) for x_ij in x_i]\n",
    "\n",
    "def sqd_err_regr(x_i, y_i, beta):  \n",
    "    return regr_error(x_i, y_i, beta) ** 2\n",
    "\n",
    "def estimate_beta_sgd(x, y):  \n",
    "    beta_initial = [random.random() for x_i in x[0]]\n",
    "    beta = minimize_stochastic(sqd_err_regr, sqd_err_gradient, x, y, beta_initial, 0.001)\n",
    "    return beta\n",
    "\n",
    "def run_gradient_descent_4(x, y):\n",
    "    random.seed(0)\n",
    "    beta = estimate_beta_sgd(x, y)\n",
    "    preds = calc_pred_vals(x[:,1:], beta[1:], beta[0])\n",
    "    coefs = beta[1:]\n",
    "    coefs = [coefs[i] for i in stepwise_indices] #use stepwise sequence\n",
    "    model_details('Gradient Descent, from scratch, x scaled', preds, coefs, \n",
    "                  beta[0], stepwise_sequence, y)"
   ]
  },
  {
   "cell_type": "markdown",
   "metadata": {},
   "source": [
    "#### 5. Gradient Descent, sklearn, x scaled "
   ]
  },
  {
   "cell_type": "code",
   "execution_count": 22,
   "metadata": {
    "collapsed": true
   },
   "outputs": [],
   "source": [
    "def run_gradient_descent_5(x, y):\n",
    "    modl = SGDRegressor(penalty='none', random_state=0)\n",
    "    modl.fit(x, y)\n",
    "    preds = cross_val_predict(modl, x, y, cv=10) #make predictions\n",
    "    model_details('Gradient Descent, sklearn, x scaled', preds, modl.coef_, \n",
    "                  modl.intercept_, stepwise_sequence, y)"
   ]
  },
  {
   "cell_type": "markdown",
   "metadata": {},
   "source": [
    "#### 6. Gradient Descent 7 features, from scratch, x scaled "
   ]
  },
  {
   "cell_type": "code",
   "execution_count": 23,
   "metadata": {
    "collapsed": false
   },
   "outputs": [],
   "source": [
    "def run_gr_des_6(x, y):\n",
    "    random.seed(0)\n",
    "    beta = estimate_beta_sgd(x, y)\n",
    "    preds = calc_pred_vals(x[:,1:], beta[1:], beta[0])\n",
    "    coefs = beta[1:]\n",
    "    model_details('Gradient Descent 7 features, from scratch, x scaled', preds, coefs, \n",
    "                  beta[0], stepwise_sequence[0:7], y)"
   ]
  },
  {
   "cell_type": "markdown",
   "metadata": {},
   "source": [
    "#### 7. Gradient Descent 7 features, sklearn, x scaled"
   ]
  },
  {
   "cell_type": "code",
   "execution_count": 24,
   "metadata": {
    "collapsed": true
   },
   "outputs": [],
   "source": [
    "def run_gradient_descent_7(x, y):\n",
    "    modl = SGDRegressor(penalty='none', random_state=0)\n",
    "    modl.fit(x, y) \n",
    "    preds = cross_val_predict(modl, x, y, cv=10) #make predictions\n",
    "    model_details('Gradient Descent 7 features, sklearn, x scaled', preds, modl.coef_, \n",
    "                  modl.intercept_, stepwise_sequence[0:7], y)"
   ]
  },
  {
   "cell_type": "markdown",
   "metadata": {},
   "source": [
    "#### 8. Ridge, from scratch, x scaled, alphas"
   ]
  },
  {
   "cell_type": "code",
   "execution_count": 27,
   "metadata": {
    "collapsed": false
   },
   "outputs": [
    {
     "name": "stdout",
     "output_type": "stream",
     "text": [
      "Ridge (alphas) from scratch, x scaled\n",
      "\n",
      "alpha: 0.001\n",
      "betas in original feature sequence\n",
      "[ 5.63608689  0.04458975 -0.19338628 -0.03500814  0.02327866 -0.08818733\n",
      "  0.04531508 -0.10701855 -0.03518182 -0.06295224  0.155479    0.29344029]\n",
      "RMSE 0.645575566762\n",
      "\n",
      "alpha: 0.01\n",
      "betas in original feature sequence\n",
      "[ 5.6361688   0.04679496 -0.19103562 -0.03073406  0.02469915 -0.08754937\n",
      "  0.04380035 -0.10579913 -0.03973667 -0.05925171  0.15471232  0.287881  ]\n",
      "RMSE 0.645598066235\n",
      "\n",
      "alpha: 0.1\n",
      "betas in original feature sequence\n",
      "[  5.63604572e+00   5.34512179e-02  -1.73383474e-01  -3.40371984e-03\n",
      "   2.72588496e-02  -8.25957742e-02   3.33200122e-02  -9.62613159e-02\n",
      "  -5.95472430e-02  -4.02508110e-02   1.44626869e-01   2.55660171e-01]\n",
      "RMSE 0.646794314071\n",
      "\n",
      "alpha: 1\n",
      "betas in original feature sequence\n",
      "[  5.63607553e+00   3.15324244e-02  -1.10421700e-01   4.01280047e-02\n",
      "   1.30703326e-02  -4.83143468e-02   2.94470958e-03  -5.50722456e-02\n",
      "  -5.31323276e-02  -1.31208573e-02   8.35176071e-02   1.52876707e-01]\n",
      "RMSE 0.675016198903\n"
     ]
    }
   ],
   "source": [
    "def ridge_penalty(beta, alpha):\n",
    "    return alpha * np.dot(beta[1:], beta[1:])\n",
    "\n",
    "def ridge_penalty_gradient(beta, alpha):# gradient of just the ridge penalty\n",
    "    return [0] + [2 * alpha * beta_j for beta_j in beta[1:]]\n",
    "\n",
    "def sqd_err_ridge(x_i, y_i, beta, alpha): \n",
    "    # estimate error plus ridge penalty on beta\n",
    "    return regr_error(x_i, y_i, beta) ** 2 + ridge_penalty(beta, alpha)\n",
    "\n",
    "def sqd_err_ridge_gradient(x_i, y_i, beta, alpha): \n",
    "    # gradient corresponding to the ith squared error term incl the ridge penalty\n",
    "    return np.add(sqd_err_gradient(x_i, y_i, beta), ridge_penalty_gradient(beta, alpha))\n",
    "\n",
    "# use gradient descent to fit a ridge regression with penalty alpha\n",
    "def estimate_beta_ridge(x, y, alpha): \n",
    "    beta_initial = [random.random() for x_i in x[0]]\n",
    "    return minimize_stochastic(partial(sqd_err_ridge, alpha=alpha), \n",
    "                               partial(sqd_err_ridge_gradient, alpha=alpha), \n",
    "                               x, y, beta_initial, 0.001)\n",
    "\n",
    "import random\n",
    "x = sm.add_constant(x_scaled)\n",
    "y = labels\n",
    "random.seed(0)\n",
    "print 'Ridge (alphas) from scratch, x scaled'\n",
    "for alpha in [.001, .01, .1, 1]:\n",
    "    beta = estimate_beta_ridge(x, y, alpha=alpha)\n",
    "    print '\\nalpha:', alpha \n",
    "    print 'betas in original feature sequence\\n', beta\n",
    "    preds = calc_pred_vals(x[:,1:], beta[1:], beta[0])\n",
    "    rdg_rmse = calc_rmse(preds, y)  \n",
    "    print 'RMSE', rdg_rmse"
   ]
  },
  {
   "cell_type": "markdown",
   "metadata": {},
   "source": [
    "#### 9. Ridge, sklearn, alphas"
   ]
  },
  {
   "cell_type": "code",
   "execution_count": 28,
   "metadata": {
    "collapsed": false
   },
   "outputs": [
    {
     "name": "stdout",
     "output_type": "stream",
     "text": [
      "RMS Error             alpha\n",
      "(0.65895530384808398, 0.1)\n",
      "(0.65888313822882527, 1)\n",
      "(0.66101735274064799, 10)\n"
     ]
    }
   ],
   "source": [
    "x = df[stepwise_sequence]\n",
    "y = df['target']\n",
    "alpha_list = [0.1, 1, 10]  #use a range of alphas\n",
    "error_list = []\n",
    "for alph in alpha_list:\n",
    "    modl = Ridge(alpha=alph) \n",
    "    modl.fit(x, y)   \n",
    "    preds = cross_val_predict(modl, x, y, cv=10) #make predictions\n",
    "    rms_error = calc_rmse(preds, y)  #calculate errors\n",
    "    error_list.append(rms_error)\n",
    "print(\"RMS Error             alpha\")\n",
    "for i in range(len(error_list)):\n",
    "    print(error_list[i], alpha_list[i])"
   ]
  },
  {
   "cell_type": "markdown",
   "metadata": {},
   "source": [
    "#### 10. Ridge alpha .001, from scratch, x scaled"
   ]
  },
  {
   "cell_type": "code",
   "execution_count": 29,
   "metadata": {
    "collapsed": true
   },
   "outputs": [],
   "source": [
    "def run_ridge_10(x, y):\n",
    "    random.seed(0)\n",
    "    beta = estimate_beta_ridge(x, y, alpha=.001)\n",
    "    preds = calc_pred_vals(x[:,1:], beta[1:], beta[0])\n",
    "    coefs = beta[1:]\n",
    "    coefs = [coefs[i] for i in stepwise_indices] \n",
    "    model_details('Ridge alpha .001, from scratch, x scaled', preds, coefs, beta[0], \n",
    "                  stepwise_sequence, y)"
   ]
  },
  {
   "cell_type": "markdown",
   "metadata": {},
   "source": [
    "#### 11. Ridge alpha 1, sklearn"
   ]
  },
  {
   "cell_type": "code",
   "execution_count": 30,
   "metadata": {
    "collapsed": true
   },
   "outputs": [],
   "source": [
    "def run_ridge_11(x, y):\n",
    "    modl = Ridge(alpha=1)\n",
    "    modl.fit(x, y) \n",
    "    preds = cross_val_predict(modl, x, y, cv=10) #make predictions\n",
    "    model_details('Ridge alpha 1, sklearn', preds, modl.coef_, modl.intercept_, \n",
    "                  stepwise_sequence, y)"
   ]
  },
  {
   "cell_type": "markdown",
   "metadata": {},
   "source": [
    "#### 12. Ridge 7 features, alpha .001, from scratch, x scaled"
   ]
  },
  {
   "cell_type": "code",
   "execution_count": 31,
   "metadata": {
    "collapsed": true
   },
   "outputs": [],
   "source": [
    "def run_ridge_12(x, y):\n",
    "    random.seed(0)\n",
    "    beta = estimate_beta_ridge(x, y, alpha=.001)\n",
    "    preds = calc_pred_vals(x[:,1:], beta[1:], beta[0])\n",
    "    coefs = beta[1:]\n",
    "    model_details('Ridge 7 features, alpha .001, from scratch, x scaled', preds, coefs, \n",
    "                  beta[0], stepwise_sequence[0:7], y)"
   ]
  },
  {
   "cell_type": "markdown",
   "metadata": {},
   "source": [
    "#### 13. Ridge 7 features, alpha 1, sklearn"
   ]
  },
  {
   "cell_type": "code",
   "execution_count": 32,
   "metadata": {
    "collapsed": true
   },
   "outputs": [],
   "source": [
    "def run_ridge_13(x, y):\n",
    "    modl = Ridge(alpha=1)\n",
    "    modl.fit(x, y) \n",
    "    preds = cross_val_predict(modl, x, y, cv=10) #make predictions\n",
    "    model_details('Ridge 7 features, alpha 1, sklearn', preds, modl.coef_, modl.intercept_, \n",
    "                  stepwise_sequence[0:7], y)"
   ]
  },
  {
   "cell_type": "markdown",
   "metadata": {},
   "source": [
    "#### 14. Lars Algorithm"
   ]
  },
  {
   "cell_type": "code",
   "execution_count": 33,
   "metadata": {
    "collapsed": false
   },
   "outputs": [
    {
     "name": "stdout",
     "output_type": "stream",
     "text": [
      "index of betas with lowest rmse 338   minimum rmse 0.799685719012\n",
      "\n",
      "coefficients in original feature order\n",
      "[('fixed acidity (0)', 0.036000000000000004), ('volatile acidity (1)', -0.24000000000000019), ('citric acid (2)', -0.040000000000000008), ('residual sugar (3)', 0.024), ('chlorides (4)', -0.11200000000000007), ('free sulfur dioxide (5)', 0.060000000000000026), ('total sulfur dioxide (6)', -0.13600000000000009), ('density (7)', -0.028000000000000001), ('pH (8)', -0.08800000000000005), ('sulphates (9)', 0.19200000000000014), ('alcohol (10)', 0.37200000000000027)]\n",
      "\n",
      "feature priority under LARS algorithm\n",
      "['alcohol (10)', 'volatile acidity (1)', 'sulphates (9)', 'total sulfur dioxide (6)', 'chlorides (4)', 'fixed acidity (0)', 'pH (8)', 'free sulfur dioxide (5)', 'citric acid (2)', 'residual sugar (3)', 'density (7)']\n"
     ]
    },
    {
     "data": {
      "image/png": "[encoded data removed]",
      "text/plain": [
       "<matplotlib.figure.Figure at 0x119fdf050>"
      ]
     },
     "metadata": {},
     "output_type": "display_data"
    }
   ],
   "source": [
    "n_cols = len(x_list[0])\n",
    "beta = [0.0] * n_cols # row of beta coefficients\n",
    "beta_matrix = [] # matrix of beta coefficients\n",
    "beta_matrix.append(list(beta))\n",
    "n_steps = 350\n",
    "step_size = 0.004\n",
    "lars_indices = [] # features placement sequence\n",
    "\n",
    "# calculate correlation between features & residuals\n",
    "# and increment (decrement) beta corresponding to feature with highest correlation \n",
    "for i in range(n_steps):\n",
    "    residuals = [0.0] * n_rows\n",
    "    for j in range(n_rows):\n",
    "        labels_hat = sum([x_scaled[j][k] * beta[k] for k in range(n_cols)])\n",
    "        residuals[j] = labels_scaled[j] - labels_hat\n",
    "    corr = [0.0] * n_cols    \n",
    "    for j in range(n_cols):\n",
    "        corr[j] = sum([x_scaled[k][j] * residuals[k] for k in range(n_rows)]) / n_rows\n",
    "    k = 0    \n",
    "    corr_i = corr[0]\n",
    "    for j in range(1, (n_cols)):\n",
    "        if abs(corr_i) < abs(corr[j]):\n",
    "            k = j\n",
    "            corr_i = corr[j]\n",
    "    beta[k] += step_size * corr_i / abs(corr_i)\n",
    "    beta_matrix.append(list(beta))\n",
    "    beta_indices = [index for index in range(n_cols) if beta[index] != 0.0]\n",
    "    for q in beta_indices:\n",
    "        if (q in lars_indices) == False:\n",
    "            lars_indices.append(q)\n",
    "\n",
    "#find the beta matrix index with lowest rmse\n",
    "errors = []\n",
    "x = np.array(df_scaled).tolist()  #list of list format for calc_pre_vals\n",
    "y = labels_scaled\n",
    "for i in range(len(beta_matrix)):\n",
    "    preds = calc_pred_vals(x, beta_matrix[i])\n",
    "    rms_error = calc_rmse(preds, y)\n",
    "    errors.append(rms_error)\n",
    "min_error = min(errors)\n",
    "min_index = errors.index(min_error)\n",
    "print 'index of betas with lowest rmse', min_index, '  minimum rmse', min_error\n",
    "    \n",
    "#plot range of beta values for each attribute\n",
    "for i in range(n_cols):\n",
    "    coeff_curve = [beta_matrix[k][i] for k in range(n_steps)]\n",
    "    xaxis = range(n_steps)\n",
    "    plt.plot(xaxis, coeff_curve)\n",
    "print '\\ncoefficients in original feature order'\n",
    "dfnames = df.columns\n",
    "coeffs = beta_matrix[min_index]\n",
    "print (zip(dfnames, coeffs))  \n",
    "lars_sequence = [dfnames[lars_indices[i]] for i in range(len(lars_indices))]  \n",
    "lars_coeffs = [coeffs[i] for i in lars_indices]\n",
    "print '\\nfeature priority under LARS algorithm\\n', lars_sequence\n",
    "plt.xlabel(\"Steps Taken\")\n",
    "plt.ylabel((\"Coefficient Values\"))\n",
    "plt.show()"
   ]
  },
  {
   "cell_type": "markdown",
   "metadata": {},
   "source": [
    "#### 15. Lars, from scratch, xy scaled"
   ]
  },
  {
   "cell_type": "code",
   "execution_count": 52,
   "metadata": {
    "collapsed": true
   },
   "outputs": [],
   "source": [
    "def run_lars_15(x, y):\n",
    "    preds = calc_pred_vals(x, lars_coeffs)  # lars_coeffs is global; no intercept\n",
    "    model_details('Lars, from scratch, xy scaled', preds, lars_coeffs, 0, lars_sequence, \n",
    "                  y, False)"
   ]
  },
  {
   "cell_type": "markdown",
   "metadata": {},
   "source": [
    "#### 16. Lasso, alphas, sklearn"
   ]
  },
  {
   "cell_type": "code",
   "execution_count": 35,
   "metadata": {
    "collapsed": false
   },
   "outputs": [
    {
     "name": "stdout",
     "output_type": "stream",
     "text": [
      "x and y scaled\n",
      "RMS Error             alpha\n",
      "(0.81708174767321784, 0.001)\n",
      "(0.8160103265216736, 0.01)\n",
      "(0.83789547968910716, 0.1)\n",
      "\n",
      "x scaled  (labels not scaled)\n",
      "RMS Error             alpha\n",
      "(0.65963738656123083, 0.001)\n",
      "(0.65863795393371882, 0.01)\n",
      "(0.68208758146391235, 0.1)\n"
     ]
    }
   ],
   "source": [
    "x = df_scaled[lars_sequence]\n",
    "y = labels_scaled\n",
    "alpha_list = [0.001, 0.01, 0.1]  \n",
    "error_list = []\n",
    "for alph in alpha_list:\n",
    "    modl = Lasso(alpha=alph, normalize=False) \n",
    "    modl.fit(x, y)   \n",
    "    preds = cross_val_predict(modl, x, y, cv=10) #make predictions\n",
    "    rms_error = calc_rmse(preds, y)  #calculate errors\n",
    "    error_list.append(rms_error)\n",
    "print 'x and y scaled'\n",
    "print(\"RMS Error             alpha\")\n",
    "for i in range(len(error_list)):\n",
    "    print(error_list[i], alpha_list[i])\n",
    "\n",
    "y = df['target']\n",
    "alpha_list = [0.001, 0.01, 0.1]  \n",
    "error_list = []\n",
    "for alph in alpha_list:\n",
    "    modl = Lasso(alpha=alph, normalize=False) \n",
    "    modl.fit(x, y)   \n",
    "    preds = cross_val_predict(modl, x, y, cv=10) #make predictions\n",
    "    rms_error = calc_rmse(preds, y)  #calculate errors\n",
    "    error_list.append(rms_error)\n",
    "print '\\nx scaled  (labels not scaled)'\n",
    "print(\"RMS Error             alpha\")\n",
    "for i in range(len(error_list)):\n",
    "    print(error_list[i], alpha_list[i])"
   ]
  },
  {
   "cell_type": "markdown",
   "metadata": {},
   "source": [
    "#### 17. Lasso alpha 0.01, sklearn, xy scaled"
   ]
  },
  {
   "cell_type": "code",
   "execution_count": 36,
   "metadata": {
    "collapsed": true
   },
   "outputs": [],
   "source": [
    "def run_lasso_17(x, y):\n",
    "    modl = Lasso(alpha=0.01, normalize=False)\n",
    "    modl.fit(x,y)\n",
    "    preds = cross_val_predict(modl, x, y, cv=10) #make predictions\n",
    "    model_details('Lasso alpha 0.01, sklearn, xy scaled', preds, modl.coef_, \n",
    "                  modl.intercept_, lars_sequence, y, False)"
   ]
  },
  {
   "cell_type": "markdown",
   "metadata": {},
   "source": [
    "#### 18. Lasso alpha 0.01, sklearn, x scaled"
   ]
  },
  {
   "cell_type": "code",
   "execution_count": 37,
   "metadata": {
    "collapsed": true
   },
   "outputs": [],
   "source": [
    "def run_lasso_18(x, y):\n",
    "    modl = Lasso(alpha=0.01, normalize=False)\n",
    "    modl.fit(x,y)\n",
    "    preds = cross_val_predict(modl, x, y, cv=10) #make predictions\n",
    "    model_details('Lasso alpha 0.01, sklearn, x scaled', preds, modl.coef_, \n",
    "                  modl.intercept_, lars_sequence, y)"
   ]
  },
  {
   "cell_type": "markdown",
   "metadata": {},
   "source": [
    "#### 19. ElasticNet grid search for L1 ratio"
   ]
  },
  {
   "cell_type": "code",
   "execution_count": 39,
   "metadata": {
    "collapsed": false
   },
   "outputs": [
    {
     "name": "stdout",
     "output_type": "stream",
     "text": [
      "best parameters: \n",
      "{'l1_ratio': 0}\n"
     ]
    }
   ],
   "source": [
    "selected_cols = lars_sequence  \n",
    "x = df_scaled[selected_cols]\n",
    "y = labels_scaled\n",
    "enet_p = {'l1_ratio' : [0, 1e-10, .1, .3, .5, .7, .9, 1]}                                    \n",
    "enet = ElasticNet()                                   # instantiate model\n",
    "enet_grid = GridSearchCV(enet, enet_p, cv=5)          # instantiate grid\n",
    "enet_grid.fit(x, y)                                   # fit grid with data\n",
    "print \"best parameters: \\n\", enet_grid.best_params_   # print best parameters"
   ]
  },
  {
   "cell_type": "code",
   "execution_count": 40,
   "metadata": {
    "collapsed": true
   },
   "outputs": [],
   "source": [
    "# create lists for storing details\n",
    "modl_name = [] # name for model\n",
    "rmse = [] # root mean square error\n",
    "accuracy = [] # overall accuracy\n",
    "cmats = [] # confusion matrix dataframe\n",
    "cmat_sum = [] # to confirm no results are missing\n",
    "df_beta_coefs = [] # coefficients dataframe"
   ]
  },
  {
   "cell_type": "code",
   "execution_count": 41,
   "metadata": {
    "collapsed": true
   },
   "outputs": [],
   "source": [
    "# results of Stepwise Algorithm #1 appear in prior section\n",
    "run_linear_regr_2(df[stepwise_sequence], df['target'])"
   ]
  },
  {
   "cell_type": "code",
   "execution_count": 42,
   "metadata": {
    "collapsed": true
   },
   "outputs": [],
   "source": [
    "run_stepwise_3(df[stepwise_sequence[0:7]], df['target'])"
   ]
  },
  {
   "cell_type": "code",
   "execution_count": 43,
   "metadata": {
    "collapsed": true
   },
   "outputs": [],
   "source": [
    "run_gradient_descent_4(sm.add_constant(x_scaled), labels)"
   ]
  },
  {
   "cell_type": "code",
   "execution_count": 44,
   "metadata": {
    "collapsed": true
   },
   "outputs": [],
   "source": [
    "run_gradient_descent_5(df_scaled[stepwise_sequence], df['target'])"
   ]
  },
  {
   "cell_type": "code",
   "execution_count": 45,
   "metadata": {
    "collapsed": true
   },
   "outputs": [],
   "source": [
    "run_gr_des_6(sm.add_constant(np.array(df_scaled[stepwise_sequence[0:7]]).tolist()), labels)"
   ]
  },
  {
   "cell_type": "code",
   "execution_count": 46,
   "metadata": {
    "collapsed": true
   },
   "outputs": [],
   "source": [
    "run_gradient_descent_7(df_scaled[stepwise_sequence[0:7]], df['target'])"
   ]
  },
  {
   "cell_type": "code",
   "execution_count": 47,
   "metadata": {
    "collapsed": true
   },
   "outputs": [],
   "source": [
    "#results for Ridge alphas #8 & #9 appear in prior section\n",
    "run_ridge_10(sm.add_constant(x_scaled), labels)"
   ]
  },
  {
   "cell_type": "code",
   "execution_count": 48,
   "metadata": {
    "collapsed": true
   },
   "outputs": [],
   "source": [
    "run_ridge_11(df[stepwise_sequence], df['target'])"
   ]
  },
  {
   "cell_type": "code",
   "execution_count": 49,
   "metadata": {
    "collapsed": true
   },
   "outputs": [],
   "source": [
    "run_ridge_12(sm.add_constant(np.array(df_scaled[stepwise_sequence[0:7]]).tolist()), labels)"
   ]
  },
  {
   "cell_type": "code",
   "execution_count": 50,
   "metadata": {
    "collapsed": true
   },
   "outputs": [],
   "source": [
    "run_ridge_13(df[stepwise_sequence[0:7]], df['target'])"
   ]
  },
  {
   "cell_type": "code",
   "execution_count": 61,
   "metadata": {
    "collapsed": false
   },
   "outputs": [],
   "source": [
    "#results of Lars Algorithm #14 appear in prior section\n",
    "run_lars_15(np.array(df_scaled[lars_sequence]).tolist(), labels_scaled)"
   ]
  },
  {
   "cell_type": "code",
   "execution_count": 54,
   "metadata": {
    "collapsed": true
   },
   "outputs": [],
   "source": [
    "#results for Lasso alphas #16 appear in prior section\n",
    "run_lasso_17(df_scaled[lars_sequence], labels_scaled)"
   ]
  },
  {
   "cell_type": "code",
   "execution_count": 55,
   "metadata": {
    "collapsed": true
   },
   "outputs": [],
   "source": [
    "run_lasso_18(df_scaled[lars_sequence], df['target'])"
   ]
  },
  {
   "cell_type": "code",
   "execution_count": 56,
   "metadata": {
    "collapsed": false
   },
   "outputs": [
    {
     "data": {
      "text/html": [
       "<div>\n",
       "<table border=\"1\" class=\"dataframe\">\n",
       "  <thead>\n",
       "    <tr style=\"text-align: right;\">\n",
       "      <th></th>\n",
       "      <th>RMSE</th>\n",
       "      <th>Overall Accuracy</th>\n",
       "    </tr>\n",
       "  </thead>\n",
       "  <tbody>\n",
       "    <tr>\n",
       "      <th>Linear Regr</th>\n",
       "      <td>0.659660</td>\n",
       "      <td>0.589118</td>\n",
       "    </tr>\n",
       "    <tr>\n",
       "      <th>Linear (Stepwise) Regr</th>\n",
       "      <td>0.656556</td>\n",
       "      <td>0.587242</td>\n",
       "    </tr>\n",
       "    <tr>\n",
       "      <th>Gradient Descent, from scratch, x scaled</th>\n",
       "      <td>0.645575</td>\n",
       "      <td>0.59162</td>\n",
       "    </tr>\n",
       "    <tr>\n",
       "      <th>Gradient Descent, sklearn, x scaled</th>\n",
       "      <td>0.659644</td>\n",
       "      <td>0.590994</td>\n",
       "    </tr>\n",
       "    <tr>\n",
       "      <th>Gradient Descent 7 features, from scratch, x scaled</th>\n",
       "      <td>0.646121</td>\n",
       "      <td>0.592871</td>\n",
       "    </tr>\n",
       "    <tr>\n",
       "      <th>Gradient Descent 7 features, sklearn, x scaled</th>\n",
       "      <td>0.656390</td>\n",
       "      <td>0.589744</td>\n",
       "    </tr>\n",
       "    <tr>\n",
       "      <th>Ridge alpha .001, from scratch, x scaled</th>\n",
       "      <td>0.645576</td>\n",
       "      <td>0.59162</td>\n",
       "    </tr>\n",
       "    <tr>\n",
       "      <th>Ridge alpha 1, sklearn</th>\n",
       "      <td>0.658883</td>\n",
       "      <td>0.587867</td>\n",
       "    </tr>\n",
       "    <tr>\n",
       "      <th>Ridge 7 features, alpha .001, from scratch, x scaled</th>\n",
       "      <td>0.646121</td>\n",
       "      <td>0.592871</td>\n",
       "    </tr>\n",
       "    <tr>\n",
       "      <th>Ridge 7 features, alpha 1, sklearn</th>\n",
       "      <td>0.656660</td>\n",
       "      <td>0.586617</td>\n",
       "    </tr>\n",
       "    <tr>\n",
       "      <th>Lars, from scratch, xy scaled</th>\n",
       "      <td>1.058507</td>\n",
       "      <td>n/a, labels are scaled</td>\n",
       "    </tr>\n",
       "    <tr>\n",
       "      <th>Lasso alpha 0.01, sklearn, xy scaled</th>\n",
       "      <td>0.816010</td>\n",
       "      <td>n/a, labels are scaled</td>\n",
       "    </tr>\n",
       "    <tr>\n",
       "      <th>Lasso alpha 0.01, sklearn, x scaled</th>\n",
       "      <td>0.658638</td>\n",
       "      <td>0.589118</td>\n",
       "    </tr>\n",
       "  </tbody>\n",
       "</table>\n",
       "</div>"
      ],
      "text/plain": [
       "                                                        RMSE  \\\n",
       "Linear Regr                                         0.659660   \n",
       "Linear (Stepwise) Regr                              0.656556   \n",
       "Gradient Descent, from scratch, x scaled            0.645575   \n",
       "Gradient Descent, sklearn, x scaled                 0.659644   \n",
       "Gradient Descent 7 features, from scratch, x sc...  0.646121   \n",
       "Gradient Descent 7 features, sklearn, x scaled      0.656390   \n",
       "Ridge alpha .001, from scratch, x scaled            0.645576   \n",
       "Ridge alpha 1, sklearn                              0.658883   \n",
       "Ridge 7 features, alpha .001, from scratch, x s...  0.646121   \n",
       "Ridge 7 features, alpha 1, sklearn                  0.656660   \n",
       "Lars, from scratch, xy scaled                       1.058507   \n",
       "Lasso alpha 0.01, sklearn, xy scaled                0.816010   \n",
       "Lasso alpha 0.01, sklearn, x scaled                 0.658638   \n",
       "\n",
       "                                                          Overall Accuracy  \n",
       "Linear Regr                                                       0.589118  \n",
       "Linear (Stepwise) Regr                                            0.587242  \n",
       "Gradient Descent, from scratch, x scaled                           0.59162  \n",
       "Gradient Descent, sklearn, x scaled                               0.590994  \n",
       "Gradient Descent 7 features, from scratch, x sc...                0.592871  \n",
       "Gradient Descent 7 features, sklearn, x scaled                    0.589744  \n",
       "Ridge alpha .001, from scratch, x scaled                           0.59162  \n",
       "Ridge alpha 1, sklearn                                            0.587867  \n",
       "Ridge 7 features, alpha .001, from scratch, x s...                0.592871  \n",
       "Ridge 7 features, alpha 1, sklearn                                0.586617  \n",
       "Lars, from scratch, xy scaled                       n/a, labels are scaled  \n",
       "Lasso alpha 0.01, sklearn, xy scaled                n/a, labels are scaled  \n",
       "Lasso alpha 0.01, sklearn, x scaled                               0.589118  "
      ]
     },
     "execution_count": 56,
     "metadata": {},
     "output_type": "execute_result"
    }
   ],
   "source": [
    "df_scores = pd.DataFrame(zip(rmse, accuracy), columns = ['RMSE', 'Overall Accuracy'], \n",
    "                         index = modl_name)\n",
    "df_scores"
   ]
  },
  {
   "cell_type": "code",
   "execution_count": 57,
   "metadata": {
    "collapsed": false
   },
   "outputs": [
    {
     "data": {
      "text/html": [
       "<div>\n",
       "<table border=\"1\" class=\"dataframe\">\n",
       "  <thead>\n",
       "    <tr style=\"text-align: right;\">\n",
       "      <th></th>\n",
       "      <th>intercept</th>\n",
       "      <th>alcohol (10)</th>\n",
       "      <th>volatile acidity (1)</th>\n",
       "      <th>sulphates (9)</th>\n",
       "      <th>chlorides (4)</th>\n",
       "      <th>total sulfur dioxide (6)</th>\n",
       "      <th>pH (8)</th>\n",
       "      <th>free sulfur dioxide (5)</th>\n",
       "    </tr>\n",
       "  </thead>\n",
       "  <tbody>\n",
       "    <tr>\n",
       "      <th>Gradient Descent 7 features, from scratch, x scaled</th>\n",
       "      <td>5.63607</td>\n",
       "      <td>0.30813</td>\n",
       "      <td>-0.18165</td>\n",
       "      <td>0.14945</td>\n",
       "      <td>-0.09477</td>\n",
       "      <td>-0.11436</td>\n",
       "      <td>-0.07447</td>\n",
       "      <td>0.05298</td>\n",
       "    </tr>\n",
       "  </tbody>\n",
       "</table>\n",
       "</div>"
      ],
      "text/plain": [
       "                                                    intercept  alcohol (10)  \\\n",
       "Gradient Descent 7 features, from scratch, x sc...    5.63607       0.30813   \n",
       "\n",
       "                                                    volatile acidity (1)  \\\n",
       "Gradient Descent 7 features, from scratch, x sc...              -0.18165   \n",
       "\n",
       "                                                    sulphates (9)  \\\n",
       "Gradient Descent 7 features, from scratch, x sc...        0.14945   \n",
       "\n",
       "                                                    chlorides (4)  \\\n",
       "Gradient Descent 7 features, from scratch, x sc...       -0.09477   \n",
       "\n",
       "                                                    total sulfur dioxide (6)  \\\n",
       "Gradient Descent 7 features, from scratch, x sc...                  -0.11436   \n",
       "\n",
       "                                                     pH (8)  \\\n",
       "Gradient Descent 7 features, from scratch, x sc... -0.07447   \n",
       "\n",
       "                                                    free sulfur dioxide (5)  \n",
       "Gradient Descent 7 features, from scratch, x sc...                  0.05298  "
      ]
     },
     "execution_count": 57,
     "metadata": {},
     "output_type": "execute_result"
    }
   ],
   "source": [
    "df_beta_coefs[4]"
   ]
  },
  {
   "cell_type": "code",
   "execution_count": 58,
   "metadata": {
    "collapsed": false
   },
   "outputs": [
    {
     "data": {
      "text/html": [
       "<div>\n",
       "<table border=\"1\" class=\"dataframe\">\n",
       "  <thead>\n",
       "    <tr style=\"text-align: right;\">\n",
       "      <th></th>\n",
       "      <th>intercept</th>\n",
       "      <th>alcohol (10)</th>\n",
       "      <th>volatile acidity (1)</th>\n",
       "      <th>sulphates (9)</th>\n",
       "      <th>chlorides (4)</th>\n",
       "      <th>total sulfur dioxide (6)</th>\n",
       "      <th>pH (8)</th>\n",
       "      <th>free sulfur dioxide (5)</th>\n",
       "    </tr>\n",
       "  </thead>\n",
       "  <tbody>\n",
       "    <tr>\n",
       "      <th>Ridge 7 features, alpha .001, from scratch, x scaled</th>\n",
       "      <td>5.63607</td>\n",
       "      <td>0.30786</td>\n",
       "      <td>-0.18161</td>\n",
       "      <td>0.14932</td>\n",
       "      <td>-0.09466</td>\n",
       "      <td>-0.11415</td>\n",
       "      <td>-0.07431</td>\n",
       "      <td>0.05276</td>\n",
       "    </tr>\n",
       "  </tbody>\n",
       "</table>\n",
       "</div>"
      ],
      "text/plain": [
       "                                                    intercept  alcohol (10)  \\\n",
       "Ridge 7 features, alpha .001, from scratch, x s...    5.63607       0.30786   \n",
       "\n",
       "                                                    volatile acidity (1)  \\\n",
       "Ridge 7 features, alpha .001, from scratch, x s...              -0.18161   \n",
       "\n",
       "                                                    sulphates (9)  \\\n",
       "Ridge 7 features, alpha .001, from scratch, x s...        0.14932   \n",
       "\n",
       "                                                    chlorides (4)  \\\n",
       "Ridge 7 features, alpha .001, from scratch, x s...       -0.09466   \n",
       "\n",
       "                                                    total sulfur dioxide (6)  \\\n",
       "Ridge 7 features, alpha .001, from scratch, x s...                  -0.11415   \n",
       "\n",
       "                                                     pH (8)  \\\n",
       "Ridge 7 features, alpha .001, from scratch, x s... -0.07431   \n",
       "\n",
       "                                                    free sulfur dioxide (5)  \n",
       "Ridge 7 features, alpha .001, from scratch, x s...                  0.05276  "
      ]
     },
     "execution_count": 58,
     "metadata": {},
     "output_type": "execute_result"
    }
   ],
   "source": [
    "df_beta_coefs[8]"
   ]
  },
  {
   "cell_type": "code",
   "execution_count": 63,
   "metadata": {
    "collapsed": false
   },
   "outputs": [
    {
     "data": {
      "text/plain": [
       "0.79968571901227326"
      ]
     },
     "execution_count": 63,
     "metadata": {},
     "output_type": "execute_result"
    }
   ],
   "source": [
    "rmse[13]"
   ]
  },
  {
   "cell_type": "code",
   "execution_count": 60,
   "metadata": {
    "collapsed": false
   },
   "outputs": [
    {
     "data": {
      "text/html": [
       "<div>\n",
       "<table border=\"1\" class=\"dataframe\">\n",
       "  <thead>\n",
       "    <tr style=\"text-align: right;\">\n",
       "      <th></th>\n",
       "      <th>intercept</th>\n",
       "      <th>alcohol (10)</th>\n",
       "      <th>volatile acidity (1)</th>\n",
       "      <th>sulphates (9)</th>\n",
       "      <th>total sulfur dioxide (6)</th>\n",
       "      <th>chlorides (4)</th>\n",
       "      <th>fixed acidity (0)</th>\n",
       "      <th>pH (8)</th>\n",
       "      <th>free sulfur dioxide (5)</th>\n",
       "      <th>citric acid (2)</th>\n",
       "      <th>residual sugar (3)</th>\n",
       "      <th>density (7)</th>\n",
       "    </tr>\n",
       "  </thead>\n",
       "  <tbody>\n",
       "    <tr>\n",
       "      <th>Lasso alpha 0.01, sklearn, xy scaled</th>\n",
       "      <td>0.0</td>\n",
       "      <td>0.37649</td>\n",
       "      <td>-0.22697</td>\n",
       "      <td>0.17273</td>\n",
       "      <td>-0.11069</td>\n",
       "      <td>-0.10056</td>\n",
       "      <td>0.0</td>\n",
       "      <td>-0.07397</td>\n",
       "      <td>0.0333</td>\n",
       "      <td>-0.0</td>\n",
       "      <td>0.00287</td>\n",
       "      <td>-0.0</td>\n",
       "    </tr>\n",
       "  </tbody>\n",
       "</table>\n",
       "</div>"
      ],
      "text/plain": [
       "                                      intercept  alcohol (10)  \\\n",
       "Lasso alpha 0.01, sklearn, xy scaled        0.0       0.37649   \n",
       "\n",
       "                                      volatile acidity (1)  sulphates (9)  \\\n",
       "Lasso alpha 0.01, sklearn, xy scaled              -0.22697        0.17273   \n",
       "\n",
       "                                      total sulfur dioxide (6)  chlorides (4)  \\\n",
       "Lasso alpha 0.01, sklearn, xy scaled                  -0.11069       -0.10056   \n",
       "\n",
       "                                      fixed acidity (0)   pH (8)  \\\n",
       "Lasso alpha 0.01, sklearn, xy scaled                0.0 -0.07397   \n",
       "\n",
       "                                      free sulfur dioxide (5)  \\\n",
       "Lasso alpha 0.01, sklearn, xy scaled                   0.0333   \n",
       "\n",
       "                                      citric acid (2)  residual sugar (3)  \\\n",
       "Lasso alpha 0.01, sklearn, xy scaled             -0.0             0.00287   \n",
       "\n",
       "                                      density (7)  \n",
       "Lasso alpha 0.01, sklearn, xy scaled         -0.0  "
      ]
     },
     "execution_count": 60,
     "metadata": {},
     "output_type": "execute_result"
    }
   ],
   "source": [
    "df_beta_coefs[11]"
   ]
  },
  {
   "cell_type": "code",
   "execution_count": 64,
   "metadata": {
    "collapsed": false
   },
   "outputs": [
    {
     "name": "stdout",
     "output_type": "stream",
     "text": [
      "\n",
      "fixed acidity (0) \n",
      "outliers are anything above 12.35   max val: 15.9   # of outliers: 49 \n",
      "or below 3.95   min value is: 7.1    # of outliers is 0\n",
      "\n",
      "volatile acidity (1) \n",
      "outliers are anything above 1.015   max val: 1.58   # of outliers: 19 \n",
      "or below 0.015   min value is: 0.39    # of outliers is 0\n",
      "\n",
      "citric acid (2) \n",
      "outliers are anything above 0.915   max val: 1.0   # of outliers: 1 \n",
      "or below -0.405   min value is: 0.09    # of outliers is 0\n",
      "\n",
      "residual sugar (3) \n",
      "outliers are anything above 3.65   max val: 15.5   # of outliers: 155 \n",
      "or below 0.85   min value is: 1.9    # of outliers is 0\n",
      "\n",
      "chlorides (4) \n",
      "outliers are anything above 0.12   max val: 0.611   # of outliers: 103 \n",
      "or below 0.04   min value is: 0.07    # of outliers is 9\n",
      "\n",
      "free sulfur dioxide (5) \n",
      "outliers are anything above 42.0   max val: 72.0   # of outliers: 30 \n",
      "or below -14.0   min value is: 7.0    # of outliers is 0\n",
      "\n",
      "total sulfur dioxide (6) \n",
      "outliers are anything above 122.0   max val: 289.0   # of outliers: 55 \n",
      "or below -38.0   min value is: 22.0    # of outliers is 0\n",
      "\n",
      "density (7) \n",
      "outliers are anything above 1.0011875   max val: 1.00369   # of outliers: 24 \n",
      "or below 0.9922475   min value is: 0.9956    # of outliers is 21\n",
      "\n",
      "pH (8) \n",
      "outliers are anything above 3.685   max val: 4.01   # of outliers: 21 \n",
      "or below 2.925   min value is: 3.21    # of outliers is 14\n",
      "\n",
      "sulphates (9) \n",
      "outliers are anything above 1.0   max val: 2.0   # of outliers: 59 \n",
      "or below 0.28   min value is: 0.55    # of outliers is 0\n",
      "\n",
      "alcohol (10) \n",
      "outliers are anything above 13.5   max val: 14.9   # of outliers: 13 \n",
      "or below 7.1   min value is: 9.5    # of outliers is 0\n"
     ]
    }
   ],
   "source": [
    "outliers_upper, outliers_lower = [], []\n",
    "for i in range(len(stats.columns)-1):\n",
    "    inter_quartile_range = stats.iloc[6,i] - stats.iloc[4,i]\n",
    "    limit_upper = stats.iloc[6,i] + 1.5 * inter_quartile_range\n",
    "    limit_lower = stats.iloc[4,i] - 1.5 * inter_quartile_range\n",
    "    outliers_upper.append(df.loc[df[df.columns[i]] > limit_upper])\n",
    "    outliers_lower.append(df.loc[df[df.columns[i]] < limit_lower])\n",
    "    print '\\n', df.columns[i], '\\noutliers are anything above', limit_upper, \n",
    "    print '  max val:', stats.iloc[7,i], '  # of outliers:', \n",
    "    print len(outliers_upper[i]), '\\nor below', limit_lower, '  min value is:', \n",
    "    print stats.iloc[4,i], '   # of outliers is', len(outliers_lower[i])"
   ]
  },
  {
   "cell_type": "code",
   "execution_count": 69,
   "metadata": {
    "collapsed": false
   },
   "outputs": [
    {
     "data": {
      "text/plain": [
       "(1585, 12)"
      ]
     },
     "execution_count": 69,
     "metadata": {},
     "output_type": "execute_result"
    }
   ],
   "source": [
    "# next step - delete outliers in 7 stepwise columns only\n",
    "df = df.loc[df['alcohol (10)'] < 13.5]\n",
    "df.shape"
   ]
  },
  {
   "cell_type": "code",
   "execution_count": null,
   "metadata": {
    "collapsed": true
   },
   "outputs": [],
   "source": []
  }
 ],
 "metadata": {
  "kernelspec": {
   "display_name": "Python 2",
   "language": "python",
   "name": "python2"
  },
  "language_info": {
   "codemirror_mode": {
    "name": "ipython",
    "version": 2
   },
   "file_extension": ".py",
   "mimetype": "text/x-python",
   "name": "python",
   "nbconvert_exporter": "python",
   "pygments_lexer": "ipython2",
   "version": "2.7.12"
  }
 },
 "nbformat": 4,
 "nbformat_minor": 0
}
