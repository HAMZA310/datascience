{
 "cells": [
  {
   "cell_type": "markdown",
   "metadata": {},
   "source": [
    "### Support Vector Machine  (with Gaussian Kernel) "
   ]
  },
  {
   "cell_type": "markdown",
   "metadata": {},
   "source": [
    "Sequential Minimization Optimization algorithm code was made available through: \n",
    "http://jonchar.net/notebooks/SVM/\n",
    "\n",
    "for annotated version of SMO Algorithm code, see Support Vector Machine (Linear Kernel) "
   ]
  },
  {
   "cell_type": "code",
   "execution_count": 1,
   "metadata": {
    "collapsed": true
   },
   "outputs": [],
   "source": [
    "import numpy as np\n",
    "import matplotlib.pyplot as plt\n",
    "from sklearn.datasets import make_blobs\n",
    "%matplotlib inline\n",
    "\n",
    "class SMOModel:\n",
    "    def __init__(self, X, y, C, kernel, alphas, b, errors):\n",
    "        self.X = X                \n",
    "        self.y = y                \n",
    "        self.C = C                \n",
    "        self.kernel = kernel      \n",
    "        self.alphas = alphas      \n",
    "        self.b = b               \n",
    "        self.errors = errors      \n",
    "        self.obj_results = []     \n",
    "        self.m = len(self.X)      \n",
    "        \n",
    "def linear_kernel(xi, xj, b=1):\n",
    "    return np.dot(xi, xj.T) + b\n",
    "\n",
    "def train(model):\n",
    "    kOne, kTwo = 0, 1    \n",
    "    while kOne > 0 or kTwo > 0:\n",
    "        kOne = 0    \n",
    "        if kTwo > 0:\n",
    "            for i in range(model.alphas.shape[0]):\n",
    "                examined_flag, model = examine(i, model)\n",
    "                kOne += examined_flag                \n",
    "                if examined_flag:\n",
    "                    obj_result = objective_function(model.alphas, model.y, model.kernel, model.X)\n",
    "                    model.obj_results.append(obj_result)\n",
    "        else:  \n",
    "            for i in np.where((model.alphas != 0) & (model.alphas != model.C))[0]:\n",
    "                examined_flag, model = examine(i, model)\n",
    "                kOne += examined_flag\n",
    "                if examined_flag:\n",
    "                    obj_result = objective_function(model.alphas, model.y, model.kernel, model.X)\n",
    "                    model.obj_results.append(obj_result)\n",
    "        if kTwo == 1:\n",
    "            kTwo = 0\n",
    "        elif kOne == 0:\n",
    "            kTwo = 1\n",
    "    return model\n",
    "\n",
    "def examine(i2, model):\n",
    "    alph2 = model.alphas[i2]  \n",
    "    y2 = model.y[i2]\n",
    "    E2 = model.errors[i2]\n",
    "    if ( ( (E2*y2) < -tol and alph2 < model.C) or ( (E2*y2) > tol and alph2 > 0) ):\n",
    "        if len(model.alphas[(model.alphas != 0) & (model.alphas != model.C)]) > 1:\n",
    "            if model.errors[i2] > 0:\n",
    "                i1 = np.argmin(model.errors)\n",
    "            elif model.errors[i2] <= 0:\n",
    "                i1 = np.argmax(model.errors)               \n",
    "            step_result, model = take_step(i1, i2, model)\n",
    "            if step_result:\n",
    "                return 1, model\n",
    "        for i1 in np.roll(np.where((model.alphas != 0) & (model.alphas != model.C))[0],\n",
    "                          np.random.choice(np.arange(model.m))):\n",
    "            step_result, model = take_step(i1, i2, model)\n",
    "            if step_result:\n",
    "                return 1, model\n",
    "        for i1 in np.roll(np.arange(model.m), np.random.choice(np.arange(model.m))): \n",
    "            step_result, model = take_step(i1, i2, model)\n",
    "            if step_result:\n",
    "                return 1, model\n",
    "    return 0, model\n",
    "\n",
    "def take_step(i1, i2, model):\n",
    "    if i1 == i2:\n",
    "        return 0, model\n",
    "    alph1 = model.alphas[i1]\n",
    "    alph2 = model.alphas[i2]\n",
    "    y1 = model.y[i1]\n",
    "    y2 = model.y[i2]\n",
    "    E1 = model.errors[i1]\n",
    "    E2 = model.errors[i2]\n",
    "    s = y1 * y2\n",
    "    if (y1 != y2):                             \n",
    "        L = max(0, alph2 - alph1)                  \n",
    "        H = min(model.C, model.C + alph2 - alph1)  \n",
    "    elif (y1 == y2):                           \n",
    "        L = max(0, alph1 + alph2 - model.C)       \n",
    "        H = min(model.C, alph1 + alph2)            \n",
    "    if (L == H):\n",
    "        return 0, model\n",
    "    k12 = model.kernel(model.X[i1], model.X[i2])\n",
    "    k11 = model.kernel(model.X[i1], model.X[i1])\n",
    "    k22 = model.kernel(model.X[i2], model.X[i2])\n",
    "    step = 2 * k12 - k11 - k22                \n",
    "    if (step < 0):                                \n",
    "        a2 = alph2 - y2 * (E1 - E2) / step        \n",
    "        if L < a2 < H: \n",
    "            a2 = a2          \n",
    "        elif (a2 <= L):      \n",
    "            a2 = L           \n",
    "        elif (a2 >= H):\n",
    "            a2 = H\n",
    "    else:  \n",
    "        alphas_adj = model.alphas.copy()\n",
    "        alphas_adj[i2] = L\n",
    "        obj_result_at_L = objective_function(alphas_adj, model.y, model.kernel, model.X) \n",
    "        alphas_adj[i2] = H\n",
    "        obj_result_at_H = objective_function(alphas_adj, model.y, model.kernel, model.X)\n",
    "        if obj_result_at_L > obj_result_at_H + eps:    \n",
    "            a2 = L                    \n",
    "        elif obj_result_at_L < (obj_result_at_H - eps):   \n",
    "            a2 = H\n",
    "        else:\n",
    "            a2 = alph2\n",
    "    if a2 < 1e-8:\n",
    "        a2 = 0.0\n",
    "    elif a2 > (model.C - 1e-8):\n",
    "        a2 = model.C\n",
    "    if (np.abs(a2 - alph2) < eps * (a2 + alph2 + eps)):\n",
    "        return 0, model\n",
    "    a1 = alph1 + s * (alph2 - a2)   \n",
    "    b1  =  E1  +  y1*(a1 - alph1) *  k11    +  y2*(a2 - alph2) *  k12   +  model.b\n",
    "    b2  =  E2  +  y1*(a1 - alph1) *  k12    +  y2*(a2 - alph2) *  k22   +  model.b\n",
    "    if 0 < a1 and a1 < C:  \n",
    "        b_new = b1\n",
    "    elif  0 < a2 and a2 < C:\n",
    "        b_new = b2\n",
    "    else:  \n",
    "        b_new = (b1+b2) * 0.5\n",
    "    model.alphas[i1], model.alphas[i2] = a1, a2\n",
    "    for ix, alph in zip([i1, i2], [a1, a2]):\n",
    "        if 0.0 < alph < model.C:\n",
    "            model.errors[ix] = 0.0\n",
    "    oth_pts = [k for k in range(model.m) if (k != i1 and k != i2)]\n",
    "    model.errors[oth_pts] = model.errors[oth_pts] + \\\n",
    "                            y1*(a1 - alph1) * model.kernel(model.X[i1], model.X[oth_pts])+\\\n",
    "                            y2*(a2 - alph2) * model.kernel(model.X[i2], model.X[oth_pts])+\\\n",
    "                            model.b - b_new\n",
    "    model.b = b_new\n",
    "    return 1, model\n",
    "\n",
    "def objective_function(alphas, target, kernel, X):\n",
    "    return np.sum(alphas) - 0.5 * np.sum(target * target * kernel(X, X) * alphas * alphas)\n",
    "\n",
    "def decision_function(alphas, target, kernel, xi, xj, b):\n",
    "    result = np.dot( (alphas * target), kernel(xi, xj) ) - b\n",
    "    return result"
   ]
  },
  {
   "cell_type": "markdown",
   "metadata": {},
   "source": [
    "Gaussian kernel"
   ]
  },
  {
   "cell_type": "code",
   "execution_count": 2,
   "metadata": {
    "collapsed": true
   },
   "outputs": [],
   "source": [
    "def gaussian_kernel(xi, xj, sigma=1.0):\n",
    "    '''\n",
    "    Returns \n",
    "    \n",
    "      <zi,zj> - inner product of xi,xj transformations to high dimensional space\n",
    "      \n",
    "                  scenario-a: if inputs are both vectors, a scalar is returned                \n",
    "                  scenario-b: if inputs are matrix and vector, a vector is returned    \n",
    "                  scenario-c: if inputs are both matrices, a matrix is returned\n",
    "        '''\n",
    "    #scenario-a\n",
    "    if np.ndim(xi) == 1 and np.ndim(xj) == 1:           \n",
    "        distances = np.linalg.norm(xi - xj)\n",
    "\n",
    "    #scenario-b   \n",
    "    elif (np.ndim(xi)==2 and np.ndim(xj)==1) or (np.ndim(xi)==1 and np.ndim(xj)==2): \n",
    "        distances = np.linalg.norm(xi - xj, axis=1)\n",
    "\n",
    "    #scenario-c   \n",
    "    elif np.ndim(xi)==2 and np.ndim(xj)==2: \n",
    "        distances = np.exp(- np.linalg.norm(xi[:,np.newaxis] - xj[np.newaxis,:], axis=2))\n",
    "        \n",
    "    gamma = 1.0 / (2.0 * sigma**2)\n",
    "\n",
    "    return np.exp(- gamma * distances**2)"
   ]
  },
  {
   "cell_type": "markdown",
   "metadata": {},
   "source": [
    "Data - not linearly separable"
   ]
  },
  {
   "cell_type": "code",
   "execution_count": 3,
   "metadata": {
    "collapsed": true
   },
   "outputs": [],
   "source": [
    "def scale_dataset(A):\n",
    "    A_T, new_A, j =  np.array(A).T, [], 0\n",
    "    means = [np.mean(row) for row in A_T]\n",
    "    stds  = [np.std(row) for row in A_T]\n",
    "    for row in A_T:\n",
    "        new_A.append( [(i - means[j]) / stds[j] for i in row] )\n",
    "        j += 1\n",
    "    return np.array(new_A).T\n",
    "\n",
    "# set random.seed\n",
    "np.random.seed(3)\n",
    "                \n",
    "# create points to be used for class-0\n",
    "npoints, X1, X2 = 50, [], []\n",
    "X1.append(np.random.uniform(low=0.0, high=2.4, size=npoints))   \n",
    "X2.append(np.random.uniform(low=0.0, high=2.4, size=npoints))\n",
    "\n",
    "# create points to be used for class-1\n",
    "X1.append(np.random.uniform(low=1.2, high=3.6, size=npoints))\n",
    "X2.append(np.random.uniform(low=1.2, high=3.6, size=npoints))\n",
    "\n",
    "# create dataset and labels  \n",
    "X, y = [], []\n",
    "for i in range(2):\n",
    "    points = zip( X1[i], X2[i] )\n",
    "    for p in points:\n",
    "        X.append( [p[0], p[1]] )\n",
    "    for n in range(npoints):\n",
    "        y.append(i)\n",
    "X, y = scale_dataset(X), np.array(y) \n",
    "y[y==0] = -1\n",
    "\n",
    "# train, test splits\n",
    "indices = range(len(X))\n",
    "XTest   = np.array([X[i] for i in indices if i%3 == 0])\n",
    "XTrain  = np.array([X[i] for i in indices if i%3 != 0])\n",
    "yTest   = np.array([y[i] for i in indices if i%3 == 0])\n",
    "yTrain  = np.array([y[i] for i in indices if i%3 != 0])"
   ]
  },
  {
   "cell_type": "markdown",
   "metadata": {},
   "source": [
    "Run model"
   ]
  },
  {
   "cell_type": "code",
   "execution_count": 4,
   "metadata": {
    "collapsed": true
   },
   "outputs": [],
   "source": [
    "kernel = gaussian_kernel\n",
    "C   = 1000 \n",
    "eps = 0.01 \n",
    "tol = 0.01\n",
    "m = len(XTrain)\n",
    "model = SMOModel(XTrain, yTrain, C, kernel, np.zeros(m), 0.0, np.zeros(m))\n",
    "initial_error = decision_function(model.alphas, yTrain, kernel, XTrain, \n",
    "                                  XTrain, model.b) - yTrain\n",
    "model.errors = initial_error\n",
    "np.random.seed(0)\n",
    "output = train(model)\n",
    "alphas, b = output.alphas, output.b"
   ]
  },
  {
   "cell_type": "markdown",
   "metadata": {},
   "source": [
    "Plot"
   ]
  },
  {
   "cell_type": "code",
   "execution_count": 5,
   "metadata": {},
   "outputs": [
    {
     "name": "stdout",
     "output_type": "stream",
     "text": [
      "       data point           class  alpha (lagrange multiplier)\n",
      "\n",
      "[-0.15541227 -0.53333197]   -1      609.195463137\n",
      "\n",
      "[-0.96522925  0.41214136]   -1      0.548858651329\n",
      "\n",
      "[-0.37981998 -0.32981084]   -1      399.435758223\n",
      "\n",
      "[ 1.92818852 -0.27898705]   1      0.720365553481\n",
      "\n",
      "[-0.37060206  1.79168328]   1      2.66453937678\n",
      "\n",
      "[-0.23110356 -0.43496408]   1      1000.0\n",
      "\n",
      "[ 1.577404    1.73320855]   1      3.56020979649\n",
      "\n",
      "[ 1.58771418 -0.48077288]   1      2.23496528455\n"
     ]
    },
    {
     "data": {
      "image/png": "[encoded data removed]",
      "text/plain": [
       "<matplotlib.figure.Figure at 0x10cdd2190>"
      ]
     },
     "metadata": {},
     "output_type": "display_data"
    }
   ],
   "source": [
    "ix, nv, nh, pv, ph = 0, [], [], [], []\n",
    "for ix in range(m):\n",
    "    if yTrain[ix] == -1:\n",
    "        nv.append(XTrain[:,0][ix])\n",
    "        nh.append(XTrain[:,1][ix])\n",
    "    else:\n",
    "        pv.append(XTrain[:,0][ix])\n",
    "        ph.append(XTrain[:,1][ix])\n",
    "    ix += 1\n",
    "minv, maxv  = np.min(XTrain[:,0])-0.20, np.max(XTrain[:,0])+.20\n",
    "minh, maxh  = np.min(XTrain[:,1])-0.20, np.max(XTrain[:,1])+.20\n",
    "axes = plt.gca()\n",
    "axes.set_xlim([minv, maxv]) \n",
    "axes.set_ylim([minh, maxh]) \n",
    "plt.scatter(nv, nh, c='r', marker = 'o', s=40, label='-1 cls')\n",
    "plt.scatter(pv, ph, c='b', marker = 'o', s=40, label='+1 cls')\n",
    "plt.title('SVM with RBF kernel')\n",
    "plt.xlabel('training point (1st dimension)')\n",
    "plt.ylabel('training point (2nd dimension)')\n",
    "linsp_v = np.linspace( minv, maxv, 100 )\n",
    "linsp_h = np.linspace( minh, maxh, 100 )\n",
    "boundary = [[decision_function(alphas, yTrain, kernel, XTrain, np.array([xr, yr]), \n",
    "                               b) for yr in linsp_h] for xr in linsp_v]\n",
    "boundary = np.array(boundary).reshape(len(linsp_v), len(linsp_h))\n",
    "axes.contour(linsp_v, linsp_h, boundary, (-1, 0, 1), linewidths=(1, 1, 1), \n",
    "           linestyles=('--', '-', '--'), colors=('b','k','r'))\n",
    "plt.legend(loc='lower right')\n",
    "print '       data point           class  alpha (lagrange multiplier)'\n",
    "for i in range(m):\n",
    "    if alphas[i] > 0:\n",
    "        print '\\n', XTrain[i], ' ', yTrain[i], '    ', alphas[i]"
   ]
  },
  {
   "cell_type": "markdown",
   "metadata": {},
   "source": [
    "Weights"
   ]
  },
  {
   "cell_type": "code",
   "execution_count": 6,
   "metadata": {},
   "outputs": [
    {
     "data": {
      "text/plain": [
       "array([ 25.38224254,  31.12048682])"
      ]
     },
     "execution_count": 6,
     "metadata": {},
     "output_type": "execute_result"
    }
   ],
   "source": [
    "def w_vector(X, y, alphas):\n",
    "    '''\n",
    "    Returns vector of weights. ( y * alpha is scalar, which, dotted with a\n",
    "    training vector, results in a vector; sum of vectors results in a vector ) \n",
    "    '''\n",
    "    return sum(np.dot((y[i] * alphas[i]), X[i]) for i in range(len(alphas)))\n",
    "\n",
    "w_vector(XTrain, yTrain, alphas)"
   ]
  },
  {
   "cell_type": "markdown",
   "metadata": {
    "collapsed": true
   },
   "source": [
    "Accuracy scoring"
   ]
  },
  {
   "cell_type": "code",
   "execution_count": 7,
   "metadata": {},
   "outputs": [
    {
     "data": {
      "text/plain": [
       "88.23529411764706"
      ]
     },
     "execution_count": 7,
     "metadata": {},
     "output_type": "execute_result"
    }
   ],
   "source": [
    "def accuracy_metric(actual, predicted):\n",
    "    correct = 0\n",
    "    for i in range(len(actual)):\n",
    "        if actual[i] == predicted[i]:\n",
    "            correct += 1\n",
    "    accuracy_result = correct / float(len(actual)) * 100.\n",
    "    return accuracy_result\n",
    "\n",
    "prediction_values = []\n",
    "for pt in XTest:\n",
    "    result = decision_function(alphas, yTrain, kernel, XTrain, np.array(pt), b)\n",
    "    prediction_values.append( np.sign(result) )\n",
    "    \n",
    "accuracy_metric(yTest, prediction_values)"
   ]
  },
  {
   "cell_type": "markdown",
   "metadata": {},
   "source": [
    "Predictions on given points"
   ]
  },
  {
   "cell_type": "code",
   "execution_count": 8,
   "metadata": {},
   "outputs": [
    {
     "name": "stdout",
     "output_type": "stream",
     "text": [
      "predictions using decision function\n",
      "point: [1.5, -1.5]   decision value: -6.156 class: -1\n",
      "point: [1.5, -1.0]   decision value: -3.414 class: -1\n",
      "point: [0, 0]   decision value: 9.649 class: +1\n",
      "point: [-1.0, 1.0]   decision value: -3.862 class: -1\n"
     ]
    }
   ],
   "source": [
    "# specify points with which prediction is being made on\n",
    "pts = [ [1.5, -1.5], [1.5, -1.0], [0, 0], [-1.0, 1.0] ]\n",
    "\n",
    "print 'predictions using decision function'\n",
    "for pt in pts:\n",
    "    result = decision_function(alphas, yTrain, kernel, XTrain, np.array(pt), b)\n",
    "    print 'point:', pt, '  decision value:', round(result, 3),\n",
    "    if np.sign(result) < 0: \n",
    "        print 'class: -1'\n",
    "    else: \n",
    "        print 'class: +1'"
   ]
  },
  {
   "cell_type": "code",
   "execution_count": null,
   "metadata": {
    "collapsed": true
   },
   "outputs": [],
   "source": []
  }
 ],
 "metadata": {
  "kernelspec": {
   "display_name": "Python [default]",
   "language": "python",
   "name": "python2"
  },
  "language_info": {
   "codemirror_mode": {
    "name": "ipython",
    "version": 2
   },
   "file_extension": ".py",
   "mimetype": "text/x-python",
   "name": "python",
   "nbconvert_exporter": "python",
   "pygments_lexer": "ipython2",
   "version": "2.7.14"
  }
 },
 "nbformat": 4,
 "nbformat_minor": 1
}
