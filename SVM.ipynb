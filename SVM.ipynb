{
 "cells": [
  {
   "cell_type": "markdown",
   "metadata": {},
   "source": [
    "### Support Vector Machines (with linear kernel) "
   ]
  },
  {
   "cell_type": "markdown",
   "metadata": {},
   "source": [
    "#### Sequential Minimization Optimization algorithm, along with a significant amount of this code was made available through: \n",
    "http://jonchar.net/notebooks/SVM/"
   ]
  },
  {
   "cell_type": "markdown",
   "metadata": {},
   "source": [
    "#### SMO class (SMOModel)"
   ]
  },
  {
   "cell_type": "code",
   "execution_count": 1,
   "metadata": {
    "collapsed": true
   },
   "outputs": [],
   "source": [
    "import numpy as np\n",
    "import matplotlib.pyplot as plt\n",
    "from sklearn.datasets import make_blobs\n",
    "%matplotlib inline\n",
    "\n",
    "class SMOModel:\n",
    "    '''\n",
    "    Container object for model used for sequential minimal optimization.\n",
    "    '''\n",
    "    def __init__(self, X, y, C, kernel, alphas, b, errors):\n",
    "        self.X = X               # training data vector\n",
    "        self.y = y               # class label vector\n",
    "        self.C = C               # regularization parameter\n",
    "        self.kernel = kernel     # kernel function\n",
    "        self.alphas = alphas     # lagrange multiplier vector\n",
    "        self.b = b               # scalar bias term\n",
    "        self.errors = errors     # error cache\n",
    "        self.m = len(self.X)     # store size of training set\n",
    "        \n",
    "def linear_kernel(xi, xj, b=1):\n",
    "    '''\n",
    "    <xi and xj can be matrix or vector>\n",
    "        vector (point) dotted with vector (point): returns scalar,\n",
    "        matrix (dataset) dotted with vector (point): returns vector (dim N),\n",
    "        matrix (dataset) dotted with itself: returns matrix (dim N*N).\n",
    "        \n",
    "    Returns linear combination (inner product) <xi,xj>, plus b.\n",
    "    '''\n",
    "    return np.dot(xi, xj.T) + b"
   ]
  },
  {
   "cell_type": "markdown",
   "metadata": {},
   "source": [
    "#### Training (outer loop function)"
   ]
  },
  {
   "cell_type": "code",
   "execution_count": 2,
   "metadata": {
    "collapsed": true
   },
   "outputs": [],
   "source": [
    "def train(model):\n",
    "    '''\n",
    "    Outer loop of training process: loops through training points, \n",
    "    passes index of each α (as α2) to examine function.  When \n",
    "    an examined-flag is returned, an objective result is computed.\n",
    "    '''\n",
    "    kOne, kTwo = 0, 1   #set initial counter values \n",
    "\n",
    "    #run while loop as long as either counter has a positive value\n",
    "    while kOne > 0 or kTwo > 0:\n",
    "\n",
    "        kOne = 0   # reset first counter\n",
    "        \n",
    "        if kTwo > 0:\n",
    "            \n",
    "            # loop over all training points\n",
    "            for i in range(model.alphas.shape[0]):\n",
    "                \n",
    "                # attempt to optimize values for w and b, using this index of α\n",
    "                examined_flag, model = examine(i, model)\n",
    "                                \n",
    "                # increment counter, if flag returned as 1 (in many cases, 0 will be returned)\n",
    "                kOne += examined_flag\n",
    "                \n",
    "        else: # if no alphas were evaluated during prior iteration of while loop\n",
    "            \n",
    "            # loop over training points where alphas are not already at their limits\n",
    "            for i in np.where((model.alphas != 0) & (model.alphas != model.C))[0]:\n",
    "                \n",
    "                # attempt to optimize values for w and b, using this index of α\n",
    "                examined_flag, model = examine(i, model)\n",
    "\n",
    "                # increment counter, if flag returned as 1 \n",
    "                kOne += examined_flag\n",
    "                        \n",
    "        # kTwo becomes zero after first iteration of while loop, and may subsequently be set back \n",
    "        # to one; eventually both counters will remain zero when α's are no longer being evaluated\n",
    "        if kTwo == 1:\n",
    "            kTwo = 0\n",
    "        elif kOne == 0:\n",
    "            kTwo = 1\n",
    "            \n",
    "    # optimized α vector is returned, embedded in an SMOModel object    \n",
    "    return model"
   ]
  },
  {
   "cell_type": "markdown",
   "metadata": {},
   "source": [
    "#### Training (cont'd) - middle function"
   ]
  },
  {
   "cell_type": "code",
   "execution_count": 3,
   "metadata": {
    "collapsed": true
   },
   "outputs": [],
   "source": [
    "def examine(i2, model):\n",
    "    '''\n",
    "    Index accepted as input with respect to α2. Various heuristic methods are \n",
    "    used for selecting α1, each passing the index of both α values to take_step \n",
    "    function, until a nonzero flag is returned.   \n",
    "    '''\n",
    "    # assign i2 as index for second α (value for α is most often zero)   \n",
    "    alph2 = model.alphas[i2]  \n",
    "    y2 = model.y[i2]\n",
    "    E2 = model.errors[i2]\n",
    "\n",
    "    # proceed if constraints ( α ≥ 0, α ≤ C ) have not been violated\n",
    "    if ( ( (E2*y2) < -tol and alph2 < model.C) or ( (E2*y2) > tol and alph2 > 0) ):\n",
    "        \n",
    "        # proceed with method-1 if there is more than one non-zero α\n",
    "        if len(model.alphas[(model.alphas != 0) & (model.alphas != model.C)]) > 1:\n",
    "            \n",
    "            # method-1: select α1 based on minimum error\n",
    "            if model.errors[i2] > 0:\n",
    "                i1 = np.argmin(model.errors)\n",
    "            elif model.errors[i2] <= 0:\n",
    "                i1 = np.argmax(model.errors)               \n",
    "            step_result, model = take_step(i1, i2, model)\n",
    "            if step_result:\n",
    "                return 1, model\n",
    "\n",
    "        # (if method-1 was skipped or did not return a flag, try method-2)\n",
    "        # method-2:  loop nonzero α's, starting at random point  \n",
    "        for i1 in np.roll(np.where((model.alphas != 0) & (model.alphas != model.C))[0],\n",
    "                          np.random.choice(np.arange(model.m))):\n",
    "            step_result, model = take_step(i1, i2, model)\n",
    "            if step_result:\n",
    "                return 1, model\n",
    "\n",
    "        # (if neither methods 1 nor 2 retured flags, or were skipped, try method-3)\n",
    "        # method-3: loop all α's, starting at a random point\n",
    "        for i1 in np.roll(np.arange(model.m), np.random.choice(np.arange(model.m))): \n",
    "            step_result, model = take_step(i1, i2, model)\n",
    "            if step_result:\n",
    "                return 1, model\n",
    "    \n",
    "    # if neither methods 1,2 nor 3 returned flags, return 0 to train function\n",
    "    return 0, model"
   ]
  },
  {
   "cell_type": "markdown",
   "metadata": {},
   "source": [
    "#### Training (cont'd) inner loop function - computation for alphas, and b"
   ]
  },
  {
   "cell_type": "code",
   "execution_count": 4,
   "metadata": {
    "collapsed": true
   },
   "outputs": [],
   "source": [
    "def take_step(i1, i2, model):\n",
    "    '''\n",
    "    Carries out computations relating to α values, and threshold b. \n",
    "    '''\n",
    "    # do not proceed if α-indices are the same\n",
    "    if i1 == i2:\n",
    "        return 0, model\n",
    "    \n",
    "    # assign i1/i2 as first and second indices\n",
    "    alph1 = model.alphas[i1]\n",
    "    alph2 = model.alphas[i2]\n",
    "    y1 = model.y[i1]\n",
    "    y2 = model.y[i2]\n",
    "    E1 = model.errors[i1]\n",
    "    E2 = model.errors[i2]\n",
    "    s = y1 * y2\n",
    "    \n",
    "    # set upper and lower α bounds (based on relation between two y-targets)\n",
    "    if (y1 != y2):                            # if y1/y2 are not equal\n",
    "        L = max(0, alph2 - alph1)                 # set lower bound to max(0, α2-α1)\n",
    "        H = min(model.C, model.C + alph2 - alph1) # and set upper bound to min(C, C+α2-α1)\n",
    "        \n",
    "    elif (y1 == y2):                          # if y1/y2 are equal\n",
    "        L = max(0, alph1 + alph2 - model.C)       # set lower bound to max(0, α2+α1-C)\n",
    "        H = min(model.C, alph1 + alph2)           # and set upper bound to min(C, α2+α1)\n",
    "\n",
    "    # do not proceed with this pair of α's if upper and lower bounds are equal\n",
    "    if (L == H):\n",
    "        return 0, model\n",
    "\n",
    "    # compute 2nd deriv of obj-function (using training-vector inner products)\n",
    "    k12 = model.kernel(model.X[i1], model.X[i2])\n",
    "    k11 = model.kernel(model.X[i1], model.X[i1])\n",
    "    k22 = model.kernel(model.X[i2], model.X[i2])\n",
    "    step = 2 * k12 - k11 - k22               # η = 2<xi,xj> - <xi,xi> - <xj,xj>\n",
    "    \n",
    "    # if derivative is negative (less common), \n",
    "    # compute minimum along constraint                            y2 ⋅ (E1 - E2)\n",
    "    if (step < 0):                               #  α2_new = α2 + -------------\n",
    "        a2 = alph2 - y2 * (E1 - E2) / step       #                      η\n",
    "        \n",
    "        # clip unconstrained minimum\n",
    "        if L < a2 < H: \n",
    "            a2 = a2         #                   {    H     if     α2_new ≥ H;\n",
    "        elif (a2 <= L):     # α2_new,clipped =  { α2_new   if   L < α2_new < H;\n",
    "            a2 = L          #                   {    L     if     α2_new ≤ L\n",
    "        elif (a2 >= H):\n",
    "            a2 = H\n",
    " \n",
    "    else:  # if derivative is non-negative, move α's to endpoint with lowest obj-result\n",
    "        alphas_adj = model.alphas.copy()\n",
    "        \n",
    "        alphas_adj[i2] = L\n",
    "        obj_result_at_L = objective_function(alphas_adj, model.y, model.kernel, model.X) \n",
    "        \n",
    "        alphas_adj[i2] = H\n",
    "        obj_result_at_H = objective_function(alphas_adj, model.y, model.kernel, model.X)\n",
    "        \n",
    "        #          { H    if    obj-result(at L) < obj_result(at H) - eps\n",
    "        # α2_new = { α2         no change if obj_result is the same at both ends\n",
    "        #          { L    if    obj-result(at L) > obj_result(at H) + eps   \n",
    "\n",
    "        if obj_result_at_L > obj_result_at_H + eps:    \n",
    "            a2 = L                    \n",
    "        elif obj_result_at_L < (obj_result_at_H - eps):   \n",
    "            a2 = H\n",
    "        else:\n",
    "            a2 = alph2\n",
    "                        \n",
    "    # push α2 to 0, or C if very close\n",
    "    if a2 < 1e-8:\n",
    "        a2 = 0.0\n",
    "    elif a2 > (model.C - 1e-8):\n",
    "        a2 = model.C\n",
    "    \n",
    "    # do not proceed with this pair of α's if change to α2 was below a certain threshold\n",
    "    if (np.abs(a2 - alph2) < eps * (a2 + alph2 + eps)):\n",
    "        return 0, model\n",
    "    \n",
    "    # compute α1 \n",
    "    a1 = alph1 + s * (alph2 - a2)  # α1_new = α1 + s⋅(α2 - α2_new)\n",
    "\n",
    "    # compute b1\n",
    "    #b1 =  E1  +  y1⋅(α1_new - α1)*<xi,xi>  +  y2⋅(α2_new - α2)*<xi,xj> +   b\n",
    "    b1  =  E1  +  y1*(a1 - alph1) *  k11    +  y2*(a2 - alph2) *  k12   +  model.b\n",
    "\n",
    "    # compute b2\n",
    "    #b2 =  E2  +  y1⋅(α1_new - α1)*<xi,xj>  +  y2⋅(α2_new - α2)*<xj,xj> +   b\n",
    "    b2  =  E2  +  y1*(a1 - alph1) *  k12    +  y2*(a2 - alph2) *  k22   +  model.b\n",
    "    \n",
    "    #compute new b\n",
    "    #                          {      b1       if α1 > 0 and α1 < C;  \n",
    "    #                b_new  =  {      b2       if α2 > 0 and α2 < C;      \n",
    "    #                          {  (b1+b2)*0.5  otherwise\n",
    "    if 0 < a1 and a1 < C:  \n",
    "        b_new = b1\n",
    "    elif  0 < a2 and a2 < C:\n",
    "        b_new = b2\n",
    "    else:  \n",
    "        b_new = (b1+b2) * 0.5\n",
    "\n",
    "    # embed new α's into model \n",
    "    model.alphas[i1], model.alphas[i2] = a1, a2\n",
    "    \n",
    "    # if α's are unbound (eg,  0 < α < C), set error cache to 0\n",
    "    for ix, alph in zip([i1, i2], [a1, a2]):\n",
    "        if 0.0 < alph < model.C:\n",
    "            model.errors[ix] = 0.0\n",
    "    \n",
    "    # update error cache (Ek) with respect to all other training points\n",
    "    oth_pts = [k for k in range(model.m) if (k != i1 and k != i2)]\n",
    "    #             Ek_new  = Ek_old + y1 ⋅ (α1_new - α1_old) ⋅ <x1, x_k> \n",
    "    #                              + y2 ⋅ (α2_new - α2_old) ⋅ <x2, x_k> \n",
    "    #                              + b_old  -  b_new \n",
    "    model.errors[oth_pts] = model.errors[oth_pts] + \\\n",
    "                            y1*(a1 - alph1) * model.kernel(model.X[i1], model.X[oth_pts])+\\\n",
    "                            y2*(a2 - alph2) * model.kernel(model.X[i2], model.X[oth_pts])+\\\n",
    "                            model.b - b_new\n",
    "    \n",
    "    # embed new b into model \n",
    "    model.b = b_new\n",
    "    \n",
    "    # return flag, as well as updated-embedded model\n",
    "    return 1, model"
   ]
  },
  {
   "cell_type": "markdown",
   "metadata": {},
   "source": [
    "#### Objective function"
   ]
  },
  {
   "cell_type": "code",
   "execution_count": 5,
   "metadata": {
    "collapsed": true
   },
   "outputs": [],
   "source": [
    "def objective_function(alphas, target, kernel, X):\n",
    "    '''\n",
    "    Returns the SVM objective function based in the input model defined by:\n",
    "     alphas: vector of Lagrange multipliers\n",
    "     target: vector of class labels (-1 or 1) for training data\n",
    "     kernel: kernel function\n",
    "     X: training data for model\n",
    "     \n",
    "    targets * alphas squared <result is vector>\n",
    "    inner product of dataset with itself <result is N*N matrix>\n",
    "    vector multiplied by matrix <result is N*N matrix>  (note: multiplied, not dotted)\n",
    "    sum matrix <result is vector of dim N>\n",
    "    sum vector <result is scalar>   \n",
    "    ''' \n",
    "    return np.sum(alphas) - 0.5 * np.sum(target * target * kernel(X, X) * alphas * alphas)"
   ]
  },
  {
   "cell_type": "markdown",
   "metadata": {},
   "source": [
    "#### Decision function"
   ]
  },
  {
   "cell_type": "code",
   "execution_count": 6,
   "metadata": {
    "collapsed": true
   },
   "outputs": [],
   "source": [
    "def decision_function(alphas, target, kernel, xi, xj, b):\n",
    "    '''\n",
    "    Applies SVM decision function.\n",
    "    scenarios:  \n",
    "        vector returned as an inner product of dataset with point\n",
    "        matrix returned as an inner product of dataset with itself\n",
    "        alphas*targets is vector\n",
    "        alphas*targets dotted with vector <result is scalar>\n",
    "        alphas*targets dotted with matrix <result is vector>\n",
    "    '''\n",
    "    result = np.dot( (alphas * target), kernel(xi, xj) ) - b\n",
    "    return result"
   ]
  },
  {
   "cell_type": "markdown",
   "metadata": {},
   "source": [
    "#### main - setting regularization parameters"
   ]
  },
  {
   "cell_type": "code",
   "execution_count": 7,
   "metadata": {
    "collapsed": true
   },
   "outputs": [],
   "source": [
    "# penalty factor, C\n",
    "#   larger C  → less regularization, fewer errors, hard margin behavior\n",
    "#   smaller C → more reg, softer margin behavior with respect to outliers                      \n",
    "C   = 1000 \n",
    "\n",
    "# epsillon, ε \n",
    "#   smaller ε → less regularization, more overfit\n",
    "#   ε is sensitive to size of training set, range of target variables, and gaussian noise\n",
    "eps = 0.01 \n",
    "\n",
    "# tolerance, an additional parameter \n",
    "#   higher setting → less reg, more overfit, allows training on more pairs of α's\n",
    "#   lower setting  → more reg, less overfit, allows training on fewer pairs of α's \n",
    "tol = 0.01"
   ]
  },
  {
   "cell_type": "markdown",
   "metadata": {},
   "source": [
    "#### main (continued) - load data"
   ]
  },
  {
   "cell_type": "code",
   "execution_count": 8,
   "metadata": {
    "collapsed": true
   },
   "outputs": [],
   "source": [
    "def scale_dataset(A):\n",
    "    A_T, new_A, j =  A.T, [], 0\n",
    "    means = [np.mean(row) for row in A_T]\n",
    "    stds  = [np.std(row) for row in A_T]\n",
    "    for row in A_T:\n",
    "        new_A.append( [(i - means[j]) / stds[j] for i in row] )\n",
    "        j += 1\n",
    "    return np.array(new_A).T\n",
    "\n",
    "inputs, y = make_blobs(n_samples=100, centers=2, n_features=2, random_state=1)  \n",
    "y[y == 0] = -1  #change classes to +1 and -1\n",
    "X, y = scale_dataset(inputs), np.array(y)\n",
    "m = len(X)  # m will be number of training points, alphas, and size of error cache\n",
    "\n",
    "#axes sorting/class (for plotting purposes) \n",
    "minv, maxv  = np.min(X[:,0])-0.20, np.max(X[:,0])+.20\n",
    "minh, maxh  = np.min(X[:,1])-0.20, np.max(X[:,1])+.20\n",
    "ix, nv, nh, pv, ph = 0, [], [], [], []    # remove ix = 0\n",
    "for ix in range(m):\n",
    "    if y[ix] == -1:\n",
    "        nv.append(X[:,0][ix])\n",
    "        nh.append(X[:,1][ix])\n",
    "    else:\n",
    "        pv.append(X[:,0][ix])\n",
    "        ph.append(X[:,1][ix])\n",
    "    ix += 1                                        "
   ]
  },
  {
   "cell_type": "markdown",
   "metadata": {},
   "source": [
    "#### main (continued) - instantiate and train"
   ]
  },
  {
   "cell_type": "code",
   "execution_count": 9,
   "metadata": {
    "collapsed": true
   },
   "outputs": [],
   "source": [
    "#  select: linear_kernel, or other kernel\n",
    "kernel = linear_kernel  \n",
    "\n",
    "#  instantiate model\n",
    "#  passing in:   X, y, C, kernel, initial_alphas, initial_b,   errors    \n",
    "model = SMOModel(X, y, C, kernel,   np.zeros(m) ,     0.0  , np.zeros(m) )\n",
    "\n",
    "#  initialize error cache\n",
    "initial_error = decision_function(model.alphas, y, kernel, X, X, model.b) - y\n",
    "model.errors = initial_error\n",
    "\n",
    "#  train model\n",
    "np.random.seed(0)\n",
    "output = train(model)\n",
    "alphas, b = output.alphas, output.b"
   ]
  },
  {
   "cell_type": "markdown",
   "metadata": {},
   "source": [
    "#### visualize"
   ]
  },
  {
   "cell_type": "code",
   "execution_count": 10,
   "metadata": {},
   "outputs": [
    {
     "name": "stdout",
     "output_type": "stream",
     "text": [
      "       data point           class  alpha (lagrange multiplier)\n",
      "\n",
      "[ 1.16466313  0.43617802]   -1      0.482328659806\n",
      "\n",
      "[ 0.60754434  0.85371564]   -1      3.29597460436e-17\n",
      "\n",
      "[-0.44558325 -1.02919521]   1      0.409401339813\n",
      "\n",
      "[-0.74821928 -0.51438394]   1      0.0729273199934\n"
     ]
    },
    {
     "data": {
      "image/png": "[encoded data removed]",
      "text/plain": [
       "<matplotlib.figure.Figure at 0x1a0c0720d0>"
      ]
     },
     "metadata": {},
     "output_type": "display_data"
    }
   ],
   "source": [
    "axes = plt.gca()\n",
    "axes.set_xlim([minv, maxv]) \n",
    "axes.set_ylim([minh, maxh]) \n",
    "plt.scatter(nv, nh, c='r', marker = 'o', s=40, label='-1 cls')\n",
    "plt.scatter(pv, ph, c='b', marker = 'o', s=40, label='+1 cls')\n",
    "plt.title('Support Vector Machine')\n",
    "plt.xlabel('training point (1st dimension)')\n",
    "plt.ylabel('training point (2nd dimension)')\n",
    "\n",
    "# define vertical and horizontal line space\n",
    "linsp_v = np.linspace( minv, maxv, 100 )\n",
    "linsp_h = np.linspace( minh, maxh, 100 )\n",
    "\n",
    "# define decision boundary by applying decision-function to X-space\n",
    "boundary = [[decision_function(alphas, y, kernel, X, np.array([xr, yr]), \n",
    "                               b) for yr in linsp_h] for xr in linsp_v]\n",
    "boundary = np.array(boundary).reshape(len(linsp_v), len(linsp_h))\n",
    "\n",
    "# show margin of decision boundary\n",
    "axes.contour(linsp_v, linsp_h, boundary, (-1, 0, 1), linewidths=(1, 1, 1), \n",
    "           linestyles=('--', '-', '--'), colors=('r','k','b'))\n",
    "plt.legend(loc='lower right')\n",
    "\n",
    "print '       data point           class  alpha (lagrange multiplier)'\n",
    "for i in range(m):\n",
    "    if alphas[i] > 0:\n",
    "        print '\\n', X[i], ' ', y[i], '    ', alphas[i]"
   ]
  },
  {
   "cell_type": "markdown",
   "metadata": {},
   "source": [
    "#### weights vector"
   ]
  },
  {
   "cell_type": "code",
   "execution_count": 11,
   "metadata": {},
   "outputs": [
    {
     "data": {
      "text/plain": [
       "array([-0.79873841, -0.6692477 ])"
      ]
     },
     "execution_count": 11,
     "metadata": {},
     "output_type": "execute_result"
    }
   ],
   "source": [
    "def w_vector(X, y, alphas):\n",
    "    '''\n",
    "    Returns vector of weights. ( y * alpha is scalar, which, dotted with a\n",
    "    training vector, results in a vector; sum of vectors results in a vector ) \n",
    "    '''\n",
    "    return sum(np.dot((y[i] * alphas[i]), X[i]) for i in range(len(alphas)))\n",
    "\n",
    "w_vector(X, y, alphas)"
   ]
  },
  {
   "cell_type": "markdown",
   "metadata": {},
   "source": [
    "#### make prediction"
   ]
  },
  {
   "cell_type": "code",
   "execution_count": 12,
   "metadata": {},
   "outputs": [
    {
     "name": "stdout",
     "output_type": "stream",
     "text": [
      "predictions using decision function\n",
      "point: [1.5, -1.5]   decision value: -0.135 class: -1\n",
      "point: [1.5, -1.0]   decision value: -0.47 class: -1\n",
      "point: [0, 0]   decision value: 0.059 class: +1\n",
      "point: [-1.0, 1.0]   decision value: 0.188 class: +1\n",
      "\n",
      "predictions using dot(w,x)-b:\n",
      "point: [1.5, -1.5]   dot(w,x)-b: -0.135 -1\n",
      "point: [1.5, -1.0]   dot(w,x)-b: -0.47 -1\n",
      "point: [0, 0]   dot(w,x)-b: 0.059 +1\n",
      "point: [-1.0, 1.0]   dot(w,x)-b: 0.188 +1\n"
     ]
    }
   ],
   "source": [
    "# specify points with which prediction is being made on\n",
    "pts = [ [1.5, -1.5], [1.5, -1.0], [0, 0], [-1.0, 1.0] ]\n",
    "\n",
    "print 'predictions using decision function'\n",
    "for pt in pts:\n",
    "    result = decision_function(alphas, y, kernel, X, np.array(pt), b)\n",
    "    print 'point:', pt, '  decision value:', round(result, 3),\n",
    "    if np.sign(result) < 0: print 'class: -1'\n",
    "    else: print 'class: +1'\n",
    "        \n",
    "print '\\npredictions using dot(w,x)-b:'\n",
    "for pt in pts:\n",
    "    w = w_vector(X, y, alphas)\n",
    "    result = np.dot(w, pt) - b\n",
    "    print 'point:', pt, '  dot(w,x)-b:', round(result, 3),\n",
    "    if np.sign(result) < 0: print '-1'\n",
    "    else: print '+1'"
   ]
  },
  {
   "cell_type": "markdown",
   "metadata": {},
   "source": [
    "#### in sample error"
   ]
  },
  {
   "cell_type": "code",
   "execution_count": 13,
   "metadata": {},
   "outputs": [
    {
     "data": {
      "text/plain": [
       "100.0"
      ]
     },
     "execution_count": 13,
     "metadata": {},
     "output_type": "execute_result"
    }
   ],
   "source": [
    "def accuracy_metric(actual, predicted):\n",
    "    correct = 0\n",
    "    for i in range(len(actual)):\n",
    "        if actual[i] == predicted[i]:\n",
    "            correct += 1\n",
    "    accuracy_result = correct / float(len(actual)) * 100.\n",
    "    return accuracy_result\n",
    "\n",
    "prediction_values = []\n",
    "for pt in X:\n",
    "    result = decision_function(alphas, y, kernel, X, np.array(pt), b)\n",
    "    prediction_values.append( np.sign(result) )\n",
    "    \n",
    "accuracy_metric(y, prediction_values)"
   ]
  },
  {
   "cell_type": "markdown",
   "metadata": {},
   "source": [
    "#### add an outlier"
   ]
  },
  {
   "cell_type": "code",
   "execution_count": 14,
   "metadata": {},
   "outputs": [
    {
     "data": {
      "text/plain": [
       "<matplotlib.legend.Legend at 0x1a0c2d2f50>"
      ]
     },
     "execution_count": 14,
     "metadata": {},
     "output_type": "execute_result"
    },
    {
     "data": {
      "image/png": "[encoded data removed]",
      "text/plain": [
       "<matplotlib.figure.Figure at 0x10575e9d0>"
      ]
     },
     "metadata": {},
     "output_type": "display_data"
    }
   ],
   "source": [
    "X_outlier = np.append(X, [0, 0])\n",
    "X_outlier = X_outlier.reshape(X.shape[0]+1, X.shape[1])\n",
    "y_outlier = np.append(y, 1)\n",
    "minv, maxv = np.min(X_outlier[:,0])-0.20, np.max(X_outlier[:,0])+.20\n",
    "minh, maxh = np.min(X_outlier[:,1])-0.20, np.max(X_outlier[:,1])+.20\n",
    "ix, nv, nh, pv, ph = 0, [], [], [], []\n",
    "m = len(X_outlier)\n",
    "for ix in range(m):\n",
    "    if y_outlier[ix] == -1:\n",
    "        nv.append(X_outlier[:,0][ix])\n",
    "        nh.append(X_outlier[:,1][ix])\n",
    "    else:\n",
    "        pv.append(X_outlier[:,0][ix])\n",
    "        ph.append(X_outlier[:,1][ix])\n",
    "    ix += 1\n",
    "model = SMOModel(X_outlier, y_outlier, C, kernel, np.zeros(m), 0.0, np.zeros(m) )\n",
    "initial_error = decision_function(model.alphas, y_outlier, kernel, X_outlier, X_outlier, \n",
    "                                  model.b) - y_outlier\n",
    "model.errors = initial_error\n",
    "output = train(model)\n",
    "alphas, b = output.alphas, output.b\n",
    "axes = plt.gca()\n",
    "axes.set_xlim([minv, maxv]) \n",
    "axes.set_ylim([minh, maxh]) \n",
    "plt.scatter(nv, nh, c='r', marker = 'o', s=40, label='-1 cls')\n",
    "plt.scatter(pv, ph, c='b', marker = 'o', s=40, label='+1 cls')\n",
    "plt.title('Support Vector - hard margin example w/outlier, C=1000')\n",
    "plt.xlabel('training point (1st dimension)')\n",
    "plt.ylabel('training point (2nd dimension)')\n",
    "\n",
    "linsp_v = np.linspace( minv, maxv, 100 )\n",
    "linsp_h = np.linspace( minh, maxh, 100 )\n",
    "boundary = [[decision_function(alphas, y_outlier, kernel, \n",
    "                               X_outlier, np.array([xr, yr]), \n",
    "                               b) for yr in linsp_h] for xr in linsp_v]\n",
    "boundary = np.array(boundary).reshape(len(linsp_v), len(linsp_h))\n",
    "axes.contour(linsp_v, linsp_h, boundary, (-1, 0, 1), linewidths=(1, 1, 1), \n",
    "           linestyles=('--', '-', '--'), colors=('r','k','b'))\n",
    "plt.legend(loc='lower right')"
   ]
  },
  {
   "cell_type": "code",
   "execution_count": 15,
   "metadata": {},
   "outputs": [
    {
     "name": "stdout",
     "output_type": "stream",
     "text": [
      "weights change when adding outlier\n"
     ]
    },
    {
     "data": {
      "text/plain": [
       "array([-1.52058595, -1.24989328])"
      ]
     },
     "execution_count": 15,
     "metadata": {},
     "output_type": "execute_result"
    }
   ],
   "source": [
    "print 'weights change when adding outlier'\n",
    "w_vector(X_outlier, y_outlier, alphas)"
   ]
  },
  {
   "cell_type": "markdown",
   "metadata": {},
   "source": [
    "#### soft margin example"
   ]
  },
  {
   "cell_type": "code",
   "execution_count": 16,
   "metadata": {},
   "outputs": [
    {
     "data": {
      "text/plain": [
       "<matplotlib.legend.Legend at 0x1a0c0f6e50>"
      ]
     },
     "execution_count": 16,
     "metadata": {},
     "output_type": "execute_result"
    },
    {
     "data": {
      "image/png": "[encoded data removed]",
      "text/plain": [
       "<matplotlib.figure.Figure at 0x10575e610>"
      ]
     },
     "metadata": {},
     "output_type": "display_data"
    }
   ],
   "source": [
    "#           1             N\n",
    "# minimize --- ⋅ wTw + C  ∑ ⋅ ξ_n\n",
    "#           2            n=1\n",
    "\n",
    "# margin is violated when y_n(wTx_n + b) ≥ 1 fails, however, this failure \n",
    "# can be quantified by introducing a slack ξ_n ≥ 0 for every point\n",
    "#                     N\n",
    "# total violation  =  ∑ ⋅ ξ_n   (lower setting for C permits more slack)\n",
    "#                    n=1\n",
    "C = 1\n",
    "model = SMOModel(X_outlier, y_outlier, C, kernel, np.zeros(m), 0.0, np.zeros(m) )\n",
    "initial_error = decision_function(model.alphas, y_outlier, kernel, X_outlier, \n",
    "                                  X_outlier, model.b) - y_outlier\n",
    "model.errors = initial_error\n",
    "output = train(model)\n",
    "alphas, b = output.alphas, output.b\n",
    "axes = plt.gca()\n",
    "axes.set_xlim([minv, maxv]) \n",
    "axes.set_ylim([minh, maxh]) \n",
    "plt.scatter(nv, nh, c='r', marker = 'o', s=40, label='-1 cls')\n",
    "plt.scatter(pv, ph, c='b', marker = 'o', s=40, label='+1 cls')\n",
    "plt.title('Support Vector - soft margin example w/outlier, C=1')\n",
    "plt.xlabel('training point (1st dimension)')\n",
    "plt.ylabel('training point (2nd dimension)')\n",
    "\n",
    "linsp_v = np.linspace( minv, maxv, 100 )\n",
    "linsp_h = np.linspace( minh, maxh, 100 )\n",
    "boundary = [[decision_function(alphas, y_outlier, kernel, \n",
    "                               X_outlier, np.array([xr, yr]), \n",
    "                               b) for yr in linsp_h] for xr in linsp_v]\n",
    "boundary = np.array(boundary).reshape(len(linsp_v), len(linsp_h))\n",
    "axes.contour(linsp_v, linsp_h, boundary, (-1, 0, 1), linewidths=(1, 1, 1), \n",
    "           linestyles=('--', '-', '--'), colors=('r','k','b'))\n",
    "plt.legend(loc='lower right')"
   ]
  },
  {
   "cell_type": "code",
   "execution_count": 17,
   "metadata": {},
   "outputs": [
    {
     "name": "stdout",
     "output_type": "stream",
     "text": [
      "weights change again when C changes\n"
     ]
    },
    {
     "data": {
      "text/plain": [
       "array([-0.62936862, -0.86616424])"
      ]
     },
     "execution_count": 17,
     "metadata": {},
     "output_type": "execute_result"
    }
   ],
   "source": [
    "print 'weights change again when C changes'\n",
    "w_vector(X_outlier, y_outlier, alphas)"
   ]
  },
  {
   "cell_type": "code",
   "execution_count": null,
   "metadata": {
    "collapsed": true
   },
   "outputs": [],
   "source": []
  }
 ],
 "metadata": {
  "kernelspec": {
   "display_name": "Python [default]",
   "language": "python",
   "name": "python2"
  },
  "language_info": {
   "codemirror_mode": {
    "name": "ipython",
    "version": 2
   },
   "file_extension": ".py",
   "mimetype": "text/x-python",
   "name": "python",
   "nbconvert_exporter": "python",
   "pygments_lexer": "ipython2",
   "version": "2.7.14"
  }
 },
 "nbformat": 4,
 "nbformat_minor": 1
}
