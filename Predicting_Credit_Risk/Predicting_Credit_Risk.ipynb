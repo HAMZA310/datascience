{
 "cells": [
  {
   "cell_type": "markdown",
   "metadata": {},
   "source": [
    "# Predicting Credit Risk\n",
    "September 2016 <br>\n",
    "Author: Peter Corniotes"
   ]
  },
  {
   "cell_type": "markdown",
   "metadata": {},
   "source": [
    "#### Table of Contents"
   ]
  },
  {
   "cell_type": "markdown",
   "metadata": {},
   "source": [
    "I.   Data\n",
    "\n",
    "     a. Loading Data \n",
    "        1. import modules/display options \n",
    "        2. load data \n",
    "\n",
    "     b. Data Cleaning \n",
    "     \n",
    "     c. Exploratory Data Analysis \n",
    "        1. distinguish between continuous and qualitative features \n",
    "        2. histograms(german) \n",
    "        3. histograms(australia) \n",
    "        4. summary statistics\n",
    "        5. class sizes \n",
    "\n",
    "     d. Feature Analysis & Selection - Continuous Attributes\n",
    "        1. hypothesis tests for 2 population means (german) \n",
    "        2. hypothesis tests for 2 population means (australia) \n",
    "        3. remove features with pvalue above threshold (eg, insignificant) \n",
    "        4. check correlation between remaining continuous attributes \n",
    "\n",
    "     e. Feature Analysis & Selection - Qualitative Attributes\n",
    "        1. contingency table functions   \n",
    "        2. contingency tables/chi-square tests (german) \n",
    "        3. contingency tables/chi-square tests (australia) \n",
    "        4. remove features with pvalue above threshold (eg, insignificant)\n",
    "      \n",
    "     f. Set Target Variable \n",
    "        1. set target variable\n",
    "        2. remove target variable from features dataset\n",
    "\n",
    "II.  Model Building & Scoring \n",
    "\n",
    "     a. Grid Search\n",
    "        1. logistic regression parameters\n",
    "        2. k-nearest neighbors parameters   \n",
    "        3. naive bayes  \n",
    "        4. decision tree parameters\n",
    "     b. Grid Search - Ensemble Methods\n",
    "        1. bagging classifier parameters (german)\n",
    "        2. bagging classifier parameters (australia)\n",
    "        3. extra trees parameters (german)\n",
    "        4. extra trees parameters (australia)\n",
    "        5. random forests parameters (german)\n",
    "        6. random forests parameters (australia)\n",
    "        7. gradient boosting parameters (german)\n",
    "        8. gradient boosting parameters(australia)\n",
    "     c. Model Scoring using Accuracy, F1 & ROC/AUC\n",
    "        1. model scoring (german)\n",
    "        2. model scoring (australia)\n",
    "     \n",
    "III. Model Scoring using a Cost Matrix\n",
    "\n",
    "     a. Creating a Cost Matrix\n",
    "        1. setting rows & columns in the confusion matrix\n",
    "        2. customizing row/column labels and entries in the confusion matrix\n",
    "        3. analyzing cost, gain & profit\n",
    "     b. Predicting Probabilities\n",
    "        1. using wrappers in conjunction with cross_val_predict\n",
    "        2. predicting probabilities (german)\n",
    "        3. predicting probabilities (australia)\n",
    "     c. Confusion Matrices & Profits at a 50% Threshold \n",
    "        1. confusion matrices and profits (german)\n",
    "        2. confusion matrices and profits (australia) \n",
    "     d. Profits at Other Thresholds\n",
    "        1. profits (german)\n",
    "        2. profits (australia) \n",
    "        \n",
    "IV.  Other Analytics & Metrics \n",
    "\n",
    "     a. Feature Importance \n",
    "     b. Model Distinctions\n",
    "     c. Closing"
   ]
  },
  {
   "cell_type": "markdown",
   "metadata": {},
   "source": [
    "### I. Data "
   ]
  },
  {
   "cell_type": "markdown",
   "metadata": {},
   "source": [
    "#### I(a). Loading Data"
   ]
  },
  {
   "cell_type": "markdown",
   "metadata": {},
   "source": [
    "I(a)(1). import modules/display options"
   ]
  },
  {
   "cell_type": "code",
   "execution_count": 1,
   "metadata": {
    "collapsed": false
   },
   "outputs": [],
   "source": [
    "from __future__ import division\n",
    "import pandas as pd\n",
    "import numpy as np\n",
    "import scipy.stats\n",
    "import matplotlib.pyplot as plt\n",
    "import pylab\n",
    "import seaborn as sns\n",
    "from sklearn.cross_validation import cross_val_score\n",
    "from sklearn.cross_validation import train_test_split\n",
    "from sklearn.cross_validation import cross_val_predict\n",
    "from sklearn.grid_search import GridSearchCV\n",
    "from sklearn.linear_model import LogisticRegression\n",
    "from sklearn.neighbors import KNeighborsClassifier\n",
    "from sklearn.naive_bayes import GaussianNB\n",
    "from sklearn.tree import DecisionTreeClassifier\n",
    "from sklearn.ensemble import BaggingClassifier\n",
    "from sklearn.ensemble import ExtraTreesClassifier\n",
    "from sklearn.ensemble import RandomForestClassifier\n",
    "from sklearn.ensemble import GradientBoostingClassifier\n",
    "from sklearn.metrics import auc\n",
    "from sklearn.metrics import roc_curve\n",
    "from sklearn.metrics import roc_auc_score\n",
    "pd.set_option('display.max_columns', 100)\n",
    "pd.set_option('display.expand_frame_repr', False)\n",
    "%matplotlib inline"
   ]
  },
  {
   "cell_type": "markdown",
   "metadata": {},
   "source": [
    " "
   ]
  },
  {
   "cell_type": "markdown",
   "metadata": {},
   "source": [
    "I(a)(2). load data"
   ]
  },
  {
   "cell_type": "code",
   "execution_count": 2,
   "metadata": {
    "collapsed": false
   },
   "outputs": [
    {
     "data": {
      "text/html": [
       "<div>\n",
       "<table border=\"1\" class=\"dataframe\">\n",
       "  <thead>\n",
       "    <tr style=\"text-align: right;\">\n",
       "      <th></th>\n",
       "      <th>Unnamed: 0</th>\n",
       "      <th>Creditability</th>\n",
       "      <th>Account.Balance</th>\n",
       "      <th>Duration.of.Credit..month.</th>\n",
       "      <th>Payment.Status.of.Previous.Credit</th>\n",
       "      <th>Purpose</th>\n",
       "      <th>Credit.Amount</th>\n",
       "      <th>Value.Savings.Stocks</th>\n",
       "      <th>Length.of.current.employment</th>\n",
       "      <th>Instalment.per.cent</th>\n",
       "      <th>Sex...Marital.Status</th>\n",
       "      <th>Guarantors</th>\n",
       "      <th>Duration.in.Current.address</th>\n",
       "      <th>Most.valuable.available.asset</th>\n",
       "      <th>Age..years.</th>\n",
       "      <th>Concurrent.Credits</th>\n",
       "      <th>Type.of.apartment</th>\n",
       "      <th>No.of.Credits.at.this.Bank</th>\n",
       "      <th>Occupation</th>\n",
       "      <th>No.of.dependents</th>\n",
       "      <th>Telephone</th>\n",
       "      <th>Foreign.Worker</th>\n",
       "    </tr>\n",
       "  </thead>\n",
       "  <tbody>\n",
       "    <tr>\n",
       "      <th>0</th>\n",
       "      <td>497</td>\n",
       "      <td>1</td>\n",
       "      <td>3</td>\n",
       "      <td>6</td>\n",
       "      <td>2</td>\n",
       "      <td>3</td>\n",
       "      <td>2108</td>\n",
       "      <td>1</td>\n",
       "      <td>3</td>\n",
       "      <td>2</td>\n",
       "      <td>3</td>\n",
       "      <td>1</td>\n",
       "      <td>2</td>\n",
       "      <td>1</td>\n",
       "      <td>29</td>\n",
       "      <td>2</td>\n",
       "      <td>1</td>\n",
       "      <td>1</td>\n",
       "      <td>1</td>\n",
       "      <td>1</td>\n",
       "      <td>1</td>\n",
       "      <td>1</td>\n",
       "    </tr>\n",
       "    <tr>\n",
       "      <th>1</th>\n",
       "      <td>756</td>\n",
       "      <td>0</td>\n",
       "      <td>1</td>\n",
       "      <td>15</td>\n",
       "      <td>1</td>\n",
       "      <td>4</td>\n",
       "      <td>950</td>\n",
       "      <td>1</td>\n",
       "      <td>4</td>\n",
       "      <td>4</td>\n",
       "      <td>2</td>\n",
       "      <td>1</td>\n",
       "      <td>3</td>\n",
       "      <td>3</td>\n",
       "      <td>33</td>\n",
       "      <td>2</td>\n",
       "      <td>1</td>\n",
       "      <td>2</td>\n",
       "      <td>1</td>\n",
       "      <td>2</td>\n",
       "      <td>1</td>\n",
       "      <td>1</td>\n",
       "    </tr>\n",
       "    <tr>\n",
       "      <th>2</th>\n",
       "      <td>580</td>\n",
       "      <td>0</td>\n",
       "      <td>1</td>\n",
       "      <td>42</td>\n",
       "      <td>2</td>\n",
       "      <td>3</td>\n",
       "      <td>7174</td>\n",
       "      <td>4</td>\n",
       "      <td>3</td>\n",
       "      <td>4</td>\n",
       "      <td>1</td>\n",
       "      <td>1</td>\n",
       "      <td>3</td>\n",
       "      <td>3</td>\n",
       "      <td>30</td>\n",
       "      <td>2</td>\n",
       "      <td>2</td>\n",
       "      <td>1</td>\n",
       "      <td>1</td>\n",
       "      <td>1</td>\n",
       "      <td>2</td>\n",
       "      <td>1</td>\n",
       "    </tr>\n",
       "    <tr>\n",
       "      <th>3</th>\n",
       "      <td>833</td>\n",
       "      <td>0</td>\n",
       "      <td>3</td>\n",
       "      <td>36</td>\n",
       "      <td>3</td>\n",
       "      <td>4</td>\n",
       "      <td>7980</td>\n",
       "      <td>4</td>\n",
       "      <td>1</td>\n",
       "      <td>4</td>\n",
       "      <td>2</td>\n",
       "      <td>1</td>\n",
       "      <td>4</td>\n",
       "      <td>3</td>\n",
       "      <td>27</td>\n",
       "      <td>2</td>\n",
       "      <td>1</td>\n",
       "      <td>2</td>\n",
       "      <td>1</td>\n",
       "      <td>1</td>\n",
       "      <td>2</td>\n",
       "      <td>1</td>\n",
       "    </tr>\n",
       "    <tr>\n",
       "      <th>4</th>\n",
       "      <td>602</td>\n",
       "      <td>1</td>\n",
       "      <td>3</td>\n",
       "      <td>24</td>\n",
       "      <td>3</td>\n",
       "      <td>2</td>\n",
       "      <td>2028</td>\n",
       "      <td>1</td>\n",
       "      <td>3</td>\n",
       "      <td>2</td>\n",
       "      <td>2</td>\n",
       "      <td>1</td>\n",
       "      <td>2</td>\n",
       "      <td>2</td>\n",
       "      <td>30</td>\n",
       "      <td>2</td>\n",
       "      <td>2</td>\n",
       "      <td>2</td>\n",
       "      <td>1</td>\n",
       "      <td>1</td>\n",
       "      <td>1</td>\n",
       "      <td>1</td>\n",
       "    </tr>\n",
       "  </tbody>\n",
       "</table>\n",
       "</div>"
      ],
      "text/plain": [
       "   Unnamed: 0  Creditability  Account.Balance  Duration.of.Credit..month.  Payment.Status.of.Previous.Credit  Purpose  Credit.Amount  Value.Savings.Stocks  Length.of.current.employment  Instalment.per.cent  Sex...Marital.Status  Guarantors  Duration.in.Current.address  Most.valuable.available.asset  Age..years.  Concurrent.Credits  Type.of.apartment  No.of.Credits.at.this.Bank  Occupation  No.of.dependents  Telephone  Foreign.Worker\n",
       "0         497              1                3                           6                                  2        3           2108                     1                             3                    2                     3           1                            2                              1           29                   2                  1                           1           1                 1          1               1\n",
       "1         756              0                1                          15                                  1        4            950                     1                             4                    4                     2           1                            3                              3           33                   2                  1                           2           1                 2          1               1\n",
       "2         580              0                1                          42                                  2        3           7174                     4                             3                    4                     1           1                            3                              3           30                   2                  2                           1           1                 1          2               1\n",
       "3         833              0                3                          36                                  3        4           7980                     4                             1                    4                     2           1                            4                              3           27                   2                  1                           2           1                 1          2               1\n",
       "4         602              1                3                          24                                  3        2           2028                     1                             3                    2                     2           1                            2                              2           30                   2                  2                           2           1                 1          1               1"
      ]
     },
     "execution_count": 2,
     "metadata": {},
     "output_type": "execute_result"
    }
   ],
   "source": [
    "url1='https://onlinecourses.science.psu.edu/stat857/sites/onlinecourses.science.psu.edu.stat857/files/Training50.csv'\n",
    "url2='https://onlinecourses.science.psu.edu/stat857/sites/onlinecourses.science.psu.edu.stat857/files/Test50.csv'\n",
    "german = pd.read_csv(url1)\n",
    "b = pd.read_csv(url2)\n",
    "german = german.append(b)\n",
    "german = german.reset_index(drop=True)\n",
    "german.head()"
   ]
  },
  {
   "cell_type": "code",
   "execution_count": 3,
   "metadata": {
    "collapsed": false
   },
   "outputs": [
    {
     "data": {
      "text/html": [
       "<div>\n",
       "<table border=\"1\" class=\"dataframe\">\n",
       "  <thead>\n",
       "    <tr style=\"text-align: right;\">\n",
       "      <th></th>\n",
       "      <th>0</th>\n",
       "      <th>1</th>\n",
       "      <th>2</th>\n",
       "      <th>3</th>\n",
       "      <th>4</th>\n",
       "      <th>5</th>\n",
       "      <th>6</th>\n",
       "      <th>7</th>\n",
       "      <th>8</th>\n",
       "      <th>9</th>\n",
       "      <th>10</th>\n",
       "      <th>11</th>\n",
       "      <th>12</th>\n",
       "      <th>13</th>\n",
       "      <th>14</th>\n",
       "    </tr>\n",
       "  </thead>\n",
       "  <tbody>\n",
       "    <tr>\n",
       "      <th>0</th>\n",
       "      <td>1</td>\n",
       "      <td>22.08</td>\n",
       "      <td>11.46</td>\n",
       "      <td>2</td>\n",
       "      <td>4</td>\n",
       "      <td>4</td>\n",
       "      <td>1.585</td>\n",
       "      <td>0</td>\n",
       "      <td>0</td>\n",
       "      <td>0</td>\n",
       "      <td>1</td>\n",
       "      <td>2</td>\n",
       "      <td>100</td>\n",
       "      <td>1213</td>\n",
       "      <td>0</td>\n",
       "    </tr>\n",
       "    <tr>\n",
       "      <th>1</th>\n",
       "      <td>0</td>\n",
       "      <td>22.67</td>\n",
       "      <td>7.00</td>\n",
       "      <td>2</td>\n",
       "      <td>8</td>\n",
       "      <td>4</td>\n",
       "      <td>0.165</td>\n",
       "      <td>0</td>\n",
       "      <td>0</td>\n",
       "      <td>0</td>\n",
       "      <td>0</td>\n",
       "      <td>2</td>\n",
       "      <td>160</td>\n",
       "      <td>1</td>\n",
       "      <td>0</td>\n",
       "    </tr>\n",
       "    <tr>\n",
       "      <th>2</th>\n",
       "      <td>0</td>\n",
       "      <td>29.58</td>\n",
       "      <td>1.75</td>\n",
       "      <td>1</td>\n",
       "      <td>4</td>\n",
       "      <td>4</td>\n",
       "      <td>1.250</td>\n",
       "      <td>0</td>\n",
       "      <td>0</td>\n",
       "      <td>0</td>\n",
       "      <td>1</td>\n",
       "      <td>2</td>\n",
       "      <td>280</td>\n",
       "      <td>1</td>\n",
       "      <td>0</td>\n",
       "    </tr>\n",
       "    <tr>\n",
       "      <th>3</th>\n",
       "      <td>0</td>\n",
       "      <td>21.67</td>\n",
       "      <td>11.50</td>\n",
       "      <td>1</td>\n",
       "      <td>5</td>\n",
       "      <td>3</td>\n",
       "      <td>0.000</td>\n",
       "      <td>1</td>\n",
       "      <td>1</td>\n",
       "      <td>11</td>\n",
       "      <td>1</td>\n",
       "      <td>2</td>\n",
       "      <td>0</td>\n",
       "      <td>1</td>\n",
       "      <td>1</td>\n",
       "    </tr>\n",
       "    <tr>\n",
       "      <th>4</th>\n",
       "      <td>1</td>\n",
       "      <td>20.17</td>\n",
       "      <td>8.17</td>\n",
       "      <td>2</td>\n",
       "      <td>6</td>\n",
       "      <td>4</td>\n",
       "      <td>1.960</td>\n",
       "      <td>1</td>\n",
       "      <td>1</td>\n",
       "      <td>14</td>\n",
       "      <td>0</td>\n",
       "      <td>2</td>\n",
       "      <td>60</td>\n",
       "      <td>159</td>\n",
       "      <td>1</td>\n",
       "    </tr>\n",
       "  </tbody>\n",
       "</table>\n",
       "</div>"
      ],
      "text/plain": [
       "   0      1      2   3   4   5      6   7   8   9   10  11   12    13  14\n",
       "0   1  22.08  11.46   2   4   4  1.585   0   0   0   1   2  100  1213   0\n",
       "1   0  22.67   7.00   2   8   4  0.165   0   0   0   0   2  160     1   0\n",
       "2   0  29.58   1.75   1   4   4  1.250   0   0   0   1   2  280     1   0\n",
       "3   0  21.67  11.50   1   5   3  0.000   1   1  11   1   2    0     1   1\n",
       "4   1  20.17   8.17   2   6   4  1.960   1   1  14   0   2   60   159   1"
      ]
     },
     "execution_count": 3,
     "metadata": {},
     "output_type": "execute_result"
    }
   ],
   "source": [
    "target_url = (\"https://archive.ics.uci.edu/ml/machine-learning-databases/\\\n",
    "statlog/australian/australian.dat\")\n",
    "australia = pd.read_csv(target_url,header=None, sep=' ')\n",
    "australia.head()"
   ]
  },
  {
   "cell_type": "markdown",
   "metadata": {},
   "source": [
    " "
   ]
  },
  {
   "cell_type": "markdown",
   "metadata": {},
   "source": [
    "#### I(b). Data Cleaning"
   ]
  },
  {
   "cell_type": "code",
   "execution_count": 4,
   "metadata": {
    "collapsed": false
   },
   "outputs": [
    {
     "name": "stdout",
     "output_type": "stream",
     "text": [
      "shape (1000, 21)\n"
     ]
    },
    {
     "data": {
      "text/html": [
       "<div>\n",
       "<table border=\"1\" class=\"dataframe\">\n",
       "  <thead>\n",
       "    <tr style=\"text-align: right;\">\n",
       "      <th></th>\n",
       "      <th>Creditability</th>\n",
       "      <th>Account_Balance</th>\n",
       "      <th>Duration_of_Credit_month</th>\n",
       "      <th>Payment_Status_of_Previous_Credit</th>\n",
       "      <th>Purpose</th>\n",
       "      <th>Credit_Amount</th>\n",
       "      <th>Value_Savings_Stocks</th>\n",
       "      <th>Length_of_current_employment</th>\n",
       "      <th>Instalment_per_cent</th>\n",
       "      <th>Sex_Marital_Status</th>\n",
       "      <th>Guarantors</th>\n",
       "      <th>Duration_in_Current_address</th>\n",
       "      <th>Most_valuable_available_asset</th>\n",
       "      <th>Age_years</th>\n",
       "      <th>Concurrent_Credits</th>\n",
       "      <th>Type_of_apartment</th>\n",
       "      <th>No_of_Credits_at_this_Bank</th>\n",
       "      <th>Occupation</th>\n",
       "      <th>No_of_dependents</th>\n",
       "      <th>Telephone</th>\n",
       "      <th>Foreign_Worker</th>\n",
       "    </tr>\n",
       "  </thead>\n",
       "  <tbody>\n",
       "    <tr>\n",
       "      <th>0</th>\n",
       "      <td>1</td>\n",
       "      <td>3</td>\n",
       "      <td>6</td>\n",
       "      <td>2</td>\n",
       "      <td>3</td>\n",
       "      <td>2108</td>\n",
       "      <td>1</td>\n",
       "      <td>3</td>\n",
       "      <td>2</td>\n",
       "      <td>3</td>\n",
       "      <td>1</td>\n",
       "      <td>2</td>\n",
       "      <td>1</td>\n",
       "      <td>29</td>\n",
       "      <td>2</td>\n",
       "      <td>1</td>\n",
       "      <td>1</td>\n",
       "      <td>1</td>\n",
       "      <td>1</td>\n",
       "      <td>1</td>\n",
       "      <td>1</td>\n",
       "    </tr>\n",
       "    <tr>\n",
       "      <th>1</th>\n",
       "      <td>0</td>\n",
       "      <td>1</td>\n",
       "      <td>15</td>\n",
       "      <td>1</td>\n",
       "      <td>4</td>\n",
       "      <td>950</td>\n",
       "      <td>1</td>\n",
       "      <td>4</td>\n",
       "      <td>4</td>\n",
       "      <td>2</td>\n",
       "      <td>1</td>\n",
       "      <td>3</td>\n",
       "      <td>3</td>\n",
       "      <td>33</td>\n",
       "      <td>2</td>\n",
       "      <td>1</td>\n",
       "      <td>2</td>\n",
       "      <td>1</td>\n",
       "      <td>2</td>\n",
       "      <td>1</td>\n",
       "      <td>1</td>\n",
       "    </tr>\n",
       "    <tr>\n",
       "      <th>2</th>\n",
       "      <td>0</td>\n",
       "      <td>1</td>\n",
       "      <td>42</td>\n",
       "      <td>2</td>\n",
       "      <td>3</td>\n",
       "      <td>7174</td>\n",
       "      <td>4</td>\n",
       "      <td>3</td>\n",
       "      <td>4</td>\n",
       "      <td>1</td>\n",
       "      <td>1</td>\n",
       "      <td>3</td>\n",
       "      <td>3</td>\n",
       "      <td>30</td>\n",
       "      <td>2</td>\n",
       "      <td>2</td>\n",
       "      <td>1</td>\n",
       "      <td>1</td>\n",
       "      <td>1</td>\n",
       "      <td>2</td>\n",
       "      <td>1</td>\n",
       "    </tr>\n",
       "    <tr>\n",
       "      <th>3</th>\n",
       "      <td>0</td>\n",
       "      <td>3</td>\n",
       "      <td>36</td>\n",
       "      <td>3</td>\n",
       "      <td>4</td>\n",
       "      <td>7980</td>\n",
       "      <td>4</td>\n",
       "      <td>1</td>\n",
       "      <td>4</td>\n",
       "      <td>2</td>\n",
       "      <td>1</td>\n",
       "      <td>4</td>\n",
       "      <td>3</td>\n",
       "      <td>27</td>\n",
       "      <td>2</td>\n",
       "      <td>1</td>\n",
       "      <td>2</td>\n",
       "      <td>1</td>\n",
       "      <td>1</td>\n",
       "      <td>2</td>\n",
       "      <td>1</td>\n",
       "    </tr>\n",
       "    <tr>\n",
       "      <th>4</th>\n",
       "      <td>1</td>\n",
       "      <td>3</td>\n",
       "      <td>24</td>\n",
       "      <td>3</td>\n",
       "      <td>2</td>\n",
       "      <td>2028</td>\n",
       "      <td>1</td>\n",
       "      <td>3</td>\n",
       "      <td>2</td>\n",
       "      <td>2</td>\n",
       "      <td>1</td>\n",
       "      <td>2</td>\n",
       "      <td>2</td>\n",
       "      <td>30</td>\n",
       "      <td>2</td>\n",
       "      <td>2</td>\n",
       "      <td>2</td>\n",
       "      <td>1</td>\n",
       "      <td>1</td>\n",
       "      <td>1</td>\n",
       "      <td>1</td>\n",
       "    </tr>\n",
       "  </tbody>\n",
       "</table>\n",
       "</div>"
      ],
      "text/plain": [
       "   Creditability  Account_Balance  Duration_of_Credit_month  Payment_Status_of_Previous_Credit  Purpose  Credit_Amount  Value_Savings_Stocks  Length_of_current_employment  Instalment_per_cent  Sex_Marital_Status  Guarantors  Duration_in_Current_address  Most_valuable_available_asset  Age_years  Concurrent_Credits  Type_of_apartment  No_of_Credits_at_this_Bank  Occupation  No_of_dependents  Telephone  Foreign_Worker\n",
       "0              1                3                         6                                  2        3           2108                     1                             3                    2                   3           1                            2                              1         29                   2                  1                           1           1                 1          1               1\n",
       "1              0                1                        15                                  1        4            950                     1                             4                    4                   2           1                            3                              3         33                   2                  1                           2           1                 2          1               1\n",
       "2              0                1                        42                                  2        3           7174                     4                             3                    4                   1           1                            3                              3         30                   2                  2                           1           1                 1          2               1\n",
       "3              0                3                        36                                  3        4           7980                     4                             1                    4                   2           1                            4                              3         27                   2                  1                           2           1                 1          2               1\n",
       "4              1                3                        24                                  3        2           2028                     1                             3                    2                   2           1                            2                              2         30                   2                  2                           2           1                 1          1               1"
      ]
     },
     "execution_count": 4,
     "metadata": {},
     "output_type": "execute_result"
    }
   ],
   "source": [
    "german.columns = ['unnamed', 'Creditability', 'Account_Balance', 'Duration_of_Credit_month', \n",
    "                  'Payment_Status_of_Previous_Credit','Purpose', 'Credit_Amount', \n",
    "                  'Value_Savings_Stocks', 'Length_of_current_employment','Instalment_per_cent', \n",
    "                  'Sex_Marital_Status', 'Guarantors', 'Duration_in_Current_address', \n",
    "                  'Most_valuable_available_asset', 'Age_years', 'Concurrent_Credits',\n",
    "                  'Type_of_apartment', 'No_of_Credits_at_this_Bank','Occupation', \n",
    "                  'No_of_dependents', 'Telephone', 'Foreign_Worker']\n",
    "del german['unnamed']\n",
    "print 'shape', german.shape\n",
    "german.head()"
   ]
  },
  {
   "cell_type": "code",
   "execution_count": 5,
   "metadata": {
    "collapsed": false
   },
   "outputs": [
    {
     "name": "stdout",
     "output_type": "stream",
     "text": [
      "shape (690, 15)\n"
     ]
    },
    {
     "data": {
      "text/html": [
       "<div>\n",
       "<table border=\"1\" class=\"dataframe\">\n",
       "  <thead>\n",
       "    <tr style=\"text-align: right;\">\n",
       "      <th></th>\n",
       "      <th>A1</th>\n",
       "      <th>A2</th>\n",
       "      <th>A3</th>\n",
       "      <th>A4</th>\n",
       "      <th>A5</th>\n",
       "      <th>A6</th>\n",
       "      <th>A7</th>\n",
       "      <th>A8</th>\n",
       "      <th>A9</th>\n",
       "      <th>A10</th>\n",
       "      <th>A11</th>\n",
       "      <th>A12</th>\n",
       "      <th>A13</th>\n",
       "      <th>A14</th>\n",
       "      <th>Creditability</th>\n",
       "    </tr>\n",
       "  </thead>\n",
       "  <tbody>\n",
       "    <tr>\n",
       "      <th>0</th>\n",
       "      <td>1</td>\n",
       "      <td>22.08</td>\n",
       "      <td>11.46</td>\n",
       "      <td>2</td>\n",
       "      <td>4</td>\n",
       "      <td>4</td>\n",
       "      <td>1.585</td>\n",
       "      <td>0</td>\n",
       "      <td>0</td>\n",
       "      <td>0</td>\n",
       "      <td>1</td>\n",
       "      <td>2</td>\n",
       "      <td>100</td>\n",
       "      <td>1213</td>\n",
       "      <td>0</td>\n",
       "    </tr>\n",
       "    <tr>\n",
       "      <th>1</th>\n",
       "      <td>0</td>\n",
       "      <td>22.67</td>\n",
       "      <td>7.00</td>\n",
       "      <td>2</td>\n",
       "      <td>8</td>\n",
       "      <td>4</td>\n",
       "      <td>0.165</td>\n",
       "      <td>0</td>\n",
       "      <td>0</td>\n",
       "      <td>0</td>\n",
       "      <td>0</td>\n",
       "      <td>2</td>\n",
       "      <td>160</td>\n",
       "      <td>1</td>\n",
       "      <td>0</td>\n",
       "    </tr>\n",
       "    <tr>\n",
       "      <th>2</th>\n",
       "      <td>0</td>\n",
       "      <td>29.58</td>\n",
       "      <td>1.75</td>\n",
       "      <td>1</td>\n",
       "      <td>4</td>\n",
       "      <td>4</td>\n",
       "      <td>1.250</td>\n",
       "      <td>0</td>\n",
       "      <td>0</td>\n",
       "      <td>0</td>\n",
       "      <td>1</td>\n",
       "      <td>2</td>\n",
       "      <td>280</td>\n",
       "      <td>1</td>\n",
       "      <td>0</td>\n",
       "    </tr>\n",
       "    <tr>\n",
       "      <th>3</th>\n",
       "      <td>0</td>\n",
       "      <td>21.67</td>\n",
       "      <td>11.50</td>\n",
       "      <td>1</td>\n",
       "      <td>5</td>\n",
       "      <td>3</td>\n",
       "      <td>0.000</td>\n",
       "      <td>1</td>\n",
       "      <td>1</td>\n",
       "      <td>11</td>\n",
       "      <td>1</td>\n",
       "      <td>2</td>\n",
       "      <td>0</td>\n",
       "      <td>1</td>\n",
       "      <td>1</td>\n",
       "    </tr>\n",
       "    <tr>\n",
       "      <th>4</th>\n",
       "      <td>1</td>\n",
       "      <td>20.17</td>\n",
       "      <td>8.17</td>\n",
       "      <td>2</td>\n",
       "      <td>6</td>\n",
       "      <td>4</td>\n",
       "      <td>1.960</td>\n",
       "      <td>1</td>\n",
       "      <td>1</td>\n",
       "      <td>14</td>\n",
       "      <td>0</td>\n",
       "      <td>2</td>\n",
       "      <td>60</td>\n",
       "      <td>159</td>\n",
       "      <td>1</td>\n",
       "    </tr>\n",
       "  </tbody>\n",
       "</table>\n",
       "</div>"
      ],
      "text/plain": [
       "   A1     A2     A3  A4  A5  A6     A7  A8  A9  A10  A11  A12  A13   A14  Creditability\n",
       "0   1  22.08  11.46   2   4   4  1.585   0   0    0    1    2  100  1213              0\n",
       "1   0  22.67   7.00   2   8   4  0.165   0   0    0    0    2  160     1              0\n",
       "2   0  29.58   1.75   1   4   4  1.250   0   0    0    1    2  280     1              0\n",
       "3   0  21.67  11.50   1   5   3  0.000   1   1   11    1    2    0     1              1\n",
       "4   1  20.17   8.17   2   6   4  1.960   1   1   14    0    2   60   159              1"
      ]
     },
     "execution_count": 5,
     "metadata": {},
     "output_type": "execute_result"
    }
   ],
   "source": [
    "australia.columns = ['A1','A2','A3','A4','A5','A6','A7','A8','A9','A10','A11','A12','A13','A14',\n",
    "                     'Creditability']\n",
    "print 'shape', australia.shape\n",
    "australia.head()"
   ]
  },
  {
   "cell_type": "code",
   "execution_count": 6,
   "metadata": {
    "collapsed": false
   },
   "outputs": [
    {
     "name": "stdout",
     "output_type": "stream",
     "text": [
      "<class 'pandas.core.frame.DataFrame'>\n",
      "RangeIndex: 1000 entries, 0 to 999\n",
      "Data columns (total 21 columns):\n",
      "Creditability                        1000 non-null int64\n",
      "Account_Balance                      1000 non-null int64\n",
      "Duration_of_Credit_month             1000 non-null int64\n",
      "Payment_Status_of_Previous_Credit    1000 non-null int64\n",
      "Purpose                              1000 non-null int64\n",
      "Credit_Amount                        1000 non-null int64\n",
      "Value_Savings_Stocks                 1000 non-null int64\n",
      "Length_of_current_employment         1000 non-null int64\n",
      "Instalment_per_cent                  1000 non-null int64\n",
      "Sex_Marital_Status                   1000 non-null int64\n",
      "Guarantors                           1000 non-null int64\n",
      "Duration_in_Current_address          1000 non-null int64\n",
      "Most_valuable_available_asset        1000 non-null int64\n",
      "Age_years                            1000 non-null int64\n",
      "Concurrent_Credits                   1000 non-null int64\n",
      "Type_of_apartment                    1000 non-null int64\n",
      "No_of_Credits_at_this_Bank           1000 non-null int64\n",
      "Occupation                           1000 non-null int64\n",
      "No_of_dependents                     1000 non-null int64\n",
      "Telephone                            1000 non-null int64\n",
      "Foreign_Worker                       1000 non-null int64\n",
      "dtypes: int64(21)\n",
      "memory usage: 164.1 KB\n"
     ]
    }
   ],
   "source": [
    "german.info()"
   ]
  },
  {
   "cell_type": "code",
   "execution_count": 7,
   "metadata": {
    "collapsed": false
   },
   "outputs": [
    {
     "name": "stdout",
     "output_type": "stream",
     "text": [
      "<class 'pandas.core.frame.DataFrame'>\n",
      "RangeIndex: 690 entries, 0 to 689\n",
      "Data columns (total 15 columns):\n",
      "A1               690 non-null int64\n",
      "A2               690 non-null float64\n",
      "A3               690 non-null float64\n",
      "A4               690 non-null int64\n",
      "A5               690 non-null int64\n",
      "A6               690 non-null int64\n",
      "A7               690 non-null float64\n",
      "A8               690 non-null int64\n",
      "A9               690 non-null int64\n",
      "A10              690 non-null int64\n",
      "A11              690 non-null int64\n",
      "A12              690 non-null int64\n",
      "A13              690 non-null int64\n",
      "A14              690 non-null int64\n",
      "Creditability    690 non-null int64\n",
      "dtypes: float64(3), int64(12)\n",
      "memory usage: 80.9 KB\n"
     ]
    }
   ],
   "source": [
    "australia.info()"
   ]
  },
  {
   "cell_type": "code",
   "execution_count": 8,
   "metadata": {
    "collapsed": false
   },
   "outputs": [
    {
     "name": "stdout",
     "output_type": "stream",
     "text": [
      "Creditability 2\n",
      "Account_Balance 3\n",
      "Duration_of_Credit_month 33\n",
      "Payment_Status_of_Previous_Credit 3\n",
      "Purpose 4\n",
      "Credit_Amount 923\n",
      "Value_Savings_Stocks 4\n",
      "Length_of_current_employment 4\n",
      "Instalment_per_cent 4\n",
      "Sex_Marital_Status 3\n",
      "Guarantors 2\n",
      "Duration_in_Current_address 4\n",
      "Most_valuable_available_asset 4\n",
      "Age_years 53\n",
      "Concurrent_Credits 2\n",
      "Type_of_apartment 3\n",
      "No_of_Credits_at_this_Bank 2\n",
      "Occupation 1\n",
      "No_of_dependents 2\n",
      "Telephone 2\n",
      "Foreign_Worker 2\n"
     ]
    }
   ],
   "source": [
    "# number of unique values in each column\n",
    "for i in german.columns:\n",
    "    print i, german[i].nunique() "
   ]
  },
  {
   "cell_type": "code",
   "execution_count": 9,
   "metadata": {
    "collapsed": false
   },
   "outputs": [
    {
     "name": "stdout",
     "output_type": "stream",
     "text": [
      "A1 2\n",
      "A2 350\n",
      "A3 215\n",
      "A4 3\n",
      "A5 14\n",
      "A6 8\n",
      "A7 132\n",
      "A8 2\n",
      "A9 2\n",
      "A10 23\n",
      "A11 2\n",
      "A12 3\n",
      "A13 171\n",
      "A14 240\n",
      "Creditability 2\n"
     ]
    }
   ],
   "source": [
    "# number of unique values in each column\n",
    "for i in australia.columns:\n",
    "    print i, australia[i].nunique() "
   ]
  },
  {
   "cell_type": "code",
   "execution_count": 6,
   "metadata": {
    "collapsed": false
   },
   "outputs": [
    {
     "name": "stdout",
     "output_type": "stream",
     "text": [
      "shape (1000, 20)\n"
     ]
    }
   ],
   "source": [
    "# delete column with only 1 unique value\n",
    "del german['Occupation']\n",
    "print 'shape', german.shape"
   ]
  },
  {
   "cell_type": "markdown",
   "metadata": {},
   "source": [
    " "
   ]
  },
  {
   "cell_type": "markdown",
   "metadata": {},
   "source": [
    "#### I(c). Exploratory Data Analysis"
   ]
  },
  {
   "cell_type": "markdown",
   "metadata": {},
   "source": [
    "I(c)(1). distinguish between continuous and qualitative features "
   ]
  },
  {
   "cell_type": "code",
   "execution_count": 7,
   "metadata": {
    "collapsed": true
   },
   "outputs": [],
   "source": [
    "german_continuous = ['Age_years', 'Credit_Amount', 'Duration_of_Credit_month']\n",
    "\n",
    "german_qualitative = ['Account_Balance', 'Concurrent_Credits', 'Duration_in_Current_address', \n",
    "                      'Foreign_Worker', 'Guarantors', 'Instalment_per_cent', \n",
    "                      'Length_of_current_employment', 'Most_valuable_available_asset', \n",
    "                      'No_of_Credits_at_this_Bank', 'No_of_dependents', \n",
    "                      'Payment_Status_of_Previous_Credit', 'Purpose', 'Sex_Marital_Status', \n",
    "                      'Telephone', 'Type_of_apartment', 'Value_Savings_Stocks']"
   ]
  },
  {
   "cell_type": "code",
   "execution_count": 8,
   "metadata": {
    "collapsed": true
   },
   "outputs": [],
   "source": [
    "australia_continuous = ['A2','A3','A7','A10','A13','A14']\n",
    "\n",
    "australia_qualitative = ['A1','A4','A5','A6','A8','A9','A11','A12']"
   ]
  },
  {
   "cell_type": "markdown",
   "metadata": {},
   "source": [
    " "
   ]
  },
  {
   "cell_type": "markdown",
   "metadata": {},
   "source": [
    "I(c)(2). histograms (german)"
   ]
  },
  {
   "cell_type": "code",
   "execution_count": 13,
   "metadata": {
    "collapsed": false
   },
   "outputs": [
    {
     "data": {
      "text/plain": [
       "<matplotlib.text.Text at 0x119c02f90>"
      ]
     },
     "execution_count": 13,
     "metadata": {},
     "output_type": "execute_result"
    },
    {
     "data": {
      "image/png": "[encoded data removed]",
      "text/plain": [
       "<matplotlib.figure.Figure at 0x1175922d0>"
      ]
     },
     "metadata": {},
     "output_type": "display_data"
    },
    {
     "data": {
      "image/png": "[encoded data removed]",
      "text/plain": [
       "<matplotlib.figure.Figure at 0x119b9ae50>"
      ]
     },
     "metadata": {},
     "output_type": "display_data"
    },
    {
     "data": {
      "image/png": "[encoded data removed]",
      "text/plain": [
       "<matplotlib.figure.Figure at 0x119c6bdd0>"
      ]
     },
     "metadata": {},
     "output_type": "display_data"
    }
   ],
   "source": [
    "ages = german['Age_years']\n",
    "amounts = german['Credit_Amount']\n",
    "durations = german['Duration_of_Credit_month']\n",
    " \n",
    "fig1 = plt.figure()\n",
    "ax1 = fig1.add_subplot(2, 1, 1)\n",
    "n, bins, patches = ax1.hist(ages)\n",
    "ax1.set_xlabel('(german) Age')\n",
    "ax1.set_ylabel('Frequency')\n",
    " \n",
    "fig2 = plt.figure()\n",
    "ax2 = fig2.add_subplot(2, 1, 1)\n",
    "n, bins, patches = ax2.hist(amounts)\n",
    "ax2.set_xlabel('(german) Credit Amount')\n",
    "ax2.set_ylabel('Frequency')\n",
    " \n",
    "fig3 = plt.figure()\n",
    "ax3 = fig3.add_subplot(2, 1, 1)\n",
    "n, bins, patches = ax3.hist(durations)\n",
    "ax3.set_xlabel('(german) Duration of Credit in months')\n",
    "ax3.set_ylabel('Frequency')"
   ]
  },
  {
   "cell_type": "markdown",
   "metadata": {},
   "source": [
    " "
   ]
  },
  {
   "cell_type": "markdown",
   "metadata": {},
   "source": [
    "I(c)(3). histograms (australia)"
   ]
  },
  {
   "cell_type": "code",
   "execution_count": 14,
   "metadata": {
    "collapsed": false
   },
   "outputs": [
    {
     "data": {
      "text/plain": [
       "<matplotlib.text.Text at 0x11a280290>"
      ]
     },
     "execution_count": 14,
     "metadata": {},
     "output_type": "execute_result"
    },
    {
     "data": {
      "image/png": "[encoded data removed]",
      "text/plain": [
       "<matplotlib.figure.Figure at 0x11758eed0>"
      ]
     },
     "metadata": {},
     "output_type": "display_data"
    },
    {
     "data": {
      "image/png": "[encoded data removed]",
      "text/plain": [
       "<matplotlib.figure.Figure at 0x11a5078d0>"
      ]
     },
     "metadata": {},
     "output_type": "display_data"
    },
    {
     "data": {
      "image/png": "[encoded data removed]",
      "text/plain": [
       "<matplotlib.figure.Figure at 0x11a59f850>"
      ]
     },
     "metadata": {},
     "output_type": "display_data"
    },
    {
     "data": {
      "image/png": "[encoded data removed]",
      "text/plain": [
       "<matplotlib.figure.Figure at 0x11a66eb50>"
      ]
     },
     "metadata": {},
     "output_type": "display_data"
    },
    {
     "data": {
      "image/png": "[encoded data removed]",
      "text/plain": [
       "<matplotlib.figure.Figure at 0x11a719fd0>"
      ]
     },
     "metadata": {},
     "output_type": "display_data"
    },
    {
     "data": {
      "image/png": "[encoded data removed]",
      "text/plain": [
       "<matplotlib.figure.Figure at 0x11a7eb2d0>"
      ]
     },
     "metadata": {},
     "output_type": "display_data"
    }
   ],
   "source": [
    "A2_list = australia['A2']\n",
    "A3_list = australia['A3']\n",
    "A7_list = australia['A7']\n",
    "A10_list = australia['A10']\n",
    "A13_list = australia['A13']\n",
    "A14_list = australia['A14']\n",
    "\n",
    "fig1 = plt.figure()\n",
    "ax1 = fig1.add_subplot(2, 1, 1)\n",
    "n, bins, patches = ax1.hist(A2_list)\n",
    "ax1.set_xlabel('A2')\n",
    "ax1.set_ylabel('Frequency')\n",
    "\n",
    "fig2 = plt.figure()\n",
    "ax2 = fig2.add_subplot(2, 1, 1)\n",
    "n, bins, patches = ax2.hist(A3_list)\n",
    "ax2.set_xlabel('A3')\n",
    "ax2.set_ylabel('Frequency')\n",
    "\n",
    "fig3 = plt.figure()\n",
    "ax3 = fig3.add_subplot(2, 1, 1)\n",
    "n, bins, patches = ax3.hist(A7_list)\n",
    "ax3.set_xlabel('A7')\n",
    "ax3.set_ylabel('Frequency')\n",
    "\n",
    "fig4 = plt.figure()\n",
    "ax4 = fig4.add_subplot(2, 1, 1)\n",
    "n, bins, patches = ax4.hist(A10_list)\n",
    "ax4.set_xlabel('A10')\n",
    "ax4.set_ylabel('Frequency')\n",
    "\n",
    "fig5 = plt.figure()\n",
    "ax5 = fig5.add_subplot(2, 1, 1)\n",
    "n, bins, patches = ax5.hist(A13_list)\n",
    "ax5.set_xlabel('A13')\n",
    "ax5.set_ylabel('Frequency')\n",
    "\n",
    "fig6 = plt.figure()\n",
    "ax6 = fig6.add_subplot(2, 1, 1)\n",
    "n, bins, patches = ax6.hist(A14_list)\n",
    "ax6.set_xlabel('A14')\n",
    "ax6.set_ylabel('Frequency')"
   ]
  },
  {
   "cell_type": "markdown",
   "metadata": {},
   "source": [
    "  "
   ]
  },
  {
   "cell_type": "markdown",
   "metadata": {},
   "source": [
    "I(c)(4). summary statistics"
   ]
  },
  {
   "cell_type": "code",
   "execution_count": 15,
   "metadata": {
    "collapsed": false
   },
   "outputs": [
    {
     "data": {
      "text/html": [
       "<div>\n",
       "<table border=\"1\" class=\"dataframe\">\n",
       "  <thead>\n",
       "    <tr style=\"text-align: right;\">\n",
       "      <th></th>\n",
       "      <th>Age_years</th>\n",
       "      <th>Credit_Amount</th>\n",
       "      <th>Duration_of_Credit_month</th>\n",
       "    </tr>\n",
       "  </thead>\n",
       "  <tbody>\n",
       "    <tr>\n",
       "      <th>count</th>\n",
       "      <td>1000.00000</td>\n",
       "      <td>1000.00000</td>\n",
       "      <td>1000.000000</td>\n",
       "    </tr>\n",
       "    <tr>\n",
       "      <th>mean</th>\n",
       "      <td>35.54200</td>\n",
       "      <td>3271.24800</td>\n",
       "      <td>20.903000</td>\n",
       "    </tr>\n",
       "    <tr>\n",
       "      <th>std</th>\n",
       "      <td>11.35267</td>\n",
       "      <td>2822.75176</td>\n",
       "      <td>12.058814</td>\n",
       "    </tr>\n",
       "    <tr>\n",
       "      <th>min</th>\n",
       "      <td>19.00000</td>\n",
       "      <td>250.00000</td>\n",
       "      <td>4.000000</td>\n",
       "    </tr>\n",
       "    <tr>\n",
       "      <th>25%</th>\n",
       "      <td>27.00000</td>\n",
       "      <td>1365.50000</td>\n",
       "      <td>12.000000</td>\n",
       "    </tr>\n",
       "    <tr>\n",
       "      <th>50%</th>\n",
       "      <td>33.00000</td>\n",
       "      <td>2319.50000</td>\n",
       "      <td>18.000000</td>\n",
       "    </tr>\n",
       "    <tr>\n",
       "      <th>75%</th>\n",
       "      <td>42.00000</td>\n",
       "      <td>3972.25000</td>\n",
       "      <td>24.000000</td>\n",
       "    </tr>\n",
       "    <tr>\n",
       "      <th>max</th>\n",
       "      <td>75.00000</td>\n",
       "      <td>18424.00000</td>\n",
       "      <td>72.000000</td>\n",
       "    </tr>\n",
       "  </tbody>\n",
       "</table>\n",
       "</div>"
      ],
      "text/plain": [
       "        Age_years  Credit_Amount  Duration_of_Credit_month\n",
       "count  1000.00000     1000.00000               1000.000000\n",
       "mean     35.54200     3271.24800                 20.903000\n",
       "std      11.35267     2822.75176                 12.058814\n",
       "min      19.00000      250.00000                  4.000000\n",
       "25%      27.00000     1365.50000                 12.000000\n",
       "50%      33.00000     2319.50000                 18.000000\n",
       "75%      42.00000     3972.25000                 24.000000\n",
       "max      75.00000    18424.00000                 72.000000"
      ]
     },
     "execution_count": 15,
     "metadata": {},
     "output_type": "execute_result"
    }
   ],
   "source": [
    "german[german_continuous].describe()"
   ]
  },
  {
   "cell_type": "code",
   "execution_count": 16,
   "metadata": {
    "collapsed": false
   },
   "outputs": [
    {
     "data": {
      "text/html": [
       "<div>\n",
       "<table border=\"1\" class=\"dataframe\">\n",
       "  <thead>\n",
       "    <tr style=\"text-align: right;\">\n",
       "      <th></th>\n",
       "      <th>A2</th>\n",
       "      <th>A3</th>\n",
       "      <th>A7</th>\n",
       "      <th>A10</th>\n",
       "      <th>A13</th>\n",
       "      <th>A14</th>\n",
       "    </tr>\n",
       "  </thead>\n",
       "  <tbody>\n",
       "    <tr>\n",
       "      <th>count</th>\n",
       "      <td>690.000000</td>\n",
       "      <td>690.000000</td>\n",
       "      <td>690.000000</td>\n",
       "      <td>690.00000</td>\n",
       "      <td>690.000000</td>\n",
       "      <td>690.000000</td>\n",
       "    </tr>\n",
       "    <tr>\n",
       "      <th>mean</th>\n",
       "      <td>31.568203</td>\n",
       "      <td>4.758725</td>\n",
       "      <td>2.223406</td>\n",
       "      <td>2.40000</td>\n",
       "      <td>184.014493</td>\n",
       "      <td>1018.385507</td>\n",
       "    </tr>\n",
       "    <tr>\n",
       "      <th>std</th>\n",
       "      <td>11.853273</td>\n",
       "      <td>4.978163</td>\n",
       "      <td>3.346513</td>\n",
       "      <td>4.86294</td>\n",
       "      <td>172.159274</td>\n",
       "      <td>5210.102598</td>\n",
       "    </tr>\n",
       "    <tr>\n",
       "      <th>min</th>\n",
       "      <td>13.750000</td>\n",
       "      <td>0.000000</td>\n",
       "      <td>0.000000</td>\n",
       "      <td>0.00000</td>\n",
       "      <td>0.000000</td>\n",
       "      <td>1.000000</td>\n",
       "    </tr>\n",
       "    <tr>\n",
       "      <th>25%</th>\n",
       "      <td>22.670000</td>\n",
       "      <td>1.000000</td>\n",
       "      <td>0.165000</td>\n",
       "      <td>0.00000</td>\n",
       "      <td>80.000000</td>\n",
       "      <td>1.000000</td>\n",
       "    </tr>\n",
       "    <tr>\n",
       "      <th>50%</th>\n",
       "      <td>28.625000</td>\n",
       "      <td>2.750000</td>\n",
       "      <td>1.000000</td>\n",
       "      <td>0.00000</td>\n",
       "      <td>160.000000</td>\n",
       "      <td>6.000000</td>\n",
       "    </tr>\n",
       "    <tr>\n",
       "      <th>75%</th>\n",
       "      <td>37.707500</td>\n",
       "      <td>7.207500</td>\n",
       "      <td>2.625000</td>\n",
       "      <td>3.00000</td>\n",
       "      <td>272.000000</td>\n",
       "      <td>396.500000</td>\n",
       "    </tr>\n",
       "    <tr>\n",
       "      <th>max</th>\n",
       "      <td>80.250000</td>\n",
       "      <td>28.000000</td>\n",
       "      <td>28.500000</td>\n",
       "      <td>67.00000</td>\n",
       "      <td>2000.000000</td>\n",
       "      <td>100001.000000</td>\n",
       "    </tr>\n",
       "  </tbody>\n",
       "</table>\n",
       "</div>"
      ],
      "text/plain": [
       "               A2          A3          A7        A10          A13            A14\n",
       "count  690.000000  690.000000  690.000000  690.00000   690.000000     690.000000\n",
       "mean    31.568203    4.758725    2.223406    2.40000   184.014493    1018.385507\n",
       "std     11.853273    4.978163    3.346513    4.86294   172.159274    5210.102598\n",
       "min     13.750000    0.000000    0.000000    0.00000     0.000000       1.000000\n",
       "25%     22.670000    1.000000    0.165000    0.00000    80.000000       1.000000\n",
       "50%     28.625000    2.750000    1.000000    0.00000   160.000000       6.000000\n",
       "75%     37.707500    7.207500    2.625000    3.00000   272.000000     396.500000\n",
       "max     80.250000   28.000000   28.500000   67.00000  2000.000000  100001.000000"
      ]
     },
     "execution_count": 16,
     "metadata": {},
     "output_type": "execute_result"
    }
   ],
   "source": [
    "australia[australia_continuous].describe()"
   ]
  },
  {
   "cell_type": "markdown",
   "metadata": {},
   "source": [
    " "
   ]
  },
  {
   "cell_type": "markdown",
   "metadata": {},
   "source": [
    "I(c)(5). class size"
   ]
  },
  {
   "cell_type": "code",
   "execution_count": 17,
   "metadata": {
    "collapsed": false
   },
   "outputs": [
    {
     "name": "stdout",
     "output_type": "stream",
     "text": [
      "observations (rows) in german positive class 700\n",
      "observations (rows) in german negative class 300\n",
      "\n",
      "observations (rows) in australia positive class 307\n",
      "observations (rows) in australia negative class 383\n"
     ]
    }
   ],
   "source": [
    "#separate positive and negative classes \n",
    "german_positive_class = german.loc[german['Creditability'] == 1]\n",
    "german_negative_class = german.loc[german['Creditability'] == 0]\n",
    "australia_positive_class = australia.loc[australia['Creditability'] == 1]\n",
    "australia_negative_class = australia.loc[australia['Creditability'] == 0]\n",
    "\n",
    "#confirm number of rows in each class\n",
    "print 'observations (rows) in german positive class', len(german_positive_class)\n",
    "print 'observations (rows) in german negative class', len(german_negative_class)\n",
    "print '\\nobservations (rows) in australia positive class', len(australia_positive_class)\n",
    "print 'observations (rows) in australia negative class', len(australia_negative_class)"
   ]
  },
  {
   "cell_type": "markdown",
   "metadata": {},
   "source": [
    "### II. Feature Analysis & Selection"
   ]
  },
  {
   "cell_type": "markdown",
   "metadata": {},
   "source": [
    "#### II(a). Feature Analysis & Selection - Continuous Attributes"
   ]
  },
  {
   "cell_type": "markdown",
   "metadata": {},
   "source": [
    "II(a)(1). hypothesis tests for 2 population means (german) "
   ]
  },
  {
   "cell_type": "code",
   "execution_count": 18,
   "metadata": {
    "collapsed": false
   },
   "outputs": [
    {
     "name": "stdout",
     "output_type": "stream",
     "text": [
      "\n",
      "Age_years\n",
      "mean, german positive class 36.22\n",
      "mean, german negative class 33.96\n",
      "standard deviation, positive class 11.34\n",
      "standard deviation, negative class 11.21\n",
      "standard error 0.78\n",
      "test statistic 2.912\n",
      "pvalue 0.0036\n",
      "Age_years from german positive class is not independent from Age_years in german negative class\n",
      "\n",
      "Credit_Amount\n",
      "mean, german positive class 2985.44\n",
      "mean, german negative class 3938.13\n",
      "standard deviation, positive class 2399.78\n",
      "standard deviation, negative class 3529.92\n",
      "standard error 223.07\n",
      "test statistic -4.271\n",
      "pvalue 0.0\n",
      "Credit_Amount from german positive class is independent from Credit_Amount in german negative class\n",
      "\n",
      "Duration_of_Credit_month\n",
      "mean, german positive class 19.21\n",
      "mean, german negative class 24.86\n",
      "standard deviation, positive class 11.07\n",
      "standard deviation, negative class 13.26\n",
      "standard error 0.87\n",
      "test statistic -6.479\n",
      "pvalue 0.0\n",
      "Duration_of_Credit_month from german positive class is independent from Duration_of_Credit_month in german negative class\n"
     ]
    }
   ],
   "source": [
    "alpha = 0.0026   # 0.05 signifiance level / 19 hypothesis  \n",
    "for feature in german_continuous:\n",
    "    \n",
    "    positive_class = german_positive_class[feature]\n",
    "    negative_class = german_negative_class[feature] \n",
    "    print\n",
    "    print feature\n",
    "\n",
    "    #mean\n",
    "    mu_1 = np.mean(positive_class)\n",
    "    mu_2 = np.mean(negative_class)\n",
    "    print \"mean, german positive class\", round(mu_1, 2)\n",
    "    print \"mean, german negative class\", round(mu_2, 2)\n",
    "\n",
    "    #standard deviation\n",
    "    std_1 = np.std(positive_class)\n",
    "    std_2 = np.std(negative_class)\n",
    "    print \"standard deviation, positive class\", round(std_1, 2)\n",
    "    print \"standard deviation, negative class\", round(std_2, 2)\n",
    "\n",
    "    #standard error\n",
    "    n_1 = len(positive_class)\n",
    "    n_2 = len(negative_class)\n",
    "    grp_1 = np.std(positive_class)**2 / n_1\n",
    "    grp_2 = np.std(negative_class)**2 / n_2\n",
    "    standard_err = np.sqrt(grp_1 + grp_2)\n",
    "    print \"standard error\", round(standard_err, 2)\n",
    "\n",
    "    #test statistic\n",
    "    test_stat = (mu_1 - mu_2) / standard_err\n",
    "    print \"test statistic\", round(test_stat, 3)\n",
    "\n",
    "    #pvalue\n",
    "    if test_stat < 0:\n",
    "        pvalue = 2 * scipy.stats.norm.cdf(test_stat)   #two tailed (test stat is negative)\n",
    "    else:\n",
    "        pvalue = 2 * scipy.stats.norm.cdf(-test_stat)  #two tailed (test stat is positive)\n",
    "    print \"pvalue\", round(pvalue, 4)\n",
    "\n",
    "    #conclusion                            \n",
    "    if pvalue <= alpha:\n",
    "        print feature, \"from german positive class is independent from\", feature, \\\n",
    "        \"in german negative class\"\n",
    "    else:\n",
    "        print feature, \"from german positive class is not independent from\", feature, \\\n",
    "        \"in german negative class\""
   ]
  },
  {
   "cell_type": "markdown",
   "metadata": {},
   "source": [
    " "
   ]
  },
  {
   "cell_type": "markdown",
   "metadata": {},
   "source": [
    "II(a)(2). hypothesis tests for 2 population means with respect to continuous features (australia) "
   ]
  },
  {
   "cell_type": "code",
   "execution_count": 19,
   "metadata": {
    "collapsed": false
   },
   "outputs": [
    {
     "name": "stdout",
     "output_type": "stream",
     "text": [
      "\n",
      "A2\n",
      "mean, australia positive class 33.71\n",
      "mean, australia negative class 29.85\n",
      "standard deviation, positive class 12.75\n",
      "standard deviation, negative class 10.77\n",
      "standard error 0.91\n",
      "test statistic 4.223\n",
      "pvalue 0.0\n",
      "A2 from australia positive class is independent from A2 in australia negative class\n",
      "\n",
      "A3\n",
      "mean, australia positive class 5.9\n",
      "mean, australia negative class 3.84\n",
      "standard deviation, positive class 5.46\n",
      "standard deviation, negative class 4.33\n",
      "standard error 0.38\n",
      "test statistic 5.401\n",
      "pvalue 0.0\n",
      "A3 from australia positive class is independent from A3 in australia negative class\n",
      "\n",
      "A7\n",
      "mean, australia positive class 3.43\n",
      "mean, australia negative class 1.26\n",
      "standard deviation, positive class 4.11\n",
      "standard deviation, negative class 2.12\n",
      "standard error 0.26\n",
      "test statistic 8.393\n",
      "pvalue 0.0\n",
      "A7 from australia positive class is independent from A7 in australia negative class\n",
      "\n",
      "A10\n",
      "mean, australia positive class 4.61\n",
      "mean, australia negative class 0.63\n",
      "standard deviation, positive class 6.31\n",
      "standard deviation, negative class 1.9\n",
      "standard error 0.37\n",
      "test statistic 10.656\n",
      "pvalue 0.0\n",
      "A10 from australia positive class is independent from A10 in australia negative class\n",
      "\n",
      "A13\n",
      "mean, australia positive class 164.8\n",
      "mean, australia negative class 199.41\n",
      "standard deviation, positive class 159.94\n",
      "standard deviation, negative class 179.67\n",
      "standard error 12.95\n",
      "test statistic -2.673\n",
      "pvalue 0.0075\n",
      "A13 from australia positive class is not independent from A13 in australia negative class\n",
      "\n",
      "A14\n",
      "mean, australia positive class 2039.86\n",
      "mean, australia negative class 199.61\n",
      "standard deviation, positive class 7647.28\n",
      "standard deviation, negative class 670.73\n",
      "standard error 437.8\n",
      "test statistic 4.203\n",
      "pvalue 0.0\n",
      "A14 from australia positive class is independent from A14 in australia negative class\n"
     ]
    }
   ],
   "source": [
    "alpha = 0.003571   # 0.05 significance level / 14 hypothesis  \n",
    "for feature in australia_continuous:\n",
    "    \n",
    "    positive_class = australia_positive_class[feature]\n",
    "    negative_class = australia_negative_class[feature] \n",
    "    print\n",
    "    print feature\n",
    "\n",
    "    #mean\n",
    "    mu_1 = np.mean(positive_class)\n",
    "    mu_2 = np.mean(negative_class)\n",
    "    print \"mean, australia positive class\", round(mu_1, 2)\n",
    "    print \"mean, australia negative class\", round(mu_2, 2)\n",
    "\n",
    "    #standard deviation\n",
    "    std_1 = np.std(positive_class)\n",
    "    std_2 = np.std(negative_class)\n",
    "    print \"standard deviation, positive class\", round(std_1, 2)\n",
    "    print \"standard deviation, negative class\", round(std_2, 2)\n",
    "\n",
    "    #standard error\n",
    "    n_1 = len(positive_class)\n",
    "    n_2 = len(negative_class)\n",
    "    grp_1 = np.std(positive_class)**2 / n_1\n",
    "    grp_2 = np.std(negative_class)**2 / n_2\n",
    "    standard_err = np.sqrt(grp_1 + grp_2)\n",
    "    print \"standard error\", round(standard_err, 2)\n",
    "\n",
    "    #test statistic\n",
    "    test_stat = (mu_1 - mu_2) / standard_err\n",
    "    print \"test statistic\", round(test_stat, 3)\n",
    "\n",
    "    #pvalue\n",
    "    if test_stat < 0:\n",
    "        pvalue = 2 * scipy.stats.norm.cdf(test_stat)   #two tailed (test stat is negative)\n",
    "    else:\n",
    "        pvalue = 2 * scipy.stats.norm.cdf(-test_stat)  #two tailed (test stat is positive)\n",
    "    print \"pvalue\", round(pvalue, 4)\n",
    "\n",
    "    #conclusion                            \n",
    "    if pvalue <= alpha:\n",
    "        print feature, \"from australia positive class is independent from\", feature, \\\n",
    "        \"in australia negative class\"\n",
    "    else:\n",
    "        print feature, \"from australia positive class is not independent from\", feature, \\\n",
    "        \"in australia negative class\""
   ]
  },
  {
   "cell_type": "markdown",
   "metadata": {},
   "source": [
    " "
   ]
  },
  {
   "cell_type": "markdown",
   "metadata": {},
   "source": [
    "II(a)(3). remove continuous features with pvalue above threshold (eg, insignificant)"
   ]
  },
  {
   "cell_type": "code",
   "execution_count": 9,
   "metadata": {
    "collapsed": false
   },
   "outputs": [
    {
     "name": "stdout",
     "output_type": "stream",
     "text": [
      "shape (german) (1000, 19)\n",
      "shape (australia) (690, 14)\n"
     ]
    }
   ],
   "source": [
    "german_continuous.remove('Age_years')\n",
    "australia_continuous.remove('A13')\n",
    "\n",
    "del german['Age_years']\n",
    "del australia['A13']\n",
    "\n",
    "print 'shape (german)', german.shape\n",
    "print 'shape (australia)', australia.shape"
   ]
  },
  {
   "cell_type": "markdown",
   "metadata": {},
   "source": [
    " "
   ]
  },
  {
   "cell_type": "markdown",
   "metadata": {},
   "source": [
    "II(a)(4). check correlation between remaining continuous attributes - maximum correlation 0.62 (german) | 0.39 (australia)"
   ]
  },
  {
   "cell_type": "code",
   "execution_count": 21,
   "metadata": {
    "collapsed": false
   },
   "outputs": [
    {
     "data": {
      "text/html": [
       "<div>\n",
       "<table border=\"1\" class=\"dataframe\">\n",
       "  <thead>\n",
       "    <tr style=\"text-align: right;\">\n",
       "      <th></th>\n",
       "      <th>Credit_Amount</th>\n",
       "      <th>Duration_of_Credit_month</th>\n",
       "    </tr>\n",
       "  </thead>\n",
       "  <tbody>\n",
       "    <tr>\n",
       "      <th>Credit_Amount</th>\n",
       "      <td>1.000000</td>\n",
       "      <td>0.624988</td>\n",
       "    </tr>\n",
       "    <tr>\n",
       "      <th>Duration_of_Credit_month</th>\n",
       "      <td>0.624988</td>\n",
       "      <td>1.000000</td>\n",
       "    </tr>\n",
       "  </tbody>\n",
       "</table>\n",
       "</div>"
      ],
      "text/plain": [
       "                          Credit_Amount  Duration_of_Credit_month\n",
       "Credit_Amount                  1.000000                  0.624988\n",
       "Duration_of_Credit_month       0.624988                  1.000000"
      ]
     },
     "execution_count": 21,
     "metadata": {},
     "output_type": "execute_result"
    }
   ],
   "source": [
    "correlation_matrix = pd.DataFrame(german[german_continuous].corr())\n",
    "correlation_matrix"
   ]
  },
  {
   "cell_type": "code",
   "execution_count": 22,
   "metadata": {
    "collapsed": false
   },
   "outputs": [
    {
     "data": {
      "text/html": [
       "<div>\n",
       "<table border=\"1\" class=\"dataframe\">\n",
       "  <thead>\n",
       "    <tr style=\"text-align: right;\">\n",
       "      <th></th>\n",
       "      <th>A2</th>\n",
       "      <th>A3</th>\n",
       "      <th>A7</th>\n",
       "      <th>A10</th>\n",
       "      <th>A14</th>\n",
       "    </tr>\n",
       "  </thead>\n",
       "  <tbody>\n",
       "    <tr>\n",
       "      <th>A2</th>\n",
       "      <td>1.000000</td>\n",
       "      <td>0.201315</td>\n",
       "      <td>0.392788</td>\n",
       "      <td>0.185574</td>\n",
       "      <td>0.018539</td>\n",
       "    </tr>\n",
       "    <tr>\n",
       "      <th>A3</th>\n",
       "      <td>0.201315</td>\n",
       "      <td>1.000000</td>\n",
       "      <td>0.298902</td>\n",
       "      <td>0.271207</td>\n",
       "      <td>0.123121</td>\n",
       "    </tr>\n",
       "    <tr>\n",
       "      <th>A7</th>\n",
       "      <td>0.392788</td>\n",
       "      <td>0.298902</td>\n",
       "      <td>1.000000</td>\n",
       "      <td>0.322330</td>\n",
       "      <td>0.051345</td>\n",
       "    </tr>\n",
       "    <tr>\n",
       "      <th>A10</th>\n",
       "      <td>0.185574</td>\n",
       "      <td>0.271207</td>\n",
       "      <td>0.322330</td>\n",
       "      <td>1.000000</td>\n",
       "      <td>0.063692</td>\n",
       "    </tr>\n",
       "    <tr>\n",
       "      <th>A14</th>\n",
       "      <td>0.018539</td>\n",
       "      <td>0.123121</td>\n",
       "      <td>0.051345</td>\n",
       "      <td>0.063692</td>\n",
       "      <td>1.000000</td>\n",
       "    </tr>\n",
       "  </tbody>\n",
       "</table>\n",
       "</div>"
      ],
      "text/plain": [
       "           A2        A3        A7       A10       A14\n",
       "A2   1.000000  0.201315  0.392788  0.185574  0.018539\n",
       "A3   0.201315  1.000000  0.298902  0.271207  0.123121\n",
       "A7   0.392788  0.298902  1.000000  0.322330  0.051345\n",
       "A10  0.185574  0.271207  0.322330  1.000000  0.063692\n",
       "A14  0.018539  0.123121  0.051345  0.063692  1.000000"
      ]
     },
     "execution_count": 22,
     "metadata": {},
     "output_type": "execute_result"
    }
   ],
   "source": [
    "correlation_matrix = pd.DataFrame(australia[australia_continuous].corr())\n",
    "correlation_matrix"
   ]
  },
  {
   "cell_type": "markdown",
   "metadata": {},
   "source": [
    " "
   ]
  },
  {
   "cell_type": "markdown",
   "metadata": {},
   "source": [
    "##### II(b). Feature Analysis & Selection - Qualitative Attributes"
   ]
  },
  {
   "cell_type": "markdown",
   "metadata": {},
   "source": [
    "II(b)(1). contingency table functions"
   ]
  },
  {
   "cell_type": "code",
   "execution_count": 23,
   "metadata": {
    "collapsed": true
   },
   "outputs": [],
   "source": [
    "# create index - same index applies to all contingency tables\n",
    "def add_creditability(table):\n",
    "    \n",
    "    #create column\n",
    "    table['creditability'] = 0\n",
    "    table['creditability'].iloc[0] = 'bad credit risk(0)'\n",
    "    table['creditability'].iloc[1] = 'good credit risk(1)'\n",
    "    table['creditability'].iloc[2] = 'column total'\n",
    "    \n",
    "    #set index equal to column, then delete column\n",
    "    index = table['creditability']               \n",
    "    table=table.set_index(index)                 \n",
    "    del table['creditability'] \n",
    "    \n",
    "    return table"
   ]
  },
  {
   "cell_type": "code",
   "execution_count": 24,
   "metadata": {
    "collapsed": true
   },
   "outputs": [],
   "source": [
    "def initialize_table(num_rows, num_cols):\n",
    "    return[[1 for j in range(num_cols)] for i in range(num_rows)]"
   ]
  },
  {
   "cell_type": "code",
   "execution_count": 25,
   "metadata": {
    "collapsed": true
   },
   "outputs": [],
   "source": [
    "def update_column(A, col, final_col):\n",
    "    r1 = round((A[0][col] / A[2][col]), 1)        # fill with percentage of row total\n",
    "    r2 = round((A[1][col] / A[2][col]), 1)        # fill with percentage of row total     \n",
    "    r3 = round((A[2][col] / A[2][final_col]), 1)  # fill with percentage of column total\n",
    "    return r1, r2, r3"
   ]
  },
  {
   "cell_type": "code",
   "execution_count": 26,
   "metadata": {
    "collapsed": true
   },
   "outputs": [],
   "source": [
    "def convert_to_percent(table):\n",
    "    x = pd.np.array(table)                      # convert dataframe to a numpy array\n",
    "    num_cols = len(x[0])\n",
    "    new_table = initialize_table(3, num_cols)   # create a new table with the same shape\n",
    "    new_table[0][num_cols-1] = x[0][num_cols-1] # copy row totals \n",
    "    new_table[1][num_cols-1] = x[1][num_cols-1] # \"  \n",
    "    new_table[2][num_cols-1] = x[2][num_cols-1] # \" \n",
    "    for i in range(num_cols-1):                 # fill remaining cells with percentages\n",
    "        new_table[0][i], new_table[1][i], new_table[2][i] = update_column(x, i, num_cols-1)\n",
    "    y = pd.DataFrame(new_table)                 # convert table to a dataframe\n",
    "    y = add_creditability(y)                    # add index\n",
    "    return y"
   ]
  },
  {
   "cell_type": "code",
   "execution_count": 27,
   "metadata": {
    "collapsed": true
   },
   "outputs": [],
   "source": [
    "def get_german_headings():  \n",
    "    headings = [\n",
    "    \n",
    "    #Account_Balance\n",
    "    ['no_account(1)', 'no_balance(2)', 'some_balance(3)'],\n",
    "\n",
    "    #Concurrent_Credits\n",
    "    ['other_banks_or_dept_stores(1)', 'none(2)'],  \n",
    "\n",
    "    #Duration_in_Current_address    \n",
    "    ['below_1yr(1)', '1_4yrs(2)', '4_7yrs(3)', 'above_7yrs(4)'],                    \n",
    "\n",
    "    #Foreign_Worker\n",
    "    ['yes(1)', 'no(2)'],\n",
    "\n",
    "    #Guarantors  \n",
    "    ['none(1)', 'yes(2)'],\n",
    "\n",
    "    #Instalment_per_cent   \n",
    "    ['above_35%(1)', '25%_35%(2)', '20%_25%(3)', 'below_20%(4)'],\n",
    "\n",
    "    #Length_of_current_employment\n",
    "    ['below_1yr(1)', '1_4yrs(2)', '4_7yrs(3)', 'above_7yrs(4)'],\n",
    "\n",
    "    #Most_valuable_available_asset    \n",
    "    ['none(1)', 'car(2)', 'life_insurance(3)', 'real_estate(4)'],\n",
    "\n",
    "    #No_of_Credits_at_this_Bank   \n",
    "    ['one(1)', 'more_than_one(2)'],                                                 \n",
    "\n",
    "    #No_of_dependents\n",
    "    ['3_or_more(1)', 'less_than_3(2)'],\n",
    "\n",
    "    #Payment_Status_of_Previous_Credit\n",
    "    ['some_problems(1)', 'paid_up(2)', 'no_problems(3)'],\n",
    "\n",
    "    #Purpose\n",
    "    ['new_car(1)', 'used_car(2)', 'home_related(3)', 'other(4)'],\n",
    "\n",
    "    #Sex_Marital_Status    \n",
    "    ['male_divorced/single(1)', 'male_married/widowed(2)', 'female(3)'],\n",
    "\n",
    "    #Telephone    \n",
    "    ['yes(1)', 'no(2)'], \n",
    "\n",
    "    #Type_of_apartment\n",
    "    ['free(1)', 'rented(2)', 'owned(3)'], \n",
    "\n",
    "    #Value_Savings_Stocks\n",
    "    ['none(1)', 'below_100_DM(2)', 'between_100_1000_DM(3)', 'above_1000_DM(4)']    \n",
    "    ]\n",
    "\n",
    "    return headings"
   ]
  },
  {
   "cell_type": "code",
   "execution_count": 28,
   "metadata": {
    "collapsed": true
   },
   "outputs": [],
   "source": [
    "def get_australia_headings():\n",
    "    headings = [\n",
    "    ['A1(0)', 'A1(1)'], \n",
    "    ['A4(1)', 'A4(2)', 'A4(3)'],\n",
    "    ['A5(1)', 'A5(2)', 'A5(3)', 'A5(4)', 'A5(5)', 'A5(6)', 'A5(7)', 'A5(8)', 'A5(9)', \\\n",
    "     'A5(10)', 'A5(11)', 'A5(12)', 'A5(13)', 'A5(14)'],\n",
    "    ['A6(1)', 'A6(2)', 'A6(3)', 'A6(4)', 'A6(5)', 'A6(7)', 'A6(8)', 'A6(9)'],\n",
    "    ['A8(0)', 'A8(1)'], \n",
    "    ['A9(0)', 'A9(1)'],\n",
    "    ['A11(0)', 'A11(1)'],\n",
    "    ['A12(1)', 'A12(2)', 'A12(3)']\n",
    "    ]\n",
    "    return headings"
   ]
  },
  {
   "cell_type": "code",
   "execution_count": 29,
   "metadata": {
    "collapsed": false
   },
   "outputs": [
    {
     "name": "stdout",
     "output_type": "stream",
     "text": [
      "16 16\n",
      "8 8\n"
     ]
    }
   ],
   "source": [
    "# confirm that number of qualitative features equals the number of headings\n",
    "headings1 = get_german_headings()\n",
    "headings2 = get_australia_headings()\n",
    "print len(german_qualitative), len(headings1) \n",
    "print len(australia_qualitative), len(headings2) "
   ]
  },
  {
   "cell_type": "markdown",
   "metadata": {},
   "source": [
    "II(b)(2). contingency tables/chi-square tests (german)"
   ]
  },
  {
   "cell_type": "code",
   "execution_count": 31,
   "metadata": {
    "collapsed": false
   },
   "outputs": [],
   "source": [
    "german_contingency_tables = []\n",
    "german_chi_2_pvals = []\n",
    "headings = get_german_headings()\n",
    "df = german.copy()\n",
    "for i in range(len(headings)):\n",
    "    feature = german_qualitative[i]     # get feature from list of lists\n",
    "    heading_list = headings[i]          # get headings from list of lists\n",
    "    # create contingency table\n",
    "    ct = pd.crosstab(df.Creditability, df[feature]).apply(lambda x: x, axis = 1)   \n",
    "    chi2, p, ddof, expected = scipy.stats.chi2_contingency(ct)    # get chi2 p-value\n",
    "    german_chi_2_pvals.append(p)                                  # append chi2 p-values\n",
    "    ct.columns = heading_list                                     # give names to columns\n",
    "\n",
    "    # add row totals\n",
    "    if len(heading_list) == 2:\n",
    "        item1, item2 = heading_list[0], heading_list[1]\n",
    "        ct['row_total'] = ct[item1] + ct[item2]\n",
    "    if len(heading_list) == 3:\n",
    "        item1, item2, item3 = heading_list[0], heading_list[1], heading_list[2]\n",
    "        ct['row_total'] = ct[item1] + ct[item2] + ct[item3]\n",
    "    if len(heading_list) == 4:\n",
    "        item1, item2, item3, item4 = heading_list[0], heading_list[1], heading_list[2], \\\n",
    "        heading_list[3]\n",
    "        ct['row_total'] = ct[item1] + ct[item2] + ct[item3] + ct[item4]\n",
    "   \n",
    "    heading_list.append('row_total')            # add heading for row total\n",
    "    sum_row = ct[heading_list].sum()            # calculate column totals\n",
    "    table_sum = pd.DataFrame(data=sum_row).T    # create dataframe of column totals\n",
    "    ct = ct.append(table_sum)                   # append column totals to table\n",
    "    ct = add_creditability(ct)                  # add index to table\n",
    "    german_contingency_tables.append(ct)        # append to list of tables"
   ]
  },
  {
   "cell_type": "code",
   "execution_count": 32,
   "metadata": {
    "collapsed": true
   },
   "outputs": [],
   "source": [
    "# create a second table showing the percentage of class by feature, \n",
    "#    and percentage of feature as column total\n",
    "german_contingency_tables_percent = []\n",
    "headings = get_german_headings()\n",
    "for i in range(len(headings)):\n",
    "    ct_p = convert_to_percent(german_contingency_tables[i])     # change values to percentages\n",
    "    columns_list = headings[i]                                  # rename columns\n",
    "    columns_list.append('row_total')                            # \"\n",
    "    ct_p.columns = columns_list                                 # \"\n",
    "    german_contingency_tables_percent.append(ct_p)              # append to list of tables      "
   ]
  },
  {
   "cell_type": "code",
   "execution_count": 33,
   "metadata": {
    "collapsed": false
   },
   "outputs": [
    {
     "name": "stdout",
     "output_type": "stream",
     "text": [
      "\n",
      "                     \n",
      "Account_Balance\n",
      "                     no_account(1)  no_balance(2)  some_balance(3)  row_total\n",
      "creditability                                                                \n",
      "bad credit risk(0)             135            105               60        300\n",
      "good credit risk(1)            139            164              397        700\n",
      "column total                   274            269              457       1000\n",
      "\n",
      "                     no_account(1)  no_balance(2)  some_balance(3)  row_total\n",
      "creditability                                                                \n",
      "bad credit risk(0)             0.5            0.4              0.1        300\n",
      "good credit risk(1)            0.5            0.6              0.9        700\n",
      "column total                   0.3            0.3              0.5       1000 \n",
      "\n",
      "chi-squared p-value: 0.0\n",
      "Account_Balance and Creditability are dependent\n",
      "_________________________________________________________________________________\n",
      "\n",
      "                     \n",
      "Concurrent_Credits\n",
      "                     other_banks_or_dept_stores(1)  none(2)  row_total\n",
      "creditability                                                         \n",
      "bad credit risk(0)                              76      224        300\n",
      "good credit risk(1)                            110      590        700\n",
      "column total                                   186      814       1000\n",
      "\n",
      "                     other_banks_or_dept_stores(1)  none(2)  row_total\n",
      "creditability                                                         \n",
      "bad credit risk(0)                             0.4      0.3        300\n",
      "good credit risk(1)                            0.6      0.7        700\n",
      "column total                                   0.2      0.8       1000 \n",
      "\n",
      "chi-squared p-value: 0.0\n",
      "Concurrent_Credits and Creditability are dependent\n",
      "_________________________________________________________________________________\n",
      "\n",
      "                     \n",
      "Duration_in_Current_address\n",
      "                     below_1yr(1)  1_4yrs(2)  4_7yrs(3)  above_7yrs(4)  row_total\n",
      "creditability                                                                    \n",
      "bad credit risk(0)             36         97         43            124        300\n",
      "good credit risk(1)            94        211        106            289        700\n",
      "column total                  130        308        149            413       1000\n",
      "\n",
      "                     below_1yr(1)  1_4yrs(2)  4_7yrs(3)  above_7yrs(4)  row_total\n",
      "creditability                                                                    \n",
      "bad credit risk(0)            0.3        0.3        0.3            0.3        300\n",
      "good credit risk(1)           0.7        0.7        0.7            0.7        700\n",
      "column total                  0.1        0.3        0.1            0.4       1000 \n",
      "\n",
      "chi-squared p-value: 0.862\n",
      "This attribute is not significant\n",
      "_________________________________________________________________________________\n",
      "\n",
      "                     \n",
      "Foreign_Worker\n",
      "                     yes(1)  no(2)  row_total\n",
      "creditability                                \n",
      "bad credit risk(0)      296      4        300\n",
      "good credit risk(1)     667     33        700\n",
      "column total            963     37       1000\n",
      "\n",
      "                     yes(1)  no(2)  row_total\n",
      "creditability                                \n",
      "bad credit risk(0)      0.3    0.1        300\n",
      "good credit risk(1)     0.7    0.9        700\n",
      "column total            1.0    0.0       1000 \n",
      "\n",
      "chi-squared p-value: 0.016\n",
      "This attribute is not significant\n",
      "_________________________________________________________________________________\n",
      "\n",
      "                     \n",
      "Guarantors\n",
      "                     none(1)  yes(2)  row_total\n",
      "creditability                                  \n",
      "bad credit risk(0)       272      28        300\n",
      "good credit risk(1)      635      65        700\n",
      "column total             907      93       1000\n",
      "\n",
      "                     none(1)  yes(2)  row_total\n",
      "creditability                                  \n",
      "bad credit risk(0)       0.3     0.3        300\n",
      "good credit risk(1)      0.7     0.7        700\n",
      "column total             0.9     0.1       1000 \n",
      "\n",
      "chi-squared p-value: 0.924\n",
      "This attribute is not significant\n",
      "_________________________________________________________________________________\n",
      "\n",
      "                     \n",
      "Instalment_per_cent\n",
      "                     above_35%(1)  25%_35%(2)  20%_25%(3)  below_20%(4)  row_total\n",
      "creditability                                                                     \n",
      "bad credit risk(0)             34          62          45           159        300\n",
      "good credit risk(1)           102         169         112           317        700\n",
      "column total                  136         231         157           476       1000\n",
      "\n",
      "                     above_35%(1)  25%_35%(2)  20%_25%(3)  below_20%(4)  row_total\n",
      "creditability                                                                     \n",
      "bad credit risk(0)            0.3         0.3         0.3           0.3        300\n",
      "good credit risk(1)           0.8         0.7         0.7           0.7        700\n",
      "column total                  0.1         0.2         0.2           0.5       1000 \n",
      "\n",
      "chi-squared p-value: 0.14\n",
      "This attribute is not significant\n",
      "_________________________________________________________________________________\n",
      "\n",
      "                     \n",
      "Length_of_current_employment\n",
      "                     below_1yr(1)  1_4yrs(2)  4_7yrs(3)  above_7yrs(4)  row_total\n",
      "creditability                                                                    \n",
      "bad credit risk(0)             93        104         39             64        300\n",
      "good credit risk(1)           141        235        135            189        700\n",
      "column total                  234        339        174            253       1000\n",
      "\n",
      "                     below_1yr(1)  1_4yrs(2)  4_7yrs(3)  above_7yrs(4)  row_total\n",
      "creditability                                                                    \n",
      "bad credit risk(0)            0.4        0.3        0.2            0.3        300\n",
      "good credit risk(1)           0.6        0.7        0.8            0.7        700\n",
      "column total                  0.2        0.3        0.2            0.3       1000 \n",
      "\n",
      "chi-squared p-value: 0.0\n",
      "Length_of_current_employment and Creditability are dependent\n",
      "_________________________________________________________________________________\n",
      "\n",
      "                     \n",
      "Most_valuable_available_asset\n",
      "                     none(1)  car(2)  life_insurance(3)  real_estate(4)  row_total\n",
      "creditability                                                                     \n",
      "bad credit risk(0)        60      71                102              67        300\n",
      "good credit risk(1)      222     161                230              87        700\n",
      "column total             282     232                332             154       1000\n",
      "\n",
      "                     none(1)  car(2)  life_insurance(3)  real_estate(4)  row_total\n",
      "creditability                                                                     \n",
      "bad credit risk(0)       0.2     0.3                0.3             0.4        300\n",
      "good credit risk(1)      0.8     0.7                0.7             0.6        700\n",
      "column total             0.3     0.2                0.3             0.2       1000 \n",
      "\n",
      "chi-squared p-value: 0.0\n",
      "Most_valuable_available_asset and Creditability are dependent\n",
      "_________________________________________________________________________________\n",
      "\n",
      "                     \n",
      "No_of_Credits_at_this_Bank\n",
      "                     one(1)  more_than_one(2)  row_total\n",
      "creditability                                           \n",
      "bad credit risk(0)      200               100        300\n",
      "good credit risk(1)     433               267        700\n",
      "column total            633               367       1000\n",
      "\n",
      "                     one(1)  more_than_one(2)  row_total\n",
      "creditability                                           \n",
      "bad credit risk(0)      0.3               0.3        300\n",
      "good credit risk(1)     0.7               0.7        700\n",
      "column total            0.6               0.4       1000 \n",
      "\n",
      "chi-squared p-value: 0.169\n",
      "This attribute is not significant\n",
      "_________________________________________________________________________________\n",
      "\n",
      "                     \n",
      "No_of_dependents\n",
      "                     3_or_more(1)  less_than_3(2)  row_total\n",
      "creditability                                               \n",
      "bad credit risk(0)            254              46        300\n",
      "good credit risk(1)           591             109        700\n",
      "column total                  845             155       1000\n",
      "\n",
      "                     3_or_more(1)  less_than_3(2)  row_total\n",
      "creditability                                               \n",
      "bad credit risk(0)            0.3             0.3        300\n",
      "good credit risk(1)           0.7             0.7        700\n",
      "column total                  0.8             0.2       1000 \n",
      "\n",
      "chi-squared p-value: 1.0\n",
      "This attribute is not significant\n",
      "_________________________________________________________________________________\n",
      "\n",
      "                     \n",
      "Payment_Status_of_Previous_Credit\n",
      "                     some_problems(1)  paid_up(2)  no_problems(3)  row_total\n",
      "creditability                                                               \n",
      "bad credit risk(0)                 53         169              78        300\n",
      "good credit risk(1)                36         361             303        700\n",
      "column total                       89         530             381       1000\n",
      "\n",
      "                     some_problems(1)  paid_up(2)  no_problems(3)  row_total\n",
      "creditability                                                               \n",
      "bad credit risk(0)                0.6         0.3             0.2        300\n",
      "good credit risk(1)               0.4         0.7             0.8        700\n",
      "column total                      0.1         0.5             0.4       1000 \n",
      "\n",
      "chi-squared p-value: 0.0\n",
      "Payment_Status_of_Previous_Credit and Creditability are dependent\n",
      "_________________________________________________________________________________\n",
      "\n",
      "                     \n",
      "Purpose\n",
      "                     new_car(1)  used_car(2)  home_related(3)  other(4)  row_total\n",
      "creditability                                                                     \n",
      "bad credit risk(0)           17           58               96       129        300\n",
      "good credit risk(1)          86          123              268       223        700\n",
      "column total                103          181              364       352       1000\n",
      "\n",
      "                     new_car(1)  used_car(2)  home_related(3)  other(4)  row_total\n",
      "creditability                                                                     \n",
      "bad credit risk(0)          0.2          0.3              0.3       0.4        300\n",
      "good credit risk(1)         0.8          0.7              0.7       0.6        700\n",
      "column total                0.1          0.2              0.4       0.4       1000 \n",
      "\n",
      "chi-squared p-value: 0.0\n",
      "Purpose and Creditability are dependent\n",
      "_________________________________________________________________________________\n",
      "\n",
      "                     \n",
      "Sex_Marital_Status\n",
      "                     male_divorced/single(1)  male_married/widowed(2)  female(3)  row_total\n",
      "creditability                                                                              \n",
      "bad credit risk(0)                       129                      146         25        300\n",
      "good credit risk(1)                      231                      402         67        700\n",
      "column total                             360                      548         92       1000\n",
      "\n",
      "                     male_divorced/single(1)  male_married/widowed(2)  female(3)  row_total\n",
      "creditability                                                                              \n",
      "bad credit risk(0)                       0.4                      0.3        0.3        300\n",
      "good credit risk(1)                      0.6                      0.7        0.7        700\n",
      "column total                             0.4                      0.5        0.1       1000 \n",
      "\n",
      "chi-squared p-value: 0.01\n",
      "This attribute is not significant\n",
      "_________________________________________________________________________________\n",
      "\n",
      "                     \n",
      "Telephone\n",
      "                     yes(1)  no(2)  row_total\n",
      "creditability                                \n",
      "bad credit risk(0)      187    113        300\n",
      "good credit risk(1)     409    291        700\n",
      "column total            596    404       1000\n",
      "\n",
      "                     yes(1)  no(2)  row_total\n",
      "creditability                                \n",
      "bad credit risk(0)      0.3    0.3        300\n",
      "good credit risk(1)     0.7    0.7        700\n",
      "column total            0.6    0.4       1000 \n",
      "\n",
      "chi-squared p-value: 0.279\n",
      "This attribute is not significant\n",
      "_________________________________________________________________________________\n",
      "\n",
      "                     \n",
      "Type_of_apartment\n",
      "                     free(1)  rented(2)  owned(3)  row_total\n",
      "creditability                                               \n",
      "bad credit risk(0)        70        186        44        300\n",
      "good credit risk(1)      109        528        63        700\n",
      "column total             179        714       107       1000\n",
      "\n",
      "                     free(1)  rented(2)  owned(3)  row_total\n",
      "creditability                                               \n",
      "bad credit risk(0)       0.4        0.3       0.4        300\n",
      "good credit risk(1)      0.6        0.7       0.6        700\n",
      "column total             0.2        0.7       0.1       1000 \n",
      "\n",
      "chi-squared p-value: 0.0\n",
      "Type_of_apartment and Creditability are dependent\n",
      "_________________________________________________________________________________\n",
      "\n",
      "                     \n",
      "Value_Savings_Stocks\n",
      "                     none(1)  below_100_DM(2)  between_100_1000_DM(3)  above_1000_DM(4)  row_total\n",
      "creditability                                                                                     \n",
      "bad credit risk(0)       217               34                      17                32        300\n",
      "good credit risk(1)      386               69                      94               151        700\n",
      "column total             603              103                     111               183       1000\n",
      "\n",
      "                     none(1)  below_100_DM(2)  between_100_1000_DM(3)  above_1000_DM(4)  row_total\n",
      "creditability                                                                                     \n",
      "bad credit risk(0)       0.4              0.3                     0.2               0.2        300\n",
      "good credit risk(1)      0.6              0.7                     0.8               0.8        700\n",
      "column total             0.6              0.1                     0.1               0.2       1000 \n",
      "\n",
      "chi-squared p-value: 0.0\n",
      "Value_Savings_Stocks and Creditability are dependent\n",
      "_________________________________________________________________________________\n"
     ]
    }
   ],
   "source": [
    "# print each contingency table and chi square test in alphabetical order by feature\n",
    "for i in range(len(german_contingency_tables)):\n",
    "    print '\\n', '                    ', '\\n', german_qualitative[i]\n",
    "    print german_contingency_tables[i]\n",
    "    print '\\n', german_contingency_tables_percent[i], '\\n'\n",
    "    print 'chi-squared p-value:', round(german_chi_2_pvals[i], 3)\n",
    "    if german_chi_2_pvals[i] <= 0.0026:   # 0.05 significance level / 19 hypothesis  \n",
    "        print german_qualitative[i], \"and Creditability are dependent\" \n",
    "    else:\n",
    "        print \"This attribute is not significant\"\n",
    "    print '_________________________________________________________________________________'"
   ]
  },
  {
   "cell_type": "markdown",
   "metadata": {},
   "source": [
    " "
   ]
  },
  {
   "cell_type": "markdown",
   "metadata": {},
   "source": [
    "II(b)(3). contingency tables/chi-square tests (australia)"
   ]
  },
  {
   "cell_type": "code",
   "execution_count": 34,
   "metadata": {
    "collapsed": false
   },
   "outputs": [],
   "source": [
    "australia_contingency_tables = []\n",
    "australia_chi_2_pvals = []\n",
    "headings = get_australia_headings()\n",
    "df = australia.copy()\n",
    "for i in range(len(headings)):\n",
    "    feature = australia_qualitative[i]              # get feature from list of lists\n",
    "    heading_list = headings[i]                      # get headings from list of lists\n",
    "    # create contingency table\n",
    "    ct = pd.crosstab(df.Creditability, df[feature]).apply(lambda x: x, axis = 1)   \n",
    "    chi2, p, ddof, expected = scipy.stats.chi2_contingency(ct)  # get chi2 p-value\n",
    "    australia_chi_2_pvals.append(p)                             # append chi2 p-values\n",
    "    ct.columns = heading_list                                   # give names to columns\n",
    "\n",
    "    # add row totals\n",
    "    if len(heading_list) == 2:\n",
    "        item1, item2 = heading_list[0], heading_list[1]\n",
    "        ct['row_total'] = ct[item1] + ct[item2]\n",
    "    \n",
    "    if len(heading_list) == 3:\n",
    "        item1, item2, item3 = heading_list[0], heading_list[1], heading_list[2]\n",
    "        ct['row_total'] = ct[item1] + ct[item2] + ct[item3]\n",
    "    \n",
    "    if len(heading_list) == 8:\n",
    "        item1, item2, item3, item4, item5, item6, item7, item8 = heading_list[0],\\\n",
    "        heading_list[1], heading_list[2], heading_list[3], heading_list[4], heading_list[5],\\\n",
    "        heading_list[6], heading_list[7]\n",
    "        \n",
    "        ct['row_total']= ct[item1] + ct[item2] + ct[item3] + ct[item4] + ct[item5] + ct[item6]\\\n",
    "        + ct[item7] + ct[item8]\n",
    "\n",
    "    if len(heading_list) == 14:\n",
    "        item1, item2, item3, item4, item5, item6, item7, item8, item9, item10, item11, item12,\\\n",
    "        item13, item14 = heading_list[0], heading_list[1], heading_list[2], heading_list[3], \\\n",
    "        heading_list[4], heading_list[5], heading_list[6], heading_list[7], heading_list[8], \\\n",
    "        heading_list[9], heading_list[10], heading_list[11], heading_list[12], heading_list[13]\n",
    "\n",
    "        ct['row_total'] = ct[item1] + ct[item2] + ct[item3] + ct[item4] + ct[item5] + ct[item6]\\\n",
    "        + ct[item7] + ct[item8] + ct[item9] + ct[item10] + ct[item11] + ct[item12] + ct[item13]\\\n",
    "        + ct[item14]     \n",
    "   \n",
    "    heading_list.append('row_total')            # add heading for row total\n",
    "    sum_row = ct[heading_list].sum()            # calculate column totals\n",
    "    table_sum = pd.DataFrame(data=sum_row).T    # create dataframe of column totals\n",
    "    ct = ct.append(table_sum)                   # append column totals to table\n",
    "    ct = add_creditability(ct)                  # add index to table\n",
    "    australia_contingency_tables.append(ct)     # append to list of tables"
   ]
  },
  {
   "cell_type": "code",
   "execution_count": 35,
   "metadata": {
    "collapsed": true
   },
   "outputs": [],
   "source": [
    "# create a second table showing the percentage of class by feature, \n",
    "#     and percentage of feature as column total\n",
    "australia_contingency_tables_percent = []\n",
    "headings = get_australia_headings()\n",
    "for i in range(len(headings)):\n",
    "    ct_p = convert_to_percent(australia_contingency_tables[i])  # change values to percentages\n",
    "    columns_list = headings[i]                                  # rename columns\n",
    "    columns_list.append('row_total')                            # \"\n",
    "    ct_p.columns = columns_list                                 # \"\n",
    "    australia_contingency_tables_percent.append(ct_p)           # append to list of tables      "
   ]
  },
  {
   "cell_type": "code",
   "execution_count": 36,
   "metadata": {
    "collapsed": false
   },
   "outputs": [
    {
     "name": "stdout",
     "output_type": "stream",
     "text": [
      "\n",
      "                     \n",
      "A1\n",
      "                     A1(0)  A1(1)  row_total\n",
      "creditability                               \n",
      "bad credit risk(0)     121    262        383\n",
      "good credit risk(1)    101    206        307\n",
      "column total           222    468        690\n",
      "\n",
      "                     A1(0)  A1(1)  row_total\n",
      "creditability                               \n",
      "bad credit risk(0)     0.5    0.6        383\n",
      "good credit risk(1)    0.5    0.4        307\n",
      "column total           0.3    0.7        690 \n",
      "\n",
      "chi-squared p-value: 0.777\n",
      "This attribute is not significant\n",
      "_______________________________________________________________________________\n",
      "\n",
      "                     \n",
      "A4\n",
      "                     A4(1)  A4(2)  A4(3)  row_total\n",
      "creditability                                      \n",
      "bad credit risk(0)     118    265      0        383\n",
      "good credit risk(1)     45    260      2        307\n",
      "column total           163    525      2        690\n",
      "\n",
      "                     A4(1)  A4(2)  A4(3)  row_total\n",
      "creditability                                      \n",
      "bad credit risk(0)     0.7    0.5    0.0        383\n",
      "good credit risk(1)    0.3    0.5    1.0        307\n",
      "column total           0.2    0.8    0.0        690 \n",
      "\n",
      "chi-squared p-value: 0.0\n",
      "A4 and Creditability are dependent\n",
      "_______________________________________________________________________________\n",
      "\n",
      "                     \n",
      "A5\n",
      "                     A5(1)  A5(2)  A5(3)  A5(4)  A5(5)  A5(6)  A5(7)  A5(8)  A5(9)  A5(10)  A5(11)  A5(12)  A5(13)  A5(14)  row_total\n",
      "creditability                                                                                                                        \n",
      "bad credit risk(0)      46     23     45     37      7     35     22     80     31      11      27       1      12       6        383\n",
      "good credit risk(1)      7      7     14     14      3     19     16     66     33      14      51       2      29      32        307\n",
      "column total            53     30     59     51     10     54     38    146     64      25      78       3      41      38        690\n",
      "\n",
      "                     A5(1)  A5(2)  A5(3)  A5(4)  A5(5)  A5(6)  A5(7)  A5(8)  A5(9)  A5(10)  A5(11)  A5(12)  A5(13)  A5(14)  row_total\n",
      "creditability                                                                                                                        \n",
      "bad credit risk(0)     0.9    0.8    0.8    0.7    0.7    0.6    0.6    0.5    0.5     0.4     0.3     0.3     0.3     0.2        383\n",
      "good credit risk(1)    0.1    0.2    0.2    0.3    0.3    0.4    0.4    0.5    0.5     0.6     0.7     0.7     0.7     0.8        307\n",
      "column total           0.1    0.0    0.1    0.1    0.0    0.1    0.1    0.2    0.1     0.0     0.1     0.0     0.1     0.1        690 \n",
      "\n",
      "chi-squared p-value: 0.0\n",
      "A5 and Creditability are dependent\n",
      "_______________________________________________________________________________\n",
      "\n",
      "                     \n",
      "A6\n",
      "                     A6(1)  A6(2)  A6(3)  A6(4)  A6(5)  A6(7)  A6(8)  A6(9)  row_total\n",
      "creditability                                                                         \n",
      "bad credit risk(0)      49      4      5    235     34      3     51      2        383\n",
      "good credit risk(1)      8      2      3    173     25      3     87      6        307\n",
      "column total            57      6      8    408     59      6    138      8        690\n",
      "\n",
      "                     A6(1)  A6(2)  A6(3)  A6(4)  A6(5)  A6(7)  A6(8)  A6(9)  row_total\n",
      "creditability                                                                         \n",
      "bad credit risk(0)     0.9    0.7    0.6    0.6    0.6    0.5    0.4    0.3        383\n",
      "good credit risk(1)    0.1    0.3    0.4    0.4    0.4    0.5    0.6    0.8        307\n",
      "column total           0.1    0.0    0.0    0.6    0.1    0.0    0.2    0.0        690 \n",
      "\n",
      "chi-squared p-value: 0.0\n",
      "A6 and Creditability are dependent\n",
      "_______________________________________________________________________________\n",
      "\n",
      "                     \n",
      "A8\n",
      "                     A8(0)  A8(1)  row_total\n",
      "creditability                               \n",
      "bad credit risk(0)     306     77        383\n",
      "good credit risk(1)     23    284        307\n",
      "column total           329    361        690\n",
      "\n",
      "                     A8(0)  A8(1)  row_total\n",
      "creditability                               \n",
      "bad credit risk(0)     0.9    0.2        383\n",
      "good credit risk(1)    0.1    0.8        307\n",
      "column total           0.5    0.5        690 \n",
      "\n",
      "chi-squared p-value: 0.0\n",
      "A8 and Creditability are dependent\n",
      "_______________________________________________________________________________\n",
      "\n",
      "                     \n",
      "A9\n",
      "                     A9(0)  A9(1)  row_total\n",
      "creditability                               \n",
      "bad credit risk(0)     297     86        383\n",
      "good credit risk(1)     98    209        307\n",
      "column total           395    295        690\n",
      "\n",
      "                     A9(0)  A9(1)  row_total\n",
      "creditability                               \n",
      "bad credit risk(0)     0.8    0.3        383\n",
      "good credit risk(1)    0.2    0.7        307\n",
      "column total           0.6    0.4        690 \n",
      "\n",
      "chi-squared p-value: 0.0\n",
      "A9 and Creditability are dependent\n",
      "_______________________________________________________________________________\n",
      "\n",
      "                     \n",
      "A11\n",
      "                     A11(0)  A11(1)  row_total\n",
      "creditability                                 \n",
      "bad credit risk(0)      213     170        383\n",
      "good credit risk(1)     161     146        307\n",
      "column total            374     316        690\n",
      "\n",
      "                     A11(0)  A11(1)  row_total\n",
      "creditability                                 \n",
      "bad credit risk(0)      0.6     0.5        383\n",
      "good credit risk(1)     0.4     0.5        307\n",
      "column total            0.5     0.5        690 \n",
      "\n",
      "chi-squared p-value: 0.451\n",
      "This attribute is not significant\n",
      "_______________________________________________________________________________\n",
      "\n",
      "                     \n",
      "A12\n",
      "                     A12(1)  A12(2)  A12(3)  row_total\n",
      "creditability                                         \n",
      "bad credit risk(0)       42     338       3        383\n",
      "good credit risk(1)      15     287       5        307\n",
      "column total             57     625       8        690\n",
      "\n",
      "                     A12(1)  A12(2)  A12(3)  row_total\n",
      "creditability                                         \n",
      "bad credit risk(0)      0.7     0.5     0.4        383\n",
      "good credit risk(1)     0.3     0.5     0.6        307\n",
      "column total            0.1     0.9     0.0        690 \n",
      "\n",
      "chi-squared p-value: 0.01\n",
      "This attribute is not significant\n",
      "_______________________________________________________________________________\n"
     ]
    }
   ],
   "source": [
    "# print each contingency table and chi square test in alphabetical order by feature\n",
    "for i in range(len(australia_contingency_tables)):\n",
    "    print '\\n', '                    ', '\\n', australia_qualitative[i]\n",
    "    print australia_contingency_tables[i]\n",
    "    print '\\n', australia_contingency_tables_percent[i], '\\n'\n",
    "    print 'chi-squared p-value:', round(australia_chi_2_pvals[i], 3)\n",
    "    if australia_chi_2_pvals[i] <= 0.003571:   # 0.05 significance level / 14 hypothesis     \n",
    "        print australia_qualitative[i], \"and Creditability are dependent\" \n",
    "    else:\n",
    "        print \"This attribute is not significant\"\n",
    "    print '_______________________________________________________________________________'"
   ]
  },
  {
   "cell_type": "markdown",
   "metadata": {},
   "source": [
    " "
   ]
  },
  {
   "cell_type": "markdown",
   "metadata": {},
   "source": [
    "II(b)(4). remove features with pvalue above threshold (eg, insignificant) "
   ]
  },
  {
   "cell_type": "code",
   "execution_count": 10,
   "metadata": {
    "collapsed": false
   },
   "outputs": [
    {
     "name": "stdout",
     "output_type": "stream",
     "text": [
      "shape (german) (1000, 11)\n",
      "shape (australia) (690, 11)\n"
     ]
    }
   ],
   "source": [
    "remove_from_german = ['Duration_in_Current_address', 'Foreign_Worker', 'Guarantors', \n",
    "                      'Instalment_per_cent', 'No_of_Credits_at_this_Bank', \n",
    "                      'No_of_dependents', 'Sex_Marital_Status', 'Telephone']\n",
    "\n",
    "remove_from_australia = ['A1', 'A11', 'A12']\n",
    "\n",
    "for feature in remove_from_german:\n",
    "    del german[feature]\n",
    "\n",
    "for feature in remove_from_australia:\n",
    "    del australia[feature]\n",
    "\n",
    "print \"shape (german)\", german.shape \n",
    "print \"shape (australia)\", australia.shape    "
   ]
  },
  {
   "cell_type": "markdown",
   "metadata": {},
   "source": [
    " "
   ]
  },
  {
   "cell_type": "markdown",
   "metadata": {},
   "source": [
    "##### II(c). Set Target Variable"
   ]
  },
  {
   "cell_type": "markdown",
   "metadata": {},
   "source": [
    "II(c)(1). set target variable"
   ]
  },
  {
   "cell_type": "code",
   "execution_count": 11,
   "metadata": {
    "collapsed": false
   },
   "outputs": [],
   "source": [
    "y1 = german['Creditability']        \n",
    "y2 = australia['Creditability']     "
   ]
  },
  {
   "cell_type": "markdown",
   "metadata": {},
   "source": [
    "II(c)(2). remove target variable from features dataset"
   ]
  },
  {
   "cell_type": "code",
   "execution_count": 12,
   "metadata": {
    "collapsed": true
   },
   "outputs": [],
   "source": [
    "del german['Creditability']        \n",
    "del australia['Creditability']"
   ]
  },
  {
   "cell_type": "markdown",
   "metadata": {},
   "source": [
    "### III. Model Building, Non-Ensemble Models  "
   ]
  },
  {
   "cell_type": "markdown",
   "metadata": {},
   "source": [
    "##### III(a). Logistic Regression"
   ]
  },
  {
   "cell_type": "code",
   "execution_count": 84,
   "metadata": {
    "collapsed": false
   },
   "outputs": [
    {
     "name": "stdout",
     "output_type": "stream",
     "text": [
      "best parameters: \n",
      "{'penalty': 'l1', 'C': 10, 'random_state': 1}\n",
      "model (german): \n",
      " LogisticRegression(C=10, class_weight=None, dual=False, fit_intercept=True,\n",
      "          intercept_scaling=1, max_iter=100, multi_class='ovr', n_jobs=1,\n",
      "          penalty='l1', random_state=1, solver='liblinear', tol=0.0001,\n",
      "          verbose=0, warm_start=False)\n",
      " \n",
      " best parameters: \n",
      "{'penalty': 'l1', 'C': 100, 'random_state': 1}\n",
      "model (australia): \n",
      " LogisticRegression(C=100, class_weight=None, dual=False, fit_intercept=True,\n",
      "          intercept_scaling=1, max_iter=100, multi_class='ovr', n_jobs=1,\n",
      "          penalty='l1', random_state=1, solver='liblinear', tol=0.0001,\n",
      "          verbose=0, warm_start=False)\n"
     ]
    }
   ],
   "source": [
    "lgr_p = {'penalty' : ['l1', 'l2'],                              # search for penalty norm\n",
    "         'C': [0.001, 0.01, 0.1, 1, 10, 100, 1000],             # search for C value\n",
    "         'random_state':[1]}                                    # for reproducible results\n",
    "\n",
    "lgr_g = LogisticRegression()                                         # instantiate model\n",
    "lgr_grid_g = GridSearchCV(lgr_g, lgr_p, cv=5, scoring = 'roc_auc')   # instantiate grid\n",
    "lgr_grid_g.fit(german, y1)                                           # fit grid with data\n",
    "print \"best parameters: \\n\", lgr_grid_g.best_params_                 # print best parameters\n",
    "print \"model (german): \\n {}\".format(lgr_grid_g.best_estimator_)     # print model\n",
    " \n",
    "lgr_a = LogisticRegression()                                         # instantiate model\n",
    "lgr_grid_a = GridSearchCV(lgr_a, lgr_p, cv=5, scoring = 'roc_auc')   # instantiate grid\n",
    "lgr_grid_a.fit(australia, y2)                                        # fit grid with data\n",
    "print \" \\n best parameters: \\n\", lgr_grid_a.best_params_             # print best parameters\n",
    "print \"model (australia): \\n {}\".format(lgr_grid_a.best_estimator_)  # print model"
   ]
  },
  {
   "cell_type": "code",
   "execution_count": 13,
   "metadata": {
    "collapsed": true
   },
   "outputs": [],
   "source": [
    "lgr = LogisticRegression(C=10, penalty='l1', random_state=1)\n",
    "lgr2 = LogisticRegression(C=100, penalty='l1', random_state=1)"
   ]
  },
  {
   "cell_type": "markdown",
   "metadata": {},
   "source": [
    "##### III(b). K-Nearest Neighbors"
   ]
  },
  {
   "cell_type": "code",
   "execution_count": 86,
   "metadata": {
    "collapsed": false
   },
   "outputs": [
    {
     "name": "stdout",
     "output_type": "stream",
     "text": [
      "best parameters: \n",
      "{'n_neighbors': 64}\n",
      "model (german): \n",
      " KNeighborsClassifier(algorithm='auto', leaf_size=30, metric='minkowski',\n",
      "           metric_params=None, n_jobs=1, n_neighbors=64, p=2,\n",
      "           weights='uniform')\n",
      "\n",
      " best parameters: \n",
      "{'n_neighbors': 105}\n",
      "model (australia): \n",
      " KNeighborsClassifier(algorithm='auto', leaf_size=30, metric='minkowski',\n",
      "           metric_params=None, n_jobs=1, n_neighbors=105, p=2,\n",
      "           weights='uniform')\n"
     ]
    }
   ],
   "source": [
    "knn_p_g = dict(n_neighbors=list(range(1, 81)))           # find best value for n_neighbors\n",
    "knn_p_a = dict(n_neighbors=list(range(40, 121)))         # find best value for n_neighbors\n",
    "\n",
    "knn_g = KNeighborsClassifier()                                         # instantiate model\n",
    "knn_grid_g = GridSearchCV(knn_g, knn_p_g, cv=5, scoring='roc_auc')     # instantiate grid\n",
    "knn_grid_g.fit(german, y1)                                             # fit grid with data  \n",
    "print \"best parameters: \\n\", knn_grid_g.best_params_                   # print parameters\n",
    "print \"model (german): \\n {}\".format(knn_grid_g.best_estimator_)       # print model  \n",
    "\n",
    "knn_a = KNeighborsClassifier()                                         # instantiate model\n",
    "knn_grid_a = GridSearchCV(knn_a, knn_p_a, cv=5, scoring='roc_auc')     # instantiate grid\n",
    "knn_grid_a.fit(australia, y2)                                          # fit grid with data  \n",
    "print \"\\n best parameters: \\n\", knn_grid_a.best_params_                # print parameters\n",
    "print \"model (australia): \\n {}\".format(knn_grid_a.best_estimator_)    # print model    "
   ]
  },
  {
   "cell_type": "code",
   "execution_count": 87,
   "metadata": {
    "collapsed": false
   },
   "outputs": [
    {
     "data": {
      "text/plain": [
       "<matplotlib.text.Text at 0x11a406cd0>"
      ]
     },
     "execution_count": 87,
     "metadata": {},
     "output_type": "execute_result"
    },
    {
     "data": {
      "image/png": "[encoded data removed]",
      "text/plain": [
       "<matplotlib.figure.Figure at 0x119ac5f10>"
      ]
     },
     "metadata": {},
     "output_type": "display_data"
    }
   ],
   "source": [
    "# plot values of K\n",
    "grid_mean_scores = [result.mean_validation_score for result in knn_grid_g.grid_scores_]\n",
    "plt.plot(range(1, 81), grid_mean_scores)\n",
    "plt.title(\"K Nearest Neigbors - German dataset - Best K = 64\")\n",
    "plt.xlabel('Value of K for KNN')\n",
    "plt.ylabel('Cross-Validated Accuracy')"
   ]
  },
  {
   "cell_type": "code",
   "execution_count": 88,
   "metadata": {
    "collapsed": false
   },
   "outputs": [
    {
     "data": {
      "text/plain": [
       "<matplotlib.text.Text at 0x11c62c210>"
      ]
     },
     "execution_count": 88,
     "metadata": {},
     "output_type": "execute_result"
    },
    {
     "data": {
      "image/png": "[encoded data removed]",
      "text/plain": [
       "<matplotlib.figure.Figure at 0x11a410610>"
      ]
     },
     "metadata": {},
     "output_type": "display_data"
    }
   ],
   "source": [
    "# plot values of K\n",
    "grid_mean_scores = [result.mean_validation_score for result in knn_grid_a.grid_scores_]\n",
    "plt.plot(range(40, 121), grid_mean_scores)\n",
    "plt.title(\"K-Nearest Neighbors - Australia dataset - Best K = 105\")\n",
    "plt.xlabel('Value of K for KNN (australia dataset)')\n",
    "plt.ylabel('Cross-Validated Accuracy')"
   ]
  },
  {
   "cell_type": "code",
   "execution_count": 14,
   "metadata": {
    "collapsed": true
   },
   "outputs": [],
   "source": [
    "knn = KNeighborsClassifier(n_neighbors=64)\n",
    "knn2 = KNeighborsClassifier(n_neighbors=105) "
   ]
  },
  {
   "cell_type": "markdown",
   "metadata": {},
   "source": [
    "##### III(c). Naive Bayes"
   ]
  },
  {
   "cell_type": "code",
   "execution_count": 15,
   "metadata": {
    "collapsed": true
   },
   "outputs": [],
   "source": [
    "# this model has no parameters\n",
    "nb = GaussianNB() \n",
    "nb2= GaussianNB() "
   ]
  },
  {
   "cell_type": "markdown",
   "metadata": {},
   "source": [
    "##### III(d). Decision Tree"
   ]
  },
  {
   "cell_type": "code",
   "execution_count": 91,
   "metadata": {
    "collapsed": false
   },
   "outputs": [
    {
     "name": "stdout",
     "output_type": "stream",
     "text": [
      "best parameters: \n",
      "{'max_features': 6, 'min_samples_split': 1, 'random_state': 1, 'max_depth': 5, 'min_samples_leaf': 2}\n",
      "model (german): \n",
      " DecisionTreeClassifier(class_weight=None, criterion='gini', max_depth=5,\n",
      "            max_features=6, max_leaf_nodes=None, min_samples_leaf=2,\n",
      "            min_samples_split=1, min_weight_fraction_leaf=0.0,\n",
      "            presort=False, random_state=1, splitter='best')\n",
      " \n",
      " best parameters: \n",
      "{'max_features': 4, 'min_samples_split': 1, 'random_state': 1, 'max_depth': 3, 'min_samples_leaf': 5}\n",
      "model (australia): \n",
      " DecisionTreeClassifier(class_weight=None, criterion='gini', max_depth=3,\n",
      "            max_features=4, max_leaf_nodes=None, min_samples_leaf=5,\n",
      "            min_samples_split=1, min_weight_fraction_leaf=0.0,\n",
      "            presort=False, random_state=1, splitter='best')\n"
     ]
    }
   ],
   "source": [
    "dt_p = {'max_features':[3,4,5,6,7],       # number of features to consider for each split\n",
    "        'min_samples_split':[1,2],        # min. observations req'd to split internal node\n",
    "        'max_depth':[2,3,4,5,6],          # number of nodes in depth\n",
    "        'min_samples_leaf':[1,2,3,4,5,6], # min. obs. req'd in terminal node for a split\n",
    "        'random_state':[1]}               # for reproducible results\n",
    "        \n",
    "dt_g = DecisionTreeClassifier()                                   # instantiate model\n",
    "dt_grid_g = GridSearchCV(dt_g, dt_p, cv=5, scoring = 'roc_auc')   # instantiate grid\n",
    "dt_grid_g.fit(german, y1)                                         # fit grid with data\n",
    "print \"best parameters: \\n\", dt_grid_g.best_params_               # print best parameters\n",
    "print \"model (german): \\n {}\".format(dt_grid_g.best_estimator_)   # print model\n",
    " \n",
    "dt_a = DecisionTreeClassifier()                                   # instantiate model\n",
    "dt_grid_a = GridSearchCV(dt_a, dt_p, cv=5, scoring = 'roc_auc')   # instantiate grid\n",
    "dt_grid_a.fit(australia, y2)                                      # fit grid with data\n",
    "print \" \\n best parameters: \\n\", dt_grid_a.best_params_           # print best parameters\n",
    "print \"model (australia): \\n {}\".format(dt_grid_a.best_estimator_)# print model"
   ]
  },
  {
   "cell_type": "code",
   "execution_count": 16,
   "metadata": {
    "collapsed": false
   },
   "outputs": [],
   "source": [
    "dt = DecisionTreeClassifier(max_features=6, \n",
    "                            min_samples_split=1, \n",
    "                            max_depth=5, \n",
    "                            min_samples_leaf=2,\n",
    "                            random_state=1)\n",
    "\n",
    "dt2 = DecisionTreeClassifier(max_features=4, \n",
    "                             min_samples_split=1, \n",
    "                             max_depth=3, \n",
    "                             min_samples_leaf=5,\n",
    "                             random_state=1)  "
   ]
  },
  {
   "cell_type": "markdown",
   "metadata": {},
   "source": [
    "##### IV(a) Bagging Classifier (german)"
   ]
  },
  {
   "cell_type": "code",
   "execution_count": 94,
   "metadata": {
    "collapsed": false
   },
   "outputs": [
    {
     "name": "stdout",
     "output_type": "stream",
     "text": [
      "best parameters: \n",
      "{'max_samples': 0.2, 'base_estimator__min_samples_split': 1, 'base_estimator__max_depth': 5, 'n_estimators': 100, 'random_state': 1, 'max_features': 0.7, 'base_estimator__min_samples_leaf': 2}\n",
      "model (german): \n",
      " BaggingClassifier(base_estimator=DecisionTreeClassifier(class_weight=None, criterion='gini', max_depth=5,\n",
      "            max_features=None, max_leaf_nodes=None, min_samples_leaf=2,\n",
      "            min_samples_split=1, min_weight_fraction_leaf=0.0,\n",
      "            presort=False, random_state=None, splitter='best'),\n",
      "         bootstrap=True, bootstrap_features=False, max_features=0.7,\n",
      "         max_samples=0.2, n_estimators=100, n_jobs=1, oob_score=False,\n",
      "         random_state=1, verbose=0, warm_start=False)\n"
     ]
    }
   ],
   "source": [
    "bag_p = {'base_estimator__min_samples_split':[1],   # use decisiontree parameters\n",
    "         'base_estimator__max_depth':[5],           # use decisiontree parameters\n",
    "         'base_estimator__min_samples_leaf':[2],    # use decisiontree parameters\n",
    "         'n_estimators':[100],\n",
    "         'max_samples':[0.1, 0.2, 0.3],             # samples to draw from dataset (%)       \n",
    "         'max_features':[0.6, 0.7, 0.8],            # features to draw from dataset (%)\n",
    "         'random_state':[1]}\n",
    "         \n",
    "bag_g = BaggingClassifier(DecisionTreeClassifier())                                   \n",
    "bag_grid_g = GridSearchCV(bag_g, bag_p, cv=5, scoring = 'roc_auc')    \n",
    "bag_grid_g.fit(german, y1)                                          \n",
    "print \"best parameters: \\n\", bag_grid_g.best_params_                \n",
    "print \"model (german): \\n {}\".format(bag_grid_g.best_estimator_)  "
   ]
  },
  {
   "cell_type": "code",
   "execution_count": 95,
   "metadata": {
    "collapsed": false
   },
   "outputs": [
    {
     "name": "stdout",
     "output_type": "stream",
     "text": [
      "Bagging Classifier - german dataset\n",
      "Number of trees:  90\n"
     ]
    },
    {
     "data": {
      "image/png": "[encoded data removed]",
      "text/plain": [
       "<matplotlib.figure.Figure at 0x11bf59e50>"
      ]
     },
     "metadata": {},
     "output_type": "display_data"
    }
   ],
   "source": [
    "# find best value for n-estimators based on auc\n",
    "xTrain, xTest, yTrain, yTest = train_test_split(german, y1, test_size=0.30, \n",
    "                                                random_state=1)\n",
    "auc = []\n",
    "n_trees = {}\n",
    "nTreeList = range(10, 600, 10) \n",
    "for iTrees in nTreeList:\n",
    "    bag = BaggingClassifier(DecisionTreeClassifier(max_features=6, \n",
    "                                                   min_samples_split=1, \n",
    "                                                   max_depth=5, \n",
    "                                                   min_samples_leaf=2), \n",
    "                            n_estimators=iTrees, \n",
    "                            max_samples=0.2, \n",
    "                            max_features=0.7,\n",
    "                            random_state=1)\n",
    "    bag.fit(xTrain,yTrain)\n",
    "    prediction = bag.predict_proba(xTest)\n",
    "    aucCalc = roc_auc_score(yTest, prediction[:,1:2])\n",
    "    auc.append(aucCalc)\n",
    "    n_trees.update({iTrees : aucCalc})\n",
    "    \n",
    "print \"Bagging Classifier - german dataset\"\n",
    "print \"Number of trees: \", [key for key,val in n_trees.iteritems() \n",
    "                            if val == max(n_trees.values())][0]\n",
    "\n",
    "#plot training and test errors vs number of trees in ensemble\n",
    "plt.plot(nTreeList, auc)\n",
    "plt.title('Bagging model - best value for n_estimators')\n",
    "plt.xlabel('Number of Trees in Ensemble')\n",
    "plt.ylabel('Area Under ROC Curve - AUC')\n",
    "plt.show()"
   ]
  },
  {
   "cell_type": "code",
   "execution_count": 17,
   "metadata": {
    "collapsed": true
   },
   "outputs": [],
   "source": [
    "bag = BaggingClassifier(DecisionTreeClassifier(max_features=6, \n",
    "                                               min_samples_split=1, \n",
    "                                               max_depth=5, \n",
    "                                               min_samples_leaf=2), \n",
    "                        n_estimators=90,\n",
    "                        max_samples=0.2, \n",
    "                        max_features=0.7, \n",
    "                        random_state=1)"
   ]
  },
  {
   "cell_type": "markdown",
   "metadata": {},
   "source": [
    " "
   ]
  },
  {
   "cell_type": "markdown",
   "metadata": {},
   "source": [
    "##### IV(b). Bagging Classifier (australia)"
   ]
  },
  {
   "cell_type": "code",
   "execution_count": 97,
   "metadata": {
    "collapsed": false
   },
   "outputs": [
    {
     "name": "stdout",
     "output_type": "stream",
     "text": [
      "best parameters: \n",
      "{'max_samples': 0.4, 'base_estimator__min_samples_split': 1, 'base_estimator__max_depth': 3, 'n_estimators': 200, 'random_state': 1, 'max_features': 0.7, 'base_estimator__min_samples_leaf': 5}\n",
      "model (australia): \n",
      " BaggingClassifier(base_estimator=DecisionTreeClassifier(class_weight=None, criterion='gini', max_depth=3,\n",
      "            max_features=None, max_leaf_nodes=None, min_samples_leaf=5,\n",
      "            min_samples_split=1, min_weight_fraction_leaf=0.0,\n",
      "            presort=False, random_state=None, splitter='best'),\n",
      "         bootstrap=True, bootstrap_features=False, max_features=0.7,\n",
      "         max_samples=0.4, n_estimators=200, n_jobs=1, oob_score=False,\n",
      "         random_state=1, verbose=0, warm_start=False)\n"
     ]
    }
   ],
   "source": [
    "bag_p = {'base_estimator__min_samples_split':[1],      # use decisiontree parameters\n",
    "         'base_estimator__max_depth':[3],              # use decisiontree parameters\n",
    "         'base_estimator__min_samples_leaf':[5],       # use decisiontree parameters\n",
    "         'n_estimators':[200],\n",
    "         'max_samples':[0.3, 0.4, 0.5],                # samples to draw from dataset (%)                      \n",
    "         'max_features':[0.6, 0.7, 0.8],               # features to draw from dataset (%)\n",
    "         'random_state':[1]}\n",
    "\n",
    "bag_a = BaggingClassifier(DecisionTreeClassifier())                                    \n",
    "bag_grid_a = GridSearchCV(bag_a, bag_p, cv=5, scoring = 'roc_auc')    \n",
    "bag_grid_a.fit(australia, y2)                                          \n",
    "print \"best parameters: \\n\", bag_grid_a.best_params_                \n",
    "print \"model (australia): \\n {}\".format(bag_grid_a.best_estimator_)  "
   ]
  },
  {
   "cell_type": "code",
   "execution_count": 98,
   "metadata": {
    "collapsed": false
   },
   "outputs": [
    {
     "name": "stdout",
     "output_type": "stream",
     "text": [
      "Bagging Classifier - australia dataset\n",
      "Number of trees:  950\n"
     ]
    },
    {
     "data": {
      "image/png": "[encoded data removed]",
      "text/plain": [
       "<matplotlib.figure.Figure at 0x11a67f150>"
      ]
     },
     "metadata": {},
     "output_type": "display_data"
    }
   ],
   "source": [
    "# find best value for n-estimators based on auc\n",
    "xTrain, xTest, yTrain, yTest = train_test_split(australia, y2, test_size=0.30, \n",
    "                                                random_state=1)\n",
    "auc = []\n",
    "n_trees = {}\n",
    "nTreeList = range(50, 1500, 50) \n",
    "for iTrees in nTreeList:\n",
    "    bag = BaggingClassifier(DecisionTreeClassifier(max_features=4, \n",
    "                                                   min_samples_split=1, \n",
    "                                                   max_depth=3, \n",
    "                                                   min_samples_leaf=5), \n",
    "                            n_estimators=iTrees, \n",
    "                            max_samples=0.4, \n",
    "                            max_features=0.7, \n",
    "                            random_state=1)\n",
    "    bag.fit(xTrain,yTrain)\n",
    "    prediction = bag.predict_proba(xTest)\n",
    "    aucCalc = roc_auc_score(yTest, prediction[:,1:2])\n",
    "    auc.append(aucCalc)\n",
    "    n_trees.update({iTrees : aucCalc})\n",
    "    \n",
    "print \"Bagging Classifier - australia dataset\"\n",
    "print \"Number of trees: \", [key for key,val in n_trees.iteritems() \n",
    "                            if val == max(n_trees.values())][0]\n",
    "\n",
    "#plot training and test errors vs number of trees in ensemble\n",
    "plt.plot(nTreeList, auc)\n",
    "plt.title('Bagging model - best value for n_estimators')\n",
    "plt.xlabel('Number of Trees in Ensemble')\n",
    "plt.ylabel('Area Under ROC Curve - AUC')\n",
    "plt.show()"
   ]
  },
  {
   "cell_type": "code",
   "execution_count": 18,
   "metadata": {
    "collapsed": false
   },
   "outputs": [],
   "source": [
    "bag2 = BaggingClassifier(DecisionTreeClassifier(max_features=4, \n",
    "                                                min_samples_split=1, \n",
    "                                                max_depth=3, \n",
    "                                                min_samples_leaf=5), \n",
    "                         n_estimators=950, \n",
    "                         max_samples=0.4, \n",
    "                         max_features=0.7, \n",
    "                         random_state=1)"
   ]
  },
  {
   "cell_type": "markdown",
   "metadata": {},
   "source": [
    " "
   ]
  },
  {
   "cell_type": "markdown",
   "metadata": {},
   "source": [
    "##### IV(c). Extra Trees (german)"
   ]
  },
  {
   "cell_type": "code",
   "execution_count": 55,
   "metadata": {
    "collapsed": false
   },
   "outputs": [
    {
     "name": "stdout",
     "output_type": "stream",
     "text": [
      "best parameters: \n",
      "{'max_features': 2, 'n_estimators': 50, 'random_state': 1, 'max_depth': 9}\n",
      "model (german): \n",
      " ExtraTreesClassifier(bootstrap=False, class_weight=None, criterion='gini',\n",
      "           max_depth=9, max_features=2, max_leaf_nodes=None,\n",
      "           min_samples_leaf=1, min_samples_split=2,\n",
      "           min_weight_fraction_leaf=0.0, n_estimators=50, n_jobs=1,\n",
      "           oob_score=False, random_state=1, verbose=0, warm_start=False)\n"
     ]
    }
   ],
   "source": [
    "et_p = {'n_estimators':[50],                     \n",
    "        'max_features':[1, 2, 3],\n",
    "        'max_depth':[8, 9, 10],\n",
    "        'random_state':[1]}                  \n",
    "et_g = ExtraTreesClassifier()                                    \n",
    "et_grid_g = GridSearchCV(et_g, et_p, cv=5, scoring = 'roc_auc')    \n",
    "et_grid_g.fit(german, y1)                                          \n",
    "print \"best parameters: \\n\", et_grid_g.best_params_                \n",
    "print \"model (german): \\n {}\".format(et_grid_g.best_estimator_)  "
   ]
  },
  {
   "cell_type": "code",
   "execution_count": 100,
   "metadata": {
    "collapsed": false
   },
   "outputs": [
    {
     "name": "stdout",
     "output_type": "stream",
     "text": [
      "Extra Trees Classifier - german dataset\n",
      "Number of trees:  60\n"
     ]
    },
    {
     "data": {
      "image/png": "[encoded data removed]",
      "text/plain": [
       "<matplotlib.figure.Figure at 0x11a2edd10>"
      ]
     },
     "metadata": {},
     "output_type": "display_data"
    }
   ],
   "source": [
    "xTrain, xTest, yTrain, yTest = train_test_split(german, y1, test_size=0.30, \n",
    "                                                random_state=1)\n",
    "auc = []\n",
    "n_trees = {}\n",
    "nTreeList = range(10, 500, 10)\n",
    "for iTrees in nTreeList:\n",
    "    et = ExtraTreesClassifier(n_estimators=iTrees,  \n",
    "                              max_features=2,\n",
    "                              max_depth=9,\n",
    "                              random_state=1)   \n",
    "    et.fit(xTrain,yTrain)\n",
    "    prediction = et.predict_proba(xTest)\n",
    "    aucCalc = roc_auc_score(yTest, prediction[:,1:2])\n",
    "    auc.append(aucCalc)\n",
    "    n_trees.update({iTrees : aucCalc})\n",
    "       \n",
    "print \"Extra Trees Classifier - german dataset\"\n",
    "print \"Number of trees: \", [key for key,val in n_trees.iteritems() \n",
    "                            if val == max(n_trees.values())][0]\n",
    "\n",
    "#plot training and test errors vs number of trees in ensemble\n",
    "plt.plot(nTreeList, auc)\n",
    "plt.title('ExtraTrees model - best value for n_estimators')\n",
    "plt.xlabel('Number of Trees in Ensemble')\n",
    "plt.ylabel('Area Under ROC Curve - AUC')\n",
    "plt.show()"
   ]
  },
  {
   "cell_type": "code",
   "execution_count": 19,
   "metadata": {
    "collapsed": true
   },
   "outputs": [],
   "source": [
    "et = ExtraTreesClassifier(n_estimators=60,\n",
    "                          max_features=2,\n",
    "                          max_depth=9,  \n",
    "                          random_state=1)"
   ]
  },
  {
   "cell_type": "markdown",
   "metadata": {},
   "source": [
    " "
   ]
  },
  {
   "cell_type": "markdown",
   "metadata": {},
   "source": [
    "##### IV(d). Extra Trees (australia)"
   ]
  },
  {
   "cell_type": "code",
   "execution_count": 102,
   "metadata": {
    "collapsed": false
   },
   "outputs": [
    {
     "name": "stdout",
     "output_type": "stream",
     "text": [
      "best parameters: \n",
      "{'max_features': 5, 'n_estimators': 200, 'random_state': 1, 'max_depth': 5}\n",
      "model (australia): \n",
      " ExtraTreesClassifier(bootstrap=False, class_weight=None, criterion='gini',\n",
      "           max_depth=5, max_features=5, max_leaf_nodes=None,\n",
      "           min_samples_leaf=1, min_samples_split=2,\n",
      "           min_weight_fraction_leaf=0.0, n_estimators=200, n_jobs=1,\n",
      "           oob_score=False, random_state=1, verbose=0, warm_start=False)\n"
     ]
    }
   ],
   "source": [
    "et_p = {'n_estimators':[200],                     \n",
    "        'max_features':[4, 5, 6],\n",
    "        'max_depth':[4, 5, 6],\n",
    "        'random_state':[1]}                  \n",
    "et_a = ExtraTreesClassifier()                                    \n",
    "et_grid_a = GridSearchCV(et_a, et_p, cv=5, scoring = 'roc_auc')    \n",
    "et_grid_a.fit(australia, y2)                                          \n",
    "print \"best parameters: \\n\", et_grid_a.best_params_                \n",
    "print \"model (australia): \\n {}\".format(et_grid_a.best_estimator_)  "
   ]
  },
  {
   "cell_type": "code",
   "execution_count": 103,
   "metadata": {
    "collapsed": false
   },
   "outputs": [
    {
     "name": "stdout",
     "output_type": "stream",
     "text": [
      "Extra Trees Classifier - australia dataset\n",
      "Number of trees:  300\n"
     ]
    },
    {
     "data": {
      "image/png": "[encoded data removed]",
      "text/plain": [
       "<matplotlib.figure.Figure at 0x11c494550>"
      ]
     },
     "metadata": {},
     "output_type": "display_data"
    }
   ],
   "source": [
    "xTrain, xTest, yTrain, yTest = train_test_split(australia, y2, test_size=0.30, \n",
    "                                                random_state=1)\n",
    "auc = []\n",
    "n_trees = {}\n",
    "nTreeList = range(10, 500, 10)\n",
    "for iTrees in nTreeList:\n",
    "    et = ExtraTreesClassifier(n_estimators=iTrees, \n",
    "                              max_features=5, \n",
    "                              max_depth=5, \n",
    "                              random_state=1)   \n",
    "    et.fit(xTrain,yTrain)\n",
    "    prediction = et.predict_proba(xTest)\n",
    "    aucCalc = roc_auc_score(yTest, prediction[:,1:2])\n",
    "    auc.append(aucCalc)\n",
    "    n_trees.update({iTrees : aucCalc})\n",
    "       \n",
    "print \"Extra Trees Classifier - australia dataset\"\n",
    "print \"Number of trees: \", [key for key,val in n_trees.iteritems() \n",
    "                            if val == max(n_trees.values())][0]\n",
    "\n",
    "#plot training and test errors vs number of trees in ensemble\n",
    "plt.plot(nTreeList, auc)\n",
    "plt.title('ExtraTrees model - best value for n_estimators')\n",
    "plt.xlabel('Number of Trees in Ensemble')\n",
    "plt.ylabel('Area Under ROC Curve - AUC')\n",
    "plt.show()"
   ]
  },
  {
   "cell_type": "code",
   "execution_count": 20,
   "metadata": {
    "collapsed": true
   },
   "outputs": [],
   "source": [
    "et2 = ExtraTreesClassifier(n_estimators=300, \n",
    "                           max_features=5, \n",
    "                           max_depth=5, \n",
    "                           random_state=1)"
   ]
  },
  {
   "cell_type": "markdown",
   "metadata": {},
   "source": [
    " "
   ]
  },
  {
   "cell_type": "markdown",
   "metadata": {},
   "source": [
    "##### IV(e). Random Forests (german)"
   ]
  },
  {
   "cell_type": "code",
   "execution_count": 105,
   "metadata": {
    "collapsed": false
   },
   "outputs": [
    {
     "name": "stdout",
     "output_type": "stream",
     "text": [
      "best parameters: \n",
      "{'max_features': 2, 'n_estimators': 400, 'random_state': 1, 'max_depth': 7}\n",
      "model (german): \n",
      " RandomForestClassifier(bootstrap=True, class_weight=None, criterion='gini',\n",
      "            max_depth=7, max_features=2, max_leaf_nodes=None,\n",
      "            min_samples_leaf=1, min_samples_split=2,\n",
      "            min_weight_fraction_leaf=0.0, n_estimators=400, n_jobs=1,\n",
      "            oob_score=False, random_state=1, verbose=0, warm_start=False)\n"
     ]
    }
   ],
   "source": [
    "rf_p = {'n_estimators':[400],\n",
    "        'max_features':[1, 2, 3], \n",
    "        'max_depth':[6, 7, 8],\n",
    "        'random_state': [1]}                  \n",
    "rf_g = RandomForestClassifier()                                    \n",
    "rf_grid_g = GridSearchCV(rf_g, rf_p, cv=5, scoring = 'roc_auc')    \n",
    "rf_grid_g.fit(german, y1)                                          \n",
    "print \"best parameters: \\n\", rf_grid_g.best_params_                \n",
    "print \"model (german): \\n {}\".format(rf_grid_g.best_estimator_)  "
   ]
  },
  {
   "cell_type": "code",
   "execution_count": 106,
   "metadata": {
    "collapsed": false
   },
   "outputs": [
    {
     "name": "stdout",
     "output_type": "stream",
     "text": [
      "Random Forests Classifier - german dataset\n",
      "Number of trees:  1100\n"
     ]
    },
    {
     "data": {
      "image/png": "[encoded data removed]",
      "text/plain": [
       "<matplotlib.figure.Figure at 0x11c97b710>"
      ]
     },
     "metadata": {},
     "output_type": "display_data"
    }
   ],
   "source": [
    "xTrain, xTest, yTrain, yTest = train_test_split(german, y1, test_size=0.30, \n",
    "                                                random_state=1)\n",
    "auc = []\n",
    "n_trees = {}\n",
    "nTreeList = range(50, 1200, 50)       \n",
    "for iTrees in nTreeList: \n",
    "    rf = RandomForestClassifier(n_estimators=iTrees, \n",
    "                                max_features=2, \n",
    "                                max_depth=7, \n",
    "                                random_state=1)\n",
    "    rf.fit(xTrain,yTrain)\n",
    "    prediction = rf.predict_proba(xTest)\n",
    "    aucCalc = roc_auc_score(yTest, prediction[:,1:2])\n",
    "    auc.append(aucCalc)\n",
    "    n_trees.update({iTrees : aucCalc})\n",
    "    \n",
    "print \"Random Forests Classifier - german dataset\"\n",
    "print \"Number of trees: \", [key for key,val in n_trees.iteritems() \n",
    "                            if val == max(n_trees.values())][0]\n",
    "\n",
    "#plot training and test errors vs number of trees in ensemble\n",
    "plt.plot(nTreeList, auc)\n",
    "plt.title('Random Forests model - best value for n_estimators')\n",
    "plt.xlabel('Number of Trees in Ensemble')\n",
    "plt.ylabel('Area Under ROC Curve - AUC')\n",
    "plt.show()"
   ]
  },
  {
   "cell_type": "code",
   "execution_count": 21,
   "metadata": {
    "collapsed": true
   },
   "outputs": [],
   "source": [
    "rf = RandomForestClassifier(n_estimators=1100, \n",
    "                            max_features=2, \n",
    "                            max_depth=7, \n",
    "                            random_state=1)"
   ]
  },
  {
   "cell_type": "markdown",
   "metadata": {},
   "source": [
    " "
   ]
  },
  {
   "cell_type": "markdown",
   "metadata": {},
   "source": [
    "##### IV(f). Random Forests (australia)"
   ]
  },
  {
   "cell_type": "code",
   "execution_count": 108,
   "metadata": {
    "collapsed": false
   },
   "outputs": [
    {
     "name": "stdout",
     "output_type": "stream",
     "text": [
      "best parameters: \n",
      "{'max_features': 5, 'n_estimators': 1000, 'random_state': 1, 'max_depth': 4}\n",
      "model (australia): \n",
      " RandomForestClassifier(bootstrap=True, class_weight=None, criterion='gini',\n",
      "            max_depth=4, max_features=5, max_leaf_nodes=None,\n",
      "            min_samples_leaf=1, min_samples_split=2,\n",
      "            min_weight_fraction_leaf=0.0, n_estimators=1000, n_jobs=1,\n",
      "            oob_score=False, random_state=1, verbose=0, warm_start=False)\n"
     ]
    }
   ],
   "source": [
    "rf_p = {'n_estimators':[1000],\n",
    "        'max_features':[4, 5, 6], \n",
    "        'max_depth':[3, 4, 5],\n",
    "        'random_state':[1]}                  \n",
    "rf_a = RandomForestClassifier()                                    \n",
    "rf_grid_a = GridSearchCV(rf_a, rf_p, cv=5, scoring = 'roc_auc')    \n",
    "rf_grid_a.fit(australia, y2)                                          \n",
    "print \"best parameters: \\n\", rf_grid_a.best_params_                \n",
    "print \"model (australia): \\n {}\".format(rf_grid_a.best_estimator_)  "
   ]
  },
  {
   "cell_type": "code",
   "execution_count": 109,
   "metadata": {
    "collapsed": false
   },
   "outputs": [
    {
     "name": "stdout",
     "output_type": "stream",
     "text": [
      "Random Forests Classifier - australia dataset\n",
      "Number of trees:  300\n"
     ]
    },
    {
     "data": {
      "image/png": "[encoded data removed]",
      "text/plain": [
       "<matplotlib.figure.Figure at 0x11ceb5350>"
      ]
     },
     "metadata": {},
     "output_type": "display_data"
    }
   ],
   "source": [
    "xTrain, xTest, yTrain, yTest = train_test_split(australia, y2, test_size=0.30, \n",
    "                                                random_state=1)\n",
    "auc = []\n",
    "n_trees = {}\n",
    "nTreeList = range(100, 1000, 100)       \n",
    "for iTrees in nTreeList: \n",
    "    rf = RandomForestClassifier(n_estimators=iTrees, \n",
    "                                max_features=5, \n",
    "                                max_depth=4, \n",
    "                                random_state=1)\n",
    "    rf.fit(xTrain,yTrain)\n",
    "    prediction = rf.predict_proba(xTest)\n",
    "    aucCalc = roc_auc_score(yTest, prediction[:,1:2])\n",
    "    auc.append(aucCalc)\n",
    "    n_trees.update({iTrees : aucCalc})\n",
    "    \n",
    "print \"Random Forests Classifier - australia dataset\"\n",
    "print \"Number of trees: \", [key for key,val in n_trees.iteritems() \n",
    "                            if val == max(n_trees.values())][0]\n",
    "\n",
    "#plot training and test errors vs number of trees in ensemble\n",
    "plt.plot(nTreeList, auc)\n",
    "plt.title('Random Forests model - best value for n_estimators')\n",
    "plt.xlabel('Number of Trees in Ensemble')\n",
    "plt.ylabel('Area Under ROC Curve - AUC')\n",
    "plt.show()"
   ]
  },
  {
   "cell_type": "code",
   "execution_count": 22,
   "metadata": {
    "collapsed": true
   },
   "outputs": [],
   "source": [
    "rf2 = RandomForestClassifier(n_estimators=300, \n",
    "                             max_features=5, \n",
    "                             max_depth=4, \n",
    "                             random_state=1)"
   ]
  },
  {
   "cell_type": "markdown",
   "metadata": {},
   "source": [
    " "
   ]
  },
  {
   "cell_type": "markdown",
   "metadata": {},
   "source": [
    "##### IV(g). Gradient Boosting (german)"
   ]
  },
  {
   "cell_type": "code",
   "execution_count": 111,
   "metadata": {
    "collapsed": false
   },
   "outputs": [
    {
     "name": "stdout",
     "output_type": "stream",
     "text": [
      "best parameters: \n",
      "{'max_features': 3, 'n_estimators': 500, 'learning_rate': 0.03, 'random_state': 1, 'max_depth': 2}\n",
      "model (german): \n",
      " GradientBoostingClassifier(init=None, learning_rate=0.03, loss='deviance',\n",
      "              max_depth=2, max_features=3, max_leaf_nodes=None,\n",
      "              min_samples_leaf=1, min_samples_split=2,\n",
      "              min_weight_fraction_leaf=0.0, n_estimators=500,\n",
      "              presort='auto', random_state=1, subsample=1.0, verbose=0,\n",
      "              warm_start=False)\n"
     ]
    }
   ],
   "source": [
    "gb_p = {'n_estimators':[500],\n",
    "        'max_features':[2, 3, 4],\n",
    "        'learning_rate':[0.02, 0.03, 0.04],\n",
    "        'max_depth':[1, 2, 3],\n",
    "        'random_state':[1]}                  \n",
    "gb_g = GradientBoostingClassifier()                                    \n",
    "gb_grid_g = GridSearchCV(gb_g, gb_p, cv=5, scoring = 'roc_auc')    \n",
    "gb_grid_g.fit(german, y1)                                          \n",
    "print \"best parameters: \\n\", gb_grid_g.best_params_                \n",
    "print \"model (german): \\n {}\".format(gb_grid_g.best_estimator_)"
   ]
  },
  {
   "cell_type": "code",
   "execution_count": 112,
   "metadata": {
    "collapsed": false
   },
   "outputs": [
    {
     "name": "stdout",
     "output_type": "stream",
     "text": [
      "Gradient Boosting - german dataset\n",
      "Number of trees:  450\n"
     ]
    },
    {
     "data": {
      "image/png": "[encoded data removed]",
      "text/plain": [
       "<matplotlib.figure.Figure at 0x11c965d90>"
      ]
     },
     "metadata": {},
     "output_type": "display_data"
    }
   ],
   "source": [
    "xTrain, xTest, yTrain, yTest = train_test_split(german, y1, \n",
    "                                                test_size=0.30, \n",
    "                                                random_state=1)\n",
    "auc = []\n",
    "n_trees = {}\n",
    "nTreeList = range(50, 1000, 50)       \n",
    "for iTrees in nTreeList:\n",
    "    gb = GradientBoostingClassifier(n_estimators=iTrees,\n",
    "                                    max_features=3,\n",
    "                                    learning_rate=0.03,\n",
    "                                    max_depth=2,  \n",
    "                                    random_state=1)\n",
    "    gb.fit(xTrain, yTrain)\n",
    "    prediction = gb.predict_proba(xTest)\n",
    "    aucCalc = roc_auc_score(yTest, prediction[:,1:2])\n",
    "    auc.append(aucCalc)\n",
    "    n_trees.update({iTrees : aucCalc})\n",
    "    \n",
    "print \"Gradient Boosting - german dataset\"\n",
    "print \"Number of trees: \", [key for key,val in n_trees.iteritems() \n",
    "                            if val == max(n_trees.values())][0]\n",
    "\n",
    "#plot training and test errors vs number of trees in ensemble\n",
    "plt.plot(nTreeList, auc)\n",
    "plt.title('GradientBoosting model - best value for n_estimators')\n",
    "plt.xlabel('Number of Trees in Ensemble')\n",
    "plt.ylabel('Area Under ROC Curve - AUC')\n",
    "plt.show()"
   ]
  },
  {
   "cell_type": "code",
   "execution_count": 23,
   "metadata": {
    "collapsed": true
   },
   "outputs": [],
   "source": [
    "gb = GradientBoostingClassifier(n_estimators=450, \n",
    "                                max_features=3,\n",
    "                                learning_rate=0.03,\n",
    "                                max_depth=2,  \n",
    "                                random_state=1)"
   ]
  },
  {
   "cell_type": "markdown",
   "metadata": {},
   "source": [
    " "
   ]
  },
  {
   "cell_type": "markdown",
   "metadata": {},
   "source": [
    "##### IV(h). Gradient Boosting (australia)"
   ]
  },
  {
   "cell_type": "code",
   "execution_count": 114,
   "metadata": {
    "collapsed": false
   },
   "outputs": [
    {
     "name": "stdout",
     "output_type": "stream",
     "text": [
      "best parameters: \n",
      "{'max_features': 1, 'n_estimators': 500, 'learning_rate': 0.02, 'random_state': 1, 'max_depth': 2}\n",
      "model (australia): \n",
      " GradientBoostingClassifier(init=None, learning_rate=0.02, loss='deviance',\n",
      "              max_depth=2, max_features=1, max_leaf_nodes=None,\n",
      "              min_samples_leaf=1, min_samples_split=2,\n",
      "              min_weight_fraction_leaf=0.0, n_estimators=500,\n",
      "              presort='auto', random_state=1, subsample=1.0, verbose=0,\n",
      "              warm_start=False)\n"
     ]
    }
   ],
   "source": [
    "gb_p = {'n_estimators':[500],\n",
    "        'learning_rate':[0.01, 0.02, 0.03],\n",
    "        'max_features':[1, 2, 3],\n",
    "        'max_depth':[1, 2, 3],\n",
    "        'random_state':[1]}                   \n",
    "gb_a = GradientBoostingClassifier()                                    \n",
    "gb_grid_a = GridSearchCV(gb_a, gb_p, cv=5, scoring = 'roc_auc')    \n",
    "gb_grid_a.fit(australia, y2)                                          \n",
    "print \"best parameters: \\n\", gb_grid_a.best_params_                \n",
    "print \"model (australia): \\n {}\".format(gb_grid_a.best_estimator_)"
   ]
  },
  {
   "cell_type": "code",
   "execution_count": 115,
   "metadata": {
    "collapsed": false
   },
   "outputs": [
    {
     "name": "stdout",
     "output_type": "stream",
     "text": [
      "Gradient Boosting - australia dataset\n",
      "Number of trees:  1200\n"
     ]
    },
    {
     "data": {
      "image/png": "[encoded data removed]",
      "text/plain": [
       "<matplotlib.figure.Figure at 0x11e981fd0>"
      ]
     },
     "metadata": {},
     "output_type": "display_data"
    }
   ],
   "source": [
    "xTrain, xTest, yTrain, yTest = train_test_split(australia, y2, \n",
    "                                                test_size=0.30, \n",
    "                                                random_state=1)\n",
    "auc = []\n",
    "n_trees = {}\n",
    "nTreeList = range(50, 1500, 50)       \n",
    "for iTrees in nTreeList:\n",
    "    gb = GradientBoostingClassifier(n_estimators=iTrees,\n",
    "                                    learning_rate=0.02,\n",
    "                                    max_features=1,\n",
    "                                    max_depth=2, \n",
    "                                    random_state=1)\n",
    "    gb.fit(xTrain, yTrain)\n",
    "    prediction = gb.predict_proba(xTest)\n",
    "    aucCalc = roc_auc_score(yTest, prediction[:,1:2])\n",
    "    auc.append(aucCalc)\n",
    "    n_trees.update({iTrees : aucCalc})\n",
    "    \n",
    "print \"Gradient Boosting - australia dataset\"\n",
    "print \"Number of trees: \", [key for key,val in n_trees.iteritems() \n",
    "                            if val == max(n_trees.values())][0]\n",
    "\n",
    "#plot training and test errors vs number of trees in ensemble\n",
    "plt.plot(nTreeList, auc)\n",
    "plt.title('GradientBoosting model - best value for n_estimators')\n",
    "plt.xlabel('Number of Trees in Ensemble')\n",
    "plt.ylabel('Area Under ROC Curve - AUC')\n",
    "plt.show()"
   ]
  },
  {
   "cell_type": "code",
   "execution_count": 24,
   "metadata": {
    "collapsed": true
   },
   "outputs": [],
   "source": [
    "gb2 = GradientBoostingClassifier(n_estimators=1200,\n",
    "                                 learning_rate=0.02,\n",
    "                                 max_features=1,\n",
    "                                 max_depth=2, \n",
    "                                 random_state=1)"
   ]
  },
  {
   "cell_type": "markdown",
   "metadata": {},
   "source": [
    " "
   ]
  },
  {
   "cell_type": "markdown",
   "metadata": {},
   "source": [
    "### V. Model Scoring using Accuracy, F1 & ROC_AUC"
   ]
  },
  {
   "cell_type": "code",
   "execution_count": 25,
   "metadata": {
    "collapsed": false
   },
   "outputs": [
    {
     "name": "stdout",
     "output_type": "stream",
     "text": [
      "\n",
      "Model Scoring - German\n"
     ]
    },
    {
     "data": {
      "text/html": [
       "<div>\n",
       "<table border=\"1\" class=\"dataframe\">\n",
       "  <thead>\n",
       "    <tr style=\"text-align: right;\">\n",
       "      <th></th>\n",
       "      <th>Accuracy</th>\n",
       "      <th>F1-measure</th>\n",
       "      <th>Roc/Auc</th>\n",
       "    </tr>\n",
       "  </thead>\n",
       "  <tbody>\n",
       "    <tr>\n",
       "      <th>Logistic Regression</th>\n",
       "      <td>0.757</td>\n",
       "      <td>0.837242</td>\n",
       "      <td>0.779333</td>\n",
       "    </tr>\n",
       "    <tr>\n",
       "      <th>K-Nearest Neighbors</th>\n",
       "      <td>0.713</td>\n",
       "      <td>0.828243</td>\n",
       "      <td>0.593321</td>\n",
       "    </tr>\n",
       "    <tr>\n",
       "      <th>Naive Bayes</th>\n",
       "      <td>0.749</td>\n",
       "      <td>0.827641</td>\n",
       "      <td>0.775286</td>\n",
       "    </tr>\n",
       "    <tr>\n",
       "      <th>Decision Tree</th>\n",
       "      <td>0.738</td>\n",
       "      <td>0.817323</td>\n",
       "      <td>0.730929</td>\n",
       "    </tr>\n",
       "    <tr>\n",
       "      <th>Bagging Classifier</th>\n",
       "      <td>0.744</td>\n",
       "      <td>0.837448</td>\n",
       "      <td>0.795810</td>\n",
       "    </tr>\n",
       "    <tr>\n",
       "      <th>Extra Trees Classifier</th>\n",
       "      <td>0.760</td>\n",
       "      <td>0.842516</td>\n",
       "      <td>0.778214</td>\n",
       "    </tr>\n",
       "    <tr>\n",
       "      <th>Random Forests</th>\n",
       "      <td>0.747</td>\n",
       "      <td>0.836964</td>\n",
       "      <td>0.784000</td>\n",
       "    </tr>\n",
       "    <tr>\n",
       "      <th>Gradient Boosting</th>\n",
       "      <td>0.765</td>\n",
       "      <td>0.839752</td>\n",
       "      <td>0.790738</td>\n",
       "    </tr>\n",
       "  </tbody>\n",
       "</table>\n",
       "</div>"
      ],
      "text/plain": [
       "                        Accuracy  F1-measure   Roc/Auc\n",
       "Logistic Regression        0.757    0.837242  0.779333\n",
       "K-Nearest Neighbors        0.713    0.828243  0.593321\n",
       "Naive Bayes                0.749    0.827641  0.775286\n",
       "Decision Tree              0.738    0.817323  0.730929\n",
       "Bagging Classifier         0.744    0.837448  0.795810\n",
       "Extra Trees Classifier     0.760    0.842516  0.778214\n",
       "Random Forests             0.747    0.836964  0.784000\n",
       "Gradient Boosting          0.765    0.839752  0.790738"
      ]
     },
     "execution_count": 25,
     "metadata": {},
     "output_type": "execute_result"
    }
   ],
   "source": [
    "model_names = ['Logistic Regression', 'K-Nearest Neighbors', 'Naive Bayes', 'Decision Tree', \n",
    "               'Bagging Classifier', 'Extra Trees Classifier', 'Random Forests', \n",
    "               'Gradient Boosting']\n",
    "\n",
    "accuracy_german = []\n",
    "f1_german = []\n",
    "auc_german = []\n",
    "models = [lgr, knn, nb, dt, bag, et, rf, gb]\n",
    "\n",
    "for model in models:\n",
    "    acc = cross_val_score(model, german, y1, cv=5, scoring='accuracy')\n",
    "    f1 = cross_val_score(model, german, y1, cv=5, scoring='f1')\n",
    "    auc = cross_val_score(model, german, y1, cv=5, scoring='roc_auc')\n",
    "    accuracy_german.append(np.mean(acc))\n",
    "    f1_german.append(np.mean(f1))\n",
    "    auc_german.append(np.mean(auc))\n",
    "\n",
    "scores = pd.DataFrame(zip(accuracy_german, f1_german, auc_german), \n",
    "                      index=model_names, \n",
    "                      columns=['Accuracy', 'F1-measure', 'Roc/Auc'])\n",
    "print '\\nModel Scoring - German'\n",
    "scores"
   ]
  },
  {
   "cell_type": "markdown",
   "metadata": {},
   "source": [
    " "
   ]
  },
  {
   "cell_type": "code",
   "execution_count": 26,
   "metadata": {
    "collapsed": false
   },
   "outputs": [
    {
     "name": "stdout",
     "output_type": "stream",
     "text": [
      "\n",
      "Model Scoring - Australian\n"
     ]
    },
    {
     "data": {
      "text/html": [
       "<div>\n",
       "<table border=\"1\" class=\"dataframe\">\n",
       "  <thead>\n",
       "    <tr style=\"text-align: right;\">\n",
       "      <th></th>\n",
       "      <th>Accuracy</th>\n",
       "      <th>F1-measure</th>\n",
       "      <th>Roc/Auc</th>\n",
       "    </tr>\n",
       "  </thead>\n",
       "  <tbody>\n",
       "    <tr>\n",
       "      <th>Logistic Regression</th>\n",
       "      <td>0.857965</td>\n",
       "      <td>0.847256</td>\n",
       "      <td>0.927259</td>\n",
       "    </tr>\n",
       "    <tr>\n",
       "      <th>K-Nearest Neighbors</th>\n",
       "      <td>0.688299</td>\n",
       "      <td>0.550825</td>\n",
       "      <td>0.791704</td>\n",
       "    </tr>\n",
       "    <tr>\n",
       "      <th>Naive Bayes</th>\n",
       "      <td>0.785456</td>\n",
       "      <td>0.721319</td>\n",
       "      <td>0.901535</td>\n",
       "    </tr>\n",
       "    <tr>\n",
       "      <th>Decision Tree</th>\n",
       "      <td>0.836120</td>\n",
       "      <td>0.821083</td>\n",
       "      <td>0.923308</td>\n",
       "    </tr>\n",
       "    <tr>\n",
       "      <th>Bagging Classifier</th>\n",
       "      <td>0.857849</td>\n",
       "      <td>0.837247</td>\n",
       "      <td>0.933996</td>\n",
       "    </tr>\n",
       "    <tr>\n",
       "      <th>Extra Trees Classifier</th>\n",
       "      <td>0.852146</td>\n",
       "      <td>0.839809</td>\n",
       "      <td>0.928748</td>\n",
       "    </tr>\n",
       "    <tr>\n",
       "      <th>Random Forests</th>\n",
       "      <td>0.850592</td>\n",
       "      <td>0.834565</td>\n",
       "      <td>0.936143</td>\n",
       "    </tr>\n",
       "    <tr>\n",
       "      <th>Gradient Boosting</th>\n",
       "      <td>0.853585</td>\n",
       "      <td>0.833193</td>\n",
       "      <td>0.932403</td>\n",
       "    </tr>\n",
       "  </tbody>\n",
       "</table>\n",
       "</div>"
      ],
      "text/plain": [
       "                        Accuracy  F1-measure   Roc/Auc\n",
       "Logistic Regression     0.857965    0.847256  0.927259\n",
       "K-Nearest Neighbors     0.688299    0.550825  0.791704\n",
       "Naive Bayes             0.785456    0.721319  0.901535\n",
       "Decision Tree           0.836120    0.821083  0.923308\n",
       "Bagging Classifier      0.857849    0.837247  0.933996\n",
       "Extra Trees Classifier  0.852146    0.839809  0.928748\n",
       "Random Forests          0.850592    0.834565  0.936143\n",
       "Gradient Boosting       0.853585    0.833193  0.932403"
      ]
     },
     "execution_count": 26,
     "metadata": {},
     "output_type": "execute_result"
    }
   ],
   "source": [
    "accuracy_australia = []\n",
    "f1_australia = []\n",
    "auc_australia = []\n",
    "models = [lgr2, knn2, nb2, dt2, bag2, et2, rf2, gb2]\n",
    "\n",
    "for model in models:\n",
    "    acc = cross_val_score(model, australia, y2, cv=5, scoring='accuracy')\n",
    "    f1 = cross_val_score(model, australia, y2, cv=5, scoring='f1')\n",
    "    auc = cross_val_score(model, australia, y2, cv=5, scoring='roc_auc')\n",
    "    accuracy_australia.append(np.mean(acc))\n",
    "    f1_australia.append(np.mean(f1))\n",
    "    auc_australia.append(np.mean(auc))\n",
    "\n",
    "scores = pd.DataFrame(zip(accuracy_australia, f1_australia, auc_australia), \n",
    "                      index=model_names, \n",
    "                      columns=['Accuracy', 'F1-measure', 'Roc/Auc'])\n",
    "print '\\nModel Scoring - Australian'\n",
    "scores"
   ]
  },
  {
   "cell_type": "markdown",
   "metadata": {},
   "source": [
    " "
   ]
  },
  {
   "cell_type": "markdown",
   "metadata": {},
   "source": [
    "### VI. Probability Predictions"
   ]
  },
  {
   "cell_type": "markdown",
   "metadata": {},
   "source": [
    "##### VI(a). Wrappers in conjunction with Cross_Val_Predict"
   ]
  },
  {
   "cell_type": "code",
   "execution_count": 27,
   "metadata": {
    "collapsed": true
   },
   "outputs": [],
   "source": [
    "class proba_lgr(LogisticRegression):\n",
    "    def predict(self, X):\n",
    "        return LogisticRegression.predict_proba(self, X)\n",
    "\n",
    "class proba_knn(KNeighborsClassifier):\n",
    "    def predict(self, X):\n",
    "        return KNeighborsClassifier.predict_proba(self, X)\n",
    "\n",
    "class proba_nb(GaussianNB):\n",
    "    def predict(self, X):\n",
    "        return GaussianNB.predict_proba(self, X)\n",
    "\n",
    "class proba_dt(DecisionTreeClassifier):\n",
    "    def predict(self, X):\n",
    "        return DecisionTreeClassifier.predict_proba(self, X)\n",
    "\n",
    "class proba_bag(BaggingClassifier):\n",
    "    def predict(self, X):\n",
    "        return BaggingClassifier.predict_proba(self, X)\n",
    "\n",
    "class proba_et(ExtraTreesClassifier):\n",
    "    def predict(self, X):\n",
    "        return ExtraTreesClassifier.predict_proba(self, X)\n",
    "\n",
    "class proba_rf(RandomForestClassifier):\n",
    "    def predict(self, X):\n",
    "        return RandomForestClassifier.predict_proba(self, X)\n",
    "\n",
    "class proba_gb(GradientBoostingClassifier):\n",
    "    def predict(self, X):\n",
    "        return GradientBoostingClassifier.predict_proba(self, X)"
   ]
  },
  {
   "cell_type": "markdown",
   "metadata": {},
   "source": [
    "##### VI(b). Probability Predicitions"
   ]
  },
  {
   "cell_type": "code",
   "execution_count": 28,
   "metadata": {
    "collapsed": true
   },
   "outputs": [],
   "source": [
    "lgr_probs, knn_probs, nb_probs, dt_probs, bag_probs, et_probs, rf_probs, gb_probs = [],\\\n",
    "[], [], [], [], [], [], [] \n",
    "\n",
    "lgr_probs2, knn_probs2, nb_probs2, dt_probs2, bag_probs2, et_probs2, rf_probs2, gb_probs2 \\\n",
    "= [], [], [], [], [], [], [], [] \n",
    "\n",
    "\n",
    "#  Logistic Regression\n",
    "probs = cross_val_predict(proba_lgr(C=10,   \n",
    "                                    penalty='l1', \n",
    "                                    random_state=1), \n",
    "                          german, y1, cv=5)\n",
    "for i in range(len(probs)): \n",
    "    lgr_probs.append(probs[i][1])  \n",
    "    \n",
    "probs = cross_val_predict(proba_lgr(C=100, \n",
    "                                    penalty='l1', \n",
    "                                    random_state=1), \n",
    "                          australia, y2, cv=5)\n",
    "for i in range(len(probs)): \n",
    "    lgr_probs2.append(probs[i][1])     \n",
    "    \n",
    "\n",
    "#  K-Nearest Neighbors \n",
    "probs = cross_val_predict(proba_knn(n_neighbors=64), \n",
    "                          german, y1, cv=5)\n",
    "for i in range(len(probs)): knn_probs.append(probs[i][1])   \n",
    "    \n",
    "probs = cross_val_predict(proba_knn(n_neighbors=105), \n",
    "                          australia, y2, cv=5)\n",
    "for i in range(len(probs)): knn_probs2.append(probs[i][1])   \n",
    "    \n",
    "\n",
    "#  Naive Bayes \n",
    "probs = cross_val_predict(proba_nb(), \n",
    "                          german, y1, cv=5)\n",
    "for i in range(len(probs)): \n",
    "    nb_probs.append(probs[i][1])  \n",
    "    \n",
    "probs = cross_val_predict(proba_nb(), \n",
    "                          australia, y2, cv=5)\n",
    "for i in range(len(probs)): \n",
    "    nb_probs2.append(probs[i][1])    \n",
    "\n",
    "    \n",
    "# Decision Trees   \n",
    "probs = cross_val_predict(proba_dt(max_features=6, \n",
    "                                   min_samples_split=1, \n",
    "                                   max_depth=5, \n",
    "                                   min_samples_leaf=2), \n",
    "                          german, y1, cv=5)\n",
    "for i in range(len(probs)): \n",
    "    dt_probs.append(probs[i][1]) \n",
    "    \n",
    "probs = cross_val_predict(proba_dt(max_features=4, \n",
    "                                   min_samples_split=1, \n",
    "                                   max_depth=3, \n",
    "                                   min_samples_leaf=5), \n",
    "                          australia, y2, cv=5)\n",
    "for i in range(len(probs)): \n",
    "    dt_probs2.append(probs[i][1])    \n",
    "\n",
    "    \n",
    "#  Bagging Classifier (using Decision Tree with parameters as base estimator)\n",
    "probs = cross_val_predict(proba_bag(DecisionTreeClassifier(max_features=6, \n",
    "                                                           min_samples_split=1, \n",
    "                                                           max_depth=5, \n",
    "                                                           min_samples_leaf=2), \n",
    "                                    n_estimators=90, \n",
    "                                    max_samples=0.2, \n",
    "                                    max_features=0.7, \n",
    "                                    random_state=1), \n",
    "                          german, y1, cv=5)\n",
    "for i in range(len(probs)): \n",
    "    bag_probs.append(probs[i][1]) \n",
    "    \n",
    "probs = cross_val_predict(proba_bag(DecisionTreeClassifier(max_features=4, \n",
    "                                                           min_samples_split=1, \n",
    "                                                           max_depth=3, \n",
    "                                                           min_samples_leaf=5), \n",
    "                                    n_estimators=950, \n",
    "                                    max_samples=0.4, \n",
    "                                    max_features=0.7, \n",
    "                                    random_state=1), \n",
    "                          australia, y2, cv=5)\n",
    "for i in range(len(probs)): \n",
    "    bag_probs2.append(probs[i][1])     \n",
    "\n",
    "    \n",
    "# Extra Trees  \n",
    "probs = cross_val_predict(proba_et(n_estimators=60, \n",
    "                                   max_features=2, \n",
    "                                   max_depth=9, \n",
    "                                   random_state=1), \n",
    "                          german, y1, cv=5)\n",
    "for i in range(len(probs)): \n",
    "    et_probs.append(probs[i][1])   \n",
    "    \n",
    "probs = cross_val_predict(proba_et(n_estimators=300, \n",
    "                                   max_features=5, \n",
    "                                   max_depth=5, \n",
    "                                   random_state=1), \n",
    "                          australia, y2, cv=5)\n",
    "for i in range(len(probs)): \n",
    "    et_probs2.append(probs[i][1])    \n",
    "    \n",
    "    \n",
    "# Random Forests   \n",
    "probs = cross_val_predict(proba_rf(n_estimators=1100, \n",
    "                                   max_features=2, \n",
    "                                   max_depth=7, \n",
    "                                   random_state=1), \n",
    "                          german, y1, cv=5)\n",
    "for i in range(len(probs)): \n",
    "    rf_probs.append(probs[i][1]) \n",
    "    \n",
    "probs = cross_val_predict(proba_rf(n_estimators=300,  \n",
    "                                   max_features=5, \n",
    "                                   max_depth=4, \n",
    "                                   random_state=1), \n",
    "                          australia, y2, cv=5)\n",
    "for i in range(len(probs)): \n",
    "    rf_probs2.append(probs[i][1])     \n",
    "    \n",
    "    \n",
    "# Gradient Boosting\n",
    "probs = cross_val_predict(proba_gb(n_estimators=450, \n",
    "                                   max_features=3, \n",
    "                                   learning_rate=0.03, \n",
    "                                   max_depth=2, \n",
    "                                   random_state=1), \n",
    "                          german, y1, cv=5)\n",
    "for i in range(len(probs)): \n",
    "    gb_probs.append(probs[i][1])   \n",
    "    \n",
    "probs = cross_val_predict(proba_gb(n_estimators=1200,\n",
    "                                   learning_rate=0.02,\n",
    "                                   max_features=1,\n",
    "                                   max_depth=2, \n",
    "                                   random_state=1), \n",
    "                          australia, y2, cv=5)\n",
    "for i in range(len(probs)): \n",
    "    gb_probs2.append(probs[i][1])    "
   ]
  },
  {
   "cell_type": "markdown",
   "metadata": {},
   "source": [
    "### VII. Cost-Profit Considerations"
   ]
  },
  {
   "cell_type": "markdown",
   "metadata": {},
   "source": [
    "##### VII(a). Confusion Matrix"
   ]
  },
  {
   "cell_type": "code",
   "execution_count": 29,
   "metadata": {
    "collapsed": false
   },
   "outputs": [
    {
     "name": "stdout",
     "output_type": "stream",
     "text": [
      "\n",
      "\n",
      "Show the row and column labels in the confusion matrix and include a description\n",
      "for True Positives, False Negatives, False Positives, and True Negatives.\n"
     ]
    },
    {
     "data": {
      "text/html": [
       "<div>\n",
       "<table border=\"1\" class=\"dataframe\">\n",
       "  <thead>\n",
       "    <tr style=\"text-align: right;\">\n",
       "      <th></th>\n",
       "      <th>Predicted_Creditworthy</th>\n",
       "      <th>Predicted_NonCreditworthy</th>\n",
       "    </tr>\n",
       "  </thead>\n",
       "  <tbody>\n",
       "    <tr>\n",
       "      <th>Creditworthy (actual)</th>\n",
       "      <td>TP  -  good customers predicted as good</td>\n",
       "      <td>FN  -  good customers predicted as bad</td>\n",
       "    </tr>\n",
       "    <tr>\n",
       "      <th>NonCreditworthy (actual)</th>\n",
       "      <td>FP  -  bad customers predicted as good</td>\n",
       "      <td>TN  -  bad customers predicted as bad</td>\n",
       "    </tr>\n",
       "  </tbody>\n",
       "</table>\n",
       "</div>"
      ],
      "text/plain": [
       "                                            Predicted_Creditworthy                Predicted_NonCreditworthy\n",
       "Creditworthy (actual)      TP  -  good customers predicted as good   FN  -  good customers predicted as bad\n",
       "NonCreditworthy (actual)    FP  -  bad customers predicted as good    TN  -  bad customers predicted as bad"
      ]
     },
     "execution_count": 29,
     "metadata": {},
     "output_type": "execute_result"
    }
   ],
   "source": [
    "def confusion_matrx(threshold, prob_preds, targets):\n",
    "    true_positives, false_positives, false_negatives, true_negatives = 0, 0, 0, 0\n",
    "    for i in range(len(targets)):\n",
    "        prob_pred, target = prob_preds[i], targets[i]\n",
    "        if prob_pred >= threshold and target == 1: # pos class is labeled 1\n",
    "            true_positives += 1\n",
    "        elif prob_pred < threshold and target == 1:\n",
    "            false_negatives += 1\n",
    "        elif prob_pred >= threshold and target == 0: # neg class is labeled 0\n",
    "            false_positives += 1\n",
    "        elif prob_pred < threshold and target == 0:\n",
    "            true_negatives += 1\n",
    "        else:\n",
    "            print 'check confusion_matrx'\n",
    "    return true_positives, false_positives, false_negatives, true_negatives\n",
    "\n",
    "predicted_positive_b = [' TP  -  good customers predicted as good',  \n",
    "                        ' FP  -  bad customers predicted as good']\n",
    "predicted_negative_b = [' FN  -  good customers predicted as bad', \n",
    "                        ' TN  -  bad customers predicted as bad']\n",
    "classes_b = ['Creditworthy (actual)', 'NonCreditworthy (actual)']      \n",
    "con_mat = pd.DataFrame(zip(predicted_positive_b, predicted_negative_b), index=classes_b, \n",
    "                           columns=['Predicted_Creditworthy', 'Predicted_NonCreditworthy'])\n",
    "print '\\n\\nShow the row and column labels in the confusion matrix and include a description'\n",
    "print 'for True Positives, False Negatives, False Positives, and True Negatives.'\n",
    "con_mat"
   ]
  },
  {
   "cell_type": "markdown",
   "metadata": {},
   "source": [
    " "
   ]
  },
  {
   "cell_type": "markdown",
   "metadata": {},
   "source": [
    "##### VII(b). Cost of False Positives"
   ]
  },
  {
   "cell_type": "code",
   "execution_count": 30,
   "metadata": {
    "collapsed": false
   },
   "outputs": [
    {
     "name": "stdout",
     "output_type": "stream",
     "text": [
      "\n",
      "Determine the cost of a false positive in terms of true positives, for example, the\n",
      "amount of money the bank losses when a 'bad customer is predicted as good' cost twice\n",
      "('2-to-1 Cost-Profit Ratio') of what the bank gains when a 'good customer is \n",
      "predicted good'.  In section X, we will take a look at other cost-profit ratios.\n"
     ]
    },
    {
     "data": {
      "text/html": [
       "<div>\n",
       "<table border=\"1\" class=\"dataframe\">\n",
       "  <thead>\n",
       "    <tr style=\"text-align: right;\">\n",
       "      <th></th>\n",
       "      <th>Predicted_Creditworthy</th>\n",
       "      <th>Predicted_NonCreditworthy</th>\n",
       "    </tr>\n",
       "  </thead>\n",
       "  <tbody>\n",
       "    <tr>\n",
       "      <th>Creditworthy (actual)</th>\n",
       "      <td>gain of $1</td>\n",
       "      <td>no loss (however, a gain is prevented)</td>\n",
       "    </tr>\n",
       "    <tr>\n",
       "      <th>NonCreditworthy (actual)</th>\n",
       "      <td>loss of $2</td>\n",
       "      <td>no gain (however, a loss prevented)</td>\n",
       "    </tr>\n",
       "  </tbody>\n",
       "</table>\n",
       "</div>"
      ],
      "text/plain": [
       "                         Predicted_Creditworthy               Predicted_NonCreditworthy\n",
       "Creditworthy (actual)                gain of $1  no loss (however, a gain is prevented)\n",
       "NonCreditworthy (actual)             loss of $2     no gain (however, a loss prevented)"
      ]
     },
     "execution_count": 30,
     "metadata": {},
     "output_type": "execute_result"
    }
   ],
   "source": [
    "predicted_positive_c = ['gain of $1', 'loss of $2']    \n",
    "predicted_negative_c = ['no loss (however, a gain is prevented)', \n",
    "                        'no gain (however, a loss prevented)']\n",
    "cost_matrix = pd.DataFrame(zip(predicted_positive_c, predicted_negative_c), index=classes_b, \n",
    "                         columns=['Predicted_Creditworthy', 'Predicted_NonCreditworthy'])\n",
    "print \"\\nDetermine the cost of a false positive in terms of true positives, for example, the\" \n",
    "print \"amount of money the bank losses when a 'bad customer is predicted as good' cost twice\" \n",
    "print \"('2-to-1 Cost-Profit Ratio') of what the bank gains when a 'good customer is \"\n",
    "print \"predicted good'.  In section X, we will take a look at other cost-profit ratios.\"\n",
    "cost_matrix"
   ]
  },
  {
   "cell_type": "markdown",
   "metadata": {},
   "source": [
    " "
   ]
  },
  {
   "cell_type": "markdown",
   "metadata": {},
   "source": [
    "##### VII(c). Threshold Function"
   ]
  },
  {
   "cell_type": "code",
   "execution_count": 31,
   "metadata": {
    "collapsed": true
   },
   "outputs": [],
   "source": [
    "def threshold_results(thresh, prob_preds, targets, ratio, option=0):\n",
    "# calculates one profit for a single model, at a single threshold \n",
    "    tp, fp, fn, tn = confusion_matrx(thresh, prob_preds, targets) \n",
    "    cost = fp * ratio\n",
    "    gain = tp * 1\n",
    "    profit = gain - cost\n",
    "    if option == 0:  # do not print, return profit\n",
    "        return profit\n",
    "    elif option == 1:  # print con mat, tpr, fpr, profit; return tp, fp, tpr, fpr\n",
    "        tpr = round(tp / (tp + fn), 2)\n",
    "        fpr = round(fp / (fp + tn), 2)\n",
    "        print \"tp\", tp, \"  fn\", fn, '   row total:', tp + fn\n",
    "        print \"fp\", fp, \"   tn\", tn, '   row total:', fp + tn\n",
    "        print \"true positive rate\", tpr, \" false positive rate\", fpr\n",
    "        print \"unit profit\", profit\n",
    "        return tp, fp, tpr, fpr\n",
    "    elif option == 2:  # print con mat, include accuracy & F1 results\n",
    "        print \"tp\", tp, \"  fn\", fn, '   row total:', tp + fn\n",
    "        print \"fp\", fp, \"  tn\", tn, '  row total:', fp + tn        \n",
    "        accuracy = (tp + tn) / (tp + fp + fn + tn)\n",
    "        precision = tp / (tp + fp)\n",
    "        recall = tp / (tp + fn)    # also, the true positive rate (tpr)\n",
    "        f1_score = 2 * (precision * recall) / (precision + recall) \n",
    "        print \"accuracy:\", round(accuracy, 6), \"  f1_score\", round(f1_score, 6)\n",
    "        acc_at_50.append(accuracy)   # acc_at_50 is global \n",
    "        f1_at_50.append(f1_score)    # f1_at_50 is global\n",
    "        print \"unit profit\", profit\n",
    "    else: \n",
    "        print 'check threshold options'"
   ]
  },
  {
   "cell_type": "markdown",
   "metadata": {},
   "source": [
    "### VIII. Profits & Metrics using a Cost-Profit Ratio of 2-to-1 "
   ]
  },
  {
   "cell_type": "markdown",
   "metadata": {},
   "source": [
    "##### VIII(a). Metrics & Unit Profits at 50% Thresholds"
   ]
  },
  {
   "cell_type": "code",
   "execution_count": 48,
   "metadata": {
    "collapsed": false
   },
   "outputs": [
    {
     "name": "stdout",
     "output_type": "stream",
     "text": [
      "\n",
      "Confusion matrices, accuracy & f1 calculations, and profit results at 50% threshold\n",
      "for each model.\n",
      "\n",
      "Logistic Regression at 50 (german)\n",
      "tp 626   fn 74    row total: 700\n",
      "fp 169   tn 131   row total: 300\n",
      "accuracy: 0.757   f1_score 0.837458\n",
      "unit profit 288\n",
      "\n",
      "K-Nearest Neighbors at 50 (german)\n",
      "tp 692   fn 8    row total: 700\n",
      "fp 282   tn 18   row total: 300\n",
      "accuracy: 0.71   f1_score 0.826762\n",
      "unit profit 128\n",
      "\n",
      "Naive Bayes at 50 (german)\n",
      "tp 606   fn 94    row total: 700\n",
      "fp 157   tn 143   row total: 300\n",
      "accuracy: 0.749   f1_score 0.828435\n",
      "unit profit 292\n",
      "\n",
      "Decision Tree at 50 (german)\n",
      "tp 614   fn 86    row total: 700\n",
      "fp 174   tn 126   row total: 300\n",
      "accuracy: 0.74   f1_score 0.825269\n",
      "unit profit 266\n",
      "\n",
      "Bagging Classifier at 50 (german)\n",
      "tp 660   fn 40    row total: 700\n",
      "fp 216   tn 84   row total: 300\n",
      "accuracy: 0.744   f1_score 0.837563\n",
      "unit profit 228\n",
      "\n",
      "Extra Trees Classifier at 50 (german)\n",
      "tp 642   fn 58    row total: 700\n",
      "fp 182   tn 118   row total: 300\n",
      "accuracy: 0.76   f1_score 0.84252\n",
      "unit profit 278\n",
      "\n",
      "Random Forests at 50 (german)\n",
      "tp 650   fn 50    row total: 700\n",
      "fp 203   tn 97   row total: 300\n",
      "accuracy: 0.747   f1_score 0.83709\n",
      "unit profit 244\n",
      "\n",
      "Gradient Boosting at 50 (german)\n",
      "tp 617   fn 83    row total: 700\n",
      "fp 152   tn 148   row total: 300\n",
      "accuracy: 0.765   f1_score 0.840027\n",
      "unit profit 313\n",
      "\n",
      " \n",
      "Accuracy calculation is generally in line with the accuracy results from section 5.\n",
      "Models based on German dataset\n"
     ]
    },
    {
     "data": {
      "text/html": [
       "<div>\n",
       "<table border=\"1\" class=\"dataframe\">\n",
       "  <thead>\n",
       "    <tr style=\"text-align: right;\">\n",
       "      <th></th>\n",
       "      <th>accuracy_at_50</th>\n",
       "      <th>accuracy_from_section_5</th>\n",
       "    </tr>\n",
       "  </thead>\n",
       "  <tbody>\n",
       "    <tr>\n",
       "      <th>Logistic Regression</th>\n",
       "      <td>0.757</td>\n",
       "      <td>0.757</td>\n",
       "    </tr>\n",
       "    <tr>\n",
       "      <th>K-Nearest Neighbors</th>\n",
       "      <td>0.710</td>\n",
       "      <td>0.713</td>\n",
       "    </tr>\n",
       "    <tr>\n",
       "      <th>Naive Bayes</th>\n",
       "      <td>0.749</td>\n",
       "      <td>0.749</td>\n",
       "    </tr>\n",
       "    <tr>\n",
       "      <th>Decision Tree</th>\n",
       "      <td>0.740</td>\n",
       "      <td>0.738</td>\n",
       "    </tr>\n",
       "    <tr>\n",
       "      <th>Bagging Classifier</th>\n",
       "      <td>0.744</td>\n",
       "      <td>0.744</td>\n",
       "    </tr>\n",
       "    <tr>\n",
       "      <th>Extra Trees Classifier</th>\n",
       "      <td>0.760</td>\n",
       "      <td>0.760</td>\n",
       "    </tr>\n",
       "    <tr>\n",
       "      <th>Random Forests</th>\n",
       "      <td>0.747</td>\n",
       "      <td>0.747</td>\n",
       "    </tr>\n",
       "    <tr>\n",
       "      <th>Gradient Boosting</th>\n",
       "      <td>0.765</td>\n",
       "      <td>0.765</td>\n",
       "    </tr>\n",
       "  </tbody>\n",
       "</table>\n",
       "</div>"
      ],
      "text/plain": [
       "                        accuracy_at_50  accuracy_from_section_5\n",
       "Logistic Regression              0.757                    0.757\n",
       "K-Nearest Neighbors              0.710                    0.713\n",
       "Naive Bayes                      0.749                    0.749\n",
       "Decision Tree                    0.740                    0.738\n",
       "Bagging Classifier               0.744                    0.744\n",
       "Extra Trees Classifier           0.760                    0.760\n",
       "Random Forests                   0.747                    0.747\n",
       "Gradient Boosting                0.765                    0.765"
      ]
     },
     "execution_count": 48,
     "metadata": {},
     "output_type": "execute_result"
    }
   ],
   "source": [
    "probs = [lgr_probs, knn_probs, nb_probs, dt_probs, bag_probs, et_probs, rf_probs, gb_probs]\n",
    "acc_at_50 = []\n",
    "f1_at_50 = []\n",
    "ratio = 2\n",
    "\n",
    "print '\\nConfusion matrices, accuracy & f1 calculations, and profit results at 50% threshold'\n",
    "print 'for each model.'\n",
    "\n",
    "for i in range(len(model_names)):\n",
    "    prob_preds = probs[i]\n",
    "    print '\\n', model_names[i] + ' at 50', '(german)'\n",
    "    option = 2  # option 2 prints certain metrics, & stores acc/f-1 scores\n",
    "    threshold_results(0.5, prob_preds, y1, ratio, option)  \n",
    "    \n",
    "print '\\n \\n', \"Accuracy calculation is generally in line with the accuracy results from \\\n",
    "section 5.\\nModels based on German dataset\"\n",
    "    \n",
    "df_50_acc = pd.DataFrame(zip(acc_at_50, accuracy_german), index=model_names, \n",
    "                         columns=['accuracy_at_50', 'accuracy_from_section_5'])\n",
    "df_50_acc"
   ]
  },
  {
   "cell_type": "code",
   "execution_count": 49,
   "metadata": {
    "collapsed": false
   },
   "outputs": [
    {
     "name": "stdout",
     "output_type": "stream",
     "text": [
      "\n",
      "F1 calculation is generally in line with the f1 results from section 5.\n",
      "Models based on German dataset\n"
     ]
    },
    {
     "data": {
      "text/html": [
       "<div>\n",
       "<table border=\"1\" class=\"dataframe\">\n",
       "  <thead>\n",
       "    <tr style=\"text-align: right;\">\n",
       "      <th></th>\n",
       "      <th>F1_at_50</th>\n",
       "      <th>F1_from_section_5</th>\n",
       "      <th>difference</th>\n",
       "    </tr>\n",
       "  </thead>\n",
       "  <tbody>\n",
       "    <tr>\n",
       "      <th>Logistic Regression</th>\n",
       "      <td>0.837458</td>\n",
       "      <td>0.837242</td>\n",
       "      <td>-0.000217</td>\n",
       "    </tr>\n",
       "    <tr>\n",
       "      <th>K-Nearest Neighbors</th>\n",
       "      <td>0.826762</td>\n",
       "      <td>0.828243</td>\n",
       "      <td>0.001481</td>\n",
       "    </tr>\n",
       "    <tr>\n",
       "      <th>Naive Bayes</th>\n",
       "      <td>0.828435</td>\n",
       "      <td>0.827641</td>\n",
       "      <td>-0.000793</td>\n",
       "    </tr>\n",
       "    <tr>\n",
       "      <th>Decision Tree</th>\n",
       "      <td>0.825269</td>\n",
       "      <td>0.817323</td>\n",
       "      <td>-0.007945</td>\n",
       "    </tr>\n",
       "    <tr>\n",
       "      <th>Bagging Classifier</th>\n",
       "      <td>0.837563</td>\n",
       "      <td>0.837448</td>\n",
       "      <td>-0.000116</td>\n",
       "    </tr>\n",
       "    <tr>\n",
       "      <th>Extra Trees Classifier</th>\n",
       "      <td>0.842520</td>\n",
       "      <td>0.842516</td>\n",
       "      <td>-0.000004</td>\n",
       "    </tr>\n",
       "    <tr>\n",
       "      <th>Random Forests</th>\n",
       "      <td>0.837090</td>\n",
       "      <td>0.836964</td>\n",
       "      <td>-0.000125</td>\n",
       "    </tr>\n",
       "    <tr>\n",
       "      <th>Gradient Boosting</th>\n",
       "      <td>0.840027</td>\n",
       "      <td>0.839752</td>\n",
       "      <td>-0.000276</td>\n",
       "    </tr>\n",
       "  </tbody>\n",
       "</table>\n",
       "</div>"
      ],
      "text/plain": [
       "                        F1_at_50  F1_from_section_5  difference\n",
       "Logistic Regression     0.837458           0.837242   -0.000217\n",
       "K-Nearest Neighbors     0.826762           0.828243    0.001481\n",
       "Naive Bayes             0.828435           0.827641   -0.000793\n",
       "Decision Tree           0.825269           0.817323   -0.007945\n",
       "Bagging Classifier      0.837563           0.837448   -0.000116\n",
       "Extra Trees Classifier  0.842520           0.842516   -0.000004\n",
       "Random Forests          0.837090           0.836964   -0.000125\n",
       "Gradient Boosting       0.840027           0.839752   -0.000276"
      ]
     },
     "execution_count": 49,
     "metadata": {},
     "output_type": "execute_result"
    }
   ],
   "source": [
    "print \"\\nF1 calculation is generally in line with the f1 results from section 5.\"\n",
    "print \"Models based on German dataset\"\n",
    "df_50_f1 = pd.DataFrame(zip(f1_at_50, f1_german), index=model_names, \n",
    "                        columns=['F1_at_50', 'F1_from_section_5'])\n",
    "df_50_f1['difference'] = df_50_f1.F1_from_section_5 - df_50_f1.F1_at_50 \n",
    "df_50_f1"
   ]
  },
  {
   "cell_type": "markdown",
   "metadata": {},
   "source": [
    " "
   ]
  },
  {
   "cell_type": "markdown",
   "metadata": {},
   "source": [
    "VIII(a). Metrics & Unit Profits at 50% Thresholds (cont'd)"
   ]
  },
  {
   "cell_type": "code",
   "execution_count": 50,
   "metadata": {
    "collapsed": false
   },
   "outputs": [
    {
     "name": "stdout",
     "output_type": "stream",
     "text": [
      "\n",
      "Confusion matrices, accuracy & f1 calculations, and profit results at 50% threshold\n",
      "for each model.\n",
      "\n",
      "Logistic Regression at 50 (australia)\n",
      "tp 269   fn 38    row total: 307\n",
      "fp 60   tn 323   row total: 383\n",
      "accuracy: 0.857971   f1_score 0.845912\n",
      "unit profit 149\n",
      "\n",
      "K-Nearest Neighbors at 50 (australia)\n",
      "tp 134   fn 173    row total: 307\n",
      "fp 42   tn 341   row total: 383\n",
      "accuracy: 0.688406   f1_score 0.554865\n",
      "unit profit 50\n",
      "\n",
      "Naive Bayes at 50 (australia)\n",
      "tp 192   fn 115    row total: 307\n",
      "fp 33   tn 350   row total: 383\n",
      "accuracy: 0.785507   f1_score 0.721805\n",
      "unit profit 126\n",
      "\n",
      "Decision Tree at 50 (australia)\n",
      "tp 247   fn 60    row total: 307\n",
      "fp 58   tn 325   row total: 383\n",
      "accuracy: 0.828986   f1_score 0.80719\n",
      "unit profit 131\n",
      "\n",
      "Bagging Classifier at 50 (australia)\n",
      "tp 253   fn 54    row total: 307\n",
      "fp 44   tn 339   row total: 383\n",
      "accuracy: 0.857971   f1_score 0.837748\n",
      "unit profit 165\n",
      "\n",
      "Extra Trees Classifier at 50 (australia)\n",
      "tp 266   fn 41    row total: 307\n",
      "fp 61   tn 322   row total: 383\n",
      "accuracy: 0.852174   f1_score 0.839117\n",
      "unit profit 144\n",
      "\n",
      "Random Forests at 50 (australia)\n",
      "tp 259   fn 48    row total: 307\n",
      "fp 55   tn 328   row total: 383\n",
      "accuracy: 0.850725   f1_score 0.834138\n",
      "unit profit 149\n",
      "\n",
      "Gradient Boosting at 50 (australia)\n",
      "tp 254   fn 53    row total: 307\n",
      "fp 48   tn 335   row total: 383\n",
      "accuracy: 0.853623   f1_score 0.834154\n",
      "unit profit 158\n",
      "\n",
      " \n",
      "Accuracy calculation is generally in line with the accuracy results from section 5.\n",
      "Models based on Australian dataset\n"
     ]
    },
    {
     "data": {
      "text/html": [
       "<div>\n",
       "<table border=\"1\" class=\"dataframe\">\n",
       "  <thead>\n",
       "    <tr style=\"text-align: right;\">\n",
       "      <th></th>\n",
       "      <th>accuracy_at_50</th>\n",
       "      <th>accuracy_from_section_5</th>\n",
       "      <th>difference</th>\n",
       "    </tr>\n",
       "  </thead>\n",
       "  <tbody>\n",
       "    <tr>\n",
       "      <th>Logistic Regression</th>\n",
       "      <td>0.857971</td>\n",
       "      <td>0.857965</td>\n",
       "      <td>-0.000006</td>\n",
       "    </tr>\n",
       "    <tr>\n",
       "      <th>K-Nearest Neighbors</th>\n",
       "      <td>0.688406</td>\n",
       "      <td>0.688299</td>\n",
       "      <td>-0.000107</td>\n",
       "    </tr>\n",
       "    <tr>\n",
       "      <th>Naive Bayes</th>\n",
       "      <td>0.785507</td>\n",
       "      <td>0.785456</td>\n",
       "      <td>-0.000051</td>\n",
       "    </tr>\n",
       "    <tr>\n",
       "      <th>Decision Tree</th>\n",
       "      <td>0.828986</td>\n",
       "      <td>0.836120</td>\n",
       "      <td>0.007134</td>\n",
       "    </tr>\n",
       "    <tr>\n",
       "      <th>Bagging Classifier</th>\n",
       "      <td>0.857971</td>\n",
       "      <td>0.857849</td>\n",
       "      <td>-0.000122</td>\n",
       "    </tr>\n",
       "    <tr>\n",
       "      <th>Extra Trees Classifier</th>\n",
       "      <td>0.852174</td>\n",
       "      <td>0.852146</td>\n",
       "      <td>-0.000028</td>\n",
       "    </tr>\n",
       "    <tr>\n",
       "      <th>Random Forests</th>\n",
       "      <td>0.850725</td>\n",
       "      <td>0.850592</td>\n",
       "      <td>-0.000133</td>\n",
       "    </tr>\n",
       "    <tr>\n",
       "      <th>Gradient Boosting</th>\n",
       "      <td>0.853623</td>\n",
       "      <td>0.853585</td>\n",
       "      <td>-0.000038</td>\n",
       "    </tr>\n",
       "  </tbody>\n",
       "</table>\n",
       "</div>"
      ],
      "text/plain": [
       "                        accuracy_at_50  accuracy_from_section_5  difference\n",
       "Logistic Regression           0.857971                 0.857965   -0.000006\n",
       "K-Nearest Neighbors           0.688406                 0.688299   -0.000107\n",
       "Naive Bayes                   0.785507                 0.785456   -0.000051\n",
       "Decision Tree                 0.828986                 0.836120    0.007134\n",
       "Bagging Classifier            0.857971                 0.857849   -0.000122\n",
       "Extra Trees Classifier        0.852174                 0.852146   -0.000028\n",
       "Random Forests                0.850725                 0.850592   -0.000133\n",
       "Gradient Boosting             0.853623                 0.853585   -0.000038"
      ]
     },
     "execution_count": 50,
     "metadata": {},
     "output_type": "execute_result"
    }
   ],
   "source": [
    "probs2 = [lgr_probs2, knn_probs2, nb_probs2, dt_probs2, bag_probs2, et_probs2, rf_probs2,\\\n",
    "          gb_probs2]\n",
    "acc_at_50 = []\n",
    "f1_at_50 = []\n",
    "ratio = 2\n",
    "\n",
    "print '\\nConfusion matrices, accuracy & f1 calculations, and profit results at 50% threshold'\n",
    "print 'for each model.'\n",
    "\n",
    "for i in range(len(model_names)):\n",
    "    prob_preds = probs2[i]\n",
    "    print '\\n', model_names[i] + ' at 50', '(australia)'\n",
    "    option = 2  # option 2 prints certain metrics, & stores acc/f-1 scores\n",
    "    threshold_results(0.5, prob_preds, y2, ratio, option)\n",
    "    \n",
    "print '\\n \\n', \"Accuracy calculation is generally in line with the accuracy results from \\\n",
    "section 5.\\nModels based on Australian dataset\"\n",
    "    \n",
    "df_50_acc = pd.DataFrame(zip(acc_at_50, accuracy_australia), index=model_names, \n",
    "                         columns=['accuracy_at_50', 'accuracy_from_section_5'])\n",
    "df_50_acc['difference'] = df_50_acc.accuracy_from_section_5 - df_50_acc.accuracy_at_50 \n",
    "df_50_acc"
   ]
  },
  {
   "cell_type": "code",
   "execution_count": 51,
   "metadata": {
    "collapsed": false
   },
   "outputs": [
    {
     "name": "stdout",
     "output_type": "stream",
     "text": [
      "\n",
      "F1 calc. is generally in line with the f1 results from section 5\n",
      "Models based on Australian dataset\n"
     ]
    },
    {
     "data": {
      "text/html": [
       "<div>\n",
       "<table border=\"1\" class=\"dataframe\">\n",
       "  <thead>\n",
       "    <tr style=\"text-align: right;\">\n",
       "      <th></th>\n",
       "      <th>F1_at_50</th>\n",
       "      <th>F1_from_section_5</th>\n",
       "      <th>difference</th>\n",
       "    </tr>\n",
       "  </thead>\n",
       "  <tbody>\n",
       "    <tr>\n",
       "      <th>Logistic Regression</th>\n",
       "      <td>0.845912</td>\n",
       "      <td>0.847256</td>\n",
       "      <td>0.001344</td>\n",
       "    </tr>\n",
       "    <tr>\n",
       "      <th>K-Nearest Neighbors</th>\n",
       "      <td>0.554865</td>\n",
       "      <td>0.550825</td>\n",
       "      <td>-0.004040</td>\n",
       "    </tr>\n",
       "    <tr>\n",
       "      <th>Naive Bayes</th>\n",
       "      <td>0.721805</td>\n",
       "      <td>0.721319</td>\n",
       "      <td>-0.000486</td>\n",
       "    </tr>\n",
       "    <tr>\n",
       "      <th>Decision Tree</th>\n",
       "      <td>0.807190</td>\n",
       "      <td>0.821083</td>\n",
       "      <td>0.013894</td>\n",
       "    </tr>\n",
       "    <tr>\n",
       "      <th>Bagging Classifier</th>\n",
       "      <td>0.837748</td>\n",
       "      <td>0.837247</td>\n",
       "      <td>-0.000502</td>\n",
       "    </tr>\n",
       "    <tr>\n",
       "      <th>Extra Trees Classifier</th>\n",
       "      <td>0.839117</td>\n",
       "      <td>0.839809</td>\n",
       "      <td>0.000692</td>\n",
       "    </tr>\n",
       "    <tr>\n",
       "      <th>Random Forests</th>\n",
       "      <td>0.834138</td>\n",
       "      <td>0.834565</td>\n",
       "      <td>0.000427</td>\n",
       "    </tr>\n",
       "    <tr>\n",
       "      <th>Gradient Boosting</th>\n",
       "      <td>0.834154</td>\n",
       "      <td>0.833193</td>\n",
       "      <td>-0.000961</td>\n",
       "    </tr>\n",
       "  </tbody>\n",
       "</table>\n",
       "</div>"
      ],
      "text/plain": [
       "                        F1_at_50  F1_from_section_5  difference\n",
       "Logistic Regression     0.845912           0.847256    0.001344\n",
       "K-Nearest Neighbors     0.554865           0.550825   -0.004040\n",
       "Naive Bayes             0.721805           0.721319   -0.000486\n",
       "Decision Tree           0.807190           0.821083    0.013894\n",
       "Bagging Classifier      0.837748           0.837247   -0.000502\n",
       "Extra Trees Classifier  0.839117           0.839809    0.000692\n",
       "Random Forests          0.834138           0.834565    0.000427\n",
       "Gradient Boosting       0.834154           0.833193   -0.000961"
      ]
     },
     "execution_count": 51,
     "metadata": {},
     "output_type": "execute_result"
    }
   ],
   "source": [
    "print \"\\nF1 calc. is generally in line with the f1 results from section 5\"\n",
    "print \"Models based on Australian dataset\"\n",
    "df_50_f1 = pd.DataFrame(zip(f1_at_50, f1_australia), index=model_names, \n",
    "                        columns=['F1_at_50', 'F1_from_section_5'])\n",
    "df_50_f1['difference'] = df_50_f1.F1_from_section_5 - df_50_f1.F1_at_50\n",
    "df_50_f1"
   ]
  },
  {
   "cell_type": "markdown",
   "metadata": {},
   "source": [
    "##### VIII(b). Unit Profits Across Thresholds"
   ]
  },
  {
   "cell_type": "code",
   "execution_count": 64,
   "metadata": {
    "collapsed": false
   },
   "outputs": [
    {
     "name": "stdout",
     "output_type": "stream",
     "text": [
      "\n",
      "\n",
      "Unit Profits across Thresholds - German\n"
     ]
    },
    {
     "data": {
      "text/html": [
       "<div>\n",
       "<table border=\"1\" class=\"dataframe\">\n",
       "  <thead>\n",
       "    <tr style=\"text-align: right;\">\n",
       "      <th></th>\n",
       "      <th>Thresh_50</th>\n",
       "      <th>Thresh_55</th>\n",
       "      <th>Thresh_60</th>\n",
       "      <th>Thresh_65</th>\n",
       "      <th>Thresh_70</th>\n",
       "    </tr>\n",
       "  </thead>\n",
       "  <tbody>\n",
       "    <tr>\n",
       "      <th>Logistic Regression</th>\n",
       "      <td>288</td>\n",
       "      <td>312</td>\n",
       "      <td>344</td>\n",
       "      <td>345</td>\n",
       "      <td>339</td>\n",
       "    </tr>\n",
       "    <tr>\n",
       "      <th>K-Nearest Neighbors</th>\n",
       "      <td>128</td>\n",
       "      <td>130</td>\n",
       "      <td>144</td>\n",
       "      <td>143</td>\n",
       "      <td>136</td>\n",
       "    </tr>\n",
       "    <tr>\n",
       "      <th>Naive Bayes</th>\n",
       "      <td>292</td>\n",
       "      <td>303</td>\n",
       "      <td>324</td>\n",
       "      <td>341</td>\n",
       "      <td>329</td>\n",
       "    </tr>\n",
       "    <tr>\n",
       "      <th>Decision Tree</th>\n",
       "      <td>225</td>\n",
       "      <td>248</td>\n",
       "      <td>241</td>\n",
       "      <td>246</td>\n",
       "      <td>256</td>\n",
       "    </tr>\n",
       "    <tr>\n",
       "      <th>Bagging Classifier</th>\n",
       "      <td>228</td>\n",
       "      <td>306</td>\n",
       "      <td>345</td>\n",
       "      <td>369</td>\n",
       "      <td>344</td>\n",
       "    </tr>\n",
       "    <tr>\n",
       "      <th>Extra Trees Classifier</th>\n",
       "      <td>278</td>\n",
       "      <td>291</td>\n",
       "      <td>334</td>\n",
       "      <td>324</td>\n",
       "      <td>312</td>\n",
       "    </tr>\n",
       "    <tr>\n",
       "      <th>Random Forests</th>\n",
       "      <td>244</td>\n",
       "      <td>305</td>\n",
       "      <td>337</td>\n",
       "      <td>352</td>\n",
       "      <td>334</td>\n",
       "    </tr>\n",
       "    <tr>\n",
       "      <th>Gradient Boosting</th>\n",
       "      <td>313</td>\n",
       "      <td>339</td>\n",
       "      <td>351</td>\n",
       "      <td>355</td>\n",
       "      <td>351</td>\n",
       "    </tr>\n",
       "  </tbody>\n",
       "</table>\n",
       "</div>"
      ],
      "text/plain": [
       "                        Thresh_50  Thresh_55  Thresh_60  Thresh_65  Thresh_70\n",
       "Logistic Regression           288        312        344        345        339\n",
       "K-Nearest Neighbors           128        130        144        143        136\n",
       "Naive Bayes                   292        303        324        341        329\n",
       "Decision Tree                 225        248        241        246        256\n",
       "Bagging Classifier            228        306        345        369        344\n",
       "Extra Trees Classifier        278        291        334        324        312\n",
       "Random Forests                244        305        337        352        334\n",
       "Gradient Boosting             313        339        351        355        351"
      ]
     },
     "execution_count": 64,
     "metadata": {},
     "output_type": "execute_result"
    }
   ],
   "source": [
    "profits = []\n",
    "thresholds = [0.50, 0.55, 0.60, 0.65, 0.70]\n",
    "ratio = 2\n",
    "\n",
    "for i in probs:\n",
    "    for threshold in thresholds:\n",
    "        profit = threshold_results(threshold, i, y1, ratio)\n",
    "        profits.append(profit)\n",
    "\n",
    "thresh50profits, thresh55profits, thresh60profits, thresh65profits, thresh70profits \\\n",
    "= [], [], [], [], []\n",
    "counter = 0\n",
    "for j in range(len(probs)):\n",
    "    if counter != 0: counter += 1\n",
    "    thresh50profits.append(profits[counter])\n",
    "    counter += 1\n",
    "    thresh55profits.append(profits[counter])\n",
    "    counter += 1    \n",
    "    thresh60profits.append(profits[counter])\n",
    "    counter += 1        \n",
    "    thresh65profits.append(profits[counter])\n",
    "    counter += 1        \n",
    "    thresh70profits.append(profits[counter])\n",
    "\n",
    "thrsh = pd.DataFrame(zip(thresh50profits, thresh55profits, thresh60profits, \n",
    "                         thresh65profits, thresh70profits), \n",
    "                     index=model_names, \n",
    "                     columns=['Thresh_50', 'Thresh_55', 'Thresh_60','Thresh_65',\n",
    "                              'Thresh_70'])\n",
    "\n",
    "print '\\n\\nUnit Profits across Thresholds - German'\n",
    "thrsh"
   ]
  },
  {
   "cell_type": "markdown",
   "metadata": {},
   "source": [
    "VIII(b). Unit Profits Across Thresholds (cont'd)"
   ]
  },
  {
   "cell_type": "code",
   "execution_count": 65,
   "metadata": {
    "collapsed": false
   },
   "outputs": [
    {
     "name": "stdout",
     "output_type": "stream",
     "text": [
      "\n",
      "\n",
      "Unit Profits across Thresholds - Australian\n"
     ]
    },
    {
     "data": {
      "text/html": [
       "<div>\n",
       "<table border=\"1\" class=\"dataframe\">\n",
       "  <thead>\n",
       "    <tr style=\"text-align: right;\">\n",
       "      <th></th>\n",
       "      <th>Thresh_50</th>\n",
       "      <th>Thresh_55</th>\n",
       "      <th>Thresh_60</th>\n",
       "      <th>Thresh_65</th>\n",
       "      <th>Thresh_70</th>\n",
       "    </tr>\n",
       "  </thead>\n",
       "  <tbody>\n",
       "    <tr>\n",
       "      <th>Logistic Regression</th>\n",
       "      <td>149</td>\n",
       "      <td>154</td>\n",
       "      <td>169</td>\n",
       "      <td>164</td>\n",
       "      <td>164</td>\n",
       "    </tr>\n",
       "    <tr>\n",
       "      <th>K-Nearest Neighbors</th>\n",
       "      <td>50</td>\n",
       "      <td>55</td>\n",
       "      <td>49</td>\n",
       "      <td>48</td>\n",
       "      <td>28</td>\n",
       "    </tr>\n",
       "    <tr>\n",
       "      <th>Naive Bayes</th>\n",
       "      <td>126</td>\n",
       "      <td>127</td>\n",
       "      <td>125</td>\n",
       "      <td>122</td>\n",
       "      <td>117</td>\n",
       "    </tr>\n",
       "    <tr>\n",
       "      <th>Decision Tree</th>\n",
       "      <td>145</td>\n",
       "      <td>155</td>\n",
       "      <td>165</td>\n",
       "      <td>167</td>\n",
       "      <td>167</td>\n",
       "    </tr>\n",
       "    <tr>\n",
       "      <th>Bagging Classifier</th>\n",
       "      <td>165</td>\n",
       "      <td>171</td>\n",
       "      <td>178</td>\n",
       "      <td>182</td>\n",
       "      <td>163</td>\n",
       "    </tr>\n",
       "    <tr>\n",
       "      <th>Extra Trees Classifier</th>\n",
       "      <td>144</td>\n",
       "      <td>156</td>\n",
       "      <td>160</td>\n",
       "      <td>168</td>\n",
       "      <td>173</td>\n",
       "    </tr>\n",
       "    <tr>\n",
       "      <th>Random Forests</th>\n",
       "      <td>149</td>\n",
       "      <td>150</td>\n",
       "      <td>164</td>\n",
       "      <td>173</td>\n",
       "      <td>178</td>\n",
       "    </tr>\n",
       "    <tr>\n",
       "      <th>Gradient Boosting</th>\n",
       "      <td>158</td>\n",
       "      <td>164</td>\n",
       "      <td>171</td>\n",
       "      <td>171</td>\n",
       "      <td>166</td>\n",
       "    </tr>\n",
       "  </tbody>\n",
       "</table>\n",
       "</div>"
      ],
      "text/plain": [
       "                        Thresh_50  Thresh_55  Thresh_60  Thresh_65  Thresh_70\n",
       "Logistic Regression           149        154        169        164        164\n",
       "K-Nearest Neighbors            50         55         49         48         28\n",
       "Naive Bayes                   126        127        125        122        117\n",
       "Decision Tree                 145        155        165        167        167\n",
       "Bagging Classifier            165        171        178        182        163\n",
       "Extra Trees Classifier        144        156        160        168        173\n",
       "Random Forests                149        150        164        173        178\n",
       "Gradient Boosting             158        164        171        171        166"
      ]
     },
     "execution_count": 65,
     "metadata": {},
     "output_type": "execute_result"
    }
   ],
   "source": [
    "profits = []\n",
    "thresholds = [0.50, 0.55, 0.60, 0.65, 0.70]\n",
    "ratio = 2\n",
    "\n",
    "for i in probs2:\n",
    "    for threshold in thresholds:\n",
    "        profit = threshold_results(threshold, i, y2, ratio)\n",
    "        profits.append(profit)\n",
    "\n",
    "thresh50profits, thresh55profits, thresh60profits, thresh65profits, thresh70profits \\\n",
    "= [], [], [], [], []\n",
    "counter = 0\n",
    "for j in range(len(probs)):\n",
    "    if counter != 0: counter += 1\n",
    "    thresh50profits.append(profits[counter])\n",
    "    counter += 1\n",
    "    thresh55profits.append(profits[counter])\n",
    "    counter += 1    \n",
    "    thresh60profits.append(profits[counter])\n",
    "    counter += 1        \n",
    "    thresh65profits.append(profits[counter])\n",
    "    counter += 1        \n",
    "    thresh70profits.append(profits[counter])\n",
    "\n",
    "thrsh = pd.DataFrame(zip(thresh50profits, thresh55profits, thresh60profits, \n",
    "                         thresh65profits, thresh70profits), \n",
    "                     index=model_names, \n",
    "                     columns=['Thresh_50', 'Thresh_55', 'Thresh_60','Thresh_65',\n",
    "                              'Thresh_70'])\n",
    "\n",
    "print '\\n\\nUnit Profits across Thresholds - Australian'\n",
    "thrsh"
   ]
  },
  {
   "cell_type": "markdown",
   "metadata": {},
   "source": [
    "##### VIII(c). Best Performing Model by Highest Unit Profit "
   ]
  },
  {
   "cell_type": "code",
   "execution_count": 125,
   "metadata": {
    "collapsed": true
   },
   "outputs": [],
   "source": [
    "# create lists for storing details;  sequence:lowest cost ratios to highest \n",
    "thrs, thrs2 = [], []   # thresholds for best performing models\n",
    "tprs, tprs2 = [], []   # true positive rates for best performing models\n",
    "fprs, fprs2 = [], []   # false positive rates for best performing models\n",
    "mdls, mdls2 = [], []   # best performing model names at thresholds\n",
    "prfs, prfs2 = [], []   # highest profits for best performing models\n",
    "tps, tps2 = [], []     # true positives for best performing models\n",
    "fps, fps2 = [], []     # false positives for best performing models"
   ]
  },
  {
   "cell_type": "code",
   "execution_count": 126,
   "metadata": {
    "collapsed": false
   },
   "outputs": [
    {
     "name": "stdout",
     "output_type": "stream",
     "text": [
      "\n",
      "Details for best scoring model by unit profit at ratio 2 (German)\n",
      "\n",
      "Bagging Classifier at 0.65  unit profit 369 \n",
      "confusion matrix\n",
      "tp 547   fn 153    row total: 700\n",
      "fp 89    tn 211    row total: 300\n",
      "true positive rate 0.78  false positive rate 0.3\n",
      "unit profit 369\n"
     ]
    }
   ],
   "source": [
    "modls = []\n",
    "profits = []\n",
    "ratio = 2\n",
    "\n",
    "for i in range(len(model_names)):\n",
    "    j = 0.60   #  set threshold start range\n",
    "    prob_preds = probs[i]\n",
    "\n",
    "    # check thresholds for all models at 1% increments\n",
    "    while j <= 0.80:   # set threshold end range\n",
    "        modl = str(model_names[i]) + ' at ' + str(round(j,2)) + ' '\n",
    "        modls.append(modl)\n",
    "        profit = threshold_results(j, prob_preds, y1, ratio) \n",
    "        profits.append(profit) \n",
    "        j += 0.01\n",
    "\n",
    "s_indx = [profits.index(x) for x in sorted(profits, reverse=True)]\n",
    "    \n",
    "print '\\nDetails for best scoring model by unit profit at ratio 2 (German)\\n'\n",
    "print modls[s_indx[0]], 'unit profit', profits[s_indx[0]], '\\nconfusion matrix'\n",
    "\n",
    "#view results, then manually enter threshold and probability-predictions values\n",
    "thr = 0.65\n",
    "prob_preds = bag_probs\n",
    "option = 1  # option 1 prints certain metrics\n",
    "tp, fp, tpr, fpr = threshold_results(thr, prob_preds, y1, ratio, option)  \n",
    "\n",
    "thrs.append(thr)\n",
    "tprs.append(tpr)\n",
    "fprs.append(fpr)\n",
    "mdls.append(modls[s_indx[0]])\n",
    "prfs.append(profits[s_indx[0]])  \n",
    "tps.append(tp)\n",
    "fps.append(fp)"
   ]
  },
  {
   "cell_type": "code",
   "execution_count": 127,
   "metadata": {
    "collapsed": false
   },
   "outputs": [
    {
     "name": "stdout",
     "output_type": "stream",
     "text": [
      "\n",
      "Details for best scoring model by unit profit at ratio 2 (Australian)\n",
      "\n",
      "Bagging Classifier at 0.64  unit profit 185 \n",
      "confusion matrix\n",
      "tp 221   fn 86    row total: 307\n",
      "fp 18    tn 365    row total: 383\n",
      "true positive rate 0.72  false positive rate 0.05\n",
      "unit profit 185\n"
     ]
    }
   ],
   "source": [
    "modls = []\n",
    "profits = []\n",
    "ratio = 2\n",
    "\n",
    "for i in range(len(model_names)):\n",
    "    j = 0.60   #  set threshold start range\n",
    "    prob_preds = probs2[i]\n",
    "\n",
    "    # check thresholds for all models at 1% increments\n",
    "    while j <= 0.80:   # set threshold end range\n",
    "        modl = str(model_names[i]) + ' at ' + str(round(j,2)) + ' '\n",
    "        modls.append(modl)\n",
    "        profit = threshold_results(j, prob_preds, y2, ratio) \n",
    "        profits.append(profit) \n",
    "        j += 0.01\n",
    "\n",
    "s_indx = [profits.index(x) for x in sorted(profits, reverse=True)]\n",
    "    \n",
    "print '\\nDetails for best scoring model by unit profit at ratio 2 (Australian)\\n'\n",
    "print modls[s_indx[0]], 'unit profit', profits[s_indx[0]], '\\nconfusion matrix'\n",
    "\n",
    "#view results, then manually enter threshold and probability-predictions values\n",
    "thr = 0.64\n",
    "prob_preds = bag_probs2\n",
    "option = 1   # option 1 prints certain metrics\n",
    "tp, fp, tpr, fpr = threshold_results(thr, prob_preds, y2, ratio, option) \n",
    "\n",
    "thrs2.append(thr)\n",
    "tprs2.append(tpr)\n",
    "fprs2.append(fpr)\n",
    "mdls2.append(modls[s_indx[0]])\n",
    "prfs2.append(profits[s_indx[0]])  \n",
    "tps2.append(tp)\n",
    "fps2.append(fp)"
   ]
  },
  {
   "cell_type": "markdown",
   "metadata": {},
   "source": [
    "### IX. Feature Importance & Model Descriptions"
   ]
  },
  {
   "cell_type": "markdown",
   "metadata": {},
   "source": [
    "##### IV(a). Feature Importance"
   ]
  },
  {
   "cell_type": "code",
   "execution_count": 69,
   "metadata": {
    "collapsed": false
   },
   "outputs": [
    {
     "name": "stdout",
     "output_type": "stream",
     "text": [
      "\n",
      "Feature Importance - German\n"
     ]
    },
    {
     "data": {
      "image/png": "[encoded data removed]",
      "text/plain": [
       "<matplotlib.figure.Figure at 0x11b875f50>"
      ]
     },
     "metadata": {},
     "output_type": "display_data"
    }
   ],
   "source": [
    "gb.fit(german, y1)\n",
    "rf.fit(german, y1)\n",
    "et.fit(german, y1)\n",
    "importances = pd.DataFrame(zip(gb.feature_importances_, \n",
    "                               rf.feature_importances_,\n",
    "                               et.feature_importances_),\n",
    "                           index=german.columns, \n",
    "                           columns=['randomforests_importance',\n",
    "                                    'gradientboosting_importance', \n",
    "                                    'extratrees_importance']).\\\n",
    "sort_values('gradientboosting_importance', ascending=False)\n",
    "importances.plot(kind='bar')\n",
    "print '\\nFeature Importance - German'"
   ]
  },
  {
   "cell_type": "code",
   "execution_count": 70,
   "metadata": {
    "collapsed": false
   },
   "outputs": [
    {
     "name": "stdout",
     "output_type": "stream",
     "text": [
      "importances - German\n"
     ]
    },
    {
     "data": {
      "text/html": [
       "<div>\n",
       "<table border=\"1\" class=\"dataframe\">\n",
       "  <thead>\n",
       "    <tr style=\"text-align: right;\">\n",
       "      <th></th>\n",
       "      <th>randomforests_importance</th>\n",
       "      <th>gradientboosting_importance</th>\n",
       "      <th>extratrees_importance</th>\n",
       "    </tr>\n",
       "  </thead>\n",
       "  <tbody>\n",
       "    <tr>\n",
       "      <th>Account_Balance</th>\n",
       "      <td>0.112337</td>\n",
       "      <td>0.204021</td>\n",
       "      <td>0.225685</td>\n",
       "    </tr>\n",
       "    <tr>\n",
       "      <th>Credit_Amount</th>\n",
       "      <td>0.271935</td>\n",
       "      <td>0.184759</td>\n",
       "      <td>0.112566</td>\n",
       "    </tr>\n",
       "    <tr>\n",
       "      <th>Duration_of_Credit_month</th>\n",
       "      <td>0.179699</td>\n",
       "      <td>0.159113</td>\n",
       "      <td>0.127119</td>\n",
       "    </tr>\n",
       "    <tr>\n",
       "      <th>Payment_Status_of_Previous_Credit</th>\n",
       "      <td>0.074888</td>\n",
       "      <td>0.096721</td>\n",
       "      <td>0.112808</td>\n",
       "    </tr>\n",
       "    <tr>\n",
       "      <th>Value_Savings_Stocks</th>\n",
       "      <td>0.060631</td>\n",
       "      <td>0.087479</td>\n",
       "      <td>0.092935</td>\n",
       "    </tr>\n",
       "    <tr>\n",
       "      <th>Length_of_current_employment</th>\n",
       "      <td>0.056671</td>\n",
       "      <td>0.068583</td>\n",
       "      <td>0.079380</td>\n",
       "    </tr>\n",
       "    <tr>\n",
       "      <th>Most_valuable_available_asset</th>\n",
       "      <td>0.068702</td>\n",
       "      <td>0.063353</td>\n",
       "      <td>0.074111</td>\n",
       "    </tr>\n",
       "    <tr>\n",
       "      <th>Purpose</th>\n",
       "      <td>0.084097</td>\n",
       "      <td>0.062223</td>\n",
       "      <td>0.072165</td>\n",
       "    </tr>\n",
       "    <tr>\n",
       "      <th>Type_of_apartment</th>\n",
       "      <td>0.062650</td>\n",
       "      <td>0.044263</td>\n",
       "      <td>0.061955</td>\n",
       "    </tr>\n",
       "    <tr>\n",
       "      <th>Concurrent_Credits</th>\n",
       "      <td>0.028389</td>\n",
       "      <td>0.029484</td>\n",
       "      <td>0.041275</td>\n",
       "    </tr>\n",
       "  </tbody>\n",
       "</table>\n",
       "</div>"
      ],
      "text/plain": [
       "                                   randomforests_importance  gradientboosting_importance  extratrees_importance\n",
       "Account_Balance                                    0.112337                     0.204021               0.225685\n",
       "Credit_Amount                                      0.271935                     0.184759               0.112566\n",
       "Duration_of_Credit_month                           0.179699                     0.159113               0.127119\n",
       "Payment_Status_of_Previous_Credit                  0.074888                     0.096721               0.112808\n",
       "Value_Savings_Stocks                               0.060631                     0.087479               0.092935\n",
       "Length_of_current_employment                       0.056671                     0.068583               0.079380\n",
       "Most_valuable_available_asset                      0.068702                     0.063353               0.074111\n",
       "Purpose                                            0.084097                     0.062223               0.072165\n",
       "Type_of_apartment                                  0.062650                     0.044263               0.061955\n",
       "Concurrent_Credits                                 0.028389                     0.029484               0.041275"
      ]
     },
     "execution_count": 70,
     "metadata": {},
     "output_type": "execute_result"
    }
   ],
   "source": [
    "print 'importances - German'\n",
    "importances"
   ]
  },
  {
   "cell_type": "markdown",
   "metadata": {},
   "source": [
    "IX(a). Feature Importance (cont'd)"
   ]
  },
  {
   "cell_type": "code",
   "execution_count": 71,
   "metadata": {
    "collapsed": false
   },
   "outputs": [
    {
     "name": "stdout",
     "output_type": "stream",
     "text": [
      "\n",
      "Feature Importance - Australian\n"
     ]
    },
    {
     "data": {
      "image/png": "[encoded data removed]",
      "text/plain": [
       "<matplotlib.figure.Figure at 0x11d03b090>"
      ]
     },
     "metadata": {},
     "output_type": "display_data"
    }
   ],
   "source": [
    "gb2.fit(australia, y2)\n",
    "rf2.fit(australia, y2)\n",
    "et2.fit(australia, y2)\n",
    "importances = pd.DataFrame(zip(rf2.feature_importances_, \n",
    "                               gb2.feature_importances_,\n",
    "                               et2.feature_importances_),\n",
    "                           index=australia.columns, \n",
    "                           columns=['randomforests_importance', \n",
    "                                    'gradientboosting_importance', \n",
    "                                    'extratrees_importance']).\\\n",
    "sort_values('randomforests_importance', ascending=False)\n",
    "importances.plot(kind='bar')\n",
    "print '\\nFeature Importance - Australian'"
   ]
  },
  {
   "cell_type": "code",
   "execution_count": 72,
   "metadata": {
    "collapsed": false
   },
   "outputs": [
    {
     "name": "stdout",
     "output_type": "stream",
     "text": [
      "importances - Australian\n"
     ]
    },
    {
     "data": {
      "text/html": [
       "<div>\n",
       "<table border=\"1\" class=\"dataframe\">\n",
       "  <thead>\n",
       "    <tr style=\"text-align: right;\">\n",
       "      <th></th>\n",
       "      <th>randomforests_importance</th>\n",
       "      <th>gradientboosting_importance</th>\n",
       "      <th>extratrees_importance</th>\n",
       "    </tr>\n",
       "  </thead>\n",
       "  <tbody>\n",
       "    <tr>\n",
       "      <th>A8</th>\n",
       "      <td>0.572183</td>\n",
       "      <td>0.131483</td>\n",
       "      <td>0.693086</td>\n",
       "    </tr>\n",
       "    <tr>\n",
       "      <th>A10</th>\n",
       "      <td>0.132699</td>\n",
       "      <td>0.086855</td>\n",
       "      <td>0.031008</td>\n",
       "    </tr>\n",
       "    <tr>\n",
       "      <th>A9</th>\n",
       "      <td>0.065700</td>\n",
       "      <td>0.031066</td>\n",
       "      <td>0.152790</td>\n",
       "    </tr>\n",
       "    <tr>\n",
       "      <th>A14</th>\n",
       "      <td>0.060511</td>\n",
       "      <td>0.108492</td>\n",
       "      <td>0.013734</td>\n",
       "    </tr>\n",
       "    <tr>\n",
       "      <th>A5</th>\n",
       "      <td>0.046787</td>\n",
       "      <td>0.097608</td>\n",
       "      <td>0.044901</td>\n",
       "    </tr>\n",
       "    <tr>\n",
       "      <th>A7</th>\n",
       "      <td>0.042970</td>\n",
       "      <td>0.116398</td>\n",
       "      <td>0.012562</td>\n",
       "    </tr>\n",
       "    <tr>\n",
       "      <th>A3</th>\n",
       "      <td>0.041764</td>\n",
       "      <td>0.157180</td>\n",
       "      <td>0.009184</td>\n",
       "    </tr>\n",
       "    <tr>\n",
       "      <th>A2</th>\n",
       "      <td>0.016880</td>\n",
       "      <td>0.120174</td>\n",
       "      <td>0.007497</td>\n",
       "    </tr>\n",
       "    <tr>\n",
       "      <th>A4</th>\n",
       "      <td>0.011665</td>\n",
       "      <td>0.084563</td>\n",
       "      <td>0.020535</td>\n",
       "    </tr>\n",
       "    <tr>\n",
       "      <th>A6</th>\n",
       "      <td>0.008843</td>\n",
       "      <td>0.066181</td>\n",
       "      <td>0.014703</td>\n",
       "    </tr>\n",
       "  </tbody>\n",
       "</table>\n",
       "</div>"
      ],
      "text/plain": [
       "     randomforests_importance  gradientboosting_importance  extratrees_importance\n",
       "A8                   0.572183                     0.131483               0.693086\n",
       "A10                  0.132699                     0.086855               0.031008\n",
       "A9                   0.065700                     0.031066               0.152790\n",
       "A14                  0.060511                     0.108492               0.013734\n",
       "A5                   0.046787                     0.097608               0.044901\n",
       "A7                   0.042970                     0.116398               0.012562\n",
       "A3                   0.041764                     0.157180               0.009184\n",
       "A2                   0.016880                     0.120174               0.007497\n",
       "A4                   0.011665                     0.084563               0.020535\n",
       "A6                   0.008843                     0.066181               0.014703"
      ]
     },
     "execution_count": 72,
     "metadata": {},
     "output_type": "execute_result"
    }
   ],
   "source": [
    "print 'importances - Australian'\n",
    "importances"
   ]
  },
  {
   "cell_type": "markdown",
   "metadata": {},
   "source": [
    "##### IX(c). Description of Learning Algorithms"
   ]
  },
  {
   "cell_type": "markdown",
   "metadata": {},
   "source": [
    "LogisticRegression measures the relationship between the categorical dependent variable and one or more independent variables by estimating probabilities using a sigmoid curve. \n",
    "\n",
    "KNeighborsClassifier is a non-parametric method where input consists of the k closest training examples in the feature space. \n",
    "\n",
    "NaiveBayes (GaussianNB) is a probabilistic classifier based on the assumption of independence between the features.\n",
    "\n",
    "DecisionTree Classifier is a non-parametric supervised learning method that predicts the value of a target variable by learning simple decision rules inferred from the data features.\n",
    "\n",
    "Bagging Classifier is a method that involves building multiple models from different subsamples of the training dataset, and the final prediction is averaged across the predictions of all of the sub-models.\n",
    "\n",
    "RandomForests Classifier is an extension of bagged decision trees, but rather than choosing the best split point in the construction of the tree, only a random subset of features are considered for each split.\n",
    "\n",
    "ExtraTrees Classifier is simliar to RandomForests, except splits are chosen at random.\n",
    "\n",
    "GradientBoosting Classifier creates a sequence of models that attempt to correct the errors of the prior models based on the negative gradient.  Once created, the models make predictions weighted by their demonstrated accuracy and the results are combined to create a final output prediction."
   ]
  },
  {
   "cell_type": "markdown",
   "metadata": {},
   "source": [
    "### X. Best Performing Models using other Cost-Profit Ratios"
   ]
  },
  {
   "cell_type": "markdown",
   "metadata": {},
   "source": [
    "##### X(a). Cost-Profit Ratios of 3-to-1, and 4-to-1 (German) "
   ]
  },
  {
   "cell_type": "code",
   "execution_count": 128,
   "metadata": {
    "collapsed": false
   },
   "outputs": [
    {
     "name": "stdout",
     "output_type": "stream",
     "text": [
      "\n",
      "Details for best scoring model by unit profit at ratio 3 (German)\n",
      "\n",
      "Bagging Classifier at 0.68  unit profit 289 \n",
      "confusion matrix\n",
      "tp 505   fn 195    row total: 700\n",
      "fp 72    tn 228    row total: 300\n",
      "true positive rate 0.72  false positive rate 0.24\n",
      "unit profit 289\n"
     ]
    }
   ],
   "source": [
    "modls = []\n",
    "profits = []\n",
    "ratio = 3\n",
    "\n",
    "for i in range(len(model_names)):\n",
    "    j = 0.60   #  set threshold start range\n",
    "    prob_preds = probs[i]\n",
    "\n",
    "    # check thresholds for all models at 1% increments\n",
    "    while j <= 0.90:   # set threshold end range\n",
    "        modl = str(model_names[i]) + ' at ' + str(round(j,2)) + ' '\n",
    "        modls.append(modl)\n",
    "        profit = threshold_results(j, prob_preds, y1, ratio) \n",
    "        profits.append(profit) \n",
    "        j += 0.01\n",
    "\n",
    "s_indx = [profits.index(x) for x in sorted(profits, reverse=True)]\n",
    "    \n",
    "print '\\nDetails for best scoring model by unit profit at ratio 3 (German)\\n'\n",
    "print modls[s_indx[0]], 'unit profit', profits[s_indx[0]], '\\nconfusion matrix'\n",
    "\n",
    "#view results, then manually enter threshold and probability-predictions values\n",
    "thr = 0.68\n",
    "prob_preds = bag_probs\n",
    "tp, fp, tpr, fpr = threshold_results(thr, prob_preds, y1, ratio, 1)  \n",
    "\n",
    "thrs.append(thr)\n",
    "tprs.append(tpr)\n",
    "fprs.append(fpr)\n",
    "mdls.append(modls[s_indx[0]])\n",
    "prfs.append(profits[s_indx[0]])  \n",
    "tps.append(tp)\n",
    "fps.append(fp)"
   ]
  },
  {
   "cell_type": "code",
   "execution_count": 129,
   "metadata": {
    "collapsed": false
   },
   "outputs": [
    {
     "name": "stdout",
     "output_type": "stream",
     "text": [
      "\n",
      "Details for best scoring model by unit profit at ratio 4 (German)\n",
      "\n",
      "Bagging Classifier at 0.69  unit profit 220 \n",
      "confusion matrix\n",
      "tp 492   fn 208    row total: 700\n",
      "fp 68    tn 232    row total: 300\n",
      "true positive rate 0.7  false positive rate 0.23\n",
      "unit profit 220\n"
     ]
    }
   ],
   "source": [
    "modls = []\n",
    "profits = []\n",
    "ratio = 4\n",
    "\n",
    "for i in range(len(model_names)):\n",
    "    j = 0.60   #  set threshold start range\n",
    "    prob_preds = probs[i]\n",
    "\n",
    "    # check thresholds for all models at 1% increments\n",
    "    while j <= 0.90:   # set threshold end range\n",
    "        modl = str(model_names[i]) + ' at ' + str(round(j,2)) + ' '\n",
    "        modls.append(modl)\n",
    "        profit = threshold_results(j, prob_preds, y1, ratio) \n",
    "        profits.append(profit) \n",
    "        j += 0.01\n",
    "\n",
    "s_indx = [profits.index(x) for x in sorted(profits, reverse=True)]\n",
    "    \n",
    "print '\\nDetails for best scoring model by unit profit at ratio 4 (German)\\n'\n",
    "print modls[s_indx[0]], 'unit profit', profits[s_indx[0]], '\\nconfusion matrix'\n",
    "\n",
    "#view results, then manually enter threshold and probability-predictions values\n",
    "thr = 0.69\n",
    "prob_preds = bag_probs\n",
    "tp, fp, tpr, fpr = threshold_results(thr, prob_preds, y1, ratio, 1)  \n",
    "\n",
    "thrs.append(thr)\n",
    "tprs.append(tpr)\n",
    "fprs.append(fpr)\n",
    "mdls.append(modls[s_indx[0]])\n",
    "prfs.append(profits[s_indx[0]])  \n",
    "tps.append(tp)\n",
    "fps.append(fp)"
   ]
  },
  {
   "cell_type": "code",
   "execution_count": null,
   "metadata": {
    "collapsed": true
   },
   "outputs": [],
   "source": []
  },
  {
   "cell_type": "code",
   "execution_count": 130,
   "metadata": {
    "collapsed": false
   },
   "outputs": [
    {
     "name": "stdout",
     "output_type": "stream",
     "text": [
      "\n",
      "Details for best scoring model by unit profit at ratio 5 (Australian)\n",
      "\n",
      "Bagging Classifier at 0.68  unit profit 132 \n",
      "confusion matrix\n",
      "tp 197   fn 110    row total: 307\n",
      "fp 13    tn 370    row total: 383\n",
      "true positive rate 0.64  false positive rate 0.03\n",
      "unit profit 132\n"
     ]
    }
   ],
   "source": [
    "modls = []\n",
    "profits = []\n",
    "ratio = 5\n",
    "\n",
    "for i in range(len(model_names)):\n",
    "    j = 0.60   #  set threshold start range\n",
    "    prob_preds = probs2[i]\n",
    "\n",
    "    # check thresholds for all models at 1% increments\n",
    "    while j <= 0.80:   # set threshold end range\n",
    "        modl = str(model_names[i]) + ' at ' + str(round(j,2)) + ' '\n",
    "        modls.append(modl)\n",
    "        profit = threshold_results(j, prob_preds, y2, ratio) \n",
    "        profits.append(profit) \n",
    "        j += 0.01\n",
    "\n",
    "s_indx = [profits.index(x) for x in sorted(profits, reverse=True)]\n",
    "    \n",
    "print '\\nDetails for best scoring model by unit profit at ratio 5 (Australian)\\n'\n",
    "print modls[s_indx[0]], 'unit profit', profits[s_indx[0]], '\\nconfusion matrix'\n",
    "\n",
    "#view results, then manually enter threshold and probability-predictions values\n",
    "thr = 0.68\n",
    "prob_preds = bag_probs2\n",
    "tp, fp, tpr, fpr = threshold_results(thr, prob_preds, y2, ratio, 1) \n",
    "\n",
    "thrs2.append(thr)\n",
    "tprs2.append(tpr)\n",
    "fprs2.append(fpr)\n",
    "mdls2.append(modls[s_indx[0]])\n",
    "prfs2.append(profits[s_indx[0]])  \n",
    "tps2.append(tp)\n",
    "fps2.append(fp)"
   ]
  },
  {
   "cell_type": "code",
   "execution_count": 131,
   "metadata": {
    "collapsed": false
   },
   "outputs": [
    {
     "name": "stdout",
     "output_type": "stream",
     "text": [
      "\n",
      "Details for best scoring model by unit profit at ratio 6 (Australian)\n",
      "\n",
      "Bagging Classifier at 0.75  unit profit 122 \n",
      "confusion matrix\n",
      "tp 170   fn 137    row total: 307\n",
      "fp 8    tn 375    row total: 383\n",
      "true positive rate 0.55  false positive rate 0.02\n",
      "unit profit 122\n"
     ]
    }
   ],
   "source": [
    "modls = []\n",
    "profits = []\n",
    "ratio = 6\n",
    "\n",
    "for i in range(len(model_names)):\n",
    "    j = 0.50   #  set threshold start range\n",
    "    prob_preds = probs2[i]\n",
    "\n",
    "    # check thresholds for all models at 1% increments\n",
    "    while j <= 0.80:   # set threshold end range\n",
    "        modl = str(model_names[i]) + ' at ' + str(round(j,2)) + ' '\n",
    "        modls.append(modl)\n",
    "        profit = threshold_results(j, prob_preds, y2, ratio) \n",
    "        profits.append(profit) \n",
    "        j += 0.01\n",
    "\n",
    "s_indx = [profits.index(x) for x in sorted(profits, reverse=True)]\n",
    "    \n",
    "print '\\nDetails for best scoring model by unit profit at ratio 6 (Australian)\\n'\n",
    "print modls[s_indx[0]], 'unit profit', profits[s_indx[0]], '\\nconfusion matrix'\n",
    "\n",
    "#view results, then manually enter threshold and probability-predictions values\n",
    "thr = 0.75\n",
    "prob_preds = bag_probs2\n",
    "tp, fp, tpr, fpr = threshold_results(thr, prob_preds, y2, ratio, 1) \n",
    "\n",
    "thrs2.append(thr)\n",
    "tprs2.append(tpr)\n",
    "fprs2.append(fpr)\n",
    "mdls2.append(modls[s_indx[0]])\n",
    "prfs2.append(profits[s_indx[0]])  \n",
    "tps2.append(tp)\n",
    "fps2.append(fp)"
   ]
  },
  {
   "cell_type": "code",
   "execution_count": 132,
   "metadata": {
    "collapsed": false
   },
   "outputs": [
    {
     "name": "stdout",
     "output_type": "stream",
     "text": [
      "\n",
      "\n",
      "              AUC ROC curve: 0.792271\n"
     ]
    },
    {
     "data": {
      "image/png": "[encoded data removed]",
      "text/plain": [
       "<matplotlib.figure.Figure at 0x11dd900d0>"
      ]
     },
     "metadata": {},
     "output_type": "display_data"
    },
    {
     "data": {
      "text/html": [
       "<div>\n",
       "<table border=\"1\" class=\"dataframe\">\n",
       "  <thead>\n",
       "    <tr style=\"text-align: right;\">\n",
       "      <th></th>\n",
       "      <th>TPR</th>\n",
       "      <th>FPR</th>\n",
       "      <th>Model</th>\n",
       "      <th>Threshold</th>\n",
       "      <th>Unit_Profit</th>\n",
       "      <th>TP</th>\n",
       "      <th>FP</th>\n",
       "    </tr>\n",
       "  </thead>\n",
       "  <tbody>\n",
       "    <tr>\n",
       "      <th>cost-profit ratio 2-to-1</th>\n",
       "      <td>0.78</td>\n",
       "      <td>0.30</td>\n",
       "      <td>Bagging Classifier at 0.65</td>\n",
       "      <td>0.65</td>\n",
       "      <td>369</td>\n",
       "      <td>547</td>\n",
       "      <td>89</td>\n",
       "    </tr>\n",
       "    <tr>\n",
       "      <th>cost-profit ratio 3-to-1</th>\n",
       "      <td>0.72</td>\n",
       "      <td>0.24</td>\n",
       "      <td>Bagging Classifier at 0.68</td>\n",
       "      <td>0.68</td>\n",
       "      <td>289</td>\n",
       "      <td>505</td>\n",
       "      <td>72</td>\n",
       "    </tr>\n",
       "    <tr>\n",
       "      <th>cost-profit ratio 4-to-1</th>\n",
       "      <td>0.70</td>\n",
       "      <td>0.23</td>\n",
       "      <td>Bagging Classifier at 0.69</td>\n",
       "      <td>0.69</td>\n",
       "      <td>220</td>\n",
       "      <td>492</td>\n",
       "      <td>68</td>\n",
       "    </tr>\n",
       "  </tbody>\n",
       "</table>\n",
       "</div>"
      ],
      "text/plain": [
       "                           TPR   FPR                        Model  Threshold  Unit_Profit   TP  FP\n",
       "cost-profit ratio 2-to-1  0.78  0.30  Bagging Classifier at 0.65        0.65          369  547  89\n",
       "cost-profit ratio 3-to-1  0.72  0.24  Bagging Classifier at 0.68        0.68          289  505  72\n",
       "cost-profit ratio 4-to-1  0.70  0.23  Bagging Classifier at 0.69        0.69          220  492  68"
      ]
     },
     "execution_count": 132,
     "metadata": {},
     "output_type": "execute_result"
    }
   ],
   "source": [
    "#generate ROC curve\n",
    "from sklearn.metrics import auc\n",
    "fpr, tpr, thresholds = roc_curve(y1, bag_probs)  \n",
    "roc_auc = auc(fpr, tpr)\n",
    "print '\\n\\n              AUC ROC curve: %f' % roc_auc\n",
    "pylab.clf()\n",
    "pylab.plot(fpr, tpr, label='ROC curve (area = %0.2f)' % roc_auc)\n",
    "pylab.plot(fprs[0], tprs[0], 'bo', label='max-profit at cost-profit ratio 2-to-1')\n",
    "pylab.plot(fprs[1], tprs[1], 'ko', label='max-profit at cost-profit ratio 3-to-1')\n",
    "pylab.plot(fprs[2], tprs[2], 'ro', label='max-profit at cost-profit ratio 4-to-1')\n",
    "pylab.plot([0, 1], [0, 1], 'k--')\n",
    "pylab.xlim([0.0, 1.0])\n",
    "pylab.ylim([0.0, 1.0])\n",
    "pylab.xlabel('False Positive Rate')\n",
    "pylab.ylabel('True Positive Rate')\n",
    "pylab.title('Bagging Classifier(German)')\n",
    "pylab.legend(loc=\"lower right\")\n",
    "pylab.show()\n",
    "\n",
    "indx = ['cost-profit ratio 2-to-1', 'cost-profit ratio 3-to-1', 'cost-profit ratio 4-to-1']\n",
    "df1 = pd.DataFrame(zip(tprs, fprs, mdls, thrs, prfs, tps, fps), index=indx, \n",
    "                   columns=['TPR', 'FPR', 'Model', 'Threshold', 'Unit_Profit', 'TP', 'FP'])\n",
    "df1"
   ]
  },
  {
   "cell_type": "code",
   "execution_count": 133,
   "metadata": {
    "collapsed": false
   },
   "outputs": [
    {
     "name": "stdout",
     "output_type": "stream",
     "text": [
      "\n",
      "              AUC ROC curve: 0.932736\n"
     ]
    },
    {
     "data": {
      "image/png": "[encoded data removed]",
      "text/plain": [
       "<matplotlib.figure.Figure at 0x11d9d8bd0>"
      ]
     },
     "metadata": {},
     "output_type": "display_data"
    },
    {
     "data": {
      "text/html": [
       "<div>\n",
       "<table border=\"1\" class=\"dataframe\">\n",
       "  <thead>\n",
       "    <tr style=\"text-align: right;\">\n",
       "      <th></th>\n",
       "      <th>TPR</th>\n",
       "      <th>FPR</th>\n",
       "      <th>Model</th>\n",
       "      <th>Threshold</th>\n",
       "      <th>Unit_Profit</th>\n",
       "      <th>TP</th>\n",
       "      <th>FP</th>\n",
       "    </tr>\n",
       "  </thead>\n",
       "  <tbody>\n",
       "    <tr>\n",
       "      <th>cost-profit ratio 2-to-1</th>\n",
       "      <td>0.72</td>\n",
       "      <td>0.05</td>\n",
       "      <td>Bagging Classifier at 0.64</td>\n",
       "      <td>0.64</td>\n",
       "      <td>185</td>\n",
       "      <td>221</td>\n",
       "      <td>18</td>\n",
       "    </tr>\n",
       "    <tr>\n",
       "      <th>cost-profit ratio 5-to-1</th>\n",
       "      <td>0.64</td>\n",
       "      <td>0.03</td>\n",
       "      <td>Bagging Classifier at 0.68</td>\n",
       "      <td>0.68</td>\n",
       "      <td>132</td>\n",
       "      <td>197</td>\n",
       "      <td>13</td>\n",
       "    </tr>\n",
       "    <tr>\n",
       "      <th>cost-profit ratio 6-to-1</th>\n",
       "      <td>0.55</td>\n",
       "      <td>0.02</td>\n",
       "      <td>Bagging Classifier at 0.75</td>\n",
       "      <td>0.75</td>\n",
       "      <td>122</td>\n",
       "      <td>170</td>\n",
       "      <td>8</td>\n",
       "    </tr>\n",
       "  </tbody>\n",
       "</table>\n",
       "</div>"
      ],
      "text/plain": [
       "                           TPR   FPR                        Model  Threshold  Unit_Profit   TP  FP\n",
       "cost-profit ratio 2-to-1  0.72  0.05  Bagging Classifier at 0.64        0.64          185  221  18\n",
       "cost-profit ratio 5-to-1  0.64  0.03  Bagging Classifier at 0.68        0.68          132  197  13\n",
       "cost-profit ratio 6-to-1  0.55  0.02  Bagging Classifier at 0.75        0.75          122  170   8"
      ]
     },
     "execution_count": 133,
     "metadata": {},
     "output_type": "execute_result"
    }
   ],
   "source": [
    "#generate ROC curve\n",
    "fpr, tpr, thresholds = roc_curve(y2, bag_probs2)  \n",
    "roc_auc = auc(fpr, tpr)\n",
    "print '\\n              AUC ROC curve: %f' % roc_auc\n",
    "pylab.clf()\n",
    "pylab.plot(fpr, tpr, label='ROC curve (area = %0.2f)' % roc_auc)\n",
    "pylab.plot(fprs2[0], tprs2[0], 'ko', label='max-profit at cost-profit ratio 2-to-1')\n",
    "pylab.plot(fprs2[1], tprs2[1], 'ro', label='max-profit at cost-profit ratio 5-to-1')\n",
    "pylab.plot(fprs2[2], tprs2[2], 'bo', label='max-profit at cost-profit ratio 6-to-1')\n",
    "pylab.plot([0, 1], [0, 1], 'k--')\n",
    "pylab.xlim([0.0, 1.0])\n",
    "pylab.ylim([0.0, 1.0])\n",
    "pylab.xlabel('False Positive Rate')\n",
    "pylab.ylabel('True Positive Rate')\n",
    "pylab.title('Bagging Classifier(Australian)')\n",
    "pylab.legend(loc=\"lower right\")\n",
    "pylab.show()\n",
    "\n",
    "indx = ['cost-profit ratio 2-to-1', 'cost-profit ratio 5-to-1', 'cost-profit ratio 6-to-1']\n",
    "df2 = pd.DataFrame(zip(tprs2, fprs2, mdls2, thrs2, prfs2, tps2, fps2), index=indx, \n",
    "                   columns=['TPR', 'FPR', 'Model', 'Threshold', 'Unit_Profit', 'TP', 'FP'])\n",
    "df2"
   ]
  },
  {
   "cell_type": "markdown",
   "metadata": {},
   "source": [
    "##### IV(c). Closing"
   ]
  },
  {
   "cell_type": "code",
   "execution_count": null,
   "metadata": {
    "collapsed": true
   },
   "outputs": [],
   "source": [
    "Note, when the cost-profit ratio increases from 4 to _, the TPR/FPR may increase or remain the same. "
   ]
  }
 ],
 "metadata": {
  "kernelspec": {
   "display_name": "Python 2",
   "language": "python",
   "name": "python2"
  },
  "language_info": {
   "codemirror_mode": {
    "name": "ipython",
    "version": 2
   },
   "file_extension": ".py",
   "mimetype": "text/x-python",
   "name": "python",
   "nbconvert_exporter": "python",
   "pygments_lexer": "ipython2",
   "version": "2.7.12"
  }
 },
 "nbformat": 4,
 "nbformat_minor": 0
}
