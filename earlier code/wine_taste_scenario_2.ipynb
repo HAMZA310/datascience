{
 "cells": [
  {
   "cell_type": "markdown",
   "metadata": {},
   "source": [
    "# Predicting Wine Taste Quality"
   ]
  },
  {
   "cell_type": "markdown",
   "metadata": {},
   "source": [
    "# Scenario 2: No Outliers Removed"
   ]
  },
  {
   "cell_type": "markdown",
   "metadata": {},
   "source": [
    "### This is a supplemental notebook for alternate code results, and is not a complete version of the project.  For the complete version, see Wine_Taste_Quality.ipynb"
   ]
  },
  {
   "cell_type": "markdown",
   "metadata": {},
   "source": [
    "Importing Modules"
   ]
  },
  {
   "cell_type": "code",
   "execution_count": 1,
   "metadata": {
    "collapsed": true
   },
   "outputs": [],
   "source": [
    "from __future__ import division\n",
    "import pandas as pd\n",
    "import numpy as np\n",
    "import matplotlib.pyplot as plt\n",
    "from pylab import *\n",
    "from sklearn.cross_validation import cross_val_predict\n",
    "from sklearn.preprocessing import StandardScaler\n",
    "from sklearn.linear_model import LinearRegression\n",
    "from sklearn.linear_model import Lasso\n",
    "from sklearn.linear_model import SGDRegressor\n",
    "from sklearn.linear_model import Ridge\n",
    "from sklearn.linear_model import ElasticNet\n",
    "from sklearn.grid_search import GridSearchCV\n",
    "import statsmodels.api as sm\n",
    "from functools import partial\n",
    "%matplotlib inline"
   ]
  },
  {
   "cell_type": "markdown",
   "metadata": {},
   "source": [
    "Functions"
   ]
  },
  {
   "cell_type": "code",
   "execution_count": 2,
   "metadata": {
    "collapsed": true
   },
   "outputs": [],
   "source": [
    "def predict(x_i, beta):\n",
    "    return np.dot(x_i, beta)\n",
    "\n",
    "def regr_error(x_i, y_i, beta):\n",
    "    return y_i - predict(x_i, beta)\n",
    "\n",
    "def calc_pred_vals(list_of_rows, list_of_betas, intercept=0):\n",
    "    pred_vals = []\n",
    "    for i in range(len(list_of_rows)):\n",
    "        pred_val = intercept + predict(list_of_rows[i], list_of_betas)\n",
    "        pred_vals.append(pred_val)\n",
    "    return pred_vals\n",
    "\n",
    "# rmse calculation\n",
    "def calc_rmse(preds, target):\n",
    "    errors, squared_error = [], []\n",
    "    for i in range(len(target)):\n",
    "        errors.append(target[i] - preds[i])\n",
    "    for error in errors:\n",
    "        squared_error.append(error**2)\n",
    "    mse = sum(squared_error)/len(squared_error)\n",
    "    rmse = np.sqrt(mse)\n",
    "    return rmse\n",
    "\n",
    "# convert continous values to discrete\n",
    "def round_prediction(predicted_values):\n",
    "    preds = []\n",
    "    for i in range(len(predicted_values)):\n",
    "        pred_val = predicted_values[i]\n",
    "        if pred_val < 0.5: preds.append(0)\n",
    "        elif pred_val >= 0.5 and pred_val < 1.5: preds.append(1)\n",
    "        elif pred_val >= 1.5 and pred_val < 2.5: preds.append(2)\n",
    "        elif pred_val >= 2.5 and pred_val < 3.5: preds.append(3)\n",
    "        elif pred_val >= 3.5 and pred_val < 4.5: preds.append(4)\n",
    "        elif pred_val >= 4.5 and pred_val < 5.5: preds.append(5)\n",
    "        elif pred_val >= 5.5 and pred_val < 6.5: preds.append(6)\n",
    "        elif pred_val >= 6.5 and pred_val < 7.5: preds.append(7)\n",
    "        elif pred_val >= 7.5 and pred_val < 8.5: preds.append(8)\n",
    "        elif pred_val >= 8.5 and pred_val < 9.5: preds.append(9)\n",
    "        elif pred_val >= 9.5: preds.append(10)\n",
    "        else: print 'check predicted value'\n",
    "    return preds\n",
    "\n",
    "#return a list of list of confusion matrix entries\n",
    "def confusion_entries(num_rows, preds, targets):\n",
    "    A = [[0 for j in range(num_rows)] for i in range(num_rows)]\n",
    "    #outer loop iterates through each target and prediction \n",
    "    for i in range(len(targets)): \n",
    "        pred, target = preds[i], targets[i]\n",
    "        #inner loop iterates through each cell in the confusion matrix\n",
    "        for j in range(num_rows): \n",
    "            for k in range(num_rows):\n",
    "                #there will be one match in each inner iteration\n",
    "                if target==j and pred==k: \n",
    "                    #increment value in cell when match is found\n",
    "                    A[j][k] += 1  \n",
    "    return A\n",
    "\n",
    "# create dataframe for model coefficients\n",
    "def make_df(betas, attributes, ix, intercept=0):\n",
    "    new_beta_list, new_columns = [], []\n",
    "    new_columns.append('intercept')\n",
    "    new_beta_list.append(round(intercept, 5))\n",
    "    for i in range(len(betas)):\n",
    "        new_columns.append(attributes[i])\n",
    "        beta = betas[i]\n",
    "        new_beta_list.append(round(beta, 5))\n",
    "    new_df = pd.DataFrame(new_beta_list, index=new_columns, columns=ix).T\n",
    "    return new_df\n",
    "\n",
    "# return requested columns of dataset - used in stepwise algorithm\n",
    "def x_features_cols(dataset, features):\n",
    "    x_out = []\n",
    "    for row in dataset:\n",
    "        x_out.append([row[i] for i in features])\n",
    "    return(x_out)\n",
    "\n",
    "# scale a row of features' values given as input for a predicted value\n",
    "# receive 3 lists (row of inputs, original means & stds for each feature)\n",
    "def scale_vals(row, orig_mean, orig_std):\n",
    "    scaled_row = []\n",
    "    for i in range(len(row)):\n",
    "        scaled_value = (row[i] - orig_mean[i]) / orig_std[i]\n",
    "        scaled_row.append(scaled_value)\n",
    "    return scaled_row\n",
    "\n",
    "#used in minimization function\n",
    "def in_random_order(data):    \n",
    "    indexes = [i for i, _ in enumerate(data)]\n",
    "    random.shuffle(indexes)\n",
    "    for i in indexes: \n",
    "        yield data[i]"
   ]
  },
  {
   "cell_type": "markdown",
   "metadata": {},
   "source": [
    "Functions (cont'd)"
   ]
  },
  {
   "cell_type": "code",
   "execution_count": 3,
   "metadata": {
    "collapsed": true
   },
   "outputs": [],
   "source": [
    "def model_details(name, preds, betas, intercept, feat_seq, targets, calc_acc=True):\n",
    "    \n",
    "    model_name = []     \n",
    "    model_name.append(name) # name must be in list format; df col gets transformed to index\n",
    "    modl_name.append(name) # global variable\n",
    "    \n",
    "    # store rms error\n",
    "    rms_error = calc_rmse(preds, targets)\n",
    "    rmse.append(rms_error)\n",
    "    \n",
    "    # store dataframe of model's beta coefficients \n",
    "    df_coeff = make_df(betas, feat_seq, model_name, intercept)\n",
    "    df_beta_coefs.append(df_coeff) \n",
    "    \n",
    "    # calculate accuracy & store confusion matrix, unless labels are scaled\n",
    "    if calc_acc:\n",
    "        actual_ix = ['A0', 'A1', 'A2', 'A3', 'A4', 'A5', 'A6', 'A7', 'A8', 'A9', 'A10']\n",
    "        pred_ix = ['P0', 'P1', 'P2', 'P3', 'P4', 'P5', 'P6', 'P7', 'P8', 'P9', 'P10']\n",
    "        rounded_preds = round_prediction(preds)\n",
    "        con_mat = confusion_entries(len(pred_ix), rounded_preds, targets)\n",
    "        cmat = pd.DataFrame(con_mat, index=actual_ix, columns=pred_ix)\n",
    "        #delete columns with no results, eg, taste quality: 0, 1, 2, 9 & 10 are zero\n",
    "        del cmat['P0']; del cmat['P1']; del cmat['P2']; del cmat['P9']; del cmat['P10']\n",
    "        cmat = cmat.ix[3:] # delete rows 0, 1 & 2\n",
    "        cmat = cmat.ix[:6] # delete last 2 rows\n",
    "        #add column for row total\n",
    "        cmat['Total']=cmat['P3']+cmat['P4']+cmat['P5']+cmat['P6']+cmat['P7']+cmat['P8']\n",
    "        #denominator should equal total number of rows in dataset)\n",
    "        sum_total = cmat['Total'].sum()\n",
    "        # add along diagonal for true positives (numerator) \n",
    "        tp = cmat.iloc[0]['P3']+cmat.iloc[1]['P4']+cmat.iloc[2]['P5']+cmat.iloc[3]['P6'] +\\\n",
    "        cmat.iloc[4]['P7'] + cmat.iloc[5]['P8']\n",
    "        acc = tp / sum_total  # accuracy is true positives divided by the sum total\n",
    "        cmats.append(cmat)\n",
    "        cmat_sum.append(sum_total)\n",
    "        accuracy.append(acc)        \n",
    "    else:\n",
    "        cmats.append('n/a, labels are scaled')\n",
    "        cmat_sum.append('n/a, labels are scaled')\n",
    "        accuracy.append('n/a, labels are scaled')"
   ]
  },
  {
   "cell_type": "markdown",
   "metadata": {},
   "source": [
    "Load Dataset into DataFrame"
   ]
  },
  {
   "cell_type": "code",
   "execution_count": 4,
   "metadata": {
    "collapsed": false
   },
   "outputs": [
    {
     "name": "stdout",
     "output_type": "stream",
     "text": [
      "df.shape (1599, 12)\n"
     ]
    },
    {
     "data": {
      "text/html": [
       "<div>\n",
       "<table border=\"1\" class=\"dataframe\">\n",
       "  <thead>\n",
       "    <tr style=\"text-align: right;\">\n",
       "      <th></th>\n",
       "      <th>fixed acidity</th>\n",
       "      <th>volatile acidity</th>\n",
       "      <th>citric acid</th>\n",
       "      <th>residual sugar</th>\n",
       "      <th>chlorides</th>\n",
       "      <th>free sulfur dioxide</th>\n",
       "      <th>total sulfur dioxide</th>\n",
       "      <th>density</th>\n",
       "      <th>pH</th>\n",
       "      <th>sulphates</th>\n",
       "      <th>alcohol</th>\n",
       "      <th>quality</th>\n",
       "    </tr>\n",
       "  </thead>\n",
       "  <tbody>\n",
       "    <tr>\n",
       "      <th>0</th>\n",
       "      <td>7.4</td>\n",
       "      <td>0.70</td>\n",
       "      <td>0.00</td>\n",
       "      <td>1.9</td>\n",
       "      <td>0.076</td>\n",
       "      <td>11.0</td>\n",
       "      <td>34.0</td>\n",
       "      <td>0.9978</td>\n",
       "      <td>3.51</td>\n",
       "      <td>0.56</td>\n",
       "      <td>9.4</td>\n",
       "      <td>5</td>\n",
       "    </tr>\n",
       "    <tr>\n",
       "      <th>1</th>\n",
       "      <td>7.8</td>\n",
       "      <td>0.88</td>\n",
       "      <td>0.00</td>\n",
       "      <td>2.6</td>\n",
       "      <td>0.098</td>\n",
       "      <td>25.0</td>\n",
       "      <td>67.0</td>\n",
       "      <td>0.9968</td>\n",
       "      <td>3.20</td>\n",
       "      <td>0.68</td>\n",
       "      <td>9.8</td>\n",
       "      <td>5</td>\n",
       "    </tr>\n",
       "    <tr>\n",
       "      <th>2</th>\n",
       "      <td>7.8</td>\n",
       "      <td>0.76</td>\n",
       "      <td>0.04</td>\n",
       "      <td>2.3</td>\n",
       "      <td>0.092</td>\n",
       "      <td>15.0</td>\n",
       "      <td>54.0</td>\n",
       "      <td>0.9970</td>\n",
       "      <td>3.26</td>\n",
       "      <td>0.65</td>\n",
       "      <td>9.8</td>\n",
       "      <td>5</td>\n",
       "    </tr>\n",
       "    <tr>\n",
       "      <th>3</th>\n",
       "      <td>11.2</td>\n",
       "      <td>0.28</td>\n",
       "      <td>0.56</td>\n",
       "      <td>1.9</td>\n",
       "      <td>0.075</td>\n",
       "      <td>17.0</td>\n",
       "      <td>60.0</td>\n",
       "      <td>0.9980</td>\n",
       "      <td>3.16</td>\n",
       "      <td>0.58</td>\n",
       "      <td>9.8</td>\n",
       "      <td>6</td>\n",
       "    </tr>\n",
       "    <tr>\n",
       "      <th>4</th>\n",
       "      <td>7.4</td>\n",
       "      <td>0.70</td>\n",
       "      <td>0.00</td>\n",
       "      <td>1.9</td>\n",
       "      <td>0.076</td>\n",
       "      <td>11.0</td>\n",
       "      <td>34.0</td>\n",
       "      <td>0.9978</td>\n",
       "      <td>3.51</td>\n",
       "      <td>0.56</td>\n",
       "      <td>9.4</td>\n",
       "      <td>5</td>\n",
       "    </tr>\n",
       "  </tbody>\n",
       "</table>\n",
       "</div>"
      ],
      "text/plain": [
       "   fixed acidity  volatile acidity  citric acid  residual sugar  chlorides  \\\n",
       "0            7.4              0.70         0.00             1.9      0.076   \n",
       "1            7.8              0.88         0.00             2.6      0.098   \n",
       "2            7.8              0.76         0.04             2.3      0.092   \n",
       "3           11.2              0.28         0.56             1.9      0.075   \n",
       "4            7.4              0.70         0.00             1.9      0.076   \n",
       "\n",
       "   free sulfur dioxide  total sulfur dioxide  density    pH  sulphates  \\\n",
       "0                 11.0                  34.0   0.9978  3.51       0.56   \n",
       "1                 25.0                  67.0   0.9968  3.20       0.68   \n",
       "2                 15.0                  54.0   0.9970  3.26       0.65   \n",
       "3                 17.0                  60.0   0.9980  3.16       0.58   \n",
       "4                 11.0                  34.0   0.9978  3.51       0.56   \n",
       "\n",
       "   alcohol  quality  \n",
       "0      9.4        5  \n",
       "1      9.8        5  \n",
       "2      9.8        5  \n",
       "3      9.8        6  \n",
       "4      9.4        5  "
      ]
     },
     "execution_count": 4,
     "metadata": {},
     "output_type": "execute_result"
    }
   ],
   "source": [
    "target_url = (\"http://archive.ics.uci.edu/ml/machine-learning-databases/wine-quality/winequality-red.csv\")\n",
    "df = pd.read_csv(target_url, header=0, sep=\";\")\n",
    "print 'df.shape', df.shape\n",
    "df.head()"
   ]
  },
  {
   "cell_type": "markdown",
   "metadata": {},
   "source": [
    "Rename Columns"
   ]
  },
  {
   "cell_type": "code",
   "execution_count": 5,
   "metadata": {
    "collapsed": false
   },
   "outputs": [
    {
     "data": {
      "text/html": [
       "<div>\n",
       "<table border=\"1\" class=\"dataframe\">\n",
       "  <thead>\n",
       "    <tr style=\"text-align: right;\">\n",
       "      <th></th>\n",
       "      <th>fixed acidity (0)</th>\n",
       "      <th>volatile acidity (1)</th>\n",
       "      <th>citric acid (2)</th>\n",
       "      <th>residual sugar (3)</th>\n",
       "      <th>chlorides (4)</th>\n",
       "      <th>free sulfur dioxide (5)</th>\n",
       "      <th>total sulfur dioxide (6)</th>\n",
       "      <th>density (7)</th>\n",
       "      <th>pH (8)</th>\n",
       "      <th>sulphates (9)</th>\n",
       "      <th>alcohol (10)</th>\n",
       "      <th>target</th>\n",
       "    </tr>\n",
       "  </thead>\n",
       "  <tbody>\n",
       "    <tr>\n",
       "      <th>0</th>\n",
       "      <td>7.4</td>\n",
       "      <td>0.70</td>\n",
       "      <td>0.00</td>\n",
       "      <td>1.9</td>\n",
       "      <td>0.076</td>\n",
       "      <td>11.0</td>\n",
       "      <td>34.0</td>\n",
       "      <td>0.9978</td>\n",
       "      <td>3.51</td>\n",
       "      <td>0.56</td>\n",
       "      <td>9.4</td>\n",
       "      <td>5</td>\n",
       "    </tr>\n",
       "    <tr>\n",
       "      <th>1</th>\n",
       "      <td>7.8</td>\n",
       "      <td>0.88</td>\n",
       "      <td>0.00</td>\n",
       "      <td>2.6</td>\n",
       "      <td>0.098</td>\n",
       "      <td>25.0</td>\n",
       "      <td>67.0</td>\n",
       "      <td>0.9968</td>\n",
       "      <td>3.20</td>\n",
       "      <td>0.68</td>\n",
       "      <td>9.8</td>\n",
       "      <td>5</td>\n",
       "    </tr>\n",
       "    <tr>\n",
       "      <th>2</th>\n",
       "      <td>7.8</td>\n",
       "      <td>0.76</td>\n",
       "      <td>0.04</td>\n",
       "      <td>2.3</td>\n",
       "      <td>0.092</td>\n",
       "      <td>15.0</td>\n",
       "      <td>54.0</td>\n",
       "      <td>0.9970</td>\n",
       "      <td>3.26</td>\n",
       "      <td>0.65</td>\n",
       "      <td>9.8</td>\n",
       "      <td>5</td>\n",
       "    </tr>\n",
       "    <tr>\n",
       "      <th>3</th>\n",
       "      <td>11.2</td>\n",
       "      <td>0.28</td>\n",
       "      <td>0.56</td>\n",
       "      <td>1.9</td>\n",
       "      <td>0.075</td>\n",
       "      <td>17.0</td>\n",
       "      <td>60.0</td>\n",
       "      <td>0.9980</td>\n",
       "      <td>3.16</td>\n",
       "      <td>0.58</td>\n",
       "      <td>9.8</td>\n",
       "      <td>6</td>\n",
       "    </tr>\n",
       "    <tr>\n",
       "      <th>4</th>\n",
       "      <td>7.4</td>\n",
       "      <td>0.70</td>\n",
       "      <td>0.00</td>\n",
       "      <td>1.9</td>\n",
       "      <td>0.076</td>\n",
       "      <td>11.0</td>\n",
       "      <td>34.0</td>\n",
       "      <td>0.9978</td>\n",
       "      <td>3.51</td>\n",
       "      <td>0.56</td>\n",
       "      <td>9.4</td>\n",
       "      <td>5</td>\n",
       "    </tr>\n",
       "  </tbody>\n",
       "</table>\n",
       "</div>"
      ],
      "text/plain": [
       "   fixed acidity (0)  volatile acidity (1)  citric acid (2)  \\\n",
       "0                7.4                  0.70             0.00   \n",
       "1                7.8                  0.88             0.00   \n",
       "2                7.8                  0.76             0.04   \n",
       "3               11.2                  0.28             0.56   \n",
       "4                7.4                  0.70             0.00   \n",
       "\n",
       "   residual sugar (3)  chlorides (4)  free sulfur dioxide (5)  \\\n",
       "0                 1.9          0.076                     11.0   \n",
       "1                 2.6          0.098                     25.0   \n",
       "2                 2.3          0.092                     15.0   \n",
       "3                 1.9          0.075                     17.0   \n",
       "4                 1.9          0.076                     11.0   \n",
       "\n",
       "   total sulfur dioxide (6)  density (7)  pH (8)  sulphates (9)  alcohol (10)  \\\n",
       "0                      34.0       0.9978    3.51           0.56           9.4   \n",
       "1                      67.0       0.9968    3.20           0.68           9.8   \n",
       "2                      54.0       0.9970    3.26           0.65           9.8   \n",
       "3                      60.0       0.9980    3.16           0.58           9.8   \n",
       "4                      34.0       0.9978    3.51           0.56           9.4   \n",
       "\n",
       "   target  \n",
       "0       5  \n",
       "1       5  \n",
       "2       5  \n",
       "3       6  \n",
       "4       5  "
      ]
     },
     "execution_count": 5,
     "metadata": {},
     "output_type": "execute_result"
    }
   ],
   "source": [
    "df.columns = ['fixed acidity (0)', 'volatile acidity (1)', 'citric acid (2)', \n",
    "              'residual sugar (3)', 'chlorides (4)', 'free sulfur dioxide (5)', \n",
    "              'total sulfur dioxide (6)', 'density (7)', 'pH (8)', 'sulphates (9)', \n",
    "              'alcohol (10)', 'target']\n",
    "df.head()"
   ]
  },
  {
   "cell_type": "markdown",
   "metadata": {},
   "source": [
    "Calculating Outliers"
   ]
  },
  {
   "cell_type": "code",
   "execution_count": 12,
   "metadata": {
    "collapsed": false
   },
   "outputs": [],
   "source": [
    "#removed"
   ]
  },
  {
   "cell_type": "markdown",
   "metadata": {},
   "source": [
    "Ordinary Least Squares Model Summary with Stats"
   ]
  },
  {
   "cell_type": "code",
   "execution_count": 8,
   "metadata": {
    "collapsed": false
   },
   "outputs": [
    {
     "data": {
      "text/html": [
       "<table class=\"simpletable\">\n",
       "<caption>OLS Regression Results</caption>\n",
       "<tr>\n",
       "  <th>Dep. Variable:</th>         <td>target</td>      <th>  R-squared:         </th> <td>   0.361</td> \n",
       "</tr>\n",
       "<tr>\n",
       "  <th>Model:</th>                   <td>OLS</td>       <th>  Adj. R-squared:    </th> <td>   0.356</td> \n",
       "</tr>\n",
       "<tr>\n",
       "  <th>Method:</th>             <td>Least Squares</td>  <th>  F-statistic:       </th> <td>   81.35</td> \n",
       "</tr>\n",
       "<tr>\n",
       "  <th>Date:</th>             <td>Sun, 27 Nov 2016</td> <th>  Prob (F-statistic):</th> <td>1.79e-145</td>\n",
       "</tr>\n",
       "<tr>\n",
       "  <th>Time:</th>                 <td>01:16:10</td>     <th>  Log-Likelihood:    </th> <td> -1569.1</td> \n",
       "</tr>\n",
       "<tr>\n",
       "  <th>No. Observations:</th>      <td>  1599</td>      <th>  AIC:               </th> <td>   3162.</td> \n",
       "</tr>\n",
       "<tr>\n",
       "  <th>Df Residuals:</th>          <td>  1587</td>      <th>  BIC:               </th> <td>   3227.</td> \n",
       "</tr>\n",
       "<tr>\n",
       "  <th>Df Model:</th>              <td>    11</td>      <th>                     </th>     <td> </td>    \n",
       "</tr>\n",
       "<tr>\n",
       "  <th>Covariance Type:</th>      <td>nonrobust</td>    <th>                     </th>     <td> </td>    \n",
       "</tr>\n",
       "</table>\n",
       "<table class=\"simpletable\">\n",
       "<tr>\n",
       "              <td></td>                <th>coef</th>     <th>std err</th>      <th>t</th>      <th>P>|t|</th> <th>[95.0% Conf. Int.]</th> \n",
       "</tr>\n",
       "<tr>\n",
       "  <th>const</th>                    <td>   21.9652</td> <td>   21.195</td> <td>    1.036</td> <td> 0.300</td> <td>  -19.607    63.538</td>\n",
       "</tr>\n",
       "<tr>\n",
       "  <th>fixed acidity (0)</th>        <td>    0.0250</td> <td>    0.026</td> <td>    0.963</td> <td> 0.336</td> <td>   -0.026     0.076</td>\n",
       "</tr>\n",
       "<tr>\n",
       "  <th>volatile acidity (1)</th>     <td>   -1.0836</td> <td>    0.121</td> <td>   -8.948</td> <td> 0.000</td> <td>   -1.321    -0.846</td>\n",
       "</tr>\n",
       "<tr>\n",
       "  <th>citric acid (2)</th>          <td>   -0.1826</td> <td>    0.147</td> <td>   -1.240</td> <td> 0.215</td> <td>   -0.471     0.106</td>\n",
       "</tr>\n",
       "<tr>\n",
       "  <th>residual sugar (3)</th>       <td>    0.0163</td> <td>    0.015</td> <td>    1.089</td> <td> 0.276</td> <td>   -0.013     0.046</td>\n",
       "</tr>\n",
       "<tr>\n",
       "  <th>chlorides (4)</th>            <td>   -1.8742</td> <td>    0.419</td> <td>   -4.470</td> <td> 0.000</td> <td>   -2.697    -1.052</td>\n",
       "</tr>\n",
       "<tr>\n",
       "  <th>free sulfur dioxide (5)</th>  <td>    0.0044</td> <td>    0.002</td> <td>    2.009</td> <td> 0.045</td> <td>    0.000     0.009</td>\n",
       "</tr>\n",
       "<tr>\n",
       "  <th>total sulfur dioxide (6)</th> <td>   -0.0033</td> <td>    0.001</td> <td>   -4.480</td> <td> 0.000</td> <td>   -0.005    -0.002</td>\n",
       "</tr>\n",
       "<tr>\n",
       "  <th>density (7)</th>              <td>  -17.8812</td> <td>   21.633</td> <td>   -0.827</td> <td> 0.409</td> <td>  -60.314    24.551</td>\n",
       "</tr>\n",
       "<tr>\n",
       "  <th>pH (8)</th>                   <td>   -0.4137</td> <td>    0.192</td> <td>   -2.159</td> <td> 0.031</td> <td>   -0.789    -0.038</td>\n",
       "</tr>\n",
       "<tr>\n",
       "  <th>sulphates (9)</th>            <td>    0.9163</td> <td>    0.114</td> <td>    8.014</td> <td> 0.000</td> <td>    0.692     1.141</td>\n",
       "</tr>\n",
       "<tr>\n",
       "  <th>alcohol (10)</th>             <td>    0.2762</td> <td>    0.026</td> <td>   10.429</td> <td> 0.000</td> <td>    0.224     0.328</td>\n",
       "</tr>\n",
       "</table>\n",
       "<table class=\"simpletable\">\n",
       "<tr>\n",
       "  <th>Omnibus:</th>       <td>27.376</td> <th>  Durbin-Watson:     </th> <td>   1.757</td>\n",
       "</tr>\n",
       "<tr>\n",
       "  <th>Prob(Omnibus):</th> <td> 0.000</td> <th>  Jarque-Bera (JB):  </th> <td>  40.965</td>\n",
       "</tr>\n",
       "<tr>\n",
       "  <th>Skew:</th>          <td>-0.168</td> <th>  Prob(JB):          </th> <td>1.27e-09</td>\n",
       "</tr>\n",
       "<tr>\n",
       "  <th>Kurtosis:</th>      <td> 3.708</td> <th>  Cond. No.          </th> <td>1.13e+05</td>\n",
       "</tr>\n",
       "</table>"
      ],
      "text/plain": [
       "<class 'statsmodels.iolib.summary.Summary'>\n",
       "\"\"\"\n",
       "                            OLS Regression Results                            \n",
       "==============================================================================\n",
       "Dep. Variable:                 target   R-squared:                       0.361\n",
       "Model:                            OLS   Adj. R-squared:                  0.356\n",
       "Method:                 Least Squares   F-statistic:                     81.35\n",
       "Date:                Sun, 27 Nov 2016   Prob (F-statistic):          1.79e-145\n",
       "Time:                        01:16:10   Log-Likelihood:                -1569.1\n",
       "No. Observations:                1599   AIC:                             3162.\n",
       "Df Residuals:                    1587   BIC:                             3227.\n",
       "Df Model:                          11                                         \n",
       "Covariance Type:            nonrobust                                         \n",
       "============================================================================================\n",
       "                               coef    std err          t      P>|t|      [95.0% Conf. Int.]\n",
       "--------------------------------------------------------------------------------------------\n",
       "const                       21.9652     21.195      1.036      0.300       -19.607    63.538\n",
       "fixed acidity (0)            0.0250      0.026      0.963      0.336        -0.026     0.076\n",
       "volatile acidity (1)        -1.0836      0.121     -8.948      0.000        -1.321    -0.846\n",
       "citric acid (2)             -0.1826      0.147     -1.240      0.215        -0.471     0.106\n",
       "residual sugar (3)           0.0163      0.015      1.089      0.276        -0.013     0.046\n",
       "chlorides (4)               -1.8742      0.419     -4.470      0.000        -2.697    -1.052\n",
       "free sulfur dioxide (5)      0.0044      0.002      2.009      0.045         0.000     0.009\n",
       "total sulfur dioxide (6)    -0.0033      0.001     -4.480      0.000        -0.005    -0.002\n",
       "density (7)                -17.8812     21.633     -0.827      0.409       -60.314    24.551\n",
       "pH (8)                      -0.4137      0.192     -2.159      0.031        -0.789    -0.038\n",
       "sulphates (9)                0.9163      0.114      8.014      0.000         0.692     1.141\n",
       "alcohol (10)                 0.2762      0.026     10.429      0.000         0.224     0.328\n",
       "==============================================================================\n",
       "Omnibus:                       27.376   Durbin-Watson:                   1.757\n",
       "Prob(Omnibus):                  0.000   Jarque-Bera (JB):               40.965\n",
       "Skew:                          -0.168   Prob(JB):                     1.27e-09\n",
       "Kurtosis:                       3.708   Cond. No.                     1.13e+05\n",
       "==============================================================================\n",
       "\n",
       "Warnings:\n",
       "[1] Standard Errors assume that the covariance matrix of the errors is correctly specified.\n",
       "[2] The condition number is large, 1.13e+05. This might indicate that there are\n",
       "strong multicollinearity or other numerical problems.\n",
       "\"\"\""
      ]
     },
     "execution_count": 8,
     "metadata": {},
     "output_type": "execute_result"
    }
   ],
   "source": [
    "x = df[list(df.columns)[:-1]]\n",
    "y = df['target']\n",
    "x = sm.add_constant(x)  #include intercept, since x is not scaled\n",
    "modl = sm.OLS(y, x).fit()  #y goes before x in statsmodels\n",
    "modl.summary()"
   ]
  },
  {
   "cell_type": "markdown",
   "metadata": {},
   "source": [
    "Additional data formats needed for some algorithms"
   ]
  },
  {
   "cell_type": "code",
   "execution_count": 9,
   "metadata": {
    "collapsed": true
   },
   "outputs": [],
   "source": [
    "# 11 features, excluding labels, in list of lists format\n",
    "x_list = np.array(df[list(df.columns)[:-1]]).tolist()\n",
    "\n",
    "# labels in list format\n",
    "labels = df['target'].tolist()\n",
    "\n",
    "# 12 features, scaled\n",
    "dfvals = df.values\n",
    "data_scaled = StandardScaler().fit_transform(dfvals)\n",
    "\n",
    "# 11 features, scaled, in dataframe format\n",
    "# lables, scaled, in list format\n",
    "df_scaled = pd.DataFrame(data_scaled, columns=df.columns)\n",
    "labels_scaled = df_scaled['target'].tolist()\n",
    "del df_scaled['target']\n",
    "\n",
    "# 11 features, scaled, in list of lists format\n",
    "x_scaled = np.array(df_scaled).tolist()"
   ]
  },
  {
   "cell_type": "markdown",
   "metadata": {},
   "source": [
    "Value Counts for Wine Taste Quality (note: 1, 2, 9 & 10 are zero)"
   ]
  },
  {
   "cell_type": "code",
   "execution_count": 10,
   "metadata": {
    "collapsed": false
   },
   "outputs": [
    {
     "data": {
      "text/plain": [
       "5    681\n",
       "6    638\n",
       "7    199\n",
       "4     53\n",
       "8     18\n",
       "3     10\n",
       "Name: target, dtype: int64"
      ]
     },
     "execution_count": 10,
     "metadata": {},
     "output_type": "execute_result"
    }
   ],
   "source": [
    "df.target.value_counts() "
   ]
  },
  {
   "cell_type": "markdown",
   "metadata": {},
   "source": [
    "## Models & Algorithms"
   ]
  },
  {
   "cell_type": "markdown",
   "metadata": {},
   "source": [
    "1.  Stepwise Algorithm <br>\n",
    "2.  Stepwise Regression 7 features <br>\n",
    "3.  Linear Regression 11 features <br>\n",
    "4.  Lars Algorithm <br>\n",
    "5.  Lars, xy scaled <br>\n",
    "6.  Lasso, alphas, sklearn <br>\n",
    "7.  Lasso alpha 0.01, sklearn, xy scaled <br> \n",
    "8.  Lasso alpha 0.01, sklearn, x scaled <br> \n",
    "9.  Gradient Descent, from scratch, x scaled <br>\n",
    "10. Gradient Descent, sklearn, x scaled <br>\n",
    "11. Gradient Descent 7 features, from scratch, x scaled <br>\n",
    "12. Gradient Descent 7 features, sklearn, x scaled  <br>\n",
    "13. Ridge, alphas, from scratch, x scaled <br>\n",
    "14. Ridge, alphas, sklearn <br>\n",
    "15. Ridge alpha .0001, from scratch, x scaled <br> \n",
    "16. Ridge alpha 1, sklearn <br>\n",
    "17. ElasticNet grid search for L1 ratio"
   ]
  },
  {
   "cell_type": "markdown",
   "metadata": {},
   "source": [
    "#### 1. Stepwise Algorithm "
   ]
  },
  {
   "cell_type": "code",
   "execution_count": 11,
   "metadata": {
    "collapsed": false
   },
   "outputs": [
    {
     "data": {
      "image/png": "[encoded data removed]",
      "text/plain": [
       "<matplotlib.figure.Figure at 0x11af805d0>"
      ]
     },
     "metadata": {},
     "output_type": "display_data"
    },
    {
     "name": "stdout",
     "output_type": "stream",
     "text": [
      "Out of sample error versus attribute set size\n",
      "[0.71422610507564765, 0.67015915718770025, 0.6658948255733077, 0.66210322905841368, 0.65894318547313158, 0.65710566704274365, 0.65655619653940922, 0.65708294716302151, 0.65787039535648484, 0.65887165001454129, 0.65966046088820485]\n",
      "\n",
      "Best attribute indices\n",
      "[10, 1, 9, 4, 6, 8, 5, 2, 3, 7, 0]\n",
      "\n",
      "Best attribute names\n",
      "['alcohol (10)', 'volatile acidity (1)', 'sulphates (9)', 'chlorides (4)', 'total sulfur dioxide (6)', 'pH (8)', 'free sulfur dioxide (5)', 'citric acid (2)', 'residual sugar (3)', 'density (7)', 'fixed acidity (0)']\n",
      "\n",
      "Rmse Results of Forward Stepwise Regression\n"
     ]
    },
    {
     "data": {
      "text/html": [
       "<div>\n",
       "<table border=\"1\" class=\"dataframe\">\n",
       "  <thead>\n",
       "    <tr style=\"text-align: right;\">\n",
       "      <th></th>\n",
       "      <th>alcohol (10)</th>\n",
       "      <th>volatile acidity (1)</th>\n",
       "      <th>sulphates (9)</th>\n",
       "      <th>chlorides (4)</th>\n",
       "      <th>total sulfur dioxide (6)</th>\n",
       "      <th>pH (8)</th>\n",
       "      <th>free sulfur dioxide (5)</th>\n",
       "      <th>citric acid (2)</th>\n",
       "      <th>residual sugar (3)</th>\n",
       "      <th>density (7)</th>\n",
       "      <th>fixed acidity (0)</th>\n",
       "    </tr>\n",
       "  </thead>\n",
       "  <tbody>\n",
       "    <tr>\n",
       "      <th>RMSE</th>\n",
       "      <td>0.714226</td>\n",
       "      <td>0.670159</td>\n",
       "      <td>0.665895</td>\n",
       "      <td>0.662103</td>\n",
       "      <td>0.658943</td>\n",
       "      <td>0.657106</td>\n",
       "      <td>0.656556</td>\n",
       "      <td>0.657083</td>\n",
       "      <td>0.65787</td>\n",
       "      <td>0.658872</td>\n",
       "      <td>0.65966</td>\n",
       "    </tr>\n",
       "  </tbody>\n",
       "</table>\n",
       "</div>"
      ],
      "text/plain": [
       "      alcohol (10)  volatile acidity (1)  sulphates (9)  chlorides (4)  \\\n",
       "RMSE      0.714226              0.670159       0.665895       0.662103   \n",
       "\n",
       "      total sulfur dioxide (6)    pH (8)  free sulfur dioxide (5)  \\\n",
       "RMSE                  0.658943  0.657106                 0.656556   \n",
       "\n",
       "      citric acid (2)  residual sugar (3)  density (7)  fixed acidity (0)  \n",
       "RMSE         0.657083             0.65787     0.658872            0.65966  "
      ]
     },
     "execution_count": 11,
     "metadata": {},
     "output_type": "execute_result"
    }
   ],
   "source": [
    "#index list positions \n",
    "index_positions = range(len(x_list))\n",
    "x_list_ = [x_list[i] for i in index_positions]\n",
    "y_ = [labels[i] for i in index_positions]\n",
    "\n",
    "#try each feature to see which one gives least oos error\n",
    "stepwise_indices = []\n",
    "indx = range(len(x_list_[1]))\n",
    "index_set = set(indx)\n",
    "oos_error = []\n",
    "for i in indx:\n",
    "    feature_set = set(stepwise_indices)\n",
    "    try_set = index_set - feature_set\n",
    "    try_list = [i for i in try_set]  \n",
    "    error_list, temp_list = [], []\n",
    "    for feat in try_list:  \n",
    "        temp_list = [] + stepwise_indices\n",
    "        temp_list.append(feat)\n",
    "        xTemp = x_features_cols(x_list_, temp_list) #add next feature to dataset\n",
    "        x_ = np.array(xTemp); y_ = np.array(y_)  #convert to numpy arrays\n",
    "        modl = LinearRegression()  \n",
    "        modl.fit(x_, y_)\n",
    "        step_preds = cross_val_predict(modl, x_, y_, cv=10) #make predictions\n",
    "        rms_error = calc_rmse(step_preds, y_)  #calculate errors\n",
    "        error_list.append(rms_error)\n",
    "        temp_list = []\n",
    "    iBest = np.argmin(error_list)\n",
    "    stepwise_indices.append(try_list[iBest])\n",
    "    oos_error.append(error_list[iBest])\n",
    "    \n",
    "#plot error versus number of attributes\n",
    "xaxis = range(len(oos_error))\n",
    "plt.plot(xaxis, oos_error, 'k')\n",
    "plt.xlabel('Number of Attributes')\n",
    "plt.ylabel('Error (RMS)')\n",
    "plt.show()\n",
    "\n",
    "print('Out of sample error versus attribute set size')\n",
    "print(oos_error)\n",
    "print('\\nBest attribute indices')\n",
    "print(stepwise_indices)\n",
    "stepwise_sequence = [df.columns[i] for i in stepwise_indices]\n",
    "print('\\nBest attribute names')\n",
    "print(stepwise_sequence)\n",
    "oos_rounded = []\n",
    "for i in oos_error:\n",
    "    oos_rounded.append(round(i,7))\n",
    "df_features = pd.DataFrame(zip(oos_rounded), index = stepwise_sequence, columns = ['RMSE'])\n",
    "print '\\nRmse Results of Forward Stepwise Regression'\n",
    "df_features.T"
   ]
  },
  {
   "cell_type": "markdown",
   "metadata": {},
   "source": [
    "#### 2. Stepwise Regression 7 features"
   ]
  },
  {
   "cell_type": "code",
   "execution_count": 12,
   "metadata": {
    "collapsed": true
   },
   "outputs": [],
   "source": [
    "def run_stepwise_2(x, y):\n",
    "    modl = LinearRegression()\n",
    "    modl.fit(x, y)\n",
    "    preds = cross_val_predict(modl, x, y, cv=10) #make predictions\n",
    "    model_details('Stepwise Regression', preds, modl.coef_, modl.intercept_, \n",
    "                  stepwise_sequence[0:7], y)"
   ]
  },
  {
   "cell_type": "markdown",
   "metadata": {
    "collapsed": true
   },
   "source": [
    "#### 3. Linear Regression 11 features"
   ]
  },
  {
   "cell_type": "code",
   "execution_count": 13,
   "metadata": {
    "collapsed": false
   },
   "outputs": [],
   "source": [
    "def run_linear_regr_3(x, y):\n",
    "    modl = LinearRegression()\n",
    "    modl.fit(x, y)\n",
    "    preds = cross_val_predict(modl, x, y, cv=10) #make predictions\n",
    "    model_details('Linear Regression', preds, modl.coef_, modl.intercept_, stepwise_sequence, y)"
   ]
  },
  {
   "cell_type": "markdown",
   "metadata": {},
   "source": [
    "#### 4. Lars Algorithm"
   ]
  },
  {
   "cell_type": "code",
   "execution_count": 14,
   "metadata": {
    "collapsed": false
   },
   "outputs": [
    {
     "name": "stdout",
     "output_type": "stream",
     "text": [
      "index of betas with lowest rmse 338   minimum rmse 0.799685719012\n",
      "\n",
      "coefficients in original feature order\n",
      "[('fixed acidity (0)', 0.036000000000000004), ('volatile acidity (1)', -0.24000000000000019), ('citric acid (2)', -0.040000000000000008), ('residual sugar (3)', 0.024), ('chlorides (4)', -0.11200000000000007), ('free sulfur dioxide (5)', 0.060000000000000026), ('total sulfur dioxide (6)', -0.13600000000000009), ('density (7)', -0.028000000000000001), ('pH (8)', -0.08800000000000005), ('sulphates (9)', 0.19200000000000014), ('alcohol (10)', 0.37200000000000027)]\n",
      "\n",
      "feature priority under LARS algorithm\n",
      "['alcohol (10)', 'volatile acidity (1)', 'sulphates (9)', 'total sulfur dioxide (6)', 'chlorides (4)', 'fixed acidity (0)', 'pH (8)', 'free sulfur dioxide (5)', 'citric acid (2)', 'residual sugar (3)', 'density (7)']\n"
     ]
    },
    {
     "data": {
      "image/png": "[encoded data removed]",
      "text/plain": [
       "<matplotlib.figure.Figure at 0x11b193550>"
      ]
     },
     "metadata": {},
     "output_type": "display_data"
    }
   ],
   "source": [
    "n_rows = len(df.index)\n",
    "n_cols = len(x_list[0])\n",
    "beta = [0.0] * n_cols # row of beta coefficients\n",
    "beta_matrix = [] # matrix of beta coefficients\n",
    "beta_matrix.append(list(beta))\n",
    "n_steps = 350\n",
    "step_size = 0.004\n",
    "lars_indices = [] # features placement sequence\n",
    "\n",
    "# calculate correlation between features & residuals\n",
    "# and increment (decrement) beta corresponding to feature with highest correlation \n",
    "for i in range(n_steps):\n",
    "    residuals = [0.0] * n_rows\n",
    "    for j in range(n_rows):\n",
    "        labels_hat = sum([x_scaled[j][k] * beta[k] for k in range(n_cols)])\n",
    "        residuals[j] = labels_scaled[j] - labels_hat\n",
    "    corr = [0.0] * n_cols    \n",
    "    for j in range(n_cols):\n",
    "        corr[j] = sum([x_scaled[k][j] * residuals[k] for k in range(n_rows)]) / n_rows\n",
    "    k = 0    \n",
    "    corr_i = corr[0]\n",
    "    for j in range(1, (n_cols)):\n",
    "        if abs(corr_i) < abs(corr[j]):\n",
    "            k = j\n",
    "            corr_i = corr[j]\n",
    "    beta[k] += step_size * corr_i / abs(corr_i)\n",
    "    beta_matrix.append(list(beta))\n",
    "    beta_indices = [index for index in range(n_cols) if beta[index] != 0.0]\n",
    "    for q in beta_indices:\n",
    "        if (q in lars_indices) == False:\n",
    "            lars_indices.append(q)\n",
    "\n",
    "#find the beta matrix index with lowest rmse\n",
    "errors = []\n",
    "#x = np.array(df_scaled).tolist()  #list of list format for calc_pre_vals\n",
    "#y = labels_scaled\n",
    "for i in range(len(beta_matrix)):\n",
    "    preds = calc_pred_vals(x_scaled, beta_matrix[i])\n",
    "    rms_error = calc_rmse(preds, labels_scaled)\n",
    "    errors.append(rms_error)\n",
    "min_error = min(errors)\n",
    "min_index = errors.index(min_error)\n",
    "print 'index of betas with lowest rmse', min_index, '  minimum rmse', min_error\n",
    "    \n",
    "#plot range of beta values for each attribute\n",
    "for i in range(n_cols):\n",
    "    coeff_curve = [beta_matrix[k][i] for k in range(n_steps)]\n",
    "    xaxis = range(n_steps)\n",
    "    plt.plot(xaxis, coeff_curve)\n",
    "print '\\ncoefficients in original feature order'\n",
    "dfnames = df.columns\n",
    "coeffs = beta_matrix[min_index]\n",
    "print (zip(dfnames, coeffs))  \n",
    "lars_sequence = [dfnames[lars_indices[i]] for i in range(len(lars_indices))]  \n",
    "lars_coeffs = [coeffs[i] for i in lars_indices]\n",
    "print '\\nfeature priority under LARS algorithm\\n', lars_sequence\n",
    "plt.xlabel(\"Steps Taken\")\n",
    "plt.ylabel((\"Coefficient Values\"))\n",
    "plt.show()"
   ]
  },
  {
   "cell_type": "markdown",
   "metadata": {},
   "source": [
    "#### 5. Lars, xy scaled"
   ]
  },
  {
   "cell_type": "code",
   "execution_count": 15,
   "metadata": {
    "collapsed": true
   },
   "outputs": [],
   "source": [
    "def run_lars_5(x, y):\n",
    "    preds = calc_pred_vals(x, lars_coeffs)  # lars_coeffs is global; no intercept\n",
    "    model_details('Lars, from scratch, xy scaled', preds, lars_coeffs, 0, lars_sequence, \n",
    "                  y, False)"
   ]
  },
  {
   "cell_type": "markdown",
   "metadata": {},
   "source": [
    "#### 6. Lasso, alphas, sklearn"
   ]
  },
  {
   "cell_type": "code",
   "execution_count": 16,
   "metadata": {
    "collapsed": false
   },
   "outputs": [
    {
     "name": "stdout",
     "output_type": "stream",
     "text": [
      "x and y scaled\n",
      "RMS Error             alpha\n",
      "(0.81708174767321784, 0.001)\n",
      "(0.8160103265216736, 0.01)\n",
      "(0.83789547968910716, 0.1)\n",
      "\n",
      "x scaled  (labels not scaled)\n",
      "RMS Error             alpha\n",
      "(0.65963738656123083, 0.001)\n",
      "(0.65863795393371882, 0.01)\n",
      "(0.68208758146391235, 0.1)\n"
     ]
    }
   ],
   "source": [
    "x = df_scaled[lars_sequence]\n",
    "y = labels_scaled\n",
    "alpha_list = [0.001, 0.01, 0.1]  \n",
    "error_list = []\n",
    "for alph in alpha_list:\n",
    "    modl = Lasso(alpha=alph, normalize=False) \n",
    "    modl.fit(x, y)   \n",
    "    preds = cross_val_predict(modl, x, y, cv=10) #make predictions\n",
    "    rms_error = calc_rmse(preds, y)  #calculate errors\n",
    "    error_list.append(rms_error)\n",
    "print 'x and y scaled'\n",
    "print(\"RMS Error             alpha\")\n",
    "for i in range(len(error_list)):\n",
    "    print(error_list[i], alpha_list[i])\n",
    "\n",
    "y = df['target']\n",
    "alpha_list = [0.001, 0.01, 0.1]  \n",
    "error_list = []\n",
    "for alph in alpha_list:\n",
    "    modl = Lasso(alpha=alph, normalize=False) \n",
    "    modl.fit(x, y)   \n",
    "    preds = cross_val_predict(modl, x, y, cv=10) #make predictions\n",
    "    rms_error = calc_rmse(preds, y)  #calculate errors\n",
    "    error_list.append(rms_error)\n",
    "print '\\nx scaled  (labels not scaled)'\n",
    "print(\"RMS Error             alpha\")\n",
    "for i in range(len(error_list)):\n",
    "    print(error_list[i], alpha_list[i])"
   ]
  },
  {
   "cell_type": "markdown",
   "metadata": {},
   "source": [
    "#### 7. Lasso, alpha 0.01, sklearn, xy scaled "
   ]
  },
  {
   "cell_type": "code",
   "execution_count": 17,
   "metadata": {
    "collapsed": true
   },
   "outputs": [],
   "source": [
    "def run_lasso_7(x, y):\n",
    "    modl = Lasso(alpha=0.01, normalize=False)\n",
    "    modl.fit(x,y)\n",
    "    preds = cross_val_predict(modl, x, y, cv=10) #make predictions\n",
    "    model_details('Lasso alpha 0.01, sklearn, xy scaled', preds, modl.coef_, \n",
    "                  modl.intercept_, lars_sequence, y, False)"
   ]
  },
  {
   "cell_type": "markdown",
   "metadata": {},
   "source": [
    "#### 8. Lasso, alpha 0.01, sklearn, x scaled"
   ]
  },
  {
   "cell_type": "code",
   "execution_count": 18,
   "metadata": {
    "collapsed": true
   },
   "outputs": [],
   "source": [
    "def run_lasso_8(x, y):\n",
    "    modl = Lasso(alpha=0.01, normalize=False)\n",
    "    modl.fit(x,y)\n",
    "    preds = cross_val_predict(modl, x, y, cv=10) #make predictions\n",
    "    model_details('Lasso alpha 0.01, sklearn, x scaled', preds, modl.coef_, \n",
    "                  modl.intercept_, lars_sequence, y)"
   ]
  },
  {
   "cell_type": "markdown",
   "metadata": {},
   "source": [
    "#### 9. Gradient Descent, from scratch, x scaled "
   ]
  },
  {
   "cell_type": "code",
   "execution_count": 19,
   "metadata": {
    "collapsed": true
   },
   "outputs": [],
   "source": [
    "def minimize_stochastic(target_fn, gradient_fn, x, y, theta_0, alpha_0=0.01):\n",
    "    data = zip(x, y)\n",
    "    theta = theta_0   # theta-initial guess\n",
    "    alpha = alpha_0   # alpha-initial step size\n",
    "    min_theta = None  # the minimum so far\n",
    "    min_value = float(\"inf\") \n",
    "    iterations_with_no_improvement = 0\n",
    "    while iterations_with_no_improvement < 100: \n",
    "        value = sum(target_fn(x_i, y_i, theta) for x_i, y_i in data)\n",
    "        # if we've found a new minimum, remember it & go back to the original step size\n",
    "        if value < min_value: \n",
    "            min_theta = theta\n",
    "            min_value = value\n",
    "            iterations_with_no_improvement = 0\n",
    "            alpha = alpha_0\n",
    "        else:  # otherwise we're not improving, so try shrinking the step size\n",
    "            iterations_with_no_improvement += 1\n",
    "            alpha *= 0.9\n",
    "        for x_i, y_i in in_random_order(data):\n",
    "            # and take a gradient step for each of the data points\n",
    "            gradient_i = gradient_fn(x_i, y_i, theta)\n",
    "            theta = np.subtract(theta, np.multiply(alpha, gradient_i)) \n",
    "    return min_theta\n",
    "\n",
    "def sqd_err_gradient(x_i, y_i, beta):  \n",
    "    return [-2 * x_ij * regr_error(x_i, y_i, beta) for x_ij in x_i]\n",
    "\n",
    "def sqd_err_regr(x_i, y_i, beta):  \n",
    "    return regr_error(x_i, y_i, beta) ** 2\n",
    "\n",
    "def estimate_beta_sgd(x, y):  \n",
    "    beta_initial = [random.random() for x_i in x[0]]\n",
    "    beta = minimize_stochastic(sqd_err_regr, sqd_err_gradient, x, y, beta_initial, 0.001)\n",
    "    return beta\n",
    "\n",
    "def run_gradient_descent_9(x, y):\n",
    "    random.seed(0)\n",
    "    beta = estimate_beta_sgd(x, y)\n",
    "    preds = calc_pred_vals(x[:,1:], beta[1:], beta[0])\n",
    "    coefs = beta[1:]\n",
    "    coefs = [coefs[i] for i in stepwise_indices] #use stepwise sequence\n",
    "    model_details('Gradient Descent, from scratch, x scaled', preds, coefs, \n",
    "                  beta[0], stepwise_sequence, y)"
   ]
  },
  {
   "cell_type": "markdown",
   "metadata": {},
   "source": [
    "#### 10. Gradient Descent, sklearn, x scaled "
   ]
  },
  {
   "cell_type": "code",
   "execution_count": 20,
   "metadata": {
    "collapsed": true
   },
   "outputs": [],
   "source": [
    "def run_gradient_descent_10(x, y):\n",
    "    modl = SGDRegressor(penalty='none', random_state=0)\n",
    "    modl.fit(x, y)\n",
    "    preds = cross_val_predict(modl, x, y, cv=10) #make predictions\n",
    "    model_details('Gradient Descent, sklearn, x scaled', preds, modl.coef_, \n",
    "                  modl.intercept_, stepwise_sequence, y)"
   ]
  },
  {
   "cell_type": "markdown",
   "metadata": {},
   "source": [
    "#### 11. Gradient Descent 7 features, from scratch, x scaled "
   ]
  },
  {
   "cell_type": "code",
   "execution_count": 21,
   "metadata": {
    "collapsed": false
   },
   "outputs": [],
   "source": [
    "def run_gr_des_11(x, y):\n",
    "    random.seed(0)\n",
    "    beta = estimate_beta_sgd(x, y)\n",
    "    preds = calc_pred_vals(x[:,1:], beta[1:], beta[0])\n",
    "    coefs = beta[1:]\n",
    "    model_details('Gradient Descent 7 features, from scratch, x scaled', preds, coefs, \n",
    "                  beta[0], stepwise_sequence[0:7], y)"
   ]
  },
  {
   "cell_type": "markdown",
   "metadata": {},
   "source": [
    "#### 12. Gradient Descent 7 features, sklearn, x scaled"
   ]
  },
  {
   "cell_type": "code",
   "execution_count": 22,
   "metadata": {
    "collapsed": true
   },
   "outputs": [],
   "source": [
    "def run_gradient_descent_12(x, y):\n",
    "    modl = SGDRegressor(penalty='none', random_state=0)\n",
    "    modl.fit(x, y) \n",
    "    preds = cross_val_predict(modl, x, y, cv=10) #make predictions\n",
    "    model_details('Gradient Descent 7 features, sklearn, x scaled', preds, modl.coef_, \n",
    "                  modl.intercept_, stepwise_sequence[0:7], y)"
   ]
  },
  {
   "cell_type": "markdown",
   "metadata": {},
   "source": [
    "#### 13. Ridge, alphas, from scratch, x scaled"
   ]
  },
  {
   "cell_type": "code",
   "execution_count": 23,
   "metadata": {
    "collapsed": false
   },
   "outputs": [
    {
     "name": "stdout",
     "output_type": "stream",
     "text": [
      "Ridge (alphas) from scratch, x scaled\n",
      "\n",
      "alpha: 1e-05\n",
      "betas in original feature sequence\n",
      "[ 5.63608395  0.04377114 -0.19372892 -0.03567816  0.02319853 -0.08850769\n",
      "  0.0455746  -0.10737899 -0.0340782  -0.06365724  0.15534331  0.29410523]\n",
      "RMSE 0.645575270098\n",
      "\n",
      "alpha: 0.0001\n",
      "betas in original feature sequence\n",
      "[ 5.63619794  0.04379701 -0.19397906 -0.03554056  0.02308775 -0.08817093\n",
      "  0.04591039 -0.10756145 -0.03380495 -0.06378187  0.15518923  0.29436765]\n",
      "RMSE 0.645575192984\n",
      "\n",
      "alpha: 0.001\n",
      "betas in original feature sequence\n",
      "[ 5.63575055  0.04392389 -0.19369303 -0.03525398  0.02313893 -0.08791062\n",
      "  0.04556933 -0.10710525 -0.03432839 -0.06321561  0.15496523  0.29359623]\n",
      "RMSE 0.645575579638\n"
     ]
    }
   ],
   "source": [
    "def ridge_penalty(beta, alpha):\n",
    "    return alpha * np.dot(beta[1:], beta[1:])\n",
    "\n",
    "def ridge_penalty_gradient(beta, alpha):# gradient of just the ridge penalty\n",
    "    return [0] + [2 * alpha * beta_j for beta_j in beta[1:]]\n",
    "\n",
    "def sqd_err_ridge(x_i, y_i, beta, alpha): \n",
    "    # estimate error plus ridge penalty on beta\n",
    "    return regr_error(x_i, y_i, beta) ** 2 + ridge_penalty(beta, alpha)\n",
    "\n",
    "def sqd_err_ridge_gradient(x_i, y_i, beta, alpha): \n",
    "    # gradient corresponding to the ith squared error term incl the ridge penalty\n",
    "    return np.add(sqd_err_gradient(x_i, y_i, beta), ridge_penalty_gradient(beta, alpha))\n",
    "\n",
    "# use gradient descent to fit a ridge regression with penalty alpha\n",
    "def estimate_beta_ridge(x, y, alpha): \n",
    "    beta_initial = [random.random() for x_i in x[0]]\n",
    "    return minimize_stochastic(partial(sqd_err_ridge, alpha=alpha), \n",
    "                               partial(sqd_err_ridge_gradient, alpha=alpha), \n",
    "                               x, y, beta_initial, 0.001)\n",
    "\n",
    "import random\n",
    "x = sm.add_constant(x_scaled)\n",
    "y = labels\n",
    "random.seed(0)\n",
    "print 'Ridge (alphas) from scratch, x scaled'\n",
    "for alpha in [.00001, .0001, .001]:\n",
    "    beta = estimate_beta_ridge(x, y, alpha=alpha)\n",
    "    print '\\nalpha:', alpha \n",
    "    print 'betas in original feature sequence\\n', beta\n",
    "    preds = calc_pred_vals(x[:,1:], beta[1:], beta[0])\n",
    "    rdg_rmse = calc_rmse(preds, y)  \n",
    "    print 'RMSE', rdg_rmse"
   ]
  },
  {
   "cell_type": "markdown",
   "metadata": {},
   "source": [
    "#### 14. Ridge, alphas, sklearn"
   ]
  },
  {
   "cell_type": "code",
   "execution_count": 24,
   "metadata": {
    "collapsed": false
   },
   "outputs": [
    {
     "name": "stdout",
     "output_type": "stream",
     "text": [
      "RMS Error             alpha\n",
      "(0.65895530384808398, 0.1)\n",
      "(0.65888313822882527, 1)\n",
      "(0.66101735274064799, 10)\n"
     ]
    }
   ],
   "source": [
    "x = df[stepwise_sequence]\n",
    "y = df['target']\n",
    "alpha_list = [0.1, 1, 10]  #use a range of alphas\n",
    "error_list = []\n",
    "for alph in alpha_list:\n",
    "    modl = Ridge(alpha=alph) \n",
    "    modl.fit(x, y)   \n",
    "    preds = cross_val_predict(modl, x, y, cv=10) #make predictions\n",
    "    rms_error = calc_rmse(preds, y)  #calculate errors\n",
    "    error_list.append(rms_error)\n",
    "print(\"RMS Error             alpha\")\n",
    "for i in range(len(error_list)):\n",
    "    print(error_list[i], alpha_list[i])"
   ]
  },
  {
   "cell_type": "markdown",
   "metadata": {},
   "source": [
    "#### 15. Ridge alpha .0001, from scratch, x scaled"
   ]
  },
  {
   "cell_type": "code",
   "execution_count": 25,
   "metadata": {
    "collapsed": true
   },
   "outputs": [],
   "source": [
    "def run_ridge_15(x, y):\n",
    "    random.seed(0)\n",
    "    beta = estimate_beta_ridge(x, y, alpha=.0001)\n",
    "    preds = calc_pred_vals(x[:,1:], beta[1:], beta[0])\n",
    "    coefs = beta[1:]\n",
    "    coefs = [coefs[i] for i in stepwise_indices] \n",
    "    model_details('Ridge alpha .0001, from scratch, x scaled', preds, coefs, beta[0], \n",
    "                  stepwise_sequence, y)"
   ]
  },
  {
   "cell_type": "markdown",
   "metadata": {},
   "source": [
    "#### 16. Ridge alpha 1, sklearn"
   ]
  },
  {
   "cell_type": "code",
   "execution_count": 26,
   "metadata": {
    "collapsed": true
   },
   "outputs": [],
   "source": [
    "def run_ridge_16(x, y):\n",
    "    modl = Ridge(alpha=1)\n",
    "    modl.fit(x, y) \n",
    "    preds = cross_val_predict(modl, x, y, cv=10) #make predictions\n",
    "    model_details('Ridge alpha 1, sklearn', preds, modl.coef_, modl.intercept_, \n",
    "                  stepwise_sequence, y)"
   ]
  },
  {
   "cell_type": "markdown",
   "metadata": {},
   "source": [
    "#### 17. ElasticNet grid search for L1 ratio"
   ]
  },
  {
   "cell_type": "code",
   "execution_count": 28,
   "metadata": {
    "collapsed": false
   },
   "outputs": [
    {
     "name": "stdout",
     "output_type": "stream",
     "text": [
      "best parameters: \n",
      "{'l1_ratio': 0}\n"
     ]
    }
   ],
   "source": [
    "selected_cols = lars_sequence  \n",
    "x = df_scaled[selected_cols]\n",
    "y = labels_scaled\n",
    "enet_p = {'l1_ratio' : [0, 1e-10, .1, .3, .5, .7, .9, 1]}                                    \n",
    "enet = ElasticNet()                                   # instantiate model\n",
    "enet_grid = GridSearchCV(enet, enet_p, cv=5)          # instantiate grid\n",
    "enet_grid.fit(x, y)                                   # fit grid with data\n",
    "print \"best parameters: \\n\", enet_grid.best_params_   # print best parameters"
   ]
  },
  {
   "cell_type": "markdown",
   "metadata": {},
   "source": [
    "#### Running Models"
   ]
  },
  {
   "cell_type": "code",
   "execution_count": 29,
   "metadata": {
    "collapsed": true
   },
   "outputs": [],
   "source": [
    "# create lists for storing details\n",
    "modl_name = [] # name for model\n",
    "rmse = [] # root mean square error\n",
    "accuracy = [] # overall accuracy\n",
    "cmats = [] # confusion matrix dataframe\n",
    "cmat_sum = [] # to confirm no results are missing\n",
    "df_beta_coefs = [] # coefficients dataframe"
   ]
  },
  {
   "cell_type": "code",
   "execution_count": 30,
   "metadata": {
    "collapsed": true
   },
   "outputs": [],
   "source": [
    "# results of Stepwise Algorithm #1 appear in prior section\n",
    "run_stepwise_2(df[stepwise_sequence[0:7]], df['target'])"
   ]
  },
  {
   "cell_type": "code",
   "execution_count": 31,
   "metadata": {
    "collapsed": true
   },
   "outputs": [],
   "source": [
    "run_linear_regr_3(df[stepwise_sequence], df['target'])"
   ]
  },
  {
   "cell_type": "code",
   "execution_count": 32,
   "metadata": {
    "collapsed": true
   },
   "outputs": [],
   "source": [
    "#results of Lars Algorithm #4 appear in prior section\n",
    "run_lars_5(np.array(df_scaled[lars_sequence]).tolist(), labels_scaled)"
   ]
  },
  {
   "cell_type": "code",
   "execution_count": 33,
   "metadata": {
    "collapsed": true
   },
   "outputs": [],
   "source": [
    "#results for Lasso alphas #6 appear in prior section\n",
    "run_lasso_7(df_scaled[lars_sequence], labels_scaled)"
   ]
  },
  {
   "cell_type": "code",
   "execution_count": 34,
   "metadata": {
    "collapsed": true
   },
   "outputs": [],
   "source": [
    "run_lasso_8(df_scaled[lars_sequence], df['target'])"
   ]
  },
  {
   "cell_type": "code",
   "execution_count": 35,
   "metadata": {
    "collapsed": true
   },
   "outputs": [],
   "source": [
    "run_gradient_descent_9(sm.add_constant(x_scaled), labels)"
   ]
  },
  {
   "cell_type": "code",
   "execution_count": 36,
   "metadata": {
    "collapsed": true
   },
   "outputs": [],
   "source": [
    "run_gradient_descent_10(df_scaled[stepwise_sequence], df['target'])"
   ]
  },
  {
   "cell_type": "code",
   "execution_count": 37,
   "metadata": {
    "collapsed": true
   },
   "outputs": [],
   "source": [
    "run_gr_des_11(sm.add_constant(np.array(df_scaled[stepwise_sequence[0:7]]).tolist()), labels)"
   ]
  },
  {
   "cell_type": "code",
   "execution_count": 38,
   "metadata": {
    "collapsed": true
   },
   "outputs": [],
   "source": [
    "run_gradient_descent_12(df_scaled[stepwise_sequence[0:7]], df['target'])"
   ]
  },
  {
   "cell_type": "code",
   "execution_count": 39,
   "metadata": {
    "collapsed": true
   },
   "outputs": [],
   "source": [
    "#results for Ridge alphas #13 & #14 appear in prior section\n",
    "run_ridge_15(sm.add_constant(x_scaled), labels)"
   ]
  },
  {
   "cell_type": "code",
   "execution_count": 40,
   "metadata": {
    "collapsed": true
   },
   "outputs": [],
   "source": [
    "run_ridge_16(df[stepwise_sequence], df['target'])"
   ]
  },
  {
   "cell_type": "markdown",
   "metadata": {},
   "source": [
    "#### Model Scores"
   ]
  },
  {
   "cell_type": "code",
   "execution_count": 41,
   "metadata": {
    "collapsed": false
   },
   "outputs": [
    {
     "data": {
      "text/html": [
       "<div>\n",
       "<table border=\"1\" class=\"dataframe\">\n",
       "  <thead>\n",
       "    <tr style=\"text-align: right;\">\n",
       "      <th></th>\n",
       "      <th>RMSE</th>\n",
       "      <th>Overall Accuracy</th>\n",
       "    </tr>\n",
       "  </thead>\n",
       "  <tbody>\n",
       "    <tr>\n",
       "      <th>Stepwise Regression</th>\n",
       "      <td>0.656556</td>\n",
       "      <td>0.587242</td>\n",
       "    </tr>\n",
       "    <tr>\n",
       "      <th>Linear Regression</th>\n",
       "      <td>0.659660</td>\n",
       "      <td>0.589118</td>\n",
       "    </tr>\n",
       "    <tr>\n",
       "      <th>Lars, from scratch, xy scaled</th>\n",
       "      <td>0.799686</td>\n",
       "      <td>n/a, labels are scaled</td>\n",
       "    </tr>\n",
       "    <tr>\n",
       "      <th>Lasso alpha 0.01, sklearn, xy scaled</th>\n",
       "      <td>0.816010</td>\n",
       "      <td>n/a, labels are scaled</td>\n",
       "    </tr>\n",
       "    <tr>\n",
       "      <th>Lasso alpha 0.01, sklearn, x scaled</th>\n",
       "      <td>0.658638</td>\n",
       "      <td>0.589118</td>\n",
       "    </tr>\n",
       "    <tr>\n",
       "      <th>Gradient Descent, from scratch, x scaled</th>\n",
       "      <td>0.645575</td>\n",
       "      <td>0.59162</td>\n",
       "    </tr>\n",
       "    <tr>\n",
       "      <th>Gradient Descent, sklearn, x scaled</th>\n",
       "      <td>0.659644</td>\n",
       "      <td>0.590994</td>\n",
       "    </tr>\n",
       "    <tr>\n",
       "      <th>Gradient Descent 7 features, from scratch, x scaled</th>\n",
       "      <td>0.646121</td>\n",
       "      <td>0.592871</td>\n",
       "    </tr>\n",
       "    <tr>\n",
       "      <th>Gradient Descent 7 features, sklearn, x scaled</th>\n",
       "      <td>0.656390</td>\n",
       "      <td>0.589744</td>\n",
       "    </tr>\n",
       "    <tr>\n",
       "      <th>Ridge alpha .0001, from scratch, x scaled</th>\n",
       "      <td>0.645575</td>\n",
       "      <td>0.59162</td>\n",
       "    </tr>\n",
       "    <tr>\n",
       "      <th>Ridge alpha 1, sklearn</th>\n",
       "      <td>0.658883</td>\n",
       "      <td>0.587867</td>\n",
       "    </tr>\n",
       "  </tbody>\n",
       "</table>\n",
       "</div>"
      ],
      "text/plain": [
       "                                                        RMSE  \\\n",
       "Stepwise Regression                                 0.656556   \n",
       "Linear Regression                                   0.659660   \n",
       "Lars, from scratch, xy scaled                       0.799686   \n",
       "Lasso alpha 0.01, sklearn, xy scaled                0.816010   \n",
       "Lasso alpha 0.01, sklearn, x scaled                 0.658638   \n",
       "Gradient Descent, from scratch, x scaled            0.645575   \n",
       "Gradient Descent, sklearn, x scaled                 0.659644   \n",
       "Gradient Descent 7 features, from scratch, x sc...  0.646121   \n",
       "Gradient Descent 7 features, sklearn, x scaled      0.656390   \n",
       "Ridge alpha .0001, from scratch, x scaled           0.645575   \n",
       "Ridge alpha 1, sklearn                              0.658883   \n",
       "\n",
       "                                                          Overall Accuracy  \n",
       "Stepwise Regression                                               0.587242  \n",
       "Linear Regression                                                 0.589118  \n",
       "Lars, from scratch, xy scaled                       n/a, labels are scaled  \n",
       "Lasso alpha 0.01, sklearn, xy scaled                n/a, labels are scaled  \n",
       "Lasso alpha 0.01, sklearn, x scaled                               0.589118  \n",
       "Gradient Descent, from scratch, x scaled                           0.59162  \n",
       "Gradient Descent, sklearn, x scaled                               0.590994  \n",
       "Gradient Descent 7 features, from scratch, x sc...                0.592871  \n",
       "Gradient Descent 7 features, sklearn, x scaled                    0.589744  \n",
       "Ridge alpha .0001, from scratch, x scaled                          0.59162  \n",
       "Ridge alpha 1, sklearn                                            0.587867  "
      ]
     },
     "execution_count": 41,
     "metadata": {},
     "output_type": "execute_result"
    }
   ],
   "source": [
    "df_scores = pd.DataFrame(zip(rmse, accuracy), columns = ['RMSE', 'Overall Accuracy'], \n",
    "                         index = modl_name)\n",
    "df_scores"
   ]
  },
  {
   "cell_type": "markdown",
   "metadata": {},
   "source": [
    "Confirm all confusion matrix entries were picked up"
   ]
  },
  {
   "cell_type": "code",
   "execution_count": 42,
   "metadata": {
    "collapsed": false
   },
   "outputs": [
    {
     "data": {
      "text/plain": [
       "[1599,\n",
       " 1599,\n",
       " 'n/a, labels are scaled',\n",
       " 'n/a, labels are scaled',\n",
       " 1599,\n",
       " 1599,\n",
       " 1599,\n",
       " 1599,\n",
       " 1599,\n",
       " 1599,\n",
       " 1599]"
      ]
     },
     "execution_count": 42,
     "metadata": {},
     "output_type": "execute_result"
    }
   ],
   "source": [
    "cmat_sum"
   ]
  },
  {
   "cell_type": "markdown",
   "metadata": {},
   "source": [
    "#### Model Summaries"
   ]
  },
  {
   "cell_type": "code",
   "execution_count": 43,
   "metadata": {
    "collapsed": false
   },
   "outputs": [
    {
     "name": "stdout",
     "output_type": "stream",
     "text": [
      "RMSE 0.656556196539\n"
     ]
    },
    {
     "data": {
      "text/html": [
       "<div>\n",
       "<table border=\"1\" class=\"dataframe\">\n",
       "  <thead>\n",
       "    <tr style=\"text-align: right;\">\n",
       "      <th></th>\n",
       "      <th>intercept</th>\n",
       "      <th>alcohol (10)</th>\n",
       "      <th>volatile acidity (1)</th>\n",
       "      <th>sulphates (9)</th>\n",
       "      <th>chlorides (4)</th>\n",
       "      <th>total sulfur dioxide (6)</th>\n",
       "      <th>pH (8)</th>\n",
       "      <th>free sulfur dioxide (5)</th>\n",
       "    </tr>\n",
       "  </thead>\n",
       "  <tbody>\n",
       "    <tr>\n",
       "      <th>Stepwise Regression</th>\n",
       "      <td>4.4301</td>\n",
       "      <td>0.2893</td>\n",
       "      <td>-1.01275</td>\n",
       "      <td>0.88267</td>\n",
       "      <td>-2.01781</td>\n",
       "      <td>-0.00348</td>\n",
       "      <td>-0.48266</td>\n",
       "      <td>0.00508</td>\n",
       "    </tr>\n",
       "  </tbody>\n",
       "</table>\n",
       "</div>"
      ],
      "text/plain": [
       "                     intercept  alcohol (10)  volatile acidity (1)  \\\n",
       "Stepwise Regression     4.4301        0.2893              -1.01275   \n",
       "\n",
       "                     sulphates (9)  chlorides (4)  total sulfur dioxide (6)  \\\n",
       "Stepwise Regression        0.88267       -2.01781                  -0.00348   \n",
       "\n",
       "                      pH (8)  free sulfur dioxide (5)  \n",
       "Stepwise Regression -0.48266                  0.00508  "
      ]
     },
     "execution_count": 43,
     "metadata": {},
     "output_type": "execute_result"
    }
   ],
   "source": [
    "print 'RMSE', rmse[0]\n",
    "df_beta_coefs[0]"
   ]
  },
  {
   "cell_type": "code",
   "execution_count": 44,
   "metadata": {
    "collapsed": false
   },
   "outputs": [
    {
     "name": "stdout",
     "output_type": "stream",
     "text": [
      "RMSE 0.659660460888\n"
     ]
    },
    {
     "data": {
      "text/html": [
       "<div>\n",
       "<table border=\"1\" class=\"dataframe\">\n",
       "  <thead>\n",
       "    <tr style=\"text-align: right;\">\n",
       "      <th></th>\n",
       "      <th>intercept</th>\n",
       "      <th>alcohol (10)</th>\n",
       "      <th>volatile acidity (1)</th>\n",
       "      <th>sulphates (9)</th>\n",
       "      <th>chlorides (4)</th>\n",
       "      <th>total sulfur dioxide (6)</th>\n",
       "      <th>pH (8)</th>\n",
       "      <th>free sulfur dioxide (5)</th>\n",
       "      <th>citric acid (2)</th>\n",
       "      <th>residual sugar (3)</th>\n",
       "      <th>density (7)</th>\n",
       "      <th>fixed acidity (0)</th>\n",
       "    </tr>\n",
       "  </thead>\n",
       "  <tbody>\n",
       "    <tr>\n",
       "      <th>Linear Regression</th>\n",
       "      <td>21.96521</td>\n",
       "      <td>0.2762</td>\n",
       "      <td>-1.08359</td>\n",
       "      <td>0.91633</td>\n",
       "      <td>-1.87423</td>\n",
       "      <td>-0.00326</td>\n",
       "      <td>-0.41365</td>\n",
       "      <td>0.00436</td>\n",
       "      <td>-0.18256</td>\n",
       "      <td>0.01633</td>\n",
       "      <td>-17.88116</td>\n",
       "      <td>0.02499</td>\n",
       "    </tr>\n",
       "  </tbody>\n",
       "</table>\n",
       "</div>"
      ],
      "text/plain": [
       "                   intercept  alcohol (10)  volatile acidity (1)  \\\n",
       "Linear Regression   21.96521        0.2762              -1.08359   \n",
       "\n",
       "                   sulphates (9)  chlorides (4)  total sulfur dioxide (6)  \\\n",
       "Linear Regression        0.91633       -1.87423                  -0.00326   \n",
       "\n",
       "                    pH (8)  free sulfur dioxide (5)  citric acid (2)  \\\n",
       "Linear Regression -0.41365                  0.00436         -0.18256   \n",
       "\n",
       "                   residual sugar (3)  density (7)  fixed acidity (0)  \n",
       "Linear Regression             0.01633    -17.88116            0.02499  "
      ]
     },
     "execution_count": 44,
     "metadata": {},
     "output_type": "execute_result"
    }
   ],
   "source": [
    "print 'RMSE', rmse[1]\n",
    "df_beta_coefs[1]"
   ]
  },
  {
   "cell_type": "code",
   "execution_count": 45,
   "metadata": {
    "collapsed": false
   },
   "outputs": [
    {
     "name": "stdout",
     "output_type": "stream",
     "text": [
      "RMSE 0.799685719012\n"
     ]
    },
    {
     "data": {
      "text/html": [
       "<div>\n",
       "<table border=\"1\" class=\"dataframe\">\n",
       "  <thead>\n",
       "    <tr style=\"text-align: right;\">\n",
       "      <th></th>\n",
       "      <th>intercept</th>\n",
       "      <th>alcohol (10)</th>\n",
       "      <th>volatile acidity (1)</th>\n",
       "      <th>sulphates (9)</th>\n",
       "      <th>total sulfur dioxide (6)</th>\n",
       "      <th>chlorides (4)</th>\n",
       "      <th>fixed acidity (0)</th>\n",
       "      <th>pH (8)</th>\n",
       "      <th>free sulfur dioxide (5)</th>\n",
       "      <th>citric acid (2)</th>\n",
       "      <th>residual sugar (3)</th>\n",
       "      <th>density (7)</th>\n",
       "    </tr>\n",
       "  </thead>\n",
       "  <tbody>\n",
       "    <tr>\n",
       "      <th>Lars, from scratch, xy scaled</th>\n",
       "      <td>0.0</td>\n",
       "      <td>0.372</td>\n",
       "      <td>-0.24</td>\n",
       "      <td>0.192</td>\n",
       "      <td>-0.136</td>\n",
       "      <td>-0.112</td>\n",
       "      <td>0.036</td>\n",
       "      <td>-0.088</td>\n",
       "      <td>0.06</td>\n",
       "      <td>-0.04</td>\n",
       "      <td>0.024</td>\n",
       "      <td>-0.028</td>\n",
       "    </tr>\n",
       "  </tbody>\n",
       "</table>\n",
       "</div>"
      ],
      "text/plain": [
       "                               intercept  alcohol (10)  volatile acidity (1)  \\\n",
       "Lars, from scratch, xy scaled        0.0         0.372                 -0.24   \n",
       "\n",
       "                               sulphates (9)  total sulfur dioxide (6)  \\\n",
       "Lars, from scratch, xy scaled          0.192                    -0.136   \n",
       "\n",
       "                               chlorides (4)  fixed acidity (0)  pH (8)  \\\n",
       "Lars, from scratch, xy scaled         -0.112              0.036  -0.088   \n",
       "\n",
       "                               free sulfur dioxide (5)  citric acid (2)  \\\n",
       "Lars, from scratch, xy scaled                     0.06            -0.04   \n",
       "\n",
       "                               residual sugar (3)  density (7)  \n",
       "Lars, from scratch, xy scaled               0.024       -0.028  "
      ]
     },
     "execution_count": 45,
     "metadata": {},
     "output_type": "execute_result"
    }
   ],
   "source": [
    "print 'RMSE', rmse[2]\n",
    "df_beta_coefs[2]"
   ]
  },
  {
   "cell_type": "code",
   "execution_count": 46,
   "metadata": {
    "collapsed": false
   },
   "outputs": [
    {
     "name": "stdout",
     "output_type": "stream",
     "text": [
      "RMSE 0.816010326522\n"
     ]
    },
    {
     "data": {
      "text/html": [
       "<div>\n",
       "<table border=\"1\" class=\"dataframe\">\n",
       "  <thead>\n",
       "    <tr style=\"text-align: right;\">\n",
       "      <th></th>\n",
       "      <th>intercept</th>\n",
       "      <th>alcohol (10)</th>\n",
       "      <th>volatile acidity (1)</th>\n",
       "      <th>sulphates (9)</th>\n",
       "      <th>total sulfur dioxide (6)</th>\n",
       "      <th>chlorides (4)</th>\n",
       "      <th>fixed acidity (0)</th>\n",
       "      <th>pH (8)</th>\n",
       "      <th>free sulfur dioxide (5)</th>\n",
       "      <th>citric acid (2)</th>\n",
       "      <th>residual sugar (3)</th>\n",
       "      <th>density (7)</th>\n",
       "    </tr>\n",
       "  </thead>\n",
       "  <tbody>\n",
       "    <tr>\n",
       "      <th>Lasso alpha 0.01, sklearn, xy scaled</th>\n",
       "      <td>0.0</td>\n",
       "      <td>0.37649</td>\n",
       "      <td>-0.22697</td>\n",
       "      <td>0.17273</td>\n",
       "      <td>-0.11069</td>\n",
       "      <td>-0.10056</td>\n",
       "      <td>0.0</td>\n",
       "      <td>-0.07397</td>\n",
       "      <td>0.0333</td>\n",
       "      <td>-0.0</td>\n",
       "      <td>0.00287</td>\n",
       "      <td>-0.0</td>\n",
       "    </tr>\n",
       "  </tbody>\n",
       "</table>\n",
       "</div>"
      ],
      "text/plain": [
       "                                      intercept  alcohol (10)  \\\n",
       "Lasso alpha 0.01, sklearn, xy scaled        0.0       0.37649   \n",
       "\n",
       "                                      volatile acidity (1)  sulphates (9)  \\\n",
       "Lasso alpha 0.01, sklearn, xy scaled              -0.22697        0.17273   \n",
       "\n",
       "                                      total sulfur dioxide (6)  chlorides (4)  \\\n",
       "Lasso alpha 0.01, sklearn, xy scaled                  -0.11069       -0.10056   \n",
       "\n",
       "                                      fixed acidity (0)   pH (8)  \\\n",
       "Lasso alpha 0.01, sklearn, xy scaled                0.0 -0.07397   \n",
       "\n",
       "                                      free sulfur dioxide (5)  \\\n",
       "Lasso alpha 0.01, sklearn, xy scaled                   0.0333   \n",
       "\n",
       "                                      citric acid (2)  residual sugar (3)  \\\n",
       "Lasso alpha 0.01, sklearn, xy scaled             -0.0             0.00287   \n",
       "\n",
       "                                      density (7)  \n",
       "Lasso alpha 0.01, sklearn, xy scaled         -0.0  "
      ]
     },
     "execution_count": 46,
     "metadata": {},
     "output_type": "execute_result"
    }
   ],
   "source": [
    "print 'RMSE', rmse[3]\n",
    "df_beta_coefs[3]"
   ]
  },
  {
   "cell_type": "code",
   "execution_count": 47,
   "metadata": {
    "collapsed": false
   },
   "outputs": [
    {
     "name": "stdout",
     "output_type": "stream",
     "text": [
      "RMSE 0.658637953934\n"
     ]
    },
    {
     "data": {
      "text/html": [
       "<div>\n",
       "<table border=\"1\" class=\"dataframe\">\n",
       "  <thead>\n",
       "    <tr style=\"text-align: right;\">\n",
       "      <th></th>\n",
       "      <th>intercept</th>\n",
       "      <th>alcohol (10)</th>\n",
       "      <th>volatile acidity (1)</th>\n",
       "      <th>sulphates (9)</th>\n",
       "      <th>total sulfur dioxide (6)</th>\n",
       "      <th>chlorides (4)</th>\n",
       "      <th>fixed acidity (0)</th>\n",
       "      <th>pH (8)</th>\n",
       "      <th>free sulfur dioxide (5)</th>\n",
       "      <th>citric acid (2)</th>\n",
       "      <th>residual sugar (3)</th>\n",
       "      <th>density (7)</th>\n",
       "    </tr>\n",
       "  </thead>\n",
       "  <tbody>\n",
       "    <tr>\n",
       "      <th>Lasso alpha 0.01, sklearn, x scaled</th>\n",
       "      <td>5.63602</td>\n",
       "      <td>0.30325</td>\n",
       "      <td>-0.18364</td>\n",
       "      <td>0.13688</td>\n",
       "      <td>-0.083</td>\n",
       "      <td>-0.07773</td>\n",
       "      <td>0.0</td>\n",
       "      <td>-0.05646</td>\n",
       "      <td>0.02091</td>\n",
       "      <td>-0.0</td>\n",
       "      <td>0.00035</td>\n",
       "      <td>-0.0</td>\n",
       "    </tr>\n",
       "  </tbody>\n",
       "</table>\n",
       "</div>"
      ],
      "text/plain": [
       "                                     intercept  alcohol (10)  \\\n",
       "Lasso alpha 0.01, sklearn, x scaled    5.63602       0.30325   \n",
       "\n",
       "                                     volatile acidity (1)  sulphates (9)  \\\n",
       "Lasso alpha 0.01, sklearn, x scaled              -0.18364        0.13688   \n",
       "\n",
       "                                     total sulfur dioxide (6)  chlorides (4)  \\\n",
       "Lasso alpha 0.01, sklearn, x scaled                    -0.083       -0.07773   \n",
       "\n",
       "                                     fixed acidity (0)   pH (8)  \\\n",
       "Lasso alpha 0.01, sklearn, x scaled                0.0 -0.05646   \n",
       "\n",
       "                                     free sulfur dioxide (5)  citric acid (2)  \\\n",
       "Lasso alpha 0.01, sklearn, x scaled                  0.02091             -0.0   \n",
       "\n",
       "                                     residual sugar (3)  density (7)  \n",
       "Lasso alpha 0.01, sklearn, x scaled             0.00035         -0.0  "
      ]
     },
     "execution_count": 47,
     "metadata": {},
     "output_type": "execute_result"
    }
   ],
   "source": [
    "print 'RMSE', rmse[4]\n",
    "df_beta_coefs[4]"
   ]
  },
  {
   "cell_type": "code",
   "execution_count": 48,
   "metadata": {
    "collapsed": false
   },
   "outputs": [
    {
     "name": "stdout",
     "output_type": "stream",
     "text": [
      "RMSE 0.645575269722\n"
     ]
    },
    {
     "data": {
      "text/html": [
       "<div>\n",
       "<table border=\"1\" class=\"dataframe\">\n",
       "  <thead>\n",
       "    <tr style=\"text-align: right;\">\n",
       "      <th></th>\n",
       "      <th>intercept</th>\n",
       "      <th>alcohol (10)</th>\n",
       "      <th>volatile acidity (1)</th>\n",
       "      <th>sulphates (9)</th>\n",
       "      <th>chlorides (4)</th>\n",
       "      <th>total sulfur dioxide (6)</th>\n",
       "      <th>pH (8)</th>\n",
       "      <th>free sulfur dioxide (5)</th>\n",
       "      <th>citric acid (2)</th>\n",
       "      <th>residual sugar (3)</th>\n",
       "      <th>density (7)</th>\n",
       "      <th>fixed acidity (0)</th>\n",
       "    </tr>\n",
       "  </thead>\n",
       "  <tbody>\n",
       "    <tr>\n",
       "      <th>Gradient Descent, from scratch, x scaled</th>\n",
       "      <td>5.63608</td>\n",
       "      <td>0.29411</td>\n",
       "      <td>-0.19373</td>\n",
       "      <td>0.15534</td>\n",
       "      <td>-0.08851</td>\n",
       "      <td>-0.10738</td>\n",
       "      <td>-0.06366</td>\n",
       "      <td>0.04558</td>\n",
       "      <td>-0.03568</td>\n",
       "      <td>0.0232</td>\n",
       "      <td>-0.03407</td>\n",
       "      <td>0.04377</td>\n",
       "    </tr>\n",
       "  </tbody>\n",
       "</table>\n",
       "</div>"
      ],
      "text/plain": [
       "                                          intercept  alcohol (10)  \\\n",
       "Gradient Descent, from scratch, x scaled    5.63608       0.29411   \n",
       "\n",
       "                                          volatile acidity (1)  sulphates (9)  \\\n",
       "Gradient Descent, from scratch, x scaled              -0.19373        0.15534   \n",
       "\n",
       "                                          chlorides (4)  \\\n",
       "Gradient Descent, from scratch, x scaled       -0.08851   \n",
       "\n",
       "                                          total sulfur dioxide (6)   pH (8)  \\\n",
       "Gradient Descent, from scratch, x scaled                  -0.10738 -0.06366   \n",
       "\n",
       "                                          free sulfur dioxide (5)  \\\n",
       "Gradient Descent, from scratch, x scaled                  0.04558   \n",
       "\n",
       "                                          citric acid (2)  residual sugar (3)  \\\n",
       "Gradient Descent, from scratch, x scaled         -0.03568              0.0232   \n",
       "\n",
       "                                          density (7)  fixed acidity (0)  \n",
       "Gradient Descent, from scratch, x scaled     -0.03407            0.04377  "
      ]
     },
     "execution_count": 48,
     "metadata": {},
     "output_type": "execute_result"
    }
   ],
   "source": [
    "print 'RMSE', rmse[5]\n",
    "df_beta_coefs[5]"
   ]
  },
  {
   "cell_type": "code",
   "execution_count": 49,
   "metadata": {
    "collapsed": false
   },
   "outputs": [
    {
     "name": "stdout",
     "output_type": "stream",
     "text": [
      "RMSE 0.659643540989\n"
     ]
    },
    {
     "data": {
      "text/html": [
       "<div>\n",
       "<table border=\"1\" class=\"dataframe\">\n",
       "  <thead>\n",
       "    <tr style=\"text-align: right;\">\n",
       "      <th></th>\n",
       "      <th>intercept</th>\n",
       "      <th>alcohol (10)</th>\n",
       "      <th>volatile acidity (1)</th>\n",
       "      <th>sulphates (9)</th>\n",
       "      <th>chlorides (4)</th>\n",
       "      <th>total sulfur dioxide (6)</th>\n",
       "      <th>pH (8)</th>\n",
       "      <th>free sulfur dioxide (5)</th>\n",
       "      <th>citric acid (2)</th>\n",
       "      <th>residual sugar (3)</th>\n",
       "      <th>density (7)</th>\n",
       "      <th>fixed acidity (0)</th>\n",
       "    </tr>\n",
       "  </thead>\n",
       "  <tbody>\n",
       "    <tr>\n",
       "      <th>Gradient Descent, sklearn, x scaled</th>\n",
       "      <td>5.63146</td>\n",
       "      <td>0.29765</td>\n",
       "      <td>-0.18752</td>\n",
       "      <td>0.15409</td>\n",
       "      <td>-0.10259</td>\n",
       "      <td>-0.10222</td>\n",
       "      <td>-0.06106</td>\n",
       "      <td>0.05149</td>\n",
       "      <td>-0.02868</td>\n",
       "      <td>0.02585</td>\n",
       "      <td>-0.04763</td>\n",
       "      <td>0.03462</td>\n",
       "    </tr>\n",
       "  </tbody>\n",
       "</table>\n",
       "</div>"
      ],
      "text/plain": [
       "                                     intercept  alcohol (10)  \\\n",
       "Gradient Descent, sklearn, x scaled    5.63146       0.29765   \n",
       "\n",
       "                                     volatile acidity (1)  sulphates (9)  \\\n",
       "Gradient Descent, sklearn, x scaled              -0.18752        0.15409   \n",
       "\n",
       "                                     chlorides (4)  total sulfur dioxide (6)  \\\n",
       "Gradient Descent, sklearn, x scaled       -0.10259                  -0.10222   \n",
       "\n",
       "                                      pH (8)  free sulfur dioxide (5)  \\\n",
       "Gradient Descent, sklearn, x scaled -0.06106                  0.05149   \n",
       "\n",
       "                                     citric acid (2)  residual sugar (3)  \\\n",
       "Gradient Descent, sklearn, x scaled         -0.02868             0.02585   \n",
       "\n",
       "                                     density (7)  fixed acidity (0)  \n",
       "Gradient Descent, sklearn, x scaled     -0.04763            0.03462  "
      ]
     },
     "execution_count": 49,
     "metadata": {},
     "output_type": "execute_result"
    }
   ],
   "source": [
    "print 'RMSE', rmse[6]\n",
    "df_beta_coefs[6]"
   ]
  },
  {
   "cell_type": "code",
   "execution_count": 50,
   "metadata": {
    "collapsed": false
   },
   "outputs": [
    {
     "name": "stdout",
     "output_type": "stream",
     "text": [
      "RMSE 0.64612051279\n"
     ]
    },
    {
     "data": {
      "text/html": [
       "<div>\n",
       "<table border=\"1\" class=\"dataframe\">\n",
       "  <thead>\n",
       "    <tr style=\"text-align: right;\">\n",
       "      <th></th>\n",
       "      <th>intercept</th>\n",
       "      <th>alcohol (10)</th>\n",
       "      <th>volatile acidity (1)</th>\n",
       "      <th>sulphates (9)</th>\n",
       "      <th>chlorides (4)</th>\n",
       "      <th>total sulfur dioxide (6)</th>\n",
       "      <th>pH (8)</th>\n",
       "      <th>free sulfur dioxide (5)</th>\n",
       "    </tr>\n",
       "  </thead>\n",
       "  <tbody>\n",
       "    <tr>\n",
       "      <th>Gradient Descent 7 features, from scratch, x scaled</th>\n",
       "      <td>5.63607</td>\n",
       "      <td>0.30813</td>\n",
       "      <td>-0.18165</td>\n",
       "      <td>0.14945</td>\n",
       "      <td>-0.09477</td>\n",
       "      <td>-0.11436</td>\n",
       "      <td>-0.07447</td>\n",
       "      <td>0.05298</td>\n",
       "    </tr>\n",
       "  </tbody>\n",
       "</table>\n",
       "</div>"
      ],
      "text/plain": [
       "                                                    intercept  alcohol (10)  \\\n",
       "Gradient Descent 7 features, from scratch, x sc...    5.63607       0.30813   \n",
       "\n",
       "                                                    volatile acidity (1)  \\\n",
       "Gradient Descent 7 features, from scratch, x sc...              -0.18165   \n",
       "\n",
       "                                                    sulphates (9)  \\\n",
       "Gradient Descent 7 features, from scratch, x sc...        0.14945   \n",
       "\n",
       "                                                    chlorides (4)  \\\n",
       "Gradient Descent 7 features, from scratch, x sc...       -0.09477   \n",
       "\n",
       "                                                    total sulfur dioxide (6)  \\\n",
       "Gradient Descent 7 features, from scratch, x sc...                  -0.11436   \n",
       "\n",
       "                                                     pH (8)  \\\n",
       "Gradient Descent 7 features, from scratch, x sc... -0.07447   \n",
       "\n",
       "                                                    free sulfur dioxide (5)  \n",
       "Gradient Descent 7 features, from scratch, x sc...                  0.05298  "
      ]
     },
     "execution_count": 50,
     "metadata": {},
     "output_type": "execute_result"
    }
   ],
   "source": [
    "print 'RMSE', rmse[7]\n",
    "df_beta_coefs[7]"
   ]
  },
  {
   "cell_type": "code",
   "execution_count": 51,
   "metadata": {
    "collapsed": false
   },
   "outputs": [
    {
     "name": "stdout",
     "output_type": "stream",
     "text": [
      "RMSE 0.656390405034\n"
     ]
    },
    {
     "data": {
      "text/html": [
       "<div>\n",
       "<table border=\"1\" class=\"dataframe\">\n",
       "  <thead>\n",
       "    <tr style=\"text-align: right;\">\n",
       "      <th></th>\n",
       "      <th>intercept</th>\n",
       "      <th>alcohol (10)</th>\n",
       "      <th>volatile acidity (1)</th>\n",
       "      <th>sulphates (9)</th>\n",
       "      <th>chlorides (4)</th>\n",
       "      <th>total sulfur dioxide (6)</th>\n",
       "      <th>pH (8)</th>\n",
       "      <th>free sulfur dioxide (5)</th>\n",
       "    </tr>\n",
       "  </thead>\n",
       "  <tbody>\n",
       "    <tr>\n",
       "      <th>Gradient Descent 7 features, sklearn, x scaled</th>\n",
       "      <td>5.63145</td>\n",
       "      <td>0.3185</td>\n",
       "      <td>-0.17996</td>\n",
       "      <td>0.14468</td>\n",
       "      <td>-0.1087</td>\n",
       "      <td>-0.10275</td>\n",
       "      <td>-0.07146</td>\n",
       "      <td>0.05644</td>\n",
       "    </tr>\n",
       "  </tbody>\n",
       "</table>\n",
       "</div>"
      ],
      "text/plain": [
       "                                                intercept  alcohol (10)  \\\n",
       "Gradient Descent 7 features, sklearn, x scaled    5.63145        0.3185   \n",
       "\n",
       "                                                volatile acidity (1)  \\\n",
       "Gradient Descent 7 features, sklearn, x scaled              -0.17996   \n",
       "\n",
       "                                                sulphates (9)  chlorides (4)  \\\n",
       "Gradient Descent 7 features, sklearn, x scaled        0.14468        -0.1087   \n",
       "\n",
       "                                                total sulfur dioxide (6)  \\\n",
       "Gradient Descent 7 features, sklearn, x scaled                  -0.10275   \n",
       "\n",
       "                                                 pH (8)  \\\n",
       "Gradient Descent 7 features, sklearn, x scaled -0.07146   \n",
       "\n",
       "                                                free sulfur dioxide (5)  \n",
       "Gradient Descent 7 features, sklearn, x scaled                  0.05644  "
      ]
     },
     "execution_count": 51,
     "metadata": {},
     "output_type": "execute_result"
    }
   ],
   "source": [
    "print 'RMSE', rmse[8]\n",
    "df_beta_coefs[8]"
   ]
  },
  {
   "cell_type": "code",
   "execution_count": 52,
   "metadata": {
    "collapsed": false
   },
   "outputs": [
    {
     "name": "stdout",
     "output_type": "stream",
     "text": [
      "RMSE 0.64557524728\n"
     ]
    },
    {
     "data": {
      "text/html": [
       "<div>\n",
       "<table border=\"1\" class=\"dataframe\">\n",
       "  <thead>\n",
       "    <tr style=\"text-align: right;\">\n",
       "      <th></th>\n",
       "      <th>intercept</th>\n",
       "      <th>alcohol (10)</th>\n",
       "      <th>volatile acidity (1)</th>\n",
       "      <th>sulphates (9)</th>\n",
       "      <th>chlorides (4)</th>\n",
       "      <th>total sulfur dioxide (6)</th>\n",
       "      <th>pH (8)</th>\n",
       "      <th>free sulfur dioxide (5)</th>\n",
       "      <th>citric acid (2)</th>\n",
       "      <th>residual sugar (3)</th>\n",
       "      <th>density (7)</th>\n",
       "      <th>fixed acidity (0)</th>\n",
       "    </tr>\n",
       "  </thead>\n",
       "  <tbody>\n",
       "    <tr>\n",
       "      <th>Ridge alpha .0001, from scratch, x scaled</th>\n",
       "      <td>5.63605</td>\n",
       "      <td>0.29432</td>\n",
       "      <td>-0.19387</td>\n",
       "      <td>0.15559</td>\n",
       "      <td>-0.08832</td>\n",
       "      <td>-0.10715</td>\n",
       "      <td>-0.06378</td>\n",
       "      <td>0.04548</td>\n",
       "      <td>-0.03527</td>\n",
       "      <td>0.023</td>\n",
       "      <td>-0.03394</td>\n",
       "      <td>0.04364</td>\n",
       "    </tr>\n",
       "  </tbody>\n",
       "</table>\n",
       "</div>"
      ],
      "text/plain": [
       "                                           intercept  alcohol (10)  \\\n",
       "Ridge alpha .0001, from scratch, x scaled    5.63605       0.29432   \n",
       "\n",
       "                                           volatile acidity (1)  \\\n",
       "Ridge alpha .0001, from scratch, x scaled              -0.19387   \n",
       "\n",
       "                                           sulphates (9)  chlorides (4)  \\\n",
       "Ridge alpha .0001, from scratch, x scaled        0.15559       -0.08832   \n",
       "\n",
       "                                           total sulfur dioxide (6)   pH (8)  \\\n",
       "Ridge alpha .0001, from scratch, x scaled                  -0.10715 -0.06378   \n",
       "\n",
       "                                           free sulfur dioxide (5)  \\\n",
       "Ridge alpha .0001, from scratch, x scaled                  0.04548   \n",
       "\n",
       "                                           citric acid (2)  \\\n",
       "Ridge alpha .0001, from scratch, x scaled         -0.03527   \n",
       "\n",
       "                                           residual sugar (3)  density (7)  \\\n",
       "Ridge alpha .0001, from scratch, x scaled               0.023     -0.03394   \n",
       "\n",
       "                                           fixed acidity (0)  \n",
       "Ridge alpha .0001, from scratch, x scaled            0.04364  "
      ]
     },
     "execution_count": 52,
     "metadata": {},
     "output_type": "execute_result"
    }
   ],
   "source": [
    "print 'RMSE', rmse[9]\n",
    "df_beta_coefs[9]"
   ]
  },
  {
   "cell_type": "code",
   "execution_count": 53,
   "metadata": {
    "collapsed": false
   },
   "outputs": [
    {
     "name": "stdout",
     "output_type": "stream",
     "text": [
      "RMSE 0.658883138229\n"
     ]
    },
    {
     "data": {
      "text/html": [
       "<div>\n",
       "<table border=\"1\" class=\"dataframe\">\n",
       "  <thead>\n",
       "    <tr style=\"text-align: right;\">\n",
       "      <th></th>\n",
       "      <th>intercept</th>\n",
       "      <th>alcohol (10)</th>\n",
       "      <th>volatile acidity (1)</th>\n",
       "      <th>sulphates (9)</th>\n",
       "      <th>chlorides (4)</th>\n",
       "      <th>total sulfur dioxide (6)</th>\n",
       "      <th>pH (8)</th>\n",
       "      <th>free sulfur dioxide (5)</th>\n",
       "      <th>citric acid (2)</th>\n",
       "      <th>residual sugar (3)</th>\n",
       "      <th>density (7)</th>\n",
       "      <th>fixed acidity (0)</th>\n",
       "    </tr>\n",
       "  </thead>\n",
       "  <tbody>\n",
       "    <tr>\n",
       "      <th>Ridge alpha 1, sklearn</th>\n",
       "      <td>4.16024</td>\n",
       "      <td>0.29834</td>\n",
       "      <td>-1.10607</td>\n",
       "      <td>0.81781</td>\n",
       "      <td>-1.34485</td>\n",
       "      <td>-0.00322</td>\n",
       "      <td>-0.43769</td>\n",
       "      <td>0.00449</td>\n",
       "      <td>-0.19833</td>\n",
       "      <td>0.00754</td>\n",
       "      <td>-0.02068</td>\n",
       "      <td>0.01348</td>\n",
       "    </tr>\n",
       "  </tbody>\n",
       "</table>\n",
       "</div>"
      ],
      "text/plain": [
       "                        intercept  alcohol (10)  volatile acidity (1)  \\\n",
       "Ridge alpha 1, sklearn    4.16024       0.29834              -1.10607   \n",
       "\n",
       "                        sulphates (9)  chlorides (4)  \\\n",
       "Ridge alpha 1, sklearn        0.81781       -1.34485   \n",
       "\n",
       "                        total sulfur dioxide (6)   pH (8)  \\\n",
       "Ridge alpha 1, sklearn                  -0.00322 -0.43769   \n",
       "\n",
       "                        free sulfur dioxide (5)  citric acid (2)  \\\n",
       "Ridge alpha 1, sklearn                  0.00449         -0.19833   \n",
       "\n",
       "                        residual sugar (3)  density (7)  fixed acidity (0)  \n",
       "Ridge alpha 1, sklearn             0.00754     -0.02068            0.01348  "
      ]
     },
     "execution_count": 53,
     "metadata": {},
     "output_type": "execute_result"
    }
   ],
   "source": [
    "print 'RMSE', rmse[10]\n",
    "df_beta_coefs[10]"
   ]
  },
  {
   "cell_type": "markdown",
   "metadata": {},
   "source": [
    "#### Confusion Matrices & Overall Accuracy"
   ]
  },
  {
   "cell_type": "code",
   "execution_count": 54,
   "metadata": {
    "collapsed": false
   },
   "outputs": [
    {
     "name": "stdout",
     "output_type": "stream",
     "text": [
      "Stepwise Regression\n",
      "overall accuracy: 0.587242026266\n"
     ]
    },
    {
     "data": {
      "text/html": [
       "<div>\n",
       "<table border=\"1\" class=\"dataframe\">\n",
       "  <thead>\n",
       "    <tr style=\"text-align: right;\">\n",
       "      <th></th>\n",
       "      <th>P3</th>\n",
       "      <th>P4</th>\n",
       "      <th>P5</th>\n",
       "      <th>P6</th>\n",
       "      <th>P7</th>\n",
       "      <th>P8</th>\n",
       "      <th>Total</th>\n",
       "    </tr>\n",
       "  </thead>\n",
       "  <tbody>\n",
       "    <tr>\n",
       "      <th>A3</th>\n",
       "      <td>0</td>\n",
       "      <td>1</td>\n",
       "      <td>8</td>\n",
       "      <td>1</td>\n",
       "      <td>0</td>\n",
       "      <td>0</td>\n",
       "      <td>10</td>\n",
       "    </tr>\n",
       "    <tr>\n",
       "      <th>A4</th>\n",
       "      <td>0</td>\n",
       "      <td>1</td>\n",
       "      <td>31</td>\n",
       "      <td>21</td>\n",
       "      <td>0</td>\n",
       "      <td>0</td>\n",
       "      <td>53</td>\n",
       "    </tr>\n",
       "    <tr>\n",
       "      <th>A5</th>\n",
       "      <td>0</td>\n",
       "      <td>2</td>\n",
       "      <td>479</td>\n",
       "      <td>196</td>\n",
       "      <td>4</td>\n",
       "      <td>0</td>\n",
       "      <td>681</td>\n",
       "    </tr>\n",
       "    <tr>\n",
       "      <th>A6</th>\n",
       "      <td>0</td>\n",
       "      <td>0</td>\n",
       "      <td>189</td>\n",
       "      <td>423</td>\n",
       "      <td>26</td>\n",
       "      <td>0</td>\n",
       "      <td>638</td>\n",
       "    </tr>\n",
       "    <tr>\n",
       "      <th>A7</th>\n",
       "      <td>0</td>\n",
       "      <td>0</td>\n",
       "      <td>7</td>\n",
       "      <td>156</td>\n",
       "      <td>36</td>\n",
       "      <td>0</td>\n",
       "      <td>199</td>\n",
       "    </tr>\n",
       "    <tr>\n",
       "      <th>A8</th>\n",
       "      <td>0</td>\n",
       "      <td>0</td>\n",
       "      <td>0</td>\n",
       "      <td>12</td>\n",
       "      <td>6</td>\n",
       "      <td>0</td>\n",
       "      <td>18</td>\n",
       "    </tr>\n",
       "  </tbody>\n",
       "</table>\n",
       "</div>"
      ],
      "text/plain": [
       "    P3  P4   P5   P6  P7  P8  Total\n",
       "A3   0   1    8    1   0   0     10\n",
       "A4   0   1   31   21   0   0     53\n",
       "A5   0   2  479  196   4   0    681\n",
       "A6   0   0  189  423  26   0    638\n",
       "A7   0   0    7  156  36   0    199\n",
       "A8   0   0    0   12   6   0     18"
      ]
     },
     "execution_count": 54,
     "metadata": {},
     "output_type": "execute_result"
    }
   ],
   "source": [
    "print modl_name[0]\n",
    "print 'overall accuracy:', accuracy[0]\n",
    "cmats[0]"
   ]
  },
  {
   "cell_type": "code",
   "execution_count": 55,
   "metadata": {
    "collapsed": false
   },
   "outputs": [
    {
     "name": "stdout",
     "output_type": "stream",
     "text": [
      "Linear Regression\n",
      "overall accuracy: 0.589118198874\n"
     ]
    },
    {
     "data": {
      "text/html": [
       "<div>\n",
       "<table border=\"1\" class=\"dataframe\">\n",
       "  <thead>\n",
       "    <tr style=\"text-align: right;\">\n",
       "      <th></th>\n",
       "      <th>P3</th>\n",
       "      <th>P4</th>\n",
       "      <th>P5</th>\n",
       "      <th>P6</th>\n",
       "      <th>P7</th>\n",
       "      <th>P8</th>\n",
       "      <th>Total</th>\n",
       "    </tr>\n",
       "  </thead>\n",
       "  <tbody>\n",
       "    <tr>\n",
       "      <th>A3</th>\n",
       "      <td>0</td>\n",
       "      <td>1</td>\n",
       "      <td>8</td>\n",
       "      <td>1</td>\n",
       "      <td>0</td>\n",
       "      <td>0</td>\n",
       "      <td>10</td>\n",
       "    </tr>\n",
       "    <tr>\n",
       "      <th>A4</th>\n",
       "      <td>0</td>\n",
       "      <td>1</td>\n",
       "      <td>33</td>\n",
       "      <td>19</td>\n",
       "      <td>0</td>\n",
       "      <td>0</td>\n",
       "      <td>53</td>\n",
       "    </tr>\n",
       "    <tr>\n",
       "      <th>A5</th>\n",
       "      <td>0</td>\n",
       "      <td>3</td>\n",
       "      <td>475</td>\n",
       "      <td>199</td>\n",
       "      <td>3</td>\n",
       "      <td>1</td>\n",
       "      <td>681</td>\n",
       "    </tr>\n",
       "    <tr>\n",
       "      <th>A6</th>\n",
       "      <td>0</td>\n",
       "      <td>0</td>\n",
       "      <td>185</td>\n",
       "      <td>429</td>\n",
       "      <td>24</td>\n",
       "      <td>0</td>\n",
       "      <td>638</td>\n",
       "    </tr>\n",
       "    <tr>\n",
       "      <th>A7</th>\n",
       "      <td>0</td>\n",
       "      <td>0</td>\n",
       "      <td>9</td>\n",
       "      <td>153</td>\n",
       "      <td>37</td>\n",
       "      <td>0</td>\n",
       "      <td>199</td>\n",
       "    </tr>\n",
       "    <tr>\n",
       "      <th>A8</th>\n",
       "      <td>0</td>\n",
       "      <td>0</td>\n",
       "      <td>0</td>\n",
       "      <td>12</td>\n",
       "      <td>6</td>\n",
       "      <td>0</td>\n",
       "      <td>18</td>\n",
       "    </tr>\n",
       "  </tbody>\n",
       "</table>\n",
       "</div>"
      ],
      "text/plain": [
       "    P3  P4   P5   P6  P7  P8  Total\n",
       "A3   0   1    8    1   0   0     10\n",
       "A4   0   1   33   19   0   0     53\n",
       "A5   0   3  475  199   3   1    681\n",
       "A6   0   0  185  429  24   0    638\n",
       "A7   0   0    9  153  37   0    199\n",
       "A8   0   0    0   12   6   0     18"
      ]
     },
     "execution_count": 55,
     "metadata": {},
     "output_type": "execute_result"
    }
   ],
   "source": [
    "print modl_name[1]\n",
    "print 'overall accuracy:', accuracy[1]\n",
    "cmats[1]"
   ]
  },
  {
   "cell_type": "code",
   "execution_count": 56,
   "metadata": {
    "collapsed": false
   },
   "outputs": [
    {
     "name": "stdout",
     "output_type": "stream",
     "text": [
      "Lasso alpha 0.01, sklearn, x scaled\n",
      "overall accuracy: 0.589118198874\n"
     ]
    },
    {
     "data": {
      "text/html": [
       "<div>\n",
       "<table border=\"1\" class=\"dataframe\">\n",
       "  <thead>\n",
       "    <tr style=\"text-align: right;\">\n",
       "      <th></th>\n",
       "      <th>P3</th>\n",
       "      <th>P4</th>\n",
       "      <th>P5</th>\n",
       "      <th>P6</th>\n",
       "      <th>P7</th>\n",
       "      <th>P8</th>\n",
       "      <th>Total</th>\n",
       "    </tr>\n",
       "  </thead>\n",
       "  <tbody>\n",
       "    <tr>\n",
       "      <th>A3</th>\n",
       "      <td>0</td>\n",
       "      <td>1</td>\n",
       "      <td>8</td>\n",
       "      <td>1</td>\n",
       "      <td>0</td>\n",
       "      <td>0</td>\n",
       "      <td>10</td>\n",
       "    </tr>\n",
       "    <tr>\n",
       "      <th>A4</th>\n",
       "      <td>0</td>\n",
       "      <td>0</td>\n",
       "      <td>32</td>\n",
       "      <td>21</td>\n",
       "      <td>0</td>\n",
       "      <td>0</td>\n",
       "      <td>53</td>\n",
       "    </tr>\n",
       "    <tr>\n",
       "      <th>A5</th>\n",
       "      <td>0</td>\n",
       "      <td>2</td>\n",
       "      <td>480</td>\n",
       "      <td>197</td>\n",
       "      <td>2</td>\n",
       "      <td>0</td>\n",
       "      <td>681</td>\n",
       "    </tr>\n",
       "    <tr>\n",
       "      <th>A6</th>\n",
       "      <td>0</td>\n",
       "      <td>0</td>\n",
       "      <td>186</td>\n",
       "      <td>434</td>\n",
       "      <td>18</td>\n",
       "      <td>0</td>\n",
       "      <td>638</td>\n",
       "    </tr>\n",
       "    <tr>\n",
       "      <th>A7</th>\n",
       "      <td>0</td>\n",
       "      <td>0</td>\n",
       "      <td>7</td>\n",
       "      <td>164</td>\n",
       "      <td>28</td>\n",
       "      <td>0</td>\n",
       "      <td>199</td>\n",
       "    </tr>\n",
       "    <tr>\n",
       "      <th>A8</th>\n",
       "      <td>0</td>\n",
       "      <td>0</td>\n",
       "      <td>0</td>\n",
       "      <td>12</td>\n",
       "      <td>6</td>\n",
       "      <td>0</td>\n",
       "      <td>18</td>\n",
       "    </tr>\n",
       "  </tbody>\n",
       "</table>\n",
       "</div>"
      ],
      "text/plain": [
       "    P3  P4   P5   P6  P7  P8  Total\n",
       "A3   0   1    8    1   0   0     10\n",
       "A4   0   0   32   21   0   0     53\n",
       "A5   0   2  480  197   2   0    681\n",
       "A6   0   0  186  434  18   0    638\n",
       "A7   0   0    7  164  28   0    199\n",
       "A8   0   0    0   12   6   0     18"
      ]
     },
     "execution_count": 56,
     "metadata": {},
     "output_type": "execute_result"
    }
   ],
   "source": [
    "print modl_name[4]\n",
    "print 'overall accuracy:', accuracy[4]\n",
    "cmats[4]"
   ]
  },
  {
   "cell_type": "code",
   "execution_count": 57,
   "metadata": {
    "collapsed": false
   },
   "outputs": [
    {
     "name": "stdout",
     "output_type": "stream",
     "text": [
      "Gradient Descent, from scratch, x scaled\n",
      "overall accuracy: 0.591619762351\n"
     ]
    },
    {
     "data": {
      "text/html": [
       "<div>\n",
       "<table border=\"1\" class=\"dataframe\">\n",
       "  <thead>\n",
       "    <tr style=\"text-align: right;\">\n",
       "      <th></th>\n",
       "      <th>P3</th>\n",
       "      <th>P4</th>\n",
       "      <th>P5</th>\n",
       "      <th>P6</th>\n",
       "      <th>P7</th>\n",
       "      <th>P8</th>\n",
       "      <th>Total</th>\n",
       "    </tr>\n",
       "  </thead>\n",
       "  <tbody>\n",
       "    <tr>\n",
       "      <th>A3</th>\n",
       "      <td>0</td>\n",
       "      <td>1</td>\n",
       "      <td>8</td>\n",
       "      <td>1</td>\n",
       "      <td>0</td>\n",
       "      <td>0</td>\n",
       "      <td>10</td>\n",
       "    </tr>\n",
       "    <tr>\n",
       "      <th>A4</th>\n",
       "      <td>0</td>\n",
       "      <td>1</td>\n",
       "      <td>34</td>\n",
       "      <td>18</td>\n",
       "      <td>0</td>\n",
       "      <td>0</td>\n",
       "      <td>53</td>\n",
       "    </tr>\n",
       "    <tr>\n",
       "      <th>A5</th>\n",
       "      <td>0</td>\n",
       "      <td>3</td>\n",
       "      <td>477</td>\n",
       "      <td>197</td>\n",
       "      <td>4</td>\n",
       "      <td>0</td>\n",
       "      <td>681</td>\n",
       "    </tr>\n",
       "    <tr>\n",
       "      <th>A6</th>\n",
       "      <td>0</td>\n",
       "      <td>0</td>\n",
       "      <td>183</td>\n",
       "      <td>428</td>\n",
       "      <td>27</td>\n",
       "      <td>0</td>\n",
       "      <td>638</td>\n",
       "    </tr>\n",
       "    <tr>\n",
       "      <th>A7</th>\n",
       "      <td>0</td>\n",
       "      <td>0</td>\n",
       "      <td>7</td>\n",
       "      <td>152</td>\n",
       "      <td>40</td>\n",
       "      <td>0</td>\n",
       "      <td>199</td>\n",
       "    </tr>\n",
       "    <tr>\n",
       "      <th>A8</th>\n",
       "      <td>0</td>\n",
       "      <td>0</td>\n",
       "      <td>0</td>\n",
       "      <td>11</td>\n",
       "      <td>7</td>\n",
       "      <td>0</td>\n",
       "      <td>18</td>\n",
       "    </tr>\n",
       "  </tbody>\n",
       "</table>\n",
       "</div>"
      ],
      "text/plain": [
       "    P3  P4   P5   P6  P7  P8  Total\n",
       "A3   0   1    8    1   0   0     10\n",
       "A4   0   1   34   18   0   0     53\n",
       "A5   0   3  477  197   4   0    681\n",
       "A6   0   0  183  428  27   0    638\n",
       "A7   0   0    7  152  40   0    199\n",
       "A8   0   0    0   11   7   0     18"
      ]
     },
     "execution_count": 57,
     "metadata": {},
     "output_type": "execute_result"
    }
   ],
   "source": [
    "print modl_name[5]\n",
    "print 'overall accuracy:', accuracy[5]\n",
    "cmats[5]"
   ]
  },
  {
   "cell_type": "code",
   "execution_count": 58,
   "metadata": {
    "collapsed": false
   },
   "outputs": [
    {
     "name": "stdout",
     "output_type": "stream",
     "text": [
      "Gradient Descent, sklearn, x scaled\n",
      "overall accuracy: 0.590994371482\n"
     ]
    },
    {
     "data": {
      "text/html": [
       "<div>\n",
       "<table border=\"1\" class=\"dataframe\">\n",
       "  <thead>\n",
       "    <tr style=\"text-align: right;\">\n",
       "      <th></th>\n",
       "      <th>P3</th>\n",
       "      <th>P4</th>\n",
       "      <th>P5</th>\n",
       "      <th>P6</th>\n",
       "      <th>P7</th>\n",
       "      <th>P8</th>\n",
       "      <th>Total</th>\n",
       "    </tr>\n",
       "  </thead>\n",
       "  <tbody>\n",
       "    <tr>\n",
       "      <th>A3</th>\n",
       "      <td>0</td>\n",
       "      <td>1</td>\n",
       "      <td>8</td>\n",
       "      <td>1</td>\n",
       "      <td>0</td>\n",
       "      <td>0</td>\n",
       "      <td>10</td>\n",
       "    </tr>\n",
       "    <tr>\n",
       "      <th>A4</th>\n",
       "      <td>0</td>\n",
       "      <td>1</td>\n",
       "      <td>32</td>\n",
       "      <td>20</td>\n",
       "      <td>0</td>\n",
       "      <td>0</td>\n",
       "      <td>53</td>\n",
       "    </tr>\n",
       "    <tr>\n",
       "      <th>A5</th>\n",
       "      <td>0</td>\n",
       "      <td>3</td>\n",
       "      <td>485</td>\n",
       "      <td>190</td>\n",
       "      <td>3</td>\n",
       "      <td>0</td>\n",
       "      <td>681</td>\n",
       "    </tr>\n",
       "    <tr>\n",
       "      <th>A6</th>\n",
       "      <td>0</td>\n",
       "      <td>0</td>\n",
       "      <td>195</td>\n",
       "      <td>417</td>\n",
       "      <td>26</td>\n",
       "      <td>0</td>\n",
       "      <td>638</td>\n",
       "    </tr>\n",
       "    <tr>\n",
       "      <th>A7</th>\n",
       "      <td>0</td>\n",
       "      <td>0</td>\n",
       "      <td>8</td>\n",
       "      <td>149</td>\n",
       "      <td>42</td>\n",
       "      <td>0</td>\n",
       "      <td>199</td>\n",
       "    </tr>\n",
       "    <tr>\n",
       "      <th>A8</th>\n",
       "      <td>0</td>\n",
       "      <td>0</td>\n",
       "      <td>0</td>\n",
       "      <td>11</td>\n",
       "      <td>7</td>\n",
       "      <td>0</td>\n",
       "      <td>18</td>\n",
       "    </tr>\n",
       "  </tbody>\n",
       "</table>\n",
       "</div>"
      ],
      "text/plain": [
       "    P3  P4   P5   P6  P7  P8  Total\n",
       "A3   0   1    8    1   0   0     10\n",
       "A4   0   1   32   20   0   0     53\n",
       "A5   0   3  485  190   3   0    681\n",
       "A6   0   0  195  417  26   0    638\n",
       "A7   0   0    8  149  42   0    199\n",
       "A8   0   0    0   11   7   0     18"
      ]
     },
     "execution_count": 58,
     "metadata": {},
     "output_type": "execute_result"
    }
   ],
   "source": [
    "print modl_name[6]\n",
    "print 'overall accuracy:', accuracy[6]\n",
    "cmats[6]"
   ]
  },
  {
   "cell_type": "code",
   "execution_count": 59,
   "metadata": {
    "collapsed": false
   },
   "outputs": [
    {
     "name": "stdout",
     "output_type": "stream",
     "text": [
      "Gradient Descent 7 features, from scratch, x scaled\n",
      "overall accuracy: 0.59287054409\n"
     ]
    },
    {
     "data": {
      "text/html": [
       "<div>\n",
       "<table border=\"1\" class=\"dataframe\">\n",
       "  <thead>\n",
       "    <tr style=\"text-align: right;\">\n",
       "      <th></th>\n",
       "      <th>P3</th>\n",
       "      <th>P4</th>\n",
       "      <th>P5</th>\n",
       "      <th>P6</th>\n",
       "      <th>P7</th>\n",
       "      <th>P8</th>\n",
       "      <th>Total</th>\n",
       "    </tr>\n",
       "  </thead>\n",
       "  <tbody>\n",
       "    <tr>\n",
       "      <th>A3</th>\n",
       "      <td>0</td>\n",
       "      <td>1</td>\n",
       "      <td>8</td>\n",
       "      <td>1</td>\n",
       "      <td>0</td>\n",
       "      <td>0</td>\n",
       "      <td>10</td>\n",
       "    </tr>\n",
       "    <tr>\n",
       "      <th>A4</th>\n",
       "      <td>0</td>\n",
       "      <td>1</td>\n",
       "      <td>33</td>\n",
       "      <td>19</td>\n",
       "      <td>0</td>\n",
       "      <td>0</td>\n",
       "      <td>53</td>\n",
       "    </tr>\n",
       "    <tr>\n",
       "      <th>A5</th>\n",
       "      <td>0</td>\n",
       "      <td>2</td>\n",
       "      <td>480</td>\n",
       "      <td>195</td>\n",
       "      <td>4</td>\n",
       "      <td>0</td>\n",
       "      <td>681</td>\n",
       "    </tr>\n",
       "    <tr>\n",
       "      <th>A6</th>\n",
       "      <td>0</td>\n",
       "      <td>0</td>\n",
       "      <td>185</td>\n",
       "      <td>426</td>\n",
       "      <td>27</td>\n",
       "      <td>0</td>\n",
       "      <td>638</td>\n",
       "    </tr>\n",
       "    <tr>\n",
       "      <th>A7</th>\n",
       "      <td>0</td>\n",
       "      <td>0</td>\n",
       "      <td>7</td>\n",
       "      <td>151</td>\n",
       "      <td>41</td>\n",
       "      <td>0</td>\n",
       "      <td>199</td>\n",
       "    </tr>\n",
       "    <tr>\n",
       "      <th>A8</th>\n",
       "      <td>0</td>\n",
       "      <td>0</td>\n",
       "      <td>0</td>\n",
       "      <td>10</td>\n",
       "      <td>8</td>\n",
       "      <td>0</td>\n",
       "      <td>18</td>\n",
       "    </tr>\n",
       "  </tbody>\n",
       "</table>\n",
       "</div>"
      ],
      "text/plain": [
       "    P3  P4   P5   P6  P7  P8  Total\n",
       "A3   0   1    8    1   0   0     10\n",
       "A4   0   1   33   19   0   0     53\n",
       "A5   0   2  480  195   4   0    681\n",
       "A6   0   0  185  426  27   0    638\n",
       "A7   0   0    7  151  41   0    199\n",
       "A8   0   0    0   10   8   0     18"
      ]
     },
     "execution_count": 59,
     "metadata": {},
     "output_type": "execute_result"
    }
   ],
   "source": [
    "print modl_name[7]\n",
    "print 'overall accuracy:', accuracy[7]\n",
    "cmats[7]"
   ]
  },
  {
   "cell_type": "code",
   "execution_count": 60,
   "metadata": {
    "collapsed": false
   },
   "outputs": [
    {
     "name": "stdout",
     "output_type": "stream",
     "text": [
      "Gradient Descent 7 features, sklearn, x scaled\n",
      "overall accuracy: 0.589743589744\n"
     ]
    },
    {
     "data": {
      "text/html": [
       "<div>\n",
       "<table border=\"1\" class=\"dataframe\">\n",
       "  <thead>\n",
       "    <tr style=\"text-align: right;\">\n",
       "      <th></th>\n",
       "      <th>P3</th>\n",
       "      <th>P4</th>\n",
       "      <th>P5</th>\n",
       "      <th>P6</th>\n",
       "      <th>P7</th>\n",
       "      <th>P8</th>\n",
       "      <th>Total</th>\n",
       "    </tr>\n",
       "  </thead>\n",
       "  <tbody>\n",
       "    <tr>\n",
       "      <th>A3</th>\n",
       "      <td>0</td>\n",
       "      <td>1</td>\n",
       "      <td>8</td>\n",
       "      <td>1</td>\n",
       "      <td>0</td>\n",
       "      <td>0</td>\n",
       "      <td>10</td>\n",
       "    </tr>\n",
       "    <tr>\n",
       "      <th>A4</th>\n",
       "      <td>0</td>\n",
       "      <td>1</td>\n",
       "      <td>32</td>\n",
       "      <td>20</td>\n",
       "      <td>0</td>\n",
       "      <td>0</td>\n",
       "      <td>53</td>\n",
       "    </tr>\n",
       "    <tr>\n",
       "      <th>A5</th>\n",
       "      <td>0</td>\n",
       "      <td>3</td>\n",
       "      <td>479</td>\n",
       "      <td>196</td>\n",
       "      <td>3</td>\n",
       "      <td>0</td>\n",
       "      <td>681</td>\n",
       "    </tr>\n",
       "    <tr>\n",
       "      <th>A6</th>\n",
       "      <td>0</td>\n",
       "      <td>0</td>\n",
       "      <td>192</td>\n",
       "      <td>419</td>\n",
       "      <td>27</td>\n",
       "      <td>0</td>\n",
       "      <td>638</td>\n",
       "    </tr>\n",
       "    <tr>\n",
       "      <th>A7</th>\n",
       "      <td>0</td>\n",
       "      <td>0</td>\n",
       "      <td>8</td>\n",
       "      <td>147</td>\n",
       "      <td>44</td>\n",
       "      <td>0</td>\n",
       "      <td>199</td>\n",
       "    </tr>\n",
       "    <tr>\n",
       "      <th>A8</th>\n",
       "      <td>0</td>\n",
       "      <td>0</td>\n",
       "      <td>0</td>\n",
       "      <td>11</td>\n",
       "      <td>7</td>\n",
       "      <td>0</td>\n",
       "      <td>18</td>\n",
       "    </tr>\n",
       "  </tbody>\n",
       "</table>\n",
       "</div>"
      ],
      "text/plain": [
       "    P3  P4   P5   P6  P7  P8  Total\n",
       "A3   0   1    8    1   0   0     10\n",
       "A4   0   1   32   20   0   0     53\n",
       "A5   0   3  479  196   3   0    681\n",
       "A6   0   0  192  419  27   0    638\n",
       "A7   0   0    8  147  44   0    199\n",
       "A8   0   0    0   11   7   0     18"
      ]
     },
     "execution_count": 60,
     "metadata": {},
     "output_type": "execute_result"
    }
   ],
   "source": [
    "print modl_name[8]\n",
    "print 'overall accuracy:', accuracy[8]\n",
    "cmats[8]"
   ]
  },
  {
   "cell_type": "code",
   "execution_count": 61,
   "metadata": {
    "collapsed": false
   },
   "outputs": [
    {
     "name": "stdout",
     "output_type": "stream",
     "text": [
      "Ridge alpha .0001, from scratch, x scaled\n",
      "overall accuracy: 0.591619762351\n"
     ]
    },
    {
     "data": {
      "text/html": [
       "<div>\n",
       "<table border=\"1\" class=\"dataframe\">\n",
       "  <thead>\n",
       "    <tr style=\"text-align: right;\">\n",
       "      <th></th>\n",
       "      <th>P3</th>\n",
       "      <th>P4</th>\n",
       "      <th>P5</th>\n",
       "      <th>P6</th>\n",
       "      <th>P7</th>\n",
       "      <th>P8</th>\n",
       "      <th>Total</th>\n",
       "    </tr>\n",
       "  </thead>\n",
       "  <tbody>\n",
       "    <tr>\n",
       "      <th>A3</th>\n",
       "      <td>0</td>\n",
       "      <td>1</td>\n",
       "      <td>8</td>\n",
       "      <td>1</td>\n",
       "      <td>0</td>\n",
       "      <td>0</td>\n",
       "      <td>10</td>\n",
       "    </tr>\n",
       "    <tr>\n",
       "      <th>A4</th>\n",
       "      <td>0</td>\n",
       "      <td>1</td>\n",
       "      <td>34</td>\n",
       "      <td>18</td>\n",
       "      <td>0</td>\n",
       "      <td>0</td>\n",
       "      <td>53</td>\n",
       "    </tr>\n",
       "    <tr>\n",
       "      <th>A5</th>\n",
       "      <td>0</td>\n",
       "      <td>3</td>\n",
       "      <td>477</td>\n",
       "      <td>197</td>\n",
       "      <td>4</td>\n",
       "      <td>0</td>\n",
       "      <td>681</td>\n",
       "    </tr>\n",
       "    <tr>\n",
       "      <th>A6</th>\n",
       "      <td>0</td>\n",
       "      <td>0</td>\n",
       "      <td>183</td>\n",
       "      <td>428</td>\n",
       "      <td>27</td>\n",
       "      <td>0</td>\n",
       "      <td>638</td>\n",
       "    </tr>\n",
       "    <tr>\n",
       "      <th>A7</th>\n",
       "      <td>0</td>\n",
       "      <td>0</td>\n",
       "      <td>7</td>\n",
       "      <td>152</td>\n",
       "      <td>40</td>\n",
       "      <td>0</td>\n",
       "      <td>199</td>\n",
       "    </tr>\n",
       "    <tr>\n",
       "      <th>A8</th>\n",
       "      <td>0</td>\n",
       "      <td>0</td>\n",
       "      <td>0</td>\n",
       "      <td>11</td>\n",
       "      <td>7</td>\n",
       "      <td>0</td>\n",
       "      <td>18</td>\n",
       "    </tr>\n",
       "  </tbody>\n",
       "</table>\n",
       "</div>"
      ],
      "text/plain": [
       "    P3  P4   P5   P6  P7  P8  Total\n",
       "A3   0   1    8    1   0   0     10\n",
       "A4   0   1   34   18   0   0     53\n",
       "A5   0   3  477  197   4   0    681\n",
       "A6   0   0  183  428  27   0    638\n",
       "A7   0   0    7  152  40   0    199\n",
       "A8   0   0    0   11   7   0     18"
      ]
     },
     "execution_count": 61,
     "metadata": {},
     "output_type": "execute_result"
    }
   ],
   "source": [
    "print modl_name[9]\n",
    "print 'overall accuracy:', accuracy[9]\n",
    "cmats[9]"
   ]
  },
  {
   "cell_type": "code",
   "execution_count": 62,
   "metadata": {
    "collapsed": false
   },
   "outputs": [
    {
     "name": "stdout",
     "output_type": "stream",
     "text": [
      "Ridge alpha 1, sklearn\n",
      "overall accuracy: 0.587867417136\n"
     ]
    },
    {
     "data": {
      "text/html": [
       "<div>\n",
       "<table border=\"1\" class=\"dataframe\">\n",
       "  <thead>\n",
       "    <tr style=\"text-align: right;\">\n",
       "      <th></th>\n",
       "      <th>P3</th>\n",
       "      <th>P4</th>\n",
       "      <th>P5</th>\n",
       "      <th>P6</th>\n",
       "      <th>P7</th>\n",
       "      <th>P8</th>\n",
       "      <th>Total</th>\n",
       "    </tr>\n",
       "  </thead>\n",
       "  <tbody>\n",
       "    <tr>\n",
       "      <th>A3</th>\n",
       "      <td>0</td>\n",
       "      <td>1</td>\n",
       "      <td>8</td>\n",
       "      <td>1</td>\n",
       "      <td>0</td>\n",
       "      <td>0</td>\n",
       "      <td>10</td>\n",
       "    </tr>\n",
       "    <tr>\n",
       "      <th>A4</th>\n",
       "      <td>0</td>\n",
       "      <td>1</td>\n",
       "      <td>33</td>\n",
       "      <td>19</td>\n",
       "      <td>0</td>\n",
       "      <td>0</td>\n",
       "      <td>53</td>\n",
       "    </tr>\n",
       "    <tr>\n",
       "      <th>A5</th>\n",
       "      <td>0</td>\n",
       "      <td>3</td>\n",
       "      <td>479</td>\n",
       "      <td>196</td>\n",
       "      <td>2</td>\n",
       "      <td>1</td>\n",
       "      <td>681</td>\n",
       "    </tr>\n",
       "    <tr>\n",
       "      <th>A6</th>\n",
       "      <td>0</td>\n",
       "      <td>0</td>\n",
       "      <td>187</td>\n",
       "      <td>429</td>\n",
       "      <td>22</td>\n",
       "      <td>0</td>\n",
       "      <td>638</td>\n",
       "    </tr>\n",
       "    <tr>\n",
       "      <th>A7</th>\n",
       "      <td>0</td>\n",
       "      <td>0</td>\n",
       "      <td>6</td>\n",
       "      <td>162</td>\n",
       "      <td>31</td>\n",
       "      <td>0</td>\n",
       "      <td>199</td>\n",
       "    </tr>\n",
       "    <tr>\n",
       "      <th>A8</th>\n",
       "      <td>0</td>\n",
       "      <td>0</td>\n",
       "      <td>0</td>\n",
       "      <td>12</td>\n",
       "      <td>6</td>\n",
       "      <td>0</td>\n",
       "      <td>18</td>\n",
       "    </tr>\n",
       "  </tbody>\n",
       "</table>\n",
       "</div>"
      ],
      "text/plain": [
       "    P3  P4   P5   P6  P7  P8  Total\n",
       "A3   0   1    8    1   0   0     10\n",
       "A4   0   1   33   19   0   0     53\n",
       "A5   0   3  479  196   2   1    681\n",
       "A6   0   0  187  429  22   0    638\n",
       "A7   0   0    6  162  31   0    199\n",
       "A8   0   0    0   12   6   0     18"
      ]
     },
     "execution_count": 62,
     "metadata": {},
     "output_type": "execute_result"
    }
   ],
   "source": [
    "print modl_name[10]\n",
    "print 'overall accuracy:', accuracy[10]\n",
    "cmats[10]"
   ]
  },
  {
   "cell_type": "code",
   "execution_count": null,
   "metadata": {
    "collapsed": true
   },
   "outputs": [],
   "source": []
  }
 ],
 "metadata": {
  "kernelspec": {
   "display_name": "Python 2",
   "language": "python",
   "name": "python2"
  },
  "language_info": {
   "codemirror_mode": {
    "name": "ipython",
    "version": 2
   },
   "file_extension": ".py",
   "mimetype": "text/x-python",
   "name": "python",
   "nbconvert_exporter": "python",
   "pygments_lexer": "ipython2",
   "version": "2.7.12"
  }
 },
 "nbformat": 4,
 "nbformat_minor": 0
}
