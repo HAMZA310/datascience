{
 "cells": [
  {
   "cell_type": "markdown",
   "metadata": {},
   "source": [
    "# Predicting Wine Taste Quality"
   ]
  },
  {
   "cell_type": "markdown",
   "metadata": {},
   "source": [
    "# Scenario 3: Only Outliers on 6 Stepwise Features Removed"
   ]
  },
  {
   "cell_type": "markdown",
   "metadata": {},
   "source": [
    "### This is a supplemental notebook for alternate code results, and is not a complete version of the project. For the complete version, see Wine_Taste_Quality.ipynb"
   ]
  },
  {
   "cell_type": "markdown",
   "metadata": {},
   "source": [
    "Importing Modules"
   ]
  },
  {
   "cell_type": "code",
   "execution_count": 1,
   "metadata": {
    "collapsed": true
   },
   "outputs": [],
   "source": [
    "from __future__ import division\n",
    "import pandas as pd\n",
    "import numpy as np\n",
    "import matplotlib.pyplot as plt\n",
    "from pylab import *\n",
    "from sklearn.cross_validation import cross_val_predict\n",
    "from sklearn.preprocessing import StandardScaler\n",
    "from sklearn.linear_model import LinearRegression\n",
    "from sklearn.linear_model import SGDRegressor\n",
    "import statsmodels.api as sm\n",
    "from functools import partial\n",
    "%matplotlib inline"
   ]
  },
  {
   "cell_type": "markdown",
   "metadata": {},
   "source": [
    "Functions"
   ]
  },
  {
   "cell_type": "code",
   "execution_count": 2,
   "metadata": {
    "collapsed": true
   },
   "outputs": [],
   "source": [
    "def predict(x_i, beta):\n",
    "    return np.dot(x_i, beta)\n",
    "\n",
    "def regr_error(x_i, y_i, beta):\n",
    "    return y_i - predict(x_i, beta)\n",
    "\n",
    "def calc_pred_vals(list_of_rows, list_of_betas, intercept=0):\n",
    "    pred_vals = []\n",
    "    for i in range(len(list_of_rows)):\n",
    "        pred_val = intercept + predict(list_of_rows[i], list_of_betas)\n",
    "        pred_vals.append(pred_val)\n",
    "    return pred_vals\n",
    "\n",
    "# rmse calculation\n",
    "def calc_rmse(preds, target):\n",
    "    errors, squared_error = [], []\n",
    "    for i in range(len(target)):\n",
    "        errors.append(target[i] - preds[i])\n",
    "    for error in errors:\n",
    "        squared_error.append(error**2)\n",
    "    mse = sum(squared_error)/len(squared_error)\n",
    "    rmse = np.sqrt(mse)\n",
    "    return rmse\n",
    "\n",
    "# convert continous values to discrete\n",
    "def round_prediction(predicted_values):\n",
    "    preds = []\n",
    "    for i in range(len(predicted_values)):\n",
    "        pred_val = predicted_values[i]\n",
    "        if pred_val < 0.5: preds.append(0)\n",
    "        elif pred_val >= 0.5 and pred_val < 1.5: preds.append(1)\n",
    "        elif pred_val >= 1.5 and pred_val < 2.5: preds.append(2)\n",
    "        elif pred_val >= 2.5 and pred_val < 3.5: preds.append(3)\n",
    "        elif pred_val >= 3.5 and pred_val < 4.5: preds.append(4)\n",
    "        elif pred_val >= 4.5 and pred_val < 5.5: preds.append(5)\n",
    "        elif pred_val >= 5.5 and pred_val < 6.5: preds.append(6)\n",
    "        elif pred_val >= 6.5 and pred_val < 7.5: preds.append(7)\n",
    "        elif pred_val >= 7.5 and pred_val < 8.5: preds.append(8)\n",
    "        elif pred_val >= 8.5 and pred_val < 9.5: preds.append(9)\n",
    "        elif pred_val >= 9.5: preds.append(10)\n",
    "        else: print 'check predicted value'\n",
    "    return preds\n",
    "\n",
    "#return a list of list of confusion matrix entries\n",
    "def confusion_entries(num_rows, preds, targets):\n",
    "    A = [[0 for j in range(num_rows)] for i in range(num_rows)]\n",
    "    #outer loop iterates through each target and prediction \n",
    "    for i in range(len(targets)): \n",
    "        pred, target = preds[i], targets[i]\n",
    "        #inner loop iterates through each cell in the confusion matrix\n",
    "        for j in range(num_rows): \n",
    "            for k in range(num_rows):\n",
    "                #there will be one match in each inner iteration\n",
    "                if target==j and pred==k: \n",
    "                    #increment value in cell when match is found\n",
    "                    A[j][k] += 1  \n",
    "    return A\n",
    "\n",
    "# create dataframe for model coefficients\n",
    "def make_df(betas, attributes, ix, intercept=0):\n",
    "    new_beta_list, new_columns = [], []\n",
    "    new_columns.append('intercept')\n",
    "    new_beta_list.append(round(intercept, 5))\n",
    "    for i in range(len(betas)):\n",
    "        new_columns.append(attributes[i])\n",
    "        beta = betas[i]\n",
    "        new_beta_list.append(round(beta, 5))\n",
    "    new_df = pd.DataFrame(new_beta_list, index=new_columns, columns=ix).T\n",
    "    return new_df\n",
    "\n",
    "# return requested columns of dataset - used in stepwise algorithm\n",
    "def x_features_cols(dataset, features):\n",
    "    x_out = []\n",
    "    for row in dataset:\n",
    "        x_out.append([row[i] for i in features])\n",
    "    return(x_out)\n",
    "\n",
    "# scale a row of features' values given as input for a predicted value\n",
    "# receive 3 lists (row of inputs, original means & stds for each feature)\n",
    "def scale_vals(row, orig_mean, orig_std):\n",
    "    scaled_row = []\n",
    "    for i in range(len(row)):\n",
    "        scaled_value = (row[i] - orig_mean[i]) / orig_std[i]\n",
    "        scaled_row.append(scaled_value)\n",
    "    return scaled_row\n",
    "\n",
    "#used in minimization function\n",
    "def in_random_order(data):    \n",
    "    indexes = [i for i, _ in enumerate(data)]\n",
    "    random.shuffle(indexes)\n",
    "    for i in indexes: \n",
    "        yield data[i]"
   ]
  },
  {
   "cell_type": "markdown",
   "metadata": {},
   "source": [
    "Functions (cont'd)"
   ]
  },
  {
   "cell_type": "code",
   "execution_count": 3,
   "metadata": {
    "collapsed": true
   },
   "outputs": [],
   "source": [
    "def model_details(name, preds, betas, intercept, feat_seq, targets, calc_acc=True):\n",
    "    \n",
    "    model_name = []     \n",
    "    model_name.append(name) # name must be in list format; df col gets transformed to index\n",
    "    modl_name.append(name) # global variable\n",
    "    \n",
    "    # store rms error\n",
    "    rms_error = calc_rmse(preds, targets)\n",
    "    rmse.append(rms_error)\n",
    "    \n",
    "    # store dataframe of model's beta coefficients \n",
    "    df_coeff = make_df(betas, feat_seq, model_name, intercept)\n",
    "    df_beta_coefs.append(df_coeff) \n",
    "    \n",
    "    # calculate accuracy & store confusion matrix, unless labels are scaled\n",
    "    if calc_acc:\n",
    "        actual_ix = ['A0', 'A1', 'A2', 'A3', 'A4', 'A5', 'A6', 'A7', 'A8', 'A9', 'A10']\n",
    "        pred_ix = ['P0', 'P1', 'P2', 'P3', 'P4', 'P5', 'P6', 'P7', 'P8', 'P9', 'P10']\n",
    "        rounded_preds = round_prediction(preds)\n",
    "        con_mat = confusion_entries(len(pred_ix), rounded_preds, targets)\n",
    "        cmat = pd.DataFrame(con_mat, index=actual_ix, columns=pred_ix)\n",
    "        #delete columns with no results, eg, taste quality: 0, 1, 2, 9 & 10 are zero\n",
    "        del cmat['P0']; del cmat['P1']; del cmat['P2']; del cmat['P9']; del cmat['P10']\n",
    "        cmat = cmat.ix[3:] # delete rows 0, 1 & 2\n",
    "        cmat = cmat.ix[:6] # delete last 2 rows\n",
    "        #add column for row total\n",
    "        cmat['Total']=cmat['P3']+cmat['P4']+cmat['P5']+cmat['P6']+cmat['P7']+cmat['P8']\n",
    "        #denominator should equal total number of rows in dataset)\n",
    "        sum_total = cmat['Total'].sum()\n",
    "        # add along diagonal for true positives (numerator) \n",
    "        tp = cmat.iloc[0]['P3']+cmat.iloc[1]['P4']+cmat.iloc[2]['P5']+cmat.iloc[3]['P6'] +\\\n",
    "        cmat.iloc[4]['P7'] + cmat.iloc[5]['P8']\n",
    "        acc = tp / sum_total  # accuracy is true positives divided by the sum total\n",
    "        cmats.append(cmat)\n",
    "        cmat_sum.append(sum_total)\n",
    "        accuracy.append(acc)        \n",
    "    else:\n",
    "        cmats.append('n/a, labels are scaled')\n",
    "        cmat_sum.append('n/a, labels are scaled')\n",
    "        accuracy.append('n/a, labels are scaled')"
   ]
  },
  {
   "cell_type": "markdown",
   "metadata": {},
   "source": [
    "Load Dataset into DataFrame"
   ]
  },
  {
   "cell_type": "code",
   "execution_count": 4,
   "metadata": {
    "collapsed": false
   },
   "outputs": [
    {
     "name": "stdout",
     "output_type": "stream",
     "text": [
      "df.shape (1599, 12)\n"
     ]
    },
    {
     "data": {
      "text/html": [
       "<div>\n",
       "<table border=\"1\" class=\"dataframe\">\n",
       "  <thead>\n",
       "    <tr style=\"text-align: right;\">\n",
       "      <th></th>\n",
       "      <th>fixed acidity</th>\n",
       "      <th>volatile acidity</th>\n",
       "      <th>citric acid</th>\n",
       "      <th>residual sugar</th>\n",
       "      <th>chlorides</th>\n",
       "      <th>free sulfur dioxide</th>\n",
       "      <th>total sulfur dioxide</th>\n",
       "      <th>density</th>\n",
       "      <th>pH</th>\n",
       "      <th>sulphates</th>\n",
       "      <th>alcohol</th>\n",
       "      <th>quality</th>\n",
       "    </tr>\n",
       "  </thead>\n",
       "  <tbody>\n",
       "    <tr>\n",
       "      <th>0</th>\n",
       "      <td>7.4</td>\n",
       "      <td>0.70</td>\n",
       "      <td>0.00</td>\n",
       "      <td>1.9</td>\n",
       "      <td>0.076</td>\n",
       "      <td>11.0</td>\n",
       "      <td>34.0</td>\n",
       "      <td>0.9978</td>\n",
       "      <td>3.51</td>\n",
       "      <td>0.56</td>\n",
       "      <td>9.4</td>\n",
       "      <td>5</td>\n",
       "    </tr>\n",
       "    <tr>\n",
       "      <th>1</th>\n",
       "      <td>7.8</td>\n",
       "      <td>0.88</td>\n",
       "      <td>0.00</td>\n",
       "      <td>2.6</td>\n",
       "      <td>0.098</td>\n",
       "      <td>25.0</td>\n",
       "      <td>67.0</td>\n",
       "      <td>0.9968</td>\n",
       "      <td>3.20</td>\n",
       "      <td>0.68</td>\n",
       "      <td>9.8</td>\n",
       "      <td>5</td>\n",
       "    </tr>\n",
       "    <tr>\n",
       "      <th>2</th>\n",
       "      <td>7.8</td>\n",
       "      <td>0.76</td>\n",
       "      <td>0.04</td>\n",
       "      <td>2.3</td>\n",
       "      <td>0.092</td>\n",
       "      <td>15.0</td>\n",
       "      <td>54.0</td>\n",
       "      <td>0.9970</td>\n",
       "      <td>3.26</td>\n",
       "      <td>0.65</td>\n",
       "      <td>9.8</td>\n",
       "      <td>5</td>\n",
       "    </tr>\n",
       "    <tr>\n",
       "      <th>3</th>\n",
       "      <td>11.2</td>\n",
       "      <td>0.28</td>\n",
       "      <td>0.56</td>\n",
       "      <td>1.9</td>\n",
       "      <td>0.075</td>\n",
       "      <td>17.0</td>\n",
       "      <td>60.0</td>\n",
       "      <td>0.9980</td>\n",
       "      <td>3.16</td>\n",
       "      <td>0.58</td>\n",
       "      <td>9.8</td>\n",
       "      <td>6</td>\n",
       "    </tr>\n",
       "    <tr>\n",
       "      <th>4</th>\n",
       "      <td>7.4</td>\n",
       "      <td>0.70</td>\n",
       "      <td>0.00</td>\n",
       "      <td>1.9</td>\n",
       "      <td>0.076</td>\n",
       "      <td>11.0</td>\n",
       "      <td>34.0</td>\n",
       "      <td>0.9978</td>\n",
       "      <td>3.51</td>\n",
       "      <td>0.56</td>\n",
       "      <td>9.4</td>\n",
       "      <td>5</td>\n",
       "    </tr>\n",
       "  </tbody>\n",
       "</table>\n",
       "</div>"
      ],
      "text/plain": [
       "   fixed acidity  volatile acidity  citric acid  residual sugar  chlorides  \\\n",
       "0            7.4              0.70         0.00             1.9      0.076   \n",
       "1            7.8              0.88         0.00             2.6      0.098   \n",
       "2            7.8              0.76         0.04             2.3      0.092   \n",
       "3           11.2              0.28         0.56             1.9      0.075   \n",
       "4            7.4              0.70         0.00             1.9      0.076   \n",
       "\n",
       "   free sulfur dioxide  total sulfur dioxide  density    pH  sulphates  \\\n",
       "0                 11.0                  34.0   0.9978  3.51       0.56   \n",
       "1                 25.0                  67.0   0.9968  3.20       0.68   \n",
       "2                 15.0                  54.0   0.9970  3.26       0.65   \n",
       "3                 17.0                  60.0   0.9980  3.16       0.58   \n",
       "4                 11.0                  34.0   0.9978  3.51       0.56   \n",
       "\n",
       "   alcohol  quality  \n",
       "0      9.4        5  \n",
       "1      9.8        5  \n",
       "2      9.8        5  \n",
       "3      9.8        6  \n",
       "4      9.4        5  "
      ]
     },
     "execution_count": 4,
     "metadata": {},
     "output_type": "execute_result"
    }
   ],
   "source": [
    "target_url = (\"http://archive.ics.uci.edu/ml/machine-learning-databases/wine-quality/winequality-red.csv\")\n",
    "df = pd.read_csv(target_url, header=0, sep=\";\")\n",
    "print 'df.shape', df.shape\n",
    "df.head()"
   ]
  },
  {
   "cell_type": "markdown",
   "metadata": {},
   "source": [
    "Rename Columns"
   ]
  },
  {
   "cell_type": "code",
   "execution_count": 5,
   "metadata": {
    "collapsed": false
   },
   "outputs": [
    {
     "data": {
      "text/html": [
       "<div>\n",
       "<table border=\"1\" class=\"dataframe\">\n",
       "  <thead>\n",
       "    <tr style=\"text-align: right;\">\n",
       "      <th></th>\n",
       "      <th>fixed acidity (0)</th>\n",
       "      <th>volatile acidity (1)</th>\n",
       "      <th>citric acid (2)</th>\n",
       "      <th>residual sugar (3)</th>\n",
       "      <th>chlorides (4)</th>\n",
       "      <th>free sulfur dioxide (5)</th>\n",
       "      <th>total sulfur dioxide (6)</th>\n",
       "      <th>density (7)</th>\n",
       "      <th>pH (8)</th>\n",
       "      <th>sulphates (9)</th>\n",
       "      <th>alcohol (10)</th>\n",
       "      <th>target</th>\n",
       "    </tr>\n",
       "  </thead>\n",
       "  <tbody>\n",
       "    <tr>\n",
       "      <th>0</th>\n",
       "      <td>7.4</td>\n",
       "      <td>0.70</td>\n",
       "      <td>0.00</td>\n",
       "      <td>1.9</td>\n",
       "      <td>0.076</td>\n",
       "      <td>11.0</td>\n",
       "      <td>34.0</td>\n",
       "      <td>0.9978</td>\n",
       "      <td>3.51</td>\n",
       "      <td>0.56</td>\n",
       "      <td>9.4</td>\n",
       "      <td>5</td>\n",
       "    </tr>\n",
       "    <tr>\n",
       "      <th>1</th>\n",
       "      <td>7.8</td>\n",
       "      <td>0.88</td>\n",
       "      <td>0.00</td>\n",
       "      <td>2.6</td>\n",
       "      <td>0.098</td>\n",
       "      <td>25.0</td>\n",
       "      <td>67.0</td>\n",
       "      <td>0.9968</td>\n",
       "      <td>3.20</td>\n",
       "      <td>0.68</td>\n",
       "      <td>9.8</td>\n",
       "      <td>5</td>\n",
       "    </tr>\n",
       "    <tr>\n",
       "      <th>2</th>\n",
       "      <td>7.8</td>\n",
       "      <td>0.76</td>\n",
       "      <td>0.04</td>\n",
       "      <td>2.3</td>\n",
       "      <td>0.092</td>\n",
       "      <td>15.0</td>\n",
       "      <td>54.0</td>\n",
       "      <td>0.9970</td>\n",
       "      <td>3.26</td>\n",
       "      <td>0.65</td>\n",
       "      <td>9.8</td>\n",
       "      <td>5</td>\n",
       "    </tr>\n",
       "    <tr>\n",
       "      <th>3</th>\n",
       "      <td>11.2</td>\n",
       "      <td>0.28</td>\n",
       "      <td>0.56</td>\n",
       "      <td>1.9</td>\n",
       "      <td>0.075</td>\n",
       "      <td>17.0</td>\n",
       "      <td>60.0</td>\n",
       "      <td>0.9980</td>\n",
       "      <td>3.16</td>\n",
       "      <td>0.58</td>\n",
       "      <td>9.8</td>\n",
       "      <td>6</td>\n",
       "    </tr>\n",
       "    <tr>\n",
       "      <th>4</th>\n",
       "      <td>7.4</td>\n",
       "      <td>0.70</td>\n",
       "      <td>0.00</td>\n",
       "      <td>1.9</td>\n",
       "      <td>0.076</td>\n",
       "      <td>11.0</td>\n",
       "      <td>34.0</td>\n",
       "      <td>0.9978</td>\n",
       "      <td>3.51</td>\n",
       "      <td>0.56</td>\n",
       "      <td>9.4</td>\n",
       "      <td>5</td>\n",
       "    </tr>\n",
       "  </tbody>\n",
       "</table>\n",
       "</div>"
      ],
      "text/plain": [
       "   fixed acidity (0)  volatile acidity (1)  citric acid (2)  \\\n",
       "0                7.4                  0.70             0.00   \n",
       "1                7.8                  0.88             0.00   \n",
       "2                7.8                  0.76             0.04   \n",
       "3               11.2                  0.28             0.56   \n",
       "4                7.4                  0.70             0.00   \n",
       "\n",
       "   residual sugar (3)  chlorides (4)  free sulfur dioxide (5)  \\\n",
       "0                 1.9          0.076                     11.0   \n",
       "1                 2.6          0.098                     25.0   \n",
       "2                 2.3          0.092                     15.0   \n",
       "3                 1.9          0.075                     17.0   \n",
       "4                 1.9          0.076                     11.0   \n",
       "\n",
       "   total sulfur dioxide (6)  density (7)  pH (8)  sulphates (9)  alcohol (10)  \\\n",
       "0                      34.0       0.9978    3.51           0.56           9.4   \n",
       "1                      67.0       0.9968    3.20           0.68           9.8   \n",
       "2                      54.0       0.9970    3.26           0.65           9.8   \n",
       "3                      60.0       0.9980    3.16           0.58           9.8   \n",
       "4                      34.0       0.9978    3.51           0.56           9.4   \n",
       "\n",
       "   target  \n",
       "0       5  \n",
       "1       5  \n",
       "2       5  \n",
       "3       6  \n",
       "4       5  "
      ]
     },
     "execution_count": 5,
     "metadata": {},
     "output_type": "execute_result"
    }
   ],
   "source": [
    "df.columns = ['fixed acidity (0)', 'volatile acidity (1)', 'citric acid (2)', \n",
    "              'residual sugar (3)', 'chlorides (4)', 'free sulfur dioxide (5)', \n",
    "              'total sulfur dioxide (6)', 'density (7)', 'pH (8)', 'sulphates (9)', \n",
    "              'alcohol (10)', 'target']\n",
    "df.head()"
   ]
  },
  {
   "cell_type": "markdown",
   "metadata": {},
   "source": [
    "Calculating Outliers"
   ]
  },
  {
   "cell_type": "code",
   "execution_count": 7,
   "metadata": {
    "collapsed": false
   },
   "outputs": [],
   "source": [
    "stats = df.describe()\n",
    "limits_upper, limits_lower = [], []\n",
    "max_vals, min_vals = [], [] \n",
    "outliers_upper, outliers_lower = [], []\n",
    "num_upper, num_lower = [], []\n",
    "\n",
    "#loop through features - get data on outliers\n",
    "for i in range(len(stats.columns)-1):\n",
    "    \n",
    "    # set interquartile range\n",
    "    inter_quartile_range = stats.iloc[6,i] - stats.iloc[4,i]\n",
    "    \n",
    "    # upper limits\n",
    "    limit_upper = stats.iloc[6,i] + 1.5 * inter_quartile_range\n",
    "    outliers_upper.append(df.loc[df[df.columns[i]] > limit_upper])\n",
    "    limits_upper.append(limit_upper)\n",
    "    max_vals.append(stats.iloc[7,i])\n",
    "    \n",
    "    # lower limits\n",
    "    limit_lower = stats.iloc[4,i] - 1.5 * inter_quartile_range\n",
    "    outliers_lower.append(df.loc[df[df.columns[i]] < limit_lower])\n",
    "    limits_lower.append(limit_lower)\n",
    "    min_vals.append(stats.iloc[3,i])"
   ]
  },
  {
   "cell_type": "markdown",
   "metadata": {},
   "source": [
    "Upper Outliers"
   ]
  },
  {
   "cell_type": "code",
   "execution_count": 8,
   "metadata": {
    "collapsed": false
   },
   "outputs": [
    {
     "data": {
      "text/html": [
       "<div>\n",
       "<table border=\"1\" class=\"dataframe\">\n",
       "  <thead>\n",
       "    <tr style=\"text-align: right;\">\n",
       "      <th></th>\n",
       "      <th>Feature</th>\n",
       "      <th>Upper Limit</th>\n",
       "      <th>Max Value</th>\n",
       "      <th># Outliers</th>\n",
       "    </tr>\n",
       "  </thead>\n",
       "  <tbody>\n",
       "    <tr>\n",
       "      <th>0</th>\n",
       "      <td>fixed acidity (0)</td>\n",
       "      <td>12.350000</td>\n",
       "      <td>15.90000</td>\n",
       "      <td>49</td>\n",
       "    </tr>\n",
       "    <tr>\n",
       "      <th>1</th>\n",
       "      <td>volatile acidity (1)</td>\n",
       "      <td>1.015000</td>\n",
       "      <td>1.58000</td>\n",
       "      <td>19</td>\n",
       "    </tr>\n",
       "    <tr>\n",
       "      <th>2</th>\n",
       "      <td>citric acid (2)</td>\n",
       "      <td>0.915000</td>\n",
       "      <td>1.00000</td>\n",
       "      <td>1</td>\n",
       "    </tr>\n",
       "    <tr>\n",
       "      <th>3</th>\n",
       "      <td>residual sugar (3)</td>\n",
       "      <td>3.650000</td>\n",
       "      <td>15.50000</td>\n",
       "      <td>155</td>\n",
       "    </tr>\n",
       "    <tr>\n",
       "      <th>4</th>\n",
       "      <td>chlorides (4)</td>\n",
       "      <td>0.120000</td>\n",
       "      <td>0.61100</td>\n",
       "      <td>103</td>\n",
       "    </tr>\n",
       "    <tr>\n",
       "      <th>5</th>\n",
       "      <td>free sulfur dioxide (5)</td>\n",
       "      <td>42.000000</td>\n",
       "      <td>72.00000</td>\n",
       "      <td>30</td>\n",
       "    </tr>\n",
       "    <tr>\n",
       "      <th>6</th>\n",
       "      <td>total sulfur dioxide (6)</td>\n",
       "      <td>122.000000</td>\n",
       "      <td>289.00000</td>\n",
       "      <td>55</td>\n",
       "    </tr>\n",
       "    <tr>\n",
       "      <th>7</th>\n",
       "      <td>density (7)</td>\n",
       "      <td>1.001187</td>\n",
       "      <td>1.00369</td>\n",
       "      <td>24</td>\n",
       "    </tr>\n",
       "    <tr>\n",
       "      <th>8</th>\n",
       "      <td>pH (8)</td>\n",
       "      <td>3.685000</td>\n",
       "      <td>4.01000</td>\n",
       "      <td>21</td>\n",
       "    </tr>\n",
       "    <tr>\n",
       "      <th>9</th>\n",
       "      <td>sulphates (9)</td>\n",
       "      <td>1.000000</td>\n",
       "      <td>2.00000</td>\n",
       "      <td>59</td>\n",
       "    </tr>\n",
       "    <tr>\n",
       "      <th>10</th>\n",
       "      <td>alcohol (10)</td>\n",
       "      <td>13.500000</td>\n",
       "      <td>14.90000</td>\n",
       "      <td>13</td>\n",
       "    </tr>\n",
       "  </tbody>\n",
       "</table>\n",
       "</div>"
      ],
      "text/plain": [
       "                     Feature  Upper Limit  Max Value  # Outliers\n",
       "0          fixed acidity (0)    12.350000   15.90000          49\n",
       "1       volatile acidity (1)     1.015000    1.58000          19\n",
       "2            citric acid (2)     0.915000    1.00000           1\n",
       "3         residual sugar (3)     3.650000   15.50000         155\n",
       "4              chlorides (4)     0.120000    0.61100         103\n",
       "5    free sulfur dioxide (5)    42.000000   72.00000          30\n",
       "6   total sulfur dioxide (6)   122.000000  289.00000          55\n",
       "7                density (7)     1.001187    1.00369          24\n",
       "8                     pH (8)     3.685000    4.01000          21\n",
       "9              sulphates (9)     1.000000    2.00000          59\n",
       "10              alcohol (10)    13.500000   14.90000          13"
      ]
     },
     "execution_count": 8,
     "metadata": {},
     "output_type": "execute_result"
    }
   ],
   "source": [
    "feature_cols = df.columns[0:11]\n",
    "for i in range(len(stats.columns)-1): \n",
    "    num_upper.append(len(outliers_upper[i]))\n",
    "df_out_up = pd.DataFrame(zip(feature_cols, limits_upper, max_vals, num_upper), \n",
    "                         columns = ['Feature', 'Upper Limit', 'Max Value', '# Outliers'])\n",
    "df_out_up"
   ]
  },
  {
   "cell_type": "markdown",
   "metadata": {},
   "source": [
    "Lower Outliers"
   ]
  },
  {
   "cell_type": "code",
   "execution_count": 9,
   "metadata": {
    "collapsed": false
   },
   "outputs": [
    {
     "data": {
      "text/html": [
       "<div>\n",
       "<table border=\"1\" class=\"dataframe\">\n",
       "  <thead>\n",
       "    <tr style=\"text-align: right;\">\n",
       "      <th></th>\n",
       "      <th>Feature</th>\n",
       "      <th>Lower Limit</th>\n",
       "      <th>Min Value</th>\n",
       "      <th># Outliers</th>\n",
       "    </tr>\n",
       "  </thead>\n",
       "  <tbody>\n",
       "    <tr>\n",
       "      <th>0</th>\n",
       "      <td>fixed acidity (0)</td>\n",
       "      <td>3.950000</td>\n",
       "      <td>4.60000</td>\n",
       "      <td>0</td>\n",
       "    </tr>\n",
       "    <tr>\n",
       "      <th>1</th>\n",
       "      <td>volatile acidity (1)</td>\n",
       "      <td>0.015000</td>\n",
       "      <td>0.12000</td>\n",
       "      <td>0</td>\n",
       "    </tr>\n",
       "    <tr>\n",
       "      <th>2</th>\n",
       "      <td>citric acid (2)</td>\n",
       "      <td>-0.405000</td>\n",
       "      <td>0.00000</td>\n",
       "      <td>0</td>\n",
       "    </tr>\n",
       "    <tr>\n",
       "      <th>3</th>\n",
       "      <td>residual sugar (3)</td>\n",
       "      <td>0.850000</td>\n",
       "      <td>0.90000</td>\n",
       "      <td>0</td>\n",
       "    </tr>\n",
       "    <tr>\n",
       "      <th>4</th>\n",
       "      <td>chlorides (4)</td>\n",
       "      <td>0.040000</td>\n",
       "      <td>0.01200</td>\n",
       "      <td>9</td>\n",
       "    </tr>\n",
       "    <tr>\n",
       "      <th>5</th>\n",
       "      <td>free sulfur dioxide (5)</td>\n",
       "      <td>-14.000000</td>\n",
       "      <td>1.00000</td>\n",
       "      <td>0</td>\n",
       "    </tr>\n",
       "    <tr>\n",
       "      <th>6</th>\n",
       "      <td>total sulfur dioxide (6)</td>\n",
       "      <td>-38.000000</td>\n",
       "      <td>6.00000</td>\n",
       "      <td>0</td>\n",
       "    </tr>\n",
       "    <tr>\n",
       "      <th>7</th>\n",
       "      <td>density (7)</td>\n",
       "      <td>0.992248</td>\n",
       "      <td>0.99007</td>\n",
       "      <td>21</td>\n",
       "    </tr>\n",
       "    <tr>\n",
       "      <th>8</th>\n",
       "      <td>pH (8)</td>\n",
       "      <td>2.925000</td>\n",
       "      <td>2.74000</td>\n",
       "      <td>14</td>\n",
       "    </tr>\n",
       "    <tr>\n",
       "      <th>9</th>\n",
       "      <td>sulphates (9)</td>\n",
       "      <td>0.280000</td>\n",
       "      <td>0.33000</td>\n",
       "      <td>0</td>\n",
       "    </tr>\n",
       "    <tr>\n",
       "      <th>10</th>\n",
       "      <td>alcohol (10)</td>\n",
       "      <td>7.100000</td>\n",
       "      <td>8.40000</td>\n",
       "      <td>0</td>\n",
       "    </tr>\n",
       "  </tbody>\n",
       "</table>\n",
       "</div>"
      ],
      "text/plain": [
       "                     Feature  Lower Limit  Min Value  # Outliers\n",
       "0          fixed acidity (0)     3.950000    4.60000           0\n",
       "1       volatile acidity (1)     0.015000    0.12000           0\n",
       "2            citric acid (2)    -0.405000    0.00000           0\n",
       "3         residual sugar (3)     0.850000    0.90000           0\n",
       "4              chlorides (4)     0.040000    0.01200           9\n",
       "5    free sulfur dioxide (5)   -14.000000    1.00000           0\n",
       "6   total sulfur dioxide (6)   -38.000000    6.00000           0\n",
       "7                density (7)     0.992248    0.99007          21\n",
       "8                     pH (8)     2.925000    2.74000          14\n",
       "9              sulphates (9)     0.280000    0.33000           0\n",
       "10              alcohol (10)     7.100000    8.40000           0"
      ]
     },
     "execution_count": 9,
     "metadata": {},
     "output_type": "execute_result"
    }
   ],
   "source": [
    "for i in range(len(stats.columns)-1): \n",
    "    num_lower.append (len(outliers_lower[i]))\n",
    "df_out_low = pd.DataFrame(zip(feature_cols, limits_lower, min_vals, num_lower), \n",
    "                          columns = ['Feature', 'Lower Limit', 'Min Value', '# Outliers'])\n",
    "df_out_low"
   ]
  },
  {
   "cell_type": "markdown",
   "metadata": {},
   "source": [
    "Removing Outliers"
   ]
  },
  {
   "cell_type": "code",
   "execution_count": 11,
   "metadata": {
    "collapsed": false
   },
   "outputs": [
    {
     "name": "stdout",
     "output_type": "stream",
     "text": [
      "df shape (1599, 12)\n",
      "outliers for feature # 0 were not removed\n",
      "outliers for feature # 3 were not removed\n",
      "outliers for feature # 4 were not removed\n",
      "outliers for feature # 5 were not removed\n",
      "outliers for feature # 7 were not removed\n",
      "\n",
      "df shape after removing rows with outliers (1432, 12)\n"
     ]
    }
   ],
   "source": [
    "print 'df shape', df.shape\n",
    "for i in range(len(stats.columns)-1):\n",
    "    if i == 1:    df = df.loc[df[feature_cols[i]] < limits_upper[i]]\n",
    "    elif i == 2:  df = df.loc[df[feature_cols[i]] < limits_upper[i]]\n",
    "    elif i == 6:  df = df.loc[df[feature_cols[i]] < limits_upper[i]]\n",
    "    elif i == 9:  df = df.loc[df[feature_cols[i]] < limits_upper[i]]\n",
    "    elif i == 10: df = df.loc[df[feature_cols[i]] < limits_upper[i]]\n",
    "    elif i == 8:\n",
    "        df = df.loc[df[feature_cols[i]] < limits_upper[i]]\n",
    "        df = df.loc[df[feature_cols[i]] > limits_lower[i]]\n",
    "    else:          print 'outliers for feature #', i, 'were not removed'\n",
    "print '\\ndf shape after removing rows with outliers', df.shape"
   ]
  },
  {
   "cell_type": "markdown",
   "metadata": {},
   "source": [
    "After removing certain rows, dataframe will need to be reindexed in order for some of the models to run correctly.  However, since reindexing may cause some complications, the preferred method is to convert the existing dataframe to a list, then recreate it as a dataframe. "
   ]
  },
  {
   "cell_type": "code",
   "execution_count": 12,
   "metadata": {
    "collapsed": false
   },
   "outputs": [
    {
     "data": {
      "text/html": [
       "<div>\n",
       "<table border=\"1\" class=\"dataframe\">\n",
       "  <thead>\n",
       "    <tr style=\"text-align: right;\">\n",
       "      <th></th>\n",
       "      <th>fixed acidity (0)</th>\n",
       "      <th>volatile acidity (1)</th>\n",
       "      <th>citric acid (2)</th>\n",
       "      <th>residual sugar (3)</th>\n",
       "      <th>chlorides (4)</th>\n",
       "      <th>free sulfur dioxide (5)</th>\n",
       "      <th>total sulfur dioxide (6)</th>\n",
       "      <th>density (7)</th>\n",
       "      <th>pH (8)</th>\n",
       "      <th>sulphates (9)</th>\n",
       "      <th>alcohol (10)</th>\n",
       "      <th>target</th>\n",
       "    </tr>\n",
       "  </thead>\n",
       "  <tbody>\n",
       "    <tr>\n",
       "      <th>1427</th>\n",
       "      <td>6.2</td>\n",
       "      <td>0.600</td>\n",
       "      <td>0.08</td>\n",
       "      <td>2.0</td>\n",
       "      <td>0.090</td>\n",
       "      <td>32.0</td>\n",
       "      <td>44.0</td>\n",
       "      <td>0.99490</td>\n",
       "      <td>3.45</td>\n",
       "      <td>0.58</td>\n",
       "      <td>10.5</td>\n",
       "      <td>5.0</td>\n",
       "    </tr>\n",
       "    <tr>\n",
       "      <th>1428</th>\n",
       "      <td>5.9</td>\n",
       "      <td>0.550</td>\n",
       "      <td>0.10</td>\n",
       "      <td>2.2</td>\n",
       "      <td>0.062</td>\n",
       "      <td>39.0</td>\n",
       "      <td>51.0</td>\n",
       "      <td>0.99512</td>\n",
       "      <td>3.52</td>\n",
       "      <td>0.76</td>\n",
       "      <td>11.2</td>\n",
       "      <td>6.0</td>\n",
       "    </tr>\n",
       "    <tr>\n",
       "      <th>1429</th>\n",
       "      <td>6.3</td>\n",
       "      <td>0.510</td>\n",
       "      <td>0.13</td>\n",
       "      <td>2.3</td>\n",
       "      <td>0.076</td>\n",
       "      <td>29.0</td>\n",
       "      <td>40.0</td>\n",
       "      <td>0.99574</td>\n",
       "      <td>3.42</td>\n",
       "      <td>0.75</td>\n",
       "      <td>11.0</td>\n",
       "      <td>6.0</td>\n",
       "    </tr>\n",
       "    <tr>\n",
       "      <th>1430</th>\n",
       "      <td>5.9</td>\n",
       "      <td>0.645</td>\n",
       "      <td>0.12</td>\n",
       "      <td>2.0</td>\n",
       "      <td>0.075</td>\n",
       "      <td>32.0</td>\n",
       "      <td>44.0</td>\n",
       "      <td>0.99547</td>\n",
       "      <td>3.57</td>\n",
       "      <td>0.71</td>\n",
       "      <td>10.2</td>\n",
       "      <td>5.0</td>\n",
       "    </tr>\n",
       "    <tr>\n",
       "      <th>1431</th>\n",
       "      <td>6.0</td>\n",
       "      <td>0.310</td>\n",
       "      <td>0.47</td>\n",
       "      <td>3.6</td>\n",
       "      <td>0.067</td>\n",
       "      <td>18.0</td>\n",
       "      <td>42.0</td>\n",
       "      <td>0.99549</td>\n",
       "      <td>3.39</td>\n",
       "      <td>0.66</td>\n",
       "      <td>11.0</td>\n",
       "      <td>6.0</td>\n",
       "    </tr>\n",
       "  </tbody>\n",
       "</table>\n",
       "</div>"
      ],
      "text/plain": [
       "      fixed acidity (0)  volatile acidity (1)  citric acid (2)  \\\n",
       "1427                6.2                 0.600             0.08   \n",
       "1428                5.9                 0.550             0.10   \n",
       "1429                6.3                 0.510             0.13   \n",
       "1430                5.9                 0.645             0.12   \n",
       "1431                6.0                 0.310             0.47   \n",
       "\n",
       "      residual sugar (3)  chlorides (4)  free sulfur dioxide (5)  \\\n",
       "1427                 2.0          0.090                     32.0   \n",
       "1428                 2.2          0.062                     39.0   \n",
       "1429                 2.3          0.076                     29.0   \n",
       "1430                 2.0          0.075                     32.0   \n",
       "1431                 3.6          0.067                     18.0   \n",
       "\n",
       "      total sulfur dioxide (6)  density (7)  pH (8)  sulphates (9)  \\\n",
       "1427                      44.0      0.99490    3.45           0.58   \n",
       "1428                      51.0      0.99512    3.52           0.76   \n",
       "1429                      40.0      0.99574    3.42           0.75   \n",
       "1430                      44.0      0.99547    3.57           0.71   \n",
       "1431                      42.0      0.99549    3.39           0.66   \n",
       "\n",
       "      alcohol (10)  target  \n",
       "1427          10.5     5.0  \n",
       "1428          11.2     6.0  \n",
       "1429          11.0     6.0  \n",
       "1430          10.2     5.0  \n",
       "1431          11.0     6.0  "
      ]
     },
     "execution_count": 12,
     "metadata": {},
     "output_type": "execute_result"
    }
   ],
   "source": [
    "x_list = np.array(df[list(df.columns)]).tolist()\n",
    "cols = df.columns\n",
    "df = pd.DataFrame(x_list, columns=cols)\n",
    "df.tail()"
   ]
  },
  {
   "cell_type": "markdown",
   "metadata": {},
   "source": [
    "Ordinary Least Squares Model Summary with Stats"
   ]
  },
  {
   "cell_type": "code",
   "execution_count": 13,
   "metadata": {
    "collapsed": false
   },
   "outputs": [
    {
     "data": {
      "text/html": [
       "<table class=\"simpletable\">\n",
       "<caption>OLS Regression Results</caption>\n",
       "<tr>\n",
       "  <th>Dep. Variable:</th>         <td>target</td>      <th>  R-squared:         </th> <td>   0.366</td> \n",
       "</tr>\n",
       "<tr>\n",
       "  <th>Model:</th>                   <td>OLS</td>       <th>  Adj. R-squared:    </th> <td>   0.361</td> \n",
       "</tr>\n",
       "<tr>\n",
       "  <th>Method:</th>             <td>Least Squares</td>  <th>  F-statistic:       </th> <td>   74.44</td> \n",
       "</tr>\n",
       "<tr>\n",
       "  <th>Date:</th>             <td>Sun, 27 Nov 2016</td> <th>  Prob (F-statistic):</th> <td>5.80e-132</td>\n",
       "</tr>\n",
       "<tr>\n",
       "  <th>Time:</th>                 <td>02:12:47</td>     <th>  Log-Likelihood:    </th> <td> -1367.5</td> \n",
       "</tr>\n",
       "<tr>\n",
       "  <th>No. Observations:</th>      <td>  1432</td>      <th>  AIC:               </th> <td>   2759.</td> \n",
       "</tr>\n",
       "<tr>\n",
       "  <th>Df Residuals:</th>          <td>  1420</td>      <th>  BIC:               </th> <td>   2822.</td> \n",
       "</tr>\n",
       "<tr>\n",
       "  <th>Df Model:</th>              <td>    11</td>      <th>                     </th>     <td> </td>    \n",
       "</tr>\n",
       "<tr>\n",
       "  <th>Covariance Type:</th>      <td>nonrobust</td>    <th>                     </th>     <td> </td>    \n",
       "</tr>\n",
       "</table>\n",
       "<table class=\"simpletable\">\n",
       "<tr>\n",
       "              <td></td>                <th>coef</th>     <th>std err</th>      <th>t</th>      <th>P>|t|</th> <th>[95.0% Conf. Int.]</th> \n",
       "</tr>\n",
       "<tr>\n",
       "  <th>const</th>                    <td>   22.3249</td> <td>   22.694</td> <td>    0.984</td> <td> 0.325</td> <td>  -22.193    66.843</td>\n",
       "</tr>\n",
       "<tr>\n",
       "  <th>fixed acidity (0)</th>        <td>    0.0178</td> <td>    0.027</td> <td>    0.649</td> <td> 0.516</td> <td>   -0.036     0.072</td>\n",
       "</tr>\n",
       "<tr>\n",
       "  <th>volatile acidity (1)</th>     <td>   -0.8437</td> <td>    0.139</td> <td>   -6.087</td> <td> 0.000</td> <td>   -1.116    -0.572</td>\n",
       "</tr>\n",
       "<tr>\n",
       "  <th>citric acid (2)</th>          <td>   -0.2612</td> <td>    0.157</td> <td>   -1.665</td> <td> 0.096</td> <td>   -0.569     0.047</td>\n",
       "</tr>\n",
       "<tr>\n",
       "  <th>residual sugar (3)</th>       <td>    0.0152</td> <td>    0.016</td> <td>    0.969</td> <td> 0.332</td> <td>   -0.016     0.046</td>\n",
       "</tr>\n",
       "<tr>\n",
       "  <th>chlorides (4)</th>            <td>   -1.6082</td> <td>    0.640</td> <td>   -2.511</td> <td> 0.012</td> <td>   -2.864    -0.352</td>\n",
       "</tr>\n",
       "<tr>\n",
       "  <th>free sulfur dioxide (5)</th>  <td>    0.0042</td> <td>    0.002</td> <td>    1.806</td> <td> 0.071</td> <td>   -0.000     0.009</td>\n",
       "</tr>\n",
       "<tr>\n",
       "  <th>total sulfur dioxide (6)</th> <td>   -0.0030</td> <td>    0.001</td> <td>   -3.286</td> <td> 0.001</td> <td>   -0.005    -0.001</td>\n",
       "</tr>\n",
       "<tr>\n",
       "  <th>density (7)</th>              <td>  -18.1314</td> <td>   23.182</td> <td>   -0.782</td> <td> 0.434</td> <td>  -63.607    27.344</td>\n",
       "</tr>\n",
       "<tr>\n",
       "  <th>pH (8)</th>                   <td>   -0.6129</td> <td>    0.214</td> <td>   -2.865</td> <td> 0.004</td> <td>   -1.033    -0.193</td>\n",
       "</tr>\n",
       "<tr>\n",
       "  <th>sulphates (9)</th>            <td>    1.6137</td> <td>    0.160</td> <td>   10.065</td> <td> 0.000</td> <td>    1.299     1.928</td>\n",
       "</tr>\n",
       "<tr>\n",
       "  <th>alcohol (10)</th>             <td>    0.2811</td> <td>    0.028</td> <td>   10.152</td> <td> 0.000</td> <td>    0.227     0.335</td>\n",
       "</tr>\n",
       "</table>\n",
       "<table class=\"simpletable\">\n",
       "<tr>\n",
       "  <th>Omnibus:</th>       <td>23.708</td> <th>  Durbin-Watson:     </th> <td>   1.778</td>\n",
       "</tr>\n",
       "<tr>\n",
       "  <th>Prob(Omnibus):</th> <td> 0.000</td> <th>  Jarque-Bera (JB):  </th> <td>  34.537</td>\n",
       "</tr>\n",
       "<tr>\n",
       "  <th>Skew:</th>          <td>-0.169</td> <th>  Prob(JB):          </th> <td>3.16e-08</td>\n",
       "</tr>\n",
       "<tr>\n",
       "  <th>Kurtosis:</th>      <td> 3.682</td> <th>  Cond. No.          </th> <td>1.05e+05</td>\n",
       "</tr>\n",
       "</table>"
      ],
      "text/plain": [
       "<class 'statsmodels.iolib.summary.Summary'>\n",
       "\"\"\"\n",
       "                            OLS Regression Results                            \n",
       "==============================================================================\n",
       "Dep. Variable:                 target   R-squared:                       0.366\n",
       "Model:                            OLS   Adj. R-squared:                  0.361\n",
       "Method:                 Least Squares   F-statistic:                     74.44\n",
       "Date:                Sun, 27 Nov 2016   Prob (F-statistic):          5.80e-132\n",
       "Time:                        02:12:47   Log-Likelihood:                -1367.5\n",
       "No. Observations:                1432   AIC:                             2759.\n",
       "Df Residuals:                    1420   BIC:                             2822.\n",
       "Df Model:                          11                                         \n",
       "Covariance Type:            nonrobust                                         \n",
       "============================================================================================\n",
       "                               coef    std err          t      P>|t|      [95.0% Conf. Int.]\n",
       "--------------------------------------------------------------------------------------------\n",
       "const                       22.3249     22.694      0.984      0.325       -22.193    66.843\n",
       "fixed acidity (0)            0.0178      0.027      0.649      0.516        -0.036     0.072\n",
       "volatile acidity (1)        -0.8437      0.139     -6.087      0.000        -1.116    -0.572\n",
       "citric acid (2)             -0.2612      0.157     -1.665      0.096        -0.569     0.047\n",
       "residual sugar (3)           0.0152      0.016      0.969      0.332        -0.016     0.046\n",
       "chlorides (4)               -1.6082      0.640     -2.511      0.012        -2.864    -0.352\n",
       "free sulfur dioxide (5)      0.0042      0.002      1.806      0.071        -0.000     0.009\n",
       "total sulfur dioxide (6)    -0.0030      0.001     -3.286      0.001        -0.005    -0.001\n",
       "density (7)                -18.1314     23.182     -0.782      0.434       -63.607    27.344\n",
       "pH (8)                      -0.6129      0.214     -2.865      0.004        -1.033    -0.193\n",
       "sulphates (9)                1.6137      0.160     10.065      0.000         1.299     1.928\n",
       "alcohol (10)                 0.2811      0.028     10.152      0.000         0.227     0.335\n",
       "==============================================================================\n",
       "Omnibus:                       23.708   Durbin-Watson:                   1.778\n",
       "Prob(Omnibus):                  0.000   Jarque-Bera (JB):               34.537\n",
       "Skew:                          -0.169   Prob(JB):                     3.16e-08\n",
       "Kurtosis:                       3.682   Cond. No.                     1.05e+05\n",
       "==============================================================================\n",
       "\n",
       "Warnings:\n",
       "[1] Standard Errors assume that the covariance matrix of the errors is correctly specified.\n",
       "[2] The condition number is large, 1.05e+05. This might indicate that there are\n",
       "strong multicollinearity or other numerical problems.\n",
       "\"\"\""
      ]
     },
     "execution_count": 13,
     "metadata": {},
     "output_type": "execute_result"
    }
   ],
   "source": [
    "x = df[list(df.columns)[:-1]]\n",
    "y = df['target']\n",
    "x = sm.add_constant(x)  #include intercept, since x is not scaled\n",
    "modl = sm.OLS(y, x).fit()  #y goes before x in statsmodels\n",
    "modl.summary()"
   ]
  },
  {
   "cell_type": "markdown",
   "metadata": {},
   "source": [
    "Additional data formats needed for some algorithms"
   ]
  },
  {
   "cell_type": "code",
   "execution_count": 14,
   "metadata": {
    "collapsed": true
   },
   "outputs": [],
   "source": [
    "# 11 features, excluding labels, in list of lists format\n",
    "x_list = np.array(df[list(df.columns)[:-1]]).tolist()\n",
    "\n",
    "# labels in list format\n",
    "labels = df['target'].tolist()\n",
    "\n",
    "# 12 features, scaled\n",
    "dfvals = df.values\n",
    "data_scaled = StandardScaler().fit_transform(dfvals)\n",
    "\n",
    "# 11 features, scaled, in dataframe format\n",
    "# lables, scaled, in list format\n",
    "df_scaled = pd.DataFrame(data_scaled, columns=df.columns)\n",
    "labels_scaled = df_scaled['target'].tolist()\n",
    "del df_scaled['target']\n",
    "\n",
    "# 11 features, scaled, in list of lists format\n",
    "x_scaled = np.array(df_scaled).tolist()"
   ]
  },
  {
   "cell_type": "markdown",
   "metadata": {},
   "source": [
    "Value Counts for Wine Taste Quality (note: 1, 2, 9 & 10 are zero)"
   ]
  },
  {
   "cell_type": "code",
   "execution_count": 15,
   "metadata": {
    "collapsed": false
   },
   "outputs": [
    {
     "data": {
      "text/plain": [
       "6.0    598\n",
       "5.0    591\n",
       "7.0    179\n",
       "4.0     43\n",
       "8.0     14\n",
       "3.0      7\n",
       "Name: target, dtype: int64"
      ]
     },
     "execution_count": 15,
     "metadata": {},
     "output_type": "execute_result"
    }
   ],
   "source": [
    "df.target.value_counts() "
   ]
  },
  {
   "cell_type": "markdown",
   "metadata": {},
   "source": [
    "## Models & Algorithms"
   ]
  },
  {
   "cell_type": "markdown",
   "metadata": {},
   "source": [
    "1. Stepwise Algorithm <br>\n",
    "2. Stepwise Regression 6 features <br>\n",
    "3. Gradient Descent 6 features, from scratch, x scaled <br>\n",
    "4. Gradient Descent 6 features, sklearn, x scaled  <br>"
   ]
  },
  {
   "cell_type": "markdown",
   "metadata": {},
   "source": [
    "#### 1. Stepwise Algorithm "
   ]
  },
  {
   "cell_type": "code",
   "execution_count": 16,
   "metadata": {
    "collapsed": false
   },
   "outputs": [
    {
     "data": {
      "image/png": "[encoded data removed]",
      "text/plain": [
       "<matplotlib.figure.Figure at 0x109bd4d50>"
      ]
     },
     "metadata": {},
     "output_type": "display_data"
    },
    {
     "name": "stdout",
     "output_type": "stream",
     "text": [
      "Out of sample error versus attribute set size\n",
      "[0.69325628904323178, 0.65758597660404394, 0.64196032419017068, 0.63964558060903787, 0.63832972379983288, 0.63750548593395262, 0.63707686266242047, 0.63716204329110915, 0.63829914257011333, 0.63920181983599822, 0.64069848560758336]\n",
      "\n",
      "Best attribute indices\n",
      "[10, 9, 1, 8, 4, 6, 5, 2, 7, 0, 3]\n",
      "\n",
      "Best attribute names\n",
      "['alcohol (10)', 'sulphates (9)', 'volatile acidity (1)', 'pH (8)', 'chlorides (4)', 'total sulfur dioxide (6)', 'free sulfur dioxide (5)', 'citric acid (2)', 'density (7)', 'fixed acidity (0)', 'residual sugar (3)']\n",
      "\n",
      "Rmse Results of Forward Stepwise Regression\n"
     ]
    },
    {
     "data": {
      "text/html": [
       "<div>\n",
       "<table border=\"1\" class=\"dataframe\">\n",
       "  <thead>\n",
       "    <tr style=\"text-align: right;\">\n",
       "      <th></th>\n",
       "      <th>alcohol (10)</th>\n",
       "      <th>sulphates (9)</th>\n",
       "      <th>volatile acidity (1)</th>\n",
       "      <th>pH (8)</th>\n",
       "      <th>chlorides (4)</th>\n",
       "      <th>total sulfur dioxide (6)</th>\n",
       "      <th>free sulfur dioxide (5)</th>\n",
       "      <th>citric acid (2)</th>\n",
       "      <th>density (7)</th>\n",
       "      <th>fixed acidity (0)</th>\n",
       "      <th>residual sugar (3)</th>\n",
       "    </tr>\n",
       "  </thead>\n",
       "  <tbody>\n",
       "    <tr>\n",
       "      <th>RMSE</th>\n",
       "      <td>0.693256</td>\n",
       "      <td>0.657586</td>\n",
       "      <td>0.64196</td>\n",
       "      <td>0.639646</td>\n",
       "      <td>0.63833</td>\n",
       "      <td>0.637505</td>\n",
       "      <td>0.637077</td>\n",
       "      <td>0.637162</td>\n",
       "      <td>0.638299</td>\n",
       "      <td>0.639202</td>\n",
       "      <td>0.640698</td>\n",
       "    </tr>\n",
       "  </tbody>\n",
       "</table>\n",
       "</div>"
      ],
      "text/plain": [
       "      alcohol (10)  sulphates (9)  volatile acidity (1)    pH (8)  \\\n",
       "RMSE      0.693256       0.657586               0.64196  0.639646   \n",
       "\n",
       "      chlorides (4)  total sulfur dioxide (6)  free sulfur dioxide (5)  \\\n",
       "RMSE        0.63833                  0.637505                 0.637077   \n",
       "\n",
       "      citric acid (2)  density (7)  fixed acidity (0)  residual sugar (3)  \n",
       "RMSE         0.637162     0.638299           0.639202            0.640698  "
      ]
     },
     "execution_count": 16,
     "metadata": {},
     "output_type": "execute_result"
    }
   ],
   "source": [
    "#index list positions \n",
    "index_positions = range(len(x_list))\n",
    "x_list_ = [x_list[i] for i in index_positions]\n",
    "y_ = [labels[i] for i in index_positions]\n",
    "\n",
    "#try each feature to see which one gives least oos error\n",
    "stepwise_indices = []\n",
    "indx = range(len(x_list_[1]))\n",
    "index_set = set(indx)\n",
    "oos_error = []\n",
    "for i in indx:\n",
    "    feature_set = set(stepwise_indices)\n",
    "    try_set = index_set - feature_set\n",
    "    try_list = [i for i in try_set]  \n",
    "    error_list, temp_list = [], []\n",
    "    for feat in try_list:  \n",
    "        temp_list = [] + stepwise_indices\n",
    "        temp_list.append(feat)\n",
    "        xTemp = x_features_cols(x_list_, temp_list) #add next feature to dataset\n",
    "        x_ = np.array(xTemp); y_ = np.array(y_)  #convert to numpy arrays\n",
    "        modl = LinearRegression()  \n",
    "        modl.fit(x_, y_)\n",
    "        step_preds = cross_val_predict(modl, x_, y_, cv=10) #make predictions\n",
    "        rms_error = calc_rmse(step_preds, y_)  #calculate errors\n",
    "        error_list.append(rms_error)\n",
    "        temp_list = []\n",
    "    iBest = np.argmin(error_list)\n",
    "    stepwise_indices.append(try_list[iBest])\n",
    "    oos_error.append(error_list[iBest])\n",
    "    \n",
    "#plot error versus number of attributes\n",
    "xaxis = range(len(oos_error))\n",
    "plt.plot(xaxis, oos_error, 'k')\n",
    "plt.xlabel('Number of Attributes')\n",
    "plt.ylabel('Error (RMS)')\n",
    "plt.show()\n",
    "\n",
    "print('Out of sample error versus attribute set size')\n",
    "print(oos_error)\n",
    "print('\\nBest attribute indices')\n",
    "print(stepwise_indices)\n",
    "stepwise_sequence = [df.columns[i] for i in stepwise_indices]\n",
    "print('\\nBest attribute names')\n",
    "print(stepwise_sequence)\n",
    "oos_rounded = []\n",
    "for i in oos_error:\n",
    "    oos_rounded.append(round(i,7))\n",
    "df_features = pd.DataFrame(zip(oos_rounded), index = stepwise_sequence, columns = ['RMSE'])\n",
    "print '\\nRmse Results of Forward Stepwise Regression'\n",
    "df_features.T"
   ]
  },
  {
   "cell_type": "markdown",
   "metadata": {},
   "source": [
    "#### 2. Stepwise Regression 6 features"
   ]
  },
  {
   "cell_type": "code",
   "execution_count": 17,
   "metadata": {
    "collapsed": true
   },
   "outputs": [],
   "source": [
    "def run_stepwise_2(x, y):\n",
    "    modl = LinearRegression()\n",
    "    modl.fit(x, y)\n",
    "    preds = cross_val_predict(modl, x, y, cv=10) #make predictions\n",
    "    model_details('Stepwise Regression', preds, modl.coef_, modl.intercept_, \n",
    "                  stepwise_sequence[0:6], y)"
   ]
  },
  {
   "cell_type": "markdown",
   "metadata": {},
   "source": [
    "#### 3. Gradient Descent 6 features, from scratch, x scaled "
   ]
  },
  {
   "cell_type": "code",
   "execution_count": 18,
   "metadata": {
    "collapsed": true
   },
   "outputs": [],
   "source": [
    "def minimize_stochastic(target_fn, gradient_fn, x, y, theta_0, alpha_0=0.01):\n",
    "    data = zip(x, y)\n",
    "    theta = theta_0   # theta-initial guess\n",
    "    alpha = alpha_0   # alpha-initial step size\n",
    "    min_theta = None  # the minimum so far\n",
    "    min_value = float(\"inf\") \n",
    "    iterations_with_no_improvement = 0\n",
    "    while iterations_with_no_improvement < 100: \n",
    "        value = sum(target_fn(x_i, y_i, theta) for x_i, y_i in data)\n",
    "        # if we've found a new minimum, remember it & go back to the original step size\n",
    "        if value < min_value: \n",
    "            min_theta = theta\n",
    "            min_value = value\n",
    "            iterations_with_no_improvement = 0\n",
    "            alpha = alpha_0\n",
    "        else:  # otherwise we're not improving, so try shrinking the step size\n",
    "            iterations_with_no_improvement += 1\n",
    "            alpha *= 0.9\n",
    "        for x_i, y_i in in_random_order(data):\n",
    "            # and take a gradient step for each of the data points\n",
    "            gradient_i = gradient_fn(x_i, y_i, theta)\n",
    "            theta = np.subtract(theta, np.multiply(alpha, gradient_i)) \n",
    "    return min_theta\n",
    "\n",
    "def sqd_err_gradient(x_i, y_i, beta):  \n",
    "    return [-2 * x_ij * regr_error(x_i, y_i, beta) for x_ij in x_i]\n",
    "\n",
    "def sqd_err_regr(x_i, y_i, beta):  \n",
    "    return regr_error(x_i, y_i, beta) ** 2\n",
    "\n",
    "def estimate_beta_sgd(x, y):  \n",
    "    beta_initial = [random.random() for x_i in x[0]]\n",
    "    beta = minimize_stochastic(sqd_err_regr, sqd_err_gradient, x, y, beta_initial, 0.001)\n",
    "    return beta\n",
    "\n",
    "def run_gr_des_3(x, y):\n",
    "    random.seed(0)\n",
    "    beta = estimate_beta_sgd(x, y)\n",
    "    preds = calc_pred_vals(x[:,1:], beta[1:], beta[0])\n",
    "    coefs = beta[1:]\n",
    "    model_details('Gradient Descent 6 features, from scratch, x scaled', preds, coefs, \n",
    "                  beta[0], stepwise_sequence[0:6], y)"
   ]
  },
  {
   "cell_type": "markdown",
   "metadata": {},
   "source": [
    "#### 4. Gradient Descent 6 features, sklearn, x scaled"
   ]
  },
  {
   "cell_type": "code",
   "execution_count": 19,
   "metadata": {
    "collapsed": true
   },
   "outputs": [],
   "source": [
    "def run_gradient_descent_4(x, y):\n",
    "    modl = SGDRegressor(penalty='none', random_state=0)\n",
    "    modl.fit(x, y) \n",
    "    preds = cross_val_predict(modl, x, y, cv=10) #make predictions\n",
    "    model_details('Gradient Descent 6 features, sklearn, x scaled', preds, modl.coef_, \n",
    "                  modl.intercept_, stepwise_sequence[0:6], y)"
   ]
  },
  {
   "cell_type": "markdown",
   "metadata": {},
   "source": [
    "#### Running Models"
   ]
  },
  {
   "cell_type": "code",
   "execution_count": 20,
   "metadata": {
    "collapsed": true
   },
   "outputs": [],
   "source": [
    "# create lists for storing details\n",
    "modl_name = [] # name for model\n",
    "rmse = [] # root mean square error\n",
    "accuracy = [] # overall accuracy\n",
    "cmats = [] # confusion matrix dataframe\n",
    "cmat_sum = [] # to confirm no results are missing\n",
    "df_beta_coefs = [] # coefficients dataframe"
   ]
  },
  {
   "cell_type": "code",
   "execution_count": 21,
   "metadata": {
    "collapsed": true
   },
   "outputs": [],
   "source": [
    "# results of Stepwise Algorithm #1 appear in prior section\n",
    "run_stepwise_2(df[stepwise_sequence[0:6]], df['target'])"
   ]
  },
  {
   "cell_type": "code",
   "execution_count": 23,
   "metadata": {
    "collapsed": false
   },
   "outputs": [],
   "source": [
    "import random\n",
    "run_gr_des_3(sm.add_constant(np.array(df_scaled[stepwise_sequence[0:6]]).tolist()), labels)"
   ]
  },
  {
   "cell_type": "code",
   "execution_count": 24,
   "metadata": {
    "collapsed": true
   },
   "outputs": [],
   "source": [
    "run_gradient_descent_4(df_scaled[stepwise_sequence[0:6]], df['target'])"
   ]
  },
  {
   "cell_type": "markdown",
   "metadata": {},
   "source": [
    "#### Model Scores"
   ]
  },
  {
   "cell_type": "code",
   "execution_count": 25,
   "metadata": {
    "collapsed": false
   },
   "outputs": [
    {
     "data": {
      "text/html": [
       "<div>\n",
       "<table border=\"1\" class=\"dataframe\">\n",
       "  <thead>\n",
       "    <tr style=\"text-align: right;\">\n",
       "      <th></th>\n",
       "      <th>RMSE</th>\n",
       "      <th>Overall Accuracy</th>\n",
       "    </tr>\n",
       "  </thead>\n",
       "  <tbody>\n",
       "    <tr>\n",
       "      <th>Stepwise Regression</th>\n",
       "      <td>0.637505</td>\n",
       "      <td>0.590782</td>\n",
       "    </tr>\n",
       "    <tr>\n",
       "      <th>Gradient Descent 6 features, from scratch, x scaled</th>\n",
       "      <td>0.631025</td>\n",
       "      <td>0.597067</td>\n",
       "    </tr>\n",
       "    <tr>\n",
       "      <th>Gradient Descent 6 features, sklearn, x scaled</th>\n",
       "      <td>0.638019</td>\n",
       "      <td>0.593575</td>\n",
       "    </tr>\n",
       "  </tbody>\n",
       "</table>\n",
       "</div>"
      ],
      "text/plain": [
       "                                                        RMSE  Overall Accuracy\n",
       "Stepwise Regression                                 0.637505          0.590782\n",
       "Gradient Descent 6 features, from scratch, x sc...  0.631025          0.597067\n",
       "Gradient Descent 6 features, sklearn, x scaled      0.638019          0.593575"
      ]
     },
     "execution_count": 25,
     "metadata": {},
     "output_type": "execute_result"
    }
   ],
   "source": [
    "df_scores = pd.DataFrame(zip(rmse, accuracy), columns = ['RMSE', 'Overall Accuracy'], \n",
    "                         index = modl_name)\n",
    "df_scores"
   ]
  },
  {
   "cell_type": "markdown",
   "metadata": {},
   "source": [
    "Confirm all confusion matrix entries were picked up"
   ]
  },
  {
   "cell_type": "code",
   "execution_count": 26,
   "metadata": {
    "collapsed": false
   },
   "outputs": [
    {
     "data": {
      "text/plain": [
       "[1432, 1432, 1432]"
      ]
     },
     "execution_count": 26,
     "metadata": {},
     "output_type": "execute_result"
    }
   ],
   "source": [
    "cmat_sum"
   ]
  },
  {
   "cell_type": "markdown",
   "metadata": {},
   "source": [
    "#### Model Summaries"
   ]
  },
  {
   "cell_type": "code",
   "execution_count": 27,
   "metadata": {
    "collapsed": false
   },
   "outputs": [
    {
     "name": "stdout",
     "output_type": "stream",
     "text": [
      "RMSE 0.637505485934\n"
     ]
    },
    {
     "data": {
      "text/html": [
       "<div>\n",
       "<table border=\"1\" class=\"dataframe\">\n",
       "  <thead>\n",
       "    <tr style=\"text-align: right;\">\n",
       "      <th></th>\n",
       "      <th>intercept</th>\n",
       "      <th>alcohol (10)</th>\n",
       "      <th>sulphates (9)</th>\n",
       "      <th>volatile acidity (1)</th>\n",
       "      <th>pH (8)</th>\n",
       "      <th>chlorides (4)</th>\n",
       "      <th>total sulfur dioxide (6)</th>\n",
       "    </tr>\n",
       "  </thead>\n",
       "  <tbody>\n",
       "    <tr>\n",
       "      <th>Stepwise Regression</th>\n",
       "      <td>3.97424</td>\n",
       "      <td>0.2938</td>\n",
       "      <td>1.5741</td>\n",
       "      <td>-0.74181</td>\n",
       "      <td>-0.53087</td>\n",
       "      <td>-1.7677</td>\n",
       "      <td>-0.00202</td>\n",
       "    </tr>\n",
       "  </tbody>\n",
       "</table>\n",
       "</div>"
      ],
      "text/plain": [
       "                     intercept  alcohol (10)  sulphates (9)  \\\n",
       "Stepwise Regression    3.97424        0.2938         1.5741   \n",
       "\n",
       "                     volatile acidity (1)   pH (8)  chlorides (4)  \\\n",
       "Stepwise Regression              -0.74181 -0.53087        -1.7677   \n",
       "\n",
       "                     total sulfur dioxide (6)  \n",
       "Stepwise Regression                  -0.00202  "
      ]
     },
     "execution_count": 27,
     "metadata": {},
     "output_type": "execute_result"
    }
   ],
   "source": [
    "print 'RMSE', rmse[0]\n",
    "df_beta_coefs[0]"
   ]
  },
  {
   "cell_type": "code",
   "execution_count": 28,
   "metadata": {
    "collapsed": false
   },
   "outputs": [
    {
     "name": "stdout",
     "output_type": "stream",
     "text": [
      "RMSE 0.631025318879\n"
     ]
    },
    {
     "data": {
      "text/html": [
       "<div>\n",
       "<table border=\"1\" class=\"dataframe\">\n",
       "  <thead>\n",
       "    <tr style=\"text-align: right;\">\n",
       "      <th></th>\n",
       "      <th>intercept</th>\n",
       "      <th>alcohol (10)</th>\n",
       "      <th>sulphates (9)</th>\n",
       "      <th>volatile acidity (1)</th>\n",
       "      <th>pH (8)</th>\n",
       "      <th>chlorides (4)</th>\n",
       "      <th>total sulfur dioxide (6)</th>\n",
       "    </tr>\n",
       "  </thead>\n",
       "  <tbody>\n",
       "    <tr>\n",
       "      <th>Gradient Descent 6 features, from scratch, x scaled</th>\n",
       "      <td>5.65703</td>\n",
       "      <td>0.29709</td>\n",
       "      <td>0.18928</td>\n",
       "      <td>-0.12342</td>\n",
       "      <td>-0.07216</td>\n",
       "      <td>-0.04934</td>\n",
       "      <td>-0.05409</td>\n",
       "    </tr>\n",
       "  </tbody>\n",
       "</table>\n",
       "</div>"
      ],
      "text/plain": [
       "                                                    intercept  alcohol (10)  \\\n",
       "Gradient Descent 6 features, from scratch, x sc...    5.65703       0.29709   \n",
       "\n",
       "                                                    sulphates (9)  \\\n",
       "Gradient Descent 6 features, from scratch, x sc...        0.18928   \n",
       "\n",
       "                                                    volatile acidity (1)  \\\n",
       "Gradient Descent 6 features, from scratch, x sc...              -0.12342   \n",
       "\n",
       "                                                     pH (8)  chlorides (4)  \\\n",
       "Gradient Descent 6 features, from scratch, x sc... -0.07216       -0.04934   \n",
       "\n",
       "                                                    total sulfur dioxide (6)  \n",
       "Gradient Descent 6 features, from scratch, x sc...                  -0.05409  "
      ]
     },
     "execution_count": 28,
     "metadata": {},
     "output_type": "execute_result"
    }
   ],
   "source": [
    "print 'RMSE', rmse[1]\n",
    "df_beta_coefs[1]"
   ]
  },
  {
   "cell_type": "code",
   "execution_count": 29,
   "metadata": {
    "collapsed": false
   },
   "outputs": [
    {
     "name": "stdout",
     "output_type": "stream",
     "text": [
      "RMSE 0.638018625131\n"
     ]
    },
    {
     "data": {
      "text/html": [
       "<div>\n",
       "<table border=\"1\" class=\"dataframe\">\n",
       "  <thead>\n",
       "    <tr style=\"text-align: right;\">\n",
       "      <th></th>\n",
       "      <th>intercept</th>\n",
       "      <th>alcohol (10)</th>\n",
       "      <th>sulphates (9)</th>\n",
       "      <th>volatile acidity (1)</th>\n",
       "      <th>pH (8)</th>\n",
       "      <th>chlorides (4)</th>\n",
       "      <th>total sulfur dioxide (6)</th>\n",
       "    </tr>\n",
       "  </thead>\n",
       "  <tbody>\n",
       "    <tr>\n",
       "      <th>Gradient Descent 6 features, sklearn, x scaled</th>\n",
       "      <td>5.6497</td>\n",
       "      <td>0.29547</td>\n",
       "      <td>0.18785</td>\n",
       "      <td>-0.12598</td>\n",
       "      <td>-0.07475</td>\n",
       "      <td>-0.05383</td>\n",
       "      <td>-0.04987</td>\n",
       "    </tr>\n",
       "  </tbody>\n",
       "</table>\n",
       "</div>"
      ],
      "text/plain": [
       "                                                intercept  alcohol (10)  \\\n",
       "Gradient Descent 6 features, sklearn, x scaled     5.6497       0.29547   \n",
       "\n",
       "                                                sulphates (9)  \\\n",
       "Gradient Descent 6 features, sklearn, x scaled        0.18785   \n",
       "\n",
       "                                                volatile acidity (1)   pH (8)  \\\n",
       "Gradient Descent 6 features, sklearn, x scaled              -0.12598 -0.07475   \n",
       "\n",
       "                                                chlorides (4)  \\\n",
       "Gradient Descent 6 features, sklearn, x scaled       -0.05383   \n",
       "\n",
       "                                                total sulfur dioxide (6)  \n",
       "Gradient Descent 6 features, sklearn, x scaled                  -0.04987  "
      ]
     },
     "execution_count": 29,
     "metadata": {},
     "output_type": "execute_result"
    }
   ],
   "source": [
    "print 'RMSE', rmse[2]\n",
    "df_beta_coefs[2]"
   ]
  },
  {
   "cell_type": "markdown",
   "metadata": {},
   "source": [
    "#### Confusion Matrices & Overall Accuracy"
   ]
  },
  {
   "cell_type": "code",
   "execution_count": 30,
   "metadata": {
    "collapsed": false
   },
   "outputs": [
    {
     "name": "stdout",
     "output_type": "stream",
     "text": [
      "Stepwise Regression\n",
      "overall accuracy: 0.590782122905\n"
     ]
    },
    {
     "data": {
      "text/html": [
       "<div>\n",
       "<table border=\"1\" class=\"dataframe\">\n",
       "  <thead>\n",
       "    <tr style=\"text-align: right;\">\n",
       "      <th></th>\n",
       "      <th>P3</th>\n",
       "      <th>P4</th>\n",
       "      <th>P5</th>\n",
       "      <th>P6</th>\n",
       "      <th>P7</th>\n",
       "      <th>P8</th>\n",
       "      <th>Total</th>\n",
       "    </tr>\n",
       "  </thead>\n",
       "  <tbody>\n",
       "    <tr>\n",
       "      <th>A3</th>\n",
       "      <td>0</td>\n",
       "      <td>0</td>\n",
       "      <td>6</td>\n",
       "      <td>1</td>\n",
       "      <td>0</td>\n",
       "      <td>0</td>\n",
       "      <td>7</td>\n",
       "    </tr>\n",
       "    <tr>\n",
       "      <th>A4</th>\n",
       "      <td>0</td>\n",
       "      <td>0</td>\n",
       "      <td>27</td>\n",
       "      <td>16</td>\n",
       "      <td>0</td>\n",
       "      <td>0</td>\n",
       "      <td>43</td>\n",
       "    </tr>\n",
       "    <tr>\n",
       "      <th>A5</th>\n",
       "      <td>0</td>\n",
       "      <td>0</td>\n",
       "      <td>409</td>\n",
       "      <td>180</td>\n",
       "      <td>2</td>\n",
       "      <td>0</td>\n",
       "      <td>591</td>\n",
       "    </tr>\n",
       "    <tr>\n",
       "      <th>A6</th>\n",
       "      <td>0</td>\n",
       "      <td>0</td>\n",
       "      <td>179</td>\n",
       "      <td>398</td>\n",
       "      <td>21</td>\n",
       "      <td>0</td>\n",
       "      <td>598</td>\n",
       "    </tr>\n",
       "    <tr>\n",
       "      <th>A7</th>\n",
       "      <td>0</td>\n",
       "      <td>0</td>\n",
       "      <td>6</td>\n",
       "      <td>134</td>\n",
       "      <td>39</td>\n",
       "      <td>0</td>\n",
       "      <td>179</td>\n",
       "    </tr>\n",
       "    <tr>\n",
       "      <th>A8</th>\n",
       "      <td>0</td>\n",
       "      <td>0</td>\n",
       "      <td>0</td>\n",
       "      <td>8</td>\n",
       "      <td>6</td>\n",
       "      <td>0</td>\n",
       "      <td>14</td>\n",
       "    </tr>\n",
       "  </tbody>\n",
       "</table>\n",
       "</div>"
      ],
      "text/plain": [
       "    P3  P4   P5   P6  P7  P8  Total\n",
       "A3   0   0    6    1   0   0      7\n",
       "A4   0   0   27   16   0   0     43\n",
       "A5   0   0  409  180   2   0    591\n",
       "A6   0   0  179  398  21   0    598\n",
       "A7   0   0    6  134  39   0    179\n",
       "A8   0   0    0    8   6   0     14"
      ]
     },
     "execution_count": 30,
     "metadata": {},
     "output_type": "execute_result"
    }
   ],
   "source": [
    "print modl_name[0]\n",
    "print 'overall accuracy:', accuracy[0]\n",
    "cmats[0]"
   ]
  },
  {
   "cell_type": "code",
   "execution_count": 31,
   "metadata": {
    "collapsed": false
   },
   "outputs": [
    {
     "name": "stdout",
     "output_type": "stream",
     "text": [
      "Gradient Descent 6 features, from scratch, x scaled\n",
      "overall accuracy: 0.597067039106\n"
     ]
    },
    {
     "data": {
      "text/html": [
       "<div>\n",
       "<table border=\"1\" class=\"dataframe\">\n",
       "  <thead>\n",
       "    <tr style=\"text-align: right;\">\n",
       "      <th></th>\n",
       "      <th>P3</th>\n",
       "      <th>P4</th>\n",
       "      <th>P5</th>\n",
       "      <th>P6</th>\n",
       "      <th>P7</th>\n",
       "      <th>P8</th>\n",
       "      <th>Total</th>\n",
       "    </tr>\n",
       "  </thead>\n",
       "  <tbody>\n",
       "    <tr>\n",
       "      <th>A3</th>\n",
       "      <td>0</td>\n",
       "      <td>0</td>\n",
       "      <td>6</td>\n",
       "      <td>1</td>\n",
       "      <td>0</td>\n",
       "      <td>0</td>\n",
       "      <td>7</td>\n",
       "    </tr>\n",
       "    <tr>\n",
       "      <th>A4</th>\n",
       "      <td>0</td>\n",
       "      <td>0</td>\n",
       "      <td>28</td>\n",
       "      <td>15</td>\n",
       "      <td>0</td>\n",
       "      <td>0</td>\n",
       "      <td>43</td>\n",
       "    </tr>\n",
       "    <tr>\n",
       "      <th>A5</th>\n",
       "      <td>0</td>\n",
       "      <td>0</td>\n",
       "      <td>413</td>\n",
       "      <td>176</td>\n",
       "      <td>2</td>\n",
       "      <td>0</td>\n",
       "      <td>591</td>\n",
       "    </tr>\n",
       "    <tr>\n",
       "      <th>A6</th>\n",
       "      <td>0</td>\n",
       "      <td>0</td>\n",
       "      <td>178</td>\n",
       "      <td>398</td>\n",
       "      <td>22</td>\n",
       "      <td>0</td>\n",
       "      <td>598</td>\n",
       "    </tr>\n",
       "    <tr>\n",
       "      <th>A7</th>\n",
       "      <td>0</td>\n",
       "      <td>0</td>\n",
       "      <td>6</td>\n",
       "      <td>129</td>\n",
       "      <td>44</td>\n",
       "      <td>0</td>\n",
       "      <td>179</td>\n",
       "    </tr>\n",
       "    <tr>\n",
       "      <th>A8</th>\n",
       "      <td>0</td>\n",
       "      <td>0</td>\n",
       "      <td>0</td>\n",
       "      <td>8</td>\n",
       "      <td>6</td>\n",
       "      <td>0</td>\n",
       "      <td>14</td>\n",
       "    </tr>\n",
       "  </tbody>\n",
       "</table>\n",
       "</div>"
      ],
      "text/plain": [
       "    P3  P4   P5   P6  P7  P8  Total\n",
       "A3   0   0    6    1   0   0      7\n",
       "A4   0   0   28   15   0   0     43\n",
       "A5   0   0  413  176   2   0    591\n",
       "A6   0   0  178  398  22   0    598\n",
       "A7   0   0    6  129  44   0    179\n",
       "A8   0   0    0    8   6   0     14"
      ]
     },
     "execution_count": 31,
     "metadata": {},
     "output_type": "execute_result"
    }
   ],
   "source": [
    "print modl_name[1]\n",
    "print 'overall accuracy:', accuracy[1]\n",
    "cmats[1]"
   ]
  },
  {
   "cell_type": "code",
   "execution_count": 33,
   "metadata": {
    "collapsed": false
   },
   "outputs": [
    {
     "name": "stdout",
     "output_type": "stream",
     "text": [
      " Gradient Descent 6 features, sklearn, x scaled\n",
      "overall accuracy: 0.593575418994\n"
     ]
    },
    {
     "data": {
      "text/html": [
       "<div>\n",
       "<table border=\"1\" class=\"dataframe\">\n",
       "  <thead>\n",
       "    <tr style=\"text-align: right;\">\n",
       "      <th></th>\n",
       "      <th>P3</th>\n",
       "      <th>P4</th>\n",
       "      <th>P5</th>\n",
       "      <th>P6</th>\n",
       "      <th>P7</th>\n",
       "      <th>P8</th>\n",
       "      <th>Total</th>\n",
       "    </tr>\n",
       "  </thead>\n",
       "  <tbody>\n",
       "    <tr>\n",
       "      <th>A3</th>\n",
       "      <td>0</td>\n",
       "      <td>0</td>\n",
       "      <td>6</td>\n",
       "      <td>1</td>\n",
       "      <td>0</td>\n",
       "      <td>0</td>\n",
       "      <td>7</td>\n",
       "    </tr>\n",
       "    <tr>\n",
       "      <th>A4</th>\n",
       "      <td>0</td>\n",
       "      <td>0</td>\n",
       "      <td>27</td>\n",
       "      <td>16</td>\n",
       "      <td>0</td>\n",
       "      <td>0</td>\n",
       "      <td>43</td>\n",
       "    </tr>\n",
       "    <tr>\n",
       "      <th>A5</th>\n",
       "      <td>0</td>\n",
       "      <td>0</td>\n",
       "      <td>410</td>\n",
       "      <td>179</td>\n",
       "      <td>2</td>\n",
       "      <td>0</td>\n",
       "      <td>591</td>\n",
       "    </tr>\n",
       "    <tr>\n",
       "      <th>A6</th>\n",
       "      <td>0</td>\n",
       "      <td>0</td>\n",
       "      <td>175</td>\n",
       "      <td>402</td>\n",
       "      <td>21</td>\n",
       "      <td>0</td>\n",
       "      <td>598</td>\n",
       "    </tr>\n",
       "    <tr>\n",
       "      <th>A7</th>\n",
       "      <td>0</td>\n",
       "      <td>0</td>\n",
       "      <td>6</td>\n",
       "      <td>135</td>\n",
       "      <td>38</td>\n",
       "      <td>0</td>\n",
       "      <td>179</td>\n",
       "    </tr>\n",
       "    <tr>\n",
       "      <th>A8</th>\n",
       "      <td>0</td>\n",
       "      <td>0</td>\n",
       "      <td>0</td>\n",
       "      <td>8</td>\n",
       "      <td>6</td>\n",
       "      <td>0</td>\n",
       "      <td>14</td>\n",
       "    </tr>\n",
       "  </tbody>\n",
       "</table>\n",
       "</div>"
      ],
      "text/plain": [
       "    P3  P4   P5   P6  P7  P8  Total\n",
       "A3   0   0    6    1   0   0      7\n",
       "A4   0   0   27   16   0   0     43\n",
       "A5   0   0  410  179   2   0    591\n",
       "A6   0   0  175  402  21   0    598\n",
       "A7   0   0    6  135  38   0    179\n",
       "A8   0   0    0    8   6   0     14"
      ]
     },
     "execution_count": 33,
     "metadata": {},
     "output_type": "execute_result"
    }
   ],
   "source": [
    "print modl_name[2]\n",
    "print 'overall accuracy:', accuracy[2]\n",
    "cmats[2]"
   ]
  }
 ],
 "metadata": {
  "kernelspec": {
   "display_name": "Python 2",
   "language": "python",
   "name": "python2"
  },
  "language_info": {
   "codemirror_mode": {
    "name": "ipython",
    "version": 2
   },
   "file_extension": ".py",
   "mimetype": "text/x-python",
   "name": "python",
   "nbconvert_exporter": "python",
   "pygments_lexer": "ipython2",
   "version": "2.7.12"
  }
 },
 "nbformat": 4,
 "nbformat_minor": 0
}
