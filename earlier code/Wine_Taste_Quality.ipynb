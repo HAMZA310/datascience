{
 "cells": [
  {
   "cell_type": "markdown",
   "metadata": {},
   "source": [
    "# Predicting Wine Taste Quality"
   ]
  },
  {
   "cell_type": "markdown",
   "metadata": {},
   "source": [
    "November 2016 <br>\n",
    "Author: Peter Corniotes"
   ]
  },
  {
   "cell_type": "markdown",
   "metadata": {},
   "source": [
    "Importing Modules"
   ]
  },
  {
   "cell_type": "code",
   "execution_count": 1,
   "metadata": {
    "collapsed": true
   },
   "outputs": [],
   "source": [
    "from __future__ import division\n",
    "import pandas as pd\n",
    "import numpy as np\n",
    "import matplotlib.pyplot as plt\n",
    "from pylab import *\n",
    "from sklearn.cross_validation import cross_val_predict\n",
    "from sklearn.preprocessing import StandardScaler\n",
    "from sklearn.linear_model import LinearRegression\n",
    "from sklearn.linear_model import Lasso\n",
    "from sklearn.linear_model import SGDRegressor\n",
    "from sklearn.linear_model import Ridge\n",
    "from sklearn.linear_model import ElasticNet\n",
    "from sklearn.grid_search import GridSearchCV\n",
    "import statsmodels.api as sm\n",
    "from functools import partial\n",
    "%matplotlib inline"
   ]
  },
  {
   "cell_type": "markdown",
   "metadata": {},
   "source": [
    "Functions"
   ]
  },
  {
   "cell_type": "code",
   "execution_count": 2,
   "metadata": {
    "collapsed": true
   },
   "outputs": [],
   "source": [
    "def predict(x_i, beta):\n",
    "    return np.dot(x_i, beta)\n",
    "\n",
    "def regr_error(x_i, y_i, beta):\n",
    "    return y_i - predict(x_i, beta)\n",
    "\n",
    "def calc_pred_vals(list_of_rows, list_of_betas, intercept=0):\n",
    "    pred_vals = []\n",
    "    for i in range(len(list_of_rows)):\n",
    "        pred_val = intercept + predict(list_of_rows[i], list_of_betas)\n",
    "        pred_vals.append(pred_val)\n",
    "    return pred_vals\n",
    "\n",
    "# rmse calculation\n",
    "def calc_rmse(preds, target):\n",
    "    errors, squared_error = [], []\n",
    "    for i in range(len(target)):\n",
    "        errors.append(target[i] - preds[i])\n",
    "    for error in errors:\n",
    "        squared_error.append(error**2)\n",
    "    mse = sum(squared_error)/len(squared_error)\n",
    "    rmse = np.sqrt(mse)\n",
    "    return rmse\n",
    "\n",
    "# convert continous values to discrete\n",
    "def round_prediction(predicted_values):\n",
    "    preds = []\n",
    "    for i in range(len(predicted_values)):\n",
    "        pred_val = predicted_values[i]\n",
    "        if pred_val < 0.5: preds.append(0)\n",
    "        elif pred_val >= 0.5 and pred_val < 1.5: preds.append(1)\n",
    "        elif pred_val >= 1.5 and pred_val < 2.5: preds.append(2)\n",
    "        elif pred_val >= 2.5 and pred_val < 3.5: preds.append(3)\n",
    "        elif pred_val >= 3.5 and pred_val < 4.5: preds.append(4)\n",
    "        elif pred_val >= 4.5 and pred_val < 5.5: preds.append(5)\n",
    "        elif pred_val >= 5.5 and pred_val < 6.5: preds.append(6)\n",
    "        elif pred_val >= 6.5 and pred_val < 7.5: preds.append(7)\n",
    "        elif pred_val >= 7.5 and pred_val < 8.5: preds.append(8)\n",
    "        elif pred_val >= 8.5 and pred_val < 9.5: preds.append(9)\n",
    "        elif pred_val >= 9.5: preds.append(10)\n",
    "        else: print 'check predicted value'\n",
    "    return preds\n",
    "\n",
    "#return a list of list of confusion matrix entries\n",
    "def confusion_entries(num_rows, preds, targets):\n",
    "    A = [[0 for j in range(num_rows)] for i in range(num_rows)]\n",
    "    #outer loop iterates through each target and prediction \n",
    "    for i in range(len(targets)): \n",
    "        pred, target = preds[i], targets[i]\n",
    "        #inner loop iterates through each cell in the confusion matrix\n",
    "        for j in range(num_rows): \n",
    "            for k in range(num_rows):\n",
    "                #there will be one match in each inner iteration\n",
    "                if target==j and pred==k: \n",
    "                    #increment value in cell when match is found\n",
    "                    A[j][k] += 1  \n",
    "    return A\n",
    "\n",
    "# create dataframe for model coefficients\n",
    "def make_df(betas, attributes, ix, intercept=0):\n",
    "    new_beta_list, new_columns = [], []\n",
    "    new_columns.append('intercept')\n",
    "    new_beta_list.append(round(intercept, 5))\n",
    "    for i in range(len(betas)):\n",
    "        new_columns.append(attributes[i])\n",
    "        beta = betas[i]\n",
    "        new_beta_list.append(round(beta, 5))\n",
    "    new_df = pd.DataFrame(new_beta_list, index=new_columns, columns=ix).T\n",
    "    return new_df\n",
    "\n",
    "# return requested columns of dataset - used in stepwise algorithm\n",
    "def x_features_cols(dataset, features):\n",
    "    x_out = []\n",
    "    for row in dataset:\n",
    "        x_out.append([row[i] for i in features])\n",
    "    return(x_out)\n",
    "\n",
    "# scale a row of features' values given as input for a predicted value\n",
    "# receive 3 lists (row of inputs, original means & stds for each feature)\n",
    "def scale_vals(row, orig_mean, orig_std):\n",
    "    scaled_row = []\n",
    "    for i in range(len(row)):\n",
    "        scaled_value = (row[i] - orig_mean[i]) / orig_std[i]\n",
    "        scaled_row.append(scaled_value)\n",
    "    return scaled_row\n",
    "\n",
    "#used in minimization function\n",
    "def in_random_order(data):    \n",
    "    indexes = [i for i, _ in enumerate(data)]\n",
    "    random.shuffle(indexes)\n",
    "    for i in indexes: \n",
    "        yield data[i]"
   ]
  },
  {
   "cell_type": "markdown",
   "metadata": {},
   "source": [
    "Functions (cont'd)"
   ]
  },
  {
   "cell_type": "code",
   "execution_count": 3,
   "metadata": {
    "collapsed": true
   },
   "outputs": [],
   "source": [
    "def model_details(name, preds, betas, intercept, feat_seq, targets, calc_acc=True):\n",
    "    \n",
    "    model_name = []     \n",
    "    model_name.append(name) # name must be in list format; df col gets transformed to index\n",
    "    modl_name.append(name) # global variable\n",
    "    \n",
    "    # store rms error\n",
    "    rms_error = calc_rmse(preds, targets)\n",
    "    rmse.append(rms_error)\n",
    "    \n",
    "    # store dataframe of model's beta coefficients \n",
    "    df_coeff = make_df(betas, feat_seq, model_name, intercept)\n",
    "    df_beta_coefs.append(df_coeff) \n",
    "    \n",
    "    # calculate accuracy & store confusion matrix, unless labels are scaled\n",
    "    if calc_acc:\n",
    "        actual_ix = ['A0', 'A1', 'A2', 'A3', 'A4', 'A5', 'A6', 'A7', 'A8', 'A9', 'A10']\n",
    "        pred_ix = ['P0', 'P1', 'P2', 'P3', 'P4', 'P5', 'P6', 'P7', 'P8', 'P9', 'P10']\n",
    "        rounded_preds = round_prediction(preds)\n",
    "        con_mat = confusion_entries(len(pred_ix), rounded_preds, targets)\n",
    "        cmat = pd.DataFrame(con_mat, index=actual_ix, columns=pred_ix)\n",
    "        #delete columns with no results, eg, taste quality: 0, 1, 2, 9 & 10 are zero\n",
    "        del cmat['P0']; del cmat['P1']; del cmat['P2']; del cmat['P9']; del cmat['P10']\n",
    "        cmat = cmat.ix[3:] # delete rows 0, 1 & 2\n",
    "        cmat = cmat.ix[:6] # delete last 2 rows\n",
    "        #add column for row total\n",
    "        cmat['Total']=cmat['P3']+cmat['P4']+cmat['P5']+cmat['P6']+cmat['P7']+cmat['P8']\n",
    "        #denominator should equal total number of rows in dataset)\n",
    "        sum_total = cmat['Total'].sum()\n",
    "        # add along diagonal for true positives (numerator) \n",
    "        tp = cmat.iloc[0]['P3']+cmat.iloc[1]['P4']+cmat.iloc[2]['P5']+cmat.iloc[3]['P6'] +\\\n",
    "        cmat.iloc[4]['P7'] + cmat.iloc[5]['P8']\n",
    "        acc = tp / sum_total  # accuracy is true positives divided by the sum total\n",
    "        cmats.append(cmat)\n",
    "        cmat_sum.append(sum_total)\n",
    "        accuracy.append(acc)        \n",
    "    else:\n",
    "        cmats.append('n/a, labels are scaled')\n",
    "        cmat_sum.append('n/a, labels are scaled')\n",
    "        accuracy.append('n/a, labels are scaled')"
   ]
  },
  {
   "cell_type": "markdown",
   "metadata": {},
   "source": [
    "Load Dataset into DataFrame"
   ]
  },
  {
   "cell_type": "code",
   "execution_count": 4,
   "metadata": {
    "collapsed": false
   },
   "outputs": [
    {
     "name": "stdout",
     "output_type": "stream",
     "text": [
      "df.shape (1599, 12)\n"
     ]
    },
    {
     "data": {
      "text/html": [
       "<div>\n",
       "<table border=\"1\" class=\"dataframe\">\n",
       "  <thead>\n",
       "    <tr style=\"text-align: right;\">\n",
       "      <th></th>\n",
       "      <th>fixed acidity</th>\n",
       "      <th>volatile acidity</th>\n",
       "      <th>citric acid</th>\n",
       "      <th>residual sugar</th>\n",
       "      <th>chlorides</th>\n",
       "      <th>free sulfur dioxide</th>\n",
       "      <th>total sulfur dioxide</th>\n",
       "      <th>density</th>\n",
       "      <th>pH</th>\n",
       "      <th>sulphates</th>\n",
       "      <th>alcohol</th>\n",
       "      <th>quality</th>\n",
       "    </tr>\n",
       "  </thead>\n",
       "  <tbody>\n",
       "    <tr>\n",
       "      <th>0</th>\n",
       "      <td>7.4</td>\n",
       "      <td>0.70</td>\n",
       "      <td>0.00</td>\n",
       "      <td>1.9</td>\n",
       "      <td>0.076</td>\n",
       "      <td>11.0</td>\n",
       "      <td>34.0</td>\n",
       "      <td>0.9978</td>\n",
       "      <td>3.51</td>\n",
       "      <td>0.56</td>\n",
       "      <td>9.4</td>\n",
       "      <td>5</td>\n",
       "    </tr>\n",
       "    <tr>\n",
       "      <th>1</th>\n",
       "      <td>7.8</td>\n",
       "      <td>0.88</td>\n",
       "      <td>0.00</td>\n",
       "      <td>2.6</td>\n",
       "      <td>0.098</td>\n",
       "      <td>25.0</td>\n",
       "      <td>67.0</td>\n",
       "      <td>0.9968</td>\n",
       "      <td>3.20</td>\n",
       "      <td>0.68</td>\n",
       "      <td>9.8</td>\n",
       "      <td>5</td>\n",
       "    </tr>\n",
       "    <tr>\n",
       "      <th>2</th>\n",
       "      <td>7.8</td>\n",
       "      <td>0.76</td>\n",
       "      <td>0.04</td>\n",
       "      <td>2.3</td>\n",
       "      <td>0.092</td>\n",
       "      <td>15.0</td>\n",
       "      <td>54.0</td>\n",
       "      <td>0.9970</td>\n",
       "      <td>3.26</td>\n",
       "      <td>0.65</td>\n",
       "      <td>9.8</td>\n",
       "      <td>5</td>\n",
       "    </tr>\n",
       "    <tr>\n",
       "      <th>3</th>\n",
       "      <td>11.2</td>\n",
       "      <td>0.28</td>\n",
       "      <td>0.56</td>\n",
       "      <td>1.9</td>\n",
       "      <td>0.075</td>\n",
       "      <td>17.0</td>\n",
       "      <td>60.0</td>\n",
       "      <td>0.9980</td>\n",
       "      <td>3.16</td>\n",
       "      <td>0.58</td>\n",
       "      <td>9.8</td>\n",
       "      <td>6</td>\n",
       "    </tr>\n",
       "    <tr>\n",
       "      <th>4</th>\n",
       "      <td>7.4</td>\n",
       "      <td>0.70</td>\n",
       "      <td>0.00</td>\n",
       "      <td>1.9</td>\n",
       "      <td>0.076</td>\n",
       "      <td>11.0</td>\n",
       "      <td>34.0</td>\n",
       "      <td>0.9978</td>\n",
       "      <td>3.51</td>\n",
       "      <td>0.56</td>\n",
       "      <td>9.4</td>\n",
       "      <td>5</td>\n",
       "    </tr>\n",
       "  </tbody>\n",
       "</table>\n",
       "</div>"
      ],
      "text/plain": [
       "   fixed acidity  volatile acidity  citric acid  residual sugar  chlorides  \\\n",
       "0            7.4              0.70         0.00             1.9      0.076   \n",
       "1            7.8              0.88         0.00             2.6      0.098   \n",
       "2            7.8              0.76         0.04             2.3      0.092   \n",
       "3           11.2              0.28         0.56             1.9      0.075   \n",
       "4            7.4              0.70         0.00             1.9      0.076   \n",
       "\n",
       "   free sulfur dioxide  total sulfur dioxide  density    pH  sulphates  \\\n",
       "0                 11.0                  34.0   0.9978  3.51       0.56   \n",
       "1                 25.0                  67.0   0.9968  3.20       0.68   \n",
       "2                 15.0                  54.0   0.9970  3.26       0.65   \n",
       "3                 17.0                  60.0   0.9980  3.16       0.58   \n",
       "4                 11.0                  34.0   0.9978  3.51       0.56   \n",
       "\n",
       "   alcohol  quality  \n",
       "0      9.4        5  \n",
       "1      9.8        5  \n",
       "2      9.8        5  \n",
       "3      9.8        6  \n",
       "4      9.4        5  "
      ]
     },
     "execution_count": 4,
     "metadata": {},
     "output_type": "execute_result"
    }
   ],
   "source": [
    "target_url = (\"http://archive.ics.uci.edu/ml/machine-learning-databases/wine-quality/winequality-red.csv\")\n",
    "df = pd.read_csv(target_url, header=0, sep=\";\")\n",
    "print 'df.shape', df.shape\n",
    "df.head()"
   ]
  },
  {
   "cell_type": "markdown",
   "metadata": {},
   "source": [
    "Rename Columns"
   ]
  },
  {
   "cell_type": "code",
   "execution_count": 5,
   "metadata": {
    "collapsed": false
   },
   "outputs": [
    {
     "data": {
      "text/html": [
       "<div>\n",
       "<table border=\"1\" class=\"dataframe\">\n",
       "  <thead>\n",
       "    <tr style=\"text-align: right;\">\n",
       "      <th></th>\n",
       "      <th>fixed acidity (0)</th>\n",
       "      <th>volatile acidity (1)</th>\n",
       "      <th>citric acid (2)</th>\n",
       "      <th>residual sugar (3)</th>\n",
       "      <th>chlorides (4)</th>\n",
       "      <th>free sulfur dioxide (5)</th>\n",
       "      <th>total sulfur dioxide (6)</th>\n",
       "      <th>density (7)</th>\n",
       "      <th>pH (8)</th>\n",
       "      <th>sulphates (9)</th>\n",
       "      <th>alcohol (10)</th>\n",
       "      <th>target</th>\n",
       "    </tr>\n",
       "  </thead>\n",
       "  <tbody>\n",
       "    <tr>\n",
       "      <th>0</th>\n",
       "      <td>7.4</td>\n",
       "      <td>0.70</td>\n",
       "      <td>0.00</td>\n",
       "      <td>1.9</td>\n",
       "      <td>0.076</td>\n",
       "      <td>11.0</td>\n",
       "      <td>34.0</td>\n",
       "      <td>0.9978</td>\n",
       "      <td>3.51</td>\n",
       "      <td>0.56</td>\n",
       "      <td>9.4</td>\n",
       "      <td>5</td>\n",
       "    </tr>\n",
       "    <tr>\n",
       "      <th>1</th>\n",
       "      <td>7.8</td>\n",
       "      <td>0.88</td>\n",
       "      <td>0.00</td>\n",
       "      <td>2.6</td>\n",
       "      <td>0.098</td>\n",
       "      <td>25.0</td>\n",
       "      <td>67.0</td>\n",
       "      <td>0.9968</td>\n",
       "      <td>3.20</td>\n",
       "      <td>0.68</td>\n",
       "      <td>9.8</td>\n",
       "      <td>5</td>\n",
       "    </tr>\n",
       "    <tr>\n",
       "      <th>2</th>\n",
       "      <td>7.8</td>\n",
       "      <td>0.76</td>\n",
       "      <td>0.04</td>\n",
       "      <td>2.3</td>\n",
       "      <td>0.092</td>\n",
       "      <td>15.0</td>\n",
       "      <td>54.0</td>\n",
       "      <td>0.9970</td>\n",
       "      <td>3.26</td>\n",
       "      <td>0.65</td>\n",
       "      <td>9.8</td>\n",
       "      <td>5</td>\n",
       "    </tr>\n",
       "    <tr>\n",
       "      <th>3</th>\n",
       "      <td>11.2</td>\n",
       "      <td>0.28</td>\n",
       "      <td>0.56</td>\n",
       "      <td>1.9</td>\n",
       "      <td>0.075</td>\n",
       "      <td>17.0</td>\n",
       "      <td>60.0</td>\n",
       "      <td>0.9980</td>\n",
       "      <td>3.16</td>\n",
       "      <td>0.58</td>\n",
       "      <td>9.8</td>\n",
       "      <td>6</td>\n",
       "    </tr>\n",
       "    <tr>\n",
       "      <th>4</th>\n",
       "      <td>7.4</td>\n",
       "      <td>0.70</td>\n",
       "      <td>0.00</td>\n",
       "      <td>1.9</td>\n",
       "      <td>0.076</td>\n",
       "      <td>11.0</td>\n",
       "      <td>34.0</td>\n",
       "      <td>0.9978</td>\n",
       "      <td>3.51</td>\n",
       "      <td>0.56</td>\n",
       "      <td>9.4</td>\n",
       "      <td>5</td>\n",
       "    </tr>\n",
       "  </tbody>\n",
       "</table>\n",
       "</div>"
      ],
      "text/plain": [
       "   fixed acidity (0)  volatile acidity (1)  citric acid (2)  \\\n",
       "0                7.4                  0.70             0.00   \n",
       "1                7.8                  0.88             0.00   \n",
       "2                7.8                  0.76             0.04   \n",
       "3               11.2                  0.28             0.56   \n",
       "4                7.4                  0.70             0.00   \n",
       "\n",
       "   residual sugar (3)  chlorides (4)  free sulfur dioxide (5)  \\\n",
       "0                 1.9          0.076                     11.0   \n",
       "1                 2.6          0.098                     25.0   \n",
       "2                 2.3          0.092                     15.0   \n",
       "3                 1.9          0.075                     17.0   \n",
       "4                 1.9          0.076                     11.0   \n",
       "\n",
       "   total sulfur dioxide (6)  density (7)  pH (8)  sulphates (9)  alcohol (10)  \\\n",
       "0                      34.0       0.9978    3.51           0.56           9.4   \n",
       "1                      67.0       0.9968    3.20           0.68           9.8   \n",
       "2                      54.0       0.9970    3.26           0.65           9.8   \n",
       "3                      60.0       0.9980    3.16           0.58           9.8   \n",
       "4                      34.0       0.9978    3.51           0.56           9.4   \n",
       "\n",
       "   target  \n",
       "0       5  \n",
       "1       5  \n",
       "2       5  \n",
       "3       6  \n",
       "4       5  "
      ]
     },
     "execution_count": 5,
     "metadata": {},
     "output_type": "execute_result"
    }
   ],
   "source": [
    "df.columns = ['fixed acidity (0)', 'volatile acidity (1)', 'citric acid (2)', \n",
    "              'residual sugar (3)', 'chlorides (4)', 'free sulfur dioxide (5)', \n",
    "              'total sulfur dioxide (6)', 'density (7)', 'pH (8)', 'sulphates (9)', \n",
    "              'alcohol (10)', 'target']\n",
    "df.head()"
   ]
  },
  {
   "cell_type": "markdown",
   "metadata": {},
   "source": [
    "Box Plots"
   ]
  },
  {
   "cell_type": "code",
   "execution_count": 6,
   "metadata": {
    "collapsed": false
   },
   "outputs": [
    {
     "data": {
      "image/png": "[encoded data removed]",
      "text/plain": [
       "<matplotlib.figure.Figure at 0x1176b2590>"
      ]
     },
     "metadata": {},
     "output_type": "display_data"
    }
   ],
   "source": [
    "dfvals = df.values\n",
    "data_scaled = StandardScaler().fit_transform(dfvals)\n",
    "boxplot(data_scaled)\n",
    "plt.xlabel(\"Attribute Index\")\n",
    "plt.ylabel((\"Quartile Ranges - Normalized \"))\n",
    "show() # run this cell prior to importing seaborn"
   ]
  },
  {
   "cell_type": "markdown",
   "metadata": {},
   "source": [
    "Correlation Matrix (visualization)"
   ]
  },
  {
   "cell_type": "code",
   "execution_count": 7,
   "metadata": {
    "collapsed": false
   },
   "outputs": [
    {
     "data": {
      "text/plain": [
       "<matplotlib.axes._subplots.AxesSubplot at 0x11a5566d0>"
      ]
     },
     "execution_count": 7,
     "metadata": {},
     "output_type": "execute_result"
    },
    {
     "data": {
      "image/png": "[encoded data removed]",
      "text/plain": [
       "<matplotlib.figure.Figure at 0x11a544e10>"
      ]
     },
     "metadata": {},
     "output_type": "display_data"
    }
   ],
   "source": [
    "import seaborn as sns\n",
    "corr_matrx = df.corr()\n",
    "sns.heatmap(corr_matrx)"
   ]
  },
  {
   "cell_type": "markdown",
   "metadata": {},
   "source": [
    "Correlation Matrix (data)"
   ]
  },
  {
   "cell_type": "code",
   "execution_count": 8,
   "metadata": {
    "collapsed": false
   },
   "outputs": [
    {
     "data": {
      "text/html": [
       "<div>\n",
       "<table border=\"1\" class=\"dataframe\">\n",
       "  <thead>\n",
       "    <tr style=\"text-align: right;\">\n",
       "      <th></th>\n",
       "      <th>fixAcid</th>\n",
       "      <th>volAcid</th>\n",
       "      <th>citAcid</th>\n",
       "      <th>resSugr</th>\n",
       "      <th>chlor</th>\n",
       "      <th>frSO2</th>\n",
       "      <th>totSO2</th>\n",
       "      <th>dens</th>\n",
       "      <th>pH</th>\n",
       "      <th>sulpha</th>\n",
       "      <th>alcohol</th>\n",
       "      <th>quality</th>\n",
       "    </tr>\n",
       "  </thead>\n",
       "  <tbody>\n",
       "    <tr>\n",
       "      <th>fixAcid</th>\n",
       "      <td>1.00</td>\n",
       "      <td>-0.26</td>\n",
       "      <td>0.67</td>\n",
       "      <td>0.11</td>\n",
       "      <td>0.09</td>\n",
       "      <td>-0.15</td>\n",
       "      <td>-0.11</td>\n",
       "      <td>0.67</td>\n",
       "      <td>-0.68</td>\n",
       "      <td>0.18</td>\n",
       "      <td>-0.06</td>\n",
       "      <td>0.12</td>\n",
       "    </tr>\n",
       "    <tr>\n",
       "      <th>volAcid</th>\n",
       "      <td>-0.26</td>\n",
       "      <td>1.00</td>\n",
       "      <td>-0.55</td>\n",
       "      <td>0.00</td>\n",
       "      <td>0.06</td>\n",
       "      <td>-0.01</td>\n",
       "      <td>0.08</td>\n",
       "      <td>0.02</td>\n",
       "      <td>0.23</td>\n",
       "      <td>-0.26</td>\n",
       "      <td>-0.20</td>\n",
       "      <td>-0.39</td>\n",
       "    </tr>\n",
       "    <tr>\n",
       "      <th>citAcid</th>\n",
       "      <td>0.67</td>\n",
       "      <td>-0.55</td>\n",
       "      <td>1.00</td>\n",
       "      <td>0.14</td>\n",
       "      <td>0.20</td>\n",
       "      <td>-0.06</td>\n",
       "      <td>0.04</td>\n",
       "      <td>0.36</td>\n",
       "      <td>-0.54</td>\n",
       "      <td>0.31</td>\n",
       "      <td>0.11</td>\n",
       "      <td>0.23</td>\n",
       "    </tr>\n",
       "    <tr>\n",
       "      <th>resSugr</th>\n",
       "      <td>0.11</td>\n",
       "      <td>0.00</td>\n",
       "      <td>0.14</td>\n",
       "      <td>1.00</td>\n",
       "      <td>0.06</td>\n",
       "      <td>0.19</td>\n",
       "      <td>0.20</td>\n",
       "      <td>0.36</td>\n",
       "      <td>-0.09</td>\n",
       "      <td>0.01</td>\n",
       "      <td>0.04</td>\n",
       "      <td>0.01</td>\n",
       "    </tr>\n",
       "    <tr>\n",
       "      <th>chlor</th>\n",
       "      <td>0.09</td>\n",
       "      <td>0.06</td>\n",
       "      <td>0.20</td>\n",
       "      <td>0.06</td>\n",
       "      <td>1.00</td>\n",
       "      <td>0.01</td>\n",
       "      <td>0.05</td>\n",
       "      <td>0.20</td>\n",
       "      <td>-0.27</td>\n",
       "      <td>0.37</td>\n",
       "      <td>-0.22</td>\n",
       "      <td>-0.13</td>\n",
       "    </tr>\n",
       "    <tr>\n",
       "      <th>frSO2</th>\n",
       "      <td>-0.15</td>\n",
       "      <td>-0.01</td>\n",
       "      <td>-0.06</td>\n",
       "      <td>0.19</td>\n",
       "      <td>0.01</td>\n",
       "      <td>1.00</td>\n",
       "      <td>0.67</td>\n",
       "      <td>-0.02</td>\n",
       "      <td>0.07</td>\n",
       "      <td>0.05</td>\n",
       "      <td>-0.07</td>\n",
       "      <td>-0.05</td>\n",
       "    </tr>\n",
       "    <tr>\n",
       "      <th>totSO2</th>\n",
       "      <td>-0.11</td>\n",
       "      <td>0.08</td>\n",
       "      <td>0.04</td>\n",
       "      <td>0.20</td>\n",
       "      <td>0.05</td>\n",
       "      <td>0.67</td>\n",
       "      <td>1.00</td>\n",
       "      <td>0.07</td>\n",
       "      <td>-0.07</td>\n",
       "      <td>0.04</td>\n",
       "      <td>-0.21</td>\n",
       "      <td>-0.19</td>\n",
       "    </tr>\n",
       "    <tr>\n",
       "      <th>dens</th>\n",
       "      <td>0.67</td>\n",
       "      <td>0.02</td>\n",
       "      <td>0.36</td>\n",
       "      <td>0.36</td>\n",
       "      <td>0.20</td>\n",
       "      <td>-0.02</td>\n",
       "      <td>0.07</td>\n",
       "      <td>1.00</td>\n",
       "      <td>-0.34</td>\n",
       "      <td>0.15</td>\n",
       "      <td>-0.50</td>\n",
       "      <td>-0.17</td>\n",
       "    </tr>\n",
       "    <tr>\n",
       "      <th>pH</th>\n",
       "      <td>-0.68</td>\n",
       "      <td>0.23</td>\n",
       "      <td>-0.54</td>\n",
       "      <td>-0.09</td>\n",
       "      <td>-0.27</td>\n",
       "      <td>0.07</td>\n",
       "      <td>-0.07</td>\n",
       "      <td>-0.34</td>\n",
       "      <td>1.00</td>\n",
       "      <td>-0.20</td>\n",
       "      <td>0.21</td>\n",
       "      <td>-0.06</td>\n",
       "    </tr>\n",
       "    <tr>\n",
       "      <th>sulpha</th>\n",
       "      <td>0.18</td>\n",
       "      <td>-0.26</td>\n",
       "      <td>0.31</td>\n",
       "      <td>0.01</td>\n",
       "      <td>0.37</td>\n",
       "      <td>0.05</td>\n",
       "      <td>0.04</td>\n",
       "      <td>0.15</td>\n",
       "      <td>-0.20</td>\n",
       "      <td>1.00</td>\n",
       "      <td>0.09</td>\n",
       "      <td>0.25</td>\n",
       "    </tr>\n",
       "    <tr>\n",
       "      <th>alcohol</th>\n",
       "      <td>-0.06</td>\n",
       "      <td>-0.20</td>\n",
       "      <td>0.11</td>\n",
       "      <td>0.04</td>\n",
       "      <td>-0.22</td>\n",
       "      <td>-0.07</td>\n",
       "      <td>-0.21</td>\n",
       "      <td>-0.50</td>\n",
       "      <td>0.21</td>\n",
       "      <td>0.09</td>\n",
       "      <td>1.00</td>\n",
       "      <td>0.48</td>\n",
       "    </tr>\n",
       "    <tr>\n",
       "      <th>quality</th>\n",
       "      <td>0.12</td>\n",
       "      <td>-0.39</td>\n",
       "      <td>0.23</td>\n",
       "      <td>0.01</td>\n",
       "      <td>-0.13</td>\n",
       "      <td>-0.05</td>\n",
       "      <td>-0.19</td>\n",
       "      <td>-0.17</td>\n",
       "      <td>-0.06</td>\n",
       "      <td>0.25</td>\n",
       "      <td>0.48</td>\n",
       "      <td>1.00</td>\n",
       "    </tr>\n",
       "  </tbody>\n",
       "</table>\n",
       "</div>"
      ],
      "text/plain": [
       "         fixAcid  volAcid  citAcid  resSugr  chlor  frSO2  totSO2  dens    pH  \\\n",
       "fixAcid     1.00    -0.26     0.67     0.11   0.09  -0.15   -0.11  0.67 -0.68   \n",
       "volAcid    -0.26     1.00    -0.55     0.00   0.06  -0.01    0.08  0.02  0.23   \n",
       "citAcid     0.67    -0.55     1.00     0.14   0.20  -0.06    0.04  0.36 -0.54   \n",
       "resSugr     0.11     0.00     0.14     1.00   0.06   0.19    0.20  0.36 -0.09   \n",
       "chlor       0.09     0.06     0.20     0.06   1.00   0.01    0.05  0.20 -0.27   \n",
       "frSO2      -0.15    -0.01    -0.06     0.19   0.01   1.00    0.67 -0.02  0.07   \n",
       "totSO2     -0.11     0.08     0.04     0.20   0.05   0.67    1.00  0.07 -0.07   \n",
       "dens        0.67     0.02     0.36     0.36   0.20  -0.02    0.07  1.00 -0.34   \n",
       "pH         -0.68     0.23    -0.54    -0.09  -0.27   0.07   -0.07 -0.34  1.00   \n",
       "sulpha      0.18    -0.26     0.31     0.01   0.37   0.05    0.04  0.15 -0.20   \n",
       "alcohol    -0.06    -0.20     0.11     0.04  -0.22  -0.07   -0.21 -0.50  0.21   \n",
       "quality     0.12    -0.39     0.23     0.01  -0.13  -0.05   -0.19 -0.17 -0.06   \n",
       "\n",
       "         sulpha  alcohol  quality  \n",
       "fixAcid    0.18    -0.06     0.12  \n",
       "volAcid   -0.26    -0.20    -0.39  \n",
       "citAcid    0.31     0.11     0.23  \n",
       "resSugr    0.01     0.04     0.01  \n",
       "chlor      0.37    -0.22    -0.13  \n",
       "frSO2      0.05    -0.07    -0.05  \n",
       "totSO2     0.04    -0.21    -0.19  \n",
       "dens       0.15    -0.50    -0.17  \n",
       "pH        -0.20     0.21    -0.06  \n",
       "sulpha     1.00     0.09     0.25  \n",
       "alcohol    0.09     1.00     0.48  \n",
       "quality    0.25     0.48     1.00  "
      ]
     },
     "execution_count": 8,
     "metadata": {},
     "output_type": "execute_result"
    }
   ],
   "source": [
    "short_col = ['fixAcid', 'volAcid', 'citAcid', 'resSugr', 'chlor', 'frSO2', 'totSO2', 'dens', \n",
    "             'pH', 'sulpha', 'alcohol', 'quality']\n",
    "cormat = np.array(corr_matrx).tolist()\n",
    "for i in range(len(cormat)):\n",
    "    for j in range(len(cormat)):\n",
    "        cormat[i][j] = round(cormat[i][j], 2)\n",
    "corr_matrx = pd.DataFrame(cormat, columns=short_col, index=short_col)\n",
    "corr_matrx"
   ]
  },
  {
   "cell_type": "markdown",
   "metadata": {},
   "source": [
    "Parallel Plots"
   ]
  },
  {
   "cell_type": "code",
   "execution_count": 9,
   "metadata": {
    "collapsed": false
   },
   "outputs": [
    {
     "data": {
      "image/png": "[encoded data removed]",
      "text/plain": [
       "<matplotlib.figure.Figure at 0x11a77b6d0>"
      ]
     },
     "metadata": {},
     "output_type": "display_data"
    }
   ],
   "source": [
    "n_rows = len(df.index)\n",
    "n_data_cols = len(df.columns) - 1\n",
    "df_norm = pd.DataFrame(data_scaled, columns = short_col)\n",
    "for i in range(n_rows):\n",
    "    data_row = df_norm.iloc[i,1:n_data_cols]   # plot rows of data \n",
    "    norm_target = df_norm.iloc[i,n_data_cols]\n",
    "    labelColor = 1.0/(1.0 + np.exp(-norm_target))\n",
    "    data_row.plot(color=plt.cm.RdYlBu(labelColor), alpha=0.5)\n",
    "plt.xlabel(\"Attribute Index\")\n",
    "plt.ylabel((\"Attribute Values\"))\n",
    "plt.show()"
   ]
  },
  {
   "cell_type": "markdown",
   "metadata": {},
   "source": [
    "Histograms"
   ]
  },
  {
   "cell_type": "code",
   "execution_count": 10,
   "metadata": {
    "collapsed": false,
    "scrolled": false
   },
   "outputs": [
    {
     "data": {
      "text/plain": [
       "<matplotlib.text.Text at 0x1177f4cd0>"
      ]
     },
     "execution_count": 10,
     "metadata": {},
     "output_type": "execute_result"
    },
    {
     "data": {
      "image/png": "[encoded data removed]",
      "text/plain": [
       "<matplotlib.figure.Figure at 0x11e229c10>"
      ]
     },
     "metadata": {},
     "output_type": "display_data"
    },
    {
     "data": {
      "image/png": "[encoded data removed]",
      "text/plain": [
       "<matplotlib.figure.Figure at 0x102035310>"
      ]
     },
     "metadata": {},
     "output_type": "display_data"
    },
    {
     "data": {
      "image/png": "[encoded data removed]",
      "text/plain": [
       "<matplotlib.figure.Figure at 0x11e3c9cd0>"
      ]
     },
     "metadata": {},
     "output_type": "display_data"
    },
    {
     "data": {
      "image/png": "[encoded data removed]",
      "text/plain": [
       "<matplotlib.figure.Figure at 0x119cdda10>"
      ]
     },
     "metadata": {},
     "output_type": "display_data"
    },
    {
     "data": {
      "image/png": "[encoded data removed]",
      "text/plain": [
       "<matplotlib.figure.Figure at 0x1176b2b50>"
      ]
     },
     "metadata": {},
     "output_type": "display_data"
    },
    {
     "data": {
      "image/png": "[encoded data removed]",
      "text/plain": [
       "<matplotlib.figure.Figure at 0x11da8eb10>"
      ]
     },
     "metadata": {},
     "output_type": "display_data"
    },
    {
     "data": {
      "image/png": "[encoded data removed]",
      "text/plain": [
       "<matplotlib.figure.Figure at 0x11a9d3250>"
      ]
     },
     "metadata": {},
     "output_type": "display_data"
    },
    {
     "data": {
      "image/png": "[encoded data removed]",
      "text/plain": [
       "<matplotlib.figure.Figure at 0x11d794650>"
      ]
     },
     "metadata": {},
     "output_type": "display_data"
    },
    {
     "data": {
      "image/png": "[encoded data removed]",
      "text/plain": [
       "<matplotlib.figure.Figure at 0x11e26e690>"
      ]
     },
     "metadata": {},
     "output_type": "display_data"
    },
    {
     "data": {
      "image/png": "[encoded data removed]",
      "text/plain": [
       "<matplotlib.figure.Figure at 0x11e3b1290>"
      ]
     },
     "metadata": {},
     "output_type": "display_data"
    },
    {
     "data": {
      "image/png": "[encoded data removed]",
      "text/plain": [
       "<matplotlib.figure.Figure at 0x11d227d90>"
      ]
     },
     "metadata": {},
     "output_type": "display_data"
    },
    {
     "data": {
      "image/png": "[encoded data removed]",
      "text/plain": [
       "<matplotlib.figure.Figure at 0x11ab7a2d0>"
      ]
     },
     "metadata": {},
     "output_type": "display_data"
    }
   ],
   "source": [
    "fa = df['fixed acidity (0)']\n",
    "va = df['volatile acidity (1)']\n",
    "ca = df['citric acid (2)']\n",
    "rs = df['residual sugar (3)']\n",
    "ch = df['chlorides (4)']\n",
    "fs = df['free sulfur dioxide (5)']\n",
    "ts = df['total sulfur dioxide (6)'] \n",
    "de = df['density (7)']\n",
    "ph = df['pH (8)'] \n",
    "su = df['sulphates (9)'] \n",
    "al = df['alcohol (10)']\n",
    "qu = df['target']\n",
    "\n",
    "fig1 = plt.figure()\n",
    "ax1 = fig1.add_subplot(2, 1, 1)\n",
    "n, bins, patches = ax1.hist(fa)\n",
    "ax1.set_xlabel('Fixed Acidity')\n",
    "ax1.set_ylabel('Frequency')\n",
    "\n",
    "fig2 = plt.figure()\n",
    "ax2 = fig2.add_subplot(2, 1, 1)\n",
    "n, bins, patches = ax2.hist(va)\n",
    "ax2.set_xlabel('Volatile Acidity')\n",
    "ax2.set_ylabel('Frequency')\n",
    "\n",
    "fig3 = plt.figure()\n",
    "ax3 = fig3.add_subplot(2, 1, 1)\n",
    "n, bins, patches = ax3.hist(ca)\n",
    "ax3.set_xlabel('Citric Acid')\n",
    "ax3.set_ylabel('Frequency')\n",
    "\n",
    "fig4 = plt.figure()\n",
    "ax4 = fig4.add_subplot(2, 1, 1)\n",
    "n, bins, patches = ax4.hist(rs)\n",
    "ax4.set_xlabel('Residual Sugar')\n",
    "ax4.set_ylabel('Frequency')\n",
    "\n",
    "fig5 = plt.figure()\n",
    "ax5 = fig5.add_subplot(2, 1, 1)\n",
    "n, bins, patches = ax5.hist(ch)\n",
    "ax5.set_xlabel('Chlorides')\n",
    "ax5.set_ylabel('Frequency')\n",
    "\n",
    "fig6 = plt.figure()\n",
    "ax6 = fig6.add_subplot(2, 1, 1)\n",
    "n, bins, patches = ax6.hist(fs)\n",
    "ax6.set_xlabel('Free Sulfur Dioxide')\n",
    "ax6.set_ylabel('Frequency')\n",
    "\n",
    "fig7 = plt.figure()\n",
    "ax7 = fig7.add_subplot(2, 1, 1)\n",
    "n, bins, patches = ax7.hist(ts)\n",
    "ax7.set_xlabel('Total Sulfur Dioxide')\n",
    "ax7.set_ylabel('Frequency')\n",
    "\n",
    "fig8 = plt.figure()\n",
    "ax8 = fig8.add_subplot(2, 1, 1)\n",
    "n, bins, patches = ax8.hist(de)\n",
    "ax8.set_xlabel('Density')\n",
    "ax8.set_ylabel('Frequency')\n",
    "\n",
    "fig9 = plt.figure()\n",
    "ax9 = fig9.add_subplot(2, 1, 1)\n",
    "n, bins, patches = ax9.hist(ph)\n",
    "ax9.set_xlabel('pH')\n",
    "ax9.set_ylabel('Frequency')\n",
    "\n",
    "fig10 = plt.figure()\n",
    "ax10 = fig10.add_subplot(2, 1, 1)\n",
    "n, bins, patches = ax10.hist(su)\n",
    "ax10.set_xlabel('Sulphates')\n",
    "ax10.set_ylabel('Frequency')\n",
    "\n",
    "fig11 = plt.figure()\n",
    "ax11 = fig11.add_subplot(2, 1, 1)\n",
    "n, bins, patches = ax11.hist(al)\n",
    "ax11.set_xlabel('Alcohol')\n",
    "ax11.set_ylabel('Frequency')\n",
    "\n",
    "fig12 = plt.figure()\n",
    "ax12 = fig12.add_subplot(2, 1, 1)\n",
    "n, bins, patches = ax12.hist(qu)\n",
    "ax12.set_xlabel('Taste')\n",
    "ax12.set_ylabel('Frequency')"
   ]
  },
  {
   "cell_type": "markdown",
   "metadata": {},
   "source": [
    "Summary Statistics"
   ]
  },
  {
   "cell_type": "code",
   "execution_count": 11,
   "metadata": {
    "collapsed": false
   },
   "outputs": [
    {
     "data": {
      "text/html": [
       "<div>\n",
       "<table border=\"1\" class=\"dataframe\">\n",
       "  <thead>\n",
       "    <tr style=\"text-align: right;\">\n",
       "      <th></th>\n",
       "      <th>fixed acidity (0)</th>\n",
       "      <th>volatile acidity (1)</th>\n",
       "      <th>citric acid (2)</th>\n",
       "      <th>residual sugar (3)</th>\n",
       "      <th>chlorides (4)</th>\n",
       "      <th>free sulfur dioxide (5)</th>\n",
       "      <th>total sulfur dioxide (6)</th>\n",
       "      <th>density (7)</th>\n",
       "      <th>pH (8)</th>\n",
       "      <th>sulphates (9)</th>\n",
       "      <th>alcohol (10)</th>\n",
       "      <th>target</th>\n",
       "    </tr>\n",
       "  </thead>\n",
       "  <tbody>\n",
       "    <tr>\n",
       "      <th>count</th>\n",
       "      <td>1599.000000</td>\n",
       "      <td>1599.000000</td>\n",
       "      <td>1599.000000</td>\n",
       "      <td>1599.000000</td>\n",
       "      <td>1599.000000</td>\n",
       "      <td>1599.000000</td>\n",
       "      <td>1599.000000</td>\n",
       "      <td>1599.000000</td>\n",
       "      <td>1599.000000</td>\n",
       "      <td>1599.000000</td>\n",
       "      <td>1599.000000</td>\n",
       "      <td>1599.000000</td>\n",
       "    </tr>\n",
       "    <tr>\n",
       "      <th>mean</th>\n",
       "      <td>8.319637</td>\n",
       "      <td>0.527821</td>\n",
       "      <td>0.270976</td>\n",
       "      <td>2.538806</td>\n",
       "      <td>0.087467</td>\n",
       "      <td>15.874922</td>\n",
       "      <td>46.467792</td>\n",
       "      <td>0.996747</td>\n",
       "      <td>3.311113</td>\n",
       "      <td>0.658149</td>\n",
       "      <td>10.422983</td>\n",
       "      <td>5.636023</td>\n",
       "    </tr>\n",
       "    <tr>\n",
       "      <th>std</th>\n",
       "      <td>1.741096</td>\n",
       "      <td>0.179060</td>\n",
       "      <td>0.194801</td>\n",
       "      <td>1.409928</td>\n",
       "      <td>0.047065</td>\n",
       "      <td>10.460157</td>\n",
       "      <td>32.895324</td>\n",
       "      <td>0.001887</td>\n",
       "      <td>0.154386</td>\n",
       "      <td>0.169507</td>\n",
       "      <td>1.065668</td>\n",
       "      <td>0.807569</td>\n",
       "    </tr>\n",
       "    <tr>\n",
       "      <th>min</th>\n",
       "      <td>4.600000</td>\n",
       "      <td>0.120000</td>\n",
       "      <td>0.000000</td>\n",
       "      <td>0.900000</td>\n",
       "      <td>0.012000</td>\n",
       "      <td>1.000000</td>\n",
       "      <td>6.000000</td>\n",
       "      <td>0.990070</td>\n",
       "      <td>2.740000</td>\n",
       "      <td>0.330000</td>\n",
       "      <td>8.400000</td>\n",
       "      <td>3.000000</td>\n",
       "    </tr>\n",
       "    <tr>\n",
       "      <th>25%</th>\n",
       "      <td>7.100000</td>\n",
       "      <td>0.390000</td>\n",
       "      <td>0.090000</td>\n",
       "      <td>1.900000</td>\n",
       "      <td>0.070000</td>\n",
       "      <td>7.000000</td>\n",
       "      <td>22.000000</td>\n",
       "      <td>0.995600</td>\n",
       "      <td>3.210000</td>\n",
       "      <td>0.550000</td>\n",
       "      <td>9.500000</td>\n",
       "      <td>5.000000</td>\n",
       "    </tr>\n",
       "    <tr>\n",
       "      <th>50%</th>\n",
       "      <td>7.900000</td>\n",
       "      <td>0.520000</td>\n",
       "      <td>0.260000</td>\n",
       "      <td>2.200000</td>\n",
       "      <td>0.079000</td>\n",
       "      <td>14.000000</td>\n",
       "      <td>38.000000</td>\n",
       "      <td>0.996750</td>\n",
       "      <td>3.310000</td>\n",
       "      <td>0.620000</td>\n",
       "      <td>10.200000</td>\n",
       "      <td>6.000000</td>\n",
       "    </tr>\n",
       "    <tr>\n",
       "      <th>75%</th>\n",
       "      <td>9.200000</td>\n",
       "      <td>0.640000</td>\n",
       "      <td>0.420000</td>\n",
       "      <td>2.600000</td>\n",
       "      <td>0.090000</td>\n",
       "      <td>21.000000</td>\n",
       "      <td>62.000000</td>\n",
       "      <td>0.997835</td>\n",
       "      <td>3.400000</td>\n",
       "      <td>0.730000</td>\n",
       "      <td>11.100000</td>\n",
       "      <td>6.000000</td>\n",
       "    </tr>\n",
       "    <tr>\n",
       "      <th>max</th>\n",
       "      <td>15.900000</td>\n",
       "      <td>1.580000</td>\n",
       "      <td>1.000000</td>\n",
       "      <td>15.500000</td>\n",
       "      <td>0.611000</td>\n",
       "      <td>72.000000</td>\n",
       "      <td>289.000000</td>\n",
       "      <td>1.003690</td>\n",
       "      <td>4.010000</td>\n",
       "      <td>2.000000</td>\n",
       "      <td>14.900000</td>\n",
       "      <td>8.000000</td>\n",
       "    </tr>\n",
       "  </tbody>\n",
       "</table>\n",
       "</div>"
      ],
      "text/plain": [
       "       fixed acidity (0)  volatile acidity (1)  citric acid (2)  \\\n",
       "count        1599.000000           1599.000000      1599.000000   \n",
       "mean            8.319637              0.527821         0.270976   \n",
       "std             1.741096              0.179060         0.194801   \n",
       "min             4.600000              0.120000         0.000000   \n",
       "25%             7.100000              0.390000         0.090000   \n",
       "50%             7.900000              0.520000         0.260000   \n",
       "75%             9.200000              0.640000         0.420000   \n",
       "max            15.900000              1.580000         1.000000   \n",
       "\n",
       "       residual sugar (3)  chlorides (4)  free sulfur dioxide (5)  \\\n",
       "count         1599.000000    1599.000000              1599.000000   \n",
       "mean             2.538806       0.087467                15.874922   \n",
       "std              1.409928       0.047065                10.460157   \n",
       "min              0.900000       0.012000                 1.000000   \n",
       "25%              1.900000       0.070000                 7.000000   \n",
       "50%              2.200000       0.079000                14.000000   \n",
       "75%              2.600000       0.090000                21.000000   \n",
       "max             15.500000       0.611000                72.000000   \n",
       "\n",
       "       total sulfur dioxide (6)  density (7)       pH (8)  sulphates (9)  \\\n",
       "count               1599.000000  1599.000000  1599.000000    1599.000000   \n",
       "mean                  46.467792     0.996747     3.311113       0.658149   \n",
       "std                   32.895324     0.001887     0.154386       0.169507   \n",
       "min                    6.000000     0.990070     2.740000       0.330000   \n",
       "25%                   22.000000     0.995600     3.210000       0.550000   \n",
       "50%                   38.000000     0.996750     3.310000       0.620000   \n",
       "75%                   62.000000     0.997835     3.400000       0.730000   \n",
       "max                  289.000000     1.003690     4.010000       2.000000   \n",
       "\n",
       "       alcohol (10)       target  \n",
       "count   1599.000000  1599.000000  \n",
       "mean      10.422983     5.636023  \n",
       "std        1.065668     0.807569  \n",
       "min        8.400000     3.000000  \n",
       "25%        9.500000     5.000000  \n",
       "50%       10.200000     6.000000  \n",
       "75%       11.100000     6.000000  \n",
       "max       14.900000     8.000000  "
      ]
     },
     "execution_count": 11,
     "metadata": {},
     "output_type": "execute_result"
    }
   ],
   "source": [
    "stats = df.describe()\n",
    "stats"
   ]
  },
  {
   "cell_type": "markdown",
   "metadata": {},
   "source": [
    "Calculating Outliers"
   ]
  },
  {
   "cell_type": "code",
   "execution_count": 12,
   "metadata": {
    "collapsed": false
   },
   "outputs": [],
   "source": [
    "limits_upper, limits_lower = [], []\n",
    "max_vals, min_vals = [], [] \n",
    "outliers_upper, outliers_lower = [], []\n",
    "num_upper, num_lower = [], []\n",
    "\n",
    "#loop through features - get data on outliers\n",
    "for i in range(len(stats.columns)-1):\n",
    "    \n",
    "    # set interquartile range\n",
    "    inter_quartile_range = stats.iloc[6,i] - stats.iloc[4,i]\n",
    "    \n",
    "    # upper limits\n",
    "    limit_upper = stats.iloc[6,i] + 1.5 * inter_quartile_range\n",
    "    outliers_upper.append(df.loc[df[df.columns[i]] > limit_upper])\n",
    "    limits_upper.append(limit_upper)\n",
    "    max_vals.append(stats.iloc[7,i])\n",
    "    \n",
    "    # lower limits\n",
    "    limit_lower = stats.iloc[4,i] - 1.5 * inter_quartile_range\n",
    "    outliers_lower.append(df.loc[df[df.columns[i]] < limit_lower])\n",
    "    limits_lower.append(limit_lower)\n",
    "    min_vals.append(stats.iloc[3,i])"
   ]
  },
  {
   "cell_type": "markdown",
   "metadata": {},
   "source": [
    "Upper Outliers"
   ]
  },
  {
   "cell_type": "code",
   "execution_count": 13,
   "metadata": {
    "collapsed": false
   },
   "outputs": [
    {
     "data": {
      "text/html": [
       "<div>\n",
       "<table border=\"1\" class=\"dataframe\">\n",
       "  <thead>\n",
       "    <tr style=\"text-align: right;\">\n",
       "      <th></th>\n",
       "      <th>Feature</th>\n",
       "      <th>Upper Limit</th>\n",
       "      <th>Max Value</th>\n",
       "      <th># Outliers</th>\n",
       "    </tr>\n",
       "  </thead>\n",
       "  <tbody>\n",
       "    <tr>\n",
       "      <th>0</th>\n",
       "      <td>fixed acidity (0)</td>\n",
       "      <td>12.350000</td>\n",
       "      <td>15.90000</td>\n",
       "      <td>49</td>\n",
       "    </tr>\n",
       "    <tr>\n",
       "      <th>1</th>\n",
       "      <td>volatile acidity (1)</td>\n",
       "      <td>1.015000</td>\n",
       "      <td>1.58000</td>\n",
       "      <td>19</td>\n",
       "    </tr>\n",
       "    <tr>\n",
       "      <th>2</th>\n",
       "      <td>citric acid (2)</td>\n",
       "      <td>0.915000</td>\n",
       "      <td>1.00000</td>\n",
       "      <td>1</td>\n",
       "    </tr>\n",
       "    <tr>\n",
       "      <th>3</th>\n",
       "      <td>residual sugar (3)</td>\n",
       "      <td>3.650000</td>\n",
       "      <td>15.50000</td>\n",
       "      <td>155</td>\n",
       "    </tr>\n",
       "    <tr>\n",
       "      <th>4</th>\n",
       "      <td>chlorides (4)</td>\n",
       "      <td>0.120000</td>\n",
       "      <td>0.61100</td>\n",
       "      <td>103</td>\n",
       "    </tr>\n",
       "    <tr>\n",
       "      <th>5</th>\n",
       "      <td>free sulfur dioxide (5)</td>\n",
       "      <td>42.000000</td>\n",
       "      <td>72.00000</td>\n",
       "      <td>30</td>\n",
       "    </tr>\n",
       "    <tr>\n",
       "      <th>6</th>\n",
       "      <td>total sulfur dioxide (6)</td>\n",
       "      <td>122.000000</td>\n",
       "      <td>289.00000</td>\n",
       "      <td>55</td>\n",
       "    </tr>\n",
       "    <tr>\n",
       "      <th>7</th>\n",
       "      <td>density (7)</td>\n",
       "      <td>1.001187</td>\n",
       "      <td>1.00369</td>\n",
       "      <td>24</td>\n",
       "    </tr>\n",
       "    <tr>\n",
       "      <th>8</th>\n",
       "      <td>pH (8)</td>\n",
       "      <td>3.685000</td>\n",
       "      <td>4.01000</td>\n",
       "      <td>21</td>\n",
       "    </tr>\n",
       "    <tr>\n",
       "      <th>9</th>\n",
       "      <td>sulphates (9)</td>\n",
       "      <td>1.000000</td>\n",
       "      <td>2.00000</td>\n",
       "      <td>59</td>\n",
       "    </tr>\n",
       "    <tr>\n",
       "      <th>10</th>\n",
       "      <td>alcohol (10)</td>\n",
       "      <td>13.500000</td>\n",
       "      <td>14.90000</td>\n",
       "      <td>13</td>\n",
       "    </tr>\n",
       "  </tbody>\n",
       "</table>\n",
       "</div>"
      ],
      "text/plain": [
       "                     Feature  Upper Limit  Max Value  # Outliers\n",
       "0          fixed acidity (0)    12.350000   15.90000          49\n",
       "1       volatile acidity (1)     1.015000    1.58000          19\n",
       "2            citric acid (2)     0.915000    1.00000           1\n",
       "3         residual sugar (3)     3.650000   15.50000         155\n",
       "4              chlorides (4)     0.120000    0.61100         103\n",
       "5    free sulfur dioxide (5)    42.000000   72.00000          30\n",
       "6   total sulfur dioxide (6)   122.000000  289.00000          55\n",
       "7                density (7)     1.001187    1.00369          24\n",
       "8                     pH (8)     3.685000    4.01000          21\n",
       "9              sulphates (9)     1.000000    2.00000          59\n",
       "10              alcohol (10)    13.500000   14.90000          13"
      ]
     },
     "execution_count": 13,
     "metadata": {},
     "output_type": "execute_result"
    }
   ],
   "source": [
    "feature_cols = df.columns[0:11]\n",
    "for i in range(len(stats.columns)-1): \n",
    "    num_upper.append(len(outliers_upper[i]))\n",
    "df_out_up = pd.DataFrame(zip(feature_cols, limits_upper, max_vals, num_upper), \n",
    "                         columns = ['Feature', 'Upper Limit', 'Max Value', '# Outliers'])\n",
    "df_out_up"
   ]
  },
  {
   "cell_type": "markdown",
   "metadata": {},
   "source": [
    "Lower Outliers"
   ]
  },
  {
   "cell_type": "code",
   "execution_count": 14,
   "metadata": {
    "collapsed": false
   },
   "outputs": [
    {
     "data": {
      "text/html": [
       "<div>\n",
       "<table border=\"1\" class=\"dataframe\">\n",
       "  <thead>\n",
       "    <tr style=\"text-align: right;\">\n",
       "      <th></th>\n",
       "      <th>Feature</th>\n",
       "      <th>Lower Limit</th>\n",
       "      <th>Min Value</th>\n",
       "      <th># Outliers</th>\n",
       "    </tr>\n",
       "  </thead>\n",
       "  <tbody>\n",
       "    <tr>\n",
       "      <th>0</th>\n",
       "      <td>fixed acidity (0)</td>\n",
       "      <td>3.950000</td>\n",
       "      <td>4.60000</td>\n",
       "      <td>0</td>\n",
       "    </tr>\n",
       "    <tr>\n",
       "      <th>1</th>\n",
       "      <td>volatile acidity (1)</td>\n",
       "      <td>0.015000</td>\n",
       "      <td>0.12000</td>\n",
       "      <td>0</td>\n",
       "    </tr>\n",
       "    <tr>\n",
       "      <th>2</th>\n",
       "      <td>citric acid (2)</td>\n",
       "      <td>-0.405000</td>\n",
       "      <td>0.00000</td>\n",
       "      <td>0</td>\n",
       "    </tr>\n",
       "    <tr>\n",
       "      <th>3</th>\n",
       "      <td>residual sugar (3)</td>\n",
       "      <td>0.850000</td>\n",
       "      <td>0.90000</td>\n",
       "      <td>0</td>\n",
       "    </tr>\n",
       "    <tr>\n",
       "      <th>4</th>\n",
       "      <td>chlorides (4)</td>\n",
       "      <td>0.040000</td>\n",
       "      <td>0.01200</td>\n",
       "      <td>9</td>\n",
       "    </tr>\n",
       "    <tr>\n",
       "      <th>5</th>\n",
       "      <td>free sulfur dioxide (5)</td>\n",
       "      <td>-14.000000</td>\n",
       "      <td>1.00000</td>\n",
       "      <td>0</td>\n",
       "    </tr>\n",
       "    <tr>\n",
       "      <th>6</th>\n",
       "      <td>total sulfur dioxide (6)</td>\n",
       "      <td>-38.000000</td>\n",
       "      <td>6.00000</td>\n",
       "      <td>0</td>\n",
       "    </tr>\n",
       "    <tr>\n",
       "      <th>7</th>\n",
       "      <td>density (7)</td>\n",
       "      <td>0.992248</td>\n",
       "      <td>0.99007</td>\n",
       "      <td>21</td>\n",
       "    </tr>\n",
       "    <tr>\n",
       "      <th>8</th>\n",
       "      <td>pH (8)</td>\n",
       "      <td>2.925000</td>\n",
       "      <td>2.74000</td>\n",
       "      <td>14</td>\n",
       "    </tr>\n",
       "    <tr>\n",
       "      <th>9</th>\n",
       "      <td>sulphates (9)</td>\n",
       "      <td>0.280000</td>\n",
       "      <td>0.33000</td>\n",
       "      <td>0</td>\n",
       "    </tr>\n",
       "    <tr>\n",
       "      <th>10</th>\n",
       "      <td>alcohol (10)</td>\n",
       "      <td>7.100000</td>\n",
       "      <td>8.40000</td>\n",
       "      <td>0</td>\n",
       "    </tr>\n",
       "  </tbody>\n",
       "</table>\n",
       "</div>"
      ],
      "text/plain": [
       "                     Feature  Lower Limit  Min Value  # Outliers\n",
       "0          fixed acidity (0)     3.950000    4.60000           0\n",
       "1       volatile acidity (1)     0.015000    0.12000           0\n",
       "2            citric acid (2)    -0.405000    0.00000           0\n",
       "3         residual sugar (3)     0.850000    0.90000           0\n",
       "4              chlorides (4)     0.040000    0.01200           9\n",
       "5    free sulfur dioxide (5)   -14.000000    1.00000           0\n",
       "6   total sulfur dioxide (6)   -38.000000    6.00000           0\n",
       "7                density (7)     0.992248    0.99007          21\n",
       "8                     pH (8)     2.925000    2.74000          14\n",
       "9              sulphates (9)     0.280000    0.33000           0\n",
       "10              alcohol (10)     7.100000    8.40000           0"
      ]
     },
     "execution_count": 14,
     "metadata": {},
     "output_type": "execute_result"
    }
   ],
   "source": [
    "for i in range(len(stats.columns)-1): \n",
    "    num_lower.append (len(outliers_lower[i]))\n",
    "df_out_low = pd.DataFrame(zip(feature_cols, limits_lower, min_vals, num_lower), \n",
    "                          columns = ['Feature', 'Lower Limit', 'Min Value', '# Outliers'])\n",
    "df_out_low"
   ]
  },
  {
   "cell_type": "markdown",
   "metadata": {},
   "source": [
    "Removing Outliers"
   ]
  },
  {
   "cell_type": "code",
   "execution_count": 15,
   "metadata": {
    "collapsed": false
   },
   "outputs": [
    {
     "name": "stdout",
     "output_type": "stream",
     "text": [
      "df shape (1599, 12)\n",
      "df shape after removing rows with outliers (1190, 12)\n"
     ]
    }
   ],
   "source": [
    "print 'df shape', df.shape\n",
    "for i in range(len(stats.columns)-1):\n",
    "    df = df.loc[df[feature_cols[i]] < limits_upper[i]]\n",
    "    df = df.loc[df[feature_cols[i]] > limits_lower[i]]\n",
    "print 'df shape after removing rows with outliers', df.shape"
   ]
  },
  {
   "cell_type": "markdown",
   "metadata": {},
   "source": [
    "After removing certain rows, dataframe will need to be reindexed in order for some of the models to run correctly.  However, since reindexing may cause some complications, the preferred method is to convert the existing dataframe to a list, then recreate it as a dataframe. "
   ]
  },
  {
   "cell_type": "code",
   "execution_count": 16,
   "metadata": {
    "collapsed": false
   },
   "outputs": [
    {
     "data": {
      "text/html": [
       "<div>\n",
       "<table border=\"1\" class=\"dataframe\">\n",
       "  <thead>\n",
       "    <tr style=\"text-align: right;\">\n",
       "      <th></th>\n",
       "      <th>fixed acidity (0)</th>\n",
       "      <th>volatile acidity (1)</th>\n",
       "      <th>citric acid (2)</th>\n",
       "      <th>residual sugar (3)</th>\n",
       "      <th>chlorides (4)</th>\n",
       "      <th>free sulfur dioxide (5)</th>\n",
       "      <th>total sulfur dioxide (6)</th>\n",
       "      <th>density (7)</th>\n",
       "      <th>pH (8)</th>\n",
       "      <th>sulphates (9)</th>\n",
       "      <th>alcohol (10)</th>\n",
       "      <th>target</th>\n",
       "    </tr>\n",
       "  </thead>\n",
       "  <tbody>\n",
       "    <tr>\n",
       "      <th>1185</th>\n",
       "      <td>6.2</td>\n",
       "      <td>0.600</td>\n",
       "      <td>0.08</td>\n",
       "      <td>2.0</td>\n",
       "      <td>0.090</td>\n",
       "      <td>32.0</td>\n",
       "      <td>44.0</td>\n",
       "      <td>0.99490</td>\n",
       "      <td>3.45</td>\n",
       "      <td>0.58</td>\n",
       "      <td>10.5</td>\n",
       "      <td>5.0</td>\n",
       "    </tr>\n",
       "    <tr>\n",
       "      <th>1186</th>\n",
       "      <td>5.9</td>\n",
       "      <td>0.550</td>\n",
       "      <td>0.10</td>\n",
       "      <td>2.2</td>\n",
       "      <td>0.062</td>\n",
       "      <td>39.0</td>\n",
       "      <td>51.0</td>\n",
       "      <td>0.99512</td>\n",
       "      <td>3.52</td>\n",
       "      <td>0.76</td>\n",
       "      <td>11.2</td>\n",
       "      <td>6.0</td>\n",
       "    </tr>\n",
       "    <tr>\n",
       "      <th>1187</th>\n",
       "      <td>6.3</td>\n",
       "      <td>0.510</td>\n",
       "      <td>0.13</td>\n",
       "      <td>2.3</td>\n",
       "      <td>0.076</td>\n",
       "      <td>29.0</td>\n",
       "      <td>40.0</td>\n",
       "      <td>0.99574</td>\n",
       "      <td>3.42</td>\n",
       "      <td>0.75</td>\n",
       "      <td>11.0</td>\n",
       "      <td>6.0</td>\n",
       "    </tr>\n",
       "    <tr>\n",
       "      <th>1188</th>\n",
       "      <td>5.9</td>\n",
       "      <td>0.645</td>\n",
       "      <td>0.12</td>\n",
       "      <td>2.0</td>\n",
       "      <td>0.075</td>\n",
       "      <td>32.0</td>\n",
       "      <td>44.0</td>\n",
       "      <td>0.99547</td>\n",
       "      <td>3.57</td>\n",
       "      <td>0.71</td>\n",
       "      <td>10.2</td>\n",
       "      <td>5.0</td>\n",
       "    </tr>\n",
       "    <tr>\n",
       "      <th>1189</th>\n",
       "      <td>6.0</td>\n",
       "      <td>0.310</td>\n",
       "      <td>0.47</td>\n",
       "      <td>3.6</td>\n",
       "      <td>0.067</td>\n",
       "      <td>18.0</td>\n",
       "      <td>42.0</td>\n",
       "      <td>0.99549</td>\n",
       "      <td>3.39</td>\n",
       "      <td>0.66</td>\n",
       "      <td>11.0</td>\n",
       "      <td>6.0</td>\n",
       "    </tr>\n",
       "  </tbody>\n",
       "</table>\n",
       "</div>"
      ],
      "text/plain": [
       "      fixed acidity (0)  volatile acidity (1)  citric acid (2)  \\\n",
       "1185                6.2                 0.600             0.08   \n",
       "1186                5.9                 0.550             0.10   \n",
       "1187                6.3                 0.510             0.13   \n",
       "1188                5.9                 0.645             0.12   \n",
       "1189                6.0                 0.310             0.47   \n",
       "\n",
       "      residual sugar (3)  chlorides (4)  free sulfur dioxide (5)  \\\n",
       "1185                 2.0          0.090                     32.0   \n",
       "1186                 2.2          0.062                     39.0   \n",
       "1187                 2.3          0.076                     29.0   \n",
       "1188                 2.0          0.075                     32.0   \n",
       "1189                 3.6          0.067                     18.0   \n",
       "\n",
       "      total sulfur dioxide (6)  density (7)  pH (8)  sulphates (9)  \\\n",
       "1185                      44.0      0.99490    3.45           0.58   \n",
       "1186                      51.0      0.99512    3.52           0.76   \n",
       "1187                      40.0      0.99574    3.42           0.75   \n",
       "1188                      44.0      0.99547    3.57           0.71   \n",
       "1189                      42.0      0.99549    3.39           0.66   \n",
       "\n",
       "      alcohol (10)  target  \n",
       "1185          10.5     5.0  \n",
       "1186          11.2     6.0  \n",
       "1187          11.0     6.0  \n",
       "1188          10.2     5.0  \n",
       "1189          11.0     6.0  "
      ]
     },
     "execution_count": 16,
     "metadata": {},
     "output_type": "execute_result"
    }
   ],
   "source": [
    "x_list = np.array(df[list(df.columns)]).tolist()\n",
    "cols = df.columns\n",
    "df = pd.DataFrame(x_list, columns=cols)\n",
    "df.tail()"
   ]
  },
  {
   "cell_type": "markdown",
   "metadata": {},
   "source": [
    "Ordinary Least Squares Model Summary with Stats"
   ]
  },
  {
   "cell_type": "code",
   "execution_count": 17,
   "metadata": {
    "collapsed": false
   },
   "outputs": [
    {
     "data": {
      "text/html": [
       "<table class=\"simpletable\">\n",
       "<caption>OLS Regression Results</caption>\n",
       "<tr>\n",
       "  <th>Dep. Variable:</th>         <td>target</td>      <th>  R-squared:         </th> <td>   0.391</td> \n",
       "</tr>\n",
       "<tr>\n",
       "  <th>Model:</th>                   <td>OLS</td>       <th>  Adj. R-squared:    </th> <td>   0.385</td> \n",
       "</tr>\n",
       "<tr>\n",
       "  <th>Method:</th>             <td>Least Squares</td>  <th>  F-statistic:       </th> <td>   68.65</td> \n",
       "</tr>\n",
       "<tr>\n",
       "  <th>Date:</th>             <td>Mon, 28 Nov 2016</td> <th>  Prob (F-statistic):</th> <td>1.66e-118</td>\n",
       "</tr>\n",
       "<tr>\n",
       "  <th>Time:</th>                 <td>13:37:46</td>     <th>  Log-Likelihood:    </th> <td> -1073.3</td> \n",
       "</tr>\n",
       "<tr>\n",
       "  <th>No. Observations:</th>      <td>  1190</td>      <th>  AIC:               </th> <td>   2171.</td> \n",
       "</tr>\n",
       "<tr>\n",
       "  <th>Df Residuals:</th>          <td>  1178</td>      <th>  BIC:               </th> <td>   2232.</td> \n",
       "</tr>\n",
       "<tr>\n",
       "  <th>Df Model:</th>              <td>    11</td>      <th>                     </th>     <td> </td>    \n",
       "</tr>\n",
       "<tr>\n",
       "  <th>Covariance Type:</th>      <td>nonrobust</td>    <th>                     </th>     <td> </td>    \n",
       "</tr>\n",
       "</table>\n",
       "<table class=\"simpletable\">\n",
       "<tr>\n",
       "              <td></td>                <th>coef</th>     <th>std err</th>      <th>t</th>      <th>P>|t|</th> <th>[95.0% Conf. Int.]</th> \n",
       "</tr>\n",
       "<tr>\n",
       "  <th>const</th>                    <td>   26.4158</td> <td>   27.447</td> <td>    0.962</td> <td> 0.336</td> <td>  -27.435    80.266</td>\n",
       "</tr>\n",
       "<tr>\n",
       "  <th>fixed acidity (0)</th>        <td>    0.0195</td> <td>    0.031</td> <td>    0.630</td> <td> 0.529</td> <td>   -0.041     0.080</td>\n",
       "</tr>\n",
       "<tr>\n",
       "  <th>volatile acidity (1)</th>     <td>   -0.8541</td> <td>    0.150</td> <td>   -5.686</td> <td> 0.000</td> <td>   -1.149    -0.559</td>\n",
       "</tr>\n",
       "<tr>\n",
       "  <th>citric acid (2)</th>          <td>   -0.3210</td> <td>    0.171</td> <td>   -1.881</td> <td> 0.060</td> <td>   -0.656     0.014</td>\n",
       "</tr>\n",
       "<tr>\n",
       "  <th>residual sugar (3)</th>       <td>    0.0162</td> <td>    0.051</td> <td>    0.315</td> <td> 0.752</td> <td>   -0.085     0.117</td>\n",
       "</tr>\n",
       "<tr>\n",
       "  <th>chlorides (4)</th>            <td>   -1.4914</td> <td>    1.382</td> <td>   -1.079</td> <td> 0.281</td> <td>   -4.203     1.220</td>\n",
       "</tr>\n",
       "<tr>\n",
       "  <th>free sulfur dioxide (5)</th>  <td>    0.0030</td> <td>    0.003</td> <td>    1.115</td> <td> 0.265</td> <td>   -0.002     0.008</td>\n",
       "</tr>\n",
       "<tr>\n",
       "  <th>total sulfur dioxide (6)</th> <td>   -0.0025</td> <td>    0.001</td> <td>   -2.613</td> <td> 0.009</td> <td>   -0.004    -0.001</td>\n",
       "</tr>\n",
       "<tr>\n",
       "  <th>density (7)</th>              <td>  -22.3903</td> <td>   28.008</td> <td>   -0.799</td> <td> 0.424</td> <td>  -77.342    32.562</td>\n",
       "</tr>\n",
       "<tr>\n",
       "  <th>pH (8)</th>                   <td>   -0.6120</td> <td>    0.231</td> <td>   -2.646</td> <td> 0.008</td> <td>   -1.066    -0.158</td>\n",
       "</tr>\n",
       "<tr>\n",
       "  <th>sulphates (9)</th>            <td>    1.7486</td> <td>    0.172</td> <td>   10.168</td> <td> 0.000</td> <td>    1.411     2.086</td>\n",
       "</tr>\n",
       "<tr>\n",
       "  <th>alcohol (10)</th>             <td>    0.2870</td> <td>    0.034</td> <td>    8.446</td> <td> 0.000</td> <td>    0.220     0.354</td>\n",
       "</tr>\n",
       "</table>\n",
       "<table class=\"simpletable\">\n",
       "<tr>\n",
       "  <th>Omnibus:</th>       <td> 7.999</td> <th>  Durbin-Watson:     </th> <td>   1.680</td>\n",
       "</tr>\n",
       "<tr>\n",
       "  <th>Prob(Omnibus):</th> <td> 0.018</td> <th>  Jarque-Bera (JB):  </th> <td>  10.886</td>\n",
       "</tr>\n",
       "<tr>\n",
       "  <th>Skew:</th>          <td>-0.005</td> <th>  Prob(JB):          </th> <td> 0.00433</td>\n",
       "</tr>\n",
       "<tr>\n",
       "  <th>Kurtosis:</th>      <td> 3.468</td> <th>  Cond. No.          </th> <td>1.20e+05</td>\n",
       "</tr>\n",
       "</table>"
      ],
      "text/plain": [
       "<class 'statsmodels.iolib.summary.Summary'>\n",
       "\"\"\"\n",
       "                            OLS Regression Results                            \n",
       "==============================================================================\n",
       "Dep. Variable:                 target   R-squared:                       0.391\n",
       "Model:                            OLS   Adj. R-squared:                  0.385\n",
       "Method:                 Least Squares   F-statistic:                     68.65\n",
       "Date:                Mon, 28 Nov 2016   Prob (F-statistic):          1.66e-118\n",
       "Time:                        13:37:46   Log-Likelihood:                -1073.3\n",
       "No. Observations:                1190   AIC:                             2171.\n",
       "Df Residuals:                    1178   BIC:                             2232.\n",
       "Df Model:                          11                                         \n",
       "Covariance Type:            nonrobust                                         \n",
       "============================================================================================\n",
       "                               coef    std err          t      P>|t|      [95.0% Conf. Int.]\n",
       "--------------------------------------------------------------------------------------------\n",
       "const                       26.4158     27.447      0.962      0.336       -27.435    80.266\n",
       "fixed acidity (0)            0.0195      0.031      0.630      0.529        -0.041     0.080\n",
       "volatile acidity (1)        -0.8541      0.150     -5.686      0.000        -1.149    -0.559\n",
       "citric acid (2)             -0.3210      0.171     -1.881      0.060        -0.656     0.014\n",
       "residual sugar (3)           0.0162      0.051      0.315      0.752        -0.085     0.117\n",
       "chlorides (4)               -1.4914      1.382     -1.079      0.281        -4.203     1.220\n",
       "free sulfur dioxide (5)      0.0030      0.003      1.115      0.265        -0.002     0.008\n",
       "total sulfur dioxide (6)    -0.0025      0.001     -2.613      0.009        -0.004    -0.001\n",
       "density (7)                -22.3903     28.008     -0.799      0.424       -77.342    32.562\n",
       "pH (8)                      -0.6120      0.231     -2.646      0.008        -1.066    -0.158\n",
       "sulphates (9)                1.7486      0.172     10.168      0.000         1.411     2.086\n",
       "alcohol (10)                 0.2870      0.034      8.446      0.000         0.220     0.354\n",
       "==============================================================================\n",
       "Omnibus:                        7.999   Durbin-Watson:                   1.680\n",
       "Prob(Omnibus):                  0.018   Jarque-Bera (JB):               10.886\n",
       "Skew:                          -0.005   Prob(JB):                      0.00433\n",
       "Kurtosis:                       3.468   Cond. No.                     1.20e+05\n",
       "==============================================================================\n",
       "\n",
       "Warnings:\n",
       "[1] Standard Errors assume that the covariance matrix of the errors is correctly specified.\n",
       "[2] The condition number is large, 1.2e+05. This might indicate that there are\n",
       "strong multicollinearity or other numerical problems.\n",
       "\"\"\""
      ]
     },
     "execution_count": 17,
     "metadata": {},
     "output_type": "execute_result"
    }
   ],
   "source": [
    "x = df[list(df.columns)[:-1]]\n",
    "y = df['target']\n",
    "x = sm.add_constant(x)  #include intercept, since x is not scaled\n",
    "modl = sm.OLS(y, x).fit()  #y goes before x in statsmodels\n",
    "modl.summary()"
   ]
  },
  {
   "cell_type": "markdown",
   "metadata": {},
   "source": [
    "Additional data formats needed for some algorithms"
   ]
  },
  {
   "cell_type": "code",
   "execution_count": 18,
   "metadata": {
    "collapsed": true
   },
   "outputs": [],
   "source": [
    "# 11 features, excluding labels, in list of lists format\n",
    "x_list = np.array(df[list(df.columns)[:-1]]).tolist()\n",
    "\n",
    "# labels in list format\n",
    "labels = df['target'].tolist()\n",
    "\n",
    "# 12 features, scaled\n",
    "dfvals = df.values\n",
    "data_scaled = StandardScaler().fit_transform(dfvals)\n",
    "\n",
    "# 11 features, scaled, in dataframe format\n",
    "# lables, scaled, in list format\n",
    "df_scaled = pd.DataFrame(data_scaled, columns=df.columns)\n",
    "labels_scaled = df_scaled['target'].tolist()\n",
    "del df_scaled['target']\n",
    "\n",
    "# 11 features, scaled, in list of lists format\n",
    "x_scaled = np.array(df_scaled).tolist()"
   ]
  },
  {
   "cell_type": "markdown",
   "metadata": {},
   "source": [
    "Value Counts for Wine Taste Quality (note: 1, 2, 9 & 10 are zero)"
   ]
  },
  {
   "cell_type": "code",
   "execution_count": 19,
   "metadata": {
    "collapsed": false
   },
   "outputs": [
    {
     "data": {
      "text/plain": [
       "5.0    511\n",
       "6.0    497\n",
       "7.0    135\n",
       "4.0     33\n",
       "8.0     11\n",
       "3.0      3\n",
       "Name: target, dtype: int64"
      ]
     },
     "execution_count": 19,
     "metadata": {},
     "output_type": "execute_result"
    }
   ],
   "source": [
    "df.target.value_counts() "
   ]
  },
  {
   "cell_type": "markdown",
   "metadata": {},
   "source": [
    "## Models & Algorithms"
   ]
  },
  {
   "cell_type": "markdown",
   "metadata": {},
   "source": [
    "1.  Stepwise Algorithm <br>\n",
    "2.  Stepwise Regression 6 features <br>\n",
    "3.  Linear Regression 11 features <br>\n",
    "4.  Lars Algorithm <br>\n",
    "5.  Lars, xy scaled <br>\n",
    "6.  Lasso, alphas, sklearn <br>\n",
    "7.  Lasso alpha 0.01, sklearn, xy scaled <br> \n",
    "8.  Lasso alpha 0.01, sklearn, x scaled <br> \n",
    "9.  Gradient Descent, from scratch, x scaled <br>\n",
    "10. Gradient Descent, sklearn, x scaled <br>\n",
    "11. Gradient Descent 6 features, from scratch, x scaled <br>\n",
    "12. Gradient Descent 6 features, sklearn, x scaled  <br>\n",
    "13. Ridge, alphas, from scratch, x scaled <br>\n",
    "14. Ridge, alphas, sklearn <br>\n",
    "15. Ridge alpha .0001, from scratch, x scaled <br> \n",
    "16. Ridge alpha 1, sklearn <br>\n",
    "17. ElasticNet grid search for L1 ratio"
   ]
  },
  {
   "cell_type": "markdown",
   "metadata": {},
   "source": [
    "#### 1. Stepwise Algorithm "
   ]
  },
  {
   "cell_type": "code",
   "execution_count": 20,
   "metadata": {
    "collapsed": false
   },
   "outputs": [
    {
     "data": {
      "image/png": "[encoded data removed]",
      "text/plain": [
       "<matplotlib.figure.Figure at 0x11e2e3e50>"
      ]
     },
     "metadata": {},
     "output_type": "display_data"
    },
    {
     "name": "stdout",
     "output_type": "stream",
     "text": [
      "Out of sample error versus attribute set size\n",
      "[0.66055884572825696, 0.62215280747476975, 0.60829317680353701, 0.60611815213893705, 0.60484955977365518, 0.60414920705567821, 0.60440492371769317, 0.60473811379993558, 0.60545805123203167, 0.6068776150529851, 0.60780327419468516]\n",
      "\n",
      "Best attribute indices\n",
      "[10, 9, 1, 8, 6, 2, 4, 5, 3, 7, 0]\n",
      "\n",
      "Best attribute names\n",
      "['alcohol (10)', 'sulphates (9)', 'volatile acidity (1)', 'pH (8)', 'total sulfur dioxide (6)', 'citric acid (2)', 'chlorides (4)', 'free sulfur dioxide (5)', 'residual sugar (3)', 'density (7)', 'fixed acidity (0)']\n",
      "\n",
      "Rmse Results of Forward Stepwise Regression\n"
     ]
    },
    {
     "data": {
      "text/html": [
       "<div>\n",
       "<table border=\"1\" class=\"dataframe\">\n",
       "  <thead>\n",
       "    <tr style=\"text-align: right;\">\n",
       "      <th></th>\n",
       "      <th>alcohol (10)</th>\n",
       "      <th>sulphates (9)</th>\n",
       "      <th>volatile acidity (1)</th>\n",
       "      <th>pH (8)</th>\n",
       "      <th>total sulfur dioxide (6)</th>\n",
       "      <th>citric acid (2)</th>\n",
       "      <th>chlorides (4)</th>\n",
       "      <th>free sulfur dioxide (5)</th>\n",
       "      <th>residual sugar (3)</th>\n",
       "      <th>density (7)</th>\n",
       "      <th>fixed acidity (0)</th>\n",
       "    </tr>\n",
       "  </thead>\n",
       "  <tbody>\n",
       "    <tr>\n",
       "      <th>RMSE</th>\n",
       "      <td>0.660559</td>\n",
       "      <td>0.622153</td>\n",
       "      <td>0.608293</td>\n",
       "      <td>0.606118</td>\n",
       "      <td>0.60485</td>\n",
       "      <td>0.604149</td>\n",
       "      <td>0.604405</td>\n",
       "      <td>0.604738</td>\n",
       "      <td>0.605458</td>\n",
       "      <td>0.606878</td>\n",
       "      <td>0.607803</td>\n",
       "    </tr>\n",
       "  </tbody>\n",
       "</table>\n",
       "</div>"
      ],
      "text/plain": [
       "      alcohol (10)  sulphates (9)  volatile acidity (1)    pH (8)  \\\n",
       "RMSE      0.660559       0.622153              0.608293  0.606118   \n",
       "\n",
       "      total sulfur dioxide (6)  citric acid (2)  chlorides (4)  \\\n",
       "RMSE                   0.60485         0.604149       0.604405   \n",
       "\n",
       "      free sulfur dioxide (5)  residual sugar (3)  density (7)  \\\n",
       "RMSE                 0.604738            0.605458     0.606878   \n",
       "\n",
       "      fixed acidity (0)  \n",
       "RMSE           0.607803  "
      ]
     },
     "execution_count": 20,
     "metadata": {},
     "output_type": "execute_result"
    }
   ],
   "source": [
    "#index list positions \n",
    "index_positions = range(len(x_list))\n",
    "x_list_ = [x_list[i] for i in index_positions]\n",
    "y_ = [labels[i] for i in index_positions]\n",
    "\n",
    "#try each feature to see which one gives least oos error\n",
    "stepwise_indices = []\n",
    "indx = range(len(x_list_[1]))\n",
    "index_set = set(indx)\n",
    "oos_error = []\n",
    "for i in indx:\n",
    "    feature_set = set(stepwise_indices)\n",
    "    try_set = index_set - feature_set\n",
    "    try_list = [i for i in try_set]  \n",
    "    error_list, temp_list = [], []\n",
    "    for feat in try_list:  \n",
    "        temp_list = [] + stepwise_indices\n",
    "        temp_list.append(feat)\n",
    "        xTemp = x_features_cols(x_list_, temp_list) #add next feature to dataset\n",
    "        x_ = np.array(xTemp); y_ = np.array(y_)  #convert to numpy arrays\n",
    "        modl = LinearRegression()  \n",
    "        modl.fit(x_, y_)\n",
    "        step_preds = cross_val_predict(modl, x_, y_, cv=10) #make predictions\n",
    "        rms_error = calc_rmse(step_preds, y_)  #calculate errors\n",
    "        error_list.append(rms_error)\n",
    "        temp_list = []\n",
    "    iBest = np.argmin(error_list)\n",
    "    stepwise_indices.append(try_list[iBest])\n",
    "    oos_error.append(error_list[iBest])\n",
    "    \n",
    "#plot error versus number of attributes\n",
    "xaxis = range(len(oos_error))\n",
    "plt.plot(xaxis, oos_error, 'k')\n",
    "plt.xlabel('Number of Attributes')\n",
    "plt.ylabel('Error (RMS)')\n",
    "plt.show()\n",
    "\n",
    "print('Out of sample error versus attribute set size')\n",
    "print(oos_error)\n",
    "print('\\nBest attribute indices')\n",
    "print(stepwise_indices)\n",
    "stepwise_sequence = [df.columns[i] for i in stepwise_indices]\n",
    "print('\\nBest attribute names')\n",
    "print(stepwise_sequence)\n",
    "oos_rounded = []\n",
    "for i in oos_error:\n",
    "    oos_rounded.append(round(i,7))\n",
    "df_features = pd.DataFrame(zip(oos_rounded), index = stepwise_sequence, columns = ['RMSE'])\n",
    "print '\\nRmse Results of Forward Stepwise Regression'\n",
    "df_features.T"
   ]
  },
  {
   "cell_type": "markdown",
   "metadata": {},
   "source": [
    "#### 2. Stepwise Regression 6 features"
   ]
  },
  {
   "cell_type": "code",
   "execution_count": 21,
   "metadata": {
    "collapsed": true
   },
   "outputs": [],
   "source": [
    "def run_stepwise_2(x, y):\n",
    "    modl = LinearRegression()\n",
    "    modl.fit(x, y)\n",
    "    preds = cross_val_predict(modl, x, y, cv=10) #make predictions\n",
    "    model_details('Stepwise Regression', preds, modl.coef_, modl.intercept_, \n",
    "                  stepwise_sequence[0:6], y)"
   ]
  },
  {
   "cell_type": "markdown",
   "metadata": {
    "collapsed": true
   },
   "source": [
    "#### 3. Linear Regression 11 features"
   ]
  },
  {
   "cell_type": "code",
   "execution_count": 22,
   "metadata": {
    "collapsed": false
   },
   "outputs": [],
   "source": [
    "def run_linear_regr_3(x, y):\n",
    "    modl = LinearRegression()\n",
    "    modl.fit(x, y)\n",
    "    preds = cross_val_predict(modl, x, y, cv=10) #make predictions\n",
    "    model_details('Linear Regression', preds, modl.coef_, modl.intercept_, stepwise_sequence, y)"
   ]
  },
  {
   "cell_type": "markdown",
   "metadata": {},
   "source": [
    "#### 4. Lars Algorithm"
   ]
  },
  {
   "cell_type": "code",
   "execution_count": 23,
   "metadata": {
    "collapsed": false
   },
   "outputs": [
    {
     "name": "stdout",
     "output_type": "stream",
     "text": [
      "index of betas with lowest rmse 304   minimum rmse 0.780654884982\n",
      "\n",
      "coefficients in original feature order\n",
      "[('fixed acidity (0)', 0.024), ('volatile acidity (1)', -0.18400000000000014), ('citric acid (2)', -0.07600000000000004), ('residual sugar (3)', 0.0040000000000000001), ('chlorides (4)', -0.028000000000000001), ('free sulfur dioxide (5)', 0.032000000000000001), ('total sulfur dioxide (6)', -0.084000000000000047), ('density (7)', -0.032000000000000001), ('pH (8)', -0.11200000000000007), ('sulphates (9)', 0.26400000000000018), ('alcohol (10)', 0.37600000000000028)]\n",
      "\n",
      "feature priority under LARS algorithm\n",
      "['alcohol (10)', 'sulphates (9)', 'volatile acidity (1)', 'total sulfur dioxide (6)', 'pH (8)', 'chlorides (4)', 'density (7)', 'citric acid (2)', 'free sulfur dioxide (5)', 'fixed acidity (0)', 'residual sugar (3)']\n"
     ]
    },
    {
     "data": {
      "image/png": "[encoded data removed]",
      "text/plain": [
       "<matplotlib.figure.Figure at 0x11a7a7610>"
      ]
     },
     "metadata": {},
     "output_type": "display_data"
    }
   ],
   "source": [
    "n_rows = len(df.index)\n",
    "n_cols = len(x_list[0])\n",
    "beta = [0.0] * n_cols # row of beta coefficients\n",
    "beta_matrix = [] # matrix of beta coefficients\n",
    "beta_matrix.append(list(beta))\n",
    "n_steps = 350\n",
    "step_size = 0.004\n",
    "lars_indices = [] # features placement sequence\n",
    "\n",
    "# calculate correlation between features & residuals\n",
    "# and increment (decrement) beta corresponding to feature with highest correlation \n",
    "for i in range(n_steps):\n",
    "    residuals = [0.0] * n_rows\n",
    "    for j in range(n_rows):\n",
    "        labels_hat = sum([x_scaled[j][k] * beta[k] for k in range(n_cols)])\n",
    "        residuals[j] = labels_scaled[j] - labels_hat\n",
    "    corr = [0.0] * n_cols    \n",
    "    for j in range(n_cols):\n",
    "        corr[j] = sum([x_scaled[k][j] * residuals[k] for k in range(n_rows)]) / n_rows\n",
    "    k = 0    \n",
    "    corr_i = corr[0]\n",
    "    for j in range(1, (n_cols)):\n",
    "        if abs(corr_i) < abs(corr[j]):\n",
    "            k = j\n",
    "            corr_i = corr[j]\n",
    "    beta[k] += step_size * corr_i / abs(corr_i)\n",
    "    beta_matrix.append(list(beta))\n",
    "    beta_indices = [index for index in range(n_cols) if beta[index] != 0.0]\n",
    "    for q in beta_indices:\n",
    "        if (q in lars_indices) == False:\n",
    "            lars_indices.append(q)\n",
    "\n",
    "#find the beta matrix index with lowest rmse\n",
    "errors = []\n",
    "#x = np.array(df_scaled).tolist()  #list of list format for calc_pre_vals\n",
    "#y = labels_scaled\n",
    "for i in range(len(beta_matrix)):\n",
    "    preds = calc_pred_vals(x_scaled, beta_matrix[i])\n",
    "    rms_error = calc_rmse(preds, labels_scaled)\n",
    "    errors.append(rms_error)\n",
    "min_error = min(errors)\n",
    "min_index = errors.index(min_error)\n",
    "print 'index of betas with lowest rmse', min_index, '  minimum rmse', min_error\n",
    "    \n",
    "#plot range of beta values for each attribute\n",
    "for i in range(n_cols):\n",
    "    coeff_curve = [beta_matrix[k][i] for k in range(n_steps)]\n",
    "    xaxis = range(n_steps)\n",
    "    plt.plot(xaxis, coeff_curve)\n",
    "print '\\ncoefficients in original feature order'\n",
    "dfnames = df.columns\n",
    "coeffs = beta_matrix[min_index]\n",
    "print (zip(dfnames, coeffs))  \n",
    "lars_sequence = [dfnames[lars_indices[i]] for i in range(len(lars_indices))]  \n",
    "lars_coeffs = [coeffs[i] for i in lars_indices]\n",
    "print '\\nfeature priority under LARS algorithm\\n', lars_sequence\n",
    "plt.xlabel(\"Steps Taken\")\n",
    "plt.ylabel((\"Coefficient Values\"))\n",
    "plt.show()"
   ]
  },
  {
   "cell_type": "markdown",
   "metadata": {},
   "source": [
    "#### 5. Lars, xy scaled"
   ]
  },
  {
   "cell_type": "code",
   "execution_count": 24,
   "metadata": {
    "collapsed": true
   },
   "outputs": [],
   "source": [
    "def run_lars_5(x, y):\n",
    "    preds = calc_pred_vals(x, lars_coeffs)  # lars_coeffs is global; no intercept\n",
    "    model_details('Lars, from scratch, xy scaled', preds, lars_coeffs, 0, lars_sequence, \n",
    "                  y, False)"
   ]
  },
  {
   "cell_type": "markdown",
   "metadata": {},
   "source": [
    "#### 6. Lasso, alphas, sklearn"
   ]
  },
  {
   "cell_type": "code",
   "execution_count": 25,
   "metadata": {
    "collapsed": false
   },
   "outputs": [
    {
     "name": "stdout",
     "output_type": "stream",
     "text": [
      "x and y scaled\n",
      "RMS Error             alpha\n",
      "(0.79565010970717953, 0.001)\n",
      "(0.79487333719072073, 0.01)\n",
      "(0.81011294297360148, 0.1)\n",
      "\n",
      "x scaled  (labels not scaled)\n",
      "RMS Error             alpha\n",
      "(0.60774404458458631, 0.001)\n",
      "(0.60723293228134245, 0.01)\n",
      "(0.62565199074834044, 0.1)\n"
     ]
    }
   ],
   "source": [
    "x = df_scaled[lars_sequence]\n",
    "y = labels_scaled\n",
    "alpha_list = [0.001, 0.01, 0.1]  \n",
    "error_list = []\n",
    "for alph in alpha_list:\n",
    "    modl = Lasso(alpha=alph, normalize=False) \n",
    "    modl.fit(x, y)   \n",
    "    preds = cross_val_predict(modl, x, y, cv=10) #make predictions\n",
    "    rms_error = calc_rmse(preds, y)  #calculate errors\n",
    "    error_list.append(rms_error)\n",
    "print 'x and y scaled'\n",
    "print(\"RMS Error             alpha\")\n",
    "for i in range(len(error_list)):\n",
    "    print(error_list[i], alpha_list[i])\n",
    "\n",
    "y = df['target']\n",
    "alpha_list = [0.001, 0.01, 0.1]  \n",
    "error_list = []\n",
    "for alph in alpha_list:\n",
    "    modl = Lasso(alpha=alph, normalize=False) \n",
    "    modl.fit(x, y)   \n",
    "    preds = cross_val_predict(modl, x, y, cv=10) #make predictions\n",
    "    rms_error = calc_rmse(preds, y)  #calculate errors\n",
    "    error_list.append(rms_error)\n",
    "print '\\nx scaled  (labels not scaled)'\n",
    "print(\"RMS Error             alpha\")\n",
    "for i in range(len(error_list)):\n",
    "    print(error_list[i], alpha_list[i])"
   ]
  },
  {
   "cell_type": "markdown",
   "metadata": {},
   "source": [
    "#### 7. Lasso, alpha 0.01, sklearn, xy scaled "
   ]
  },
  {
   "cell_type": "code",
   "execution_count": 26,
   "metadata": {
    "collapsed": true
   },
   "outputs": [],
   "source": [
    "def run_lasso_7(x, y):\n",
    "    modl = Lasso(alpha=0.01, normalize=False)\n",
    "    modl.fit(x,y)\n",
    "    preds = cross_val_predict(modl, x, y, cv=10) #make predictions\n",
    "    model_details('Lasso alpha 0.01, sklearn, xy scaled', preds, modl.coef_, \n",
    "                  modl.intercept_, lars_sequence, y, False)"
   ]
  },
  {
   "cell_type": "markdown",
   "metadata": {},
   "source": [
    "#### 8. Lasso, alpha 0.01, sklearn, x scaled"
   ]
  },
  {
   "cell_type": "code",
   "execution_count": 27,
   "metadata": {
    "collapsed": true
   },
   "outputs": [],
   "source": [
    "def run_lasso_8(x, y):\n",
    "    modl = Lasso(alpha=0.01, normalize=False)\n",
    "    modl.fit(x,y)\n",
    "    preds = cross_val_predict(modl, x, y, cv=10) #make predictions\n",
    "    model_details('Lasso alpha 0.01, sklearn, x scaled', preds, modl.coef_, \n",
    "                  modl.intercept_, lars_sequence, y)"
   ]
  },
  {
   "cell_type": "markdown",
   "metadata": {},
   "source": [
    "#### 9. Gradient Descent, from scratch, x scaled "
   ]
  },
  {
   "cell_type": "code",
   "execution_count": 28,
   "metadata": {
    "collapsed": true
   },
   "outputs": [],
   "source": [
    "def minimize_stochastic(target_fn, gradient_fn, x, y, theta_0, alpha_0=0.01):\n",
    "    data = zip(x, y)\n",
    "    theta = theta_0   # theta-initial guess\n",
    "    alpha = alpha_0   # alpha-initial step size\n",
    "    min_theta = None  # the minimum so far\n",
    "    min_value = float(\"inf\") \n",
    "    iterations_with_no_improvement = 0\n",
    "    while iterations_with_no_improvement < 100: \n",
    "        value = sum(target_fn(x_i, y_i, theta) for x_i, y_i in data)\n",
    "        # if we've found a new minimum, remember it & go back to the original step size\n",
    "        if value < min_value: \n",
    "            min_theta = theta\n",
    "            min_value = value\n",
    "            iterations_with_no_improvement = 0\n",
    "            alpha = alpha_0\n",
    "        else:  # otherwise we're not improving, so try shrinking the step size\n",
    "            iterations_with_no_improvement += 1\n",
    "            alpha *= 0.9\n",
    "        for x_i, y_i in in_random_order(data):\n",
    "            # and take a gradient step for each of the data points\n",
    "            gradient_i = gradient_fn(x_i, y_i, theta)\n",
    "            theta = np.subtract(theta, np.multiply(alpha, gradient_i)) \n",
    "    return min_theta\n",
    "\n",
    "def sqd_err_gradient(x_i, y_i, beta):  \n",
    "    return [-2 * x_ij * regr_error(x_i, y_i, beta) for x_ij in x_i]\n",
    "\n",
    "def sqd_err_regr(x_i, y_i, beta):  \n",
    "    return regr_error(x_i, y_i, beta) ** 2\n",
    "\n",
    "def estimate_beta_sgd(x, y):  \n",
    "    beta_initial = [random.random() for x_i in x[0]]\n",
    "    beta = minimize_stochastic(sqd_err_regr, sqd_err_gradient, x, y, beta_initial, 0.001)\n",
    "    return beta\n",
    "\n",
    "def run_gradient_descent_9(x, y):\n",
    "    random.seed(0)\n",
    "    beta = estimate_beta_sgd(x, y)\n",
    "    preds = calc_pred_vals(x[:,1:], beta[1:], beta[0])\n",
    "    coefs = beta[1:]\n",
    "    coefs = [coefs[i] for i in stepwise_indices] #use stepwise sequence\n",
    "    model_details('Gradient Descent, from scratch, x scaled', preds, coefs, \n",
    "                  beta[0], stepwise_sequence, y)"
   ]
  },
  {
   "cell_type": "markdown",
   "metadata": {},
   "source": [
    "#### 10. Gradient Descent, sklearn, x scaled "
   ]
  },
  {
   "cell_type": "code",
   "execution_count": 29,
   "metadata": {
    "collapsed": true
   },
   "outputs": [],
   "source": [
    "def run_gradient_descent_10(x, y):\n",
    "    modl = SGDRegressor(penalty='none', random_state=0)\n",
    "    modl.fit(x, y)\n",
    "    preds = cross_val_predict(modl, x, y, cv=10) #make predictions\n",
    "    model_details('Gradient Descent, sklearn, x scaled', preds, modl.coef_, \n",
    "                  modl.intercept_, stepwise_sequence, y)"
   ]
  },
  {
   "cell_type": "markdown",
   "metadata": {},
   "source": [
    "#### 11. Gradient Descent 6 features, from scratch, x scaled "
   ]
  },
  {
   "cell_type": "code",
   "execution_count": 30,
   "metadata": {
    "collapsed": false
   },
   "outputs": [],
   "source": [
    "def run_gr_des_11(x, y):\n",
    "    random.seed(0)\n",
    "    beta = estimate_beta_sgd(x, y)\n",
    "    preds = calc_pred_vals(x[:,1:], beta[1:], beta[0])\n",
    "    coefs = beta[1:]\n",
    "    model_details('Gradient Descent 6 features, from scratch, x scaled', preds, coefs, \n",
    "                  beta[0], stepwise_sequence[0:6], y)"
   ]
  },
  {
   "cell_type": "markdown",
   "metadata": {},
   "source": [
    "#### 12. Gradient Descent 6 features, sklearn, x scaled"
   ]
  },
  {
   "cell_type": "code",
   "execution_count": 31,
   "metadata": {
    "collapsed": true
   },
   "outputs": [],
   "source": [
    "def run_gradient_descent_12(x, y):\n",
    "    modl = SGDRegressor(penalty='none', random_state=0)\n",
    "    modl.fit(x, y) \n",
    "    preds = cross_val_predict(modl, x, y, cv=10) #make predictions\n",
    "    model_details('Gradient Descent 6 features, sklearn, x scaled', preds, modl.coef_, \n",
    "                  modl.intercept_, stepwise_sequence[0:6], y)"
   ]
  },
  {
   "cell_type": "markdown",
   "metadata": {},
   "source": [
    "#### 13. Ridge, alphas, from scratch, x scaled"
   ]
  },
  {
   "cell_type": "code",
   "execution_count": 32,
   "metadata": {
    "collapsed": false
   },
   "outputs": [
    {
     "name": "stdout",
     "output_type": "stream",
     "text": [
      "Ridge (alphas) from scratch, x scaled\n",
      "\n",
      "alpha: 1e-05\n",
      "betas in original feature sequence\n",
      "[ 5.6393034   0.02912913 -0.14057375 -0.05786052  0.00701974 -0.02118594\n",
      "  0.02599302 -0.06495154 -0.03625986 -0.08044906  0.20348866  0.27974844]\n",
      "RMSE 0.596287998576\n",
      "\n",
      "alpha: 0.0001\n",
      "betas in original feature sequence\n",
      "[ 5.63942558  0.02847943 -0.14050631 -0.05736344  0.00718218 -0.02125532\n",
      "  0.02624094 -0.06467526 -0.03618802 -0.08054016  0.20354713  0.27970492]\n",
      "RMSE 0.596287982856\n",
      "\n",
      "alpha: 0.001\n",
      "betas in original feature sequence\n",
      "[ 5.63945062  0.0288501  -0.14020854 -0.05695509  0.00731784 -0.02119285\n",
      "  0.02642496 -0.06501123 -0.03649221 -0.08010191  0.20338291  0.27939523]\n",
      "RMSE 0.596288183127\n"
     ]
    }
   ],
   "source": [
    "def ridge_penalty(beta, alpha):\n",
    "    return alpha * np.dot(beta[1:], beta[1:])\n",
    "\n",
    "def ridge_penalty_gradient(beta, alpha):# gradient of just the ridge penalty\n",
    "    return [0] + [2 * alpha * beta_j for beta_j in beta[1:]]\n",
    "\n",
    "def sqd_err_ridge(x_i, y_i, beta, alpha): \n",
    "    # estimate error plus ridge penalty on beta\n",
    "    return regr_error(x_i, y_i, beta) ** 2 + ridge_penalty(beta, alpha)\n",
    "\n",
    "def sqd_err_ridge_gradient(x_i, y_i, beta, alpha): \n",
    "    # gradient corresponding to the ith squared error term incl the ridge penalty\n",
    "    return np.add(sqd_err_gradient(x_i, y_i, beta), ridge_penalty_gradient(beta, alpha))\n",
    "\n",
    "# use gradient descent to fit a ridge regression with penalty alpha\n",
    "def estimate_beta_ridge(x, y, alpha): \n",
    "    beta_initial = [random.random() for x_i in x[0]]\n",
    "    return minimize_stochastic(partial(sqd_err_ridge, alpha=alpha), \n",
    "                               partial(sqd_err_ridge_gradient, alpha=alpha), \n",
    "                               x, y, beta_initial, 0.001)\n",
    "\n",
    "import random\n",
    "x = sm.add_constant(x_scaled)\n",
    "y = labels\n",
    "random.seed(0)\n",
    "print 'Ridge (alphas) from scratch, x scaled'\n",
    "for alpha in [.00001, .0001, .001]:\n",
    "    beta = estimate_beta_ridge(x, y, alpha=alpha)\n",
    "    print '\\nalpha:', alpha \n",
    "    print 'betas in original feature sequence\\n', beta\n",
    "    preds = calc_pred_vals(x[:,1:], beta[1:], beta[0])\n",
    "    rdg_rmse = calc_rmse(preds, y)  \n",
    "    print 'RMSE', rdg_rmse"
   ]
  },
  {
   "cell_type": "markdown",
   "metadata": {},
   "source": [
    "#### 14. Ridge, alphas, sklearn"
   ]
  },
  {
   "cell_type": "code",
   "execution_count": 33,
   "metadata": {
    "collapsed": false
   },
   "outputs": [
    {
     "name": "stdout",
     "output_type": "stream",
     "text": [
      "RMS Error             alpha\n",
      "(0.60714814835133613, 0.1)\n",
      "(0.60699335082554262, 1)\n",
      "(0.61316032968871681, 10)\n"
     ]
    }
   ],
   "source": [
    "x = df[stepwise_sequence]\n",
    "y = df['target']\n",
    "alpha_list = [0.1, 1, 10]  #use a range of alphas\n",
    "error_list = []\n",
    "for alph in alpha_list:\n",
    "    modl = Ridge(alpha=alph) \n",
    "    modl.fit(x, y)   \n",
    "    preds = cross_val_predict(modl, x, y, cv=10) #make predictions\n",
    "    rms_error = calc_rmse(preds, y)  #calculate errors\n",
    "    error_list.append(rms_error)\n",
    "print(\"RMS Error             alpha\")\n",
    "for i in range(len(error_list)):\n",
    "    print(error_list[i], alpha_list[i])"
   ]
  },
  {
   "cell_type": "markdown",
   "metadata": {},
   "source": [
    "#### 15. Ridge alpha .0001, from scratch, x scaled"
   ]
  },
  {
   "cell_type": "code",
   "execution_count": 34,
   "metadata": {
    "collapsed": true
   },
   "outputs": [],
   "source": [
    "def run_ridge_15(x, y):\n",
    "    random.seed(0)\n",
    "    beta = estimate_beta_ridge(x, y, alpha=.0001)\n",
    "    preds = calc_pred_vals(x[:,1:], beta[1:], beta[0])\n",
    "    coefs = beta[1:]\n",
    "    coefs = [coefs[i] for i in stepwise_indices] \n",
    "    model_details('Ridge alpha .0001, from scratch, x scaled', preds, coefs, beta[0], \n",
    "                  stepwise_sequence, y)"
   ]
  },
  {
   "cell_type": "markdown",
   "metadata": {},
   "source": [
    "#### 16. Ridge alpha 1, sklearn"
   ]
  },
  {
   "cell_type": "code",
   "execution_count": 35,
   "metadata": {
    "collapsed": true
   },
   "outputs": [],
   "source": [
    "def run_ridge_16(x, y):\n",
    "    modl = Ridge(alpha=1)\n",
    "    modl.fit(x, y) \n",
    "    preds = cross_val_predict(modl, x, y, cv=10) #make predictions\n",
    "    model_details('Ridge alpha 1, sklearn', preds, modl.coef_, modl.intercept_, \n",
    "                  stepwise_sequence, y)"
   ]
  },
  {
   "cell_type": "markdown",
   "metadata": {},
   "source": [
    "#### 17. ElasticNet grid search for L1 ratio"
   ]
  },
  {
   "cell_type": "code",
   "execution_count": 37,
   "metadata": {
    "collapsed": false
   },
   "outputs": [
    {
     "name": "stdout",
     "output_type": "stream",
     "text": [
      "best parameters: \n",
      "{'l1_ratio': 0}\n"
     ]
    }
   ],
   "source": [
    "selected_cols = lars_sequence  \n",
    "x = df_scaled[selected_cols]\n",
    "y = labels_scaled\n",
    "enet_p = {'l1_ratio' : [0, 1e-10, .1, .3, .5, .7, .9, 1]}                                    \n",
    "enet = ElasticNet()                                   # instantiate model\n",
    "enet_grid = GridSearchCV(enet, enet_p, cv=5)          # instantiate grid\n",
    "enet_grid.fit(x, y)                                   # fit grid with data\n",
    "print \"best parameters: \\n\", enet_grid.best_params_   # print best parameters"
   ]
  },
  {
   "cell_type": "markdown",
   "metadata": {},
   "source": [
    "#### Running Models"
   ]
  },
  {
   "cell_type": "code",
   "execution_count": 148,
   "metadata": {
    "collapsed": true
   },
   "outputs": [],
   "source": [
    "# create lists for storing details\n",
    "modl_name = [] # name for model\n",
    "rmse = [] # root mean square error\n",
    "accuracy = [] # overall accuracy\n",
    "cmats = [] # confusion matrix dataframe\n",
    "cmat_sum = [] # to confirm no results are missing\n",
    "df_beta_coefs = [] # coefficients dataframe"
   ]
  },
  {
   "cell_type": "code",
   "execution_count": 149,
   "metadata": {
    "collapsed": true
   },
   "outputs": [],
   "source": [
    "# results of Stepwise Algorithm #1 appear in prior section\n",
    "run_stepwise_2(df[stepwise_sequence[0:6]], df['target'])"
   ]
  },
  {
   "cell_type": "code",
   "execution_count": 150,
   "metadata": {
    "collapsed": true
   },
   "outputs": [],
   "source": [
    "run_linear_regr_3(df[stepwise_sequence], df['target'])"
   ]
  },
  {
   "cell_type": "code",
   "execution_count": 151,
   "metadata": {
    "collapsed": true
   },
   "outputs": [],
   "source": [
    "#results of Lars Algorithm #4 appear in prior section\n",
    "run_lars_5(np.array(df_scaled[lars_sequence]).tolist(), labels_scaled)"
   ]
  },
  {
   "cell_type": "code",
   "execution_count": 152,
   "metadata": {
    "collapsed": true
   },
   "outputs": [],
   "source": [
    "#results for Lasso alphas #6 appear in prior section\n",
    "run_lasso_7(df_scaled[lars_sequence], labels_scaled)"
   ]
  },
  {
   "cell_type": "code",
   "execution_count": 153,
   "metadata": {
    "collapsed": true
   },
   "outputs": [],
   "source": [
    "run_lasso_8(df_scaled[lars_sequence], df['target'])"
   ]
  },
  {
   "cell_type": "code",
   "execution_count": 154,
   "metadata": {
    "collapsed": true
   },
   "outputs": [],
   "source": [
    "run_gradient_descent_9(sm.add_constant(x_scaled), labels)"
   ]
  },
  {
   "cell_type": "code",
   "execution_count": 155,
   "metadata": {
    "collapsed": true
   },
   "outputs": [],
   "source": [
    "run_gradient_descent_10(df_scaled[stepwise_sequence], df['target'])"
   ]
  },
  {
   "cell_type": "code",
   "execution_count": 156,
   "metadata": {
    "collapsed": true
   },
   "outputs": [],
   "source": [
    "run_gr_des_11(sm.add_constant(np.array(df_scaled[stepwise_sequence[0:6]]).tolist()), labels)"
   ]
  },
  {
   "cell_type": "code",
   "execution_count": 157,
   "metadata": {
    "collapsed": true
   },
   "outputs": [],
   "source": [
    "run_gradient_descent_12(df_scaled[stepwise_sequence[0:6]], df['target'])"
   ]
  },
  {
   "cell_type": "code",
   "execution_count": 158,
   "metadata": {
    "collapsed": true
   },
   "outputs": [],
   "source": [
    "#results for Ridge alphas #13 & #14 appear in prior section\n",
    "run_ridge_15(sm.add_constant(x_scaled), labels)"
   ]
  },
  {
   "cell_type": "code",
   "execution_count": 159,
   "metadata": {
    "collapsed": true
   },
   "outputs": [],
   "source": [
    "run_ridge_16(df[stepwise_sequence], df['target'])"
   ]
  },
  {
   "cell_type": "markdown",
   "metadata": {},
   "source": [
    "#### Model Scores"
   ]
  },
  {
   "cell_type": "code",
   "execution_count": 160,
   "metadata": {
    "collapsed": false
   },
   "outputs": [
    {
     "data": {
      "text/html": [
       "<div>\n",
       "<table border=\"1\" class=\"dataframe\">\n",
       "  <thead>\n",
       "    <tr style=\"text-align: right;\">\n",
       "      <th></th>\n",
       "      <th>RMSE</th>\n",
       "      <th>Overall Accuracy</th>\n",
       "    </tr>\n",
       "  </thead>\n",
       "  <tbody>\n",
       "    <tr>\n",
       "      <th>Stepwise Regression</th>\n",
       "      <td>0.604149</td>\n",
       "      <td>0.615966</td>\n",
       "    </tr>\n",
       "    <tr>\n",
       "      <th>Linear Regression</th>\n",
       "      <td>0.607803</td>\n",
       "      <td>0.615966</td>\n",
       "    </tr>\n",
       "    <tr>\n",
       "      <th>Lars, from scratch, xy scaled</th>\n",
       "      <td>0.780655</td>\n",
       "      <td>n/a, labels are scaled</td>\n",
       "    </tr>\n",
       "    <tr>\n",
       "      <th>Lasso alpha 0.01, sklearn, xy scaled</th>\n",
       "      <td>0.794873</td>\n",
       "      <td>n/a, labels are scaled</td>\n",
       "    </tr>\n",
       "    <tr>\n",
       "      <th>Lasso alpha 0.01, sklearn, x scaled</th>\n",
       "      <td>0.607233</td>\n",
       "      <td>0.612605</td>\n",
       "    </tr>\n",
       "    <tr>\n",
       "      <th>Gradient Descent, from scratch, x scaled</th>\n",
       "      <td>0.596288</td>\n",
       "      <td>0.62437</td>\n",
       "    </tr>\n",
       "    <tr>\n",
       "      <th>Gradient Descent, sklearn, x scaled</th>\n",
       "      <td>0.607628</td>\n",
       "      <td>0.618487</td>\n",
       "    </tr>\n",
       "    <tr>\n",
       "      <th>Gradient Descent 6 features, from scratch, x scaled</th>\n",
       "      <td>0.597262</td>\n",
       "      <td>0.617647</td>\n",
       "    </tr>\n",
       "    <tr>\n",
       "      <th>Gradient Descent 6 features, sklearn, x scaled</th>\n",
       "      <td>0.604502</td>\n",
       "      <td>0.610924</td>\n",
       "    </tr>\n",
       "    <tr>\n",
       "      <th>Ridge alpha .0001, from scratch, x scaled</th>\n",
       "      <td>0.596288</td>\n",
       "      <td>0.62437</td>\n",
       "    </tr>\n",
       "    <tr>\n",
       "      <th>Ridge alpha 1, sklearn</th>\n",
       "      <td>0.606993</td>\n",
       "      <td>0.613445</td>\n",
       "    </tr>\n",
       "  </tbody>\n",
       "</table>\n",
       "</div>"
      ],
      "text/plain": [
       "                                                        RMSE  \\\n",
       "Stepwise Regression                                 0.604149   \n",
       "Linear Regression                                   0.607803   \n",
       "Lars, from scratch, xy scaled                       0.780655   \n",
       "Lasso alpha 0.01, sklearn, xy scaled                0.794873   \n",
       "Lasso alpha 0.01, sklearn, x scaled                 0.607233   \n",
       "Gradient Descent, from scratch, x scaled            0.596288   \n",
       "Gradient Descent, sklearn, x scaled                 0.607628   \n",
       "Gradient Descent 6 features, from scratch, x sc...  0.597262   \n",
       "Gradient Descent 6 features, sklearn, x scaled      0.604502   \n",
       "Ridge alpha .0001, from scratch, x scaled           0.596288   \n",
       "Ridge alpha 1, sklearn                              0.606993   \n",
       "\n",
       "                                                          Overall Accuracy  \n",
       "Stepwise Regression                                               0.615966  \n",
       "Linear Regression                                                 0.615966  \n",
       "Lars, from scratch, xy scaled                       n/a, labels are scaled  \n",
       "Lasso alpha 0.01, sklearn, xy scaled                n/a, labels are scaled  \n",
       "Lasso alpha 0.01, sklearn, x scaled                               0.612605  \n",
       "Gradient Descent, from scratch, x scaled                           0.62437  \n",
       "Gradient Descent, sklearn, x scaled                               0.618487  \n",
       "Gradient Descent 6 features, from scratch, x sc...                0.617647  \n",
       "Gradient Descent 6 features, sklearn, x scaled                    0.610924  \n",
       "Ridge alpha .0001, from scratch, x scaled                          0.62437  \n",
       "Ridge alpha 1, sklearn                                            0.613445  "
      ]
     },
     "execution_count": 160,
     "metadata": {},
     "output_type": "execute_result"
    }
   ],
   "source": [
    "df_scores = pd.DataFrame(zip(rmse, accuracy), columns = ['RMSE', 'Overall Accuracy'], \n",
    "                         index = modl_name)\n",
    "df_scores"
   ]
  },
  {
   "cell_type": "markdown",
   "metadata": {},
   "source": [
    "Confirm all confusion matrix entries were picked up"
   ]
  },
  {
   "cell_type": "code",
   "execution_count": 161,
   "metadata": {
    "collapsed": false
   },
   "outputs": [
    {
     "data": {
      "text/plain": [
       "[1190,\n",
       " 1190,\n",
       " 'n/a, labels are scaled',\n",
       " 'n/a, labels are scaled',\n",
       " 1190,\n",
       " 1190,\n",
       " 1190,\n",
       " 1190,\n",
       " 1190,\n",
       " 1190,\n",
       " 1190]"
      ]
     },
     "execution_count": 161,
     "metadata": {},
     "output_type": "execute_result"
    }
   ],
   "source": [
    "cmat_sum"
   ]
  },
  {
   "cell_type": "markdown",
   "metadata": {},
   "source": [
    "#### Model Summaries"
   ]
  },
  {
   "cell_type": "code",
   "execution_count": 162,
   "metadata": {
    "collapsed": false
   },
   "outputs": [
    {
     "name": "stdout",
     "output_type": "stream",
     "text": [
      "RMSE 0.604149207056\n"
     ]
    },
    {
     "data": {
      "text/html": [
       "<div>\n",
       "<table border=\"1\" class=\"dataframe\">\n",
       "  <thead>\n",
       "    <tr style=\"text-align: right;\">\n",
       "      <th></th>\n",
       "      <th>intercept</th>\n",
       "      <th>alcohol (10)</th>\n",
       "      <th>sulphates (9)</th>\n",
       "      <th>volatile acidity (1)</th>\n",
       "      <th>pH (8)</th>\n",
       "      <th>total sulfur dioxide (6)</th>\n",
       "      <th>citric acid (2)</th>\n",
       "    </tr>\n",
       "  </thead>\n",
       "  <tbody>\n",
       "    <tr>\n",
       "      <th>Stepwise Regression</th>\n",
       "      <td>4.20601</td>\n",
       "      <td>0.31667</td>\n",
       "      <td>1.73819</td>\n",
       "      <td>-0.92395</td>\n",
       "      <td>-0.68866</td>\n",
       "      <td>-0.00195</td>\n",
       "      <td>-0.37727</td>\n",
       "    </tr>\n",
       "  </tbody>\n",
       "</table>\n",
       "</div>"
      ],
      "text/plain": [
       "                     intercept  alcohol (10)  sulphates (9)  \\\n",
       "Stepwise Regression    4.20601       0.31667        1.73819   \n",
       "\n",
       "                     volatile acidity (1)   pH (8)  total sulfur dioxide (6)  \\\n",
       "Stepwise Regression              -0.92395 -0.68866                  -0.00195   \n",
       "\n",
       "                     citric acid (2)  \n",
       "Stepwise Regression         -0.37727  "
      ]
     },
     "execution_count": 162,
     "metadata": {},
     "output_type": "execute_result"
    }
   ],
   "source": [
    "print 'RMSE', rmse[0]\n",
    "df_beta_coefs[0]"
   ]
  },
  {
   "cell_type": "code",
   "execution_count": 163,
   "metadata": {
    "collapsed": false
   },
   "outputs": [
    {
     "name": "stdout",
     "output_type": "stream",
     "text": [
      "RMSE 0.607803274195\n"
     ]
    },
    {
     "data": {
      "text/html": [
       "<div>\n",
       "<table border=\"1\" class=\"dataframe\">\n",
       "  <thead>\n",
       "    <tr style=\"text-align: right;\">\n",
       "      <th></th>\n",
       "      <th>intercept</th>\n",
       "      <th>alcohol (10)</th>\n",
       "      <th>sulphates (9)</th>\n",
       "      <th>volatile acidity (1)</th>\n",
       "      <th>pH (8)</th>\n",
       "      <th>total sulfur dioxide (6)</th>\n",
       "      <th>citric acid (2)</th>\n",
       "      <th>chlorides (4)</th>\n",
       "      <th>free sulfur dioxide (5)</th>\n",
       "      <th>residual sugar (3)</th>\n",
       "      <th>density (7)</th>\n",
       "      <th>fixed acidity (0)</th>\n",
       "    </tr>\n",
       "  </thead>\n",
       "  <tbody>\n",
       "    <tr>\n",
       "      <th>Linear Regression</th>\n",
       "      <td>26.41577</td>\n",
       "      <td>0.28699</td>\n",
       "      <td>1.74857</td>\n",
       "      <td>-0.85407</td>\n",
       "      <td>-0.61195</td>\n",
       "      <td>-0.00251</td>\n",
       "      <td>-0.32102</td>\n",
       "      <td>-1.49141</td>\n",
       "      <td>0.00299</td>\n",
       "      <td>0.01624</td>\n",
       "      <td>-22.39029</td>\n",
       "      <td>0.01952</td>\n",
       "    </tr>\n",
       "  </tbody>\n",
       "</table>\n",
       "</div>"
      ],
      "text/plain": [
       "                   intercept  alcohol (10)  sulphates (9)  \\\n",
       "Linear Regression   26.41577       0.28699        1.74857   \n",
       "\n",
       "                   volatile acidity (1)   pH (8)  total sulfur dioxide (6)  \\\n",
       "Linear Regression              -0.85407 -0.61195                  -0.00251   \n",
       "\n",
       "                   citric acid (2)  chlorides (4)  free sulfur dioxide (5)  \\\n",
       "Linear Regression         -0.32102       -1.49141                  0.00299   \n",
       "\n",
       "                   residual sugar (3)  density (7)  fixed acidity (0)  \n",
       "Linear Regression             0.01624    -22.39029            0.01952  "
      ]
     },
     "execution_count": 163,
     "metadata": {},
     "output_type": "execute_result"
    }
   ],
   "source": [
    "print 'RMSE', rmse[1]\n",
    "df_beta_coefs[1]"
   ]
  },
  {
   "cell_type": "code",
   "execution_count": 164,
   "metadata": {
    "collapsed": false
   },
   "outputs": [
    {
     "name": "stdout",
     "output_type": "stream",
     "text": [
      "RMSE 0.780654884982\n"
     ]
    },
    {
     "data": {
      "text/html": [
       "<div>\n",
       "<table border=\"1\" class=\"dataframe\">\n",
       "  <thead>\n",
       "    <tr style=\"text-align: right;\">\n",
       "      <th></th>\n",
       "      <th>intercept</th>\n",
       "      <th>alcohol (10)</th>\n",
       "      <th>sulphates (9)</th>\n",
       "      <th>volatile acidity (1)</th>\n",
       "      <th>total sulfur dioxide (6)</th>\n",
       "      <th>pH (8)</th>\n",
       "      <th>chlorides (4)</th>\n",
       "      <th>density (7)</th>\n",
       "      <th>citric acid (2)</th>\n",
       "      <th>free sulfur dioxide (5)</th>\n",
       "      <th>fixed acidity (0)</th>\n",
       "      <th>residual sugar (3)</th>\n",
       "    </tr>\n",
       "  </thead>\n",
       "  <tbody>\n",
       "    <tr>\n",
       "      <th>Lars, from scratch, xy scaled</th>\n",
       "      <td>0.0</td>\n",
       "      <td>0.376</td>\n",
       "      <td>0.264</td>\n",
       "      <td>-0.184</td>\n",
       "      <td>-0.084</td>\n",
       "      <td>-0.112</td>\n",
       "      <td>-0.028</td>\n",
       "      <td>-0.032</td>\n",
       "      <td>-0.076</td>\n",
       "      <td>0.032</td>\n",
       "      <td>0.024</td>\n",
       "      <td>0.004</td>\n",
       "    </tr>\n",
       "  </tbody>\n",
       "</table>\n",
       "</div>"
      ],
      "text/plain": [
       "                               intercept  alcohol (10)  sulphates (9)  \\\n",
       "Lars, from scratch, xy scaled        0.0         0.376          0.264   \n",
       "\n",
       "                               volatile acidity (1)  total sulfur dioxide (6)  \\\n",
       "Lars, from scratch, xy scaled                -0.184                    -0.084   \n",
       "\n",
       "                               pH (8)  chlorides (4)  density (7)  \\\n",
       "Lars, from scratch, xy scaled  -0.112         -0.028       -0.032   \n",
       "\n",
       "                               citric acid (2)  free sulfur dioxide (5)  \\\n",
       "Lars, from scratch, xy scaled           -0.076                    0.032   \n",
       "\n",
       "                               fixed acidity (0)  residual sugar (3)  \n",
       "Lars, from scratch, xy scaled              0.024               0.004  "
      ]
     },
     "execution_count": 164,
     "metadata": {},
     "output_type": "execute_result"
    }
   ],
   "source": [
    "print 'RMSE', rmse[2]\n",
    "df_beta_coefs[2]"
   ]
  },
  {
   "cell_type": "code",
   "execution_count": 165,
   "metadata": {
    "collapsed": false
   },
   "outputs": [
    {
     "name": "stdout",
     "output_type": "stream",
     "text": [
      "RMSE 0.794873337191\n"
     ]
    },
    {
     "data": {
      "text/html": [
       "<div>\n",
       "<table border=\"1\" class=\"dataframe\">\n",
       "  <thead>\n",
       "    <tr style=\"text-align: right;\">\n",
       "      <th></th>\n",
       "      <th>intercept</th>\n",
       "      <th>alcohol (10)</th>\n",
       "      <th>sulphates (9)</th>\n",
       "      <th>volatile acidity (1)</th>\n",
       "      <th>total sulfur dioxide (6)</th>\n",
       "      <th>pH (8)</th>\n",
       "      <th>chlorides (4)</th>\n",
       "      <th>density (7)</th>\n",
       "      <th>citric acid (2)</th>\n",
       "      <th>free sulfur dioxide (5)</th>\n",
       "      <th>fixed acidity (0)</th>\n",
       "      <th>residual sugar (3)</th>\n",
       "    </tr>\n",
       "  </thead>\n",
       "  <tbody>\n",
       "    <tr>\n",
       "      <th>Lasso alpha 0.01, sklearn, xy scaled</th>\n",
       "      <td>-0.0</td>\n",
       "      <td>0.37212</td>\n",
       "      <td>0.25785</td>\n",
       "      <td>-0.16105</td>\n",
       "      <td>-0.06923</td>\n",
       "      <td>-0.09611</td>\n",
       "      <td>-0.02323</td>\n",
       "      <td>-0.02503</td>\n",
       "      <td>-0.02752</td>\n",
       "      <td>0.01347</td>\n",
       "      <td>0.0</td>\n",
       "      <td>-0.0</td>\n",
       "    </tr>\n",
       "  </tbody>\n",
       "</table>\n",
       "</div>"
      ],
      "text/plain": [
       "                                      intercept  alcohol (10)  sulphates (9)  \\\n",
       "Lasso alpha 0.01, sklearn, xy scaled       -0.0       0.37212        0.25785   \n",
       "\n",
       "                                      volatile acidity (1)  \\\n",
       "Lasso alpha 0.01, sklearn, xy scaled              -0.16105   \n",
       "\n",
       "                                      total sulfur dioxide (6)   pH (8)  \\\n",
       "Lasso alpha 0.01, sklearn, xy scaled                  -0.06923 -0.09611   \n",
       "\n",
       "                                      chlorides (4)  density (7)  \\\n",
       "Lasso alpha 0.01, sklearn, xy scaled       -0.02323     -0.02503   \n",
       "\n",
       "                                      citric acid (2)  \\\n",
       "Lasso alpha 0.01, sklearn, xy scaled         -0.02752   \n",
       "\n",
       "                                      free sulfur dioxide (5)  \\\n",
       "Lasso alpha 0.01, sklearn, xy scaled                  0.01347   \n",
       "\n",
       "                                      fixed acidity (0)  residual sugar (3)  \n",
       "Lasso alpha 0.01, sklearn, xy scaled                0.0                -0.0  "
      ]
     },
     "execution_count": 165,
     "metadata": {},
     "output_type": "execute_result"
    }
   ],
   "source": [
    "print 'RMSE', rmse[3]\n",
    "df_beta_coefs[3]"
   ]
  },
  {
   "cell_type": "code",
   "execution_count": 166,
   "metadata": {
    "collapsed": false
   },
   "outputs": [
    {
     "name": "stdout",
     "output_type": "stream",
     "text": [
      "RMSE 0.607232932281\n"
     ]
    },
    {
     "data": {
      "text/html": [
       "<div>\n",
       "<table border=\"1\" class=\"dataframe\">\n",
       "  <thead>\n",
       "    <tr style=\"text-align: right;\">\n",
       "      <th></th>\n",
       "      <th>intercept</th>\n",
       "      <th>alcohol (10)</th>\n",
       "      <th>sulphates (9)</th>\n",
       "      <th>volatile acidity (1)</th>\n",
       "      <th>total sulfur dioxide (6)</th>\n",
       "      <th>pH (8)</th>\n",
       "      <th>chlorides (4)</th>\n",
       "      <th>density (7)</th>\n",
       "      <th>citric acid (2)</th>\n",
       "      <th>free sulfur dioxide (5)</th>\n",
       "      <th>fixed acidity (0)</th>\n",
       "      <th>residual sugar (3)</th>\n",
       "    </tr>\n",
       "  </thead>\n",
       "  <tbody>\n",
       "    <tr>\n",
       "      <th>Lasso alpha 0.01, sklearn, x scaled</th>\n",
       "      <td>5.6395</td>\n",
       "      <td>0.28153</td>\n",
       "      <td>0.19545</td>\n",
       "      <td>-0.11771</td>\n",
       "      <td>-0.04862</td>\n",
       "      <td>-0.06677</td>\n",
       "      <td>-0.01629</td>\n",
       "      <td>-0.02116</td>\n",
       "      <td>-0.01125</td>\n",
       "      <td>0.00512</td>\n",
       "      <td>0.0</td>\n",
       "      <td>-0.0</td>\n",
       "    </tr>\n",
       "  </tbody>\n",
       "</table>\n",
       "</div>"
      ],
      "text/plain": [
       "                                     intercept  alcohol (10)  sulphates (9)  \\\n",
       "Lasso alpha 0.01, sklearn, x scaled     5.6395       0.28153        0.19545   \n",
       "\n",
       "                                     volatile acidity (1)  \\\n",
       "Lasso alpha 0.01, sklearn, x scaled              -0.11771   \n",
       "\n",
       "                                     total sulfur dioxide (6)   pH (8)  \\\n",
       "Lasso alpha 0.01, sklearn, x scaled                  -0.04862 -0.06677   \n",
       "\n",
       "                                     chlorides (4)  density (7)  \\\n",
       "Lasso alpha 0.01, sklearn, x scaled       -0.01629     -0.02116   \n",
       "\n",
       "                                     citric acid (2)  free sulfur dioxide (5)  \\\n",
       "Lasso alpha 0.01, sklearn, x scaled         -0.01125                  0.00512   \n",
       "\n",
       "                                     fixed acidity (0)  residual sugar (3)  \n",
       "Lasso alpha 0.01, sklearn, x scaled                0.0                -0.0  "
      ]
     },
     "execution_count": 166,
     "metadata": {},
     "output_type": "execute_result"
    }
   ],
   "source": [
    "print 'RMSE', rmse[4]\n",
    "df_beta_coefs[4]"
   ]
  },
  {
   "cell_type": "code",
   "execution_count": 167,
   "metadata": {
    "collapsed": false
   },
   "outputs": [
    {
     "name": "stdout",
     "output_type": "stream",
     "text": [
      "RMSE 0.596287997811\n"
     ]
    },
    {
     "data": {
      "text/html": [
       "<div>\n",
       "<table border=\"1\" class=\"dataframe\">\n",
       "  <thead>\n",
       "    <tr style=\"text-align: right;\">\n",
       "      <th></th>\n",
       "      <th>intercept</th>\n",
       "      <th>alcohol (10)</th>\n",
       "      <th>sulphates (9)</th>\n",
       "      <th>volatile acidity (1)</th>\n",
       "      <th>pH (8)</th>\n",
       "      <th>total sulfur dioxide (6)</th>\n",
       "      <th>citric acid (2)</th>\n",
       "      <th>chlorides (4)</th>\n",
       "      <th>free sulfur dioxide (5)</th>\n",
       "      <th>residual sugar (3)</th>\n",
       "      <th>density (7)</th>\n",
       "      <th>fixed acidity (0)</th>\n",
       "    </tr>\n",
       "  </thead>\n",
       "  <tbody>\n",
       "    <tr>\n",
       "      <th>Gradient Descent, from scratch, x scaled</th>\n",
       "      <td>5.6393</td>\n",
       "      <td>0.27976</td>\n",
       "      <td>0.20349</td>\n",
       "      <td>-0.14058</td>\n",
       "      <td>-0.08045</td>\n",
       "      <td>-0.06495</td>\n",
       "      <td>-0.05787</td>\n",
       "      <td>-0.02119</td>\n",
       "      <td>0.02599</td>\n",
       "      <td>0.00702</td>\n",
       "      <td>-0.03625</td>\n",
       "      <td>0.02912</td>\n",
       "    </tr>\n",
       "  </tbody>\n",
       "</table>\n",
       "</div>"
      ],
      "text/plain": [
       "                                          intercept  alcohol (10)  \\\n",
       "Gradient Descent, from scratch, x scaled     5.6393       0.27976   \n",
       "\n",
       "                                          sulphates (9)  volatile acidity (1)  \\\n",
       "Gradient Descent, from scratch, x scaled        0.20349              -0.14058   \n",
       "\n",
       "                                           pH (8)  total sulfur dioxide (6)  \\\n",
       "Gradient Descent, from scratch, x scaled -0.08045                  -0.06495   \n",
       "\n",
       "                                          citric acid (2)  chlorides (4)  \\\n",
       "Gradient Descent, from scratch, x scaled         -0.05787       -0.02119   \n",
       "\n",
       "                                          free sulfur dioxide (5)  \\\n",
       "Gradient Descent, from scratch, x scaled                  0.02599   \n",
       "\n",
       "                                          residual sugar (3)  density (7)  \\\n",
       "Gradient Descent, from scratch, x scaled             0.00702     -0.03625   \n",
       "\n",
       "                                          fixed acidity (0)  \n",
       "Gradient Descent, from scratch, x scaled            0.02912  "
      ]
     },
     "execution_count": 167,
     "metadata": {},
     "output_type": "execute_result"
    }
   ],
   "source": [
    "print 'RMSE', rmse[5]\n",
    "df_beta_coefs[5]"
   ]
  },
  {
   "cell_type": "code",
   "execution_count": 168,
   "metadata": {
    "collapsed": false
   },
   "outputs": [
    {
     "name": "stdout",
     "output_type": "stream",
     "text": [
      "RMSE 0.607627885422\n"
     ]
    },
    {
     "data": {
      "text/html": [
       "<div>\n",
       "<table border=\"1\" class=\"dataframe\">\n",
       "  <thead>\n",
       "    <tr style=\"text-align: right;\">\n",
       "      <th></th>\n",
       "      <th>intercept</th>\n",
       "      <th>alcohol (10)</th>\n",
       "      <th>sulphates (9)</th>\n",
       "      <th>volatile acidity (1)</th>\n",
       "      <th>pH (8)</th>\n",
       "      <th>total sulfur dioxide (6)</th>\n",
       "      <th>citric acid (2)</th>\n",
       "      <th>chlorides (4)</th>\n",
       "      <th>free sulfur dioxide (5)</th>\n",
       "      <th>residual sugar (3)</th>\n",
       "      <th>density (7)</th>\n",
       "      <th>fixed acidity (0)</th>\n",
       "    </tr>\n",
       "  </thead>\n",
       "  <tbody>\n",
       "    <tr>\n",
       "      <th>Gradient Descent, sklearn, x scaled</th>\n",
       "      <td>5.64244</td>\n",
       "      <td>0.2576</td>\n",
       "      <td>0.20435</td>\n",
       "      <td>-0.13446</td>\n",
       "      <td>-0.07029</td>\n",
       "      <td>-0.06827</td>\n",
       "      <td>-0.05061</td>\n",
       "      <td>-0.01666</td>\n",
       "      <td>0.00882</td>\n",
       "      <td>0.01837</td>\n",
       "      <td>-0.05505</td>\n",
       "      <td>0.0417</td>\n",
       "    </tr>\n",
       "  </tbody>\n",
       "</table>\n",
       "</div>"
      ],
      "text/plain": [
       "                                     intercept  alcohol (10)  sulphates (9)  \\\n",
       "Gradient Descent, sklearn, x scaled    5.64244        0.2576        0.20435   \n",
       "\n",
       "                                     volatile acidity (1)   pH (8)  \\\n",
       "Gradient Descent, sklearn, x scaled              -0.13446 -0.07029   \n",
       "\n",
       "                                     total sulfur dioxide (6)  \\\n",
       "Gradient Descent, sklearn, x scaled                  -0.06827   \n",
       "\n",
       "                                     citric acid (2)  chlorides (4)  \\\n",
       "Gradient Descent, sklearn, x scaled         -0.05061       -0.01666   \n",
       "\n",
       "                                     free sulfur dioxide (5)  \\\n",
       "Gradient Descent, sklearn, x scaled                  0.00882   \n",
       "\n",
       "                                     residual sugar (3)  density (7)  \\\n",
       "Gradient Descent, sklearn, x scaled             0.01837     -0.05505   \n",
       "\n",
       "                                     fixed acidity (0)  \n",
       "Gradient Descent, sklearn, x scaled             0.0417  "
      ]
     },
     "execution_count": 168,
     "metadata": {},
     "output_type": "execute_result"
    }
   ],
   "source": [
    "print 'RMSE', rmse[6]\n",
    "df_beta_coefs[6]"
   ]
  },
  {
   "cell_type": "code",
   "execution_count": 169,
   "metadata": {
    "collapsed": false
   },
   "outputs": [
    {
     "name": "stdout",
     "output_type": "stream",
     "text": [
      "RMSE 0.597261997433\n"
     ]
    },
    {
     "data": {
      "text/html": [
       "<div>\n",
       "<table border=\"1\" class=\"dataframe\">\n",
       "  <thead>\n",
       "    <tr style=\"text-align: right;\">\n",
       "      <th></th>\n",
       "      <th>intercept</th>\n",
       "      <th>alcohol (10)</th>\n",
       "      <th>sulphates (9)</th>\n",
       "      <th>volatile acidity (1)</th>\n",
       "      <th>pH (8)</th>\n",
       "      <th>total sulfur dioxide (6)</th>\n",
       "      <th>citric acid (2)</th>\n",
       "    </tr>\n",
       "  </thead>\n",
       "  <tbody>\n",
       "    <tr>\n",
       "      <th>Gradient Descent 6 features, from scratch, x scaled</th>\n",
       "      <td>5.63971</td>\n",
       "      <td>0.30886</td>\n",
       "      <td>0.20206</td>\n",
       "      <td>-0.15247</td>\n",
       "      <td>-0.09076</td>\n",
       "      <td>-0.05045</td>\n",
       "      <td>-0.06802</td>\n",
       "    </tr>\n",
       "  </tbody>\n",
       "</table>\n",
       "</div>"
      ],
      "text/plain": [
       "                                                    intercept  alcohol (10)  \\\n",
       "Gradient Descent 6 features, from scratch, x sc...    5.63971       0.30886   \n",
       "\n",
       "                                                    sulphates (9)  \\\n",
       "Gradient Descent 6 features, from scratch, x sc...        0.20206   \n",
       "\n",
       "                                                    volatile acidity (1)  \\\n",
       "Gradient Descent 6 features, from scratch, x sc...              -0.15247   \n",
       "\n",
       "                                                     pH (8)  \\\n",
       "Gradient Descent 6 features, from scratch, x sc... -0.09076   \n",
       "\n",
       "                                                    total sulfur dioxide (6)  \\\n",
       "Gradient Descent 6 features, from scratch, x sc...                  -0.05045   \n",
       "\n",
       "                                                    citric acid (2)  \n",
       "Gradient Descent 6 features, from scratch, x sc...         -0.06802  "
      ]
     },
     "execution_count": 169,
     "metadata": {},
     "output_type": "execute_result"
    }
   ],
   "source": [
    "print 'RMSE', rmse[7]\n",
    "df_beta_coefs[7]"
   ]
  },
  {
   "cell_type": "code",
   "execution_count": 170,
   "metadata": {
    "collapsed": false
   },
   "outputs": [
    {
     "name": "stdout",
     "output_type": "stream",
     "text": [
      "RMSE 0.604502451269\n"
     ]
    },
    {
     "data": {
      "text/html": [
       "<div>\n",
       "<table border=\"1\" class=\"dataframe\">\n",
       "  <thead>\n",
       "    <tr style=\"text-align: right;\">\n",
       "      <th></th>\n",
       "      <th>intercept</th>\n",
       "      <th>alcohol (10)</th>\n",
       "      <th>sulphates (9)</th>\n",
       "      <th>volatile acidity (1)</th>\n",
       "      <th>pH (8)</th>\n",
       "      <th>total sulfur dioxide (6)</th>\n",
       "      <th>citric acid (2)</th>\n",
       "    </tr>\n",
       "  </thead>\n",
       "  <tbody>\n",
       "    <tr>\n",
       "      <th>Gradient Descent 6 features, sklearn, x scaled</th>\n",
       "      <td>5.6419</td>\n",
       "      <td>0.30396</td>\n",
       "      <td>0.19779</td>\n",
       "      <td>-0.15172</td>\n",
       "      <td>-0.08864</td>\n",
       "      <td>-0.06091</td>\n",
       "      <td>-0.06735</td>\n",
       "    </tr>\n",
       "  </tbody>\n",
       "</table>\n",
       "</div>"
      ],
      "text/plain": [
       "                                                intercept  alcohol (10)  \\\n",
       "Gradient Descent 6 features, sklearn, x scaled     5.6419       0.30396   \n",
       "\n",
       "                                                sulphates (9)  \\\n",
       "Gradient Descent 6 features, sklearn, x scaled        0.19779   \n",
       "\n",
       "                                                volatile acidity (1)   pH (8)  \\\n",
       "Gradient Descent 6 features, sklearn, x scaled              -0.15172 -0.08864   \n",
       "\n",
       "                                                total sulfur dioxide (6)  \\\n",
       "Gradient Descent 6 features, sklearn, x scaled                  -0.06091   \n",
       "\n",
       "                                                citric acid (2)  \n",
       "Gradient Descent 6 features, sklearn, x scaled         -0.06735  "
      ]
     },
     "execution_count": 170,
     "metadata": {},
     "output_type": "execute_result"
    }
   ],
   "source": [
    "print 'RMSE', rmse[8]\n",
    "df_beta_coefs[8]"
   ]
  },
  {
   "cell_type": "code",
   "execution_count": 171,
   "metadata": {
    "collapsed": false
   },
   "outputs": [
    {
     "name": "stdout",
     "output_type": "stream",
     "text": [
      "RMSE 0.596288007764\n"
     ]
    },
    {
     "data": {
      "text/html": [
       "<div>\n",
       "<table border=\"1\" class=\"dataframe\">\n",
       "  <thead>\n",
       "    <tr style=\"text-align: right;\">\n",
       "      <th></th>\n",
       "      <th>intercept</th>\n",
       "      <th>alcohol (10)</th>\n",
       "      <th>sulphates (9)</th>\n",
       "      <th>volatile acidity (1)</th>\n",
       "      <th>pH (8)</th>\n",
       "      <th>total sulfur dioxide (6)</th>\n",
       "      <th>citric acid (2)</th>\n",
       "      <th>chlorides (4)</th>\n",
       "      <th>free sulfur dioxide (5)</th>\n",
       "      <th>residual sugar (3)</th>\n",
       "      <th>density (7)</th>\n",
       "      <th>fixed acidity (0)</th>\n",
       "    </tr>\n",
       "  </thead>\n",
       "  <tbody>\n",
       "    <tr>\n",
       "      <th>Ridge alpha .0001, from scratch, x scaled</th>\n",
       "      <td>5.6393</td>\n",
       "      <td>0.27968</td>\n",
       "      <td>0.20348</td>\n",
       "      <td>-0.14054</td>\n",
       "      <td>-0.0804</td>\n",
       "      <td>-0.06496</td>\n",
       "      <td>-0.05781</td>\n",
       "      <td>-0.02119</td>\n",
       "      <td>0.02599</td>\n",
       "      <td>0.00704</td>\n",
       "      <td>-0.03634</td>\n",
       "      <td>0.02917</td>\n",
       "    </tr>\n",
       "  </tbody>\n",
       "</table>\n",
       "</div>"
      ],
      "text/plain": [
       "                                           intercept  alcohol (10)  \\\n",
       "Ridge alpha .0001, from scratch, x scaled     5.6393       0.27968   \n",
       "\n",
       "                                           sulphates (9)  \\\n",
       "Ridge alpha .0001, from scratch, x scaled        0.20348   \n",
       "\n",
       "                                           volatile acidity (1)  pH (8)  \\\n",
       "Ridge alpha .0001, from scratch, x scaled              -0.14054 -0.0804   \n",
       "\n",
       "                                           total sulfur dioxide (6)  \\\n",
       "Ridge alpha .0001, from scratch, x scaled                  -0.06496   \n",
       "\n",
       "                                           citric acid (2)  chlorides (4)  \\\n",
       "Ridge alpha .0001, from scratch, x scaled         -0.05781       -0.02119   \n",
       "\n",
       "                                           free sulfur dioxide (5)  \\\n",
       "Ridge alpha .0001, from scratch, x scaled                  0.02599   \n",
       "\n",
       "                                           residual sugar (3)  density (7)  \\\n",
       "Ridge alpha .0001, from scratch, x scaled             0.00704     -0.03634   \n",
       "\n",
       "                                           fixed acidity (0)  \n",
       "Ridge alpha .0001, from scratch, x scaled            0.02917  "
      ]
     },
     "execution_count": 171,
     "metadata": {},
     "output_type": "execute_result"
    }
   ],
   "source": [
    "print 'RMSE', rmse[9]\n",
    "df_beta_coefs[9]"
   ]
  },
  {
   "cell_type": "code",
   "execution_count": 172,
   "metadata": {
    "collapsed": false
   },
   "outputs": [
    {
     "name": "stdout",
     "output_type": "stream",
     "text": [
      "RMSE 0.606993350826\n"
     ]
    },
    {
     "data": {
      "text/html": [
       "<div>\n",
       "<table border=\"1\" class=\"dataframe\">\n",
       "  <thead>\n",
       "    <tr style=\"text-align: right;\">\n",
       "      <th></th>\n",
       "      <th>intercept</th>\n",
       "      <th>alcohol (10)</th>\n",
       "      <th>sulphates (9)</th>\n",
       "      <th>volatile acidity (1)</th>\n",
       "      <th>pH (8)</th>\n",
       "      <th>total sulfur dioxide (6)</th>\n",
       "      <th>citric acid (2)</th>\n",
       "      <th>chlorides (4)</th>\n",
       "      <th>free sulfur dioxide (5)</th>\n",
       "      <th>residual sugar (3)</th>\n",
       "      <th>density (7)</th>\n",
       "      <th>fixed acidity (0)</th>\n",
       "    </tr>\n",
       "  </thead>\n",
       "  <tbody>\n",
       "    <tr>\n",
       "      <th>Ridge alpha 1, sklearn</th>\n",
       "      <td>4.07688</td>\n",
       "      <td>0.31635</td>\n",
       "      <td>1.59243</td>\n",
       "      <td>-0.84541</td>\n",
       "      <td>-0.63148</td>\n",
       "      <td>-0.00267</td>\n",
       "      <td>-0.27607</td>\n",
       "      <td>-0.28812</td>\n",
       "      <td>0.0035</td>\n",
       "      <td>-0.01902</td>\n",
       "      <td>-0.01479</td>\n",
       "      <td>0.00309</td>\n",
       "    </tr>\n",
       "  </tbody>\n",
       "</table>\n",
       "</div>"
      ],
      "text/plain": [
       "                        intercept  alcohol (10)  sulphates (9)  \\\n",
       "Ridge alpha 1, sklearn    4.07688       0.31635        1.59243   \n",
       "\n",
       "                        volatile acidity (1)   pH (8)  \\\n",
       "Ridge alpha 1, sklearn              -0.84541 -0.63148   \n",
       "\n",
       "                        total sulfur dioxide (6)  citric acid (2)  \\\n",
       "Ridge alpha 1, sklearn                  -0.00267         -0.27607   \n",
       "\n",
       "                        chlorides (4)  free sulfur dioxide (5)  \\\n",
       "Ridge alpha 1, sklearn       -0.28812                   0.0035   \n",
       "\n",
       "                        residual sugar (3)  density (7)  fixed acidity (0)  \n",
       "Ridge alpha 1, sklearn            -0.01902     -0.01479            0.00309  "
      ]
     },
     "execution_count": 172,
     "metadata": {},
     "output_type": "execute_result"
    }
   ],
   "source": [
    "print 'RMSE', rmse[10]\n",
    "df_beta_coefs[10]"
   ]
  },
  {
   "cell_type": "markdown",
   "metadata": {},
   "source": [
    "#### Confusion Matrices & Overall Accuracy"
   ]
  },
  {
   "cell_type": "code",
   "execution_count": 173,
   "metadata": {
    "collapsed": false
   },
   "outputs": [
    {
     "name": "stdout",
     "output_type": "stream",
     "text": [
      "Stepwise Regression\n",
      "overall accuracy: 0.615966386555\n"
     ]
    },
    {
     "data": {
      "text/html": [
       "<div>\n",
       "<table border=\"1\" class=\"dataframe\">\n",
       "  <thead>\n",
       "    <tr style=\"text-align: right;\">\n",
       "      <th></th>\n",
       "      <th>P3</th>\n",
       "      <th>P4</th>\n",
       "      <th>P5</th>\n",
       "      <th>P6</th>\n",
       "      <th>P7</th>\n",
       "      <th>P8</th>\n",
       "      <th>Total</th>\n",
       "    </tr>\n",
       "  </thead>\n",
       "  <tbody>\n",
       "    <tr>\n",
       "      <th>A3</th>\n",
       "      <td>0</td>\n",
       "      <td>0</td>\n",
       "      <td>3</td>\n",
       "      <td>0</td>\n",
       "      <td>0</td>\n",
       "      <td>0</td>\n",
       "      <td>3</td>\n",
       "    </tr>\n",
       "    <tr>\n",
       "      <th>A4</th>\n",
       "      <td>0</td>\n",
       "      <td>1</td>\n",
       "      <td>25</td>\n",
       "      <td>7</td>\n",
       "      <td>0</td>\n",
       "      <td>0</td>\n",
       "      <td>33</td>\n",
       "    </tr>\n",
       "    <tr>\n",
       "      <th>A5</th>\n",
       "      <td>0</td>\n",
       "      <td>0</td>\n",
       "      <td>351</td>\n",
       "      <td>159</td>\n",
       "      <td>1</td>\n",
       "      <td>0</td>\n",
       "      <td>511</td>\n",
       "    </tr>\n",
       "    <tr>\n",
       "      <th>A6</th>\n",
       "      <td>0</td>\n",
       "      <td>0</td>\n",
       "      <td>142</td>\n",
       "      <td>341</td>\n",
       "      <td>14</td>\n",
       "      <td>0</td>\n",
       "      <td>497</td>\n",
       "    </tr>\n",
       "    <tr>\n",
       "      <th>A7</th>\n",
       "      <td>0</td>\n",
       "      <td>0</td>\n",
       "      <td>5</td>\n",
       "      <td>90</td>\n",
       "      <td>40</td>\n",
       "      <td>0</td>\n",
       "      <td>135</td>\n",
       "    </tr>\n",
       "    <tr>\n",
       "      <th>A8</th>\n",
       "      <td>0</td>\n",
       "      <td>0</td>\n",
       "      <td>0</td>\n",
       "      <td>7</td>\n",
       "      <td>4</td>\n",
       "      <td>0</td>\n",
       "      <td>11</td>\n",
       "    </tr>\n",
       "  </tbody>\n",
       "</table>\n",
       "</div>"
      ],
      "text/plain": [
       "    P3  P4   P5   P6  P7  P8  Total\n",
       "A3   0   0    3    0   0   0      3\n",
       "A4   0   1   25    7   0   0     33\n",
       "A5   0   0  351  159   1   0    511\n",
       "A6   0   0  142  341  14   0    497\n",
       "A7   0   0    5   90  40   0    135\n",
       "A8   0   0    0    7   4   0     11"
      ]
     },
     "execution_count": 173,
     "metadata": {},
     "output_type": "execute_result"
    }
   ],
   "source": [
    "print modl_name[0]\n",
    "print 'overall accuracy:', accuracy[0]\n",
    "cmats[0]"
   ]
  },
  {
   "cell_type": "code",
   "execution_count": 174,
   "metadata": {
    "collapsed": false
   },
   "outputs": [
    {
     "name": "stdout",
     "output_type": "stream",
     "text": [
      "Linear Regression\n",
      "overall accuracy: 0.615966386555\n"
     ]
    },
    {
     "data": {
      "text/html": [
       "<div>\n",
       "<table border=\"1\" class=\"dataframe\">\n",
       "  <thead>\n",
       "    <tr style=\"text-align: right;\">\n",
       "      <th></th>\n",
       "      <th>P3</th>\n",
       "      <th>P4</th>\n",
       "      <th>P5</th>\n",
       "      <th>P6</th>\n",
       "      <th>P7</th>\n",
       "      <th>P8</th>\n",
       "      <th>Total</th>\n",
       "    </tr>\n",
       "  </thead>\n",
       "  <tbody>\n",
       "    <tr>\n",
       "      <th>A3</th>\n",
       "      <td>0</td>\n",
       "      <td>0</td>\n",
       "      <td>3</td>\n",
       "      <td>0</td>\n",
       "      <td>0</td>\n",
       "      <td>0</td>\n",
       "      <td>3</td>\n",
       "    </tr>\n",
       "    <tr>\n",
       "      <th>A4</th>\n",
       "      <td>0</td>\n",
       "      <td>0</td>\n",
       "      <td>24</td>\n",
       "      <td>9</td>\n",
       "      <td>0</td>\n",
       "      <td>0</td>\n",
       "      <td>33</td>\n",
       "    </tr>\n",
       "    <tr>\n",
       "      <th>A5</th>\n",
       "      <td>0</td>\n",
       "      <td>0</td>\n",
       "      <td>357</td>\n",
       "      <td>153</td>\n",
       "      <td>1</td>\n",
       "      <td>0</td>\n",
       "      <td>511</td>\n",
       "    </tr>\n",
       "    <tr>\n",
       "      <th>A6</th>\n",
       "      <td>0</td>\n",
       "      <td>0</td>\n",
       "      <td>142</td>\n",
       "      <td>338</td>\n",
       "      <td>17</td>\n",
       "      <td>0</td>\n",
       "      <td>497</td>\n",
       "    </tr>\n",
       "    <tr>\n",
       "      <th>A7</th>\n",
       "      <td>0</td>\n",
       "      <td>0</td>\n",
       "      <td>5</td>\n",
       "      <td>92</td>\n",
       "      <td>38</td>\n",
       "      <td>0</td>\n",
       "      <td>135</td>\n",
       "    </tr>\n",
       "    <tr>\n",
       "      <th>A8</th>\n",
       "      <td>0</td>\n",
       "      <td>0</td>\n",
       "      <td>0</td>\n",
       "      <td>6</td>\n",
       "      <td>5</td>\n",
       "      <td>0</td>\n",
       "      <td>11</td>\n",
       "    </tr>\n",
       "  </tbody>\n",
       "</table>\n",
       "</div>"
      ],
      "text/plain": [
       "    P3  P4   P5   P6  P7  P8  Total\n",
       "A3   0   0    3    0   0   0      3\n",
       "A4   0   0   24    9   0   0     33\n",
       "A5   0   0  357  153   1   0    511\n",
       "A6   0   0  142  338  17   0    497\n",
       "A7   0   0    5   92  38   0    135\n",
       "A8   0   0    0    6   5   0     11"
      ]
     },
     "execution_count": 174,
     "metadata": {},
     "output_type": "execute_result"
    }
   ],
   "source": [
    "print modl_name[1]\n",
    "print 'overall accuracy:', accuracy[1]\n",
    "cmats[1]"
   ]
  },
  {
   "cell_type": "code",
   "execution_count": 175,
   "metadata": {
    "collapsed": false
   },
   "outputs": [
    {
     "name": "stdout",
     "output_type": "stream",
     "text": [
      "Lasso alpha 0.01, sklearn, x scaled\n",
      "overall accuracy: 0.612605042017\n"
     ]
    },
    {
     "data": {
      "text/html": [
       "<div>\n",
       "<table border=\"1\" class=\"dataframe\">\n",
       "  <thead>\n",
       "    <tr style=\"text-align: right;\">\n",
       "      <th></th>\n",
       "      <th>P3</th>\n",
       "      <th>P4</th>\n",
       "      <th>P5</th>\n",
       "      <th>P6</th>\n",
       "      <th>P7</th>\n",
       "      <th>P8</th>\n",
       "      <th>Total</th>\n",
       "    </tr>\n",
       "  </thead>\n",
       "  <tbody>\n",
       "    <tr>\n",
       "      <th>A3</th>\n",
       "      <td>0</td>\n",
       "      <td>0</td>\n",
       "      <td>3</td>\n",
       "      <td>0</td>\n",
       "      <td>0</td>\n",
       "      <td>0</td>\n",
       "      <td>3</td>\n",
       "    </tr>\n",
       "    <tr>\n",
       "      <th>A4</th>\n",
       "      <td>0</td>\n",
       "      <td>0</td>\n",
       "      <td>23</td>\n",
       "      <td>10</td>\n",
       "      <td>0</td>\n",
       "      <td>0</td>\n",
       "      <td>33</td>\n",
       "    </tr>\n",
       "    <tr>\n",
       "      <th>A5</th>\n",
       "      <td>0</td>\n",
       "      <td>0</td>\n",
       "      <td>362</td>\n",
       "      <td>148</td>\n",
       "      <td>1</td>\n",
       "      <td>0</td>\n",
       "      <td>511</td>\n",
       "    </tr>\n",
       "    <tr>\n",
       "      <th>A6</th>\n",
       "      <td>0</td>\n",
       "      <td>0</td>\n",
       "      <td>150</td>\n",
       "      <td>335</td>\n",
       "      <td>12</td>\n",
       "      <td>0</td>\n",
       "      <td>497</td>\n",
       "    </tr>\n",
       "    <tr>\n",
       "      <th>A7</th>\n",
       "      <td>0</td>\n",
       "      <td>0</td>\n",
       "      <td>5</td>\n",
       "      <td>98</td>\n",
       "      <td>32</td>\n",
       "      <td>0</td>\n",
       "      <td>135</td>\n",
       "    </tr>\n",
       "    <tr>\n",
       "      <th>A8</th>\n",
       "      <td>0</td>\n",
       "      <td>0</td>\n",
       "      <td>0</td>\n",
       "      <td>7</td>\n",
       "      <td>4</td>\n",
       "      <td>0</td>\n",
       "      <td>11</td>\n",
       "    </tr>\n",
       "  </tbody>\n",
       "</table>\n",
       "</div>"
      ],
      "text/plain": [
       "    P3  P4   P5   P6  P7  P8  Total\n",
       "A3   0   0    3    0   0   0      3\n",
       "A4   0   0   23   10   0   0     33\n",
       "A5   0   0  362  148   1   0    511\n",
       "A6   0   0  150  335  12   0    497\n",
       "A7   0   0    5   98  32   0    135\n",
       "A8   0   0    0    7   4   0     11"
      ]
     },
     "execution_count": 175,
     "metadata": {},
     "output_type": "execute_result"
    }
   ],
   "source": [
    "print modl_name[4]\n",
    "print 'overall accuracy:', accuracy[4]\n",
    "cmats[4]"
   ]
  },
  {
   "cell_type": "code",
   "execution_count": 176,
   "metadata": {
    "collapsed": false
   },
   "outputs": [
    {
     "name": "stdout",
     "output_type": "stream",
     "text": [
      "Gradient Descent, from scratch, x scaled\n",
      "overall accuracy: 0.624369747899\n"
     ]
    },
    {
     "data": {
      "text/html": [
       "<div>\n",
       "<table border=\"1\" class=\"dataframe\">\n",
       "  <thead>\n",
       "    <tr style=\"text-align: right;\">\n",
       "      <th></th>\n",
       "      <th>P3</th>\n",
       "      <th>P4</th>\n",
       "      <th>P5</th>\n",
       "      <th>P6</th>\n",
       "      <th>P7</th>\n",
       "      <th>P8</th>\n",
       "      <th>Total</th>\n",
       "    </tr>\n",
       "  </thead>\n",
       "  <tbody>\n",
       "    <tr>\n",
       "      <th>A3</th>\n",
       "      <td>0</td>\n",
       "      <td>0</td>\n",
       "      <td>3</td>\n",
       "      <td>0</td>\n",
       "      <td>0</td>\n",
       "      <td>0</td>\n",
       "      <td>3</td>\n",
       "    </tr>\n",
       "    <tr>\n",
       "      <th>A4</th>\n",
       "      <td>0</td>\n",
       "      <td>0</td>\n",
       "      <td>27</td>\n",
       "      <td>6</td>\n",
       "      <td>0</td>\n",
       "      <td>0</td>\n",
       "      <td>33</td>\n",
       "    </tr>\n",
       "    <tr>\n",
       "      <th>A5</th>\n",
       "      <td>0</td>\n",
       "      <td>0</td>\n",
       "      <td>365</td>\n",
       "      <td>145</td>\n",
       "      <td>1</td>\n",
       "      <td>0</td>\n",
       "      <td>511</td>\n",
       "    </tr>\n",
       "    <tr>\n",
       "      <th>A6</th>\n",
       "      <td>0</td>\n",
       "      <td>0</td>\n",
       "      <td>145</td>\n",
       "      <td>336</td>\n",
       "      <td>16</td>\n",
       "      <td>0</td>\n",
       "      <td>497</td>\n",
       "    </tr>\n",
       "    <tr>\n",
       "      <th>A7</th>\n",
       "      <td>0</td>\n",
       "      <td>0</td>\n",
       "      <td>5</td>\n",
       "      <td>88</td>\n",
       "      <td>42</td>\n",
       "      <td>0</td>\n",
       "      <td>135</td>\n",
       "    </tr>\n",
       "    <tr>\n",
       "      <th>A8</th>\n",
       "      <td>0</td>\n",
       "      <td>0</td>\n",
       "      <td>0</td>\n",
       "      <td>6</td>\n",
       "      <td>5</td>\n",
       "      <td>0</td>\n",
       "      <td>11</td>\n",
       "    </tr>\n",
       "  </tbody>\n",
       "</table>\n",
       "</div>"
      ],
      "text/plain": [
       "    P3  P4   P5   P6  P7  P8  Total\n",
       "A3   0   0    3    0   0   0      3\n",
       "A4   0   0   27    6   0   0     33\n",
       "A5   0   0  365  145   1   0    511\n",
       "A6   0   0  145  336  16   0    497\n",
       "A7   0   0    5   88  42   0    135\n",
       "A8   0   0    0    6   5   0     11"
      ]
     },
     "execution_count": 176,
     "metadata": {},
     "output_type": "execute_result"
    }
   ],
   "source": [
    "print modl_name[5]\n",
    "print 'overall accuracy:', accuracy[5]\n",
    "cmats[5]"
   ]
  },
  {
   "cell_type": "code",
   "execution_count": 177,
   "metadata": {
    "collapsed": false
   },
   "outputs": [
    {
     "name": "stdout",
     "output_type": "stream",
     "text": [
      "Gradient Descent, sklearn, x scaled\n",
      "overall accuracy: 0.618487394958\n"
     ]
    },
    {
     "data": {
      "text/html": [
       "<div>\n",
       "<table border=\"1\" class=\"dataframe\">\n",
       "  <thead>\n",
       "    <tr style=\"text-align: right;\">\n",
       "      <th></th>\n",
       "      <th>P3</th>\n",
       "      <th>P4</th>\n",
       "      <th>P5</th>\n",
       "      <th>P6</th>\n",
       "      <th>P7</th>\n",
       "      <th>P8</th>\n",
       "      <th>Total</th>\n",
       "    </tr>\n",
       "  </thead>\n",
       "  <tbody>\n",
       "    <tr>\n",
       "      <th>A3</th>\n",
       "      <td>0</td>\n",
       "      <td>0</td>\n",
       "      <td>3</td>\n",
       "      <td>0</td>\n",
       "      <td>0</td>\n",
       "      <td>0</td>\n",
       "      <td>3</td>\n",
       "    </tr>\n",
       "    <tr>\n",
       "      <th>A4</th>\n",
       "      <td>0</td>\n",
       "      <td>0</td>\n",
       "      <td>23</td>\n",
       "      <td>10</td>\n",
       "      <td>0</td>\n",
       "      <td>0</td>\n",
       "      <td>33</td>\n",
       "    </tr>\n",
       "    <tr>\n",
       "      <th>A5</th>\n",
       "      <td>0</td>\n",
       "      <td>0</td>\n",
       "      <td>364</td>\n",
       "      <td>146</td>\n",
       "      <td>1</td>\n",
       "      <td>0</td>\n",
       "      <td>511</td>\n",
       "    </tr>\n",
       "    <tr>\n",
       "      <th>A6</th>\n",
       "      <td>0</td>\n",
       "      <td>0</td>\n",
       "      <td>148</td>\n",
       "      <td>336</td>\n",
       "      <td>13</td>\n",
       "      <td>0</td>\n",
       "      <td>497</td>\n",
       "    </tr>\n",
       "    <tr>\n",
       "      <th>A7</th>\n",
       "      <td>0</td>\n",
       "      <td>0</td>\n",
       "      <td>5</td>\n",
       "      <td>94</td>\n",
       "      <td>36</td>\n",
       "      <td>0</td>\n",
       "      <td>135</td>\n",
       "    </tr>\n",
       "    <tr>\n",
       "      <th>A8</th>\n",
       "      <td>0</td>\n",
       "      <td>0</td>\n",
       "      <td>0</td>\n",
       "      <td>8</td>\n",
       "      <td>3</td>\n",
       "      <td>0</td>\n",
       "      <td>11</td>\n",
       "    </tr>\n",
       "  </tbody>\n",
       "</table>\n",
       "</div>"
      ],
      "text/plain": [
       "    P3  P4   P5   P6  P7  P8  Total\n",
       "A3   0   0    3    0   0   0      3\n",
       "A4   0   0   23   10   0   0     33\n",
       "A5   0   0  364  146   1   0    511\n",
       "A6   0   0  148  336  13   0    497\n",
       "A7   0   0    5   94  36   0    135\n",
       "A8   0   0    0    8   3   0     11"
      ]
     },
     "execution_count": 177,
     "metadata": {},
     "output_type": "execute_result"
    }
   ],
   "source": [
    "print modl_name[6]\n",
    "print 'overall accuracy:', accuracy[6]\n",
    "cmats[6]"
   ]
  },
  {
   "cell_type": "code",
   "execution_count": 178,
   "metadata": {
    "collapsed": false
   },
   "outputs": [
    {
     "name": "stdout",
     "output_type": "stream",
     "text": [
      "Gradient Descent 6 features, from scratch, x scaled\n",
      "overall accuracy: 0.617647058824\n"
     ]
    },
    {
     "data": {
      "text/html": [
       "<div>\n",
       "<table border=\"1\" class=\"dataframe\">\n",
       "  <thead>\n",
       "    <tr style=\"text-align: right;\">\n",
       "      <th></th>\n",
       "      <th>P3</th>\n",
       "      <th>P4</th>\n",
       "      <th>P5</th>\n",
       "      <th>P6</th>\n",
       "      <th>P7</th>\n",
       "      <th>P8</th>\n",
       "      <th>Total</th>\n",
       "    </tr>\n",
       "  </thead>\n",
       "  <tbody>\n",
       "    <tr>\n",
       "      <th>A3</th>\n",
       "      <td>0</td>\n",
       "      <td>0</td>\n",
       "      <td>3</td>\n",
       "      <td>0</td>\n",
       "      <td>0</td>\n",
       "      <td>0</td>\n",
       "      <td>3</td>\n",
       "    </tr>\n",
       "    <tr>\n",
       "      <th>A4</th>\n",
       "      <td>0</td>\n",
       "      <td>0</td>\n",
       "      <td>27</td>\n",
       "      <td>6</td>\n",
       "      <td>0</td>\n",
       "      <td>0</td>\n",
       "      <td>33</td>\n",
       "    </tr>\n",
       "    <tr>\n",
       "      <th>A5</th>\n",
       "      <td>0</td>\n",
       "      <td>0</td>\n",
       "      <td>353</td>\n",
       "      <td>157</td>\n",
       "      <td>1</td>\n",
       "      <td>0</td>\n",
       "      <td>511</td>\n",
       "    </tr>\n",
       "    <tr>\n",
       "      <th>A6</th>\n",
       "      <td>0</td>\n",
       "      <td>0</td>\n",
       "      <td>145</td>\n",
       "      <td>338</td>\n",
       "      <td>14</td>\n",
       "      <td>0</td>\n",
       "      <td>497</td>\n",
       "    </tr>\n",
       "    <tr>\n",
       "      <th>A7</th>\n",
       "      <td>0</td>\n",
       "      <td>0</td>\n",
       "      <td>5</td>\n",
       "      <td>86</td>\n",
       "      <td>44</td>\n",
       "      <td>0</td>\n",
       "      <td>135</td>\n",
       "    </tr>\n",
       "    <tr>\n",
       "      <th>A8</th>\n",
       "      <td>0</td>\n",
       "      <td>0</td>\n",
       "      <td>0</td>\n",
       "      <td>7</td>\n",
       "      <td>4</td>\n",
       "      <td>0</td>\n",
       "      <td>11</td>\n",
       "    </tr>\n",
       "  </tbody>\n",
       "</table>\n",
       "</div>"
      ],
      "text/plain": [
       "    P3  P4   P5   P6  P7  P8  Total\n",
       "A3   0   0    3    0   0   0      3\n",
       "A4   0   0   27    6   0   0     33\n",
       "A5   0   0  353  157   1   0    511\n",
       "A6   0   0  145  338  14   0    497\n",
       "A7   0   0    5   86  44   0    135\n",
       "A8   0   0    0    7   4   0     11"
      ]
     },
     "execution_count": 178,
     "metadata": {},
     "output_type": "execute_result"
    }
   ],
   "source": [
    "print modl_name[7]\n",
    "print 'overall accuracy:', accuracy[7]\n",
    "cmats[7]"
   ]
  },
  {
   "cell_type": "code",
   "execution_count": 179,
   "metadata": {
    "collapsed": false
   },
   "outputs": [
    {
     "name": "stdout",
     "output_type": "stream",
     "text": [
      "Gradient Descent 6 features, sklearn, x scaled\n",
      "overall accuracy: 0.610924369748\n"
     ]
    },
    {
     "data": {
      "text/html": [
       "<div>\n",
       "<table border=\"1\" class=\"dataframe\">\n",
       "  <thead>\n",
       "    <tr style=\"text-align: right;\">\n",
       "      <th></th>\n",
       "      <th>P3</th>\n",
       "      <th>P4</th>\n",
       "      <th>P5</th>\n",
       "      <th>P6</th>\n",
       "      <th>P7</th>\n",
       "      <th>P8</th>\n",
       "      <th>Total</th>\n",
       "    </tr>\n",
       "  </thead>\n",
       "  <tbody>\n",
       "    <tr>\n",
       "      <th>A3</th>\n",
       "      <td>0</td>\n",
       "      <td>0</td>\n",
       "      <td>3</td>\n",
       "      <td>0</td>\n",
       "      <td>0</td>\n",
       "      <td>0</td>\n",
       "      <td>3</td>\n",
       "    </tr>\n",
       "    <tr>\n",
       "      <th>A4</th>\n",
       "      <td>0</td>\n",
       "      <td>0</td>\n",
       "      <td>26</td>\n",
       "      <td>7</td>\n",
       "      <td>0</td>\n",
       "      <td>0</td>\n",
       "      <td>33</td>\n",
       "    </tr>\n",
       "    <tr>\n",
       "      <th>A5</th>\n",
       "      <td>0</td>\n",
       "      <td>0</td>\n",
       "      <td>351</td>\n",
       "      <td>159</td>\n",
       "      <td>1</td>\n",
       "      <td>0</td>\n",
       "      <td>511</td>\n",
       "    </tr>\n",
       "    <tr>\n",
       "      <th>A6</th>\n",
       "      <td>0</td>\n",
       "      <td>0</td>\n",
       "      <td>141</td>\n",
       "      <td>344</td>\n",
       "      <td>12</td>\n",
       "      <td>0</td>\n",
       "      <td>497</td>\n",
       "    </tr>\n",
       "    <tr>\n",
       "      <th>A7</th>\n",
       "      <td>0</td>\n",
       "      <td>0</td>\n",
       "      <td>5</td>\n",
       "      <td>98</td>\n",
       "      <td>32</td>\n",
       "      <td>0</td>\n",
       "      <td>135</td>\n",
       "    </tr>\n",
       "    <tr>\n",
       "      <th>A8</th>\n",
       "      <td>0</td>\n",
       "      <td>0</td>\n",
       "      <td>0</td>\n",
       "      <td>7</td>\n",
       "      <td>4</td>\n",
       "      <td>0</td>\n",
       "      <td>11</td>\n",
       "    </tr>\n",
       "  </tbody>\n",
       "</table>\n",
       "</div>"
      ],
      "text/plain": [
       "    P3  P4   P5   P6  P7  P8  Total\n",
       "A3   0   0    3    0   0   0      3\n",
       "A4   0   0   26    7   0   0     33\n",
       "A5   0   0  351  159   1   0    511\n",
       "A6   0   0  141  344  12   0    497\n",
       "A7   0   0    5   98  32   0    135\n",
       "A8   0   0    0    7   4   0     11"
      ]
     },
     "execution_count": 179,
     "metadata": {},
     "output_type": "execute_result"
    }
   ],
   "source": [
    "print modl_name[8]\n",
    "print 'overall accuracy:', accuracy[8]\n",
    "cmats[8]"
   ]
  },
  {
   "cell_type": "code",
   "execution_count": 180,
   "metadata": {
    "collapsed": false
   },
   "outputs": [
    {
     "name": "stdout",
     "output_type": "stream",
     "text": [
      "Ridge alpha .0001, from scratch, x scaled\n",
      "overall accuracy: 0.624369747899\n"
     ]
    },
    {
     "data": {
      "text/html": [
       "<div>\n",
       "<table border=\"1\" class=\"dataframe\">\n",
       "  <thead>\n",
       "    <tr style=\"text-align: right;\">\n",
       "      <th></th>\n",
       "      <th>P3</th>\n",
       "      <th>P4</th>\n",
       "      <th>P5</th>\n",
       "      <th>P6</th>\n",
       "      <th>P7</th>\n",
       "      <th>P8</th>\n",
       "      <th>Total</th>\n",
       "    </tr>\n",
       "  </thead>\n",
       "  <tbody>\n",
       "    <tr>\n",
       "      <th>A3</th>\n",
       "      <td>0</td>\n",
       "      <td>0</td>\n",
       "      <td>3</td>\n",
       "      <td>0</td>\n",
       "      <td>0</td>\n",
       "      <td>0</td>\n",
       "      <td>3</td>\n",
       "    </tr>\n",
       "    <tr>\n",
       "      <th>A4</th>\n",
       "      <td>0</td>\n",
       "      <td>0</td>\n",
       "      <td>27</td>\n",
       "      <td>6</td>\n",
       "      <td>0</td>\n",
       "      <td>0</td>\n",
       "      <td>33</td>\n",
       "    </tr>\n",
       "    <tr>\n",
       "      <th>A5</th>\n",
       "      <td>0</td>\n",
       "      <td>0</td>\n",
       "      <td>365</td>\n",
       "      <td>145</td>\n",
       "      <td>1</td>\n",
       "      <td>0</td>\n",
       "      <td>511</td>\n",
       "    </tr>\n",
       "    <tr>\n",
       "      <th>A6</th>\n",
       "      <td>0</td>\n",
       "      <td>0</td>\n",
       "      <td>145</td>\n",
       "      <td>336</td>\n",
       "      <td>16</td>\n",
       "      <td>0</td>\n",
       "      <td>497</td>\n",
       "    </tr>\n",
       "    <tr>\n",
       "      <th>A7</th>\n",
       "      <td>0</td>\n",
       "      <td>0</td>\n",
       "      <td>5</td>\n",
       "      <td>88</td>\n",
       "      <td>42</td>\n",
       "      <td>0</td>\n",
       "      <td>135</td>\n",
       "    </tr>\n",
       "    <tr>\n",
       "      <th>A8</th>\n",
       "      <td>0</td>\n",
       "      <td>0</td>\n",
       "      <td>0</td>\n",
       "      <td>6</td>\n",
       "      <td>5</td>\n",
       "      <td>0</td>\n",
       "      <td>11</td>\n",
       "    </tr>\n",
       "  </tbody>\n",
       "</table>\n",
       "</div>"
      ],
      "text/plain": [
       "    P3  P4   P5   P6  P7  P8  Total\n",
       "A3   0   0    3    0   0   0      3\n",
       "A4   0   0   27    6   0   0     33\n",
       "A5   0   0  365  145   1   0    511\n",
       "A6   0   0  145  336  16   0    497\n",
       "A7   0   0    5   88  42   0    135\n",
       "A8   0   0    0    6   5   0     11"
      ]
     },
     "execution_count": 180,
     "metadata": {},
     "output_type": "execute_result"
    }
   ],
   "source": [
    "print modl_name[9]\n",
    "print 'overall accuracy:', accuracy[9]\n",
    "cmats[9]"
   ]
  },
  {
   "cell_type": "code",
   "execution_count": 181,
   "metadata": {
    "collapsed": false
   },
   "outputs": [
    {
     "name": "stdout",
     "output_type": "stream",
     "text": [
      "Ridge alpha 1, sklearn\n",
      "overall accuracy: 0.613445378151\n"
     ]
    },
    {
     "data": {
      "text/html": [
       "<div>\n",
       "<table border=\"1\" class=\"dataframe\">\n",
       "  <thead>\n",
       "    <tr style=\"text-align: right;\">\n",
       "      <th></th>\n",
       "      <th>P3</th>\n",
       "      <th>P4</th>\n",
       "      <th>P5</th>\n",
       "      <th>P6</th>\n",
       "      <th>P7</th>\n",
       "      <th>P8</th>\n",
       "      <th>Total</th>\n",
       "    </tr>\n",
       "  </thead>\n",
       "  <tbody>\n",
       "    <tr>\n",
       "      <th>A3</th>\n",
       "      <td>0</td>\n",
       "      <td>0</td>\n",
       "      <td>3</td>\n",
       "      <td>0</td>\n",
       "      <td>0</td>\n",
       "      <td>0</td>\n",
       "      <td>3</td>\n",
       "    </tr>\n",
       "    <tr>\n",
       "      <th>A4</th>\n",
       "      <td>0</td>\n",
       "      <td>0</td>\n",
       "      <td>24</td>\n",
       "      <td>9</td>\n",
       "      <td>0</td>\n",
       "      <td>0</td>\n",
       "      <td>33</td>\n",
       "    </tr>\n",
       "    <tr>\n",
       "      <th>A5</th>\n",
       "      <td>0</td>\n",
       "      <td>0</td>\n",
       "      <td>356</td>\n",
       "      <td>154</td>\n",
       "      <td>1</td>\n",
       "      <td>0</td>\n",
       "      <td>511</td>\n",
       "    </tr>\n",
       "    <tr>\n",
       "      <th>A6</th>\n",
       "      <td>0</td>\n",
       "      <td>0</td>\n",
       "      <td>142</td>\n",
       "      <td>339</td>\n",
       "      <td>16</td>\n",
       "      <td>0</td>\n",
       "      <td>497</td>\n",
       "    </tr>\n",
       "    <tr>\n",
       "      <th>A7</th>\n",
       "      <td>0</td>\n",
       "      <td>0</td>\n",
       "      <td>5</td>\n",
       "      <td>95</td>\n",
       "      <td>35</td>\n",
       "      <td>0</td>\n",
       "      <td>135</td>\n",
       "    </tr>\n",
       "    <tr>\n",
       "      <th>A8</th>\n",
       "      <td>0</td>\n",
       "      <td>0</td>\n",
       "      <td>0</td>\n",
       "      <td>6</td>\n",
       "      <td>5</td>\n",
       "      <td>0</td>\n",
       "      <td>11</td>\n",
       "    </tr>\n",
       "  </tbody>\n",
       "</table>\n",
       "</div>"
      ],
      "text/plain": [
       "    P3  P4   P5   P6  P7  P8  Total\n",
       "A3   0   0    3    0   0   0      3\n",
       "A4   0   0   24    9   0   0     33\n",
       "A5   0   0  356  154   1   0    511\n",
       "A6   0   0  142  339  16   0    497\n",
       "A7   0   0    5   95  35   0    135\n",
       "A8   0   0    0    6   5   0     11"
      ]
     },
     "execution_count": 181,
     "metadata": {},
     "output_type": "execute_result"
    }
   ],
   "source": [
    "print modl_name[10]\n",
    "print 'overall accuracy:', accuracy[10]\n",
    "cmats[10]"
   ]
  },
  {
   "cell_type": "markdown",
   "metadata": {},
   "source": [
    "## Running a Sample Prediction through Each Model"
   ]
  },
  {
   "cell_type": "markdown",
   "metadata": {},
   "source": [
    "Create a list of the mean & standard deviation for each attribute"
   ]
  },
  {
   "cell_type": "code",
   "execution_count": 182,
   "metadata": {
    "collapsed": false
   },
   "outputs": [
    {
     "name": "stdout",
     "output_type": "stream",
     "text": [
      "means [8.164705882352951, 0.5228529411764699, 0.24788235294117544, 2.185126050420168, 0.07847478991596608, 14.947899159663866, 41.98571428571429, 0.996570697478993, 3.324277310924373, 0.6322521008403362, 10.365742296918738]\n",
      "\n",
      "stds [1.4619818015647994, 0.1649045631293432, 0.18021448656685485, 0.4422082471003495, 0.01431381858922043, 8.758452351463166, 25.904020898122678, 0.0016043455813510678, 0.13193369542841832, 0.1163850095757657, 0.9756396883529975]\n"
     ]
    }
   ],
   "source": [
    "stats = df.describe()\n",
    "features_means = stats.ix[1:2, 0:11].values.tolist()[0] #row 1 \n",
    "features_stds = stats.ix[2:3, 0:11].values.tolist()[0]  #row 2 \n",
    "print 'means', features_means \n",
    "print '\\nstds', features_stds"
   ]
  },
  {
   "cell_type": "markdown",
   "metadata": {},
   "source": [
    "Check means & standard deviations"
   ]
  },
  {
   "cell_type": "code",
   "execution_count": 183,
   "metadata": {
    "collapsed": false
   },
   "outputs": [
    {
     "data": {
      "text/html": [
       "<div>\n",
       "<table border=\"1\" class=\"dataframe\">\n",
       "  <thead>\n",
       "    <tr style=\"text-align: right;\">\n",
       "      <th></th>\n",
       "      <th>fixed acidity (0)</th>\n",
       "      <th>volatile acidity (1)</th>\n",
       "      <th>citric acid (2)</th>\n",
       "      <th>residual sugar (3)</th>\n",
       "      <th>chlorides (4)</th>\n",
       "      <th>free sulfur dioxide (5)</th>\n",
       "      <th>total sulfur dioxide (6)</th>\n",
       "      <th>density (7)</th>\n",
       "      <th>pH (8)</th>\n",
       "      <th>sulphates (9)</th>\n",
       "      <th>alcohol (10)</th>\n",
       "      <th>target</th>\n",
       "    </tr>\n",
       "  </thead>\n",
       "  <tbody>\n",
       "    <tr>\n",
       "      <th>count</th>\n",
       "      <td>1190.000000</td>\n",
       "      <td>1190.000000</td>\n",
       "      <td>1190.000000</td>\n",
       "      <td>1190.000000</td>\n",
       "      <td>1190.000000</td>\n",
       "      <td>1190.000000</td>\n",
       "      <td>1190.000000</td>\n",
       "      <td>1190.000000</td>\n",
       "      <td>1190.000000</td>\n",
       "      <td>1190.000000</td>\n",
       "      <td>1190.000000</td>\n",
       "      <td>1190.000000</td>\n",
       "    </tr>\n",
       "    <tr>\n",
       "      <th>mean</th>\n",
       "      <td>8.164706</td>\n",
       "      <td>0.522853</td>\n",
       "      <td>0.247882</td>\n",
       "      <td>2.185126</td>\n",
       "      <td>0.078475</td>\n",
       "      <td>14.947899</td>\n",
       "      <td>41.985714</td>\n",
       "      <td>0.996571</td>\n",
       "      <td>3.324277</td>\n",
       "      <td>0.632252</td>\n",
       "      <td>10.365742</td>\n",
       "      <td>5.639496</td>\n",
       "    </tr>\n",
       "    <tr>\n",
       "      <th>std</th>\n",
       "      <td>1.461982</td>\n",
       "      <td>0.164905</td>\n",
       "      <td>0.180214</td>\n",
       "      <td>0.442208</td>\n",
       "      <td>0.014314</td>\n",
       "      <td>8.758452</td>\n",
       "      <td>25.904021</td>\n",
       "      <td>0.001604</td>\n",
       "      <td>0.131934</td>\n",
       "      <td>0.116385</td>\n",
       "      <td>0.975640</td>\n",
       "      <td>0.764181</td>\n",
       "    </tr>\n",
       "    <tr>\n",
       "      <th>min</th>\n",
       "      <td>5.100000</td>\n",
       "      <td>0.120000</td>\n",
       "      <td>0.000000</td>\n",
       "      <td>1.200000</td>\n",
       "      <td>0.041000</td>\n",
       "      <td>1.000000</td>\n",
       "      <td>6.000000</td>\n",
       "      <td>0.992350</td>\n",
       "      <td>2.940000</td>\n",
       "      <td>0.330000</td>\n",
       "      <td>8.700000</td>\n",
       "      <td>3.000000</td>\n",
       "    </tr>\n",
       "    <tr>\n",
       "      <th>25%</th>\n",
       "      <td>7.100000</td>\n",
       "      <td>0.390000</td>\n",
       "      <td>0.080000</td>\n",
       "      <td>1.900000</td>\n",
       "      <td>0.069000</td>\n",
       "      <td>8.000000</td>\n",
       "      <td>22.000000</td>\n",
       "      <td>0.995503</td>\n",
       "      <td>3.230000</td>\n",
       "      <td>0.550000</td>\n",
       "      <td>9.500000</td>\n",
       "      <td>5.000000</td>\n",
       "    </tr>\n",
       "    <tr>\n",
       "      <th>50%</th>\n",
       "      <td>7.800000</td>\n",
       "      <td>0.520000</td>\n",
       "      <td>0.240000</td>\n",
       "      <td>2.100000</td>\n",
       "      <td>0.078000</td>\n",
       "      <td>13.000000</td>\n",
       "      <td>36.000000</td>\n",
       "      <td>0.996600</td>\n",
       "      <td>3.330000</td>\n",
       "      <td>0.610000</td>\n",
       "      <td>10.100000</td>\n",
       "      <td>6.000000</td>\n",
       "    </tr>\n",
       "    <tr>\n",
       "      <th>75%</th>\n",
       "      <td>9.000000</td>\n",
       "      <td>0.630000</td>\n",
       "      <td>0.390000</td>\n",
       "      <td>2.500000</td>\n",
       "      <td>0.087000</td>\n",
       "      <td>20.000000</td>\n",
       "      <td>55.000000</td>\n",
       "      <td>0.997575</td>\n",
       "      <td>3.407500</td>\n",
       "      <td>0.700000</td>\n",
       "      <td>11.000000</td>\n",
       "      <td>6.000000</td>\n",
       "    </tr>\n",
       "    <tr>\n",
       "      <th>max</th>\n",
       "      <td>12.300000</td>\n",
       "      <td>1.005000</td>\n",
       "      <td>0.730000</td>\n",
       "      <td>3.600000</td>\n",
       "      <td>0.119000</td>\n",
       "      <td>41.000000</td>\n",
       "      <td>121.000000</td>\n",
       "      <td>1.001000</td>\n",
       "      <td>3.680000</td>\n",
       "      <td>0.980000</td>\n",
       "      <td>13.400000</td>\n",
       "      <td>8.000000</td>\n",
       "    </tr>\n",
       "  </tbody>\n",
       "</table>\n",
       "</div>"
      ],
      "text/plain": [
       "       fixed acidity (0)  volatile acidity (1)  citric acid (2)  \\\n",
       "count        1190.000000           1190.000000      1190.000000   \n",
       "mean            8.164706              0.522853         0.247882   \n",
       "std             1.461982              0.164905         0.180214   \n",
       "min             5.100000              0.120000         0.000000   \n",
       "25%             7.100000              0.390000         0.080000   \n",
       "50%             7.800000              0.520000         0.240000   \n",
       "75%             9.000000              0.630000         0.390000   \n",
       "max            12.300000              1.005000         0.730000   \n",
       "\n",
       "       residual sugar (3)  chlorides (4)  free sulfur dioxide (5)  \\\n",
       "count         1190.000000    1190.000000              1190.000000   \n",
       "mean             2.185126       0.078475                14.947899   \n",
       "std              0.442208       0.014314                 8.758452   \n",
       "min              1.200000       0.041000                 1.000000   \n",
       "25%              1.900000       0.069000                 8.000000   \n",
       "50%              2.100000       0.078000                13.000000   \n",
       "75%              2.500000       0.087000                20.000000   \n",
       "max              3.600000       0.119000                41.000000   \n",
       "\n",
       "       total sulfur dioxide (6)  density (7)       pH (8)  sulphates (9)  \\\n",
       "count               1190.000000  1190.000000  1190.000000    1190.000000   \n",
       "mean                  41.985714     0.996571     3.324277       0.632252   \n",
       "std                   25.904021     0.001604     0.131934       0.116385   \n",
       "min                    6.000000     0.992350     2.940000       0.330000   \n",
       "25%                   22.000000     0.995503     3.230000       0.550000   \n",
       "50%                   36.000000     0.996600     3.330000       0.610000   \n",
       "75%                   55.000000     0.997575     3.407500       0.700000   \n",
       "max                  121.000000     1.001000     3.680000       0.980000   \n",
       "\n",
       "       alcohol (10)       target  \n",
       "count   1190.000000  1190.000000  \n",
       "mean      10.365742     5.639496  \n",
       "std        0.975640     0.764181  \n",
       "min        8.700000     3.000000  \n",
       "25%        9.500000     5.000000  \n",
       "50%       10.100000     6.000000  \n",
       "75%       11.000000     6.000000  \n",
       "max       13.400000     8.000000  "
      ]
     },
     "execution_count": 183,
     "metadata": {},
     "output_type": "execute_result"
    }
   ],
   "source": [
    "stats"
   ]
  },
  {
   "cell_type": "markdown",
   "metadata": {},
   "source": [
    "Reorder the lists of means & stds to match order of model's coefficients "
   ]
  },
  {
   "cell_type": "code",
   "execution_count": 184,
   "metadata": {
    "collapsed": false
   },
   "outputs": [
    {
     "name": "stdout",
     "output_type": "stream",
     "text": [
      "means1 [10.365742296918738, 0.6322521008403362, 0.5228529411764699, 3.324277310924373, 41.98571428571429, 0.24788235294117544, 0.07847478991596608, 14.947899159663866, 2.185126050420168, 0.996570697478993, 8.164705882352951] \n",
      "\n",
      "stds1 [0.9756396883529975, 0.1163850095757657, 0.1649045631293432, 0.13193369542841832, 25.904020898122678, 0.18021448656685485, 0.01431381858922043, 8.758452351463166, 0.4422082471003495, 0.0016043455813510678, 1.4619818015647994]\n",
      "\n",
      "means2 [10.365742296918738, 0.6322521008403362, 0.5228529411764699, 41.98571428571429, 3.324277310924373, 0.07847478991596608, 0.996570697478993, 0.24788235294117544, 14.947899159663866, 8.164705882352951, 2.185126050420168] \n",
      "\n",
      "stds2 [0.9756396883529975, 0.1163850095757657, 0.1649045631293432, 25.904020898122678, 0.13193369542841832, 0.01431381858922043, 0.0016043455813510678, 0.18021448656685485, 8.758452351463166, 1.4619818015647994, 0.4422082471003495]\n"
     ]
    }
   ],
   "source": [
    "f_means_stepw_seq = [features_means[i] for i in stepwise_indices]\n",
    "f_std_stepw_seq = [features_stds[i] for i in stepwise_indices]\n",
    "f_means_lars_seq = [features_means[i] for i in lars_indices]\n",
    "f_std_lars_seq = [features_stds[i] for i in lars_indices]\n",
    "print 'means1', f_means_stepw_seq, '\\n\\nstds1', f_std_stepw_seq\n",
    "print '\\nmeans2', f_means_lars_seq, '\\n\\nstds2', f_std_lars_seq"
   ]
  },
  {
   "cell_type": "markdown",
   "metadata": {},
   "source": [
    "Input for Sample Prediction #1"
   ]
  },
  {
   "cell_type": "code",
   "execution_count": 185,
   "metadata": {
    "collapsed": false
   },
   "outputs": [
    {
     "data": {
      "text/plain": [
       "[12.4, 0.1, 0, 3.7, 0.03, 42, 5.9, 0.98, 2.9, 1, 13.5]"
      ]
     },
     "execution_count": 185,
     "metadata": {},
     "output_type": "execute_result"
    }
   ],
   "source": [
    "fixed_acidity_0 = 12.4\n",
    "volatile_acidity_1 = 0.1\n",
    "citric_acid_2 = 0\n",
    "residual_sugar_3 = 3.7\n",
    "chlorides_4 = 0.03\n",
    "free_sulfur_dioxide_5 = 42\n",
    "total_sulfur_dioxide_6 = 5.9\n",
    "density_7 = 0.98\n",
    "pH_8 = 2.9\n",
    "sulphates_9 = 1\n",
    "alcohol_10 = 13.5\n",
    "\n",
    "predsamp_original_sequence, taste_prediction = [], []\n",
    "predsamp_original_sequence.append(fixed_acidity_0)\n",
    "predsamp_original_sequence.append(volatile_acidity_1)\n",
    "predsamp_original_sequence.append(citric_acid_2)\n",
    "predsamp_original_sequence.append(residual_sugar_3)\n",
    "predsamp_original_sequence.append(chlorides_4)\n",
    "predsamp_original_sequence.append(free_sulfur_dioxide_5)\n",
    "predsamp_original_sequence.append(total_sulfur_dioxide_6)\n",
    "predsamp_original_sequence.append(density_7)\n",
    "predsamp_original_sequence.append(pH_8)\n",
    "predsamp_original_sequence.append(sulphates_9)\n",
    "predsamp_original_sequence.append(alcohol_10)\n",
    "predsamp_original_sequence"
   ]
  },
  {
   "cell_type": "markdown",
   "metadata": {},
   "source": [
    "Reorder input values for predictions to match the order of model's beta coefficients"
   ]
  },
  {
   "cell_type": "code",
   "execution_count": 186,
   "metadata": {
    "collapsed": false
   },
   "outputs": [
    {
     "name": "stdout",
     "output_type": "stream",
     "text": [
      "preds1 [13.5, 1, 0.1, 2.9, 5.9, 0, 0.03, 42, 3.7, 0.98, 12.4] \n",
      "preds2 [13.5, 1, 0.1, 5.9, 2.9, 0.03, 0.98, 0, 42, 12.4, 3.7]\n"
     ]
    }
   ],
   "source": [
    "preds1 = [predsamp_original_sequence[i] for i in stepwise_indices]\n",
    "preds2 = [predsamp_original_sequence[i] for i in lars_indices]\n",
    "print 'preds1', preds1, '\\npreds2', preds2"
   ]
  },
  {
   "cell_type": "markdown",
   "metadata": {},
   "source": [
    "Normalize data for the models that require scaled input values"
   ]
  },
  {
   "cell_type": "code",
   "execution_count": 187,
   "metadata": {
    "collapsed": false
   },
   "outputs": [
    {
     "name": "stdout",
     "output_type": "stream",
     "text": [
      "predvals_scaled1\n",
      "[3.212515583875317, 3.1597531374542087, -2.5642282611961704, -3.215837391249061, -1.3930545542576172, -1.3754851658344214, -3.3865728850631016, 3.0886850501409504, 3.425702617518268, -10.328633476235398, 2.896954061339134] \n",
      "\n",
      "predvals_scaled2\n",
      "[3.212515583875317, 3.1597531374542087, -2.5642282611961704, -1.3930545542576172, -3.215837391249061, -3.3865728850631016, -10.328633476235398, -1.3754851658344214, 3.0886850501409504, 2.896954061339134, 3.425702617518268]\n"
     ]
    }
   ],
   "source": [
    "predvals_scaled1 = scale_vals(preds1, f_means_stepw_seq, f_std_stepw_seq)\n",
    "predvals_scaled2 = scale_vals(preds2, f_means_lars_seq, f_std_lars_seq)\n",
    "print 'predvals_scaled1\\n', predvals_scaled1, '\\n\\npredvals_scaled2\\n', predvals_scaled2 "
   ]
  },
  {
   "cell_type": "markdown",
   "metadata": {},
   "source": [
    "#### Run sample predictions"
   ]
  },
  {
   "cell_type": "code",
   "execution_count": 188,
   "metadata": {
    "collapsed": false
   },
   "outputs": [
    {
     "name": "stdout",
     "output_type": "stream",
     "text": [
      "Stepwise Regression\n",
      "\n",
      "beta coefficients\n",
      "[4.20601, 0.31667, 1.73819, -0.92395, -0.68866, -0.00195, -0.37727] \n",
      "\n",
      "wine quality taste prediction\n",
      "8.118231\n"
     ]
    }
   ],
   "source": [
    "#run sample prediction using Stepwise Regression (model #2/record #0)\n",
    "parameters = np.array(df_beta_coefs[0].T).tolist()\n",
    "coeffs = []\n",
    "for p in parameters: \n",
    "    coeffs.append(p[0])\n",
    "prediction = coeffs[0] + predict(preds1[0:6], coeffs[1:])\n",
    "print 'Stepwise Regression'\n",
    "print '\\nbeta coefficients\\n', coeffs, '\\n\\nwine quality taste prediction\\n', prediction\n",
    "taste_prediction.append(prediction)"
   ]
  },
  {
   "cell_type": "code",
   "execution_count": 189,
   "metadata": {
    "collapsed": false
   },
   "outputs": [
    {
     "name": "stdout",
     "output_type": "stream",
     "text": [
      "Linear Regression\n",
      "\n",
      "beta coefficients\n",
      "[26.41577, 0.28699, 1.74857, -0.85407, -0.61195, -0.00251, -0.32102, -1.49141, 0.00299, 0.01624, -22.39029, 0.01952] \n",
      "\n",
      "wine quality taste prediction\n",
      "8.6043235\n"
     ]
    }
   ],
   "source": [
    "#run sample prediction using Linear Regression (model #3/record #1)\n",
    "parameters = np.array(df_beta_coefs[1].T).tolist()\n",
    "coeffs = []\n",
    "for p in parameters: \n",
    "    coeffs.append(p[0])\n",
    "prediction = coeffs[0] + predict(preds1, coeffs[1:])\n",
    "print 'Linear Regression'\n",
    "print '\\nbeta coefficients\\n', coeffs, '\\n\\nwine quality taste prediction\\n', prediction\n",
    "taste_prediction.append(prediction)"
   ]
  },
  {
   "cell_type": "code",
   "execution_count": 190,
   "metadata": {
    "collapsed": false
   },
   "outputs": [
    {
     "name": "stdout",
     "output_type": "stream",
     "text": [
      "Lasso Regression (skl)\n",
      "\n",
      "beta coefficients\n",
      "[5.6395, 0.28153, 0.19545, -0.11771, -0.04862, -0.06677, -0.01629, -0.02116, -0.01125, 0.00512, 0.0, -0.0] \n",
      "\n",
      "wine quality taste prediction\n",
      "8.05078977894\n"
     ]
    }
   ],
   "source": [
    "#run sample prediction using Lasso Regression (model #8(skl) / record #4)\n",
    "parameters = np.array(df_beta_coefs[4].T).tolist()\n",
    "coeffs = []\n",
    "for p in parameters: \n",
    "    coeffs.append(p[0])\n",
    "prediction = coeffs[0] + predict(predvals_scaled2, coeffs[1:])\n",
    "print 'Lasso Regression (skl)'\n",
    "print '\\nbeta coefficients\\n', coeffs, '\\n\\nwine quality taste prediction\\n', prediction\n",
    "taste_prediction.append(prediction)"
   ]
  },
  {
   "cell_type": "code",
   "execution_count": 191,
   "metadata": {
    "collapsed": false
   },
   "outputs": [
    {
     "name": "stdout",
     "output_type": "stream",
     "text": [
      "Gradient Descent Regression (scr, 11 fea)\n",
      "\n",
      "beta coefficients\n",
      "[5.6393, 0.27976, 0.20349, -0.14058, -0.08045, -0.06495, -0.05787, -0.02119, 0.02599, 0.00702, -0.03625, 0.02912] \n",
      "\n",
      "wine quality taste prediction\n",
      "8.60514017466\n"
     ]
    }
   ],
   "source": [
    "#run sample prediction using Gradient Descent Regr (model #9 (scr, 11 fea) / record #5)\n",
    "parameters = np.array(df_beta_coefs[5].T).tolist()\n",
    "coeffs = []\n",
    "for p in parameters: \n",
    "    coeffs.append(p[0])\n",
    "prediction = coeffs[0] + predict(predvals_scaled1, coeffs[1:])\n",
    "print 'Gradient Descent Regression (scr, 11 fea)'\n",
    "print '\\nbeta coefficients\\n', coeffs, '\\n\\nwine quality taste prediction\\n', prediction\n",
    "taste_prediction.append(prediction)"
   ]
  },
  {
   "cell_type": "code",
   "execution_count": 192,
   "metadata": {
    "collapsed": false
   },
   "outputs": [
    {
     "name": "stdout",
     "output_type": "stream",
     "text": [
      "Gradient Descent Regression (skl, 11f)\n",
      "\n",
      "beta coefficients\n",
      "[5.64244, 0.2576, 0.20435, -0.13446, -0.07029, -0.06827, -0.05061, -0.01666, 0.00882, 0.01837, -0.05505, 0.0417] \n",
      "\n",
      "wine quality taste prediction\n",
      "8.68721096965\n"
     ]
    }
   ],
   "source": [
    "#run sample prediction using Gradient Descent Regr (model #10(skl, 11f) / record #6)\n",
    "parameters = np.array(df_beta_coefs[6].T).tolist()\n",
    "coeffs = []\n",
    "for p in parameters: \n",
    "    coeffs.append(p[0])\n",
    "prediction = coeffs[0] + predict(predvals_scaled1, coeffs[1:])\n",
    "print 'Gradient Descent Regression (skl, 11f)'\n",
    "print '\\nbeta coefficients\\n', coeffs, '\\n\\nwine quality taste prediction\\n', prediction\n",
    "taste_prediction.append(prediction)"
   ]
  },
  {
   "cell_type": "code",
   "execution_count": 193,
   "metadata": {
    "collapsed": false
   },
   "outputs": [
    {
     "name": "stdout",
     "output_type": "stream",
     "text": [
      "Gradient Descent Regression (scr, 6 fea)\n",
      "\n",
      "beta coefficients\n",
      "[5.63971, 0.30886, 0.20206, -0.15247, -0.09076, -0.05045, -0.06802] \n",
      "\n",
      "wine quality taste prediction\n",
      "8.11706467005\n"
     ]
    }
   ],
   "source": [
    "#run sample prediction using Gradient Descent Regression (model #11(scr, 6 fea) / record #7)\n",
    "parameters = np.array(df_beta_coefs[7].T).tolist()\n",
    "coeffs = []\n",
    "for p in parameters: \n",
    "    coeffs.append(p[0])\n",
    "prediction = coeffs[0] + predict(predvals_scaled1[0:6], coeffs[1:])\n",
    "print 'Gradient Descent Regression (scr, 6 fea)'\n",
    "print '\\nbeta coefficients\\n', coeffs, '\\n\\nwine quality taste prediction\\n', prediction\n",
    "taste_prediction.append(prediction)"
   ]
  },
  {
   "cell_type": "code",
   "execution_count": 194,
   "metadata": {
    "collapsed": false
   },
   "outputs": [
    {
     "name": "stdout",
     "output_type": "stream",
     "text": [
      "Gradient Descent Regression (skl, 6 fea)\n",
      "\n",
      "beta coefficients\n",
      "[5.6419, 0.30396, 0.19779, -0.15172, -0.08864, -0.06091, -0.06735] \n",
      "\n",
      "wine quality taste prediction\n",
      "8.0949302269\n"
     ]
    }
   ],
   "source": [
    "#run sample prediction using Gradient Descent Regression (model #12(skl, 6 fea) / record #8)\n",
    "parameters = np.array(df_beta_coefs[8].T).tolist()\n",
    "coeffs = []\n",
    "for p in parameters: \n",
    "    coeffs.append(p[0])\n",
    "prediction = coeffs[0] + predict(predvals_scaled1[0:6], coeffs[1:])\n",
    "print 'Gradient Descent Regression (skl, 6 fea)'\n",
    "print '\\nbeta coefficients\\n', coeffs, '\\n\\nwine quality taste prediction\\n', prediction\n",
    "taste_prediction.append(prediction)"
   ]
  },
  {
   "cell_type": "code",
   "execution_count": 195,
   "metadata": {
    "collapsed": false
   },
   "outputs": [
    {
     "name": "stdout",
     "output_type": "stream",
     "text": [
      "Ridge Regression (scr, 11 fea)\n",
      "\n",
      "beta coefficients\n",
      "[5.6393, 0.27968, 0.20348, -0.14054, -0.0804, -0.06496, -0.05781, -0.02119, 0.02599, 0.00704, -0.03634, 0.02917] \n",
      "\n",
      "wine quality taste prediction\n",
      "8.60566255508\n"
     ]
    }
   ],
   "source": [
    "#run sample prediction using Ridge Regression (model #15(scr, 11 fea) / record #9)\n",
    "parameters = np.array(df_beta_coefs[9].T).tolist() \n",
    "coeffs = []\n",
    "for p in parameters: \n",
    "    coeffs.append(p[0])\n",
    "prediction = coeffs[0] + predict(predvals_scaled1, coeffs[1:])\n",
    "print 'Ridge Regression (scr, 11 fea)'\n",
    "print '\\nbeta coefficients\\n', coeffs, '\\n\\nwine quality taste prediction\\n', prediction\n",
    "taste_prediction.append(prediction)"
   ]
  },
  {
   "cell_type": "code",
   "execution_count": 196,
   "metadata": {
    "collapsed": false
   },
   "outputs": [
    {
     "name": "stdout",
     "output_type": "stream",
     "text": [
      "Ridge Regression (skl, 11 fea)\n",
      "\n",
      "beta coefficients\n",
      "[4.07688, 0.31635, 1.59243, -0.84541, -0.63148, -0.00267, -0.27607, -0.28812, 0.0035, -0.01902, -0.01479, 0.00309] \n",
      "\n",
      "wine quality taste prediction\n",
      "8.1002532\n"
     ]
    }
   ],
   "source": [
    "#run sample prediction using Ridge Regression (model #16(skl, 11 fea) / record #10)\n",
    "parameters = np.array(df_beta_coefs[10].T).tolist() \n",
    "coeffs = []\n",
    "for p in parameters: \n",
    "    coeffs.append(p[0])\n",
    "prediction = coeffs[0] + predict(preds1, coeffs[1:])\n",
    "print 'Ridge Regression (skl, 11 fea)'\n",
    "print '\\nbeta coefficients\\n', coeffs, '\\n\\nwine quality taste prediction\\n', prediction\n",
    "taste_prediction.append(prediction)"
   ]
  },
  {
   "cell_type": "code",
   "execution_count": 197,
   "metadata": {
    "collapsed": false
   },
   "outputs": [
    {
     "data": {
      "text/plain": [
       "'Lasso alpha 0.01, sklearn, xy scaled'"
      ]
     },
     "execution_count": 197,
     "metadata": {},
     "output_type": "execute_result"
    }
   ],
   "source": [
    "models = modl_name\n",
    "models.pop(2)  # no prediction on Lars model with scaled labels\n",
    "models.pop(2)  # no prediction on Lasso model with scaled labels "
   ]
  },
  {
   "cell_type": "code",
   "execution_count": 198,
   "metadata": {
    "collapsed": false
   },
   "outputs": [
    {
     "data": {
      "text/html": [
       "<div>\n",
       "<table border=\"1\" class=\"dataframe\">\n",
       "  <thead>\n",
       "    <tr style=\"text-align: right;\">\n",
       "      <th></th>\n",
       "      <th>taste prediciton on input values 1</th>\n",
       "    </tr>\n",
       "  </thead>\n",
       "  <tbody>\n",
       "    <tr>\n",
       "      <th>Stepwise Regression</th>\n",
       "      <td>8.118231</td>\n",
       "    </tr>\n",
       "    <tr>\n",
       "      <th>Linear Regression</th>\n",
       "      <td>8.604324</td>\n",
       "    </tr>\n",
       "    <tr>\n",
       "      <th>Lasso alpha 0.01, sklearn, x scaled</th>\n",
       "      <td>8.050790</td>\n",
       "    </tr>\n",
       "    <tr>\n",
       "      <th>Gradient Descent, from scratch, x scaled</th>\n",
       "      <td>8.605140</td>\n",
       "    </tr>\n",
       "    <tr>\n",
       "      <th>Gradient Descent, sklearn, x scaled</th>\n",
       "      <td>8.687211</td>\n",
       "    </tr>\n",
       "    <tr>\n",
       "      <th>Gradient Descent 6 features, from scratch, x scaled</th>\n",
       "      <td>8.117065</td>\n",
       "    </tr>\n",
       "    <tr>\n",
       "      <th>Gradient Descent 6 features, sklearn, x scaled</th>\n",
       "      <td>8.094930</td>\n",
       "    </tr>\n",
       "    <tr>\n",
       "      <th>Ridge alpha .0001, from scratch, x scaled</th>\n",
       "      <td>8.605663</td>\n",
       "    </tr>\n",
       "    <tr>\n",
       "      <th>Ridge alpha 1, sklearn</th>\n",
       "      <td>8.100253</td>\n",
       "    </tr>\n",
       "  </tbody>\n",
       "</table>\n",
       "</div>"
      ],
      "text/plain": [
       "                                                    taste prediciton on input values 1\n",
       "Stepwise Regression                                                           8.118231\n",
       "Linear Regression                                                             8.604324\n",
       "Lasso alpha 0.01, sklearn, x scaled                                           8.050790\n",
       "Gradient Descent, from scratch, x scaled                                      8.605140\n",
       "Gradient Descent, sklearn, x scaled                                           8.687211\n",
       "Gradient Descent 6 features, from scratch, x sc...                            8.117065\n",
       "Gradient Descent 6 features, sklearn, x scaled                                8.094930\n",
       "Ridge alpha .0001, from scratch, x scaled                                     8.605663\n",
       "Ridge alpha 1, sklearn                                                        8.100253"
      ]
     },
     "execution_count": 198,
     "metadata": {},
     "output_type": "execute_result"
    }
   ],
   "source": [
    "df_taste = pd.DataFrame(taste_prediction, index=models, \n",
    "                        columns = ['taste prediciton on input values 1'])\n",
    "df_taste"
   ]
  },
  {
   "cell_type": "code",
   "execution_count": 199,
   "metadata": {
    "collapsed": false
   },
   "outputs": [
    {
     "data": {
      "text/html": [
       "<div>\n",
       "<table border=\"1\" class=\"dataframe\">\n",
       "  <thead>\n",
       "    <tr style=\"text-align: right;\">\n",
       "      <th></th>\n",
       "      <th>fixed acidity (0)</th>\n",
       "      <th>volatile acidity (1)</th>\n",
       "      <th>citric acid (2)</th>\n",
       "      <th>residual sugar (3)</th>\n",
       "      <th>chlorides (4)</th>\n",
       "      <th>free sulfur dioxide (5)</th>\n",
       "      <th>total sulfur dioxide (6)</th>\n",
       "      <th>density (7)</th>\n",
       "      <th>pH (8)</th>\n",
       "      <th>sulphates (9)</th>\n",
       "      <th>alcohol (10)</th>\n",
       "      <th>target</th>\n",
       "    </tr>\n",
       "  </thead>\n",
       "  <tbody>\n",
       "    <tr>\n",
       "      <th>count</th>\n",
       "      <td>1190.000000</td>\n",
       "      <td>1190.000000</td>\n",
       "      <td>1190.000000</td>\n",
       "      <td>1190.000000</td>\n",
       "      <td>1190.000000</td>\n",
       "      <td>1190.000000</td>\n",
       "      <td>1190.000000</td>\n",
       "      <td>1190.000000</td>\n",
       "      <td>1190.000000</td>\n",
       "      <td>1190.000000</td>\n",
       "      <td>1190.000000</td>\n",
       "      <td>1190.000000</td>\n",
       "    </tr>\n",
       "    <tr>\n",
       "      <th>mean</th>\n",
       "      <td>8.164706</td>\n",
       "      <td>0.522853</td>\n",
       "      <td>0.247882</td>\n",
       "      <td>2.185126</td>\n",
       "      <td>0.078475</td>\n",
       "      <td>14.947899</td>\n",
       "      <td>41.985714</td>\n",
       "      <td>0.996571</td>\n",
       "      <td>3.324277</td>\n",
       "      <td>0.632252</td>\n",
       "      <td>10.365742</td>\n",
       "      <td>5.639496</td>\n",
       "    </tr>\n",
       "    <tr>\n",
       "      <th>std</th>\n",
       "      <td>1.461982</td>\n",
       "      <td>0.164905</td>\n",
       "      <td>0.180214</td>\n",
       "      <td>0.442208</td>\n",
       "      <td>0.014314</td>\n",
       "      <td>8.758452</td>\n",
       "      <td>25.904021</td>\n",
       "      <td>0.001604</td>\n",
       "      <td>0.131934</td>\n",
       "      <td>0.116385</td>\n",
       "      <td>0.975640</td>\n",
       "      <td>0.764181</td>\n",
       "    </tr>\n",
       "    <tr>\n",
       "      <th>min</th>\n",
       "      <td>5.100000</td>\n",
       "      <td>0.120000</td>\n",
       "      <td>0.000000</td>\n",
       "      <td>1.200000</td>\n",
       "      <td>0.041000</td>\n",
       "      <td>1.000000</td>\n",
       "      <td>6.000000</td>\n",
       "      <td>0.992350</td>\n",
       "      <td>2.940000</td>\n",
       "      <td>0.330000</td>\n",
       "      <td>8.700000</td>\n",
       "      <td>3.000000</td>\n",
       "    </tr>\n",
       "    <tr>\n",
       "      <th>25%</th>\n",
       "      <td>7.100000</td>\n",
       "      <td>0.390000</td>\n",
       "      <td>0.080000</td>\n",
       "      <td>1.900000</td>\n",
       "      <td>0.069000</td>\n",
       "      <td>8.000000</td>\n",
       "      <td>22.000000</td>\n",
       "      <td>0.995503</td>\n",
       "      <td>3.230000</td>\n",
       "      <td>0.550000</td>\n",
       "      <td>9.500000</td>\n",
       "      <td>5.000000</td>\n",
       "    </tr>\n",
       "    <tr>\n",
       "      <th>50%</th>\n",
       "      <td>7.800000</td>\n",
       "      <td>0.520000</td>\n",
       "      <td>0.240000</td>\n",
       "      <td>2.100000</td>\n",
       "      <td>0.078000</td>\n",
       "      <td>13.000000</td>\n",
       "      <td>36.000000</td>\n",
       "      <td>0.996600</td>\n",
       "      <td>3.330000</td>\n",
       "      <td>0.610000</td>\n",
       "      <td>10.100000</td>\n",
       "      <td>6.000000</td>\n",
       "    </tr>\n",
       "    <tr>\n",
       "      <th>75%</th>\n",
       "      <td>9.000000</td>\n",
       "      <td>0.630000</td>\n",
       "      <td>0.390000</td>\n",
       "      <td>2.500000</td>\n",
       "      <td>0.087000</td>\n",
       "      <td>20.000000</td>\n",
       "      <td>55.000000</td>\n",
       "      <td>0.997575</td>\n",
       "      <td>3.407500</td>\n",
       "      <td>0.700000</td>\n",
       "      <td>11.000000</td>\n",
       "      <td>6.000000</td>\n",
       "    </tr>\n",
       "    <tr>\n",
       "      <th>max</th>\n",
       "      <td>12.300000</td>\n",
       "      <td>1.005000</td>\n",
       "      <td>0.730000</td>\n",
       "      <td>3.600000</td>\n",
       "      <td>0.119000</td>\n",
       "      <td>41.000000</td>\n",
       "      <td>121.000000</td>\n",
       "      <td>1.001000</td>\n",
       "      <td>3.680000</td>\n",
       "      <td>0.980000</td>\n",
       "      <td>13.400000</td>\n",
       "      <td>8.000000</td>\n",
       "    </tr>\n",
       "  </tbody>\n",
       "</table>\n",
       "</div>"
      ],
      "text/plain": [
       "       fixed acidity (0)  volatile acidity (1)  citric acid (2)  \\\n",
       "count        1190.000000           1190.000000      1190.000000   \n",
       "mean            8.164706              0.522853         0.247882   \n",
       "std             1.461982              0.164905         0.180214   \n",
       "min             5.100000              0.120000         0.000000   \n",
       "25%             7.100000              0.390000         0.080000   \n",
       "50%             7.800000              0.520000         0.240000   \n",
       "75%             9.000000              0.630000         0.390000   \n",
       "max            12.300000              1.005000         0.730000   \n",
       "\n",
       "       residual sugar (3)  chlorides (4)  free sulfur dioxide (5)  \\\n",
       "count         1190.000000    1190.000000              1190.000000   \n",
       "mean             2.185126       0.078475                14.947899   \n",
       "std              0.442208       0.014314                 8.758452   \n",
       "min              1.200000       0.041000                 1.000000   \n",
       "25%              1.900000       0.069000                 8.000000   \n",
       "50%              2.100000       0.078000                13.000000   \n",
       "75%              2.500000       0.087000                20.000000   \n",
       "max              3.600000       0.119000                41.000000   \n",
       "\n",
       "       total sulfur dioxide (6)  density (7)       pH (8)  sulphates (9)  \\\n",
       "count               1190.000000  1190.000000  1190.000000    1190.000000   \n",
       "mean                  41.985714     0.996571     3.324277       0.632252   \n",
       "std                   25.904021     0.001604     0.131934       0.116385   \n",
       "min                    6.000000     0.992350     2.940000       0.330000   \n",
       "25%                   22.000000     0.995503     3.230000       0.550000   \n",
       "50%                   36.000000     0.996600     3.330000       0.610000   \n",
       "75%                   55.000000     0.997575     3.407500       0.700000   \n",
       "max                  121.000000     1.001000     3.680000       0.980000   \n",
       "\n",
       "       alcohol (10)       target  \n",
       "count   1190.000000  1190.000000  \n",
       "mean      10.365742     5.639496  \n",
       "std        0.975640     0.764181  \n",
       "min        8.700000     3.000000  \n",
       "25%        9.500000     5.000000  \n",
       "50%       10.100000     6.000000  \n",
       "75%       11.000000     6.000000  \n",
       "max       13.400000     8.000000  "
      ]
     },
     "execution_count": 199,
     "metadata": {},
     "output_type": "execute_result"
    }
   ],
   "source": [
    "stats"
   ]
  },
  {
   "cell_type": "markdown",
   "metadata": {
    "collapsed": true
   },
   "source": [
    "Input for Sample Prediction #2"
   ]
  },
  {
   "cell_type": "code",
   "execution_count": 201,
   "metadata": {
    "collapsed": false
   },
   "outputs": [
    {
     "data": {
      "text/plain": [
       "[5.0, 1.1, 0.74, 1.1, 0.12, 0.9, 122, 1.1, 3.7, 0.3, 8.6]"
      ]
     },
     "execution_count": 201,
     "metadata": {},
     "output_type": "execute_result"
    }
   ],
   "source": [
    "fixed_acidity_0 = 5.0\n",
    "volatile_acidity_1 = 1.1\n",
    "citric_acid_2 = 0.74\n",
    "residual_sugar_3 = 1.1\n",
    "chlorides_4 = 0.12\n",
    "free_sulfur_dioxide_5 = 0.9\n",
    "total_sulfur_dioxide_6 = 122\n",
    "density_7 = 1.1\n",
    "pH_8 = 3.7\n",
    "sulphates_9 = 0.30\n",
    "alcohol_10 = 8.6\n",
    "\n",
    "predsamp_original_sequence, taste_prediction = [], []\n",
    "predsamp_original_sequence.append(fixed_acidity_0)\n",
    "predsamp_original_sequence.append(volatile_acidity_1)\n",
    "predsamp_original_sequence.append(citric_acid_2)\n",
    "predsamp_original_sequence.append(residual_sugar_3)\n",
    "predsamp_original_sequence.append(chlorides_4)\n",
    "predsamp_original_sequence.append(free_sulfur_dioxide_5)\n",
    "predsamp_original_sequence.append(total_sulfur_dioxide_6)\n",
    "predsamp_original_sequence.append(density_7)\n",
    "predsamp_original_sequence.append(pH_8)\n",
    "predsamp_original_sequence.append(sulphates_9)\n",
    "predsamp_original_sequence.append(alcohol_10)\n",
    "predsamp_original_sequence"
   ]
  },
  {
   "cell_type": "markdown",
   "metadata": {},
   "source": [
    "Reorder input values for predictions to match the order of model's beta coefficients"
   ]
  },
  {
   "cell_type": "code",
   "execution_count": 202,
   "metadata": {
    "collapsed": false
   },
   "outputs": [
    {
     "name": "stdout",
     "output_type": "stream",
     "text": [
      "preds1 [8.6, 0.3, 1.1, 3.7, 122, 0.74, 0.12, 0.9, 1.1, 1.1, 5.0] \n",
      "preds2 [8.6, 0.3, 1.1, 122, 3.7, 0.12, 1.1, 0.74, 0.9, 5.0, 1.1]\n"
     ]
    }
   ],
   "source": [
    "preds1 = [predsamp_original_sequence[i] for i in stepwise_indices]\n",
    "preds2 = [predsamp_original_sequence[i] for i in lars_indices]\n",
    "print 'preds1', preds1, '\\npreds2', preds2"
   ]
  },
  {
   "cell_type": "markdown",
   "metadata": {},
   "source": [
    "Normalize data for the models that require scaled input values"
   ]
  },
  {
   "cell_type": "code",
   "execution_count": 203,
   "metadata": {
    "collapsed": false
   },
   "outputs": [
    {
     "name": "stdout",
     "output_type": "stream",
     "text": [
      "predvals_scaled1\n",
      "[-1.8098303277304484, -2.8547671392684193, 3.499885314700745, 2.847814486326419, 3.088875122089039, 2.73073300839365, 2.9010574519440997, -1.6039248255220635, -2.4538801741839116, 64.46821914384941, -2.1646684513895313] \n",
      "\n",
      "predvals_scaled2\n",
      "[-1.8098303277304484, -2.8547671392684193, 3.499885314700745, 3.088875122089039, 2.847814486326419, 2.9010574519440997, 64.46821914384941, 2.73073300839365, -1.6039248255220635, -2.1646684513895313, -2.4538801741839116]\n"
     ]
    }
   ],
   "source": [
    "predvals_scaled1 = scale_vals(preds1, f_means_stepw_seq, f_std_stepw_seq)\n",
    "predvals_scaled2 = scale_vals(preds2, f_means_lars_seq, f_std_lars_seq)\n",
    "print 'predvals_scaled1\\n', predvals_scaled1, '\\n\\npredvals_scaled2\\n', predvals_scaled2 "
   ]
  },
  {
   "cell_type": "markdown",
   "metadata": {},
   "source": [
    "Run Sample Predictions"
   ]
  },
  {
   "cell_type": "code",
   "execution_count": 204,
   "metadata": {
    "collapsed": false
   },
   "outputs": [
    {
     "name": "stdout",
     "output_type": "stream",
     "text": [
      "Stepwise Regression\n",
      "\n",
      "beta coefficients\n",
      "[4.20601, 0.31667, 1.73819, -0.92395, -0.68866, -0.00195, -0.37727] \n",
      "\n",
      "wine quality taste prediction\n",
      "3.3693622\n"
     ]
    }
   ],
   "source": [
    "#run sample prediction using Stepwise Regression (model #2/record #0)\n",
    "parameters = np.array(df_beta_coefs[0].T).tolist()\n",
    "coeffs = []\n",
    "for p in parameters: \n",
    "    coeffs.append(p[0])\n",
    "prediction = coeffs[0] + predict(preds1[0:6], coeffs[1:])\n",
    "print 'Stepwise Regression'\n",
    "print '\\nbeta coefficients\\n', coeffs, '\\n\\nwine quality taste prediction\\n', prediction\n",
    "taste_prediction.append(prediction)"
   ]
  },
  {
   "cell_type": "code",
   "execution_count": 205,
   "metadata": {
    "collapsed": false
   },
   "outputs": [
    {
     "name": "stdout",
     "output_type": "stream",
     "text": [
      "Linear Regression\n",
      "\n",
      "beta coefficients\n",
      "[26.41577, 0.28699, 1.74857, -0.85407, -0.61195, -0.00251, -0.32102, -1.49141, 0.00299, 0.01624, -22.39029, 0.01952] \n",
      "\n",
      "wine quality taste prediction\n",
      "0.970855\n"
     ]
    }
   ],
   "source": [
    "#run sample prediction using Linear Regression (model #3/record #1)\n",
    "parameters = np.array(df_beta_coefs[1].T).tolist()\n",
    "coeffs = []\n",
    "for p in parameters: \n",
    "    coeffs.append(p[0])\n",
    "prediction = coeffs[0] + predict(preds1, coeffs[1:])\n",
    "print 'Linear Regression'\n",
    "print '\\nbeta coefficients\\n', coeffs, '\\n\\nwine quality taste prediction\\n', prediction\n",
    "taste_prediction.append(prediction)"
   ]
  },
  {
   "cell_type": "code",
   "execution_count": 206,
   "metadata": {
    "collapsed": false
   },
   "outputs": [
    {
     "name": "stdout",
     "output_type": "stream",
     "text": [
      "Lasso Regression (skl)\n",
      "\n",
      "beta coefficients\n",
      "[5.6395, 0.28153, 0.19545, -0.11771, -0.04862, -0.06677, -0.01629, -0.02116, -0.01125, 0.00512, 0.0, -0.0] \n",
      "\n",
      "wine quality taste prediction\n",
      "2.36937446396\n"
     ]
    }
   ],
   "source": [
    "#run sample prediction using Lasso Regression (model #8(skl) / record #4)\n",
    "parameters = np.array(df_beta_coefs[4].T).tolist()\n",
    "coeffs = []\n",
    "for p in parameters: \n",
    "    coeffs.append(p[0])\n",
    "prediction = coeffs[0] + predict(predvals_scaled2, coeffs[1:])\n",
    "print 'Lasso Regression (skl)'\n",
    "print '\\nbeta coefficients\\n', coeffs, '\\n\\nwine quality taste prediction\\n', prediction\n",
    "taste_prediction.append(prediction)"
   ]
  },
  {
   "cell_type": "code",
   "execution_count": 207,
   "metadata": {
    "collapsed": false
   },
   "outputs": [
    {
     "name": "stdout",
     "output_type": "stream",
     "text": [
      "Gradient Descent Regression (scr, 11 fea)\n",
      "\n",
      "beta coefficients\n",
      "[5.6393, 0.27976, 0.20349, -0.14058, -0.08045, -0.06495, -0.05787, -0.02119, 0.02599, 0.00702, -0.03625, 0.02912] \n",
      "\n",
      "wine quality taste prediction\n",
      "0.95190104929\n"
     ]
    }
   ],
   "source": [
    "#run sample prediction using Gradient Descent Regr (model #9 (scr, 11 fea) / record #5)\n",
    "parameters = np.array(df_beta_coefs[5].T).tolist()\n",
    "coeffs = []\n",
    "for p in parameters: \n",
    "    coeffs.append(p[0])\n",
    "prediction = coeffs[0] + predict(predvals_scaled1, coeffs[1:])\n",
    "print 'Gradient Descent Regression (scr, 11 fea)'\n",
    "print '\\nbeta coefficients\\n', coeffs, '\\n\\nwine quality taste prediction\\n', prediction\n",
    "taste_prediction.append(prediction)"
   ]
  },
  {
   "cell_type": "code",
   "execution_count": 208,
   "metadata": {
    "collapsed": false
   },
   "outputs": [
    {
     "name": "stdout",
     "output_type": "stream",
     "text": [
      "Gradient Descent Regression (skl, 11f)\n",
      "\n",
      "beta coefficients\n",
      "[5.64244, 0.2576, 0.20435, -0.13446, -0.07029, -0.06827, -0.05061, -0.01666, 0.00882, 0.01837, -0.05505, 0.0417] \n",
      "\n",
      "wine quality taste prediction\n",
      "-0.173789470333\n"
     ]
    }
   ],
   "source": [
    "#run sample prediction using Gradient Descent Regr (model #10(skl, 11f) / record #6)\n",
    "parameters = np.array(df_beta_coefs[6].T).tolist()\n",
    "coeffs = []\n",
    "for p in parameters: \n",
    "    coeffs.append(p[0])\n",
    "prediction = coeffs[0] + predict(predvals_scaled1, coeffs[1:])\n",
    "print 'Gradient Descent Regression (skl, 11f)'\n",
    "print '\\nbeta coefficients\\n', coeffs, '\\n\\nwine quality taste prediction\\n', prediction\n",
    "taste_prediction.append(prediction)"
   ]
  },
  {
   "cell_type": "code",
   "execution_count": 209,
   "metadata": {
    "collapsed": false
   },
   "outputs": [
    {
     "name": "stdout",
     "output_type": "stream",
     "text": [
      "Gradient Descent Regression (scr, 6 fea)\n",
      "\n",
      "beta coefficients\n",
      "[5.63971, 0.30886, 0.20206, -0.15247, -0.09076, -0.05045, -0.06802] \n",
      "\n",
      "wine quality taste prediction\n",
      "3.37021819096\n"
     ]
    }
   ],
   "source": [
    "#run sample prediction using Gradient Descent Regression (model #11(scr, 6 fea) / record #7)\n",
    "parameters = np.array(df_beta_coefs[7].T).tolist()\n",
    "coeffs = []\n",
    "for p in parameters: \n",
    "    coeffs.append(p[0])\n",
    "prediction = coeffs[0] + predict(predvals_scaled1[0:6], coeffs[1:])\n",
    "print 'Gradient Descent Regression (scr, 6 fea)'\n",
    "print '\\nbeta coefficients\\n', coeffs, '\\n\\nwine quality taste prediction\\n', prediction\n",
    "taste_prediction.append(prediction)"
   ]
  },
  {
   "cell_type": "code",
   "execution_count": 210,
   "metadata": {
    "collapsed": false
   },
   "outputs": [
    {
     "name": "stdout",
     "output_type": "stream",
     "text": [
      "Gradient Descent Regression (skl, 6 fea)\n",
      "\n",
      "beta coefficients\n",
      "[5.6419, 0.30396, 0.19779, -0.15172, -0.08864, -0.06091, -0.06735] \n",
      "\n",
      "wine quality taste prediction\n",
      "3.37164845329\n"
     ]
    }
   ],
   "source": [
    "#run sample prediction using Gradient Descent Regression (model #12(skl, 6 fea) / record #8)\n",
    "parameters = np.array(df_beta_coefs[8].T).tolist()\n",
    "coeffs = []\n",
    "for p in parameters: \n",
    "    coeffs.append(p[0])\n",
    "prediction = coeffs[0] + predict(predvals_scaled1[0:6], coeffs[1:])\n",
    "print 'Gradient Descent Regression (skl, 6 fea)'\n",
    "print '\\nbeta coefficients\\n', coeffs, '\\n\\nwine quality taste prediction\\n', prediction\n",
    "taste_prediction.append(prediction)"
   ]
  },
  {
   "cell_type": "code",
   "execution_count": 211,
   "metadata": {
    "collapsed": false
   },
   "outputs": [
    {
     "name": "stdout",
     "output_type": "stream",
     "text": [
      "Ridge Regression (scr, 11 fea)\n",
      "\n",
      "beta coefficients\n",
      "[5.6393, 0.27968, 0.20348, -0.14054, -0.0804, -0.06496, -0.05781, -0.02119, 0.02599, 0.00704, -0.03634, 0.02917] \n",
      "\n",
      "wine quality taste prediction\n",
      "0.946530274004\n"
     ]
    }
   ],
   "source": [
    "#run sample prediction using Ridge Regression (model #15(scr, 11 fea) / record #9)\n",
    "parameters = np.array(df_beta_coefs[9].T).tolist() \n",
    "coeffs = []\n",
    "for p in parameters: \n",
    "    coeffs.append(p[0])\n",
    "prediction = coeffs[0] + predict(predvals_scaled1, coeffs[1:])\n",
    "print 'Ridge Regression (scr, 11 fea)'\n",
    "print '\\nbeta coefficients\\n', coeffs, '\\n\\nwine quality taste prediction\\n', prediction\n",
    "taste_prediction.append(prediction)"
   ]
  },
  {
   "cell_type": "code",
   "execution_count": 212,
   "metadata": {
    "collapsed": false
   },
   "outputs": [
    {
     "name": "stdout",
     "output_type": "stream",
     "text": [
      "Ridge Regression (skl, 11 fea)\n",
      "\n",
      "beta coefficients\n",
      "[4.07688, 0.31635, 1.59243, -0.84541, -0.63148, -0.00267, -0.27607, -0.28812, 0.0035, -0.01902, -0.01479, 0.00309] \n",
      "\n",
      "wine quality taste prediction\n",
      "3.4255948\n"
     ]
    }
   ],
   "source": [
    "#run sample prediction using Ridge Regression (model #16(skl, 11 fea) / record #10)\n",
    "parameters = np.array(df_beta_coefs[10].T).tolist() \n",
    "coeffs = []\n",
    "for p in parameters: \n",
    "    coeffs.append(p[0])\n",
    "prediction = coeffs[0] + predict(preds1, coeffs[1:])\n",
    "print 'Ridge Regression (skl, 11 fea)'\n",
    "print '\\nbeta coefficients\\n', coeffs, '\\n\\nwine quality taste prediction\\n', prediction\n",
    "taste_prediction.append(prediction)"
   ]
  },
  {
   "cell_type": "code",
   "execution_count": 213,
   "metadata": {
    "collapsed": false
   },
   "outputs": [
    {
     "data": {
      "text/html": [
       "<div>\n",
       "<table border=\"1\" class=\"dataframe\">\n",
       "  <thead>\n",
       "    <tr style=\"text-align: right;\">\n",
       "      <th></th>\n",
       "      <th>taste prediciton on input values 2</th>\n",
       "    </tr>\n",
       "  </thead>\n",
       "  <tbody>\n",
       "    <tr>\n",
       "      <th>Stepwise Regression</th>\n",
       "      <td>3.369362</td>\n",
       "    </tr>\n",
       "    <tr>\n",
       "      <th>Linear Regression</th>\n",
       "      <td>0.970855</td>\n",
       "    </tr>\n",
       "    <tr>\n",
       "      <th>Lasso alpha 0.01, sklearn, x scaled</th>\n",
       "      <td>2.369374</td>\n",
       "    </tr>\n",
       "    <tr>\n",
       "      <th>Gradient Descent, from scratch, x scaled</th>\n",
       "      <td>0.951901</td>\n",
       "    </tr>\n",
       "    <tr>\n",
       "      <th>Gradient Descent, sklearn, x scaled</th>\n",
       "      <td>-0.173789</td>\n",
       "    </tr>\n",
       "    <tr>\n",
       "      <th>Gradient Descent 6 features, from scratch, x scaled</th>\n",
       "      <td>3.370218</td>\n",
       "    </tr>\n",
       "    <tr>\n",
       "      <th>Gradient Descent 6 features, sklearn, x scaled</th>\n",
       "      <td>3.371648</td>\n",
       "    </tr>\n",
       "    <tr>\n",
       "      <th>Ridge alpha .0001, from scratch, x scaled</th>\n",
       "      <td>0.946530</td>\n",
       "    </tr>\n",
       "    <tr>\n",
       "      <th>Ridge alpha 1, sklearn</th>\n",
       "      <td>3.425595</td>\n",
       "    </tr>\n",
       "  </tbody>\n",
       "</table>\n",
       "</div>"
      ],
      "text/plain": [
       "                                                    taste prediciton on input values 2\n",
       "Stepwise Regression                                                           3.369362\n",
       "Linear Regression                                                             0.970855\n",
       "Lasso alpha 0.01, sklearn, x scaled                                           2.369374\n",
       "Gradient Descent, from scratch, x scaled                                      0.951901\n",
       "Gradient Descent, sklearn, x scaled                                          -0.173789\n",
       "Gradient Descent 6 features, from scratch, x sc...                            3.370218\n",
       "Gradient Descent 6 features, sklearn, x scaled                                3.371648\n",
       "Ridge alpha .0001, from scratch, x scaled                                     0.946530\n",
       "Ridge alpha 1, sklearn                                                        3.425595"
      ]
     },
     "execution_count": 213,
     "metadata": {},
     "output_type": "execute_result"
    }
   ],
   "source": [
    "df_taste = pd.DataFrame(taste_prediction, index=models, \n",
    "                        columns = ['taste prediciton on input values 2'])\n",
    "df_taste"
   ]
  }
 ],
 "metadata": {
  "kernelspec": {
   "display_name": "Python 2",
   "language": "python",
   "name": "python2"
  },
  "language_info": {
   "codemirror_mode": {
    "name": "ipython",
    "version": 2
   },
   "file_extension": ".py",
   "mimetype": "text/x-python",
   "name": "python",
   "nbconvert_exporter": "python",
   "pygments_lexer": "ipython2",
   "version": "2.7.12"
  }
 },
 "nbformat": 4,
 "nbformat_minor": 0
}
